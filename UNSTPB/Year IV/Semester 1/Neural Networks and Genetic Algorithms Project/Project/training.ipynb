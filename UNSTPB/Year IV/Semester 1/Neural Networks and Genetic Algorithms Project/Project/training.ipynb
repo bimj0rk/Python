{
 "cells": [
  {
   "cell_type": "code",
   "execution_count": null,
   "id": "5e6853bf-38d0-4008-b7e7-f05764d3aecb",
   "metadata": {},
   "outputs": [
    {
     "name": "stderr",
     "output_type": "stream",
     "text": [
      "2025-01-20 07:17:14.168014: E external/local_xla/xla/stream_executor/cuda/cuda_fft.cc:477] Unable to register cuFFT factory: Attempting to register factory for plugin cuFFT when one has already been registered\n",
      "WARNING: All log messages before absl::InitializeLog() is called are written to STDERR\n",
      "E0000 00:00:1737350234.182713  353111 cuda_dnn.cc:8310] Unable to register cuDNN factory: Attempting to register factory for plugin cuDNN when one has already been registered\n",
      "E0000 00:00:1737350234.187283  353111 cuda_blas.cc:1418] Unable to register cuBLAS factory: Attempting to register factory for plugin cuBLAS when one has already been registered\n",
      "2025-01-20 07:17:14.202190: I tensorflow/core/platform/cpu_feature_guard.cc:210] This TensorFlow binary is optimized to use available CPU instructions in performance-critical operations.\n",
      "To enable the following instructions: AVX2 FMA, in other operations, rebuild TensorFlow with the appropriate compiler flags.\n"
     ]
    },
    {
     "name": "stdout",
     "output_type": "stream",
     "text": [
      "GPU found PhysicalDevice(name='/physical_device:GPU:0', device_type='GPU')\n",
      "Found 6480 files belonging to 10 classes.\n",
      "Using 4860 files for training.\n"
     ]
    },
    {
     "name": "stderr",
     "output_type": "stream",
     "text": [
      "I0000 00:00:1737350236.832053  353111 gpu_device.cc:2022] Created device /job:localhost/replica:0/task:0/device:GPU:0 with 4689 MB memory:  -> device: 0, name: NVIDIA GeForce GTX 1060 6GB, pci bus id: 0000:01:00.0, compute capability: 6.1\n"
     ]
    },
    {
     "name": "stdout",
     "output_type": "stream",
     "text": [
      "Found 6480 files belonging to 10 classes.\n",
      "Using 1620 files for validation.\n",
      "Model: \"sequential_1\"\n",
      "_________________________________________________________________\n",
      " Layer (type)                Output Shape              Param #   \n",
      "=================================================================\n",
      " conv2d (Conv2D)             (None, 222, 222, 64)      1792      \n",
      "                                                                 \n",
      " activation (Activation)     (None, 222, 222, 64)      0         \n",
      "                                                                 \n",
      " max_pooling2d (MaxPooling2  (None, 111, 111, 64)      0         \n",
      " D)                                                              \n",
      "                                                                 \n",
      " conv2d_1 (Conv2D)           (None, 109, 109, 64)      36928     \n",
      "                                                                 \n",
      " activation_1 (Activation)   (None, 109, 109, 64)      0         \n",
      "                                                                 \n",
      " max_pooling2d_1 (MaxPoolin  (None, 54, 54, 64)        0         \n",
      " g2D)                                                            \n",
      "                                                                 \n",
      " conv2d_2 (Conv2D)           (None, 52, 52, 128)       73856     \n",
      "                                                                 \n",
      " activation_2 (Activation)   (None, 52, 52, 128)       0         \n",
      "                                                                 \n",
      " max_pooling2d_2 (MaxPoolin  (None, 26, 26, 128)       0         \n",
      " g2D)                                                            \n",
      "                                                                 \n",
      " conv2d_3 (Conv2D)           (None, 24, 24, 128)       147584    \n",
      "                                                                 \n",
      " activation_3 (Activation)   (None, 24, 24, 128)       0         \n",
      "                                                                 \n",
      " max_pooling2d_3 (MaxPoolin  (None, 12, 12, 128)       0         \n",
      " g2D)                                                            \n",
      "                                                                 \n",
      " conv2d_4 (Conv2D)           (None, 8, 8, 256)         819456    \n",
      "                                                                 \n",
      " activation_4 (Activation)   (None, 8, 8, 256)         0         \n",
      "                                                                 \n",
      " max_pooling2d_4 (MaxPoolin  (None, 4, 4, 256)         0         \n",
      " g2D)                                                            \n",
      "                                                                 \n",
      " conv2d_5 (Conv2D)           (None, 2, 2, 256)         590080    \n",
      "                                                                 \n",
      " activation_5 (Activation)   (None, 2, 2, 256)         0         \n",
      "                                                                 \n",
      " max_pooling2d_5 (MaxPoolin  (None, 1, 1, 256)         0         \n",
      " g2D)                                                            \n",
      "                                                                 \n",
      " flatten (Flatten)           (None, 256)               0         \n",
      "                                                                 \n",
      " dense (Dense)               (None, 512)               131584    \n",
      "                                                                 \n",
      " dropout (Dropout)           (None, 512)               0         \n",
      "                                                                 \n",
      " dense_1 (Dense)             (None, 10)                5130      \n",
      "                                                                 \n",
      "=================================================================\n",
      "Total params: 1806410 (6.89 MB)\n",
      "Trainable params: 1806410 (6.89 MB)\n",
      "Non-trainable params: 0 (0.00 Byte)\n",
      "_________________________________________________________________\n",
      "Epoch 1/100\n"
     ]
    },
    {
     "name": "stderr",
     "output_type": "stream",
     "text": [
      "/home/adiicmp/GitHub Repos/Python/.venv/lib/python3.12/site-packages/tf_keras/src/backend.py:5729: UserWarning: \"`sparse_categorical_crossentropy` received `from_logits=True`, but the `output` argument was produced by a Softmax activation and thus does not represent logits. Was this intended?\n",
      "  output, from_logits = _get_logits(\n",
      "I0000 00:00:1737350244.742888  353302 cuda_dnn.cc:529] Loaded cuDNN version 90300\n",
      "WARNING: All log messages before absl::InitializeLog() is called are written to STDERR\n",
      "I0000 00:00:1737350247.063046  353302 service.cc:148] XLA service 0x7cacc4919810 initialized for platform CUDA (this does not guarantee that XLA will be used). Devices:\n",
      "I0000 00:00:1737350247.063526  353302 service.cc:156]   StreamExecutor device (0): NVIDIA GeForce GTX 1060 6GB, Compute Capability 6.1\n",
      "2025-01-20 07:17:27.068687: I tensorflow/compiler/mlir/tensorflow/utils/dump_mlir_util.cc:268] disabling MLIR crash reproducer, set env var `MLIR_CRASH_REPRODUCER_DIRECTORY` to enable.\n",
      "I0000 00:00:1737350247.147884  353302 device_compiler.h:188] Compiled cluster using XLA!  This line is logged at most once for the lifetime of the process.\n"
     ]
    },
    {
     "name": "stdout",
     "output_type": "stream",
     "text": [
      "59/76 [======================>.......] - ETA: 7s - loss: 6.6360 - accuracy: 0.1343"
     ]
    },
    {
     "name": "stderr",
     "output_type": "stream",
     "text": [
      "2025-01-20 07:17:57.160753: W tensorflow/core/lib/png/png_io.cc:89] PNG warning: iCCP: known incorrect sRGB profile\n"
     ]
    },
    {
     "name": "stdout",
     "output_type": "stream",
     "text": [
      "76/76 [==============================] - 63s 684ms/step - loss: 6.1303 - accuracy: 0.1377 - val_loss: 3.9793 - val_accuracy: 0.1475\n",
      "Epoch 2/100\n",
      "58/76 [=====================>........] - ETA: 9s - loss: 3.3176 - accuracy: 0.1665 "
     ]
    },
    {
     "name": "stderr",
     "output_type": "stream",
     "text": [
      "2025-01-20 07:18:57.104739: W tensorflow/core/lib/png/png_io.cc:89] PNG warning: iCCP: known incorrect sRGB profile\n"
     ]
    },
    {
     "name": "stdout",
     "output_type": "stream",
     "text": [
      "76/76 [==============================] - 56s 685ms/step - loss: 3.1759 - accuracy: 0.1660 - val_loss: 2.5673 - val_accuracy: 0.2111\n",
      "Epoch 3/100\n",
      "60/76 [======================>.......] - ETA: 8s - loss: 2.4151 - accuracy: 0.1984"
     ]
    },
    {
     "name": "stderr",
     "output_type": "stream",
     "text": [
      "2025-01-20 07:19:54.210394: W tensorflow/core/lib/png/png_io.cc:89] PNG warning: iCCP: known incorrect sRGB profile\n"
     ]
    },
    {
     "name": "stdout",
     "output_type": "stream",
     "text": [
      "76/76 [==============================] - 56s 684ms/step - loss: 2.3840 - accuracy: 0.2002 - val_loss: 2.2094 - val_accuracy: 0.2198\n",
      "Epoch 4/100\n",
      "59/76 [======================>.......] - ETA: 8s - loss: 2.1469 - accuracy: 0.2415"
     ]
    },
    {
     "name": "stderr",
     "output_type": "stream",
     "text": [
      "2025-01-20 07:20:48.297918: W tensorflow/core/lib/png/png_io.cc:89] PNG warning: iCCP: known incorrect sRGB profile\n"
     ]
    },
    {
     "name": "stdout",
     "output_type": "stream",
     "text": [
      "76/76 [==============================] - 54s 658ms/step - loss: 2.1417 - accuracy: 0.2434 - val_loss: 2.0160 - val_accuracy: 0.2506\n",
      "Epoch 5/100\n",
      "59/76 [======================>.......] - ETA: 8s - loss: 1.9974 - accuracy: 0.2831"
     ]
    },
    {
     "name": "stderr",
     "output_type": "stream",
     "text": [
      "2025-01-20 07:21:42.350574: W tensorflow/core/lib/png/png_io.cc:89] PNG warning: iCCP: known incorrect sRGB profile\n"
     ]
    },
    {
     "name": "stdout",
     "output_type": "stream",
     "text": [
      "76/76 [==============================] - 53s 645ms/step - loss: 2.0032 - accuracy: 0.2852 - val_loss: 1.9894 - val_accuracy: 0.2870\n",
      "Epoch 6/100\n",
      "59/76 [======================>.......] - ETA: 8s - loss: 1.9097 - accuracy: 0.3281"
     ]
    },
    {
     "name": "stderr",
     "output_type": "stream",
     "text": [
      "2025-01-20 07:22:33.734402: W tensorflow/core/lib/png/png_io.cc:89] PNG warning: iCCP: known incorrect sRGB profile\n"
     ]
    },
    {
     "name": "stdout",
     "output_type": "stream",
     "text": [
      "76/76 [==============================] - 52s 632ms/step - loss: 1.9030 - accuracy: 0.3261 - val_loss: 1.8802 - val_accuracy: 0.3235\n",
      "Epoch 7/100\n",
      "59/76 [======================>.......] - ETA: 8s - loss: 1.8422 - accuracy: 0.3435"
     ]
    },
    {
     "name": "stderr",
     "output_type": "stream",
     "text": [
      "2025-01-20 07:23:27.798816: W tensorflow/core/lib/png/png_io.cc:89] PNG warning: iCCP: known incorrect sRGB profile\n"
     ]
    },
    {
     "name": "stdout",
     "output_type": "stream",
     "text": [
      "76/76 [==============================] - 54s 651ms/step - loss: 1.8363 - accuracy: 0.3494 - val_loss: 1.7075 - val_accuracy: 0.3907\n",
      "Epoch 8/100\n",
      "60/76 [======================>.......] - ETA: 7s - loss: 1.7657 - accuracy: 0.3815"
     ]
    },
    {
     "name": "stderr",
     "output_type": "stream",
     "text": [
      "2025-01-20 07:24:19.866749: W tensorflow/core/lib/png/png_io.cc:89] PNG warning: iCCP: known incorrect sRGB profile\n"
     ]
    },
    {
     "name": "stdout",
     "output_type": "stream",
     "text": [
      "76/76 [==============================] - 52s 628ms/step - loss: 1.7692 - accuracy: 0.3821 - val_loss: 1.7356 - val_accuracy: 0.4012\n",
      "Epoch 9/100\n",
      "60/76 [======================>.......] - ETA: 8s - loss: 1.7452 - accuracy: 0.3945"
     ]
    },
    {
     "name": "stderr",
     "output_type": "stream",
     "text": [
      "2025-01-20 07:25:13.455031: W tensorflow/core/lib/png/png_io.cc:89] PNG warning: iCCP: known incorrect sRGB profile\n"
     ]
    },
    {
     "name": "stdout",
     "output_type": "stream",
     "text": [
      "76/76 [==============================] - 54s 657ms/step - loss: 1.7350 - accuracy: 0.3957 - val_loss: 1.6078 - val_accuracy: 0.4407\n",
      "Epoch 10/100\n",
      "61/76 [=======================>......] - ETA: 7s - loss: 1.6917 - accuracy: 0.4152"
     ]
    },
    {
     "name": "stderr",
     "output_type": "stream",
     "text": [
      "2025-01-20 07:26:07.713879: W tensorflow/core/lib/png/png_io.cc:89] PNG warning: iCCP: known incorrect sRGB profile\n"
     ]
    },
    {
     "name": "stdout",
     "output_type": "stream",
     "text": [
      "76/76 [==============================] - 53s 645ms/step - loss: 1.6846 - accuracy: 0.4130 - val_loss: 1.6523 - val_accuracy: 0.4333\n",
      "Epoch 11/100\n",
      "59/76 [======================>.......] - ETA: 8s - loss: 1.6482 - accuracy: 0.4285"
     ]
    },
    {
     "name": "stderr",
     "output_type": "stream",
     "text": [
      "2025-01-20 07:27:00.102599: W tensorflow/core/lib/png/png_io.cc:89] PNG warning: iCCP: known incorrect sRGB profile\n"
     ]
    },
    {
     "name": "stdout",
     "output_type": "stream",
     "text": [
      "76/76 [==============================] - 54s 656ms/step - loss: 1.6405 - accuracy: 0.4325 - val_loss: 1.7204 - val_accuracy: 0.4062\n",
      "Epoch 12/100\n",
      "59/76 [======================>.......] - ETA: 8s - loss: 1.6016 - accuracy: 0.4595"
     ]
    },
    {
     "name": "stderr",
     "output_type": "stream",
     "text": [
      "2025-01-20 07:27:53.544474: W tensorflow/core/lib/png/png_io.cc:89] PNG warning: iCCP: known incorrect sRGB profile\n"
     ]
    },
    {
     "name": "stdout",
     "output_type": "stream",
     "text": [
      "76/76 [==============================] - 53s 646ms/step - loss: 1.6051 - accuracy: 0.4597 - val_loss: 1.5029 - val_accuracy: 0.4772\n",
      "Epoch 13/100\n",
      "60/76 [======================>.......] - ETA: 7s - loss: 1.5927 - accuracy: 0.4646"
     ]
    },
    {
     "name": "stderr",
     "output_type": "stream",
     "text": [
      "2025-01-20 07:28:46.788846: W tensorflow/core/lib/png/png_io.cc:89] PNG warning: iCCP: known incorrect sRGB profile\n"
     ]
    },
    {
     "name": "stdout",
     "output_type": "stream",
     "text": [
      "76/76 [==============================] - 52s 633ms/step - loss: 1.5846 - accuracy: 0.4675 - val_loss: 1.5685 - val_accuracy: 0.4784\n",
      "Epoch 14/100\n",
      "58/76 [=====================>........] - ETA: 9s - loss: 1.5178 - accuracy: 0.4895"
     ]
    },
    {
     "name": "stderr",
     "output_type": "stream",
     "text": [
      "2025-01-20 07:29:39.887594: W tensorflow/core/lib/png/png_io.cc:89] PNG warning: iCCP: known incorrect sRGB profile\n"
     ]
    },
    {
     "name": "stdout",
     "output_type": "stream",
     "text": [
      "76/76 [==============================] - 54s 654ms/step - loss: 1.5227 - accuracy: 0.4942 - val_loss: 1.4345 - val_accuracy: 0.5191\n",
      "Epoch 15/100\n",
      "60/76 [======================>.......] - ETA: 7s - loss: 1.5103 - accuracy: 0.4961"
     ]
    },
    {
     "name": "stderr",
     "output_type": "stream",
     "text": [
      "2025-01-20 07:30:33.284134: W tensorflow/core/lib/png/png_io.cc:89] PNG warning: iCCP: known incorrect sRGB profile\n"
     ]
    },
    {
     "name": "stdout",
     "output_type": "stream",
     "text": [
      "76/76 [==============================] - 52s 633ms/step - loss: 1.5037 - accuracy: 0.4990 - val_loss: 1.5523 - val_accuracy: 0.4889\n",
      "Epoch 16/100\n",
      "61/76 [=======================>......] - ETA: 7s - loss: 1.4212 - accuracy: 0.5187"
     ]
    },
    {
     "name": "stderr",
     "output_type": "stream",
     "text": [
      "2025-01-20 07:31:26.518979: W tensorflow/core/lib/png/png_io.cc:89] PNG warning: iCCP: known incorrect sRGB profile\n"
     ]
    },
    {
     "name": "stdout",
     "output_type": "stream",
     "text": [
      "76/76 [==============================] - 53s 644ms/step - loss: 1.4324 - accuracy: 0.5158 - val_loss: 1.4615 - val_accuracy: 0.5000\n",
      "Epoch 17/100\n",
      "61/76 [=======================>......] - ETA: 7s - loss: 1.4201 - accuracy: 0.5282"
     ]
    },
    {
     "name": "stderr",
     "output_type": "stream",
     "text": [
      "2025-01-20 07:32:19.776057: W tensorflow/core/lib/png/png_io.cc:89] PNG warning: iCCP: known incorrect sRGB profile\n"
     ]
    },
    {
     "name": "stdout",
     "output_type": "stream",
     "text": [
      "76/76 [==============================] - 54s 659ms/step - loss: 1.4239 - accuracy: 0.5265 - val_loss: 1.3638 - val_accuracy: 0.5377\n",
      "Epoch 18/100\n",
      "59/76 [======================>.......] - ETA: 8s - loss: 1.3832 - accuracy: 0.5434"
     ]
    },
    {
     "name": "stderr",
     "output_type": "stream",
     "text": [
      "2025-01-20 07:33:12.103210: W tensorflow/core/lib/png/png_io.cc:89] PNG warning: iCCP: known incorrect sRGB profile\n"
     ]
    },
    {
     "name": "stdout",
     "output_type": "stream",
     "text": [
      "76/76 [==============================] - 52s 630ms/step - loss: 1.3810 - accuracy: 0.5393 - val_loss: 1.5634 - val_accuracy: 0.4938\n",
      "Epoch 19/100\n",
      "58/76 [=====================>........] - ETA: 9s - loss: 1.3814 - accuracy: 0.5485"
     ]
    },
    {
     "name": "stderr",
     "output_type": "stream",
     "text": [
      "2025-01-20 07:34:04.982511: W tensorflow/core/lib/png/png_io.cc:89] PNG warning: iCCP: known incorrect sRGB profile\n"
     ]
    },
    {
     "name": "stdout",
     "output_type": "stream",
     "text": [
      "76/76 [==============================] - 54s 657ms/step - loss: 1.3820 - accuracy: 0.5481 - val_loss: 1.4981 - val_accuracy: 0.5012\n",
      "Epoch 20/100\n",
      "58/76 [=====================>........] - ETA: 9s - loss: 1.3253 - accuracy: 0.5649"
     ]
    },
    {
     "name": "stderr",
     "output_type": "stream",
     "text": [
      "2025-01-20 07:34:59.316377: W tensorflow/core/lib/png/png_io.cc:89] PNG warning: iCCP: known incorrect sRGB profile\n"
     ]
    },
    {
     "name": "stdout",
     "output_type": "stream",
     "text": [
      "76/76 [==============================] - 54s 663ms/step - loss: 1.3226 - accuracy: 0.5669 - val_loss: 1.3888 - val_accuracy: 0.5346\n",
      "Epoch 21/100\n",
      "58/76 [=====================>........] - ETA: 9s - loss: 1.2955 - accuracy: 0.5711"
     ]
    },
    {
     "name": "stderr",
     "output_type": "stream",
     "text": [
      "2025-01-20 07:35:53.286609: W tensorflow/core/lib/png/png_io.cc:89] PNG warning: iCCP: known incorrect sRGB profile\n"
     ]
    },
    {
     "name": "stdout",
     "output_type": "stream",
     "text": [
      "76/76 [==============================] - 54s 651ms/step - loss: 1.2907 - accuracy: 0.5770 - val_loss: 1.4214 - val_accuracy: 0.5198\n",
      "Epoch 22/100\n",
      "60/76 [======================>.......] - ETA: 7s - loss: 1.2829 - accuracy: 0.5786"
     ]
    },
    {
     "name": "stderr",
     "output_type": "stream",
     "text": [
      "2025-01-20 07:36:46.357016: W tensorflow/core/lib/png/png_io.cc:89] PNG warning: iCCP: known incorrect sRGB profile\n"
     ]
    },
    {
     "name": "stdout",
     "output_type": "stream",
     "text": [
      "76/76 [==============================] - 52s 636ms/step - loss: 1.2750 - accuracy: 0.5840 - val_loss: 1.4206 - val_accuracy: 0.5395\n",
      "Epoch 23/100\n",
      "58/76 [=====================>........] - ETA: 9s - loss: 1.2158 - accuracy: 0.6013"
     ]
    },
    {
     "name": "stderr",
     "output_type": "stream",
     "text": [
      "2025-01-20 07:37:38.978100: W tensorflow/core/lib/png/png_io.cc:89] PNG warning: iCCP: known incorrect sRGB profile\n"
     ]
    },
    {
     "name": "stdout",
     "output_type": "stream",
     "text": [
      "76/76 [==============================] - 54s 656ms/step - loss: 1.2251 - accuracy: 0.6008 - val_loss: 1.3926 - val_accuracy: 0.5475\n",
      "Epoch 24/100\n",
      "61/76 [=======================>......] - ETA: 7s - loss: 1.2211 - accuracy: 0.6066"
     ]
    },
    {
     "name": "stderr",
     "output_type": "stream",
     "text": [
      "2025-01-20 07:38:33.481323: W tensorflow/core/lib/png/png_io.cc:89] PNG warning: iCCP: known incorrect sRGB profile\n"
     ]
    },
    {
     "name": "stdout",
     "output_type": "stream",
     "text": [
      "76/76 [==============================] - 54s 650ms/step - loss: 1.2104 - accuracy: 0.6115 - val_loss: 1.3814 - val_accuracy: 0.5500\n",
      "Epoch 25/100\n",
      "61/76 [=======================>......] - ETA: 7s - loss: 1.1846 - accuracy: 0.6145"
     ]
    },
    {
     "name": "stderr",
     "output_type": "stream",
     "text": [
      "2025-01-20 07:39:28.377088: W tensorflow/core/lib/png/png_io.cc:89] PNG warning: iCCP: known incorrect sRGB profile\n"
     ]
    },
    {
     "name": "stdout",
     "output_type": "stream",
     "text": [
      "76/76 [==============================] - 54s 659ms/step - loss: 1.1903 - accuracy: 0.6158 - val_loss: 1.3198 - val_accuracy: 0.5562\n",
      "Epoch 26/100\n",
      "58/76 [=====================>........] - ETA: 8s - loss: 1.1118 - accuracy: 0.6452"
     ]
    },
    {
     "name": "stderr",
     "output_type": "stream",
     "text": [
      "2025-01-20 07:40:20.255210: W tensorflow/core/lib/png/png_io.cc:89] PNG warning: iCCP: known incorrect sRGB profile\n"
     ]
    },
    {
     "name": "stdout",
     "output_type": "stream",
     "text": [
      "76/76 [==============================] - 53s 651ms/step - loss: 1.1280 - accuracy: 0.6379 - val_loss: 1.2213 - val_accuracy: 0.5907\n",
      "Epoch 27/100\n",
      "60/76 [======================>.......] - ETA: 8s - loss: 1.1234 - accuracy: 0.6367"
     ]
    },
    {
     "name": "stderr",
     "output_type": "stream",
     "text": [
      "2025-01-20 07:41:15.268993: W tensorflow/core/lib/png/png_io.cc:89] PNG warning: iCCP: known incorrect sRGB profile\n"
     ]
    },
    {
     "name": "stdout",
     "output_type": "stream",
     "text": [
      "76/76 [==============================] - 55s 665ms/step - loss: 1.1162 - accuracy: 0.6368 - val_loss: 1.2931 - val_accuracy: 0.5877\n",
      "Epoch 28/100\n",
      "59/76 [======================>.......] - ETA: 8s - loss: 1.0560 - accuracy: 0.6570"
     ]
    },
    {
     "name": "stderr",
     "output_type": "stream",
     "text": [
      "2025-01-20 07:42:08.148480: W tensorflow/core/lib/png/png_io.cc:89] PNG warning: iCCP: known incorrect sRGB profile\n"
     ]
    },
    {
     "name": "stdout",
     "output_type": "stream",
     "text": [
      "76/76 [==============================] - 52s 638ms/step - loss: 1.0648 - accuracy: 0.6525 - val_loss: 1.1619 - val_accuracy: 0.6210\n",
      "Epoch 29/100\n",
      "60/76 [======================>.......] - ETA: 8s - loss: 1.0722 - accuracy: 0.6544"
     ]
    },
    {
     "name": "stderr",
     "output_type": "stream",
     "text": [
      "2025-01-20 07:43:03.178405: W tensorflow/core/lib/png/png_io.cc:89] PNG warning: iCCP: known incorrect sRGB profile\n"
     ]
    },
    {
     "name": "stdout",
     "output_type": "stream",
     "text": [
      "76/76 [==============================] - 55s 676ms/step - loss: 1.0728 - accuracy: 0.6549 - val_loss: 1.2486 - val_accuracy: 0.5895\n",
      "Epoch 30/100\n",
      "58/76 [=====================>........] - ETA: 9s - loss: 1.0758 - accuracy: 0.6536"
     ]
    },
    {
     "name": "stderr",
     "output_type": "stream",
     "text": [
      "2025-01-20 07:43:57.260346: W tensorflow/core/lib/png/png_io.cc:89] PNG warning: iCCP: known incorrect sRGB profile\n"
     ]
    },
    {
     "name": "stdout",
     "output_type": "stream",
     "text": [
      "76/76 [==============================] - 55s 669ms/step - loss: 1.0533 - accuracy: 0.6626 - val_loss: 1.2725 - val_accuracy: 0.5901\n",
      "Epoch 31/100\n",
      "59/76 [======================>.......] - ETA: 8s - loss: 1.0359 - accuracy: 0.6700"
     ]
    },
    {
     "name": "stderr",
     "output_type": "stream",
     "text": [
      "2025-01-20 07:44:51.510202: W tensorflow/core/lib/png/png_io.cc:89] PNG warning: iCCP: known incorrect sRGB profile\n"
     ]
    },
    {
     "name": "stdout",
     "output_type": "stream",
     "text": [
      "76/76 [==============================] - 52s 635ms/step - loss: 1.0161 - accuracy: 0.6739 - val_loss: 1.1387 - val_accuracy: 0.6432\n",
      "Epoch 32/100\n",
      "60/76 [======================>.......] - ETA: 7s - loss: 1.0065 - accuracy: 0.6742"
     ]
    },
    {
     "name": "stderr",
     "output_type": "stream",
     "text": [
      "2025-01-20 07:45:44.495583: W tensorflow/core/lib/png/png_io.cc:89] PNG warning: iCCP: known incorrect sRGB profile\n"
     ]
    },
    {
     "name": "stdout",
     "output_type": "stream",
     "text": [
      "76/76 [==============================] - 54s 655ms/step - loss: 1.0059 - accuracy: 0.6730 - val_loss: 1.2807 - val_accuracy: 0.5914\n",
      "Epoch 33/100\n",
      "60/76 [======================>.......] - ETA: 7s - loss: 0.9764 - accuracy: 0.6865"
     ]
    },
    {
     "name": "stderr",
     "output_type": "stream",
     "text": [
      "2025-01-20 07:46:37.773517: W tensorflow/core/lib/png/png_io.cc:89] PNG warning: iCCP: known incorrect sRGB profile\n"
     ]
    },
    {
     "name": "stdout",
     "output_type": "stream",
     "text": [
      "76/76 [==============================] - 53s 644ms/step - loss: 0.9614 - accuracy: 0.6874 - val_loss: 1.2556 - val_accuracy: 0.6006\n",
      "Epoch 34/100\n",
      "58/76 [=====================>........] - ETA: 9s - loss: 0.9619 - accuracy: 0.6975"
     ]
    },
    {
     "name": "stderr",
     "output_type": "stream",
     "text": [
      "2025-01-20 07:47:31.530767: W tensorflow/core/lib/png/png_io.cc:89] PNG warning: iCCP: known incorrect sRGB profile\n"
     ]
    },
    {
     "name": "stdout",
     "output_type": "stream",
     "text": [
      "76/76 [==============================] - 54s 656ms/step - loss: 0.9488 - accuracy: 0.7002 - val_loss: 1.0666 - val_accuracy: 0.6519\n",
      "Epoch 35/100\n",
      "61/76 [=======================>......] - ETA: 7s - loss: 0.9208 - accuracy: 0.7034"
     ]
    },
    {
     "name": "stderr",
     "output_type": "stream",
     "text": [
      "2025-01-20 07:48:26.924337: W tensorflow/core/lib/png/png_io.cc:89] PNG warning: iCCP: known incorrect sRGB profile\n"
     ]
    },
    {
     "name": "stdout",
     "output_type": "stream",
     "text": [
      "76/76 [==============================] - 55s 670ms/step - loss: 0.9023 - accuracy: 0.7117 - val_loss: 1.2945 - val_accuracy: 0.6198\n",
      "Epoch 36/100\n",
      "61/76 [=======================>......] - ETA: 7s - loss: 0.9125 - accuracy: 0.7131"
     ]
    },
    {
     "name": "stderr",
     "output_type": "stream",
     "text": [
      "2025-01-20 07:49:21.722159: W tensorflow/core/lib/png/png_io.cc:89] PNG warning: iCCP: known incorrect sRGB profile\n"
     ]
    },
    {
     "name": "stdout",
     "output_type": "stream",
     "text": [
      "76/76 [==============================] - 55s 666ms/step - loss: 0.8969 - accuracy: 0.7208 - val_loss: 1.2213 - val_accuracy: 0.6296\n",
      "Epoch 37/100\n",
      "60/76 [======================>.......] - ETA: 7s - loss: 0.9076 - accuracy: 0.7167"
     ]
    },
    {
     "name": "stderr",
     "output_type": "stream",
     "text": [
      "2025-01-20 07:50:15.469878: W tensorflow/core/lib/png/png_io.cc:89] PNG warning: iCCP: known incorrect sRGB profile\n"
     ]
    },
    {
     "name": "stdout",
     "output_type": "stream",
     "text": [
      "76/76 [==============================] - 53s 647ms/step - loss: 0.8879 - accuracy: 0.7218 - val_loss: 1.1663 - val_accuracy: 0.6395\n",
      "Epoch 38/100\n",
      "60/76 [======================>.......] - ETA: 8s - loss: 0.8461 - accuracy: 0.7362"
     ]
    },
    {
     "name": "stderr",
     "output_type": "stream",
     "text": [
      "2025-01-20 07:51:09.264508: W tensorflow/core/lib/png/png_io.cc:89] PNG warning: iCCP: known incorrect sRGB profile\n"
     ]
    },
    {
     "name": "stdout",
     "output_type": "stream",
     "text": [
      "76/76 [==============================] - 54s 662ms/step - loss: 0.8419 - accuracy: 0.7342 - val_loss: 1.2907 - val_accuracy: 0.6093\n",
      "Epoch 39/100\n",
      "60/76 [======================>.......] - ETA: 7s - loss: 0.8499 - accuracy: 0.7396"
     ]
    },
    {
     "name": "stderr",
     "output_type": "stream",
     "text": [
      "2025-01-20 07:52:03.093343: W tensorflow/core/lib/png/png_io.cc:89] PNG warning: iCCP: known incorrect sRGB profile\n"
     ]
    },
    {
     "name": "stdout",
     "output_type": "stream",
     "text": [
      "76/76 [==============================] - 53s 649ms/step - loss: 0.8480 - accuracy: 0.7381 - val_loss: 1.2911 - val_accuracy: 0.6105\n",
      "Epoch 40/100\n",
      "59/76 [======================>.......] - ETA: 8s - loss: 0.8415 - accuracy: 0.7325"
     ]
    },
    {
     "name": "stderr",
     "output_type": "stream",
     "text": [
      "2025-01-20 07:52:55.712858: W tensorflow/core/lib/png/png_io.cc:89] PNG warning: iCCP: known incorrect sRGB profile\n"
     ]
    },
    {
     "name": "stdout",
     "output_type": "stream",
     "text": [
      "76/76 [==============================] - 52s 635ms/step - loss: 0.8264 - accuracy: 0.7383 - val_loss: 1.1650 - val_accuracy: 0.6506\n",
      "Epoch 41/100\n",
      "58/76 [=====================>........] - ETA: 9s - loss: 0.7764 - accuracy: 0.7651"
     ]
    },
    {
     "name": "stderr",
     "output_type": "stream",
     "text": [
      "2025-01-20 07:53:49.084401: W tensorflow/core/lib/png/png_io.cc:89] PNG warning: iCCP: known incorrect sRGB profile\n"
     ]
    },
    {
     "name": "stdout",
     "output_type": "stream",
     "text": [
      "76/76 [==============================] - 54s 662ms/step - loss: 0.7737 - accuracy: 0.7644 - val_loss: 1.1789 - val_accuracy: 0.6525\n",
      "Epoch 42/100\n",
      "61/76 [=======================>......] - ETA: 7s - loss: 0.7839 - accuracy: 0.7523"
     ]
    },
    {
     "name": "stderr",
     "output_type": "stream",
     "text": [
      "2025-01-20 07:54:43.589380: W tensorflow/core/lib/png/png_io.cc:89] PNG warning: iCCP: known incorrect sRGB profile\n"
     ]
    },
    {
     "name": "stdout",
     "output_type": "stream",
     "text": [
      "76/76 [==============================] - 54s 656ms/step - loss: 0.7800 - accuracy: 0.7566 - val_loss: 1.1621 - val_accuracy: 0.6537\n",
      "Epoch 43/100\n",
      "58/76 [=====================>........] - ETA: 9s - loss: 0.7803 - accuracy: 0.7592"
     ]
    },
    {
     "name": "stderr",
     "output_type": "stream",
     "text": [
      "2025-01-20 07:55:36.747635: W tensorflow/core/lib/png/png_io.cc:89] PNG warning: iCCP: known incorrect sRGB profile\n"
     ]
    },
    {
     "name": "stdout",
     "output_type": "stream",
     "text": [
      "76/76 [==============================] - 54s 651ms/step - loss: 0.7830 - accuracy: 0.7574 - val_loss: 1.2071 - val_accuracy: 0.6284\n",
      "Epoch 44/100\n",
      "59/76 [======================>.......] - ETA: 8s - loss: 0.7591 - accuracy: 0.7662"
     ]
    },
    {
     "name": "stderr",
     "output_type": "stream",
     "text": [
      "2025-01-20 07:56:30.972959: W tensorflow/core/lib/png/png_io.cc:89] PNG warning: iCCP: known incorrect sRGB profile\n"
     ]
    },
    {
     "name": "stdout",
     "output_type": "stream",
     "text": [
      "76/76 [==============================] - 54s 659ms/step - loss: 0.7489 - accuracy: 0.7685 - val_loss: 1.1331 - val_accuracy: 0.6741\n",
      "Epoch 45/100\n",
      "60/76 [======================>.......] - ETA: 7s - loss: 0.7241 - accuracy: 0.7745"
     ]
    },
    {
     "name": "stderr",
     "output_type": "stream",
     "text": [
      "2025-01-20 07:57:24.151607: W tensorflow/core/lib/png/png_io.cc:89] PNG warning: iCCP: known incorrect sRGB profile\n"
     ]
    },
    {
     "name": "stdout",
     "output_type": "stream",
     "text": [
      "76/76 [==============================] - 53s 642ms/step - loss: 0.7314 - accuracy: 0.7726 - val_loss: 1.0964 - val_accuracy: 0.6593\n",
      "Epoch 46/100\n",
      "59/76 [======================>.......] - ETA: 8s - loss: 0.7434 - accuracy: 0.7730"
     ]
    },
    {
     "name": "stderr",
     "output_type": "stream",
     "text": [
      "2025-01-20 07:58:17.476771: W tensorflow/core/lib/png/png_io.cc:89] PNG warning: iCCP: known incorrect sRGB profile\n"
     ]
    },
    {
     "name": "stdout",
     "output_type": "stream",
     "text": [
      "76/76 [==============================] - 53s 647ms/step - loss: 0.7433 - accuracy: 0.7706 - val_loss: 1.1556 - val_accuracy: 0.6506\n",
      "Epoch 47/100\n",
      "61/76 [=======================>......] - ETA: 7s - loss: 0.7030 - accuracy: 0.7953"
     ]
    },
    {
     "name": "stderr",
     "output_type": "stream",
     "text": [
      "2025-01-20 07:59:12.451812: W tensorflow/core/lib/png/png_io.cc:89] PNG warning: iCCP: known incorrect sRGB profile\n"
     ]
    },
    {
     "name": "stdout",
     "output_type": "stream",
     "text": [
      "76/76 [==============================] - 55s 666ms/step - loss: 0.6986 - accuracy: 0.7944 - val_loss: 1.2890 - val_accuracy: 0.6395\n",
      "Epoch 48/100\n",
      "60/76 [======================>.......] - ETA: 8s - loss: 0.7239 - accuracy: 0.7768"
     ]
    },
    {
     "name": "stderr",
     "output_type": "stream",
     "text": [
      "2025-01-20 08:00:06.565727: W tensorflow/core/lib/png/png_io.cc:89] PNG warning: iCCP: known incorrect sRGB profile\n"
     ]
    },
    {
     "name": "stdout",
     "output_type": "stream",
     "text": [
      "76/76 [==============================] - 54s 657ms/step - loss: 0.7126 - accuracy: 0.7821 - val_loss: 1.2180 - val_accuracy: 0.6432\n",
      "Epoch 49/100\n",
      "61/76 [=======================>......] - ETA: 7s - loss: 0.6613 - accuracy: 0.7971"
     ]
    },
    {
     "name": "stderr",
     "output_type": "stream",
     "text": [
      "2025-01-20 08:01:01.485858: W tensorflow/core/lib/png/png_io.cc:89] PNG warning: iCCP: known incorrect sRGB profile\n"
     ]
    },
    {
     "name": "stdout",
     "output_type": "stream",
     "text": [
      "76/76 [==============================] - 54s 657ms/step - loss: 0.6462 - accuracy: 0.8035 - val_loss: 1.1808 - val_accuracy: 0.6790\n",
      "Epoch 50/100\n",
      "60/76 [======================>.......] - ETA: 8s - loss: 0.6635 - accuracy: 0.7977"
     ]
    },
    {
     "name": "stderr",
     "output_type": "stream",
     "text": [
      "2025-01-20 08:01:54.687974: W tensorflow/core/lib/png/png_io.cc:89] PNG warning: iCCP: known incorrect sRGB profile\n"
     ]
    },
    {
     "name": "stdout",
     "output_type": "stream",
     "text": [
      "76/76 [==============================] - 54s 654ms/step - loss: 0.6751 - accuracy: 0.7940 - val_loss: 1.1579 - val_accuracy: 0.6574\n",
      "Epoch 51/100\n",
      "59/76 [======================>.......] - ETA: 8s - loss: 0.6924 - accuracy: 0.7918"
     ]
    },
    {
     "name": "stderr",
     "output_type": "stream",
     "text": [
      "2025-01-20 08:02:46.647630: W tensorflow/core/lib/png/png_io.cc:89] PNG warning: iCCP: known incorrect sRGB profile\n"
     ]
    },
    {
     "name": "stdout",
     "output_type": "stream",
     "text": [
      "76/76 [==============================] - 53s 645ms/step - loss: 0.6878 - accuracy: 0.7930 - val_loss: 1.1372 - val_accuracy: 0.6636\n",
      "Epoch 52/100\n",
      "60/76 [======================>.......] - ETA: 8s - loss: 0.6239 - accuracy: 0.8130"
     ]
    },
    {
     "name": "stderr",
     "output_type": "stream",
     "text": [
      "2025-01-20 08:03:42.447696: W tensorflow/core/lib/png/png_io.cc:89] PNG warning: iCCP: known incorrect sRGB profile\n"
     ]
    },
    {
     "name": "stdout",
     "output_type": "stream",
     "text": [
      "76/76 [==============================] - 54s 661ms/step - loss: 0.6320 - accuracy: 0.8082 - val_loss: 1.3214 - val_accuracy: 0.6469\n",
      "Epoch 53/100\n",
      "60/76 [======================>.......] - ETA: 7s - loss: 0.6013 - accuracy: 0.8174"
     ]
    },
    {
     "name": "stderr",
     "output_type": "stream",
     "text": [
      "2025-01-20 08:04:35.648142: W tensorflow/core/lib/png/png_io.cc:89] PNG warning: iCCP: known incorrect sRGB profile\n"
     ]
    },
    {
     "name": "stdout",
     "output_type": "stream",
     "text": [
      "76/76 [==============================] - 53s 646ms/step - loss: 0.6056 - accuracy: 0.8163 - val_loss: 1.1253 - val_accuracy: 0.6846\n",
      "Epoch 54/100\n",
      "60/76 [======================>.......] - ETA: 8s - loss: 0.5866 - accuracy: 0.8232"
     ]
    },
    {
     "name": "stderr",
     "output_type": "stream",
     "text": [
      "2025-01-20 08:05:29.297792: W tensorflow/core/lib/png/png_io.cc:89] PNG warning: iCCP: known incorrect sRGB profile\n"
     ]
    },
    {
     "name": "stdout",
     "output_type": "stream",
     "text": [
      "76/76 [==============================] - 54s 657ms/step - loss: 0.5814 - accuracy: 0.8245 - val_loss: 1.2345 - val_accuracy: 0.6525\n",
      "Epoch 55/100\n",
      "60/76 [======================>.......] - ETA: 8s - loss: 0.5892 - accuracy: 0.8255"
     ]
    },
    {
     "name": "stderr",
     "output_type": "stream",
     "text": [
      "2025-01-20 08:06:23.576319: W tensorflow/core/lib/png/png_io.cc:89] PNG warning: iCCP: known incorrect sRGB profile\n"
     ]
    },
    {
     "name": "stdout",
     "output_type": "stream",
     "text": [
      "76/76 [==============================] - 54s 655ms/step - loss: 0.5867 - accuracy: 0.8265 - val_loss: 1.2937 - val_accuracy: 0.6531\n",
      "Epoch 56/100\n",
      "59/76 [======================>.......] - ETA: 8s - loss: 0.5998 - accuracy: 0.8231"
     ]
    },
    {
     "name": "stderr",
     "output_type": "stream",
     "text": [
      "2025-01-20 08:07:17.514572: W tensorflow/core/lib/png/png_io.cc:89] PNG warning: iCCP: known incorrect sRGB profile\n"
     ]
    },
    {
     "name": "stdout",
     "output_type": "stream",
     "text": [
      "76/76 [==============================] - 55s 667ms/step - loss: 0.6174 - accuracy: 0.8195 - val_loss: 1.1700 - val_accuracy: 0.6500\n",
      "Epoch 57/100\n",
      "58/76 [=====================>........] - ETA: 8s - loss: 0.6056 - accuracy: 0.8206"
     ]
    },
    {
     "name": "stderr",
     "output_type": "stream",
     "text": [
      "2025-01-20 08:08:10.922984: W tensorflow/core/lib/png/png_io.cc:89] PNG warning: iCCP: known incorrect sRGB profile\n"
     ]
    },
    {
     "name": "stdout",
     "output_type": "stream",
     "text": [
      "76/76 [==============================] - 54s 650ms/step - loss: 0.5959 - accuracy: 0.8212 - val_loss: 1.0971 - val_accuracy: 0.7006\n",
      "Epoch 58/100\n",
      "59/76 [======================>.......] - ETA: 8s - loss: 0.5616 - accuracy: 0.8313"
     ]
    },
    {
     "name": "stderr",
     "output_type": "stream",
     "text": [
      "2025-01-20 08:09:04.378225: W tensorflow/core/lib/png/png_io.cc:89] PNG warning: iCCP: known incorrect sRGB profile\n"
     ]
    },
    {
     "name": "stdout",
     "output_type": "stream",
     "text": [
      "76/76 [==============================] - 52s 637ms/step - loss: 0.5533 - accuracy: 0.8354 - val_loss: 1.1916 - val_accuracy: 0.6796\n",
      "Epoch 59/100\n",
      "60/76 [======================>.......] - ETA: 8s - loss: 0.5479 - accuracy: 0.8404"
     ]
    },
    {
     "name": "stderr",
     "output_type": "stream",
     "text": [
      "2025-01-20 08:09:58.243879: W tensorflow/core/lib/png/png_io.cc:89] PNG warning: iCCP: known incorrect sRGB profile\n"
     ]
    },
    {
     "name": "stdout",
     "output_type": "stream",
     "text": [
      "76/76 [==============================] - 55s 671ms/step - loss: 0.5468 - accuracy: 0.8397 - val_loss: 1.1053 - val_accuracy: 0.6969\n",
      "Epoch 60/100\n",
      "59/76 [======================>.......] - ETA: 8s - loss: 0.5286 - accuracy: 0.8464"
     ]
    },
    {
     "name": "stderr",
     "output_type": "stream",
     "text": [
      "2025-01-20 08:10:52.035635: W tensorflow/core/lib/png/png_io.cc:89] PNG warning: iCCP: known incorrect sRGB profile\n"
     ]
    },
    {
     "name": "stdout",
     "output_type": "stream",
     "text": [
      "76/76 [==============================] - 53s 649ms/step - loss: 0.5305 - accuracy: 0.8453 - val_loss: 1.2654 - val_accuracy: 0.6580\n",
      "Epoch 61/100\n",
      "61/76 [=======================>......] - ETA: 7s - loss: 0.5271 - accuracy: 0.8471"
     ]
    },
    {
     "name": "stderr",
     "output_type": "stream",
     "text": [
      "2025-01-20 08:11:46.898510: W tensorflow/core/lib/png/png_io.cc:89] PNG warning: iCCP: known incorrect sRGB profile\n"
     ]
    },
    {
     "name": "stdout",
     "output_type": "stream",
     "text": [
      "76/76 [==============================] - 54s 655ms/step - loss: 0.5237 - accuracy: 0.8469 - val_loss: 1.3344 - val_accuracy: 0.6605\n",
      "Epoch 62/100\n",
      "59/76 [======================>.......] - ETA: 8s - loss: 0.5357 - accuracy: 0.8430"
     ]
    },
    {
     "name": "stderr",
     "output_type": "stream",
     "text": [
      "2025-01-20 08:12:39.535476: W tensorflow/core/lib/png/png_io.cc:89] PNG warning: iCCP: known incorrect sRGB profile\n"
     ]
    },
    {
     "name": "stdout",
     "output_type": "stream",
     "text": [
      "76/76 [==============================] - 53s 649ms/step - loss: 0.5237 - accuracy: 0.8451 - val_loss: 1.4024 - val_accuracy: 0.6531\n",
      "Epoch 63/100\n",
      "59/76 [======================>.......] - ETA: 8s - loss: 0.5305 - accuracy: 0.8456"
     ]
    },
    {
     "name": "stderr",
     "output_type": "stream",
     "text": [
      "2025-01-20 08:13:32.799661: W tensorflow/core/lib/png/png_io.cc:89] PNG warning: iCCP: known incorrect sRGB profile\n"
     ]
    },
    {
     "name": "stdout",
     "output_type": "stream",
     "text": [
      "76/76 [==============================] - 54s 652ms/step - loss: 0.5162 - accuracy: 0.8455 - val_loss: 1.2801 - val_accuracy: 0.6840\n",
      "Epoch 64/100\n",
      "59/76 [======================>.......] - ETA: 8s - loss: 0.4787 - accuracy: 0.8583"
     ]
    },
    {
     "name": "stderr",
     "output_type": "stream",
     "text": [
      "2025-01-20 08:14:26.440815: W tensorflow/core/lib/png/png_io.cc:89] PNG warning: iCCP: known incorrect sRGB profile\n"
     ]
    },
    {
     "name": "stdout",
     "output_type": "stream",
     "text": [
      "76/76 [==============================] - 53s 648ms/step - loss: 0.5069 - accuracy: 0.8519 - val_loss: 1.2742 - val_accuracy: 0.6630\n",
      "Epoch 65/100\n",
      "61/76 [=======================>......] - ETA: 7s - loss: 0.5157 - accuracy: 0.8568"
     ]
    },
    {
     "name": "stderr",
     "output_type": "stream",
     "text": [
      "2025-01-20 08:15:21.259445: W tensorflow/core/lib/png/png_io.cc:89] PNG warning: iCCP: known incorrect sRGB profile\n"
     ]
    },
    {
     "name": "stdout",
     "output_type": "stream",
     "text": [
      "76/76 [==============================] - 54s 664ms/step - loss: 0.5279 - accuracy: 0.8502 - val_loss: 1.3059 - val_accuracy: 0.6704\n",
      "Epoch 66/100\n",
      "59/76 [======================>.......] - ETA: 8s - loss: 0.4993 - accuracy: 0.8541"
     ]
    },
    {
     "name": "stderr",
     "output_type": "stream",
     "text": [
      "2025-01-20 08:16:15.119368: W tensorflow/core/lib/png/png_io.cc:89] PNG warning: iCCP: known incorrect sRGB profile\n"
     ]
    },
    {
     "name": "stdout",
     "output_type": "stream",
     "text": [
      "76/76 [==============================] - 54s 655ms/step - loss: 0.4864 - accuracy: 0.8564 - val_loss: 1.3204 - val_accuracy: 0.6741\n",
      "Epoch 67/100\n",
      "58/76 [=====================>........] - ETA: 9s - loss: 0.5105 - accuracy: 0.8553"
     ]
    },
    {
     "name": "stderr",
     "output_type": "stream",
     "text": [
      "2025-01-20 08:17:08.914559: W tensorflow/core/lib/png/png_io.cc:89] PNG warning: iCCP: known incorrect sRGB profile\n"
     ]
    },
    {
     "name": "stdout",
     "output_type": "stream",
     "text": [
      "76/76 [==============================] - 54s 657ms/step - loss: 0.5056 - accuracy: 0.8566 - val_loss: 1.2950 - val_accuracy: 0.6765\n",
      "Epoch 68/100\n",
      "60/76 [======================>.......] - ETA: 8s - loss: 0.4833 - accuracy: 0.8536"
     ]
    },
    {
     "name": "stderr",
     "output_type": "stream",
     "text": [
      "2025-01-20 08:18:02.819444: W tensorflow/core/lib/png/png_io.cc:89] PNG warning: iCCP: known incorrect sRGB profile\n"
     ]
    },
    {
     "name": "stdout",
     "output_type": "stream",
     "text": [
      "76/76 [==============================] - 53s 648ms/step - loss: 0.4784 - accuracy: 0.8553 - val_loss: 1.1770 - val_accuracy: 0.6932\n",
      "Epoch 69/100\n",
      "60/76 [======================>.......] - ETA: 7s - loss: 0.4614 - accuracy: 0.8638"
     ]
    },
    {
     "name": "stderr",
     "output_type": "stream",
     "text": [
      "2025-01-20 08:18:55.733223: W tensorflow/core/lib/png/png_io.cc:89] PNG warning: iCCP: known incorrect sRGB profile\n"
     ]
    },
    {
     "name": "stdout",
     "output_type": "stream",
     "text": [
      "76/76 [==============================] - 54s 651ms/step - loss: 0.4681 - accuracy: 0.8619 - val_loss: 1.1419 - val_accuracy: 0.6901\n",
      "Epoch 70/100\n",
      "61/76 [=======================>......] - ETA: 7s - loss: 0.4875 - accuracy: 0.8617"
     ]
    },
    {
     "name": "stderr",
     "output_type": "stream",
     "text": [
      "2025-01-20 08:19:50.081231: W tensorflow/core/lib/png/png_io.cc:89] PNG warning: iCCP: known incorrect sRGB profile\n"
     ]
    },
    {
     "name": "stdout",
     "output_type": "stream",
     "text": [
      "76/76 [==============================] - 53s 651ms/step - loss: 0.4828 - accuracy: 0.8613 - val_loss: 1.4146 - val_accuracy: 0.6512\n",
      "Epoch 71/100\n",
      "60/76 [======================>.......] - ETA: 8s - loss: 0.4416 - accuracy: 0.8667"
     ]
    },
    {
     "name": "stderr",
     "output_type": "stream",
     "text": [
      "2025-01-20 08:20:43.771228: W tensorflow/core/lib/png/png_io.cc:89] PNG warning: iCCP: known incorrect sRGB profile\n"
     ]
    },
    {
     "name": "stdout",
     "output_type": "stream",
     "text": [
      "76/76 [==============================] - 54s 656ms/step - loss: 0.4363 - accuracy: 0.8681 - val_loss: 1.2854 - val_accuracy: 0.6883\n",
      "Epoch 72/100\n",
      "59/76 [======================>.......] - ETA: 8s - loss: 0.4127 - accuracy: 0.8800"
     ]
    },
    {
     "name": "stderr",
     "output_type": "stream",
     "text": [
      "2025-01-20 08:21:35.748997: W tensorflow/core/lib/png/png_io.cc:89] PNG warning: iCCP: known incorrect sRGB profile\n"
     ]
    },
    {
     "name": "stdout",
     "output_type": "stream",
     "text": [
      "76/76 [==============================] - 53s 638ms/step - loss: 0.4117 - accuracy: 0.8798 - val_loss: 1.2798 - val_accuracy: 0.7012\n",
      "Epoch 73/100\n",
      "60/76 [======================>.......] - ETA: 8s - loss: 0.4624 - accuracy: 0.8654"
     ]
    },
    {
     "name": "stderr",
     "output_type": "stream",
     "text": [
      "2025-01-20 08:22:30.058915: W tensorflow/core/lib/png/png_io.cc:89] PNG warning: iCCP: known incorrect sRGB profile\n"
     ]
    },
    {
     "name": "stdout",
     "output_type": "stream",
     "text": [
      "76/76 [==============================] - 54s 654ms/step - loss: 0.4532 - accuracy: 0.8691 - val_loss: 1.2229 - val_accuracy: 0.7037\n",
      "Epoch 74/100\n",
      "60/76 [======================>.......] - ETA: 8s - loss: 0.4150 - accuracy: 0.8815"
     ]
    },
    {
     "name": "stderr",
     "output_type": "stream",
     "text": [
      "2025-01-20 08:23:23.934293: W tensorflow/core/lib/png/png_io.cc:89] PNG warning: iCCP: known incorrect sRGB profile\n"
     ]
    },
    {
     "name": "stdout",
     "output_type": "stream",
     "text": [
      "76/76 [==============================] - 54s 652ms/step - loss: 0.4136 - accuracy: 0.8846 - val_loss: 1.2363 - val_accuracy: 0.6994\n",
      "Epoch 75/100\n",
      "61/76 [=======================>......] - ETA: 7s - loss: 0.4637 - accuracy: 0.8653"
     ]
    },
    {
     "name": "stderr",
     "output_type": "stream",
     "text": [
      "2025-01-20 08:24:16.449554: W tensorflow/core/lib/png/png_io.cc:89] PNG warning: iCCP: known incorrect sRGB profile\n"
     ]
    },
    {
     "name": "stdout",
     "output_type": "stream",
     "text": [
      "76/76 [==============================] - 53s 638ms/step - loss: 0.4507 - accuracy: 0.8683 - val_loss: 1.2635 - val_accuracy: 0.6938\n",
      "Epoch 76/100\n",
      "60/76 [======================>.......] - ETA: 8s - loss: 0.3984 - accuracy: 0.8896"
     ]
    },
    {
     "name": "stderr",
     "output_type": "stream",
     "text": [
      "2025-01-20 08:25:10.201246: W tensorflow/core/lib/png/png_io.cc:89] PNG warning: iCCP: known incorrect sRGB profile\n"
     ]
    },
    {
     "name": "stdout",
     "output_type": "stream",
     "text": [
      "76/76 [==============================] - 54s 652ms/step - loss: 0.3909 - accuracy: 0.8907 - val_loss: 1.4215 - val_accuracy: 0.6840\n",
      "Epoch 77/100\n",
      "61/76 [=======================>......] - ETA: 7s - loss: 0.3979 - accuracy: 0.8870"
     ]
    },
    {
     "name": "stderr",
     "output_type": "stream",
     "text": [
      "2025-01-20 08:26:04.784928: W tensorflow/core/lib/png/png_io.cc:89] PNG warning: iCCP: known incorrect sRGB profile\n"
     ]
    },
    {
     "name": "stdout",
     "output_type": "stream",
     "text": [
      "76/76 [==============================] - 54s 662ms/step - loss: 0.3934 - accuracy: 0.8897 - val_loss: 1.4115 - val_accuracy: 0.6809\n",
      "Epoch 78/100\n",
      "60/76 [======================>.......] - ETA: 7s - loss: 0.3769 - accuracy: 0.8870"
     ]
    },
    {
     "name": "stderr",
     "output_type": "stream",
     "text": [
      "2025-01-20 08:26:56.871235: W tensorflow/core/lib/png/png_io.cc:89] PNG warning: iCCP: known incorrect sRGB profile\n"
     ]
    },
    {
     "name": "stdout",
     "output_type": "stream",
     "text": [
      "76/76 [==============================] - 52s 634ms/step - loss: 0.3856 - accuracy: 0.8846 - val_loss: 1.2163 - val_accuracy: 0.7086\n",
      "Epoch 79/100\n",
      "60/76 [======================>.......] - ETA: 8s - loss: 0.3638 - accuracy: 0.8953"
     ]
    },
    {
     "name": "stderr",
     "output_type": "stream",
     "text": [
      "2025-01-20 08:27:51.589428: W tensorflow/core/lib/png/png_io.cc:89] PNG warning: iCCP: known incorrect sRGB profile\n"
     ]
    },
    {
     "name": "stdout",
     "output_type": "stream",
     "text": [
      "76/76 [==============================] - 54s 664ms/step - loss: 0.3760 - accuracy: 0.8922 - val_loss: 1.2820 - val_accuracy: 0.6858\n",
      "Epoch 80/100\n",
      "60/76 [======================>.......] - ETA: 8s - loss: 0.3730 - accuracy: 0.8961"
     ]
    },
    {
     "name": "stderr",
     "output_type": "stream",
     "text": [
      "2025-01-20 08:28:45.338024: W tensorflow/core/lib/png/png_io.cc:89] PNG warning: iCCP: known incorrect sRGB profile\n"
     ]
    },
    {
     "name": "stdout",
     "output_type": "stream",
     "text": [
      "76/76 [==============================] - 53s 651ms/step - loss: 0.3784 - accuracy: 0.8951 - val_loss: 1.2883 - val_accuracy: 0.7000\n",
      "Epoch 81/100\n",
      "60/76 [======================>.......] - ETA: 8s - loss: 0.3833 - accuracy: 0.8924"
     ]
    },
    {
     "name": "stderr",
     "output_type": "stream",
     "text": [
      "2025-01-20 08:29:39.194468: W tensorflow/core/lib/png/png_io.cc:89] PNG warning: iCCP: known incorrect sRGB profile\n"
     ]
    },
    {
     "name": "stdout",
     "output_type": "stream",
     "text": [
      "76/76 [==============================] - 55s 668ms/step - loss: 0.3862 - accuracy: 0.8901 - val_loss: 1.3656 - val_accuracy: 0.6870\n",
      "Epoch 82/100\n",
      "60/76 [======================>.......] - ETA: 7s - loss: 0.3675 - accuracy: 0.8922"
     ]
    },
    {
     "name": "stderr",
     "output_type": "stream",
     "text": [
      "2025-01-20 08:30:31.841423: W tensorflow/core/lib/png/png_io.cc:89] PNG warning: iCCP: known incorrect sRGB profile\n"
     ]
    },
    {
     "name": "stdout",
     "output_type": "stream",
     "text": [
      "76/76 [==============================] - 52s 630ms/step - loss: 0.3629 - accuracy: 0.8947 - val_loss: 1.3277 - val_accuracy: 0.6951\n",
      "Epoch 83/100\n",
      "60/76 [======================>.......] - ETA: 8s - loss: 0.3925 - accuracy: 0.8833"
     ]
    },
    {
     "name": "stderr",
     "output_type": "stream",
     "text": [
      "2025-01-20 08:31:26.367785: W tensorflow/core/lib/png/png_io.cc:89] PNG warning: iCCP: known incorrect sRGB profile\n"
     ]
    },
    {
     "name": "stdout",
     "output_type": "stream",
     "text": [
      "76/76 [==============================] - 55s 667ms/step - loss: 0.3843 - accuracy: 0.8860 - val_loss: 1.2175 - val_accuracy: 0.7080\n",
      "Epoch 84/100\n",
      "59/76 [======================>.......] - ETA: 8s - loss: 0.3623 - accuracy: 0.8999"
     ]
    },
    {
     "name": "stderr",
     "output_type": "stream",
     "text": [
      "2025-01-20 08:32:19.741929: W tensorflow/core/lib/png/png_io.cc:89] PNG warning: iCCP: known incorrect sRGB profile\n"
     ]
    },
    {
     "name": "stdout",
     "output_type": "stream",
     "text": [
      "76/76 [==============================] - 54s 650ms/step - loss: 0.3661 - accuracy: 0.8973 - val_loss: 1.1809 - val_accuracy: 0.7241\n",
      "Epoch 85/100\n",
      "60/76 [======================>.......] - ETA: 8s - loss: 0.4008 - accuracy: 0.8815"
     ]
    },
    {
     "name": "stderr",
     "output_type": "stream",
     "text": [
      "2025-01-20 08:33:13.767565: W tensorflow/core/lib/png/png_io.cc:89] PNG warning: iCCP: known incorrect sRGB profile\n"
     ]
    },
    {
     "name": "stdout",
     "output_type": "stream",
     "text": [
      "76/76 [==============================] - 53s 650ms/step - loss: 0.3955 - accuracy: 0.8831 - val_loss: 1.3120 - val_accuracy: 0.6975\n",
      "Epoch 86/100\n",
      "59/76 [======================>.......] - ETA: 8s - loss: 0.3521 - accuracy: 0.9073"
     ]
    },
    {
     "name": "stderr",
     "output_type": "stream",
     "text": [
      "2025-01-20 08:34:06.423481: W tensorflow/core/lib/png/png_io.cc:89] PNG warning: iCCP: known incorrect sRGB profile\n"
     ]
    },
    {
     "name": "stdout",
     "output_type": "stream",
     "text": [
      "76/76 [==============================] - 53s 642ms/step - loss: 0.3579 - accuracy: 0.9035 - val_loss: 1.3346 - val_accuracy: 0.7093\n",
      "Epoch 87/100\n",
      "60/76 [======================>.......] - ETA: 8s - loss: 0.3676 - accuracy: 0.8927"
     ]
    },
    {
     "name": "stderr",
     "output_type": "stream",
     "text": [
      "2025-01-20 08:35:01.100159: W tensorflow/core/lib/png/png_io.cc:89] PNG warning: iCCP: known incorrect sRGB profile\n"
     ]
    },
    {
     "name": "stdout",
     "output_type": "stream",
     "text": [
      "76/76 [==============================] - 54s 661ms/step - loss: 0.3630 - accuracy: 0.8944 - val_loss: 1.2693 - val_accuracy: 0.7056\n",
      "Epoch 88/100\n",
      "59/76 [======================>.......] - ETA: 8s - loss: 0.3696 - accuracy: 0.8957"
     ]
    },
    {
     "name": "stderr",
     "output_type": "stream",
     "text": [
      "2025-01-20 08:35:53.782883: W tensorflow/core/lib/png/png_io.cc:89] PNG warning: iCCP: known incorrect sRGB profile\n"
     ]
    },
    {
     "name": "stdout",
     "output_type": "stream",
     "text": [
      "76/76 [==============================] - 53s 644ms/step - loss: 0.3601 - accuracy: 0.8996 - val_loss: 1.4852 - val_accuracy: 0.6883\n",
      "Epoch 89/100\n",
      "59/76 [======================>.......] - ETA: 8s - loss: 0.3486 - accuracy: 0.9028"
     ]
    },
    {
     "name": "stderr",
     "output_type": "stream",
     "text": [
      "2025-01-20 08:36:48.615662: W tensorflow/core/lib/png/png_io.cc:89] PNG warning: iCCP: known incorrect sRGB profile\n"
     ]
    },
    {
     "name": "stdout",
     "output_type": "stream",
     "text": [
      "76/76 [==============================] - 55s 672ms/step - loss: 0.3505 - accuracy: 0.9025 - val_loss: 1.2727 - val_accuracy: 0.7160\n",
      "Epoch 90/100\n",
      "60/76 [======================>.......] - ETA: 8s - loss: 0.3408 - accuracy: 0.9057"
     ]
    },
    {
     "name": "stderr",
     "output_type": "stream",
     "text": [
      "2025-01-20 08:37:43.637278: W tensorflow/core/lib/png/png_io.cc:89] PNG warning: iCCP: known incorrect sRGB profile\n"
     ]
    },
    {
     "name": "stdout",
     "output_type": "stream",
     "text": [
      "76/76 [==============================] - 54s 657ms/step - loss: 0.3453 - accuracy: 0.9049 - val_loss: 1.3637 - val_accuracy: 0.7062\n",
      "Epoch 91/100\n",
      "58/76 [=====================>........] - ETA: 9s - loss: 0.3511 - accuracy: 0.9006"
     ]
    },
    {
     "name": "stderr",
     "output_type": "stream",
     "text": [
      "2025-01-20 08:38:36.538020: W tensorflow/core/lib/png/png_io.cc:89] PNG warning: iCCP: known incorrect sRGB profile\n"
     ]
    },
    {
     "name": "stdout",
     "output_type": "stream",
     "text": [
      "76/76 [==============================] - 53s 647ms/step - loss: 0.3616 - accuracy: 0.8947 - val_loss: 1.3988 - val_accuracy: 0.6957\n",
      "Epoch 92/100\n",
      "58/76 [=====================>........] - ETA: 9s - loss: 0.3231 - accuracy: 0.9133"
     ]
    },
    {
     "name": "stderr",
     "output_type": "stream",
     "text": [
      "2025-01-20 08:39:29.624732: W tensorflow/core/lib/png/png_io.cc:89] PNG warning: iCCP: known incorrect sRGB profile\n"
     ]
    },
    {
     "name": "stdout",
     "output_type": "stream",
     "text": [
      "76/76 [==============================] - 54s 655ms/step - loss: 0.3260 - accuracy: 0.9119 - val_loss: 1.4509 - val_accuracy: 0.6914\n",
      "Epoch 93/100\n",
      "60/76 [======================>.......] - ETA: 7s - loss: 0.3682 - accuracy: 0.8924"
     ]
    },
    {
     "name": "stderr",
     "output_type": "stream",
     "text": [
      "2025-01-20 08:40:24.165583: W tensorflow/core/lib/png/png_io.cc:89] PNG warning: iCCP: known incorrect sRGB profile\n"
     ]
    },
    {
     "name": "stdout",
     "output_type": "stream",
     "text": [
      "76/76 [==============================] - 53s 650ms/step - loss: 0.3690 - accuracy: 0.8926 - val_loss: 1.4062 - val_accuracy: 0.6926\n",
      "Epoch 94/100\n",
      "60/76 [======================>.......] - ETA: 8s - loss: 0.3483 - accuracy: 0.9005"
     ]
    },
    {
     "name": "stderr",
     "output_type": "stream",
     "text": [
      "2025-01-20 08:41:18.998977: W tensorflow/core/lib/png/png_io.cc:89] PNG warning: iCCP: known incorrect sRGB profile\n"
     ]
    },
    {
     "name": "stdout",
     "output_type": "stream",
     "text": [
      "76/76 [==============================] - 55s 669ms/step - loss: 0.3523 - accuracy: 0.9004 - val_loss: 1.2034 - val_accuracy: 0.7204\n",
      "Epoch 95/100\n",
      "60/76 [======================>.......] - ETA: 8s - loss: 0.3269 - accuracy: 0.9091"
     ]
    },
    {
     "name": "stderr",
     "output_type": "stream",
     "text": [
      "2025-01-20 08:42:14.419202: W tensorflow/core/lib/png/png_io.cc:89] PNG warning: iCCP: known incorrect sRGB profile\n"
     ]
    },
    {
     "name": "stdout",
     "output_type": "stream",
     "text": [
      "76/76 [==============================] - 56s 679ms/step - loss: 0.3341 - accuracy: 0.9058 - val_loss: 1.1601 - val_accuracy: 0.7401\n",
      "Epoch 96/100\n",
      "60/76 [======================>.......] - ETA: 7s - loss: 0.3268 - accuracy: 0.9148"
     ]
    },
    {
     "name": "stderr",
     "output_type": "stream",
     "text": [
      "2025-01-20 08:43:07.677826: W tensorflow/core/lib/png/png_io.cc:89] PNG warning: iCCP: known incorrect sRGB profile\n"
     ]
    },
    {
     "name": "stdout",
     "output_type": "stream",
     "text": [
      "76/76 [==============================] - 53s 646ms/step - loss: 0.3136 - accuracy: 0.9177 - val_loss: 1.5917 - val_accuracy: 0.6833\n",
      "Epoch 97/100\n",
      "60/76 [======================>.......] - ETA: 8s - loss: 0.3184 - accuracy: 0.9193"
     ]
    },
    {
     "name": "stderr",
     "output_type": "stream",
     "text": [
      "2025-01-20 08:44:03.850952: W tensorflow/core/lib/png/png_io.cc:89] PNG warning: iCCP: known incorrect sRGB profile\n"
     ]
    },
    {
     "name": "stdout",
     "output_type": "stream",
     "text": [
      "76/76 [==============================] - 56s 680ms/step - loss: 0.3169 - accuracy: 0.9160 - val_loss: 1.3461 - val_accuracy: 0.7185\n",
      "Epoch 98/100\n",
      "59/76 [======================>.......] - ETA: 8s - loss: 0.3038 - accuracy: 0.9206"
     ]
    },
    {
     "name": "stderr",
     "output_type": "stream",
     "text": [
      "2025-01-20 08:44:57.926759: W tensorflow/core/lib/png/png_io.cc:89] PNG warning: iCCP: known incorrect sRGB profile\n"
     ]
    },
    {
     "name": "stdout",
     "output_type": "stream",
     "text": [
      "76/76 [==============================] - 54s 664ms/step - loss: 0.2999 - accuracy: 0.9224 - val_loss: 1.3453 - val_accuracy: 0.7123\n",
      "Epoch 99/100\n",
      "60/76 [======================>.......] - ETA: 7s - loss: 0.3311 - accuracy: 0.8997"
     ]
    },
    {
     "name": "stderr",
     "output_type": "stream",
     "text": [
      "2025-01-20 08:45:50.989607: W tensorflow/core/lib/png/png_io.cc:89] PNG warning: iCCP: known incorrect sRGB profile\n"
     ]
    },
    {
     "name": "stdout",
     "output_type": "stream",
     "text": [
      "76/76 [==============================] - 53s 639ms/step - loss: 0.3251 - accuracy: 0.9039 - val_loss: 1.3790 - val_accuracy: 0.7000\n",
      "Epoch 100/100\n",
      "60/76 [======================>.......] - ETA: 8s - loss: 0.3159 - accuracy: 0.9182"
     ]
    },
    {
     "name": "stderr",
     "output_type": "stream",
     "text": [
      "2025-01-20 08:46:45.199260: W tensorflow/core/lib/png/png_io.cc:89] PNG warning: iCCP: known incorrect sRGB profile\n"
     ]
    },
    {
     "name": "stdout",
     "output_type": "stream",
     "text": [
      "76/76 [==============================] - 54s 655ms/step - loss: 0.3186 - accuracy: 0.9171 - val_loss: 1.3396 - val_accuracy: 0.7123\n",
      "2/2 [==============================] - 1s 8ms/step\n",
      "2/2 [==============================] - 0s 23ms/step\n",
      "2/2 [==============================] - 0s 24ms/step\n",
      "2/2 [==============================] - 0s 28ms/step\n",
      "2/2 [==============================] - 0s 24ms/step\n",
      "2/2 [==============================] - 0s 24ms/step\n",
      "2/2 [==============================] - 0s 24ms/step\n",
      "2/2 [==============================] - 0s 24ms/step\n",
      "2/2 [==============================] - 0s 27ms/step\n",
      "2/2 [==============================] - 0s 23ms/step\n",
      "2/2 [==============================] - 0s 26ms/step\n",
      "2/2 [==============================] - 0s 23ms/step\n",
      "2/2 [==============================] - 0s 24ms/step\n",
      "2/2 [==============================] - 0s 23ms/step\n",
      "2/2 [==============================] - 0s 31ms/step\n",
      "2/2 [==============================] - 0s 24ms/step\n",
      "2/2 [==============================] - 0s 25ms/step\n",
      "2/2 [==============================] - 0s 23ms/step\n",
      "2/2 [==============================] - 0s 23ms/step\n",
      "2/2 [==============================] - 0s 23ms/step\n",
      "2/2 [==============================] - 0s 24ms/step\n",
      "2/2 [==============================] - 0s 24ms/step\n",
      "2/2 [==============================] - 0s 23ms/step\n",
      "2/2 [==============================] - 0s 24ms/step\n",
      "2/2 [==============================] - 0s 23ms/step\n",
      "1/1 [==============================] - 0s 127ms/step\n",
      "Confusion Matrix: \n"
     ]
    },
    {
     "name": "stderr",
     "output_type": "stream",
     "text": [
      "2025-01-20 08:47:16.043117: I tensorflow/core/framework/local_rendezvous.cc:405] Local rendezvous is aborting with status: OUT_OF_RANGE: End of sequence\n"
     ]
    },
    {
     "name": "stdout",
     "output_type": "stream",
     "text": [
      "Validation loss: 1.3395675420761108\n",
      "Validation accuracy: 0.7123456597328186\n"
     ]
    },
    {
     "data": {
      "image/png": "[encoded data removed]",
      "text/plain": [
       "<Figure size 800x800 with 2 Axes>"
      ]
     },
     "metadata": {},
     "output_type": "display_data"
    },
    {
     "data": {
      "image/png": "[encoded data removed]",
      "text/plain": [
       "<Figure size 800x800 with 2 Axes>"
      ]
     },
     "metadata": {},
     "output_type": "display_data"
    }
   ],
   "source": [
    "#%%\n",
    "\n",
    "import tensorflow as tf\n",
    "import tf_keras\n",
    "import matplotlib.pyplot as plt\n",
    "import seaborn as sns\n",
    "import numpy as np\n",
    "from tf_keras import layers\n",
    "from tf_keras.models import Sequential\n",
    "from sklearn.metrics import confusion_matrix\n",
    "from tf_keras.optimizers import Adam\n",
    "from tf_keras.regularizers import l2\n",
    "\n",
    "tf.keras.backend.clear_session()\n",
    "\n",
    "gpu_devices = tf.config.list_physical_devices('GPU')\n",
    "if gpu_devices:\n",
    "  tf.config.experimental.set_memory_growth(gpu_devices[0], True)\n",
    "  print('GPU found', gpu_devices[0])\n",
    "else:\n",
    "  print('No GPU found')\n",
    "\n",
    "#define image size\n",
    "IMG_SIZE = 224\n",
    "\n",
    "#define batch size\n",
    "BATCH_SIZE = 64\n",
    "\n",
    "#training directory\n",
    "TRAINING_DIR = \"Train\"\n",
    "  \n",
    "#training split\n",
    "train_ds = tf_keras.utils.image_dataset_from_directory(\n",
    "  TRAINING_DIR,\n",
    "  labels = \"inferred\",\n",
    "  image_size = (IMG_SIZE, IMG_SIZE),\n",
    "  batch_size = BATCH_SIZE,\n",
    "  subset = \"training\",\n",
    "  validation_split = 0.25,\n",
    "  shuffle = True,\n",
    "  seed = 225\n",
    ")\n",
    "\n",
    "#validation split, taken directly from the same directory as train\n",
    "validation_ds = tf_keras.utils.image_dataset_from_directory(\n",
    "  TRAINING_DIR,\n",
    "  labels = \"inferred\",\n",
    "  image_size = (IMG_SIZE, IMG_SIZE),\n",
    "  batch_size = BATCH_SIZE,\n",
    "  subset = 'validation',\n",
    "  validation_split = 0.25,\n",
    "  shuffle = True,\n",
    "  seed = 225\n",
    ")\n",
    "\n",
    "CLASS_NAMES = train_ds.class_names\n",
    "\n",
    "AUTOTUNE = tf.data.AUTOTUNE\n",
    "train_ds = train_ds.prefetch(buffer_size = AUTOTUNE)\n",
    "val_ds = validation_ds.cache().prefetch(buffer_size = AUTOTUNE)\n",
    "\n",
    "#data augmentation to increase robustness\n",
    "data_augmentation = Sequential([\n",
    "  layers.experimental.preprocessing.RandomFlip('horizontal'),\n",
    "  layers.experimental.preprocessing.RandomRotation(0.2),\n",
    "  layers.experimental.preprocessing.RandomZoom(0.2) \n",
    "])\n",
    "\n",
    "train_ds = train_ds.map(lambda x, y: (data_augmentation(x, training = True), y))\n",
    "\n",
    "#normalizing and augmenting the data\n",
    "norm_layer = layers.Rescaling(1./255)\n",
    "train_ds = train_ds.map(lambda x, y: (norm_layer(x), y))\n",
    "validation_ds = validation_ds.map(lambda x, y: (norm_layer(x), y))\n",
    "\n",
    "num_classes = len(CLASS_NAMES)\n",
    "\n",
    "#training model\n",
    "model = Sequential([\n",
    "  layers.Conv2D(64, (3, 3), input_shape = (224, 224, 3)),\n",
    "  layers.Activation('relu'),\n",
    "  layers.MaxPooling2D(2, 2),\n",
    "  layers.Conv2D(64, (3, 3)),\n",
    "  layers.Activation('relu'),\n",
    "  layers.MaxPooling2D(2, 2),\n",
    "  layers.Conv2D(128, (3, 3)),\n",
    "  layers.Activation('relu'),\n",
    "  layers.MaxPooling2D(2, 2),\n",
    "  layers.Conv2D(128, (3, 3)),\n",
    "  layers.Activation('relu'),\n",
    "  layers.MaxPooling2D(2, 2),\n",
    "  layers.Conv2D(256, (5, 5)), \n",
    "  layers.Activation('relu'),\n",
    "  layers.MaxPooling2D(2, 2),\n",
    "  layers.Conv2D(256, (3, 3)),\n",
    "  layers.Activation('relu'),\n",
    "  layers.MaxPooling2D(2, 2),\n",
    "  layers.Flatten(),\n",
    "  layers.Dense(512, activation = 'relu', kernel_regularizer = l2(0.02)),\n",
    "  layers.Dropout(0.5),\n",
    "  layers.Dense(num_classes, activation = 'softmax')\n",
    "])\n",
    "\n",
    "model.summary()\n",
    "\n",
    "model.compile(optimizer = Adam(learning_rate = 0.0005, weight_decay = 1e-6), \n",
    "              loss = tf_keras.losses.SparseCategoricalCrossentropy(from_logits = True), \n",
    "              metrics = ['accuracy'])\n",
    "\n",
    "#no of epochs\n",
    "epochs = 100\n",
    "\n",
    "'''\n",
    "#early stopping\n",
    "early_stopping = tf_keras.callbacks.EarlyStopping(monitor = 'val_loss', \n",
    "                                                  mode = 'min', \n",
    "                                                  verbose = 1, \n",
    "                                                  patience = 7, \n",
    "                                                  restore_best_weights = True)\n",
    "                                                  '''\n",
    "\n",
    "#class weights since the dataset is imbalanced\n",
    "class_weights = {\n",
    "    0: 0.657,  #bike\n",
    "    1: 1.165,  #bus\n",
    "    2: 1.006,  #cng\n",
    "    3: 0.885,  #easy bike\n",
    "    4: 1.385,  #hatchback\n",
    "    5: 1.296,  #mpv\n",
    "    6: 2.689,  #pickup\n",
    "    7: 0.695,  #sedan\n",
    "    8: 1.117,  #suv\n",
    "    9: 0.770   #truck\n",
    "}\n",
    "\n",
    "\n",
    "#fitting of the model\n",
    "history = model.fit(train_ds, \n",
    "                    validation_data = validation_ds, \n",
    "                    epochs = epochs,\n",
    "                    class_weight = class_weights)\n",
    "\n",
    "#accuracy and loss values\n",
    "accuracy = history.history['accuracy']\n",
    "val_accuracy = history.history['val_accuracy']\n",
    "\n",
    "loss = history.history['loss']\n",
    "val_loss = history.history['val_loss']\n",
    "\n",
    "epochs_range = range(epochs)\n",
    "\n",
    "true_labels = []\n",
    "predicted_labels = []\n",
    "\n",
    "for images, labels in val_ds:\n",
    "  true_labels.extend(labels.numpy())\n",
    "  pred = model.predict(images)\n",
    "  predicted_labels.extend(np.argmax(pred, axis = 1))\n",
    "\n",
    "confusion_matrix = confusion_matrix(true_labels, predicted_labels)\n",
    "\n",
    "print('Confusion Matrix: ')\n",
    "plt.figure(figsize=(8, 8))\n",
    "sns.heatmap(confusion_matrix, annot = True, fmt = 'd', xticklabels = CLASS_NAMES, yticklabels = CLASS_NAMES, cmap = 'Blues')\n",
    "plt.xlabel('Predicted')\n",
    "plt.ylabel('True')\n",
    "plt.title('Confusion Matrix')\n",
    "\n",
    "score = model.evaluate(validation_ds, verbose = 0)\n",
    "print('Validation loss:', score[0])\n",
    "print('Validation accuracy:', score[1])\n",
    "\n",
    "plt.figure(figsize = (8, 8))\n",
    "plt.subplot(1, 2, 1)\n",
    "plt.plot(accuracy, label = 'Training Accuracy')\n",
    "plt.plot(val_accuracy, label = 'Validation Accuracy')\n",
    "plt.legend(loc = 'lower right')\n",
    "plt.title('Training and Validation Accuracy')\n",
    "\n",
    "plt.subplot(1, 2, 2)\n",
    "plt.plot(loss, label = 'Training Loss')\n",
    "plt.plot(val_loss, label = 'Validation Loss')\n",
    "plt.legend(loc = 'upper right')\n",
    "plt.title('Training and Validation Loss')\n",
    "plt.show()"
   ]
  }
 ],
 "metadata": {
  "language_info": {
   "codemirror_mode": {
    "name": "ipython",
    "version": 3
   },
   "file_extension": ".py",
   "mimetype": "text/x-python",
   "name": "python",
   "nbconvert_exporter": "python",
   "pygments_lexer": "ipython3",
   "version": 3
  }
 },
 "nbformat": 4,
 "nbformat_minor": 2
}
