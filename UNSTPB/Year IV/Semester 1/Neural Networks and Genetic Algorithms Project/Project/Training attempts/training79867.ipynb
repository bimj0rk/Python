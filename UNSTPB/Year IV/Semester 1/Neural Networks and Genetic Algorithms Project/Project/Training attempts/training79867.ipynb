{
 "cells": [
  {
   "cell_type": "code",
   "execution_count": null,
   "id": "def58cc8-89b6-4857-aee4-982d8d259831",
   "metadata": {},
   "outputs": [
    {
     "name": "stderr",
     "output_type": "stream",
     "text": [
      "2025-01-20 09:53:05.783633: E external/local_xla/xla/stream_executor/cuda/cuda_fft.cc:477] Unable to register cuFFT factory: Attempting to register factory for plugin cuFFT when one has already been registered\n",
      "WARNING: All log messages before absl::InitializeLog() is called are written to STDERR\n",
      "E0000 00:00:1737359585.799761  368941 cuda_dnn.cc:8310] Unable to register cuDNN factory: Attempting to register factory for plugin cuDNN when one has already been registered\n",
      "E0000 00:00:1737359585.804525  368941 cuda_blas.cc:1418] Unable to register cuBLAS factory: Attempting to register factory for plugin cuBLAS when one has already been registered\n",
      "2025-01-20 09:53:05.820586: I tensorflow/core/platform/cpu_feature_guard.cc:210] This TensorFlow binary is optimized to use available CPU instructions in performance-critical operations.\n",
      "To enable the following instructions: AVX2 FMA, in other operations, rebuild TensorFlow with the appropriate compiler flags.\n"
     ]
    },
    {
     "name": "stdout",
     "output_type": "stream",
     "text": [
      "GPU found PhysicalDevice(name='/physical_device:GPU:0', device_type='GPU')\n",
      "Found 6480 files belonging to 10 classes.\n",
      "Using 4860 files for training.\n"
     ]
    },
    {
     "name": "stderr",
     "output_type": "stream",
     "text": [
      "I0000 00:00:1737359588.624062  368941 gpu_device.cc:2022] Created device /job:localhost/replica:0/task:0/device:GPU:0 with 4773 MB memory:  -> device: 0, name: NVIDIA GeForce GTX 1060 6GB, pci bus id: 0000:01:00.0, compute capability: 6.1\n"
     ]
    },
    {
     "name": "stdout",
     "output_type": "stream",
     "text": [
      "Found 6480 files belonging to 10 classes.\n",
      "Using 1620 files for validation.\n",
      "Model: \"sequential_1\"\n",
      "_________________________________________________________________\n",
      " Layer (type)                Output Shape              Param #   \n",
      "=================================================================\n",
      " conv2d (Conv2D)             (None, 222, 222, 64)      1792      \n",
      "                                                                 \n",
      " activation (Activation)     (None, 222, 222, 64)      0         \n",
      "                                                                 \n",
      " max_pooling2d (MaxPooling2  (None, 111, 111, 64)      0         \n",
      " D)                                                              \n",
      "                                                                 \n",
      " conv2d_1 (Conv2D)           (None, 109, 109, 64)      36928     \n",
      "                                                                 \n",
      " activation_1 (Activation)   (None, 109, 109, 64)      0         \n",
      "                                                                 \n",
      " max_pooling2d_1 (MaxPoolin  (None, 54, 54, 64)        0         \n",
      " g2D)                                                            \n",
      "                                                                 \n",
      " conv2d_2 (Conv2D)           (None, 52, 52, 128)       73856     \n",
      "                                                                 \n",
      " activation_2 (Activation)   (None, 52, 52, 128)       0         \n",
      "                                                                 \n",
      " max_pooling2d_2 (MaxPoolin  (None, 26, 26, 128)       0         \n",
      " g2D)                                                            \n",
      "                                                                 \n",
      " conv2d_3 (Conv2D)           (None, 24, 24, 128)       147584    \n",
      "                                                                 \n",
      " activation_3 (Activation)   (None, 24, 24, 128)       0         \n",
      "                                                                 \n",
      " max_pooling2d_3 (MaxPoolin  (None, 12, 12, 128)       0         \n",
      " g2D)                                                            \n",
      "                                                                 \n",
      " conv2d_4 (Conv2D)           (None, 8, 8, 256)         819456    \n",
      "                                                                 \n",
      " activation_4 (Activation)   (None, 8, 8, 256)         0         \n",
      "                                                                 \n",
      " max_pooling2d_4 (MaxPoolin  (None, 4, 4, 256)         0         \n",
      " g2D)                                                            \n",
      "                                                                 \n",
      " conv2d_5 (Conv2D)           (None, 2, 2, 256)         590080    \n",
      "                                                                 \n",
      " activation_5 (Activation)   (None, 2, 2, 256)         0         \n",
      "                                                                 \n",
      " max_pooling2d_5 (MaxPoolin  (None, 1, 1, 256)         0         \n",
      " g2D)                                                            \n",
      "                                                                 \n",
      " flatten (Flatten)           (None, 256)               0         \n",
      "                                                                 \n",
      " dense (Dense)               (None, 512)               131584    \n",
      "                                                                 \n",
      " dropout (Dropout)           (None, 512)               0         \n",
      "                                                                 \n",
      " dense_1 (Dense)             (None, 10)                5130      \n",
      "                                                                 \n",
      "=================================================================\n",
      "Total params: 1806410 (6.89 MB)\n",
      "Trainable params: 1806410 (6.89 MB)\n",
      "Non-trainable params: 0 (0.00 Byte)\n",
      "_________________________________________________________________\n",
      "Epoch 1/100\n"
     ]
    },
    {
     "name": "stderr",
     "output_type": "stream",
     "text": [
      "/home/adiicmp/GitHub Repos/Python/.venv/lib/python3.12/site-packages/tf_keras/src/backend.py:5729: UserWarning: \"`sparse_categorical_crossentropy` received `from_logits=True`, but the `output` argument was produced by a Softmax activation and thus does not represent logits. Was this intended?\n",
      "  output, from_logits = _get_logits(\n",
      "I0000 00:00:1737359596.767515  368992 cuda_dnn.cc:529] Loaded cuDNN version 90300\n",
      "WARNING: All log messages before absl::InitializeLog() is called are written to STDERR\n",
      "I0000 00:00:1737359599.244676  368991 service.cc:148] XLA service 0x74983c5aeb60 initialized for platform CUDA (this does not guarantee that XLA will be used). Devices:\n",
      "I0000 00:00:1737359599.244700  368991 service.cc:156]   StreamExecutor device (0): NVIDIA GeForce GTX 1060 6GB, Compute Capability 6.1\n",
      "2025-01-20 09:53:19.250766: I tensorflow/compiler/mlir/tensorflow/utils/dump_mlir_util.cc:268] disabling MLIR crash reproducer, set env var `MLIR_CRASH_REPRODUCER_DIRECTORY` to enable.\n",
      "I0000 00:00:1737359599.368721  368991 device_compiler.h:188] Compiled cluster using XLA!  This line is logged at most once for the lifetime of the process.\n"
     ]
    },
    {
     "name": "stdout",
     "output_type": "stream",
     "text": [
      "59/76 [======================>.......] - ETA: 8s - loss: 8.5628 - accuracy: 0.1372"
     ]
    },
    {
     "name": "stderr",
     "output_type": "stream",
     "text": [
      "2025-01-20 09:53:51.179722: W tensorflow/core/lib/png/png_io.cc:89] PNG warning: iCCP: known incorrect sRGB profile\n"
     ]
    },
    {
     "name": "stdout",
     "output_type": "stream",
     "text": [
      "76/76 [==============================] - 67s 719ms/step - loss: 8.3938 - accuracy: 0.1399 - val_loss: 7.6008 - val_accuracy: 0.1475\n",
      "Epoch 2/100\n",
      "61/76 [=======================>......] - ETA: 9s - loss: 7.1265 - accuracy: 0.1393"
     ]
    },
    {
     "name": "stderr",
     "output_type": "stream",
     "text": [
      "2025-01-20 09:54:58.566252: W tensorflow/core/lib/png/png_io.cc:89] PNG warning: iCCP: known incorrect sRGB profile\n"
     ]
    },
    {
     "name": "stdout",
     "output_type": "stream",
     "text": [
      "76/76 [==============================] - 63s 764ms/step - loss: 7.0029 - accuracy: 0.1467 - val_loss: 6.3247 - val_accuracy: 0.1864\n",
      "Epoch 3/100\n",
      "60/76 [======================>.......] - ETA: 8s - loss: 5.9454 - accuracy: 0.2086"
     ]
    },
    {
     "name": "stderr",
     "output_type": "stream",
     "text": [
      "2025-01-20 09:55:56.835123: W tensorflow/core/lib/png/png_io.cc:89] PNG warning: iCCP: known incorrect sRGB profile\n"
     ]
    },
    {
     "name": "stdout",
     "output_type": "stream",
     "text": [
      "76/76 [==============================] - 58s 714ms/step - loss: 5.8399 - accuracy: 0.2123 - val_loss: 5.2555 - val_accuracy: 0.2358\n",
      "Epoch 4/100\n",
      "61/76 [=======================>......] - ETA: 7s - loss: 4.9892 - accuracy: 0.2664"
     ]
    },
    {
     "name": "stderr",
     "output_type": "stream",
     "text": [
      "2025-01-20 09:56:54.960450: W tensorflow/core/lib/png/png_io.cc:89] PNG warning: iCCP: known incorrect sRGB profile\n"
     ]
    },
    {
     "name": "stdout",
     "output_type": "stream",
     "text": [
      "76/76 [==============================] - 57s 698ms/step - loss: 4.9191 - accuracy: 0.2759 - val_loss: 4.4605 - val_accuracy: 0.3247\n",
      "Epoch 5/100\n",
      "61/76 [=======================>......] - ETA: 8s - loss: 4.3003 - accuracy: 0.3102"
     ]
    },
    {
     "name": "stderr",
     "output_type": "stream",
     "text": [
      "2025-01-20 09:57:54.200084: W tensorflow/core/lib/png/png_io.cc:89] PNG warning: iCCP: known incorrect sRGB profile\n"
     ]
    },
    {
     "name": "stdout",
     "output_type": "stream",
     "text": [
      "76/76 [==============================] - 59s 723ms/step - loss: 4.2560 - accuracy: 0.3088 - val_loss: 3.9517 - val_accuracy: 0.2975\n",
      "Epoch 6/100\n",
      "60/76 [======================>.......] - ETA: 8s - loss: 3.7987 - accuracy: 0.3271"
     ]
    },
    {
     "name": "stderr",
     "output_type": "stream",
     "text": [
      "2025-01-20 09:58:52.897858: W tensorflow/core/lib/png/png_io.cc:89] PNG warning: iCCP: known incorrect sRGB profile\n"
     ]
    },
    {
     "name": "stdout",
     "output_type": "stream",
     "text": [
      "76/76 [==============================] - 59s 717ms/step - loss: 3.7507 - accuracy: 0.3300 - val_loss: 3.4257 - val_accuracy: 0.3747\n",
      "Epoch 7/100\n",
      "59/76 [======================>.......] - ETA: 9s - loss: 3.3903 - accuracy: 0.3504 "
     ]
    },
    {
     "name": "stderr",
     "output_type": "stream",
     "text": [
      "2025-01-20 09:59:52.022556: W tensorflow/core/lib/png/png_io.cc:89] PNG warning: iCCP: known incorrect sRGB profile\n"
     ]
    },
    {
     "name": "stdout",
     "output_type": "stream",
     "text": [
      "76/76 [==============================] - 60s 728ms/step - loss: 3.3581 - accuracy: 0.3549 - val_loss: 3.0647 - val_accuracy: 0.3951\n",
      "Epoch 8/100\n",
      "59/76 [======================>.......] - ETA: 9s - loss: 3.0585 - accuracy: 0.3639"
     ]
    },
    {
     "name": "stderr",
     "output_type": "stream",
     "text": [
      "2025-01-20 10:00:50.651019: W tensorflow/core/lib/png/png_io.cc:89] PNG warning: iCCP: known incorrect sRGB profile\n"
     ]
    },
    {
     "name": "stdout",
     "output_type": "stream",
     "text": [
      "76/76 [==============================] - 58s 706ms/step - loss: 3.0365 - accuracy: 0.3611 - val_loss: 2.8848 - val_accuracy: 0.3809\n",
      "Epoch 9/100\n",
      "61/76 [=======================>......] - ETA: 8s - loss: 2.8380 - accuracy: 0.3804"
     ]
    },
    {
     "name": "stderr",
     "output_type": "stream",
     "text": [
      "2025-01-20 10:01:49.708563: W tensorflow/core/lib/png/png_io.cc:89] PNG warning: iCCP: known incorrect sRGB profile\n"
     ]
    },
    {
     "name": "stdout",
     "output_type": "stream",
     "text": [
      "76/76 [==============================] - 58s 705ms/step - loss: 2.8069 - accuracy: 0.3817 - val_loss: 2.6091 - val_accuracy: 0.4093\n",
      "Epoch 9: early stopping\n",
      "Restoring model weights from the end of the best epoch: 1.\n",
      "2/2 [==============================] - 1s 6ms/step\n",
      "2/2 [==============================] - 0s 29ms/step\n",
      "2/2 [==============================] - 0s 23ms/step\n",
      "2/2 [==============================] - 0s 34ms/step\n",
      "2/2 [==============================] - 0s 25ms/step\n",
      "2/2 [==============================] - 0s 31ms/step\n",
      "2/2 [==============================] - 0s 24ms/step\n",
      "2/2 [==============================] - 0s 24ms/step\n",
      "2/2 [==============================] - 0s 41ms/step\n",
      "2/2 [==============================] - 0s 26ms/step\n",
      "2/2 [==============================] - 0s 28ms/step\n",
      "2/2 [==============================] - 0s 24ms/step\n",
      "2/2 [==============================] - 0s 28ms/step\n",
      "2/2 [==============================] - 0s 24ms/step\n",
      "2/2 [==============================] - 0s 25ms/step\n",
      "2/2 [==============================] - 0s 30ms/step\n",
      "2/2 [==============================] - 0s 27ms/step\n",
      "2/2 [==============================] - 0s 25ms/step\n",
      "2/2 [==============================] - 0s 25ms/step\n",
      "2/2 [==============================] - 0s 24ms/step\n",
      "2/2 [==============================] - 0s 24ms/step\n",
      "2/2 [==============================] - 0s 24ms/step\n",
      "2/2 [==============================] - 0s 25ms/step\n",
      "2/2 [==============================] - 0s 25ms/step\n",
      "2/2 [==============================] - 0s 25ms/step\n",
      "1/1 [==============================] - 0s 74ms/step\n",
      "Confusion Matrix: \n"
     ]
    },
    {
     "name": "stderr",
     "output_type": "stream",
     "text": [
      "2025-01-20 10:02:23.122640: I tensorflow/core/framework/local_rendezvous.cc:405] Local rendezvous is aborting with status: OUT_OF_RANGE: End of sequence\n"
     ]
    },
    {
     "name": "stdout",
     "output_type": "stream",
     "text": [
      "Validation loss: 7.600767612457275\n",
      "Validation accuracy: 0.14753086864948273\n"
     ]
    },
    {
     "data": {
      "image/png": "[encoded data removed]",
      "text/plain": [
       "<Figure size 800x800 with 2 Axes>"
      ]
     },
     "metadata": {},
     "output_type": "display_data"
    },
    {
     "data": {
      "image/png": "[encoded data removed]",
      "text/plain": [
       "<Figure size 800x800 with 2 Axes>"
      ]
     },
     "metadata": {},
     "output_type": "display_data"
    }
   ],
   "source": [
    "#%%\n",
    "\n",
    "import tensorflow as tf\n",
    "import tf_keras\n",
    "import matplotlib.pyplot as plt\n",
    "import seaborn as sns\n",
    "import numpy as np\n",
    "from tf_keras import layers\n",
    "from tf_keras.models import Sequential\n",
    "from sklearn.metrics import confusion_matrix\n",
    "from tf_keras.optimizers import Adam\n",
    "from tf_keras.regularizers import l2\n",
    "\n",
    "tf.keras.backend.clear_session()\n",
    "\n",
    "gpu_devices = tf.config.list_physical_devices('GPU')\n",
    "if gpu_devices:\n",
    "  tf.config.experimental.set_memory_growth(gpu_devices[0], True)\n",
    "  print('GPU found', gpu_devices[0])\n",
    "else:\n",
    "  print('No GPU found')\n",
    "\n",
    "#define image size\n",
    "IMG_SIZE = 224\n",
    "\n",
    "#define batch size\n",
    "BATCH_SIZE = 64\n",
    "\n",
    "#training directory\n",
    "TRAINING_DIR = \"Train\"\n",
    "  \n",
    "#training split\n",
    "train_ds = tf_keras.utils.image_dataset_from_directory(\n",
    "  TRAINING_DIR,\n",
    "  labels = \"inferred\",\n",
    "  image_size = (IMG_SIZE, IMG_SIZE),\n",
    "  batch_size = BATCH_SIZE,\n",
    "  subset = \"training\",\n",
    "  validation_split = 0.25,\n",
    "  shuffle = True,\n",
    "  seed = 225\n",
    ")\n",
    "\n",
    "#validation split, taken directly from the same directory as train\n",
    "validation_ds = tf_keras.utils.image_dataset_from_directory(\n",
    "  TRAINING_DIR,\n",
    "  labels = \"inferred\",\n",
    "  image_size = (IMG_SIZE, IMG_SIZE),\n",
    "  batch_size = BATCH_SIZE,\n",
    "  subset = 'validation',\n",
    "  validation_split = 0.25,\n",
    "  shuffle = True,\n",
    "  seed = 225\n",
    ")\n",
    "\n",
    "CLASS_NAMES = train_ds.class_names\n",
    "\n",
    "AUTOTUNE = tf.data.AUTOTUNE\n",
    "train_ds = train_ds.prefetch(buffer_size = AUTOTUNE)\n",
    "val_ds = validation_ds.cache().prefetch(buffer_size = AUTOTUNE)\n",
    "\n",
    "#data augmentation to increase robustness\n",
    "data_augmentation = Sequential([\n",
    "  layers.experimental.preprocessing.RandomFlip('horizontal'),\n",
    "  layers.experimental.preprocessing.RandomRotation(0.2),\n",
    "  layers.experimental.preprocessing.RandomZoom(0.2) \n",
    "])\n",
    "\n",
    "train_ds = train_ds.map(lambda x, y: (data_augmentation(x, training = True), y))\n",
    "\n",
    "#normalizing and augmenting the data\n",
    "norm_layer = layers.Rescaling(1./255)\n",
    "train_ds = train_ds.map(lambda x, y: (norm_layer(x), y))\n",
    "validation_ds = validation_ds.map(lambda x, y: (norm_layer(x), y))\n",
    "\n",
    "num_classes = len(CLASS_NAMES)\n",
    "\n",
    "#training model\n",
    "model = Sequential([\n",
    "  layers.Conv2D(64, (3, 3), input_shape = (224, 224, 3)),\n",
    "  layers.Activation('relu'),\n",
    "  layers.MaxPooling2D(2, 2),\n",
    "  layers.Conv2D(64, (3, 3)),\n",
    "  layers.Activation('relu'),\n",
    "  layers.MaxPooling2D(2, 2),\n",
    "  layers.Conv2D(128, (3, 3)),\n",
    "  layers.Activation('relu'),\n",
    "  layers.MaxPooling2D(2, 2),\n",
    "  layers.Conv2D(128, (3, 3)),\n",
    "  layers.Activation('relu'),\n",
    "  layers.MaxPooling2D(2, 2),\n",
    "  layers.Conv2D(256, (5, 5)), \n",
    "  layers.Activation('relu'),\n",
    "  layers.MaxPooling2D(2, 2),\n",
    "  layers.Conv2D(256, (3, 3)),\n",
    "  layers.Activation('relu'),\n",
    "  layers.MaxPooling2D(2, 2),\n",
    "  layers.Flatten(),\n",
    "  layers.Dense(512, activation = 'relu', kernel_regularizer = l2(0.02)),\n",
    "  layers.Dropout(0.5),\n",
    "  layers.Dense(num_classes, activation = 'softmax')\n",
    "])\n",
    "\n",
    "model.summary()\n",
    "\n",
    "model.compile(optimizer = Adam(learning_rate = 0.0001, weight_decay = 1e-6), \n",
    "              loss = tf_keras.losses.SparseCategoricalCrossentropy(from_logits = True), \n",
    "              metrics = ['accuracy'])\n",
    "\n",
    "#no of epochs\n",
    "epochs = 100\n",
    "\n",
    "\n",
    "#early stopping\n",
    "early_stopping = tf_keras.callbacks.EarlyStopping(monitor = 'val_accuracy', \n",
    "                                                  mode = 'min', \n",
    "                                                  verbose = 1, \n",
    "                                                  patience = 8, \n",
    "                                                  restore_best_weights = True)\n",
    "                                       \n",
    "\n",
    "#class weights since the dataset is imbalanced\n",
    "class_weights = {\n",
    "    0: 0.657,  #bike\n",
    "    1: 1.165,  #bus\n",
    "    2: 1.006,  #cng\n",
    "    3: 0.885,  #easy bike\n",
    "    4: 1.385,  #hatchback\n",
    "    5: 1.296,  #mpv\n",
    "    6: 2.689,  #pickup\n",
    "    7: 0.695,  #sedan\n",
    "    8: 1.117,  #suv\n",
    "    9: 0.770   #truck\n",
    "}\n",
    "\n",
    "\n",
    "#fitting of the model\n",
    "history = model.fit(train_ds, \n",
    "                    validation_data = validation_ds, \n",
    "                    epochs = epochs,\n",
    "                    class_weight = class_weights,\n",
    "                    callbacks = [early_stopping])\n",
    "\n",
    "#accuracy and loss values\n",
    "accuracy = history.history['accuracy']\n",
    "val_accuracy = history.history['val_accuracy']\n",
    "\n",
    "loss = history.history['loss']\n",
    "val_loss = history.history['val_loss']\n",
    "\n",
    "epochs_range = range(epochs)\n",
    "\n",
    "true_labels = []\n",
    "predicted_labels = []\n",
    "\n",
    "for images, labels in val_ds:\n",
    "  true_labels.extend(labels.numpy())\n",
    "  pred = model.predict(images)\n",
    "  predicted_labels.extend(np.argmax(pred, axis = 1))\n",
    "\n",
    "confusion_matrix = confusion_matrix(true_labels, predicted_labels)\n",
    "\n",
    "print('Confusion Matrix: ')\n",
    "plt.figure(figsize=(8, 8))\n",
    "sns.heatmap(confusion_matrix, annot = True, fmt = 'd', xticklabels = CLASS_NAMES, yticklabels = CLASS_NAMES, cmap = 'Blues')\n",
    "plt.xlabel('Predicted')\n",
    "plt.ylabel('True')\n",
    "plt.title('Confusion Matrix')\n",
    "\n",
    "score = model.evaluate(validation_ds, verbose = 0)\n",
    "print('Validation loss:', score[0])\n",
    "print('Validation accuracy:', score[1])\n",
    "\n",
    "plt.figure(figsize = (8, 8))\n",
    "plt.subplot(1, 2, 1)\n",
    "plt.plot(accuracy, label = 'Training Accuracy')\n",
    "plt.plot(val_accuracy, label = 'Validation Accuracy')\n",
    "plt.legend(loc = 'lower right')\n",
    "plt.title('Training and Validation Accuracy')\n",
    "\n",
    "plt.subplot(1, 2, 2)\n",
    "plt.plot(loss, label = 'Training Loss')\n",
    "plt.plot(val_loss, label = 'Validation Loss')\n",
    "plt.legend(loc = 'upper right')\n",
    "plt.title('Training and Validation Loss')\n",
    "plt.show()"
   ]
  },
  {
   "cell_type": "code",
   "execution_count": null,
   "id": "5ad683fa-d733-44e3-a257-5e1f53014b72",
   "metadata": {},
   "outputs": [
    {
     "name": "stdout",
     "output_type": "stream",
     "text": [
      "GPU found PhysicalDevice(name='/physical_device:GPU:0', device_type='GPU')\n",
      "Found 6480 files belonging to 10 classes.\n",
      "Using 4860 files for training.\n",
      "Found 6480 files belonging to 10 classes.\n",
      "Using 1620 files for validation.\n",
      "Model: \"sequential_1\"\n",
      "_________________________________________________________________\n",
      " Layer (type)                Output Shape              Param #   \n",
      "=================================================================\n",
      " conv2d (Conv2D)             (None, 222, 222, 64)      1792      \n",
      "                                                                 \n",
      " activation (Activation)     (None, 222, 222, 64)      0         \n",
      "                                                                 \n",
      " max_pooling2d (MaxPooling2  (None, 111, 111, 64)      0         \n",
      " D)                                                              \n",
      "                                                                 \n",
      " conv2d_1 (Conv2D)           (None, 109, 109, 64)      36928     \n",
      "                                                                 \n",
      " activation_1 (Activation)   (None, 109, 109, 64)      0         \n",
      "                                                                 \n",
      " max_pooling2d_1 (MaxPoolin  (None, 54, 54, 64)        0         \n",
      " g2D)                                                            \n",
      "                                                                 \n",
      " conv2d_2 (Conv2D)           (None, 52, 52, 128)       73856     \n",
      "                                                                 \n",
      " activation_2 (Activation)   (None, 52, 52, 128)       0         \n",
      "                                                                 \n",
      " max_pooling2d_2 (MaxPoolin  (None, 26, 26, 128)       0         \n",
      " g2D)                                                            \n",
      "                                                                 \n",
      " conv2d_3 (Conv2D)           (None, 24, 24, 128)       147584    \n",
      "                                                                 \n",
      " activation_3 (Activation)   (None, 24, 24, 128)       0         \n",
      "                                                                 \n",
      " max_pooling2d_3 (MaxPoolin  (None, 12, 12, 128)       0         \n",
      " g2D)                                                            \n",
      "                                                                 \n",
      " conv2d_4 (Conv2D)           (None, 8, 8, 256)         819456    \n",
      "                                                                 \n",
      " activation_4 (Activation)   (None, 8, 8, 256)         0         \n",
      "                                                                 \n",
      " max_pooling2d_4 (MaxPoolin  (None, 4, 4, 256)         0         \n",
      " g2D)                                                            \n",
      "                                                                 \n",
      " conv2d_5 (Conv2D)           (None, 2, 2, 256)         590080    \n",
      "                                                                 \n",
      " activation_5 (Activation)   (None, 2, 2, 256)         0         \n",
      "                                                                 \n",
      " max_pooling2d_5 (MaxPoolin  (None, 1, 1, 256)         0         \n",
      " g2D)                                                            \n",
      "                                                                 \n",
      " flatten (Flatten)           (None, 256)               0         \n",
      "                                                                 \n",
      " dense (Dense)               (None, 512)               131584    \n",
      "                                                                 \n",
      " dropout (Dropout)           (None, 512)               0         \n",
      "                                                                 \n",
      " dense_1 (Dense)             (None, 10)                5130      \n",
      "                                                                 \n",
      "=================================================================\n",
      "Total params: 1806410 (6.89 MB)\n",
      "Trainable params: 1806410 (6.89 MB)\n",
      "Non-trainable params: 0 (0.00 Byte)\n",
      "_________________________________________________________________\n",
      "Epoch 1/100\n"
     ]
    },
    {
     "name": "stderr",
     "output_type": "stream",
     "text": [
      "/home/adiicmp/GitHub Repos/Python/.venv/lib/python3.12/site-packages/tf_keras/src/backend.py:5729: UserWarning: \"`sparse_categorical_crossentropy` received `from_logits=True`, but the `output` argument was produced by a Softmax activation and thus does not represent logits. Was this intended?\n",
      "  output, from_logits = _get_logits(\n"
     ]
    },
    {
     "name": "stdout",
     "output_type": "stream",
     "text": [
      "61/76 [=======================>......] - ETA: 8s - loss: 8.5133 - accuracy: 0.1350"
     ]
    },
    {
     "name": "stderr",
     "output_type": "stream",
     "text": [
      "2025-01-20 10:04:54.488457: W tensorflow/core/lib/png/png_io.cc:89] PNG warning: iCCP: known incorrect sRGB profile\n"
     ]
    },
    {
     "name": "stdout",
     "output_type": "stream",
     "text": [
      "76/76 [==============================] - 61s 726ms/step - loss: 8.3633 - accuracy: 0.1387 - val_loss: 7.5777 - val_accuracy: 0.1475\n",
      "Epoch 2/100\n",
      "61/76 [=======================>......] - ETA: 8s - loss: 7.0975 - accuracy: 0.1396"
     ]
    },
    {
     "name": "stderr",
     "output_type": "stream",
     "text": [
      "2025-01-20 10:05:55.763794: W tensorflow/core/lib/png/png_io.cc:89] PNG warning: iCCP: known incorrect sRGB profile\n"
     ]
    },
    {
     "name": "stdout",
     "output_type": "stream",
     "text": [
      "76/76 [==============================] - 62s 754ms/step - loss: 6.9757 - accuracy: 0.1455 - val_loss: 6.3431 - val_accuracy: 0.1475\n",
      "Epoch 3/100\n",
      "61/76 [=======================>......] - ETA: 8s - loss: 5.9439 - accuracy: 0.1778"
     ]
    },
    {
     "name": "stderr",
     "output_type": "stream",
     "text": [
      "2025-01-20 10:06:56.886186: W tensorflow/core/lib/png/png_io.cc:89] PNG warning: iCCP: known incorrect sRGB profile\n"
     ]
    },
    {
     "name": "stdout",
     "output_type": "stream",
     "text": [
      "76/76 [==============================] - 61s 742ms/step - loss: 5.8471 - accuracy: 0.1846 - val_loss: 5.2594 - val_accuracy: 0.2272\n",
      "Epoch 4/100\n",
      "60/76 [======================>.......] - ETA: 9s - loss: 5.0062 - accuracy: 0.2479"
     ]
    },
    {
     "name": "stderr",
     "output_type": "stream",
     "text": [
      "2025-01-20 10:07:57.064899: W tensorflow/core/lib/png/png_io.cc:89] PNG warning: iCCP: known incorrect sRGB profile\n"
     ]
    },
    {
     "name": "stdout",
     "output_type": "stream",
     "text": [
      "76/76 [==============================] - 60s 732ms/step - loss: 4.9354 - accuracy: 0.2457 - val_loss: 4.5260 - val_accuracy: 0.2784\n",
      "Epoch 5/100\n",
      "59/76 [======================>.......] - ETA: 9s - loss: 4.3190 - accuracy: 0.2900"
     ]
    },
    {
     "name": "stderr",
     "output_type": "stream",
     "text": [
      "2025-01-20 10:08:55.930958: W tensorflow/core/lib/png/png_io.cc:89] PNG warning: iCCP: known incorrect sRGB profile\n"
     ]
    },
    {
     "name": "stdout",
     "output_type": "stream",
     "text": [
      "76/76 [==============================] - 58s 706ms/step - loss: 4.2686 - accuracy: 0.2874 - val_loss: 3.9176 - val_accuracy: 0.2969\n",
      "Epoch 6/100\n",
      "60/76 [======================>.......] - ETA: 8s - loss: 3.8208 - accuracy: 0.3057"
     ]
    },
    {
     "name": "stderr",
     "output_type": "stream",
     "text": [
      "2025-01-20 10:09:54.282005: W tensorflow/core/lib/png/png_io.cc:89] PNG warning: iCCP: known incorrect sRGB profile\n"
     ]
    },
    {
     "name": "stdout",
     "output_type": "stream",
     "text": [
      "76/76 [==============================] - 58s 707ms/step - loss: 3.7776 - accuracy: 0.3086 - val_loss: 3.4069 - val_accuracy: 0.3827\n",
      "Epoch 7/100\n",
      "60/76 [======================>.......] - ETA: 8s - loss: 3.3950 - accuracy: 0.3328"
     ]
    },
    {
     "name": "stderr",
     "output_type": "stream",
     "text": [
      "2025-01-20 10:10:50.912960: W tensorflow/core/lib/png/png_io.cc:89] PNG warning: iCCP: known incorrect sRGB profile\n"
     ]
    },
    {
     "name": "stdout",
     "output_type": "stream",
     "text": [
      "76/76 [==============================] - 57s 695ms/step - loss: 3.3569 - accuracy: 0.3337 - val_loss: 3.0472 - val_accuracy: 0.4031\n",
      "Epoch 8/100\n",
      "59/76 [======================>.......] - ETA: 8s - loss: 3.0704 - accuracy: 0.3620"
     ]
    },
    {
     "name": "stderr",
     "output_type": "stream",
     "text": [
      "2025-01-20 10:11:47.011710: W tensorflow/core/lib/png/png_io.cc:89] PNG warning: iCCP: known incorrect sRGB profile\n"
     ]
    },
    {
     "name": "stdout",
     "output_type": "stream",
     "text": [
      "76/76 [==============================] - 56s 677ms/step - loss: 3.0408 - accuracy: 0.3595 - val_loss: 2.8246 - val_accuracy: 0.3920\n",
      "Epoch 9/100\n",
      "60/76 [======================>.......] - ETA: 8s - loss: 2.8374 - accuracy: 0.3651"
     ]
    },
    {
     "name": "stderr",
     "output_type": "stream",
     "text": [
      "2025-01-20 10:12:42.887297: W tensorflow/core/lib/png/png_io.cc:89] PNG warning: iCCP: known incorrect sRGB profile\n"
     ]
    },
    {
     "name": "stdout",
     "output_type": "stream",
     "text": [
      "76/76 [==============================] - 55s 669ms/step - loss: 2.8064 - accuracy: 0.3636 - val_loss: 2.5878 - val_accuracy: 0.4210\n",
      "Epoch 10/100\n",
      "59/76 [======================>.......] - ETA: 8s - loss: 2.6319 - accuracy: 0.3840"
     ]
    },
    {
     "name": "stderr",
     "output_type": "stream",
     "text": [
      "2025-01-20 10:13:37.432501: W tensorflow/core/lib/png/png_io.cc:89] PNG warning: iCCP: known incorrect sRGB profile\n"
     ]
    },
    {
     "name": "stdout",
     "output_type": "stream",
     "text": [
      "76/76 [==============================] - 56s 687ms/step - loss: 2.6062 - accuracy: 0.3831 - val_loss: 2.4242 - val_accuracy: 0.4117\n",
      "Epoch 11/100\n",
      "60/76 [======================>.......] - ETA: 8s - loss: 2.4534 - accuracy: 0.4026"
     ]
    },
    {
     "name": "stderr",
     "output_type": "stream",
     "text": [
      "2025-01-20 10:14:35.608844: W tensorflow/core/lib/png/png_io.cc:89] PNG warning: iCCP: known incorrect sRGB profile\n"
     ]
    },
    {
     "name": "stdout",
     "output_type": "stream",
     "text": [
      "76/76 [==============================] - 57s 697ms/step - loss: 2.4461 - accuracy: 0.3992 - val_loss: 2.3061 - val_accuracy: 0.4204\n",
      "Epoch 11: early stopping\n",
      "Restoring model weights from the end of the best epoch: 1.\n",
      "2/2 [==============================] - 0s 26ms/step\n",
      "2/2 [==============================] - 0s 25ms/step\n",
      "2/2 [==============================] - 0s 27ms/step\n",
      "2/2 [==============================] - 0s 29ms/step\n",
      "2/2 [==============================] - 0s 25ms/step\n",
      "2/2 [==============================] - 0s 26ms/step\n",
      "2/2 [==============================] - 0s 24ms/step\n",
      "2/2 [==============================] - 0s 23ms/step\n",
      "2/2 [==============================] - 0s 30ms/step\n",
      "2/2 [==============================] - 0s 29ms/step\n",
      "2/2 [==============================] - 0s 28ms/step\n",
      "2/2 [==============================] - 0s 24ms/step\n",
      "2/2 [==============================] - 0s 25ms/step\n",
      "2/2 [==============================] - 0s 24ms/step\n",
      "2/2 [==============================] - 0s 32ms/step\n",
      "2/2 [==============================] - 0s 27ms/step\n",
      "2/2 [==============================] - 0s 35ms/step\n",
      "2/2 [==============================] - 0s 22ms/step\n",
      "2/2 [==============================] - 0s 27ms/step\n",
      "2/2 [==============================] - 0s 24ms/step\n",
      "2/2 [==============================] - 0s 25ms/step\n",
      "2/2 [==============================] - 0s 24ms/step\n",
      "2/2 [==============================] - 0s 25ms/step\n",
      "2/2 [==============================] - 0s 25ms/step\n",
      "2/2 [==============================] - 0s 26ms/step\n",
      "1/1 [==============================] - 0s 134ms/step\n",
      "Confusion Matrix: \n"
     ]
    },
    {
     "name": "stderr",
     "output_type": "stream",
     "text": [
      "2025-01-20 10:15:08.579799: I tensorflow/core/framework/local_rendezvous.cc:405] Local rendezvous is aborting with status: OUT_OF_RANGE: End of sequence\n"
     ]
    },
    {
     "name": "stdout",
     "output_type": "stream",
     "text": [
      "Validation loss: 7.577701091766357\n",
      "Validation accuracy: 0.14753086864948273\n"
     ]
    },
    {
     "data": {
      "image/png": "[encoded data removed]",
      "text/plain": [
       "<Figure size 800x800 with 2 Axes>"
      ]
     },
     "metadata": {},
     "output_type": "display_data"
    },
    {
     "data": {
      "image/png": "[encoded data removed]",
      "text/plain": [
       "<Figure size 800x800 with 2 Axes>"
      ]
     },
     "metadata": {},
     "output_type": "display_data"
    }
   ],
   "source": [
    "#%%\n",
    "\n",
    "import tensorflow as tf\n",
    "import tf_keras\n",
    "import matplotlib.pyplot as plt\n",
    "import seaborn as sns\n",
    "import numpy as np\n",
    "from tf_keras import layers\n",
    "from tf_keras.models import Sequential\n",
    "from sklearn.metrics import confusion_matrix\n",
    "from tf_keras.optimizers import Adam\n",
    "from tf_keras.regularizers import l2\n",
    "\n",
    "tf.keras.backend.clear_session()\n",
    "\n",
    "gpu_devices = tf.config.list_physical_devices('GPU')\n",
    "if gpu_devices:\n",
    "  tf.config.experimental.set_memory_growth(gpu_devices[0], True)\n",
    "  print('GPU found', gpu_devices[0])\n",
    "else:\n",
    "  print('No GPU found')\n",
    "\n",
    "#define image size\n",
    "IMG_SIZE = 224\n",
    "\n",
    "#define batch size\n",
    "BATCH_SIZE = 64\n",
    "\n",
    "#training directory\n",
    "TRAINING_DIR = \"Train\"\n",
    "  \n",
    "#training split\n",
    "train_ds = tf_keras.utils.image_dataset_from_directory(\n",
    "  TRAINING_DIR,\n",
    "  labels = \"inferred\",\n",
    "  image_size = (IMG_SIZE, IMG_SIZE),\n",
    "  batch_size = BATCH_SIZE,\n",
    "  subset = \"training\",\n",
    "  validation_split = 0.25,\n",
    "  shuffle = True,\n",
    "  seed = 225\n",
    ")\n",
    "\n",
    "#validation split, taken directly from the same directory as train\n",
    "validation_ds = tf_keras.utils.image_dataset_from_directory(\n",
    "  TRAINING_DIR,\n",
    "  labels = \"inferred\",\n",
    "  image_size = (IMG_SIZE, IMG_SIZE),\n",
    "  batch_size = BATCH_SIZE,\n",
    "  subset = 'validation',\n",
    "  validation_split = 0.25,\n",
    "  shuffle = True,\n",
    "  seed = 225\n",
    ")\n",
    "\n",
    "CLASS_NAMES = train_ds.class_names\n",
    "\n",
    "AUTOTUNE = tf.data.AUTOTUNE\n",
    "train_ds = train_ds.prefetch(buffer_size = AUTOTUNE)\n",
    "val_ds = validation_ds.cache().prefetch(buffer_size = AUTOTUNE)\n",
    "\n",
    "#data augmentation to increase robustness\n",
    "data_augmentation = Sequential([\n",
    "  layers.experimental.preprocessing.RandomFlip('horizontal'),\n",
    "  layers.experimental.preprocessing.RandomRotation(0.2),\n",
    "  layers.experimental.preprocessing.RandomZoom(0.2) \n",
    "])\n",
    "\n",
    "train_ds = train_ds.map(lambda x, y: (data_augmentation(x, training = True), y))\n",
    "\n",
    "#normalizing and augmenting the data\n",
    "norm_layer = layers.Rescaling(1./255)\n",
    "train_ds = train_ds.map(lambda x, y: (norm_layer(x), y))\n",
    "validation_ds = validation_ds.map(lambda x, y: (norm_layer(x), y))\n",
    "\n",
    "num_classes = len(CLASS_NAMES)\n",
    "\n",
    "#training model\n",
    "model = Sequential([\n",
    "  layers.Conv2D(64, (3, 3), input_shape = (224, 224, 3)),\n",
    "  layers.Activation('relu'),\n",
    "  layers.MaxPooling2D(2, 2),\n",
    "  layers.Conv2D(64, (3, 3)),\n",
    "  layers.Activation('relu'),\n",
    "  layers.MaxPooling2D(2, 2),\n",
    "  layers.Conv2D(128, (3, 3)),\n",
    "  layers.Activation('relu'),\n",
    "  layers.MaxPooling2D(2, 2),\n",
    "  layers.Conv2D(128, (3, 3)),\n",
    "  layers.Activation('relu'),\n",
    "  layers.MaxPooling2D(2, 2),\n",
    "  layers.Conv2D(256, (5, 5)), \n",
    "  layers.Activation('relu'),\n",
    "  layers.MaxPooling2D(2, 2),\n",
    "  layers.Conv2D(256, (3, 3)),\n",
    "  layers.Activation('relu'),\n",
    "  layers.MaxPooling2D(2, 2),\n",
    "  layers.Flatten(),\n",
    "  layers.Dense(512, activation = 'relu', kernel_regularizer = l2(0.02)),\n",
    "  layers.Dropout(0.5),\n",
    "  layers.Dense(num_classes, activation = 'softmax')\n",
    "])\n",
    "\n",
    "model.summary()\n",
    "\n",
    "model.compile(optimizer = Adam(learning_rate = 0.0001, weight_decay = 1e-6), \n",
    "              loss = tf_keras.losses.SparseCategoricalCrossentropy(from_logits = True), \n",
    "              metrics = ['accuracy'])\n",
    "\n",
    "#no of epochs\n",
    "epochs = 100\n",
    "\n",
    "\n",
    "#early stopping\n",
    "early_stopping = tf_keras.callbacks.EarlyStopping(monitor = 'val_accuracy', \n",
    "                                                  mode = 'min', \n",
    "                                                  verbose = 1, \n",
    "                                                  patience = 10, \n",
    "                                                  restore_best_weights = True)\n",
    "                                       \n",
    "\n",
    "#class weights since the dataset is imbalanced\n",
    "class_weights = {\n",
    "    0: 0.657,  #bike\n",
    "    1: 1.165,  #bus\n",
    "    2: 1.006,  #cng\n",
    "    3: 0.885,  #easy bike\n",
    "    4: 1.385,  #hatchback\n",
    "    5: 1.296,  #mpv\n",
    "    6: 2.689,  #pickup\n",
    "    7: 0.695,  #sedan\n",
    "    8: 1.117,  #suv\n",
    "    9: 0.770   #truck\n",
    "}\n",
    "\n",
    "\n",
    "#fitting of the model\n",
    "history = model.fit(train_ds, \n",
    "                    validation_data = validation_ds, \n",
    "                    epochs = epochs,\n",
    "                    class_weight = class_weights,\n",
    "                    callbacks = [early_stopping])\n",
    "\n",
    "#accuracy and loss values\n",
    "accuracy = history.history['accuracy']\n",
    "val_accuracy = history.history['val_accuracy']\n",
    "\n",
    "loss = history.history['loss']\n",
    "val_loss = history.history['val_loss']\n",
    "\n",
    "epochs_range = range(epochs)\n",
    "\n",
    "true_labels = []\n",
    "predicted_labels = []\n",
    "\n",
    "for images, labels in val_ds:\n",
    "  true_labels.extend(labels.numpy())\n",
    "  pred = model.predict(images)\n",
    "  predicted_labels.extend(np.argmax(pred, axis = 1))\n",
    "\n",
    "confusion_matrix = confusion_matrix(true_labels, predicted_labels)\n",
    "\n",
    "print('Confusion Matrix: ')\n",
    "plt.figure(figsize=(8, 8))\n",
    "sns.heatmap(confusion_matrix, annot = True, fmt = 'd', xticklabels = CLASS_NAMES, yticklabels = CLASS_NAMES, cmap = 'Blues')\n",
    "plt.xlabel('Predicted')\n",
    "plt.ylabel('True')\n",
    "plt.title('Confusion Matrix')\n",
    "\n",
    "score = model.evaluate(validation_ds, verbose = 0)\n",
    "print('Validation loss:', score[0])\n",
    "print('Validation accuracy:', score[1])\n",
    "\n",
    "plt.figure(figsize = (8, 8))\n",
    "plt.subplot(1, 2, 1)\n",
    "plt.plot(accuracy, label = 'Training Accuracy')\n",
    "plt.plot(val_accuracy, label = 'Validation Accuracy')\n",
    "plt.legend(loc = 'lower right')\n",
    "plt.title('Training and Validation Accuracy')\n",
    "\n",
    "plt.subplot(1, 2, 2)\n",
    "plt.plot(loss, label = 'Training Loss')\n",
    "plt.plot(val_loss, label = 'Validation Loss')\n",
    "plt.legend(loc = 'upper right')\n",
    "plt.title('Training and Validation Loss')\n",
    "plt.show()"
   ]
  },
  {
   "cell_type": "code",
   "execution_count": null,
   "id": "aeacf37a-282b-46cc-afff-d6d98d7c5fe0",
   "metadata": {},
   "outputs": [
    {
     "name": "stdout",
     "output_type": "stream",
     "text": [
      "GPU found PhysicalDevice(name='/physical_device:GPU:0', device_type='GPU')\n",
      "Found 6480 files belonging to 10 classes.\n",
      "Using 4860 files for training.\n",
      "Found 6480 files belonging to 10 classes.\n",
      "Using 1620 files for validation.\n",
      "Model: \"sequential_1\"\n",
      "_________________________________________________________________\n",
      " Layer (type)                Output Shape              Param #   \n",
      "=================================================================\n",
      " conv2d (Conv2D)             (None, 222, 222, 64)      1792      \n",
      "                                                                 \n",
      " activation (Activation)     (None, 222, 222, 64)      0         \n",
      "                                                                 \n",
      " max_pooling2d (MaxPooling2  (None, 111, 111, 64)      0         \n",
      " D)                                                              \n",
      "                                                                 \n",
      " conv2d_1 (Conv2D)           (None, 109, 109, 64)      36928     \n",
      "                                                                 \n",
      " activation_1 (Activation)   (None, 109, 109, 64)      0         \n",
      "                                                                 \n",
      " max_pooling2d_1 (MaxPoolin  (None, 54, 54, 64)        0         \n",
      " g2D)                                                            \n",
      "                                                                 \n",
      " conv2d_2 (Conv2D)           (None, 52, 52, 128)       73856     \n",
      "                                                                 \n",
      " activation_2 (Activation)   (None, 52, 52, 128)       0         \n",
      "                                                                 \n",
      " max_pooling2d_2 (MaxPoolin  (None, 26, 26, 128)       0         \n",
      " g2D)                                                            \n",
      "                                                                 \n",
      " conv2d_3 (Conv2D)           (None, 24, 24, 128)       147584    \n",
      "                                                                 \n",
      " activation_3 (Activation)   (None, 24, 24, 128)       0         \n",
      "                                                                 \n",
      " max_pooling2d_3 (MaxPoolin  (None, 12, 12, 128)       0         \n",
      " g2D)                                                            \n",
      "                                                                 \n",
      " conv2d_4 (Conv2D)           (None, 8, 8, 256)         819456    \n",
      "                                                                 \n",
      " activation_4 (Activation)   (None, 8, 8, 256)         0         \n",
      "                                                                 \n",
      " max_pooling2d_4 (MaxPoolin  (None, 4, 4, 256)         0         \n",
      " g2D)                                                            \n",
      "                                                                 \n",
      " conv2d_5 (Conv2D)           (None, 2, 2, 256)         590080    \n",
      "                                                                 \n",
      " activation_5 (Activation)   (None, 2, 2, 256)         0         \n",
      "                                                                 \n",
      " max_pooling2d_5 (MaxPoolin  (None, 1, 1, 256)         0         \n",
      " g2D)                                                            \n",
      "                                                                 \n",
      " flatten (Flatten)           (None, 256)               0         \n",
      "                                                                 \n",
      " dense (Dense)               (None, 512)               131584    \n",
      "                                                                 \n",
      " dropout (Dropout)           (None, 512)               0         \n",
      "                                                                 \n",
      " dense_1 (Dense)             (None, 10)                5130      \n",
      "                                                                 \n",
      "=================================================================\n",
      "Total params: 1806410 (6.89 MB)\n",
      "Trainable params: 1806410 (6.89 MB)\n",
      "Non-trainable params: 0 (0.00 Byte)\n",
      "_________________________________________________________________\n",
      "Epoch 1/200\n"
     ]
    },
    {
     "name": "stderr",
     "output_type": "stream",
     "text": [
      "/home/adiicmp/GitHub Repos/Python/.venv/lib/python3.12/site-packages/tf_keras/src/backend.py:5729: UserWarning: \"`sparse_categorical_crossentropy` received `from_logits=True`, but the `output` argument was produced by a Softmax activation and thus does not represent logits. Was this intended?\n",
      "  output, from_logits = _get_logits(\n"
     ]
    },
    {
     "name": "stdout",
     "output_type": "stream",
     "text": [
      "60/76 [======================>.......] - ETA: 8s - loss: 8.5249 - accuracy: 0.1419"
     ]
    },
    {
     "name": "stderr",
     "output_type": "stream",
     "text": [
      "2025-01-20 10:32:23.953475: W tensorflow/core/lib/png/png_io.cc:89] PNG warning: iCCP: known incorrect sRGB profile\n"
     ]
    },
    {
     "name": "stdout",
     "output_type": "stream",
     "text": [
      "76/76 [==============================] - 62s 731ms/step - loss: 8.3658 - accuracy: 0.1434 - val_loss: 7.5830 - val_accuracy: 0.1475\n",
      "Epoch 2/200\n",
      "60/76 [======================>.......] - ETA: 8s - loss: 7.1246 - accuracy: 0.1326"
     ]
    },
    {
     "name": "stderr",
     "output_type": "stream",
     "text": [
      "2025-01-20 10:33:24.107882: W tensorflow/core/lib/png/png_io.cc:89] PNG warning: iCCP: known incorrect sRGB profile\n"
     ]
    },
    {
     "name": "stdout",
     "output_type": "stream",
     "text": [
      "76/76 [==============================] - 59s 710ms/step - loss: 6.9982 - accuracy: 0.1391 - val_loss: 6.3471 - val_accuracy: 0.1475\n",
      "Epoch 3/200\n",
      "61/76 [=======================>......] - ETA: 8s - loss: 5.9775 - accuracy: 0.1609"
     ]
    },
    {
     "name": "stderr",
     "output_type": "stream",
     "text": [
      "2025-01-20 10:34:25.218532: W tensorflow/core/lib/png/png_io.cc:89] PNG warning: iCCP: known incorrect sRGB profile\n"
     ]
    },
    {
     "name": "stdout",
     "output_type": "stream",
     "text": [
      "76/76 [==============================] - 63s 762ms/step - loss: 5.8773 - accuracy: 0.1663 - val_loss: 5.2930 - val_accuracy: 0.2327\n",
      "Epoch 4/200\n",
      "59/76 [======================>.......] - ETA: 9s - loss: 5.0377 - accuracy: 0.2299 "
     ]
    },
    {
     "name": "stderr",
     "output_type": "stream",
     "text": [
      "2025-01-20 10:35:26.528925: W tensorflow/core/lib/png/png_io.cc:89] PNG warning: iCCP: known incorrect sRGB profile\n"
     ]
    },
    {
     "name": "stdout",
     "output_type": "stream",
     "text": [
      "76/76 [==============================] - 61s 741ms/step - loss: 4.9589 - accuracy: 0.2340 - val_loss: 4.5853 - val_accuracy: 0.2488\n",
      "Epoch 5/200\n",
      "60/76 [======================>.......] - ETA: 9s - loss: 4.3432 - accuracy: 0.2664"
     ]
    },
    {
     "name": "stderr",
     "output_type": "stream",
     "text": [
      "2025-01-20 10:36:27.484884: W tensorflow/core/lib/png/png_io.cc:89] PNG warning: iCCP: known incorrect sRGB profile\n"
     ]
    },
    {
     "name": "stdout",
     "output_type": "stream",
     "text": [
      "76/76 [==============================] - 60s 727ms/step - loss: 4.2933 - accuracy: 0.2654 - val_loss: 4.0383 - val_accuracy: 0.2630\n",
      "Epoch 6/200\n",
      "59/76 [======================>.......] - ETA: 9s - loss: 3.8290 - accuracy: 0.2865 "
     ]
    },
    {
     "name": "stderr",
     "output_type": "stream",
     "text": [
      "2025-01-20 10:37:25.277305: W tensorflow/core/lib/png/png_io.cc:89] PNG warning: iCCP: known incorrect sRGB profile\n"
     ]
    },
    {
     "name": "stdout",
     "output_type": "stream",
     "text": [
      "76/76 [==============================] - 59s 714ms/step - loss: 3.7789 - accuracy: 0.2912 - val_loss: 3.4847 - val_accuracy: 0.3284\n",
      "Epoch 7/200\n",
      "60/76 [======================>.......] - ETA: 8s - loss: 3.4141 - accuracy: 0.3219"
     ]
    },
    {
     "name": "stderr",
     "output_type": "stream",
     "text": [
      "2025-01-20 10:38:23.627388: W tensorflow/core/lib/png/png_io.cc:89] PNG warning: iCCP: known incorrect sRGB profile\n"
     ]
    },
    {
     "name": "stdout",
     "output_type": "stream",
     "text": [
      "76/76 [==============================] - 57s 699ms/step - loss: 3.3815 - accuracy: 0.3233 - val_loss: 3.1409 - val_accuracy: 0.3383\n",
      "Epoch 8/200\n",
      "59/76 [======================>.......] - ETA: 9s - loss: 3.0842 - accuracy: 0.3461"
     ]
    },
    {
     "name": "stderr",
     "output_type": "stream",
     "text": [
      "2025-01-20 10:39:21.200346: W tensorflow/core/lib/png/png_io.cc:89] PNG warning: iCCP: known incorrect sRGB profile\n"
     ]
    },
    {
     "name": "stdout",
     "output_type": "stream",
     "text": [
      "76/76 [==============================] - 58s 702ms/step - loss: 3.0575 - accuracy: 0.3484 - val_loss: 2.9020 - val_accuracy: 0.3500\n",
      "Epoch 9/200\n",
      "61/76 [=======================>......] - ETA: 8s - loss: 2.8198 - accuracy: 0.3712"
     ]
    },
    {
     "name": "stderr",
     "output_type": "stream",
     "text": [
      "2025-01-20 10:40:19.633189: W tensorflow/core/lib/png/png_io.cc:89] PNG warning: iCCP: known incorrect sRGB profile\n"
     ]
    },
    {
     "name": "stdout",
     "output_type": "stream",
     "text": [
      "76/76 [==============================] - 57s 697ms/step - loss: 2.7992 - accuracy: 0.3669 - val_loss: 2.5838 - val_accuracy: 0.3988\n",
      "Epoch 10/200\n",
      "58/76 [=====================>........] - ETA: 9s - loss: 2.6403 - accuracy: 0.3898 "
     ]
    },
    {
     "name": "stderr",
     "output_type": "stream",
     "text": [
      "2025-01-20 10:41:15.428327: W tensorflow/core/lib/png/png_io.cc:89] PNG warning: iCCP: known incorrect sRGB profile\n"
     ]
    },
    {
     "name": "stdout",
     "output_type": "stream",
     "text": [
      "76/76 [==============================] - 57s 689ms/step - loss: 2.6084 - accuracy: 0.3895 - val_loss: 2.5188 - val_accuracy: 0.3698\n",
      "Epoch 11/200\n",
      "60/76 [======================>.......] - ETA: 8s - loss: 2.4593 - accuracy: 0.3997"
     ]
    },
    {
     "name": "stderr",
     "output_type": "stream",
     "text": [
      "2025-01-20 10:42:12.700066: W tensorflow/core/lib/png/png_io.cc:89] PNG warning: iCCP: known incorrect sRGB profile\n"
     ]
    },
    {
     "name": "stdout",
     "output_type": "stream",
     "text": [
      "76/76 [==============================] - 56s 682ms/step - loss: 2.4474 - accuracy: 0.3967 - val_loss: 2.4017 - val_accuracy: 0.3735\n",
      "Epoch 12/200\n",
      "61/76 [=======================>......] - ETA: 7s - loss: 2.3270 - accuracy: 0.4055"
     ]
    },
    {
     "name": "stderr",
     "output_type": "stream",
     "text": [
      "2025-01-20 10:43:08.327184: W tensorflow/core/lib/png/png_io.cc:89] PNG warning: iCCP: known incorrect sRGB profile\n"
     ]
    },
    {
     "name": "stdout",
     "output_type": "stream",
     "text": [
      "76/76 [==============================] - 56s 681ms/step - loss: 2.3205 - accuracy: 0.4033 - val_loss: 2.1666 - val_accuracy: 0.4167\n",
      "Epoch 13/200\n",
      "59/76 [======================>.......] - ETA: 9s - loss: 2.2502 - accuracy: 0.4108"
     ]
    },
    {
     "name": "stderr",
     "output_type": "stream",
     "text": [
      "2025-01-20 10:44:04.916502: W tensorflow/core/lib/png/png_io.cc:89] PNG warning: iCCP: known incorrect sRGB profile\n"
     ]
    },
    {
     "name": "stdout",
     "output_type": "stream",
     "text": [
      "76/76 [==============================] - 57s 699ms/step - loss: 2.2401 - accuracy: 0.4080 - val_loss: 2.1283 - val_accuracy: 0.4062\n",
      "Epoch 14/200\n",
      "60/76 [======================>.......] - ETA: 8s - loss: 2.1356 - accuracy: 0.4240"
     ]
    },
    {
     "name": "stderr",
     "output_type": "stream",
     "text": [
      "2025-01-20 10:45:02.621415: W tensorflow/core/lib/png/png_io.cc:89] PNG warning: iCCP: known incorrect sRGB profile\n"
     ]
    },
    {
     "name": "stdout",
     "output_type": "stream",
     "text": [
      "76/76 [==============================] - 57s 693ms/step - loss: 2.1319 - accuracy: 0.4243 - val_loss: 2.0921 - val_accuracy: 0.4216\n",
      "Epoch 15/200\n",
      "61/76 [=======================>......] - ETA: 8s - loss: 2.0720 - accuracy: 0.4378"
     ]
    },
    {
     "name": "stderr",
     "output_type": "stream",
     "text": [
      "2025-01-20 10:45:59.765859: W tensorflow/core/lib/png/png_io.cc:89] PNG warning: iCCP: known incorrect sRGB profile\n"
     ]
    },
    {
     "name": "stdout",
     "output_type": "stream",
     "text": [
      "76/76 [==============================] - 57s 694ms/step - loss: 2.0662 - accuracy: 0.4350 - val_loss: 2.0502 - val_accuracy: 0.4167\n",
      "Epoch 16/200\n",
      "59/76 [======================>.......] - ETA: 9s - loss: 1.9874 - accuracy: 0.4457"
     ]
    },
    {
     "name": "stderr",
     "output_type": "stream",
     "text": [
      "2025-01-20 10:46:56.387247: W tensorflow/core/lib/png/png_io.cc:89] PNG warning: iCCP: known incorrect sRGB profile\n"
     ]
    },
    {
     "name": "stdout",
     "output_type": "stream",
     "text": [
      "76/76 [==============================] - 57s 698ms/step - loss: 1.9835 - accuracy: 0.4447 - val_loss: 1.9547 - val_accuracy: 0.4364\n",
      "Epoch 17/200\n",
      "60/76 [======================>.......] - ETA: 8s - loss: 1.9286 - accuracy: 0.4581"
     ]
    },
    {
     "name": "stderr",
     "output_type": "stream",
     "text": [
      "2025-01-20 10:47:53.313044: W tensorflow/core/lib/png/png_io.cc:89] PNG warning: iCCP: known incorrect sRGB profile\n"
     ]
    },
    {
     "name": "stdout",
     "output_type": "stream",
     "text": [
      "76/76 [==============================] - 56s 682ms/step - loss: 1.9356 - accuracy: 0.4523 - val_loss: 1.8246 - val_accuracy: 0.4728\n",
      "Epoch 18/200\n",
      "60/76 [======================>.......] - ETA: 8s - loss: 1.8899 - accuracy: 0.4497"
     ]
    },
    {
     "name": "stderr",
     "output_type": "stream",
     "text": [
      "2025-01-20 10:48:50.703989: W tensorflow/core/lib/png/png_io.cc:89] PNG warning: iCCP: known incorrect sRGB profile\n"
     ]
    },
    {
     "name": "stdout",
     "output_type": "stream",
     "text": [
      "76/76 [==============================] - 58s 703ms/step - loss: 1.8869 - accuracy: 0.4521 - val_loss: 1.8131 - val_accuracy: 0.4735\n",
      "Epoch 19/200\n",
      "60/76 [======================>.......] - ETA: 8s - loss: 1.8564 - accuracy: 0.4703"
     ]
    },
    {
     "name": "stderr",
     "output_type": "stream",
     "text": [
      "2025-01-20 10:49:48.140014: W tensorflow/core/lib/png/png_io.cc:89] PNG warning: iCCP: known incorrect sRGB profile\n"
     ]
    },
    {
     "name": "stdout",
     "output_type": "stream",
     "text": [
      "76/76 [==============================] - 57s 689ms/step - loss: 1.8460 - accuracy: 0.4716 - val_loss: 1.9189 - val_accuracy: 0.4284\n",
      "Epoch 20/200\n",
      "60/76 [======================>.......] - ETA: 8s - loss: 1.8134 - accuracy: 0.4664"
     ]
    },
    {
     "name": "stderr",
     "output_type": "stream",
     "text": [
      "2025-01-20 10:50:44.220677: W tensorflow/core/lib/png/png_io.cc:89] PNG warning: iCCP: known incorrect sRGB profile\n"
     ]
    },
    {
     "name": "stdout",
     "output_type": "stream",
     "text": [
      "76/76 [==============================] - 56s 677ms/step - loss: 1.8078 - accuracy: 0.4642 - val_loss: 1.7358 - val_accuracy: 0.4840\n",
      "Epoch 21/200\n",
      "60/76 [======================>.......] - ETA: 8s - loss: 1.7652 - accuracy: 0.4844"
     ]
    },
    {
     "name": "stderr",
     "output_type": "stream",
     "text": [
      "2025-01-20 10:51:41.224672: W tensorflow/core/lib/png/png_io.cc:89] PNG warning: iCCP: known incorrect sRGB profile\n"
     ]
    },
    {
     "name": "stdout",
     "output_type": "stream",
     "text": [
      "76/76 [==============================] - 57s 699ms/step - loss: 1.7596 - accuracy: 0.4833 - val_loss: 1.8285 - val_accuracy: 0.4525\n",
      "Epoch 22/200\n",
      "59/76 [======================>.......] - ETA: 8s - loss: 1.7287 - accuracy: 0.4939"
     ]
    },
    {
     "name": "stderr",
     "output_type": "stream",
     "text": [
      "2025-01-20 10:52:37.009213: W tensorflow/core/lib/png/png_io.cc:89] PNG warning: iCCP: known incorrect sRGB profile\n"
     ]
    },
    {
     "name": "stdout",
     "output_type": "stream",
     "text": [
      "76/76 [==============================] - 56s 678ms/step - loss: 1.7231 - accuracy: 0.4922 - val_loss: 1.9028 - val_accuracy: 0.4420\n",
      "Epoch 23/200\n",
      "60/76 [======================>.......] - ETA: 8s - loss: 1.7143 - accuracy: 0.4906"
     ]
    },
    {
     "name": "stderr",
     "output_type": "stream",
     "text": [
      "2025-01-20 10:53:34.355283: W tensorflow/core/lib/png/png_io.cc:89] PNG warning: iCCP: known incorrect sRGB profile\n"
     ]
    },
    {
     "name": "stdout",
     "output_type": "stream",
     "text": [
      "76/76 [==============================] - 57s 695ms/step - loss: 1.7073 - accuracy: 0.4889 - val_loss: 1.8271 - val_accuracy: 0.4457\n",
      "Epoch 24/200\n",
      "61/76 [=======================>......] - ETA: 8s - loss: 1.6699 - accuracy: 0.4949"
     ]
    },
    {
     "name": "stderr",
     "output_type": "stream",
     "text": [
      "2025-01-20 10:54:31.817726: W tensorflow/core/lib/png/png_io.cc:89] PNG warning: iCCP: known incorrect sRGB profile\n"
     ]
    },
    {
     "name": "stdout",
     "output_type": "stream",
     "text": [
      "76/76 [==============================] - 57s 696ms/step - loss: 1.6709 - accuracy: 0.4942 - val_loss: 1.9040 - val_accuracy: 0.4346\n",
      "Epoch 25/200\n",
      "59/76 [======================>.......] - ETA: 9s - loss: 1.6335 - accuracy: 0.5056"
     ]
    },
    {
     "name": "stderr",
     "output_type": "stream",
     "text": [
      "2025-01-20 10:55:28.726140: W tensorflow/core/lib/png/png_io.cc:89] PNG warning: iCCP: known incorrect sRGB profile\n"
     ]
    },
    {
     "name": "stdout",
     "output_type": "stream",
     "text": [
      "76/76 [==============================] - 57s 697ms/step - loss: 1.6380 - accuracy: 0.5068 - val_loss: 1.6293 - val_accuracy: 0.5111\n",
      "Epoch 26/200\n",
      "60/76 [======================>.......] - ETA: 8s - loss: 1.6287 - accuracy: 0.5201"
     ]
    },
    {
     "name": "stderr",
     "output_type": "stream",
     "text": [
      "2025-01-20 10:56:25.401328: W tensorflow/core/lib/png/png_io.cc:89] PNG warning: iCCP: known incorrect sRGB profile\n"
     ]
    },
    {
     "name": "stdout",
     "output_type": "stream",
     "text": [
      "76/76 [==============================] - 56s 676ms/step - loss: 1.6239 - accuracy: 0.5165 - val_loss: 1.6434 - val_accuracy: 0.4907\n",
      "Epoch 27/200\n",
      "59/76 [======================>.......] - ETA: 9s - loss: 1.5938 - accuracy: 0.5238"
     ]
    },
    {
     "name": "stderr",
     "output_type": "stream",
     "text": [
      "2025-01-20 10:57:22.464609: W tensorflow/core/lib/png/png_io.cc:89] PNG warning: iCCP: known incorrect sRGB profile\n"
     ]
    },
    {
     "name": "stdout",
     "output_type": "stream",
     "text": [
      "76/76 [==============================] - 58s 710ms/step - loss: 1.5932 - accuracy: 0.5228 - val_loss: 1.6064 - val_accuracy: 0.5086\n",
      "Epoch 28/200\n",
      "59/76 [======================>.......] - ETA: 9s - loss: 1.5743 - accuracy: 0.5180"
     ]
    },
    {
     "name": "stderr",
     "output_type": "stream",
     "text": [
      "2025-01-20 10:58:19.985304: W tensorflow/core/lib/png/png_io.cc:89] PNG warning: iCCP: known incorrect sRGB profile\n"
     ]
    },
    {
     "name": "stdout",
     "output_type": "stream",
     "text": [
      "76/76 [==============================] - 57s 696ms/step - loss: 1.5658 - accuracy: 0.5222 - val_loss: 1.9150 - val_accuracy: 0.4284\n",
      "Epoch 29/200\n",
      "60/76 [======================>.......] - ETA: 8s - loss: 1.5256 - accuracy: 0.5422"
     ]
    },
    {
     "name": "stderr",
     "output_type": "stream",
     "text": [
      "2025-01-20 10:59:17.410056: W tensorflow/core/lib/png/png_io.cc:89] PNG warning: iCCP: known incorrect sRGB profile\n"
     ]
    },
    {
     "name": "stdout",
     "output_type": "stream",
     "text": [
      "76/76 [==============================] - 56s 687ms/step - loss: 1.5195 - accuracy: 0.5428 - val_loss: 1.7354 - val_accuracy: 0.4747\n",
      "Epoch 30/200\n",
      "60/76 [======================>.......] - ETA: 8s - loss: 1.5274 - accuracy: 0.5339"
     ]
    },
    {
     "name": "stderr",
     "output_type": "stream",
     "text": [
      "2025-01-20 11:00:13.487040: W tensorflow/core/lib/png/png_io.cc:89] PNG warning: iCCP: known incorrect sRGB profile\n"
     ]
    },
    {
     "name": "stdout",
     "output_type": "stream",
     "text": [
      "76/76 [==============================] - 56s 679ms/step - loss: 1.5201 - accuracy: 0.5377 - val_loss: 1.6233 - val_accuracy: 0.5056\n",
      "Epoch 31/200\n",
      "61/76 [=======================>......] - ETA: 8s - loss: 1.4942 - accuracy: 0.5425"
     ]
    },
    {
     "name": "stderr",
     "output_type": "stream",
     "text": [
      "2025-01-20 11:01:10.379915: W tensorflow/core/lib/png/png_io.cc:89] PNG warning: iCCP: known incorrect sRGB profile\n"
     ]
    },
    {
     "name": "stdout",
     "output_type": "stream",
     "text": [
      "76/76 [==============================] - 57s 695ms/step - loss: 1.4841 - accuracy: 0.5440 - val_loss: 1.7838 - val_accuracy: 0.4593\n",
      "Epoch 32/200\n",
      "59/76 [======================>.......] - ETA: 9s - loss: 1.4875 - accuracy: 0.5434"
     ]
    },
    {
     "name": "stderr",
     "output_type": "stream",
     "text": [
      "2025-01-20 11:02:06.774904: W tensorflow/core/lib/png/png_io.cc:89] PNG warning: iCCP: known incorrect sRGB profile\n"
     ]
    },
    {
     "name": "stdout",
     "output_type": "stream",
     "text": [
      "76/76 [==============================] - 56s 682ms/step - loss: 1.4739 - accuracy: 0.5498 - val_loss: 1.6072 - val_accuracy: 0.5111\n",
      "Epoch 33/200\n",
      "60/76 [======================>.......] - ETA: 8s - loss: 1.4600 - accuracy: 0.5542"
     ]
    },
    {
     "name": "stderr",
     "output_type": "stream",
     "text": [
      "2025-01-20 11:03:03.169630: W tensorflow/core/lib/png/png_io.cc:89] PNG warning: iCCP: known incorrect sRGB profile\n"
     ]
    },
    {
     "name": "stdout",
     "output_type": "stream",
     "text": [
      "76/76 [==============================] - 57s 694ms/step - loss: 1.4424 - accuracy: 0.5607 - val_loss: 1.6721 - val_accuracy: 0.4895\n",
      "Epoch 34/200\n",
      "60/76 [======================>.......] - ETA: 8s - loss: 1.4381 - accuracy: 0.5513"
     ]
    },
    {
     "name": "stderr",
     "output_type": "stream",
     "text": [
      "2025-01-20 11:03:58.407990: W tensorflow/core/lib/png/png_io.cc:89] PNG warning: iCCP: known incorrect sRGB profile\n"
     ]
    },
    {
     "name": "stdout",
     "output_type": "stream",
     "text": [
      "76/76 [==============================] - 54s 654ms/step - loss: 1.4256 - accuracy: 0.5593 - val_loss: 1.6657 - val_accuracy: 0.4821\n",
      "Epoch 35/200\n",
      "60/76 [======================>.......] - ETA: 8s - loss: 1.3953 - accuracy: 0.5763"
     ]
    },
    {
     "name": "stderr",
     "output_type": "stream",
     "text": [
      "2025-01-20 11:04:52.707293: W tensorflow/core/lib/png/png_io.cc:89] PNG warning: iCCP: known incorrect sRGB profile\n"
     ]
    },
    {
     "name": "stdout",
     "output_type": "stream",
     "text": [
      "76/76 [==============================] - 54s 655ms/step - loss: 1.3942 - accuracy: 0.5767 - val_loss: 1.6366 - val_accuracy: 0.4920\n",
      "Epoch 36/200\n",
      "61/76 [=======================>......] - ETA: 7s - loss: 1.3614 - accuracy: 0.5912"
     ]
    },
    {
     "name": "stderr",
     "output_type": "stream",
     "text": [
      "2025-01-20 11:05:48.806121: W tensorflow/core/lib/png/png_io.cc:89] PNG warning: iCCP: known incorrect sRGB profile\n"
     ]
    },
    {
     "name": "stdout",
     "output_type": "stream",
     "text": [
      "76/76 [==============================] - 57s 688ms/step - loss: 1.3632 - accuracy: 0.5897 - val_loss: 1.5798 - val_accuracy: 0.5191\n",
      "Epoch 37/200\n",
      "59/76 [======================>.......] - ETA: 9s - loss: 1.3952 - accuracy: 0.5718"
     ]
    },
    {
     "name": "stderr",
     "output_type": "stream",
     "text": [
      "2025-01-20 11:06:44.600013: W tensorflow/core/lib/png/png_io.cc:89] PNG warning: iCCP: known incorrect sRGB profile\n"
     ]
    },
    {
     "name": "stdout",
     "output_type": "stream",
     "text": [
      "76/76 [==============================] - 57s 692ms/step - loss: 1.3845 - accuracy: 0.5753 - val_loss: 1.7344 - val_accuracy: 0.4765\n",
      "Epoch 38/200\n",
      "59/76 [======================>.......] - ETA: 9s - loss: 1.3726 - accuracy: 0.5874"
     ]
    },
    {
     "name": "stderr",
     "output_type": "stream",
     "text": [
      "2025-01-20 11:07:42.181007: W tensorflow/core/lib/png/png_io.cc:89] PNG warning: iCCP: known incorrect sRGB profile\n"
     ]
    },
    {
     "name": "stdout",
     "output_type": "stream",
     "text": [
      "76/76 [==============================] - 57s 693ms/step - loss: 1.3660 - accuracy: 0.5856 - val_loss: 1.5846 - val_accuracy: 0.5117\n",
      "Epoch 39/200\n",
      "60/76 [======================>.......] - ETA: 8s - loss: 1.3405 - accuracy: 0.5911"
     ]
    },
    {
     "name": "stderr",
     "output_type": "stream",
     "text": [
      "2025-01-20 11:08:40.243465: W tensorflow/core/lib/png/png_io.cc:89] PNG warning: iCCP: known incorrect sRGB profile\n"
     ]
    },
    {
     "name": "stdout",
     "output_type": "stream",
     "text": [
      "76/76 [==============================] - 58s 704ms/step - loss: 1.3266 - accuracy: 0.5951 - val_loss: 1.6256 - val_accuracy: 0.5000\n",
      "Epoch 40/200\n",
      "61/76 [=======================>......] - ETA: 8s - loss: 1.3378 - accuracy: 0.5932"
     ]
    },
    {
     "name": "stderr",
     "output_type": "stream",
     "text": [
      "2025-01-20 11:09:38.836048: W tensorflow/core/lib/png/png_io.cc:89] PNG warning: iCCP: known incorrect sRGB profile\n"
     ]
    },
    {
     "name": "stdout",
     "output_type": "stream",
     "text": [
      "76/76 [==============================] - 59s 720ms/step - loss: 1.3215 - accuracy: 0.5934 - val_loss: 1.5877 - val_accuracy: 0.5037\n",
      "Epoch 41/200\n",
      "60/76 [======================>.......] - ETA: 9s - loss: 1.3006 - accuracy: 0.5924 "
     ]
    },
    {
     "name": "stderr",
     "output_type": "stream",
     "text": [
      "2025-01-20 11:10:40.790472: W tensorflow/core/lib/png/png_io.cc:89] PNG warning: iCCP: known incorrect sRGB profile\n"
     ]
    },
    {
     "name": "stdout",
     "output_type": "stream",
     "text": [
      "76/76 [==============================] - 61s 750ms/step - loss: 1.2774 - accuracy: 0.5988 - val_loss: 1.5866 - val_accuracy: 0.5167\n",
      "Epoch 42/200\n",
      "58/76 [=====================>........] - ETA: 10s - loss: 1.2858 - accuracy: 0.5959"
     ]
    },
    {
     "name": "stderr",
     "output_type": "stream",
     "text": [
      "2025-01-20 11:11:39.602676: W tensorflow/core/lib/png/png_io.cc:89] PNG warning: iCCP: known incorrect sRGB profile\n"
     ]
    },
    {
     "name": "stdout",
     "output_type": "stream",
     "text": [
      "76/76 [==============================] - 60s 730ms/step - loss: 1.2699 - accuracy: 0.6031 - val_loss: 1.6913 - val_accuracy: 0.4920\n",
      "Epoch 43/200\n",
      "61/76 [=======================>......] - ETA: 8s - loss: 1.2462 - accuracy: 0.6219"
     ]
    },
    {
     "name": "stderr",
     "output_type": "stream",
     "text": [
      "2025-01-20 11:12:39.669328: W tensorflow/core/lib/png/png_io.cc:89] PNG warning: iCCP: known incorrect sRGB profile\n"
     ]
    },
    {
     "name": "stdout",
     "output_type": "stream",
     "text": [
      "76/76 [==============================] - 61s 742ms/step - loss: 1.2380 - accuracy: 0.6216 - val_loss: 1.7349 - val_accuracy: 0.4833\n",
      "Epoch 44/200\n",
      "60/76 [======================>.......] - ETA: 8s - loss: 1.2552 - accuracy: 0.6099"
     ]
    },
    {
     "name": "stderr",
     "output_type": "stream",
     "text": [
      "2025-01-20 11:13:40.343804: W tensorflow/core/lib/png/png_io.cc:89] PNG warning: iCCP: known incorrect sRGB profile\n"
     ]
    },
    {
     "name": "stdout",
     "output_type": "stream",
     "text": [
      "76/76 [==============================] - 59s 709ms/step - loss: 1.2501 - accuracy: 0.6136 - val_loss: 1.5556 - val_accuracy: 0.5253\n",
      "Epoch 45/200\n",
      "61/76 [=======================>......] - ETA: 8s - loss: 1.2434 - accuracy: 0.6160"
     ]
    },
    {
     "name": "stderr",
     "output_type": "stream",
     "text": [
      "2025-01-20 11:14:39.874019: W tensorflow/core/lib/png/png_io.cc:89] PNG warning: iCCP: known incorrect sRGB profile\n"
     ]
    },
    {
     "name": "stdout",
     "output_type": "stream",
     "text": [
      "76/76 [==============================] - 60s 731ms/step - loss: 1.2376 - accuracy: 0.6198 - val_loss: 1.5567 - val_accuracy: 0.5370\n",
      "Epoch 46/200\n",
      "60/76 [======================>.......] - ETA: 8s - loss: 1.1988 - accuracy: 0.6240"
     ]
    },
    {
     "name": "stderr",
     "output_type": "stream",
     "text": [
      "2025-01-20 11:15:38.544265: W tensorflow/core/lib/png/png_io.cc:89] PNG warning: iCCP: known incorrect sRGB profile\n"
     ]
    },
    {
     "name": "stdout",
     "output_type": "stream",
     "text": [
      "76/76 [==============================] - 59s 717ms/step - loss: 1.1847 - accuracy: 0.6278 - val_loss: 1.5582 - val_accuracy: 0.5340\n",
      "Epoch 47/200\n",
      "61/76 [=======================>......] - ETA: 8s - loss: 1.1846 - accuracy: 0.6365"
     ]
    },
    {
     "name": "stderr",
     "output_type": "stream",
     "text": [
      "2025-01-20 11:16:37.431260: W tensorflow/core/lib/png/png_io.cc:89] PNG warning: iCCP: known incorrect sRGB profile\n"
     ]
    },
    {
     "name": "stdout",
     "output_type": "stream",
     "text": [
      "76/76 [==============================] - 58s 701ms/step - loss: 1.1764 - accuracy: 0.6374 - val_loss: 1.5788 - val_accuracy: 0.5340\n",
      "Epoch 48/200\n",
      "60/76 [======================>.......] - ETA: 8s - loss: 1.1915 - accuracy: 0.6247"
     ]
    },
    {
     "name": "stderr",
     "output_type": "stream",
     "text": [
      "2025-01-20 11:17:35.703627: W tensorflow/core/lib/png/png_io.cc:89] PNG warning: iCCP: known incorrect sRGB profile\n"
     ]
    },
    {
     "name": "stdout",
     "output_type": "stream",
     "text": [
      "76/76 [==============================] - 59s 721ms/step - loss: 1.1808 - accuracy: 0.6317 - val_loss: 1.6978 - val_accuracy: 0.5111\n",
      "Epoch 49/200\n",
      "60/76 [======================>.......] - ETA: 8s - loss: 1.1786 - accuracy: 0.6326"
     ]
    },
    {
     "name": "stderr",
     "output_type": "stream",
     "text": [
      "2025-01-20 11:18:35.203720: W tensorflow/core/lib/png/png_io.cc:89] PNG warning: iCCP: known incorrect sRGB profile\n"
     ]
    },
    {
     "name": "stdout",
     "output_type": "stream",
     "text": [
      "76/76 [==============================] - 59s 712ms/step - loss: 1.1639 - accuracy: 0.6393 - val_loss: 1.5502 - val_accuracy: 0.5370\n",
      "Epoch 50/200\n",
      "61/76 [=======================>......] - ETA: 8s - loss: 1.1339 - accuracy: 0.6516"
     ]
    },
    {
     "name": "stderr",
     "output_type": "stream",
     "text": [
      "2025-01-20 11:19:57.243945: W tensorflow/core/lib/png/png_io.cc:89] PNG warning: iCCP: known incorrect sRGB profile\n"
     ]
    },
    {
     "name": "stdout",
     "output_type": "stream",
     "text": [
      "76/76 [==============================] - 58s 712ms/step - loss: 1.1353 - accuracy: 0.6490 - val_loss: 1.5786 - val_accuracy: 0.5216\n",
      "Epoch 51/200\n",
      "60/76 [======================>.......] - ETA: 9s - loss: 1.1322 - accuracy: 0.6508"
     ]
    },
    {
     "name": "stderr",
     "output_type": "stream",
     "text": [
      "2025-01-20 11:20:56.148507: W tensorflow/core/lib/png/png_io.cc:89] PNG warning: iCCP: known incorrect sRGB profile\n"
     ]
    },
    {
     "name": "stdout",
     "output_type": "stream",
     "text": [
      "76/76 [==============================] - 60s 727ms/step - loss: 1.1207 - accuracy: 0.6535 - val_loss: 1.6373 - val_accuracy: 0.5241\n",
      "Epoch 52/200\n",
      "59/76 [======================>.......] - ETA: 9s - loss: 1.1172 - accuracy: 0.6536"
     ]
    },
    {
     "name": "stderr",
     "output_type": "stream",
     "text": [
      "2025-01-20 11:21:54.219692: W tensorflow/core/lib/png/png_io.cc:89] PNG warning: iCCP: known incorrect sRGB profile\n"
     ]
    },
    {
     "name": "stdout",
     "output_type": "stream",
     "text": [
      "76/76 [==============================] - 58s 704ms/step - loss: 1.1195 - accuracy: 0.6533 - val_loss: 1.5918 - val_accuracy: 0.5290\n",
      "Epoch 53/200\n",
      "61/76 [=======================>......] - ETA: 8s - loss: 1.1136 - accuracy: 0.6542"
     ]
    },
    {
     "name": "stderr",
     "output_type": "stream",
     "text": [
      "2025-01-20 11:22:55.715196: W tensorflow/core/lib/png/png_io.cc:89] PNG warning: iCCP: known incorrect sRGB profile\n"
     ]
    },
    {
     "name": "stdout",
     "output_type": "stream",
     "text": [
      "76/76 [==============================] - 62s 752ms/step - loss: 1.1202 - accuracy: 0.6525 - val_loss: 1.8645 - val_accuracy: 0.4833\n",
      "Epoch 54/200\n",
      "61/76 [=======================>......] - ETA: 8s - loss: 1.1037 - accuracy: 0.6639"
     ]
    },
    {
     "name": "stderr",
     "output_type": "stream",
     "text": [
      "2025-01-20 11:23:57.195163: W tensorflow/core/lib/png/png_io.cc:89] PNG warning: iCCP: known incorrect sRGB profile\n"
     ]
    },
    {
     "name": "stdout",
     "output_type": "stream",
     "text": [
      "76/76 [==============================] - 61s 748ms/step - loss: 1.0857 - accuracy: 0.6693 - val_loss: 1.5297 - val_accuracy: 0.5586\n",
      "Epoch 55/200\n",
      "60/76 [======================>.......] - ETA: 8s - loss: 1.0542 - accuracy: 0.6763"
     ]
    },
    {
     "name": "stderr",
     "output_type": "stream",
     "text": [
      "2025-01-20 11:24:55.391899: W tensorflow/core/lib/png/png_io.cc:89] PNG warning: iCCP: known incorrect sRGB profile\n"
     ]
    },
    {
     "name": "stdout",
     "output_type": "stream",
     "text": [
      "76/76 [==============================] - 58s 704ms/step - loss: 1.0574 - accuracy: 0.6741 - val_loss: 1.4906 - val_accuracy: 0.5488\n",
      "Epoch 56/200\n",
      "60/76 [======================>.......] - ETA: 8s - loss: 1.1032 - accuracy: 0.6510"
     ]
    },
    {
     "name": "stderr",
     "output_type": "stream",
     "text": [
      "2025-01-20 11:25:54.998011: W tensorflow/core/lib/png/png_io.cc:89] PNG warning: iCCP: known incorrect sRGB profile\n"
     ]
    },
    {
     "name": "stdout",
     "output_type": "stream",
     "text": [
      "76/76 [==============================] - 60s 726ms/step - loss: 1.0864 - accuracy: 0.6566 - val_loss: 1.6503 - val_accuracy: 0.5340\n",
      "Epoch 57/200\n",
      "61/76 [=======================>......] - ETA: 9s - loss: 1.0582 - accuracy: 0.6675"
     ]
    },
    {
     "name": "stderr",
     "output_type": "stream",
     "text": [
      "2025-01-20 11:26:58.798802: W tensorflow/core/lib/png/png_io.cc:89] PNG warning: iCCP: known incorrect sRGB profile\n"
     ]
    },
    {
     "name": "stdout",
     "output_type": "stream",
     "text": [
      "76/76 [==============================] - 64s 779ms/step - loss: 1.0600 - accuracy: 0.6673 - val_loss: 1.8883 - val_accuracy: 0.4728\n",
      "Epoch 58/200\n",
      "59/76 [======================>.......] - ETA: 9s - loss: 1.0741 - accuracy: 0.6674 "
     ]
    },
    {
     "name": "stderr",
     "output_type": "stream",
     "text": [
      "2025-01-20 11:27:59.424446: W tensorflow/core/lib/png/png_io.cc:89] PNG warning: iCCP: known incorrect sRGB profile\n"
     ]
    },
    {
     "name": "stdout",
     "output_type": "stream",
     "text": [
      "76/76 [==============================] - 60s 736ms/step - loss: 1.0575 - accuracy: 0.6735 - val_loss: 1.5680 - val_accuracy: 0.5315\n",
      "Epoch 59/200\n",
      "59/76 [======================>.......] - ETA: 9s - loss: 1.0303 - accuracy: 0.6838 "
     ]
    },
    {
     "name": "stderr",
     "output_type": "stream",
     "text": [
      "2025-01-20 11:28:58.102865: W tensorflow/core/lib/png/png_io.cc:89] PNG warning: iCCP: known incorrect sRGB profile\n"
     ]
    },
    {
     "name": "stdout",
     "output_type": "stream",
     "text": [
      "76/76 [==============================] - 59s 715ms/step - loss: 1.0222 - accuracy: 0.6848 - val_loss: 1.4697 - val_accuracy: 0.5593\n",
      "Epoch 60/200\n",
      "59/76 [======================>.......] - ETA: 9s - loss: 0.9975 - accuracy: 0.6856 "
     ]
    },
    {
     "name": "stderr",
     "output_type": "stream",
     "text": [
      "2025-01-20 11:29:57.009997: W tensorflow/core/lib/png/png_io.cc:89] PNG warning: iCCP: known incorrect sRGB profile\n"
     ]
    },
    {
     "name": "stdout",
     "output_type": "stream",
     "text": [
      "76/76 [==============================] - 59s 722ms/step - loss: 0.9951 - accuracy: 0.6866 - val_loss: 1.5160 - val_accuracy: 0.5778\n",
      "Epoch 61/200\n",
      "61/76 [=======================>......] - ETA: 8s - loss: 0.9985 - accuracy: 0.6837"
     ]
    },
    {
     "name": "stderr",
     "output_type": "stream",
     "text": [
      "2025-01-20 11:30:56.600630: W tensorflow/core/lib/png/png_io.cc:89] PNG warning: iCCP: known incorrect sRGB profile\n"
     ]
    },
    {
     "name": "stdout",
     "output_type": "stream",
     "text": [
      "76/76 [==============================] - 60s 730ms/step - loss: 1.0021 - accuracy: 0.6842 - val_loss: 1.4699 - val_accuracy: 0.5568\n",
      "Epoch 62/200\n",
      "60/76 [======================>.......] - ETA: 9s - loss: 0.9686 - accuracy: 0.6992"
     ]
    },
    {
     "name": "stderr",
     "output_type": "stream",
     "text": [
      "2025-01-20 11:31:57.880903: W tensorflow/core/lib/png/png_io.cc:89] PNG warning: iCCP: known incorrect sRGB profile\n"
     ]
    },
    {
     "name": "stdout",
     "output_type": "stream",
     "text": [
      "76/76 [==============================] - 61s 740ms/step - loss: 0.9646 - accuracy: 0.7004 - val_loss: 1.6664 - val_accuracy: 0.5321\n",
      "Epoch 63/200\n",
      "60/76 [======================>.......] - ETA: 8s - loss: 0.9718 - accuracy: 0.7036"
     ]
    },
    {
     "name": "stderr",
     "output_type": "stream",
     "text": [
      "2025-01-20 11:32:57.438882: W tensorflow/core/lib/png/png_io.cc:89] PNG warning: iCCP: known incorrect sRGB profile\n"
     ]
    },
    {
     "name": "stdout",
     "output_type": "stream",
     "text": [
      "76/76 [==============================] - 59s 722ms/step - loss: 0.9592 - accuracy: 0.7064 - val_loss: 1.6330 - val_accuracy: 0.5315\n",
      "Epoch 64/200\n",
      "60/76 [======================>.......] - ETA: 8s - loss: 0.9590 - accuracy: 0.7008"
     ]
    },
    {
     "name": "stderr",
     "output_type": "stream",
     "text": [
      "2025-01-20 11:33:56.174727: W tensorflow/core/lib/png/png_io.cc:89] PNG warning: iCCP: known incorrect sRGB profile\n"
     ]
    },
    {
     "name": "stdout",
     "output_type": "stream",
     "text": [
      "76/76 [==============================] - 58s 708ms/step - loss: 0.9473 - accuracy: 0.7033 - val_loss: 1.5850 - val_accuracy: 0.5722\n",
      "Epoch 65/200\n",
      "61/76 [=======================>......] - ETA: 8s - loss: 0.9346 - accuracy: 0.7080"
     ]
    },
    {
     "name": "stderr",
     "output_type": "stream",
     "text": [
      "2025-01-20 11:34:57.117753: W tensorflow/core/lib/png/png_io.cc:89] PNG warning: iCCP: known incorrect sRGB profile\n"
     ]
    },
    {
     "name": "stdout",
     "output_type": "stream",
     "text": [
      "76/76 [==============================] - 62s 752ms/step - loss: 0.9364 - accuracy: 0.7051 - val_loss: 1.6000 - val_accuracy: 0.5494\n",
      "Epoch 66/200\n",
      "60/76 [======================>.......] - ETA: 8s - loss: 0.9741 - accuracy: 0.6938"
     ]
    },
    {
     "name": "stderr",
     "output_type": "stream",
     "text": [
      "2025-01-20 11:35:56.349215: W tensorflow/core/lib/png/png_io.cc:89] PNG warning: iCCP: known incorrect sRGB profile\n"
     ]
    },
    {
     "name": "stdout",
     "output_type": "stream",
     "text": [
      "76/76 [==============================] - 59s 722ms/step - loss: 0.9638 - accuracy: 0.6977 - val_loss: 1.5059 - val_accuracy: 0.5728\n",
      "Epoch 67/200\n",
      "60/76 [======================>.......] - ETA: 8s - loss: 0.9294 - accuracy: 0.7188"
     ]
    },
    {
     "name": "stderr",
     "output_type": "stream",
     "text": [
      "2025-01-20 11:36:56.323528: W tensorflow/core/lib/png/png_io.cc:89] PNG warning: iCCP: known incorrect sRGB profile\n"
     ]
    },
    {
     "name": "stdout",
     "output_type": "stream",
     "text": [
      "76/76 [==============================] - 59s 720ms/step - loss: 0.9223 - accuracy: 0.7204 - val_loss: 1.4771 - val_accuracy: 0.5840\n",
      "Epoch 68/200\n",
      "61/76 [=======================>......] - ETA: 8s - loss: 0.8941 - accuracy: 0.7236"
     ]
    },
    {
     "name": "stderr",
     "output_type": "stream",
     "text": [
      "2025-01-20 11:37:56.236780: W tensorflow/core/lib/png/png_io.cc:89] PNG warning: iCCP: known incorrect sRGB profile\n"
     ]
    },
    {
     "name": "stdout",
     "output_type": "stream",
     "text": [
      "76/76 [==============================] - 60s 727ms/step - loss: 0.8964 - accuracy: 0.7200 - val_loss: 1.4525 - val_accuracy: 0.5895\n",
      "Epoch 69/200\n",
      "59/76 [======================>.......] - ETA: 9s - loss: 0.8968 - accuracy: 0.7240"
     ]
    },
    {
     "name": "stderr",
     "output_type": "stream",
     "text": [
      "2025-01-20 11:38:54.274858: W tensorflow/core/lib/png/png_io.cc:89] PNG warning: iCCP: known incorrect sRGB profile\n"
     ]
    },
    {
     "name": "stdout",
     "output_type": "stream",
     "text": [
      "76/76 [==============================] - 59s 713ms/step - loss: 0.9081 - accuracy: 0.7185 - val_loss: 1.4700 - val_accuracy: 0.5741\n",
      "Epoch 70/200\n",
      "61/76 [=======================>......] - ETA: 8s - loss: 0.8918 - accuracy: 0.7216"
     ]
    },
    {
     "name": "stderr",
     "output_type": "stream",
     "text": [
      "2025-01-20 11:39:53.435510: W tensorflow/core/lib/png/png_io.cc:89] PNG warning: iCCP: known incorrect sRGB profile\n"
     ]
    },
    {
     "name": "stdout",
     "output_type": "stream",
     "text": [
      "76/76 [==============================] - 59s 713ms/step - loss: 0.8857 - accuracy: 0.7216 - val_loss: 1.5210 - val_accuracy: 0.5704\n",
      "Epoch 71/200\n",
      "59/76 [======================>.......] - ETA: 9s - loss: 0.8871 - accuracy: 0.7193 "
     ]
    },
    {
     "name": "stderr",
     "output_type": "stream",
     "text": [
      "2025-01-20 11:40:52.353575: W tensorflow/core/lib/png/png_io.cc:89] PNG warning: iCCP: known incorrect sRGB profile\n"
     ]
    },
    {
     "name": "stdout",
     "output_type": "stream",
     "text": [
      "76/76 [==============================] - 60s 725ms/step - loss: 0.8838 - accuracy: 0.7198 - val_loss: 1.7087 - val_accuracy: 0.5481\n",
      "Epoch 72/200\n",
      "61/76 [=======================>......] - ETA: 8s - loss: 0.8259 - accuracy: 0.7380"
     ]
    },
    {
     "name": "stderr",
     "output_type": "stream",
     "text": [
      "2025-01-20 11:41:52.267379: W tensorflow/core/lib/png/png_io.cc:89] PNG warning: iCCP: known incorrect sRGB profile\n"
     ]
    },
    {
     "name": "stdout",
     "output_type": "stream",
     "text": [
      "76/76 [==============================] - 59s 728ms/step - loss: 0.8266 - accuracy: 0.7389 - val_loss: 1.5447 - val_accuracy: 0.5951\n",
      "Epoch 73/200\n",
      "59/76 [======================>.......] - ETA: 9s - loss: 0.8735 - accuracy: 0.7280"
     ]
    },
    {
     "name": "stderr",
     "output_type": "stream",
     "text": [
      "2025-01-20 11:42:49.799470: W tensorflow/core/lib/png/png_io.cc:89] PNG warning: iCCP: known incorrect sRGB profile\n"
     ]
    },
    {
     "name": "stdout",
     "output_type": "stream",
     "text": [
      "76/76 [==============================] - 57s 692ms/step - loss: 0.8669 - accuracy: 0.7315 - val_loss: 1.4890 - val_accuracy: 0.5840\n",
      "Epoch 74/200\n",
      "60/76 [======================>.......] - ETA: 8s - loss: 0.8491 - accuracy: 0.7409"
     ]
    },
    {
     "name": "stderr",
     "output_type": "stream",
     "text": [
      "2025-01-20 11:43:49.142988: W tensorflow/core/lib/png/png_io.cc:89] PNG warning: iCCP: known incorrect sRGB profile\n"
     ]
    },
    {
     "name": "stdout",
     "output_type": "stream",
     "text": [
      "76/76 [==============================] - 60s 725ms/step - loss: 0.8505 - accuracy: 0.7405 - val_loss: 1.4096 - val_accuracy: 0.6074\n",
      "Epoch 75/200\n",
      "59/76 [======================>.......] - ETA: 9s - loss: 0.8313 - accuracy: 0.7399 "
     ]
    },
    {
     "name": "stderr",
     "output_type": "stream",
     "text": [
      "2025-01-20 11:44:49.128711: W tensorflow/core/lib/png/png_io.cc:89] PNG warning: iCCP: known incorrect sRGB profile\n"
     ]
    },
    {
     "name": "stdout",
     "output_type": "stream",
     "text": [
      "76/76 [==============================] - 60s 735ms/step - loss: 0.8175 - accuracy: 0.7440 - val_loss: 1.5381 - val_accuracy: 0.5938\n",
      "Epoch 76/200\n",
      "60/76 [======================>.......] - ETA: 9s - loss: 0.8100 - accuracy: 0.7490"
     ]
    },
    {
     "name": "stderr",
     "output_type": "stream",
     "text": [
      "2025-01-20 11:45:49.248140: W tensorflow/core/lib/png/png_io.cc:89] PNG warning: iCCP: known incorrect sRGB profile\n"
     ]
    },
    {
     "name": "stdout",
     "output_type": "stream",
     "text": [
      "76/76 [==============================] - 59s 721ms/step - loss: 0.8069 - accuracy: 0.7475 - val_loss: 1.5866 - val_accuracy: 0.5969\n",
      "Epoch 77/200\n",
      "60/76 [======================>.......] - ETA: 8s - loss: 0.8230 - accuracy: 0.7414"
     ]
    },
    {
     "name": "stderr",
     "output_type": "stream",
     "text": [
      "2025-01-20 11:46:47.896799: W tensorflow/core/lib/png/png_io.cc:89] PNG warning: iCCP: known incorrect sRGB profile\n"
     ]
    },
    {
     "name": "stdout",
     "output_type": "stream",
     "text": [
      "76/76 [==============================] - 59s 718ms/step - loss: 0.8073 - accuracy: 0.7471 - val_loss: 1.5643 - val_accuracy: 0.5815\n",
      "Epoch 78/200\n",
      "60/76 [======================>.......] - ETA: 8s - loss: 0.7838 - accuracy: 0.7594"
     ]
    },
    {
     "name": "stderr",
     "output_type": "stream",
     "text": [
      "2025-01-20 11:47:46.509140: W tensorflow/core/lib/png/png_io.cc:89] PNG warning: iCCP: known incorrect sRGB profile\n"
     ]
    },
    {
     "name": "stdout",
     "output_type": "stream",
     "text": [
      "76/76 [==============================] - 58s 707ms/step - loss: 0.7872 - accuracy: 0.7566 - val_loss: 1.6279 - val_accuracy: 0.5796\n",
      "Epoch 79/200\n",
      "61/76 [=======================>......] - ETA: 8s - loss: 0.7816 - accuracy: 0.7587"
     ]
    },
    {
     "name": "stderr",
     "output_type": "stream",
     "text": [
      "2025-01-20 11:48:44.927243: W tensorflow/core/lib/png/png_io.cc:89] PNG warning: iCCP: known incorrect sRGB profile\n"
     ]
    },
    {
     "name": "stdout",
     "output_type": "stream",
     "text": [
      "76/76 [==============================] - 58s 704ms/step - loss: 0.7776 - accuracy: 0.7621 - val_loss: 1.4826 - val_accuracy: 0.6012\n",
      "Epoch 80/200\n",
      "61/76 [=======================>......] - ETA: 8s - loss: 0.7802 - accuracy: 0.7674"
     ]
    },
    {
     "name": "stderr",
     "output_type": "stream",
     "text": [
      "2025-01-20 11:49:43.439874: W tensorflow/core/lib/png/png_io.cc:89] PNG warning: iCCP: known incorrect sRGB profile\n"
     ]
    },
    {
     "name": "stdout",
     "output_type": "stream",
     "text": [
      "76/76 [==============================] - 59s 717ms/step - loss: 0.7668 - accuracy: 0.7718 - val_loss: 1.6638 - val_accuracy: 0.5784\n",
      "Epoch 81/200\n",
      "59/76 [======================>.......] - ETA: 9s - loss: 0.7898 - accuracy: 0.7513 "
     ]
    },
    {
     "name": "stderr",
     "output_type": "stream",
     "text": [
      "2025-01-20 11:50:42.911675: W tensorflow/core/lib/png/png_io.cc:89] PNG warning: iCCP: known incorrect sRGB profile\n"
     ]
    },
    {
     "name": "stdout",
     "output_type": "stream",
     "text": [
      "76/76 [==============================] - 68s 834ms/step - loss: 0.7771 - accuracy: 0.7591 - val_loss: 1.5607 - val_accuracy: 0.5932\n",
      "Epoch 82/200\n",
      "60/76 [======================>.......] - ETA: 9s - loss: 0.7528 - accuracy: 0.7706"
     ]
    },
    {
     "name": "stderr",
     "output_type": "stream",
     "text": [
      "2025-01-20 11:51:52.224697: W tensorflow/core/lib/png/png_io.cc:89] PNG warning: iCCP: known incorrect sRGB profile\n"
     ]
    },
    {
     "name": "stdout",
     "output_type": "stream",
     "text": [
      "76/76 [==============================] - 62s 748ms/step - loss: 0.7521 - accuracy: 0.7706 - val_loss: 1.6927 - val_accuracy: 0.5883\n",
      "Epoch 83/200\n",
      "60/76 [======================>.......] - ETA: 9s - loss: 0.7554 - accuracy: 0.7682"
     ]
    },
    {
     "name": "stderr",
     "output_type": "stream",
     "text": [
      "2025-01-20 11:52:53.054141: W tensorflow/core/lib/png/png_io.cc:89] PNG warning: iCCP: known incorrect sRGB profile\n"
     ]
    },
    {
     "name": "stdout",
     "output_type": "stream",
     "text": [
      "76/76 [==============================] - 61s 738ms/step - loss: 0.7494 - accuracy: 0.7683 - val_loss: 1.6682 - val_accuracy: 0.5889\n",
      "Epoch 84/200\n",
      "59/76 [======================>.......] - ETA: 9s - loss: 0.7389 - accuracy: 0.7752 "
     ]
    },
    {
     "name": "stderr",
     "output_type": "stream",
     "text": [
      "2025-01-20 11:53:51.886103: W tensorflow/core/lib/png/png_io.cc:89] PNG warning: iCCP: known incorrect sRGB profile\n"
     ]
    },
    {
     "name": "stdout",
     "output_type": "stream",
     "text": [
      "76/76 [==============================] - 59s 717ms/step - loss: 0.7367 - accuracy: 0.7737 - val_loss: 1.5027 - val_accuracy: 0.6086\n",
      "Epoch 84: early stopping\n",
      "Restoring model weights from the end of the best epoch: 74.\n",
      "2/2 [==============================] - 0s 27ms/step\n",
      "2/2 [==============================] - 0s 29ms/step\n",
      "2/2 [==============================] - 0s 27ms/step\n",
      "2/2 [==============================] - 0s 24ms/step\n",
      "2/2 [==============================] - 0s 29ms/step\n",
      "2/2 [==============================] - 0s 33ms/step\n",
      "2/2 [==============================] - 0s 30ms/step\n",
      "2/2 [==============================] - 0s 27ms/step\n",
      "2/2 [==============================] - 0s 31ms/step\n",
      "2/2 [==============================] - 0s 25ms/step\n",
      "2/2 [==============================] - 0s 30ms/step\n",
      "2/2 [==============================] - 0s 25ms/step\n",
      "2/2 [==============================] - 0s 25ms/step\n",
      "2/2 [==============================] - 0s 24ms/step\n",
      "2/2 [==============================] - 0s 25ms/step\n",
      "2/2 [==============================] - 0s 28ms/step\n",
      "2/2 [==============================] - 0s 32ms/step\n",
      "2/2 [==============================] - 0s 24ms/step\n",
      "2/2 [==============================] - 0s 26ms/step\n",
      "2/2 [==============================] - 0s 30ms/step\n",
      "2/2 [==============================] - 0s 26ms/step\n",
      "2/2 [==============================] - 0s 25ms/step\n",
      "2/2 [==============================] - 0s 26ms/step\n",
      "2/2 [==============================] - 0s 25ms/step\n",
      "2/2 [==============================] - 0s 27ms/step\n",
      "1/1 [==============================] - 0s 78ms/step\n",
      "Confusion Matrix: \n",
      "Validation loss: 1.4095748662948608\n",
      "Validation accuracy: 0.6074073910713196\n"
     ]
    },
    {
     "data": {
      "image/png": "[encoded data removed]",
      "text/plain": [
       "<Figure size 800x800 with 2 Axes>"
      ]
     },
     "metadata": {},
     "output_type": "display_data"
    },
    {
     "data": {
      "image/png": "[encoded data removed]",
      "text/plain": [
       "<Figure size 800x800 with 2 Axes>"
      ]
     },
     "metadata": {},
     "output_type": "display_data"
    }
   ],
   "source": [
    "#%%\n",
    "\n",
    "import tensorflow as tf\n",
    "import tf_keras\n",
    "import matplotlib.pyplot as plt\n",
    "import seaborn as sns\n",
    "import numpy as np\n",
    "from tf_keras import layers\n",
    "from tf_keras.models import Sequential\n",
    "from sklearn.metrics import confusion_matrix\n",
    "from tf_keras.optimizers import Adam\n",
    "from tf_keras.regularizers import l2\n",
    "\n",
    "tf.keras.backend.clear_session()\n",
    "\n",
    "gpu_devices = tf.config.list_physical_devices('GPU')\n",
    "if gpu_devices:\n",
    "  tf.config.experimental.set_memory_growth(gpu_devices[0], True)\n",
    "  print('GPU found', gpu_devices[0])\n",
    "else:\n",
    "  print('No GPU found')\n",
    "\n",
    "#define image size\n",
    "IMG_SIZE = 224\n",
    "\n",
    "#define batch size\n",
    "BATCH_SIZE = 64\n",
    "\n",
    "#training directory\n",
    "TRAINING_DIR = \"Train\"\n",
    "  \n",
    "#training split\n",
    "train_ds = tf_keras.utils.image_dataset_from_directory(\n",
    "  TRAINING_DIR,\n",
    "  labels = \"inferred\",\n",
    "  image_size = (IMG_SIZE, IMG_SIZE),\n",
    "  batch_size = BATCH_SIZE,\n",
    "  subset = \"training\",\n",
    "  validation_split = 0.25,\n",
    "  shuffle = True,\n",
    "  seed = 225\n",
    ")\n",
    "\n",
    "#validation split, taken directly from the same directory as train\n",
    "validation_ds = tf_keras.utils.image_dataset_from_directory(\n",
    "  TRAINING_DIR,\n",
    "  labels = \"inferred\",\n",
    "  image_size = (IMG_SIZE, IMG_SIZE),\n",
    "  batch_size = BATCH_SIZE,\n",
    "  subset = 'validation',\n",
    "  validation_split = 0.25,\n",
    "  shuffle = True,\n",
    "  seed = 225\n",
    ")\n",
    "\n",
    "CLASS_NAMES = train_ds.class_names\n",
    "\n",
    "AUTOTUNE = tf.data.AUTOTUNE\n",
    "train_ds = train_ds.prefetch(buffer_size = AUTOTUNE)\n",
    "val_ds = validation_ds.cache().prefetch(buffer_size = AUTOTUNE)\n",
    "\n",
    "#data augmentation to increase robustness\n",
    "data_augmentation = Sequential([\n",
    "  layers.experimental.preprocessing.RandomFlip('horizontal'),\n",
    "  layers.experimental.preprocessing.RandomRotation(0.2),\n",
    "  layers.experimental.preprocessing.RandomZoom(0.2) \n",
    "])\n",
    "\n",
    "train_ds = train_ds.map(lambda x, y: (data_augmentation(x, training = True), y))\n",
    "\n",
    "#normalizing and augmenting the data\n",
    "norm_layer = layers.Rescaling(1./255)\n",
    "train_ds = train_ds.map(lambda x, y: (norm_layer(x), y))\n",
    "validation_ds = validation_ds.map(lambda x, y: (norm_layer(x), y))\n",
    "\n",
    "num_classes = len(CLASS_NAMES)\n",
    "\n",
    "#training model\n",
    "model = Sequential([\n",
    "  layers.Conv2D(64, (3, 3), input_shape = (224, 224, 3)),\n",
    "  layers.Activation('relu'),\n",
    "  layers.MaxPooling2D(2, 2),\n",
    "  layers.Conv2D(64, (3, 3)),\n",
    "  layers.Activation('relu'),\n",
    "  layers.MaxPooling2D(2, 2),\n",
    "  layers.Conv2D(128, (3, 3)),\n",
    "  layers.Activation('relu'),\n",
    "  layers.MaxPooling2D(2, 2),\n",
    "  layers.Conv2D(128, (3, 3)),\n",
    "  layers.Activation('relu'),\n",
    "  layers.MaxPooling2D(2, 2),\n",
    "  layers.Conv2D(256, (5, 5)), \n",
    "  layers.Activation('relu'),\n",
    "  layers.MaxPooling2D(2, 2),\n",
    "  layers.Conv2D(256, (3, 3)),\n",
    "  layers.Activation('relu'),\n",
    "  layers.MaxPooling2D(2, 2),\n",
    "  layers.Flatten(),\n",
    "  layers.Dense(512, activation = 'relu', kernel_regularizer = l2(0.02)),\n",
    "  layers.Dropout(0.5),\n",
    "  layers.Dense(num_classes, activation = 'softmax')\n",
    "])\n",
    "\n",
    "model.summary()\n",
    "\n",
    "model.compile(optimizer = Adam(learning_rate = 0.0001, weight_decay = 1e-6), \n",
    "              loss = tf_keras.losses.SparseCategoricalCrossentropy(from_logits = True), \n",
    "              metrics = ['accuracy'])\n",
    "\n",
    "#no of epochs\n",
    "epochs = 200\n",
    "\n",
    "\n",
    "#early stopping\n",
    "early_stopping = tf_keras.callbacks.EarlyStopping(monitor = 'val_loss', \n",
    "                                                  mode = 'min', \n",
    "                                                  verbose = 1, \n",
    "                                                  patience = 10, \n",
    "                                                  restore_best_weights = True)\n",
    "                                       \n",
    "\n",
    "#class weights since the dataset is imbalanced\n",
    "class_weights = {\n",
    "    0: 0.657,  #bike\n",
    "    1: 1.165,  #bus\n",
    "    2: 1.006,  #cng\n",
    "    3: 0.885,  #easy bike\n",
    "    4: 1.385,  #hatchback\n",
    "    5: 1.296,  #mpv\n",
    "    6: 2.689,  #pickup\n",
    "    7: 0.695,  #sedan\n",
    "    8: 1.117,  #suv\n",
    "    9: 0.770   #truck\n",
    "}\n",
    "\n",
    "\n",
    "#fitting of the model\n",
    "history = model.fit(train_ds, \n",
    "                    validation_data = validation_ds, \n",
    "                    epochs = epochs,\n",
    "                    class_weight = class_weights,\n",
    "                    callbacks = [early_stopping])\n",
    "\n",
    "#accuracy and loss values\n",
    "accuracy = history.history['accuracy']\n",
    "val_accuracy = history.history['val_accuracy']\n",
    "\n",
    "loss = history.history['loss']\n",
    "val_loss = history.history['val_loss']\n",
    "\n",
    "epochs_range = range(epochs)\n",
    "\n",
    "true_labels = []\n",
    "predicted_labels = []\n",
    "\n",
    "for images, labels in val_ds:\n",
    "  true_labels.extend(labels.numpy())\n",
    "  pred = model.predict(images)\n",
    "  predicted_labels.extend(np.argmax(pred, axis = 1))\n",
    "\n",
    "confusion_matrix = confusion_matrix(true_labels, predicted_labels)\n",
    "\n",
    "print('Confusion Matrix: ')\n",
    "plt.figure(figsize=(8, 8))\n",
    "sns.heatmap(confusion_matrix, annot = True, fmt = 'd', xticklabels = CLASS_NAMES, yticklabels = CLASS_NAMES, cmap = 'Blues')\n",
    "plt.xlabel('Predicted')\n",
    "plt.ylabel('True')\n",
    "plt.title('Confusion Matrix')\n",
    "\n",
    "score = model.evaluate(validation_ds, verbose = 0)\n",
    "print('Validation loss:', score[0])\n",
    "print('Validation accuracy:', score[1])\n",
    "\n",
    "plt.figure(figsize = (8, 8))\n",
    "plt.subplot(1, 2, 1)\n",
    "plt.plot(accuracy, label = 'Training Accuracy')\n",
    "plt.plot(val_accuracy, label = 'Validation Accuracy')\n",
    "plt.legend(loc = 'lower right')\n",
    "plt.title('Training and Validation Accuracy')\n",
    "\n",
    "plt.subplot(1, 2, 2)\n",
    "plt.plot(loss, label = 'Training Loss')\n",
    "plt.plot(val_loss, label = 'Validation Loss')\n",
    "plt.legend(loc = 'upper right')\n",
    "plt.title('Training and Validation Loss')\n",
    "plt.show()"
   ]
  }
 ],
 "metadata": {
  "language_info": {
   "codemirror_mode": {
    "name": "ipython",
    "version": 3
   },
   "file_extension": ".py",
   "mimetype": "text/x-python",
   "name": "python",
   "nbconvert_exporter": "python",
   "pygments_lexer": "ipython3",
   "version": 3
  }
 },
 "nbformat": 4,
 "nbformat_minor": 2
}
