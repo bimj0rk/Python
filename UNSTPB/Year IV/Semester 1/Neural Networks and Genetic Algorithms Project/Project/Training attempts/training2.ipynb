{
 "cells": [
  {
   "cell_type": "code",
   "execution_count": null,
   "id": "35c9ad55-68c8-4508-8646-498b1b1a7c90",
   "metadata": {},
   "outputs": [
    {
     "name": "stderr",
     "output_type": "stream",
     "text": [
      "2025-01-19 14:30:15.425348: E external/local_xla/xla/stream_executor/cuda/cuda_fft.cc:477] Unable to register cuFFT factory: Attempting to register factory for plugin cuFFT when one has already been registered\n",
      "WARNING: All log messages before absl::InitializeLog() is called are written to STDERR\n",
      "E0000 00:00:1737289815.440021   15879 cuda_dnn.cc:8310] Unable to register cuDNN factory: Attempting to register factory for plugin cuDNN when one has already been registered\n",
      "E0000 00:00:1737289815.444417   15879 cuda_blas.cc:1418] Unable to register cuBLAS factory: Attempting to register factory for plugin cuBLAS when one has already been registered\n",
      "2025-01-19 14:30:15.459231: I tensorflow/core/platform/cpu_feature_guard.cc:210] This TensorFlow binary is optimized to use available CPU instructions in performance-critical operations.\n",
      "To enable the following instructions: AVX2 FMA, in other operations, rebuild TensorFlow with the appropriate compiler flags.\n"
     ]
    },
    {
     "name": "stdout",
     "output_type": "stream",
     "text": [
      "GPU found PhysicalDevice(name='/physical_device:GPU:0', device_type='GPU')\n",
      "Found 6480 files belonging to 10 classes.\n",
      "Using 5184 files for training.\n"
     ]
    },
    {
     "name": "stderr",
     "output_type": "stream",
     "text": [
      "I0000 00:00:1737289817.947089   15879 gpu_device.cc:2022] Created device /job:localhost/replica:0/task:0/device:GPU:0 with 4650 MB memory:  -> device: 0, name: NVIDIA GeForce GTX 1060 6GB, pci bus id: 0000:01:00.0, compute capability: 6.1\n"
     ]
    },
    {
     "name": "stdout",
     "output_type": "stream",
     "text": [
      "Found 6480 files belonging to 10 classes.\n",
      "Using 1296 files for validation.\n",
      "Epoch 1/100\n"
     ]
    },
    {
     "name": "stderr",
     "output_type": "stream",
     "text": [
      "/home/adiicmp/GitHub Repos/Python/.venv/lib/python3.12/site-packages/tf_keras/src/backend.py:5729: UserWarning: \"`sparse_categorical_crossentropy` received `from_logits=True`, but the `output` argument was produced by a Softmax activation and thus does not represent logits. Was this intended?\n",
      "  output, from_logits = _get_logits(\n",
      "I0000 00:00:1737289825.842263   15933 cuda_dnn.cc:529] Loaded cuDNN version 90300\n",
      "2025-01-19 14:30:27.374535: W external/local_xla/xla/tsl/framework/bfc_allocator.cc:306] Allocator (GPU_0_bfc) ran out of memory trying to allocate 2.55GiB with freed_by_count=0. The caller indicates that this is not a failure, but this may mean that there could be performance gains if more memory were available.\n",
      "WARNING: All log messages before absl::InitializeLog() is called are written to STDERR\n",
      "I0000 00:00:1737289828.758384   15933 service.cc:148] XLA service 0x7b4710e60670 initialized for platform CUDA (this does not guarantee that XLA will be used). Devices:\n",
      "I0000 00:00:1737289828.758405   15933 service.cc:156]   StreamExecutor device (0): NVIDIA GeForce GTX 1060 6GB, Compute Capability 6.1\n",
      "2025-01-19 14:30:28.763214: I tensorflow/compiler/mlir/tensorflow/utils/dump_mlir_util.cc:268] disabling MLIR crash reproducer, set env var `MLIR_CRASH_REPRODUCER_DIRECTORY` to enable.\n",
      "I0000 00:00:1737289828.828635   15933 device_compiler.h:188] Compiled cluster using XLA!  This line is logged at most once for the lifetime of the process.\n",
      "2025-01-19 14:30:32.788509: W external/local_xla/xla/tsl/framework/bfc_allocator.cc:306] Allocator (GPU_0_bfc) ran out of memory trying to allocate 2.23GiB with freed_by_count=0. The caller indicates that this is not a failure, but this may mean that there could be performance gains if more memory were available.\n"
     ]
    },
    {
     "name": "stdout",
     "output_type": "stream",
     "text": [
      "129/162 [======================>.......] - ETA: 13s - loss: 7.5730 - accuracy: 0.2415"
     ]
    },
    {
     "name": "stderr",
     "output_type": "stream",
     "text": [
      "2025-01-19 14:31:27.432613: W tensorflow/core/lib/png/png_io.cc:89] PNG warning: iCCP: known incorrect sRGB profile\n"
     ]
    },
    {
     "name": "stdout",
     "output_type": "stream",
     "text": [
      "162/162 [==============================] - ETA: 0s - loss: 7.4530 - accuracy: 0.2525"
     ]
    },
    {
     "name": "stderr",
     "output_type": "stream",
     "text": [
      "2025-01-19 14:31:52.346251: W external/local_xla/xla/tsl/framework/bfc_allocator.cc:378] Garbage collection: deallocate free memory regions (i.e., allocations) so that we can re-allocate a larger region to avoid OOM due to memory fragmentation. If you see this message frequently, you are running near the threshold of the available device memory and re-allocation may incur great performance overhead. You may try smaller batch sizes to observe the performance impact. Set TF_ENABLE_GPU_GARBAGE_COLLECTION=false if you'd like to disable this feature.\n"
     ]
    },
    {
     "name": "stdout",
     "output_type": "stream",
     "text": [
      "162/162 [==============================] - 91s 493ms/step - loss: 7.4530 - accuracy: 0.2525 - val_loss: 7.1134 - val_accuracy: 0.2809\n",
      "Epoch 2/100\n",
      "129/162 [======================>.......] - ETA: 13s - loss: 6.6911 - accuracy: 0.3416"
     ]
    },
    {
     "name": "stderr",
     "output_type": "stream",
     "text": [
      "2025-01-19 14:32:48.249555: W tensorflow/core/lib/png/png_io.cc:89] PNG warning: iCCP: known incorrect sRGB profile\n"
     ]
    },
    {
     "name": "stdout",
     "output_type": "stream",
     "text": [
      "162/162 [==============================] - 79s 477ms/step - loss: 6.6318 - accuracy: 0.3470 - val_loss: 6.6547 - val_accuracy: 0.2870\n",
      "Epoch 3/100\n",
      "129/162 [======================>.......] - ETA: 13s - loss: 6.2193 - accuracy: 0.3951"
     ]
    },
    {
     "name": "stderr",
     "output_type": "stream",
     "text": [
      "2025-01-19 14:34:08.579345: W tensorflow/core/lib/png/png_io.cc:89] PNG warning: iCCP: known incorrect sRGB profile\n"
     ]
    },
    {
     "name": "stdout",
     "output_type": "stream",
     "text": [
      "162/162 [==============================] - 81s 485ms/step - loss: 6.1743 - accuracy: 0.3960 - val_loss: 6.6767 - val_accuracy: 0.2593\n",
      "Epoch 4/100\n",
      "129/162 [======================>.......] - ETA: 13s - loss: 5.8330 - accuracy: 0.4193"
     ]
    },
    {
     "name": "stderr",
     "output_type": "stream",
     "text": [
      "2025-01-19 14:35:29.895156: W tensorflow/core/lib/png/png_io.cc:89] PNG warning: iCCP: known incorrect sRGB profile\n"
     ]
    },
    {
     "name": "stdout",
     "output_type": "stream",
     "text": [
      "162/162 [==============================] - 81s 485ms/step - loss: 5.7936 - accuracy: 0.4242 - val_loss: 6.1183 - val_accuracy: 0.3519\n",
      "Epoch 5/100\n",
      "129/162 [======================>.......] - ETA: 13s - loss: 5.4433 - accuracy: 0.4571"
     ]
    },
    {
     "name": "stderr",
     "output_type": "stream",
     "text": [
      "2025-01-19 14:36:49.836614: W tensorflow/core/lib/png/png_io.cc:89] PNG warning: iCCP: known incorrect sRGB profile\n"
     ]
    },
    {
     "name": "stdout",
     "output_type": "stream",
     "text": [
      "162/162 [==============================] - 80s 480ms/step - loss: 5.4148 - accuracy: 0.4593 - val_loss: 6.0411 - val_accuracy: 0.3040\n",
      "Epoch 6/100\n",
      "129/162 [======================>.......] - ETA: 13s - loss: 5.1220 - accuracy: 0.4702"
     ]
    },
    {
     "name": "stderr",
     "output_type": "stream",
     "text": [
      "2025-01-19 14:38:08.634283: W tensorflow/core/lib/png/png_io.cc:89] PNG warning: iCCP: known incorrect sRGB profile\n"
     ]
    },
    {
     "name": "stdout",
     "output_type": "stream",
     "text": [
      "162/162 [==============================] - 79s 472ms/step - loss: 5.0881 - accuracy: 0.4759 - val_loss: 6.1415 - val_accuracy: 0.2670\n",
      "Epoch 7/100\n",
      "129/162 [======================>.......] - ETA: 13s - loss: 4.8106 - accuracy: 0.5012"
     ]
    },
    {
     "name": "stderr",
     "output_type": "stream",
     "text": [
      "2025-01-19 14:39:27.535260: W tensorflow/core/lib/png/png_io.cc:89] PNG warning: iCCP: known incorrect sRGB profile\n"
     ]
    },
    {
     "name": "stdout",
     "output_type": "stream",
     "text": [
      "162/162 [==============================] - 79s 475ms/step - loss: 4.7822 - accuracy: 0.4975 - val_loss: 5.8751 - val_accuracy: 0.3218\n",
      "Epoch 8/100\n",
      "129/162 [======================>.......] - ETA: 13s - loss: 4.5023 - accuracy: 0.5194"
     ]
    },
    {
     "name": "stderr",
     "output_type": "stream",
     "text": [
      "2025-01-19 14:40:46.071120: W tensorflow/core/lib/png/png_io.cc:89] PNG warning: iCCP: known incorrect sRGB profile\n"
     ]
    },
    {
     "name": "stdout",
     "output_type": "stream",
     "text": [
      "162/162 [==============================] - 79s 474ms/step - loss: 4.4786 - accuracy: 0.5199 - val_loss: 5.0131 - val_accuracy: 0.3858\n",
      "Epoch 9/100\n",
      "129/162 [======================>.......] - ETA: 13s - loss: 4.2166 - accuracy: 0.5446"
     ]
    },
    {
     "name": "stderr",
     "output_type": "stream",
     "text": [
      "2025-01-19 14:42:04.853682: W tensorflow/core/lib/png/png_io.cc:89] PNG warning: iCCP: known incorrect sRGB profile\n"
     ]
    },
    {
     "name": "stdout",
     "output_type": "stream",
     "text": [
      "162/162 [==============================] - 79s 472ms/step - loss: 4.1797 - accuracy: 0.5488 - val_loss: 4.7288 - val_accuracy: 0.3958\n",
      "Epoch 10/100\n",
      "129/162 [======================>.......] - ETA: 13s - loss: 3.9597 - accuracy: 0.5514"
     ]
    },
    {
     "name": "stderr",
     "output_type": "stream",
     "text": [
      "2025-01-19 14:43:24.583060: W tensorflow/core/lib/png/png_io.cc:89] PNG warning: iCCP: known incorrect sRGB profile\n"
     ]
    },
    {
     "name": "stdout",
     "output_type": "stream",
     "text": [
      "162/162 [==============================] - 80s 479ms/step - loss: 3.9385 - accuracy: 0.5544 - val_loss: 4.2663 - val_accuracy: 0.4537\n",
      "Epoch 11/100\n",
      "129/162 [======================>.......] - ETA: 13s - loss: 3.7166 - accuracy: 0.5671"
     ]
    },
    {
     "name": "stderr",
     "output_type": "stream",
     "text": [
      "2025-01-19 14:44:43.057221: W tensorflow/core/lib/png/png_io.cc:89] PNG warning: iCCP: known incorrect sRGB profile\n"
     ]
    },
    {
     "name": "stdout",
     "output_type": "stream",
     "text": [
      "162/162 [==============================] - 79s 473ms/step - loss: 3.6988 - accuracy: 0.5662 - val_loss: 4.1407 - val_accuracy: 0.4198\n",
      "Epoch 12/100\n",
      "129/162 [======================>.......] - ETA: 13s - loss: 3.4957 - accuracy: 0.5891"
     ]
    },
    {
     "name": "stderr",
     "output_type": "stream",
     "text": [
      "2025-01-19 14:46:02.799129: W tensorflow/core/lib/png/png_io.cc:89] PNG warning: iCCP: known incorrect sRGB profile\n"
     ]
    },
    {
     "name": "stdout",
     "output_type": "stream",
     "text": [
      "162/162 [==============================] - 79s 477ms/step - loss: 3.4736 - accuracy: 0.5882 - val_loss: 4.1754 - val_accuracy: 0.4174\n",
      "Epoch 13/100\n",
      "129/162 [======================>.......] - ETA: 13s - loss: 3.2687 - accuracy: 0.6068"
     ]
    },
    {
     "name": "stderr",
     "output_type": "stream",
     "text": [
      "2025-01-19 14:47:21.108040: W tensorflow/core/lib/png/png_io.cc:89] PNG warning: iCCP: known incorrect sRGB profile\n"
     ]
    },
    {
     "name": "stdout",
     "output_type": "stream",
     "text": [
      "162/162 [==============================] - 79s 473ms/step - loss: 3.2584 - accuracy: 0.6017 - val_loss: 3.9580 - val_accuracy: 0.4082\n",
      "Epoch 14/100\n",
      "129/162 [======================>.......] - ETA: 13s - loss: 3.0737 - accuracy: 0.6093"
     ]
    },
    {
     "name": "stderr",
     "output_type": "stream",
     "text": [
      "2025-01-19 14:48:40.848113: W tensorflow/core/lib/png/png_io.cc:89] PNG warning: iCCP: known incorrect sRGB profile\n"
     ]
    },
    {
     "name": "stdout",
     "output_type": "stream",
     "text": [
      "162/162 [==============================] - 80s 479ms/step - loss: 3.0590 - accuracy: 0.6101 - val_loss: 3.6826 - val_accuracy: 0.4306\n",
      "Epoch 15/100\n",
      "129/162 [======================>.......] - ETA: 13s - loss: 2.8848 - accuracy: 0.6240"
     ]
    },
    {
     "name": "stderr",
     "output_type": "stream",
     "text": [
      "2025-01-19 14:50:00.350337: W tensorflow/core/lib/png/png_io.cc:89] PNG warning: iCCP: known incorrect sRGB profile\n"
     ]
    },
    {
     "name": "stdout",
     "output_type": "stream",
     "text": [
      "162/162 [==============================] - 79s 475ms/step - loss: 2.8726 - accuracy: 0.6242 - val_loss: 3.5112 - val_accuracy: 0.4514\n",
      "Epoch 16/100\n",
      "129/162 [======================>.......] - ETA: 13s - loss: 2.7157 - accuracy: 0.6398"
     ]
    },
    {
     "name": "stderr",
     "output_type": "stream",
     "text": [
      "2025-01-19 14:51:20.115001: W tensorflow/core/lib/png/png_io.cc:89] PNG warning: iCCP: known incorrect sRGB profile\n"
     ]
    },
    {
     "name": "stdout",
     "output_type": "stream",
     "text": [
      "162/162 [==============================] - 80s 484ms/step - loss: 2.7079 - accuracy: 0.6377 - val_loss: 3.5163 - val_accuracy: 0.4367\n",
      "Epoch 17/100\n",
      "129/162 [======================>.......] - ETA: 13s - loss: 2.5469 - accuracy: 0.6567"
     ]
    },
    {
     "name": "stderr",
     "output_type": "stream",
     "text": [
      "2025-01-19 14:52:39.529858: W tensorflow/core/lib/png/png_io.cc:89] PNG warning: iCCP: known incorrect sRGB profile\n"
     ]
    },
    {
     "name": "stdout",
     "output_type": "stream",
     "text": [
      "162/162 [==============================] - 80s 480ms/step - loss: 2.5389 - accuracy: 0.6559 - val_loss: 3.2023 - val_accuracy: 0.4506\n",
      "Epoch 18/100\n",
      "129/162 [======================>.......] - ETA: 13s - loss: 2.4061 - accuracy: 0.6536"
     ]
    },
    {
     "name": "stderr",
     "output_type": "stream",
     "text": [
      "2025-01-19 14:53:58.522287: W tensorflow/core/lib/png/png_io.cc:89] PNG warning: iCCP: known incorrect sRGB profile\n"
     ]
    },
    {
     "name": "stdout",
     "output_type": "stream",
     "text": [
      "162/162 [==============================] - 79s 475ms/step - loss: 2.3977 - accuracy: 0.6532 - val_loss: 3.0433 - val_accuracy: 0.4630\n",
      "Epoch 19/100\n",
      "129/162 [======================>.......] - ETA: 13s - loss: 2.2665 - accuracy: 0.6686"
     ]
    },
    {
     "name": "stderr",
     "output_type": "stream",
     "text": [
      "2025-01-19 14:55:19.311351: W tensorflow/core/lib/png/png_io.cc:89] PNG warning: iCCP: known incorrect sRGB profile\n"
     ]
    },
    {
     "name": "stdout",
     "output_type": "stream",
     "text": [
      "162/162 [==============================] - 80s 483ms/step - loss: 2.2589 - accuracy: 0.6694 - val_loss: 3.0837 - val_accuracy: 0.4444\n",
      "Epoch 20/100\n",
      "129/162 [======================>.......] - ETA: 13s - loss: 2.1268 - accuracy: 0.6810"
     ]
    },
    {
     "name": "stderr",
     "output_type": "stream",
     "text": [
      "2025-01-19 14:56:39.343869: W tensorflow/core/lib/png/png_io.cc:89] PNG warning: iCCP: known incorrect sRGB profile\n"
     ]
    },
    {
     "name": "stdout",
     "output_type": "stream",
     "text": [
      "162/162 [==============================] - 79s 477ms/step - loss: 2.1159 - accuracy: 0.6813 - val_loss: 2.8035 - val_accuracy: 0.4938\n",
      "Epoch 21/100\n",
      "129/162 [======================>.......] - ETA: 13s - loss: 2.0104 - accuracy: 0.6953"
     ]
    },
    {
     "name": "stderr",
     "output_type": "stream",
     "text": [
      "2025-01-19 14:57:58.488049: W tensorflow/core/lib/png/png_io.cc:89] PNG warning: iCCP: known incorrect sRGB profile\n"
     ]
    },
    {
     "name": "stdout",
     "output_type": "stream",
     "text": [
      "162/162 [==============================] - 79s 477ms/step - loss: 1.9920 - accuracy: 0.6979 - val_loss: 2.9247 - val_accuracy: 0.4390\n",
      "Epoch 22/100\n",
      "129/162 [======================>.......] - ETA: 13s - loss: 1.9173 - accuracy: 0.7049"
     ]
    },
    {
     "name": "stderr",
     "output_type": "stream",
     "text": [
      "2025-01-19 14:59:17.347649: W tensorflow/core/lib/png/png_io.cc:89] PNG warning: iCCP: known incorrect sRGB profile\n"
     ]
    },
    {
     "name": "stdout",
     "output_type": "stream",
     "text": [
      "162/162 [==============================] - 79s 474ms/step - loss: 1.9037 - accuracy: 0.7058 - val_loss: 2.9971 - val_accuracy: 0.4159\n",
      "Epoch 23/100\n",
      "129/162 [======================>.......] - ETA: 13s - loss: 1.7994 - accuracy: 0.7122"
     ]
    },
    {
     "name": "stderr",
     "output_type": "stream",
     "text": [
      "2025-01-19 15:00:35.995349: W tensorflow/core/lib/png/png_io.cc:89] PNG warning: iCCP: known incorrect sRGB profile\n"
     ]
    },
    {
     "name": "stdout",
     "output_type": "stream",
     "text": [
      "162/162 [==============================] - 79s 472ms/step - loss: 1.7815 - accuracy: 0.7141 - val_loss: 2.7741 - val_accuracy: 0.4429\n",
      "Epoch 24/100\n",
      "129/162 [======================>.......] - ETA: 13s - loss: 1.6934 - accuracy: 0.7204"
     ]
    },
    {
     "name": "stderr",
     "output_type": "stream",
     "text": [
      "2025-01-19 15:01:54.489630: W tensorflow/core/lib/png/png_io.cc:89] PNG warning: iCCP: known incorrect sRGB profile\n"
     ]
    },
    {
     "name": "stdout",
     "output_type": "stream",
     "text": [
      "162/162 [==============================] - 79s 475ms/step - loss: 1.6813 - accuracy: 0.7218 - val_loss: 2.5794 - val_accuracy: 0.4784\n",
      "Epoch 25/100\n",
      "129/162 [======================>.......] - ETA: 13s - loss: 1.6107 - accuracy: 0.7367"
     ]
    },
    {
     "name": "stderr",
     "output_type": "stream",
     "text": [
      "2025-01-19 15:03:13.374989: W tensorflow/core/lib/png/png_io.cc:89] PNG warning: iCCP: known incorrect sRGB profile\n"
     ]
    },
    {
     "name": "stdout",
     "output_type": "stream",
     "text": [
      "162/162 [==============================] - 79s 472ms/step - loss: 1.6016 - accuracy: 0.7336 - val_loss: 2.2965 - val_accuracy: 0.5154\n",
      "Epoch 26/100\n",
      "129/162 [======================>.......] - ETA: 13s - loss: 1.5140 - accuracy: 0.7461"
     ]
    },
    {
     "name": "stderr",
     "output_type": "stream",
     "text": [
      "2025-01-19 15:04:32.634295: W tensorflow/core/lib/png/png_io.cc:89] PNG warning: iCCP: known incorrect sRGB profile\n"
     ]
    },
    {
     "name": "stdout",
     "output_type": "stream",
     "text": [
      "162/162 [==============================] - 79s 474ms/step - loss: 1.4986 - accuracy: 0.7471 - val_loss: 2.4952 - val_accuracy: 0.5031\n",
      "Epoch 27/100\n",
      "129/162 [======================>.......] - ETA: 13s - loss: 1.4435 - accuracy: 0.7498"
     ]
    },
    {
     "name": "stderr",
     "output_type": "stream",
     "text": [
      "2025-01-19 15:05:51.448102: W tensorflow/core/lib/png/png_io.cc:89] PNG warning: iCCP: known incorrect sRGB profile\n"
     ]
    },
    {
     "name": "stdout",
     "output_type": "stream",
     "text": [
      "162/162 [==============================] - 79s 474ms/step - loss: 1.4291 - accuracy: 0.7521 - val_loss: 2.9416 - val_accuracy: 0.3989\n",
      "Epoch 28/100\n",
      "129/162 [======================>.......] - ETA: 13s - loss: 1.3762 - accuracy: 0.7551"
     ]
    },
    {
     "name": "stderr",
     "output_type": "stream",
     "text": [
      "2025-01-19 15:07:10.333343: W tensorflow/core/lib/png/png_io.cc:89] PNG warning: iCCP: known incorrect sRGB profile\n"
     ]
    },
    {
     "name": "stdout",
     "output_type": "stream",
     "text": [
      "162/162 [==============================] - 78s 471ms/step - loss: 1.3701 - accuracy: 0.7560 - val_loss: 2.3623 - val_accuracy: 0.4861\n",
      "Epoch 29/100\n",
      "129/162 [======================>.......] - ETA: 13s - loss: 1.2985 - accuracy: 0.7641"
     ]
    },
    {
     "name": "stderr",
     "output_type": "stream",
     "text": [
      "2025-01-19 15:08:28.444947: W tensorflow/core/lib/png/png_io.cc:89] PNG warning: iCCP: known incorrect sRGB profile\n"
     ]
    },
    {
     "name": "stdout",
     "output_type": "stream",
     "text": [
      "162/162 [==============================] - 79s 472ms/step - loss: 1.2865 - accuracy: 0.7639 - val_loss: 2.0623 - val_accuracy: 0.5324\n",
      "Epoch 30/100\n",
      "129/162 [======================>.......] - ETA: 13s - loss: 1.2200 - accuracy: 0.7742"
     ]
    },
    {
     "name": "stderr",
     "output_type": "stream",
     "text": [
      "2025-01-19 15:09:47.846505: W tensorflow/core/lib/png/png_io.cc:89] PNG warning: iCCP: known incorrect sRGB profile\n"
     ]
    },
    {
     "name": "stdout",
     "output_type": "stream",
     "text": [
      "162/162 [==============================] - 79s 477ms/step - loss: 1.2173 - accuracy: 0.7733 - val_loss: 2.5524 - val_accuracy: 0.4630\n",
      "Epoch 31/100\n",
      "129/162 [======================>.......] - ETA: 13s - loss: 1.1690 - accuracy: 0.7820"
     ]
    },
    {
     "name": "stderr",
     "output_type": "stream",
     "text": [
      "2025-01-19 15:11:05.532084: W tensorflow/core/lib/png/png_io.cc:89] PNG warning: iCCP: known incorrect sRGB profile\n"
     ]
    },
    {
     "name": "stdout",
     "output_type": "stream",
     "text": [
      "162/162 [==============================] - 78s 466ms/step - loss: 1.1700 - accuracy: 0.7805 - val_loss: 2.6721 - val_accuracy: 0.4020\n",
      "Epoch 32/100\n",
      "129/162 [======================>.......] - ETA: 13s - loss: 1.1268 - accuracy: 0.7839"
     ]
    },
    {
     "name": "stderr",
     "output_type": "stream",
     "text": [
      "2025-01-19 15:12:25.932794: W tensorflow/core/lib/png/png_io.cc:89] PNG warning: iCCP: known incorrect sRGB profile\n"
     ]
    },
    {
     "name": "stdout",
     "output_type": "stream",
     "text": [
      "162/162 [==============================] - 81s 486ms/step - loss: 1.1154 - accuracy: 0.7845 - val_loss: 2.6260 - val_accuracy: 0.4298\n",
      "Epoch 33/100\n",
      "129/162 [======================>.......] - ETA: 13s - loss: 1.0684 - accuracy: 0.7873"
     ]
    },
    {
     "name": "stderr",
     "output_type": "stream",
     "text": [
      "2025-01-19 15:13:44.117169: W tensorflow/core/lib/png/png_io.cc:89] PNG warning: iCCP: known incorrect sRGB profile\n"
     ]
    },
    {
     "name": "stdout",
     "output_type": "stream",
     "text": [
      "162/162 [==============================] - 78s 470ms/step - loss: 1.0539 - accuracy: 0.7909 - val_loss: 2.0637 - val_accuracy: 0.5370\n",
      "Epoch 34/100\n",
      "129/162 [======================>.......] - ETA: 13s - loss: 0.9978 - accuracy: 0.8001"
     ]
    },
    {
     "name": "stderr",
     "output_type": "stream",
     "text": [
      "2025-01-19 15:15:01.778009: W tensorflow/core/lib/png/png_io.cc:89] PNG warning: iCCP: known incorrect sRGB profile\n"
     ]
    },
    {
     "name": "stdout",
     "output_type": "stream",
     "text": [
      "162/162 [==============================] - 77s 463ms/step - loss: 0.9949 - accuracy: 0.8000 - val_loss: 2.2213 - val_accuracy: 0.4699\n",
      "Epoch 35/100\n",
      "129/162 [======================>.......] - ETA: 13s - loss: 0.9590 - accuracy: 0.8110"
     ]
    },
    {
     "name": "stderr",
     "output_type": "stream",
     "text": [
      "2025-01-19 15:16:19.282544: W tensorflow/core/lib/png/png_io.cc:89] PNG warning: iCCP: known incorrect sRGB profile\n"
     ]
    },
    {
     "name": "stdout",
     "output_type": "stream",
     "text": [
      "162/162 [==============================] - 78s 469ms/step - loss: 0.9519 - accuracy: 0.8123 - val_loss: 1.9648 - val_accuracy: 0.5247\n",
      "Epoch 36/100\n",
      "129/162 [======================>.......] - ETA: 12s - loss: 0.9201 - accuracy: 0.8173"
     ]
    },
    {
     "name": "stderr",
     "output_type": "stream",
     "text": [
      "2025-01-19 15:17:34.306407: W tensorflow/core/lib/png/png_io.cc:89] PNG warning: iCCP: known incorrect sRGB profile\n"
     ]
    },
    {
     "name": "stdout",
     "output_type": "stream",
     "text": [
      "162/162 [==============================] - 75s 450ms/step - loss: 0.9093 - accuracy: 0.8202 - val_loss: 1.8437 - val_accuracy: 0.5633\n",
      "Epoch 37/100\n",
      "129/162 [======================>.......] - ETA: 13s - loss: 0.9031 - accuracy: 0.8108"
     ]
    },
    {
     "name": "stderr",
     "output_type": "stream",
     "text": [
      "2025-01-19 15:18:52.173288: W tensorflow/core/lib/png/png_io.cc:89] PNG warning: iCCP: known incorrect sRGB profile\n"
     ]
    },
    {
     "name": "stdout",
     "output_type": "stream",
     "text": [
      "162/162 [==============================] - 78s 466ms/step - loss: 0.8972 - accuracy: 0.8106 - val_loss: 1.7290 - val_accuracy: 0.5756\n",
      "Epoch 38/100\n",
      "129/162 [======================>.......] - ETA: 13s - loss: 0.8377 - accuracy: 0.8227"
     ]
    },
    {
     "name": "stderr",
     "output_type": "stream",
     "text": [
      "2025-01-19 15:20:09.572706: W tensorflow/core/lib/png/png_io.cc:89] PNG warning: iCCP: known incorrect sRGB profile\n"
     ]
    },
    {
     "name": "stdout",
     "output_type": "stream",
     "text": [
      "162/162 [==============================] - 76s 458ms/step - loss: 0.8307 - accuracy: 0.8241 - val_loss: 2.8057 - val_accuracy: 0.3951\n",
      "Epoch 39/100\n",
      "129/162 [======================>.......] - ETA: 13s - loss: 0.8247 - accuracy: 0.8232"
     ]
    },
    {
     "name": "stderr",
     "output_type": "stream",
     "text": [
      "2025-01-19 15:21:26.080705: W tensorflow/core/lib/png/png_io.cc:89] PNG warning: iCCP: known incorrect sRGB profile\n"
     ]
    },
    {
     "name": "stdout",
     "output_type": "stream",
     "text": [
      "162/162 [==============================] - 78s 470ms/step - loss: 0.8082 - accuracy: 0.8283 - val_loss: 2.1043 - val_accuracy: 0.4985\n",
      "Epoch 40/100\n",
      "129/162 [======================>.......] - ETA: 13s - loss: 0.7491 - accuracy: 0.8486"
     ]
    },
    {
     "name": "stderr",
     "output_type": "stream",
     "text": [
      "2025-01-19 15:22:46.467235: W tensorflow/core/lib/png/png_io.cc:89] PNG warning: iCCP: known incorrect sRGB profile\n"
     ]
    },
    {
     "name": "stdout",
     "output_type": "stream",
     "text": [
      "162/162 [==============================] - 80s 483ms/step - loss: 0.7493 - accuracy: 0.8480 - val_loss: 1.9792 - val_accuracy: 0.5255\n",
      "Epoch 41/100\n",
      "129/162 [======================>.......] - ETA: 12s - loss: 0.7326 - accuracy: 0.8454"
     ]
    },
    {
     "name": "stderr",
     "output_type": "stream",
     "text": [
      "2025-01-19 15:24:03.281862: W tensorflow/core/lib/png/png_io.cc:89] PNG warning: iCCP: known incorrect sRGB profile\n"
     ]
    },
    {
     "name": "stdout",
     "output_type": "stream",
     "text": [
      "162/162 [==============================] - 75s 447ms/step - loss: 0.7215 - accuracy: 0.8503 - val_loss: 1.8642 - val_accuracy: 0.5340\n",
      "Epoch 42/100\n",
      "129/162 [======================>.......] - ETA: 12s - loss: 0.7019 - accuracy: 0.8479"
     ]
    },
    {
     "name": "stderr",
     "output_type": "stream",
     "text": [
      "2025-01-19 15:25:16.277822: W tensorflow/core/lib/png/png_io.cc:89] PNG warning: iCCP: known incorrect sRGB profile\n"
     ]
    },
    {
     "name": "stdout",
     "output_type": "stream",
     "text": [
      "162/162 [==============================] - 73s 438ms/step - loss: 0.6961 - accuracy: 0.8497 - val_loss: 1.7833 - val_accuracy: 0.5602\n",
      "Epoch 43/100\n",
      "129/162 [======================>.......] - ETA: 12s - loss: 0.6709 - accuracy: 0.8600"
     ]
    },
    {
     "name": "stderr",
     "output_type": "stream",
     "text": [
      "2025-01-19 15:26:29.733100: W tensorflow/core/lib/png/png_io.cc:89] PNG warning: iCCP: known incorrect sRGB profile\n"
     ]
    },
    {
     "name": "stdout",
     "output_type": "stream",
     "text": [
      "162/162 [==============================] - 73s 441ms/step - loss: 0.6745 - accuracy: 0.8565 - val_loss: 1.9906 - val_accuracy: 0.5285\n",
      "Epoch 44/100\n",
      "129/162 [======================>.......] - ETA: 12s - loss: 0.6569 - accuracy: 0.8510"
     ]
    },
    {
     "name": "stderr",
     "output_type": "stream",
     "text": [
      "2025-01-19 15:27:42.183957: W tensorflow/core/lib/png/png_io.cc:89] PNG warning: iCCP: known incorrect sRGB profile\n"
     ]
    },
    {
     "name": "stdout",
     "output_type": "stream",
     "text": [
      "162/162 [==============================] - 72s 433ms/step - loss: 0.6521 - accuracy: 0.8534 - val_loss: 1.8853 - val_accuracy: 0.5201\n",
      "Epoch 45/100\n",
      "129/162 [======================>.......] - ETA: 12s - loss: 0.6253 - accuracy: 0.8665"
     ]
    },
    {
     "name": "stderr",
     "output_type": "stream",
     "text": [
      "2025-01-19 15:28:55.380988: W tensorflow/core/lib/png/png_io.cc:89] PNG warning: iCCP: known incorrect sRGB profile\n"
     ]
    },
    {
     "name": "stdout",
     "output_type": "stream",
     "text": [
      "162/162 [==============================] - 73s 439ms/step - loss: 0.6249 - accuracy: 0.8665 - val_loss: 2.6024 - val_accuracy: 0.4198\n",
      "Epoch 45: early stopping\n",
      "Restoring model weights from the end of the best epoch: 37.\n",
      "1/1 [==============================] - 0s 159ms/step\n",
      "1/1 [==============================] - 0s 27ms/step\n",
      "1/1 [==============================] - 0s 17ms/step\n",
      "1/1 [==============================] - 0s 18ms/step\n",
      "1/1 [==============================] - 0s 19ms/step\n",
      "1/1 [==============================] - 0s 22ms/step\n",
      "1/1 [==============================] - 0s 18ms/step\n",
      "1/1 [==============================] - 0s 26ms/step\n",
      "1/1 [==============================] - 0s 17ms/step\n",
      "1/1 [==============================] - 0s 31ms/step\n",
      "1/1 [==============================] - 0s 18ms/step\n",
      "1/1 [==============================] - 0s 19ms/step\n",
      "1/1 [==============================] - 0s 25ms/step\n",
      "1/1 [==============================] - 0s 23ms/step\n",
      "1/1 [==============================] - 0s 23ms/step\n",
      "1/1 [==============================] - 0s 25ms/step\n",
      "1/1 [==============================] - 0s 24ms/step\n",
      "1/1 [==============================] - 0s 24ms/step\n",
      "1/1 [==============================] - 0s 24ms/step\n",
      "1/1 [==============================] - 0s 18ms/step\n",
      "1/1 [==============================] - 0s 22ms/step\n",
      "1/1 [==============================] - 0s 25ms/step\n",
      "1/1 [==============================] - 0s 24ms/step\n",
      "1/1 [==============================] - 0s 24ms/step\n",
      "1/1 [==============================] - 0s 17ms/step\n",
      "1/1 [==============================] - 0s 26ms/step\n",
      "1/1 [==============================] - 0s 20ms/step\n",
      "1/1 [==============================] - 0s 25ms/step\n",
      "1/1 [==============================] - 0s 17ms/step\n",
      "1/1 [==============================] - 0s 21ms/step\n",
      "1/1 [==============================] - 0s 22ms/step\n",
      "1/1 [==============================] - 0s 30ms/step\n",
      "1/1 [==============================] - 0s 23ms/step\n",
      "1/1 [==============================] - 0s 16ms/step\n",
      "1/1 [==============================] - 0s 16ms/step\n",
      "1/1 [==============================] - 0s 16ms/step\n",
      "1/1 [==============================] - 0s 17ms/step\n",
      "1/1 [==============================] - 0s 20ms/step\n",
      "1/1 [==============================] - 0s 17ms/step\n",
      "1/1 [==============================] - 0s 17ms/step\n",
      "1/1 [==============================] - 0s 101ms/step\n",
      "Confusion Matrix: \n"
     ]
    },
    {
     "name": "stderr",
     "output_type": "stream",
     "text": [
      "2025-01-19 15:29:28.940345: I tensorflow/core/framework/local_rendezvous.cc:405] Local rendezvous is aborting with status: OUT_OF_RANGE: End of sequence\n"
     ]
    },
    {
     "name": "stdout",
     "output_type": "stream",
     "text": [
      "Validation loss: 1.729009747505188\n",
      "Validation accuracy: 0.5756173133850098\n"
     ]
    },
    {
     "data": {
      "image/png": "[encoded data removed]",
      "text/plain": [
       "<Figure size 800x800 with 2 Axes>"
      ]
     },
     "metadata": {},
     "output_type": "display_data"
    },
    {
     "data": {
      "image/png": "[encoded data removed]",
      "text/plain": [
       "<Figure size 800x800 with 2 Axes>"
      ]
     },
     "metadata": {},
     "output_type": "display_data"
    }
   ],
   "source": [
    "#%%\n",
    "\n",
    "import tensorflow as tf\n",
    "import tf_keras\n",
    "import matplotlib.pyplot as plt\n",
    "import seaborn as sns\n",
    "import numpy as np\n",
    "from tf_keras import layers\n",
    "from tf_keras.models import Sequential\n",
    "from sklearn.metrics import confusion_matrix\n",
    "from tf_keras.optimizers import Adam\n",
    "from tf_keras.regularizers import l2\n",
    "\n",
    "gpu_devices = tf.config.list_physical_devices('GPU')\n",
    "if gpu_devices:\n",
    "  tf.config.experimental.set_memory_growth(gpu_devices[0], True)\n",
    "  print('GPU found', gpu_devices[0])\n",
    "else:\n",
    "  print('No GPU found')\n",
    "\n",
    "#define image size\n",
    "IMG_SIZE = 224\n",
    "\n",
    "#define batch size\n",
    "BATCH_SIZE = 32\n",
    "\n",
    "#training and valdiation directories\n",
    "TRAINING_DIR = \"Train\"\n",
    "  \n",
    "#training split\n",
    "train_ds = tf_keras.utils.image_dataset_from_directory(\n",
    "  TRAINING_DIR,\n",
    "  labels = \"inferred\",\n",
    "  image_size = (IMG_SIZE, IMG_SIZE),\n",
    "  batch_size = BATCH_SIZE,\n",
    "  subset = \"training\",\n",
    "  validation_split = 0.2,\n",
    "  seed = 225\n",
    ")\n",
    "\n",
    "#validation split, taken directly from the same directory as train\n",
    "validation_ds = tf_keras.utils.image_dataset_from_directory(\n",
    "  TRAINING_DIR,\n",
    "  labels = \"inferred\",\n",
    "  image_size = (IMG_SIZE, IMG_SIZE),\n",
    "  batch_size = BATCH_SIZE,\n",
    "  subset = 'validation',\n",
    "  validation_split = 0.2,\n",
    "  seed = 225\n",
    ")\n",
    "\n",
    "CLASS_NAMES = train_ds.class_names\n",
    "\n",
    "data_augmentation = Sequential([\n",
    "  layers.experimental.preprocessing.RandomFlip('horizontal'),\n",
    "  layers.experimental.preprocessing.RandomRotation(0.2),\n",
    "  layers.experimental.preprocessing.RandomZoom(0.2) \n",
    "])\n",
    "\n",
    "def augment_images(image, label):\n",
    "  image = data_augmentation(image)\n",
    "  return image, label\n",
    "\n",
    "train_ds = train_ds.map(augment_images)\n",
    "\n",
    "AUTOTUNE = tf.data.AUTOTUNE\n",
    "train_ds = train_ds.prefetch(buffer_size = AUTOTUNE)\n",
    "val_ds = validation_ds.cache().prefetch(buffer_size = AUTOTUNE)\n",
    "\n",
    "norm_layer = layers.Rescaling(1./255)\n",
    "norm_ds = train_ds.map(lambda x, y: (norm_layer(x), y))\n",
    "image_batch, labels_batch = next(iter(norm_ds))\n",
    "\n",
    "num_classes = len(CLASS_NAMES)\n",
    "\n",
    "#training model\n",
    "model = Sequential([\n",
    "  layers.Conv2D(128, (3, 3), activation = 'relu', input_shape = (224, 224, 3)),\n",
    "  layers.BatchNormalization(),\n",
    "  layers.MaxPooling2D(2, 2),\n",
    "  layers.Conv2D(128, (3, 3), activation = 'relu'),\n",
    "  layers.BatchNormalization(),\n",
    "  layers.MaxPooling2D(2, 2),\n",
    "  layers.Conv2D(256, (3, 3), activation = 'relu'),\n",
    "  layers.BatchNormalization(),\n",
    "  layers.MaxPooling2D(2, 2),\n",
    "  layers.Conv2D(256, (3, 3), activation = 'relu'),\n",
    "  layers.BatchNormalization(),\n",
    "  layers.MaxPooling2D(2, 2),\n",
    "  layers.Conv2D(512, (3, 3), activation = 'relu'),\n",
    "  layers.BatchNormalization(),\n",
    "  layers.MaxPooling2D(2, 2),\n",
    "  layers.Conv2D(512, (3, 3), activation = 'relu'),\n",
    "  layers.BatchNormalization(),\n",
    "  layers.MaxPooling2D(2, 2),\n",
    "  layers.Flatten(),\n",
    "  layers.Dense(512, activation = 'relu', kernel_regularizer = l2(0.01)),\n",
    "  layers.Dropout(0.5),\n",
    "  layers.Dense(num_classes, activation = 'softmax')\n",
    "])\n",
    "\n",
    "model.compile(optimizer = Adam(learning_rate = 0.0001, weight_decay = 1e-6), \n",
    "              loss = tf_keras.losses.SparseCategoricalCrossentropy(from_logits = True), \n",
    "              metrics = ['accuracy'])\n",
    "\n",
    "#no of epochs\n",
    "epochs = 100\n",
    "\n",
    "\n",
    "#early stopping\n",
    "early_stopping = tf_keras.callbacks.EarlyStopping(monitor = 'val_loss', \n",
    "                                                  mode = 'min', \n",
    "                                                  verbose = 1, \n",
    "                                                  patience = 8, \n",
    "                                                  restore_best_weights = True)\n",
    "\n",
    "\n",
    "#fitting of the model\n",
    "history = model.fit(train_ds, \n",
    "                    validation_data = validation_ds, \n",
    "                    epochs = epochs, \n",
    "                    callbacks = [early_stopping])\n",
    "\n",
    "#accuracy and loss values\n",
    "accuracy = history.history['accuracy']\n",
    "val_accuracy = history.history['val_accuracy']\n",
    "\n",
    "loss = history.history['loss']\n",
    "val_loss = history.history['val_loss']\n",
    "\n",
    "epochs_range = range(epochs)\n",
    "\n",
    "true_labels = []\n",
    "predicted_labels = []\n",
    "\n",
    "for images, labels in val_ds:\n",
    "  true_labels.extend(labels.numpy())\n",
    "  pred = model.predict(images)\n",
    "  predicted_labels.extend(np.argmax(pred, axis = 1))\n",
    "\n",
    "confusion_matrix = confusion_matrix(true_labels, predicted_labels)\n",
    "\n",
    "print('Confusion Matrix: ')\n",
    "plt.figure(figsize=(8, 8))\n",
    "sns.heatmap(confusion_matrix, annot = True, fmt = 'd', xticklabels = CLASS_NAMES, yticklabels = CLASS_NAMES, cmap = 'Blues')\n",
    "plt.xlabel('Predicted')\n",
    "plt.ylabel('True')\n",
    "plt.title('Confusion Matrix')\n",
    "\n",
    "\n",
    "score = model.evaluate(validation_ds, verbose = 0)\n",
    "print('Validation loss:', score[0])\n",
    "print('Validation accuracy:', score[1])\n",
    "\n",
    "plt.figure(figsize = (8, 8))\n",
    "plt.subplot(1, 2, 1)\n",
    "plt.plot(accuracy, label = 'Training Accuracy')\n",
    "plt.plot(val_accuracy, label = 'Validation Accuracy')\n",
    "plt.legend(loc = 'lower right')\n",
    "plt.title('Training and Validation Accuracy')\n",
    "\n",
    "plt.subplot(1, 2, 2)\n",
    "plt.plot(loss, label = 'Training Loss')\n",
    "plt.plot(val_loss, label = 'Validation Loss')\n",
    "plt.legend(loc = 'upper right')\n",
    "plt.title('Training and Validation Loss')\n",
    "plt.show()"
   ]
  }
 ],
 "metadata": {
  "language_info": {
   "codemirror_mode": {
    "name": "ipython",
    "version": 3
   },
   "file_extension": ".py",
   "mimetype": "text/x-python",
   "name": "python",
   "nbconvert_exporter": "python",
   "pygments_lexer": "ipython3",
   "version": 3
  }
 },
 "nbformat": 4,
 "nbformat_minor": 2
}
