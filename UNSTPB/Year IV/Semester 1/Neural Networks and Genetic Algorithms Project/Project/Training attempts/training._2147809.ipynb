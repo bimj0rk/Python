{
 "cells": [
  {
   "cell_type": "code",
   "execution_count": null,
   "id": "d90a62d9-2c7d-4439-a1bd-9fe926f17a5c",
   "metadata": {},
   "outputs": [
    {
     "name": "stderr",
     "output_type": "stream",
     "text": [
      "2025-01-20 08:52:50.509697: E external/local_xla/xla/stream_executor/cuda/cuda_fft.cc:477] Unable to register cuFFT factory: Attempting to register factory for plugin cuFFT when one has already been registered\n",
      "WARNING: All log messages before absl::InitializeLog() is called are written to STDERR\n",
      "E0000 00:00:1737355970.524262  362425 cuda_dnn.cc:8310] Unable to register cuDNN factory: Attempting to register factory for plugin cuDNN when one has already been registered\n",
      "E0000 00:00:1737355970.528718  362425 cuda_blas.cc:1418] Unable to register cuBLAS factory: Attempting to register factory for plugin cuBLAS when one has already been registered\n",
      "2025-01-20 08:52:50.543539: I tensorflow/core/platform/cpu_feature_guard.cc:210] This TensorFlow binary is optimized to use available CPU instructions in performance-critical operations.\n",
      "To enable the following instructions: AVX2 FMA, in other operations, rebuild TensorFlow with the appropriate compiler flags.\n"
     ]
    },
    {
     "name": "stdout",
     "output_type": "stream",
     "text": [
      "GPU found PhysicalDevice(name='/physical_device:GPU:0', device_type='GPU')\n",
      "Found 6480 files belonging to 10 classes.\n",
      "Using 4860 files for training.\n"
     ]
    },
    {
     "name": "stderr",
     "output_type": "stream",
     "text": [
      "I0000 00:00:1737355973.062342  362425 gpu_device.cc:2022] Created device /job:localhost/replica:0/task:0/device:GPU:0 with 4737 MB memory:  -> device: 0, name: NVIDIA GeForce GTX 1060 6GB, pci bus id: 0000:01:00.0, compute capability: 6.1\n"
     ]
    },
    {
     "name": "stdout",
     "output_type": "stream",
     "text": [
      "Found 6480 files belonging to 10 classes.\n",
      "Using 1620 files for validation.\n",
      "Model: \"sequential_1\"\n",
      "_________________________________________________________________\n",
      " Layer (type)                Output Shape              Param #   \n",
      "=================================================================\n",
      " conv2d (Conv2D)             (None, 222, 222, 64)      1792      \n",
      "                                                                 \n",
      " activation (Activation)     (None, 222, 222, 64)      0         \n",
      "                                                                 \n",
      " max_pooling2d (MaxPooling2  (None, 111, 111, 64)      0         \n",
      " D)                                                              \n",
      "                                                                 \n",
      " conv2d_1 (Conv2D)           (None, 109, 109, 64)      36928     \n",
      "                                                                 \n",
      " activation_1 (Activation)   (None, 109, 109, 64)      0         \n",
      "                                                                 \n",
      " max_pooling2d_1 (MaxPoolin  (None, 54, 54, 64)        0         \n",
      " g2D)                                                            \n",
      "                                                                 \n",
      " conv2d_2 (Conv2D)           (None, 52, 52, 128)       73856     \n",
      "                                                                 \n",
      " activation_2 (Activation)   (None, 52, 52, 128)       0         \n",
      "                                                                 \n",
      " max_pooling2d_2 (MaxPoolin  (None, 26, 26, 128)       0         \n",
      " g2D)                                                            \n",
      "                                                                 \n",
      " conv2d_3 (Conv2D)           (None, 24, 24, 128)       147584    \n",
      "                                                                 \n",
      " activation_3 (Activation)   (None, 24, 24, 128)       0         \n",
      "                                                                 \n",
      " max_pooling2d_3 (MaxPoolin  (None, 12, 12, 128)       0         \n",
      " g2D)                                                            \n",
      "                                                                 \n",
      " conv2d_4 (Conv2D)           (None, 8, 8, 256)         819456    \n",
      "                                                                 \n",
      " activation_4 (Activation)   (None, 8, 8, 256)         0         \n",
      "                                                                 \n",
      " max_pooling2d_4 (MaxPoolin  (None, 4, 4, 256)         0         \n",
      " g2D)                                                            \n",
      "                                                                 \n",
      " conv2d_5 (Conv2D)           (None, 2, 2, 256)         590080    \n",
      "                                                                 \n",
      " activation_5 (Activation)   (None, 2, 2, 256)         0         \n",
      "                                                                 \n",
      " max_pooling2d_5 (MaxPoolin  (None, 1, 1, 256)         0         \n",
      " g2D)                                                            \n",
      "                                                                 \n",
      " flatten (Flatten)           (None, 256)               0         \n",
      "                                                                 \n",
      " dense (Dense)               (None, 512)               131584    \n",
      "                                                                 \n",
      " dropout (Dropout)           (None, 512)               0         \n",
      "                                                                 \n",
      " dense_1 (Dense)             (None, 10)                5130      \n",
      "                                                                 \n",
      "=================================================================\n",
      "Total params: 1806410 (6.89 MB)\n",
      "Trainable params: 1806410 (6.89 MB)\n",
      "Non-trainable params: 0 (0.00 Byte)\n",
      "_________________________________________________________________\n",
      "Epoch 1/100\n"
     ]
    },
    {
     "name": "stderr",
     "output_type": "stream",
     "text": [
      "/home/adiicmp/GitHub Repos/Python/.venv/lib/python3.12/site-packages/tf_keras/src/backend.py:5729: UserWarning: \"`sparse_categorical_crossentropy` received `from_logits=True`, but the `output` argument was produced by a Softmax activation and thus does not represent logits. Was this intended?\n",
      "  output, from_logits = _get_logits(\n",
      "I0000 00:00:1737355980.467676  362473 cuda_dnn.cc:529] Loaded cuDNN version 90300\n",
      "WARNING: All log messages before absl::InitializeLog() is called are written to STDERR\n",
      "I0000 00:00:1737355982.764709  362473 service.cc:148] XLA service 0x7ff14c6a3a50 initialized for platform CUDA (this does not guarantee that XLA will be used). Devices:\n",
      "I0000 00:00:1737355982.764731  362473 service.cc:156]   StreamExecutor device (0): NVIDIA GeForce GTX 1060 6GB, Compute Capability 6.1\n",
      "2025-01-20 08:53:02.769545: I tensorflow/compiler/mlir/tensorflow/utils/dump_mlir_util.cc:268] disabling MLIR crash reproducer, set env var `MLIR_CRASH_REPRODUCER_DIRECTORY` to enable.\n",
      "I0000 00:00:1737355982.841404  362473 device_compiler.h:188] Compiled cluster using XLA!  This line is logged at most once for the lifetime of the process.\n"
     ]
    },
    {
     "name": "stdout",
     "output_type": "stream",
     "text": [
      "59/76 [======================>.......] - ETA: 7s - loss: 8.5888 - accuracy: 0.1345"
     ]
    },
    {
     "name": "stderr",
     "output_type": "stream",
     "text": [
      "2025-01-20 08:53:30.651190: W tensorflow/core/lib/png/png_io.cc:89] PNG warning: iCCP: known incorrect sRGB profile\n"
     ]
    },
    {
     "name": "stdout",
     "output_type": "stream",
     "text": [
      "76/76 [==============================] - 60s 640ms/step - loss: 8.4188 - accuracy: 0.1381 - val_loss: 7.6244 - val_accuracy: 0.1475\n",
      "Epoch 2/100\n",
      "60/76 [======================>.......] - ETA: 8s - loss: 7.1478 - accuracy: 0.1362"
     ]
    },
    {
     "name": "stderr",
     "output_type": "stream",
     "text": [
      "2025-01-20 08:54:29.554806: W tensorflow/core/lib/png/png_io.cc:89] PNG warning: iCCP: known incorrect sRGB profile\n"
     ]
    },
    {
     "name": "stdout",
     "output_type": "stream",
     "text": [
      "76/76 [==============================] - 55s 671ms/step - loss: 7.0158 - accuracy: 0.1451 - val_loss: 6.3324 - val_accuracy: 0.1617\n",
      "Epoch 3/100\n",
      "59/76 [======================>.......] - ETA: 8s - loss: 5.9502 - accuracy: 0.2135"
     ]
    },
    {
     "name": "stderr",
     "output_type": "stream",
     "text": [
      "2025-01-20 08:55:23.105267: W tensorflow/core/lib/png/png_io.cc:89] PNG warning: iCCP: known incorrect sRGB profile\n"
     ]
    },
    {
     "name": "stdout",
     "output_type": "stream",
     "text": [
      "76/76 [==============================] - 54s 658ms/step - loss: 5.8451 - accuracy: 0.2150 - val_loss: 5.2249 - val_accuracy: 0.2895\n",
      "Epoch 4/100\n",
      "60/76 [======================>.......] - ETA: 8s - loss: 4.9945 - accuracy: 0.2833"
     ]
    },
    {
     "name": "stderr",
     "output_type": "stream",
     "text": [
      "2025-01-20 08:56:18.003646: W tensorflow/core/lib/png/png_io.cc:89] PNG warning: iCCP: known incorrect sRGB profile\n"
     ]
    },
    {
     "name": "stdout",
     "output_type": "stream",
     "text": [
      "76/76 [==============================] - 54s 659ms/step - loss: 4.9218 - accuracy: 0.2846 - val_loss: 4.5458 - val_accuracy: 0.2864\n",
      "Epoch 5/100\n",
      "59/76 [======================>.......] - ETA: 8s - loss: 4.2999 - accuracy: 0.3220"
     ]
    },
    {
     "name": "stderr",
     "output_type": "stream",
     "text": [
      "2025-01-20 08:57:11.056233: W tensorflow/core/lib/png/png_io.cc:89] PNG warning: iCCP: known incorrect sRGB profile\n"
     ]
    },
    {
     "name": "stdout",
     "output_type": "stream",
     "text": [
      "76/76 [==============================] - 53s 651ms/step - loss: 4.2435 - accuracy: 0.3233 - val_loss: 3.9221 - val_accuracy: 0.3191\n",
      "Epoch 6/100\n",
      "60/76 [======================>.......] - ETA: 7s - loss: 3.7943 - accuracy: 0.3385"
     ]
    },
    {
     "name": "stderr",
     "output_type": "stream",
     "text": [
      "2025-01-20 08:58:05.088231: W tensorflow/core/lib/png/png_io.cc:89] PNG warning: iCCP: known incorrect sRGB profile\n"
     ]
    },
    {
     "name": "stdout",
     "output_type": "stream",
     "text": [
      "76/76 [==============================] - 54s 657ms/step - loss: 3.7505 - accuracy: 0.3391 - val_loss: 3.4224 - val_accuracy: 0.3772\n",
      "Epoch 7/100\n",
      "59/76 [======================>.......] - ETA: 8s - loss: 3.3996 - accuracy: 0.3443"
     ]
    },
    {
     "name": "stderr",
     "output_type": "stream",
     "text": [
      "2025-01-20 08:58:59.211343: W tensorflow/core/lib/png/png_io.cc:89] PNG warning: iCCP: known incorrect sRGB profile\n"
     ]
    },
    {
     "name": "stdout",
     "output_type": "stream",
     "text": [
      "76/76 [==============================] - 54s 656ms/step - loss: 3.3634 - accuracy: 0.3500 - val_loss: 3.0998 - val_accuracy: 0.3901\n",
      "Epoch 8/100\n",
      "59/76 [======================>.......] - ETA: 8s - loss: 3.0813 - accuracy: 0.3718"
     ]
    },
    {
     "name": "stderr",
     "output_type": "stream",
     "text": [
      "2025-01-20 08:59:52.800225: W tensorflow/core/lib/png/png_io.cc:89] PNG warning: iCCP: known incorrect sRGB profile\n"
     ]
    },
    {
     "name": "stdout",
     "output_type": "stream",
     "text": [
      "76/76 [==============================] - 54s 657ms/step - loss: 3.0496 - accuracy: 0.3716 - val_loss: 2.9507 - val_accuracy: 0.3673\n",
      "Epoch 9/100\n",
      "61/76 [=======================>......] - ETA: 7s - loss: 2.8356 - accuracy: 0.3776"
     ]
    },
    {
     "name": "stderr",
     "output_type": "stream",
     "text": [
      "2025-01-20 09:00:47.512454: W tensorflow/core/lib/png/png_io.cc:89] PNG warning: iCCP: known incorrect sRGB profile\n"
     ]
    },
    {
     "name": "stdout",
     "output_type": "stream",
     "text": [
      "76/76 [==============================] - 54s 652ms/step - loss: 2.8072 - accuracy: 0.3792 - val_loss: 2.5961 - val_accuracy: 0.4074\n",
      "Epoch 10/100\n",
      "60/76 [======================>.......] - ETA: 7s - loss: 2.6405 - accuracy: 0.3901"
     ]
    },
    {
     "name": "stderr",
     "output_type": "stream",
     "text": [
      "2025-01-20 09:01:39.697379: W tensorflow/core/lib/png/png_io.cc:89] PNG warning: iCCP: known incorrect sRGB profile\n"
     ]
    },
    {
     "name": "stdout",
     "output_type": "stream",
     "text": [
      "76/76 [==============================] - 52s 636ms/step - loss: 2.6159 - accuracy: 0.3957 - val_loss: 2.4664 - val_accuracy: 0.4148\n",
      "Epoch 11/100\n",
      "59/76 [======================>.......] - ETA: 8s - loss: 2.4589 - accuracy: 0.4076"
     ]
    },
    {
     "name": "stderr",
     "output_type": "stream",
     "text": [
      "2025-01-20 09:02:33.833104: W tensorflow/core/lib/png/png_io.cc:89] PNG warning: iCCP: known incorrect sRGB profile\n"
     ]
    },
    {
     "name": "stdout",
     "output_type": "stream",
     "text": [
      "76/76 [==============================] - 54s 662ms/step - loss: 2.4449 - accuracy: 0.4095 - val_loss: 2.3964 - val_accuracy: 0.4000\n",
      "Epoch 12/100\n",
      "59/76 [======================>.......] - ETA: 8s - loss: 2.3150 - accuracy: 0.4168"
     ]
    },
    {
     "name": "stderr",
     "output_type": "stream",
     "text": [
      "2025-01-20 09:03:27.629001: W tensorflow/core/lib/png/png_io.cc:89] PNG warning: iCCP: known incorrect sRGB profile\n"
     ]
    },
    {
     "name": "stdout",
     "output_type": "stream",
     "text": [
      "76/76 [==============================] - 54s 652ms/step - loss: 2.3064 - accuracy: 0.4167 - val_loss: 2.2172 - val_accuracy: 0.4278\n",
      "Epoch 13/100\n",
      "60/76 [======================>.......] - ETA: 8s - loss: 2.2379 - accuracy: 0.4180"
     ]
    },
    {
     "name": "stderr",
     "output_type": "stream",
     "text": [
      "2025-01-20 09:04:22.589384: W tensorflow/core/lib/png/png_io.cc:89] PNG warning: iCCP: known incorrect sRGB profile\n"
     ]
    },
    {
     "name": "stdout",
     "output_type": "stream",
     "text": [
      "76/76 [==============================] - 55s 664ms/step - loss: 2.2269 - accuracy: 0.4233 - val_loss: 2.1601 - val_accuracy: 0.4321\n",
      "Epoch 14/100\n",
      "60/76 [======================>.......] - ETA: 7s - loss: 2.1386 - accuracy: 0.4357"
     ]
    },
    {
     "name": "stderr",
     "output_type": "stream",
     "text": [
      "2025-01-20 09:05:15.281637: W tensorflow/core/lib/png/png_io.cc:89] PNG warning: iCCP: known incorrect sRGB profile\n"
     ]
    },
    {
     "name": "stdout",
     "output_type": "stream",
     "text": [
      "76/76 [==============================] - 53s 642ms/step - loss: 2.1298 - accuracy: 0.4366 - val_loss: 2.0271 - val_accuracy: 0.4543\n",
      "Epoch 15/100\n",
      "60/76 [======================>.......] - ETA: 8s - loss: 2.0448 - accuracy: 0.4474"
     ]
    },
    {
     "name": "stderr",
     "output_type": "stream",
     "text": [
      "2025-01-20 09:06:09.102033: W tensorflow/core/lib/png/png_io.cc:89] PNG warning: iCCP: known incorrect sRGB profile\n"
     ]
    },
    {
     "name": "stdout",
     "output_type": "stream",
     "text": [
      "76/76 [==============================] - 54s 661ms/step - loss: 2.0506 - accuracy: 0.4440 - val_loss: 2.1234 - val_accuracy: 0.4123\n",
      "Epoch 16/100\n",
      "59/76 [======================>.......] - ETA: 8s - loss: 1.9691 - accuracy: 0.4597"
     ]
    },
    {
     "name": "stderr",
     "output_type": "stream",
     "text": [
      "2025-01-20 09:07:02.673058: W tensorflow/core/lib/png/png_io.cc:89] PNG warning: iCCP: known incorrect sRGB profile\n"
     ]
    },
    {
     "name": "stdout",
     "output_type": "stream",
     "text": [
      "76/76 [==============================] - 53s 646ms/step - loss: 1.9740 - accuracy: 0.4568 - val_loss: 2.0246 - val_accuracy: 0.4185\n",
      "Epoch 17/100\n",
      "60/76 [======================>.......] - ETA: 8s - loss: 1.9281 - accuracy: 0.4742"
     ]
    },
    {
     "name": "stderr",
     "output_type": "stream",
     "text": [
      "2025-01-20 09:07:57.167732: W tensorflow/core/lib/png/png_io.cc:89] PNG warning: iCCP: known incorrect sRGB profile\n"
     ]
    },
    {
     "name": "stdout",
     "output_type": "stream",
     "text": [
      "76/76 [==============================] - 54s 663ms/step - loss: 1.9342 - accuracy: 0.4693 - val_loss: 1.9767 - val_accuracy: 0.4272\n",
      "Epoch 18/100\n",
      "60/76 [======================>.......] - ETA: 7s - loss: 1.8928 - accuracy: 0.4586"
     ]
    },
    {
     "name": "stderr",
     "output_type": "stream",
     "text": [
      "2025-01-20 09:08:49.574274: W tensorflow/core/lib/png/png_io.cc:89] PNG warning: iCCP: known incorrect sRGB profile\n"
     ]
    },
    {
     "name": "stdout",
     "output_type": "stream",
     "text": [
      "76/76 [==============================] - 52s 632ms/step - loss: 1.8867 - accuracy: 0.4609 - val_loss: 1.9282 - val_accuracy: 0.4481\n",
      "Epoch 19/100\n",
      "61/76 [=======================>......] - ETA: 7s - loss: 1.8606 - accuracy: 0.4659"
     ]
    },
    {
     "name": "stderr",
     "output_type": "stream",
     "text": [
      "2025-01-20 09:09:44.264018: W tensorflow/core/lib/png/png_io.cc:89] PNG warning: iCCP: known incorrect sRGB profile\n"
     ]
    },
    {
     "name": "stdout",
     "output_type": "stream",
     "text": [
      "76/76 [==============================] - 54s 659ms/step - loss: 1.8474 - accuracy: 0.4665 - val_loss: 1.9120 - val_accuracy: 0.4519\n",
      "Epoch 20/100\n",
      "61/76 [=======================>......] - ETA: 7s - loss: 1.7898 - accuracy: 0.4903"
     ]
    },
    {
     "name": "stderr",
     "output_type": "stream",
     "text": [
      "2025-01-20 09:10:38.610009: W tensorflow/core/lib/png/png_io.cc:89] PNG warning: iCCP: known incorrect sRGB profile\n"
     ]
    },
    {
     "name": "stdout",
     "output_type": "stream",
     "text": [
      "76/76 [==============================] - 54s 663ms/step - loss: 1.7846 - accuracy: 0.4887 - val_loss: 1.7715 - val_accuracy: 0.4926\n",
      "Epoch 21/100\n",
      "60/76 [======================>.......] - ETA: 7s - loss: 1.7603 - accuracy: 0.4839"
     ]
    },
    {
     "name": "stderr",
     "output_type": "stream",
     "text": [
      "2025-01-20 09:11:31.809255: W tensorflow/core/lib/png/png_io.cc:89] PNG warning: iCCP: known incorrect sRGB profile\n"
     ]
    },
    {
     "name": "stdout",
     "output_type": "stream",
     "text": [
      "76/76 [==============================] - 53s 647ms/step - loss: 1.7553 - accuracy: 0.4813 - val_loss: 1.8998 - val_accuracy: 0.4389\n",
      "Epoch 22/100\n",
      "61/76 [=======================>......] - ETA: 7s - loss: 1.7274 - accuracy: 0.4941"
     ]
    },
    {
     "name": "stderr",
     "output_type": "stream",
     "text": [
      "2025-01-20 09:12:25.680018: W tensorflow/core/lib/png/png_io.cc:89] PNG warning: iCCP: known incorrect sRGB profile\n"
     ]
    },
    {
     "name": "stdout",
     "output_type": "stream",
     "text": [
      "76/76 [==============================] - 54s 655ms/step - loss: 1.7233 - accuracy: 0.4944 - val_loss: 1.8589 - val_accuracy: 0.4562\n",
      "Epoch 23/100\n",
      "60/76 [======================>.......] - ETA: 8s - loss: 1.6908 - accuracy: 0.4977"
     ]
    },
    {
     "name": "stderr",
     "output_type": "stream",
     "text": [
      "2025-01-20 09:13:20.533919: W tensorflow/core/lib/png/png_io.cc:89] PNG warning: iCCP: known incorrect sRGB profile\n"
     ]
    },
    {
     "name": "stdout",
     "output_type": "stream",
     "text": [
      "76/76 [==============================] - 56s 679ms/step - loss: 1.6854 - accuracy: 0.5035 - val_loss: 1.8954 - val_accuracy: 0.4506\n",
      "Epoch 24/100\n",
      "59/76 [======================>.......] - ETA: 8s - loss: 1.6837 - accuracy: 0.5117"
     ]
    },
    {
     "name": "stderr",
     "output_type": "stream",
     "text": [
      "2025-01-20 09:14:14.872944: W tensorflow/core/lib/png/png_io.cc:89] PNG warning: iCCP: known incorrect sRGB profile\n"
     ]
    },
    {
     "name": "stdout",
     "output_type": "stream",
     "text": [
      "76/76 [==============================] - 54s 654ms/step - loss: 1.6812 - accuracy: 0.5099 - val_loss: 1.8906 - val_accuracy: 0.4451\n",
      "Epoch 25/100\n",
      "61/76 [=======================>......] - ETA: 7s - loss: 1.6295 - accuracy: 0.5197"
     ]
    },
    {
     "name": "stderr",
     "output_type": "stream",
     "text": [
      "2025-01-20 09:15:09.753605: W tensorflow/core/lib/png/png_io.cc:89] PNG warning: iCCP: known incorrect sRGB profile\n"
     ]
    },
    {
     "name": "stdout",
     "output_type": "stream",
     "text": [
      "76/76 [==============================] - 54s 658ms/step - loss: 1.6324 - accuracy: 0.5216 - val_loss: 1.7121 - val_accuracy: 0.5019\n",
      "Epoch 26/100\n",
      "60/76 [======================>.......] - ETA: 7s - loss: 1.6008 - accuracy: 0.5229"
     ]
    },
    {
     "name": "stderr",
     "output_type": "stream",
     "text": [
      "2025-01-20 09:16:03.509953: W tensorflow/core/lib/png/png_io.cc:89] PNG warning: iCCP: known incorrect sRGB profile\n"
     ]
    },
    {
     "name": "stdout",
     "output_type": "stream",
     "text": [
      "76/76 [==============================] - 54s 654ms/step - loss: 1.6003 - accuracy: 0.5222 - val_loss: 1.7028 - val_accuracy: 0.4926\n",
      "Epoch 27/100\n",
      "61/76 [=======================>......] - ETA: 7s - loss: 1.5778 - accuracy: 0.5302"
     ]
    },
    {
     "name": "stderr",
     "output_type": "stream",
     "text": [
      "2025-01-20 09:16:57.738063: W tensorflow/core/lib/png/png_io.cc:89] PNG warning: iCCP: known incorrect sRGB profile\n"
     ]
    },
    {
     "name": "stdout",
     "output_type": "stream",
     "text": [
      "76/76 [==============================] - 54s 656ms/step - loss: 1.5718 - accuracy: 0.5321 - val_loss: 1.7313 - val_accuracy: 0.4870\n",
      "Epoch 28/100\n",
      "59/76 [======================>.......] - ETA: 8s - loss: 1.5540 - accuracy: 0.5371"
     ]
    },
    {
     "name": "stderr",
     "output_type": "stream",
     "text": [
      "2025-01-20 09:17:51.412641: W tensorflow/core/lib/png/png_io.cc:89] PNG warning: iCCP: known incorrect sRGB profile\n"
     ]
    },
    {
     "name": "stdout",
     "output_type": "stream",
     "text": [
      "76/76 [==============================] - 54s 654ms/step - loss: 1.5424 - accuracy: 0.5426 - val_loss: 1.8270 - val_accuracy: 0.4648\n",
      "Epoch 29/100\n",
      "61/76 [=======================>......] - ETA: 7s - loss: 1.5370 - accuracy: 0.5346"
     ]
    },
    {
     "name": "stderr",
     "output_type": "stream",
     "text": [
      "2025-01-20 09:18:46.541474: W tensorflow/core/lib/png/png_io.cc:89] PNG warning: iCCP: known incorrect sRGB profile\n"
     ]
    },
    {
     "name": "stdout",
     "output_type": "stream",
     "text": [
      "76/76 [==============================] - 55s 667ms/step - loss: 1.5288 - accuracy: 0.5329 - val_loss: 1.7959 - val_accuracy: 0.4648\n",
      "Epoch 30/100\n",
      "61/76 [=======================>......] - ETA: 7s - loss: 1.5336 - accuracy: 0.5374"
     ]
    },
    {
     "name": "stderr",
     "output_type": "stream",
     "text": [
      "2025-01-20 09:19:40.921015: W tensorflow/core/lib/png/png_io.cc:89] PNG warning: iCCP: known incorrect sRGB profile\n"
     ]
    },
    {
     "name": "stdout",
     "output_type": "stream",
     "text": [
      "76/76 [==============================] - 55s 663ms/step - loss: 1.5211 - accuracy: 0.5416 - val_loss: 1.6291 - val_accuracy: 0.5173\n",
      "Epoch 31/100\n",
      "60/76 [======================>.......] - ETA: 7s - loss: 1.4918 - accuracy: 0.5503"
     ]
    },
    {
     "name": "stderr",
     "output_type": "stream",
     "text": [
      "2025-01-20 09:20:34.131880: W tensorflow/core/lib/png/png_io.cc:89] PNG warning: iCCP: known incorrect sRGB profile\n"
     ]
    },
    {
     "name": "stdout",
     "output_type": "stream",
     "text": [
      "76/76 [==============================] - 53s 638ms/step - loss: 1.4837 - accuracy: 0.5512 - val_loss: 1.6549 - val_accuracy: 0.5037\n",
      "Epoch 32/100\n",
      "60/76 [======================>.......] - ETA: 8s - loss: 1.4704 - accuracy: 0.5479"
     ]
    },
    {
     "name": "stderr",
     "output_type": "stream",
     "text": [
      "2025-01-20 09:21:27.932633: W tensorflow/core/lib/png/png_io.cc:89] PNG warning: iCCP: known incorrect sRGB profile\n"
     ]
    },
    {
     "name": "stdout",
     "output_type": "stream",
     "text": [
      "76/76 [==============================] - 54s 658ms/step - loss: 1.4662 - accuracy: 0.5506 - val_loss: 1.6748 - val_accuracy: 0.5025\n",
      "Epoch 33/100\n",
      "60/76 [======================>.......] - ETA: 7s - loss: 1.4613 - accuracy: 0.5516"
     ]
    },
    {
     "name": "stderr",
     "output_type": "stream",
     "text": [
      "2025-01-20 09:22:21.194572: W tensorflow/core/lib/png/png_io.cc:89] PNG warning: iCCP: known incorrect sRGB profile\n"
     ]
    },
    {
     "name": "stdout",
     "output_type": "stream",
     "text": [
      "76/76 [==============================] - 54s 650ms/step - loss: 1.4519 - accuracy: 0.5551 - val_loss: 1.6336 - val_accuracy: 0.5154\n",
      "Epoch 34/100\n",
      "59/76 [======================>.......] - ETA: 8s - loss: 1.4326 - accuracy: 0.5628"
     ]
    },
    {
     "name": "stderr",
     "output_type": "stream",
     "text": [
      "2025-01-20 09:23:14.590757: W tensorflow/core/lib/png/png_io.cc:89] PNG warning: iCCP: known incorrect sRGB profile\n"
     ]
    },
    {
     "name": "stdout",
     "output_type": "stream",
     "text": [
      "76/76 [==============================] - 53s 645ms/step - loss: 1.4303 - accuracy: 0.5634 - val_loss: 1.6482 - val_accuracy: 0.5117\n",
      "Epoch 35/100\n",
      "61/76 [=======================>......] - ETA: 7s - loss: 1.4207 - accuracy: 0.5628"
     ]
    },
    {
     "name": "stderr",
     "output_type": "stream",
     "text": [
      "2025-01-20 09:24:09.988858: W tensorflow/core/lib/png/png_io.cc:89] PNG warning: iCCP: known incorrect sRGB profile\n"
     ]
    },
    {
     "name": "stdout",
     "output_type": "stream",
     "text": [
      "76/76 [==============================] - 55s 668ms/step - loss: 1.4152 - accuracy: 0.5654 - val_loss: 1.7698 - val_accuracy: 0.4704\n",
      "Epoch 36/100\n",
      "60/76 [======================>.......] - ETA: 8s - loss: 1.3718 - accuracy: 0.5857"
     ]
    },
    {
     "name": "stderr",
     "output_type": "stream",
     "text": [
      "2025-01-20 09:25:04.331068: W tensorflow/core/lib/png/png_io.cc:89] PNG warning: iCCP: known incorrect sRGB profile\n"
     ]
    },
    {
     "name": "stdout",
     "output_type": "stream",
     "text": [
      "76/76 [==============================] - 55s 669ms/step - loss: 1.3634 - accuracy: 0.5881 - val_loss: 1.6515 - val_accuracy: 0.5185\n",
      "Epoch 37/100\n",
      "59/76 [======================>.......] - ETA: 8s - loss: 1.3974 - accuracy: 0.5644"
     ]
    },
    {
     "name": "stderr",
     "output_type": "stream",
     "text": [
      "2025-01-20 09:25:58.495341: W tensorflow/core/lib/png/png_io.cc:89] PNG warning: iCCP: known incorrect sRGB profile\n"
     ]
    },
    {
     "name": "stdout",
     "output_type": "stream",
     "text": [
      "76/76 [==============================] - 54s 660ms/step - loss: 1.3779 - accuracy: 0.5695 - val_loss: 1.7976 - val_accuracy: 0.4704\n",
      "Epoch 37: early stopping\n",
      "Restoring model weights from the end of the best epoch: 30.\n",
      "2/2 [==============================] - 1s 5ms/step\n",
      "2/2 [==============================] - 0s 23ms/step\n",
      "2/2 [==============================] - 0s 23ms/step\n",
      "2/2 [==============================] - 0s 26ms/step\n",
      "2/2 [==============================] - 0s 25ms/step\n",
      "2/2 [==============================] - 0s 23ms/step\n",
      "2/2 [==============================] - 0s 25ms/step\n",
      "2/2 [==============================] - 0s 25ms/step\n",
      "2/2 [==============================] - 0s 24ms/step\n",
      "2/2 [==============================] - 0s 28ms/step\n",
      "2/2 [==============================] - 0s 26ms/step\n",
      "2/2 [==============================] - 0s 25ms/step\n",
      "2/2 [==============================] - 0s 27ms/step\n",
      "2/2 [==============================] - 0s 25ms/step\n",
      "2/2 [==============================] - 0s 21ms/step\n",
      "2/2 [==============================] - 0s 25ms/step\n",
      "2/2 [==============================] - 0s 26ms/step\n",
      "2/2 [==============================] - 0s 24ms/step\n",
      "2/2 [==============================] - 0s 26ms/step\n",
      "2/2 [==============================] - 0s 25ms/step\n",
      "2/2 [==============================] - 0s 25ms/step\n",
      "2/2 [==============================] - 0s 23ms/step\n",
      "2/2 [==============================] - 0s 24ms/step\n",
      "2/2 [==============================] - 0s 24ms/step\n",
      "2/2 [==============================] - 0s 24ms/step\n",
      "1/1 [==============================] - 0s 122ms/step\n",
      "Confusion Matrix: \n"
     ]
    },
    {
     "name": "stderr",
     "output_type": "stream",
     "text": [
      "2025-01-20 09:26:31.072768: I tensorflow/core/framework/local_rendezvous.cc:405] Local rendezvous is aborting with status: OUT_OF_RANGE: End of sequence\n"
     ]
    },
    {
     "name": "stdout",
     "output_type": "stream",
     "text": [
      "Validation loss: 1.6291223764419556\n",
      "Validation accuracy: 0.5172839760780334\n"
     ]
    },
    {
     "data": {
      "image/png": "[encoded data removed]",
      "text/plain": [
       "<Figure size 800x800 with 2 Axes>"
      ]
     },
     "metadata": {},
     "output_type": "display_data"
    },
    {
     "data": {
      "image/png": "[encoded data removed]",
      "text/plain": [
       "<Figure size 800x800 with 2 Axes>"
      ]
     },
     "metadata": {},
     "output_type": "display_data"
    }
   ],
   "source": [
    "#%%\n",
    "\n",
    "import tensorflow as tf\n",
    "import tf_keras\n",
    "import matplotlib.pyplot as plt\n",
    "import seaborn as sns\n",
    "import numpy as np\n",
    "from tf_keras import layers\n",
    "from tf_keras.models import Sequential\n",
    "from sklearn.metrics import confusion_matrix\n",
    "from tf_keras.optimizers import Adam\n",
    "from tf_keras.regularizers import l2\n",
    "\n",
    "tf.keras.backend.clear_session()\n",
    "\n",
    "gpu_devices = tf.config.list_physical_devices('GPU')\n",
    "if gpu_devices:\n",
    "  tf.config.experimental.set_memory_growth(gpu_devices[0], True)\n",
    "  print('GPU found', gpu_devices[0])\n",
    "else:\n",
    "  print('No GPU found')\n",
    "\n",
    "#define image size\n",
    "IMG_SIZE = 224\n",
    "\n",
    "#define batch size\n",
    "BATCH_SIZE = 64\n",
    "\n",
    "#training directory\n",
    "TRAINING_DIR = \"Train\"\n",
    "  \n",
    "#training split\n",
    "train_ds = tf_keras.utils.image_dataset_from_directory(\n",
    "  TRAINING_DIR,\n",
    "  labels = \"inferred\",\n",
    "  image_size = (IMG_SIZE, IMG_SIZE),\n",
    "  batch_size = BATCH_SIZE,\n",
    "  subset = \"training\",\n",
    "  validation_split = 0.25,\n",
    "  shuffle = True,\n",
    "  seed = 225\n",
    ")\n",
    "\n",
    "#validation split, taken directly from the same directory as train\n",
    "validation_ds = tf_keras.utils.image_dataset_from_directory(\n",
    "  TRAINING_DIR,\n",
    "  labels = \"inferred\",\n",
    "  image_size = (IMG_SIZE, IMG_SIZE),\n",
    "  batch_size = BATCH_SIZE,\n",
    "  subset = 'validation',\n",
    "  validation_split = 0.25,\n",
    "  shuffle = True,\n",
    "  seed = 225\n",
    ")\n",
    "\n",
    "CLASS_NAMES = train_ds.class_names\n",
    "\n",
    "AUTOTUNE = tf.data.AUTOTUNE\n",
    "train_ds = train_ds.prefetch(buffer_size = AUTOTUNE)\n",
    "val_ds = validation_ds.cache().prefetch(buffer_size = AUTOTUNE)\n",
    "\n",
    "#data augmentation to increase robustness\n",
    "data_augmentation = Sequential([\n",
    "  layers.experimental.preprocessing.RandomFlip('horizontal'),\n",
    "  layers.experimental.preprocessing.RandomRotation(0.2),\n",
    "  layers.experimental.preprocessing.RandomZoom(0.2) \n",
    "])\n",
    "\n",
    "train_ds = train_ds.map(lambda x, y: (data_augmentation(x, training = True), y))\n",
    "\n",
    "#normalizing and augmenting the data\n",
    "norm_layer = layers.Rescaling(1./255)\n",
    "train_ds = train_ds.map(lambda x, y: (norm_layer(x), y))\n",
    "validation_ds = validation_ds.map(lambda x, y: (norm_layer(x), y))\n",
    "\n",
    "num_classes = len(CLASS_NAMES)\n",
    "\n",
    "#training model\n",
    "model = Sequential([\n",
    "  layers.Conv2D(64, (3, 3), input_shape = (224, 224, 3)),\n",
    "  layers.Activation('relu'),\n",
    "  layers.MaxPooling2D(2, 2),\n",
    "  layers.Conv2D(64, (3, 3)),\n",
    "  layers.Activation('relu'),\n",
    "  layers.MaxPooling2D(2, 2),\n",
    "  layers.Conv2D(128, (3, 3)),\n",
    "  layers.Activation('relu'),\n",
    "  layers.MaxPooling2D(2, 2),\n",
    "  layers.Conv2D(128, (3, 3)),\n",
    "  layers.Activation('relu'),\n",
    "  layers.MaxPooling2D(2, 2),\n",
    "  layers.Conv2D(256, (5, 5)), \n",
    "  layers.Activation('relu'),\n",
    "  layers.MaxPooling2D(2, 2),\n",
    "  layers.Conv2D(256, (3, 3)),\n",
    "  layers.Activation('relu'),\n",
    "  layers.MaxPooling2D(2, 2),\n",
    "  layers.Flatten(),\n",
    "  layers.Dense(512, activation = 'relu', kernel_regularizer = l2(0.02)),\n",
    "  layers.Dropout(0.5),\n",
    "  layers.Dense(num_classes, activation = 'softmax')\n",
    "])\n",
    "\n",
    "model.summary()\n",
    "\n",
    "model.compile(optimizer = Adam(learning_rate = 0.0001, weight_decay = 1e-6), \n",
    "              loss = tf_keras.losses.SparseCategoricalCrossentropy(from_logits = True), \n",
    "              metrics = ['accuracy'])\n",
    "\n",
    "#no of epochs\n",
    "epochs = 100\n",
    "\n",
    "\n",
    "#early stopping\n",
    "early_stopping = tf_keras.callbacks.EarlyStopping(monitor = 'val_loss', \n",
    "                                                  mode = 'min', \n",
    "                                                  verbose = 1, \n",
    "                                                  patience = 7, \n",
    "                                                  restore_best_weights = True)\n",
    "                                       \n",
    "\n",
    "#class weights since the dataset is imbalanced\n",
    "class_weights = {\n",
    "    0: 0.657,  #bike\n",
    "    1: 1.165,  #bus\n",
    "    2: 1.006,  #cng\n",
    "    3: 0.885,  #easy bike\n",
    "    4: 1.385,  #hatchback\n",
    "    5: 1.296,  #mpv\n",
    "    6: 2.689,  #pickup\n",
    "    7: 0.695,  #sedan\n",
    "    8: 1.117,  #suv\n",
    "    9: 0.770   #truck\n",
    "}\n",
    "\n",
    "\n",
    "#fitting of the model\n",
    "history = model.fit(train_ds, \n",
    "                    validation_data = validation_ds, \n",
    "                    epochs = epochs,\n",
    "                    class_weight = class_weights,\n",
    "                    callbacks = [early_stopping])\n",
    "\n",
    "#accuracy and loss values\n",
    "accuracy = history.history['accuracy']\n",
    "val_accuracy = history.history['val_accuracy']\n",
    "\n",
    "loss = history.history['loss']\n",
    "val_loss = history.history['val_loss']\n",
    "\n",
    "epochs_range = range(epochs)\n",
    "\n",
    "true_labels = []\n",
    "predicted_labels = []\n",
    "\n",
    "for images, labels in val_ds:\n",
    "  true_labels.extend(labels.numpy())\n",
    "  pred = model.predict(images)\n",
    "  predicted_labels.extend(np.argmax(pred, axis = 1))\n",
    "\n",
    "confusion_matrix = confusion_matrix(true_labels, predicted_labels)\n",
    "\n",
    "print('Confusion Matrix: ')\n",
    "plt.figure(figsize=(8, 8))\n",
    "sns.heatmap(confusion_matrix, annot = True, fmt = 'd', xticklabels = CLASS_NAMES, yticklabels = CLASS_NAMES, cmap = 'Blues')\n",
    "plt.xlabel('Predicted')\n",
    "plt.ylabel('True')\n",
    "plt.title('Confusion Matrix')\n",
    "\n",
    "score = model.evaluate(validation_ds, verbose = 0)\n",
    "print('Validation loss:', score[0])\n",
    "print('Validation accuracy:', score[1])\n",
    "\n",
    "plt.figure(figsize = (8, 8))\n",
    "plt.subplot(1, 2, 1)\n",
    "plt.plot(accuracy, label = 'Training Accuracy')\n",
    "plt.plot(val_accuracy, label = 'Validation Accuracy')\n",
    "plt.legend(loc = 'lower right')\n",
    "plt.title('Training and Validation Accuracy')\n",
    "\n",
    "plt.subplot(1, 2, 2)\n",
    "plt.plot(loss, label = 'Training Loss')\n",
    "plt.plot(val_loss, label = 'Validation Loss')\n",
    "plt.legend(loc = 'upper right')\n",
    "plt.title('Training and Validation Loss')\n",
    "plt.show()"
   ]
  }
 ],
 "metadata": {
  "language_info": {
   "codemirror_mode": {
    "name": "ipython",
    "version": 3
   },
   "file_extension": ".py",
   "mimetype": "text/x-python",
   "name": "python",
   "nbconvert_exporter": "python",
   "pygments_lexer": "ipython3",
   "version": 3
  }
 },
 "nbformat": 4,
 "nbformat_minor": 2
}
