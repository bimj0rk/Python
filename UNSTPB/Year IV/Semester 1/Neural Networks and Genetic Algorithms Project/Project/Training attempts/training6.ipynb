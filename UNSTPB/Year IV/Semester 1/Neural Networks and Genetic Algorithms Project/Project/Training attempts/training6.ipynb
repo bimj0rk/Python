{
 "cells": [
  {
   "cell_type": "code",
   "execution_count": null,
   "id": "918daa44-1d33-4b44-944d-9f7d4be7bd9b",
   "metadata": {},
   "outputs": [
    {
     "name": "stderr",
     "output_type": "stream",
     "text": [
      "2025-01-19 20:51:15.890965: E external/local_xla/xla/stream_executor/cuda/cuda_fft.cc:477] Unable to register cuFFT factory: Attempting to register factory for plugin cuFFT when one has already been registered\n",
      "WARNING: All log messages before absl::InitializeLog() is called are written to STDERR\n",
      "E0000 00:00:1737312675.905668  145900 cuda_dnn.cc:8310] Unable to register cuDNN factory: Attempting to register factory for plugin cuDNN when one has already been registered\n",
      "E0000 00:00:1737312675.910169  145900 cuda_blas.cc:1418] Unable to register cuBLAS factory: Attempting to register factory for plugin cuBLAS when one has already been registered\n",
      "2025-01-19 20:51:15.925022: I tensorflow/core/platform/cpu_feature_guard.cc:210] This TensorFlow binary is optimized to use available CPU instructions in performance-critical operations.\n",
      "To enable the following instructions: AVX2 FMA, in other operations, rebuild TensorFlow with the appropriate compiler flags.\n"
     ]
    },
    {
     "name": "stdout",
     "output_type": "stream",
     "text": [
      "GPU found PhysicalDevice(name='/physical_device:GPU:0', device_type='GPU')\n",
      "Found 6480 files belonging to 10 classes.\n",
      "Using 5184 files for training.\n"
     ]
    },
    {
     "name": "stderr",
     "output_type": "stream",
     "text": [
      "I0000 00:00:1737312678.416205  145900 gpu_device.cc:2022] Created device /job:localhost/replica:0/task:0/device:GPU:0 with 4796 MB memory:  -> device: 0, name: NVIDIA GeForce GTX 1060 6GB, pci bus id: 0000:01:00.0, compute capability: 6.1\n"
     ]
    },
    {
     "name": "stdout",
     "output_type": "stream",
     "text": [
      "Found 6480 files belonging to 10 classes.\n",
      "Using 1296 files for validation.\n",
      "Model: \"sequential_1\"\n",
      "_________________________________________________________________\n",
      " Layer (type)                Output Shape              Param #   \n",
      "=================================================================\n",
      " conv2d (Conv2D)             (None, 222, 222, 128)     3584      \n",
      "                                                                 \n",
      " batch_normalization (Batch  (None, 222, 222, 128)     512       \n",
      " Normalization)                                                  \n",
      "                                                                 \n",
      " max_pooling2d (MaxPooling2  (None, 111, 111, 128)     0         \n",
      " D)                                                              \n",
      "                                                                 \n",
      " conv2d_1 (Conv2D)           (None, 109, 109, 128)     147584    \n",
      "                                                                 \n",
      " batch_normalization_1 (Bat  (None, 109, 109, 128)     512       \n",
      " chNormalization)                                                \n",
      "                                                                 \n",
      " max_pooling2d_1 (MaxPoolin  (None, 54, 54, 128)       0         \n",
      " g2D)                                                            \n",
      "                                                                 \n",
      " conv2d_2 (Conv2D)           (None, 52, 52, 256)       295168    \n",
      "                                                                 \n",
      " batch_normalization_2 (Bat  (None, 52, 52, 256)       1024      \n",
      " chNormalization)                                                \n",
      "                                                                 \n",
      " max_pooling2d_2 (MaxPoolin  (None, 26, 26, 256)       0         \n",
      " g2D)                                                            \n",
      "                                                                 \n",
      " conv2d_3 (Conv2D)           (None, 24, 24, 256)       590080    \n",
      "                                                                 \n",
      " batch_normalization_3 (Bat  (None, 24, 24, 256)       1024      \n",
      " chNormalization)                                                \n",
      "                                                                 \n",
      " max_pooling2d_3 (MaxPoolin  (None, 12, 12, 256)       0         \n",
      " g2D)                                                            \n",
      "                                                                 \n",
      " conv2d_4 (Conv2D)           (None, 10, 10, 512)       1180160   \n",
      "                                                                 \n",
      " batch_normalization_4 (Bat  (None, 10, 10, 512)       2048      \n",
      " chNormalization)                                                \n",
      "                                                                 \n",
      " max_pooling2d_4 (MaxPoolin  (None, 5, 5, 512)         0         \n",
      " g2D)                                                            \n",
      "                                                                 \n",
      " conv2d_5 (Conv2D)           (None, 3, 3, 512)         2359808   \n",
      "                                                                 \n",
      " batch_normalization_5 (Bat  (None, 3, 3, 512)         2048      \n",
      " chNormalization)                                                \n",
      "                                                                 \n",
      " max_pooling2d_5 (MaxPoolin  (None, 1, 1, 512)         0         \n",
      " g2D)                                                            \n",
      "                                                                 \n",
      " flatten (Flatten)           (None, 512)               0         \n",
      "                                                                 \n",
      " dense (Dense)               (None, 1024)              525312    \n",
      "                                                                 \n",
      " dropout (Dropout)           (None, 1024)              0         \n",
      "                                                                 \n",
      " dense_1 (Dense)             (None, 10)                10250     \n",
      "                                                                 \n",
      "=================================================================\n",
      "Total params: 5119114 (19.53 MB)\n",
      "Trainable params: 5115530 (19.51 MB)\n",
      "Non-trainable params: 3584 (14.00 KB)\n",
      "_________________________________________________________________\n",
      "Epoch 1/100\n"
     ]
    },
    {
     "name": "stderr",
     "output_type": "stream",
     "text": [
      "/home/adiicmp/GitHub Repos/Python/.venv/lib/python3.12/site-packages/tf_keras/src/backend.py:5729: UserWarning: \"`sparse_categorical_crossentropy` received `from_logits=True`, but the `output` argument was produced by a Softmax activation and thus does not represent logits. Was this intended?\n",
      "  output, from_logits = _get_logits(\n",
      "I0000 00:00:1737312685.934523  145977 cuda_dnn.cc:529] Loaded cuDNN version 90300\n",
      "2025-01-19 20:51:27.381613: W external/local_xla/xla/tsl/framework/bfc_allocator.cc:306] Allocator (GPU_0_bfc) ran out of memory trying to allocate 2.55GiB with freed_by_count=0. The caller indicates that this is not a failure, but this may mean that there could be performance gains if more memory were available.\n",
      "WARNING: All log messages before absl::InitializeLog() is called are written to STDERR\n",
      "I0000 00:00:1737312688.770673  145979 service.cc:148] XLA service 0x7535305edf60 initialized for platform CUDA (this does not guarantee that XLA will be used). Devices:\n",
      "I0000 00:00:1737312688.770696  145979 service.cc:156]   StreamExecutor device (0): NVIDIA GeForce GTX 1060 6GB, Compute Capability 6.1\n",
      "2025-01-19 20:51:28.775864: I tensorflow/compiler/mlir/tensorflow/utils/dump_mlir_util.cc:268] disabling MLIR crash reproducer, set env var `MLIR_CRASH_REPRODUCER_DIRECTORY` to enable.\n",
      "I0000 00:00:1737312688.841369  145979 device_compiler.h:188] Compiled cluster using XLA!  This line is logged at most once for the lifetime of the process.\n",
      "2025-01-19 20:51:32.542257: W external/local_xla/xla/tsl/framework/bfc_allocator.cc:306] Allocator (GPU_0_bfc) ran out of memory trying to allocate 2.23GiB with freed_by_count=0. The caller indicates that this is not a failure, but this may mean that there could be performance gains if more memory were available.\n"
     ]
    },
    {
     "name": "stdout",
     "output_type": "stream",
     "text": [
      "127/162 [======================>.......] - ETA: 13s - loss: 7.8997 - accuracy: 0.2335"
     ]
    },
    {
     "name": "stderr",
     "output_type": "stream",
     "text": [
      "2025-01-19 20:52:20.440315: W tensorflow/core/lib/png/png_io.cc:89] PNG warning: iCCP: known incorrect sRGB profile\n"
     ]
    },
    {
     "name": "stdout",
     "output_type": "stream",
     "text": [
      "162/162 [==============================] - ETA: 0s - loss: 7.4130 - accuracy: 0.2402"
     ]
    },
    {
     "name": "stderr",
     "output_type": "stream",
     "text": [
      "2025-01-19 20:52:45.039828: W external/local_xla/xla/tsl/framework/bfc_allocator.cc:378] Garbage collection: deallocate free memory regions (i.e., allocations) so that we can re-allocate a larger region to avoid OOM due to memory fragmentation. If you see this message frequently, you are running near the threshold of the available device memory and re-allocation may incur great performance overhead. You may try smaller batch sizes to observe the performance impact. Set TF_ENABLE_GPU_GARBAGE_COLLECTION=false if you'd like to disable this feature.\n"
     ]
    },
    {
     "name": "stdout",
     "output_type": "stream",
     "text": [
      "162/162 [==============================] - 84s 450ms/step - loss: 7.4130 - accuracy: 0.2402 - val_loss: 5.3051 - val_accuracy: 0.2863\n",
      "Epoch 2/100\n",
      "127/162 [======================>.......] - ETA: 13s - loss: 4.3316 - accuracy: 0.3290"
     ]
    },
    {
     "name": "stderr",
     "output_type": "stream",
     "text": [
      "2025-01-19 20:53:35.589769: W tensorflow/core/lib/png/png_io.cc:89] PNG warning: iCCP: known incorrect sRGB profile\n"
     ]
    },
    {
     "name": "stdout",
     "output_type": "stream",
     "text": [
      "162/162 [==============================] - 74s 441ms/step - loss: 4.1378 - accuracy: 0.3368 - val_loss: 3.3029 - val_accuracy: 0.3557\n",
      "Epoch 3/100\n",
      "127/162 [======================>.......] - ETA: 13s - loss: 2.8677 - accuracy: 0.3829"
     ]
    },
    {
     "name": "stderr",
     "output_type": "stream",
     "text": [
      "2025-01-19 20:54:49.032769: W tensorflow/core/lib/png/png_io.cc:89] PNG warning: iCCP: known incorrect sRGB profile\n"
     ]
    },
    {
     "name": "stdout",
     "output_type": "stream",
     "text": [
      "162/162 [==============================] - 73s 439ms/step - loss: 2.7905 - accuracy: 0.3791 - val_loss: 3.3655 - val_accuracy: 0.2623\n",
      "Epoch 4/100\n",
      "127/162 [======================>.......] - ETA: 13s - loss: 2.2658 - accuracy: 0.4188"
     ]
    },
    {
     "name": "stderr",
     "output_type": "stream",
     "text": [
      "2025-01-19 20:56:02.472989: W tensorflow/core/lib/png/png_io.cc:89] PNG warning: iCCP: known incorrect sRGB profile\n"
     ]
    },
    {
     "name": "stdout",
     "output_type": "stream",
     "text": [
      "162/162 [==============================] - 74s 441ms/step - loss: 2.2353 - accuracy: 0.4211 - val_loss: 2.8942 - val_accuracy: 0.2755\n",
      "Epoch 5/100\n",
      "127/162 [======================>.......] - ETA: 13s - loss: 2.0417 - accuracy: 0.4316"
     ]
    },
    {
     "name": "stderr",
     "output_type": "stream",
     "text": [
      "2025-01-19 20:57:16.085964: W tensorflow/core/lib/png/png_io.cc:89] PNG warning: iCCP: known incorrect sRGB profile\n"
     ]
    },
    {
     "name": "stdout",
     "output_type": "stream",
     "text": [
      "162/162 [==============================] - 74s 445ms/step - loss: 2.0277 - accuracy: 0.4331 - val_loss: 2.3535 - val_accuracy: 0.3418\n",
      "Epoch 6/100\n",
      "127/162 [======================>.......] - ETA: 13s - loss: 1.8903 - accuracy: 0.4653"
     ]
    },
    {
     "name": "stderr",
     "output_type": "stream",
     "text": [
      "2025-01-19 20:58:29.792415: W tensorflow/core/lib/png/png_io.cc:89] PNG warning: iCCP: known incorrect sRGB profile\n"
     ]
    },
    {
     "name": "stdout",
     "output_type": "stream",
     "text": [
      "162/162 [==============================] - 73s 439ms/step - loss: 1.8745 - accuracy: 0.4660 - val_loss: 2.4020 - val_accuracy: 0.3310\n",
      "Epoch 7/100\n",
      "127/162 [======================>.......] - ETA: 13s - loss: 1.8102 - accuracy: 0.4783"
     ]
    },
    {
     "name": "stderr",
     "output_type": "stream",
     "text": [
      "2025-01-19 20:59:43.049355: W tensorflow/core/lib/png/png_io.cc:89] PNG warning: iCCP: known incorrect sRGB profile\n"
     ]
    },
    {
     "name": "stdout",
     "output_type": "stream",
     "text": [
      "162/162 [==============================] - 73s 439ms/step - loss: 1.7922 - accuracy: 0.4834 - val_loss: 2.1937 - val_accuracy: 0.3789\n",
      "Epoch 8/100\n",
      "127/162 [======================>.......] - ETA: 13s - loss: 1.7541 - accuracy: 0.4852"
     ]
    },
    {
     "name": "stderr",
     "output_type": "stream",
     "text": [
      "2025-01-19 21:00:56.408590: W tensorflow/core/lib/png/png_io.cc:89] PNG warning: iCCP: known incorrect sRGB profile\n"
     ]
    },
    {
     "name": "stdout",
     "output_type": "stream",
     "text": [
      "162/162 [==============================] - 73s 439ms/step - loss: 1.7454 - accuracy: 0.4861 - val_loss: 2.2443 - val_accuracy: 0.3866\n",
      "Epoch 9/100\n",
      "127/162 [======================>.......] - ETA: 13s - loss: 1.6902 - accuracy: 0.5113"
     ]
    },
    {
     "name": "stderr",
     "output_type": "stream",
     "text": [
      "2025-01-19 21:02:09.357163: W tensorflow/core/lib/png/png_io.cc:89] PNG warning: iCCP: known incorrect sRGB profile\n"
     ]
    },
    {
     "name": "stdout",
     "output_type": "stream",
     "text": [
      "162/162 [==============================] - 73s 438ms/step - loss: 1.6826 - accuracy: 0.5120 - val_loss: 1.8677 - val_accuracy: 0.4514\n",
      "Epoch 10/100\n",
      "127/162 [======================>.......] - ETA: 13s - loss: 1.6444 - accuracy: 0.5320"
     ]
    },
    {
     "name": "stderr",
     "output_type": "stream",
     "text": [
      "2025-01-19 21:03:22.495305: W tensorflow/core/lib/png/png_io.cc:89] PNG warning: iCCP: known incorrect sRGB profile\n"
     ]
    },
    {
     "name": "stdout",
     "output_type": "stream",
     "text": [
      "162/162 [==============================] - 73s 435ms/step - loss: 1.6275 - accuracy: 0.5326 - val_loss: 1.5844 - val_accuracy: 0.5440\n",
      "Epoch 11/100\n",
      "127/162 [======================>.......] - ETA: 13s - loss: 1.6041 - accuracy: 0.5357"
     ]
    },
    {
     "name": "stderr",
     "output_type": "stream",
     "text": [
      "2025-01-19 21:04:35.523802: W tensorflow/core/lib/png/png_io.cc:89] PNG warning: iCCP: known incorrect sRGB profile\n"
     ]
    },
    {
     "name": "stdout",
     "output_type": "stream",
     "text": [
      "162/162 [==============================] - 74s 442ms/step - loss: 1.5987 - accuracy: 0.5407 - val_loss: 1.9637 - val_accuracy: 0.4198\n",
      "Epoch 12/100\n",
      "127/162 [======================>.......] - ETA: 13s - loss: 1.5604 - accuracy: 0.5581"
     ]
    },
    {
     "name": "stderr",
     "output_type": "stream",
     "text": [
      "2025-01-19 21:05:48.956189: W tensorflow/core/lib/png/png_io.cc:89] PNG warning: iCCP: known incorrect sRGB profile\n"
     ]
    },
    {
     "name": "stdout",
     "output_type": "stream",
     "text": [
      "162/162 [==============================] - 73s 436ms/step - loss: 1.5402 - accuracy: 0.5650 - val_loss: 2.0400 - val_accuracy: 0.3920\n",
      "Epoch 13/100\n",
      "127/162 [======================>.......] - ETA: 13s - loss: 1.4868 - accuracy: 0.5719"
     ]
    },
    {
     "name": "stderr",
     "output_type": "stream",
     "text": [
      "2025-01-19 21:07:01.526226: W tensorflow/core/lib/png/png_io.cc:89] PNG warning: iCCP: known incorrect sRGB profile\n"
     ]
    },
    {
     "name": "stdout",
     "output_type": "stream",
     "text": [
      "162/162 [==============================] - 73s 439ms/step - loss: 1.4837 - accuracy: 0.5762 - val_loss: 1.9529 - val_accuracy: 0.4483\n",
      "Epoch 14/100\n",
      "127/162 [======================>.......] - ETA: 13s - loss: 1.5050 - accuracy: 0.5893"
     ]
    },
    {
     "name": "stderr",
     "output_type": "stream",
     "text": [
      "2025-01-19 21:08:14.963937: W tensorflow/core/lib/png/png_io.cc:89] PNG warning: iCCP: known incorrect sRGB profile\n"
     ]
    },
    {
     "name": "stdout",
     "output_type": "stream",
     "text": [
      "162/162 [==============================] - 73s 439ms/step - loss: 1.4906 - accuracy: 0.5912 - val_loss: 2.4023 - val_accuracy: 0.3935\n",
      "Epoch 15/100\n",
      "127/162 [======================>.......] - ETA: 13s - loss: 1.4345 - accuracy: 0.6058"
     ]
    },
    {
     "name": "stderr",
     "output_type": "stream",
     "text": [
      "2025-01-19 21:09:27.956206: W tensorflow/core/lib/png/png_io.cc:89] PNG warning: iCCP: known incorrect sRGB profile\n"
     ]
    },
    {
     "name": "stdout",
     "output_type": "stream",
     "text": [
      "162/162 [==============================] - 73s 438ms/step - loss: 1.4310 - accuracy: 0.6080 - val_loss: 1.7140 - val_accuracy: 0.4969\n",
      "Epoch 16/100\n",
      "127/162 [======================>.......] - ETA: 12s - loss: 1.3863 - accuracy: 0.6280"
     ]
    },
    {
     "name": "stderr",
     "output_type": "stream",
     "text": [
      "2025-01-19 21:10:40.908456: W tensorflow/core/lib/png/png_io.cc:89] PNG warning: iCCP: known incorrect sRGB profile\n"
     ]
    },
    {
     "name": "stdout",
     "output_type": "stream",
     "text": [
      "162/162 [==============================] - 73s 438ms/step - loss: 1.3647 - accuracy: 0.6339 - val_loss: 1.9661 - val_accuracy: 0.4398\n",
      "Epoch 17/100\n",
      "127/162 [======================>.......] - ETA: 13s - loss: 1.3923 - accuracy: 0.6218"
     ]
    },
    {
     "name": "stderr",
     "output_type": "stream",
     "text": [
      "2025-01-19 21:11:53.916242: W tensorflow/core/lib/png/png_io.cc:89] PNG warning: iCCP: known incorrect sRGB profile\n"
     ]
    },
    {
     "name": "stdout",
     "output_type": "stream",
     "text": [
      "162/162 [==============================] - 73s 438ms/step - loss: 1.3786 - accuracy: 0.6233 - val_loss: 1.9187 - val_accuracy: 0.4606\n",
      "Epoch 18/100\n",
      "127/162 [======================>.......] - ETA: 13s - loss: 1.3689 - accuracy: 0.6432"
     ]
    },
    {
     "name": "stderr",
     "output_type": "stream",
     "text": [
      "2025-01-19 21:13:07.066045: W tensorflow/core/lib/png/png_io.cc:89] PNG warning: iCCP: known incorrect sRGB profile\n"
     ]
    },
    {
     "name": "stdout",
     "output_type": "stream",
     "text": [
      "162/162 [==============================] - 73s 438ms/step - loss: 1.3553 - accuracy: 0.6410 - val_loss: 2.0299 - val_accuracy: 0.4861\n",
      "Epoch 19/100\n",
      "127/162 [======================>.......] - ETA: 12s - loss: 1.2953 - accuracy: 0.6700"
     ]
    },
    {
     "name": "stderr",
     "output_type": "stream",
     "text": [
      "2025-01-19 21:14:19.955361: W tensorflow/core/lib/png/png_io.cc:89] PNG warning: iCCP: known incorrect sRGB profile\n"
     ]
    },
    {
     "name": "stdout",
     "output_type": "stream",
     "text": [
      "162/162 [==============================] - 73s 438ms/step - loss: 1.2837 - accuracy: 0.6730 - val_loss: 1.4514 - val_accuracy: 0.6103\n",
      "Epoch 20/100\n",
      "127/162 [======================>.......] - ETA: 13s - loss: 1.2975 - accuracy: 0.6540"
     ]
    },
    {
     "name": "stderr",
     "output_type": "stream",
     "text": [
      "2025-01-19 21:15:33.065631: W tensorflow/core/lib/png/png_io.cc:89] PNG warning: iCCP: known incorrect sRGB profile\n"
     ]
    },
    {
     "name": "stdout",
     "output_type": "stream",
     "text": [
      "162/162 [==============================] - 73s 437ms/step - loss: 1.2845 - accuracy: 0.6613 - val_loss: 1.6020 - val_accuracy: 0.5725\n",
      "Epoch 21/100\n",
      "127/162 [======================>.......] - ETA: 13s - loss: 1.2895 - accuracy: 0.6622"
     ]
    },
    {
     "name": "stderr",
     "output_type": "stream",
     "text": [
      "2025-01-19 21:16:45.868950: W tensorflow/core/lib/png/png_io.cc:89] PNG warning: iCCP: known incorrect sRGB profile\n"
     ]
    },
    {
     "name": "stdout",
     "output_type": "stream",
     "text": [
      "162/162 [==============================] - 73s 438ms/step - loss: 1.2733 - accuracy: 0.6682 - val_loss: 1.9002 - val_accuracy: 0.5363\n",
      "Epoch 22/100\n",
      "127/162 [======================>.......] - ETA: 12s - loss: 1.2324 - accuracy: 0.6777"
     ]
    },
    {
     "name": "stderr",
     "output_type": "stream",
     "text": [
      "2025-01-19 21:17:58.757016: W tensorflow/core/lib/png/png_io.cc:89] PNG warning: iCCP: known incorrect sRGB profile\n"
     ]
    },
    {
     "name": "stdout",
     "output_type": "stream",
     "text": [
      "162/162 [==============================] - 73s 438ms/step - loss: 1.2154 - accuracy: 0.6825 - val_loss: 1.8161 - val_accuracy: 0.5054\n",
      "Epoch 23/100\n",
      "127/162 [======================>.......] - ETA: 12s - loss: 1.2304 - accuracy: 0.6855"
     ]
    },
    {
     "name": "stderr",
     "output_type": "stream",
     "text": [
      "2025-01-19 21:19:11.686654: W tensorflow/core/lib/png/png_io.cc:89] PNG warning: iCCP: known incorrect sRGB profile\n"
     ]
    },
    {
     "name": "stdout",
     "output_type": "stream",
     "text": [
      "162/162 [==============================] - 73s 437ms/step - loss: 1.2073 - accuracy: 0.6943 - val_loss: 1.4423 - val_accuracy: 0.6065\n",
      "Epoch 24/100\n",
      "127/162 [======================>.......] - ETA: 12s - loss: 1.1972 - accuracy: 0.6937"
     ]
    },
    {
     "name": "stderr",
     "output_type": "stream",
     "text": [
      "2025-01-19 21:20:24.480548: W tensorflow/core/lib/png/png_io.cc:89] PNG warning: iCCP: known incorrect sRGB profile\n"
     ]
    },
    {
     "name": "stdout",
     "output_type": "stream",
     "text": [
      "162/162 [==============================] - 73s 437ms/step - loss: 1.1785 - accuracy: 0.6966 - val_loss: 1.7665 - val_accuracy: 0.5216\n",
      "Epoch 25/100\n",
      "127/162 [======================>.......] - ETA: 13s - loss: 1.1581 - accuracy: 0.7047"
     ]
    },
    {
     "name": "stderr",
     "output_type": "stream",
     "text": [
      "2025-01-19 21:21:37.543991: W tensorflow/core/lib/png/png_io.cc:89] PNG warning: iCCP: known incorrect sRGB profile\n"
     ]
    },
    {
     "name": "stdout",
     "output_type": "stream",
     "text": [
      "162/162 [==============================] - 73s 438ms/step - loss: 1.1510 - accuracy: 0.7081 - val_loss: 1.7360 - val_accuracy: 0.5193\n",
      "Epoch 26/100\n",
      "127/162 [======================>.......] - ETA: 12s - loss: 1.1374 - accuracy: 0.7099"
     ]
    },
    {
     "name": "stderr",
     "output_type": "stream",
     "text": [
      "2025-01-19 21:22:50.308994: W tensorflow/core/lib/png/png_io.cc:89] PNG warning: iCCP: known incorrect sRGB profile\n"
     ]
    },
    {
     "name": "stdout",
     "output_type": "stream",
     "text": [
      "162/162 [==============================] - 73s 436ms/step - loss: 1.1186 - accuracy: 0.7145 - val_loss: 2.1279 - val_accuracy: 0.4784\n",
      "Epoch 27/100\n",
      "127/162 [======================>.......] - ETA: 13s - loss: 1.0995 - accuracy: 0.7360"
     ]
    },
    {
     "name": "stderr",
     "output_type": "stream",
     "text": [
      "2025-01-19 21:24:03.195466: W tensorflow/core/lib/png/png_io.cc:89] PNG warning: iCCP: known incorrect sRGB profile\n"
     ]
    },
    {
     "name": "stdout",
     "output_type": "stream",
     "text": [
      "162/162 [==============================] - 73s 437ms/step - loss: 1.0831 - accuracy: 0.7388 - val_loss: 1.7218 - val_accuracy: 0.5787\n",
      "Epoch 28/100\n",
      "127/162 [======================>.......] - ETA: 12s - loss: 1.0626 - accuracy: 0.7323"
     ]
    },
    {
     "name": "stderr",
     "output_type": "stream",
     "text": [
      "2025-01-19 21:25:16.070975: W tensorflow/core/lib/png/png_io.cc:89] PNG warning: iCCP: known incorrect sRGB profile\n"
     ]
    },
    {
     "name": "stdout",
     "output_type": "stream",
     "text": [
      "162/162 [==============================] - 73s 437ms/step - loss: 1.0511 - accuracy: 0.7371 - val_loss: 2.3089 - val_accuracy: 0.4861\n",
      "Epoch 29/100\n",
      "127/162 [======================>.......] - ETA: 12s - loss: 1.0802 - accuracy: 0.7421"
     ]
    },
    {
     "name": "stderr",
     "output_type": "stream",
     "text": [
      "2025-01-19 21:26:28.821520: W tensorflow/core/lib/png/png_io.cc:89] PNG warning: iCCP: known incorrect sRGB profile\n"
     ]
    },
    {
     "name": "stdout",
     "output_type": "stream",
     "text": [
      "162/162 [==============================] - 73s 435ms/step - loss: 1.0685 - accuracy: 0.7467 - val_loss: 1.5022 - val_accuracy: 0.6165\n",
      "Epoch 30/100\n",
      "127/162 [======================>.......] - ETA: 12s - loss: 1.0068 - accuracy: 0.7635"
     ]
    },
    {
     "name": "stderr",
     "output_type": "stream",
     "text": [
      "2025-01-19 21:27:41.432173: W tensorflow/core/lib/png/png_io.cc:89] PNG warning: iCCP: known incorrect sRGB profile\n"
     ]
    },
    {
     "name": "stdout",
     "output_type": "stream",
     "text": [
      "162/162 [==============================] - 73s 437ms/step - loss: 0.9930 - accuracy: 0.7668 - val_loss: 1.9883 - val_accuracy: 0.5147\n",
      "Epoch 31/100\n",
      "127/162 [======================>.......] - ETA: 13s - loss: 1.0125 - accuracy: 0.7537"
     ]
    },
    {
     "name": "stderr",
     "output_type": "stream",
     "text": [
      "2025-01-19 21:28:54.638435: W tensorflow/core/lib/png/png_io.cc:89] PNG warning: iCCP: known incorrect sRGB profile\n"
     ]
    },
    {
     "name": "stdout",
     "output_type": "stream",
     "text": [
      "162/162 [==============================] - 73s 438ms/step - loss: 1.0072 - accuracy: 0.7575 - val_loss: 2.1414 - val_accuracy: 0.5177\n",
      "Epoch 32/100\n",
      "127/162 [======================>.......] - ETA: 13s - loss: 0.9654 - accuracy: 0.7749"
     ]
    },
    {
     "name": "stderr",
     "output_type": "stream",
     "text": [
      "2025-01-19 21:30:07.989974: W tensorflow/core/lib/png/png_io.cc:89] PNG warning: iCCP: known incorrect sRGB profile\n"
     ]
    },
    {
     "name": "stdout",
     "output_type": "stream",
     "text": [
      "162/162 [==============================] - 73s 439ms/step - loss: 0.9649 - accuracy: 0.7708 - val_loss: 2.7384 - val_accuracy: 0.4383\n",
      "Epoch 33/100\n",
      "127/162 [======================>.......] - ETA: 13s - loss: 0.9650 - accuracy: 0.7680"
     ]
    },
    {
     "name": "stderr",
     "output_type": "stream",
     "text": [
      "2025-01-19 21:31:20.876348: W tensorflow/core/lib/png/png_io.cc:89] PNG warning: iCCP: known incorrect sRGB profile\n"
     ]
    },
    {
     "name": "stdout",
     "output_type": "stream",
     "text": [
      "162/162 [==============================] - 73s 437ms/step - loss: 0.9576 - accuracy: 0.7712 - val_loss: 1.5573 - val_accuracy: 0.6381\n",
      "Epoch 33: early stopping\n",
      "Restoring model weights from the end of the best epoch: 23.\n",
      "1/1 [==============================] - 0s 145ms/step\n",
      "1/1 [==============================] - 0s 18ms/step\n",
      "1/1 [==============================] - 0s 20ms/step\n",
      "1/1 [==============================] - 0s 18ms/step\n",
      "1/1 [==============================] - 0s 20ms/step\n",
      "1/1 [==============================] - 0s 21ms/step\n",
      "1/1 [==============================] - 0s 28ms/step\n",
      "1/1 [==============================] - 0s 25ms/step\n",
      "1/1 [==============================] - 0s 22ms/step\n",
      "1/1 [==============================] - 0s 19ms/step\n",
      "1/1 [==============================] - 0s 25ms/step\n",
      "1/1 [==============================] - 0s 17ms/step\n",
      "1/1 [==============================] - 0s 19ms/step\n",
      "1/1 [==============================] - 0s 18ms/step\n",
      "1/1 [==============================] - 0s 18ms/step\n",
      "1/1 [==============================] - 0s 17ms/step\n",
      "1/1 [==============================] - 0s 18ms/step\n",
      "1/1 [==============================] - 0s 18ms/step\n",
      "1/1 [==============================] - 0s 25ms/step\n",
      "1/1 [==============================] - 0s 21ms/step\n",
      "1/1 [==============================] - 0s 18ms/step\n",
      "1/1 [==============================] - 0s 27ms/step\n",
      "1/1 [==============================] - 0s 17ms/step\n",
      "1/1 [==============================] - 0s 18ms/step\n",
      "1/1 [==============================] - 0s 18ms/step\n",
      "1/1 [==============================] - 0s 23ms/step\n",
      "1/1 [==============================] - 0s 20ms/step\n",
      "1/1 [==============================] - 0s 21ms/step\n",
      "1/1 [==============================] - 0s 20ms/step\n",
      "1/1 [==============================] - 0s 31ms/step\n",
      "1/1 [==============================] - 0s 19ms/step\n",
      "1/1 [==============================] - 0s 20ms/step\n",
      "1/1 [==============================] - 0s 24ms/step\n",
      "1/1 [==============================] - 0s 24ms/step\n",
      "1/1 [==============================] - 0s 23ms/step\n",
      "1/1 [==============================] - 0s 17ms/step\n",
      "1/1 [==============================] - 0s 23ms/step\n",
      "1/1 [==============================] - 0s 17ms/step\n",
      "1/1 [==============================] - 0s 18ms/step\n",
      "1/1 [==============================] - 0s 17ms/step\n",
      "1/1 [==============================] - 0s 121ms/step\n",
      "Confusion Matrix: \n"
     ]
    },
    {
     "name": "stderr",
     "output_type": "stream",
     "text": [
      "2025-01-19 21:31:55.199415: I tensorflow/core/framework/local_rendezvous.cc:405] Local rendezvous is aborting with status: OUT_OF_RANGE: End of sequence\n"
     ]
    },
    {
     "name": "stdout",
     "output_type": "stream",
     "text": [
      "Validation loss: 1.4422825574874878\n",
      "Validation accuracy: 0.6064814925193787\n"
     ]
    },
    {
     "data": {
      "image/png": "[encoded data removed]",
      "text/plain": [
       "<Figure size 800x800 with 2 Axes>"
      ]
     },
     "metadata": {},
     "output_type": "display_data"
    },
    {
     "data": {
      "image/png": "[encoded data removed]",
      "text/plain": [
       "<Figure size 800x800 with 2 Axes>"
      ]
     },
     "metadata": {},
     "output_type": "display_data"
    }
   ],
   "source": [
    "#%%\n",
    "\n",
    "import tensorflow as tf\n",
    "import tf_keras\n",
    "import matplotlib.pyplot as plt\n",
    "import seaborn as sns\n",
    "import numpy as np\n",
    "from tf_keras import layers\n",
    "from tf_keras.models import Sequential\n",
    "from sklearn.metrics import confusion_matrix\n",
    "from tf_keras.optimizers import Adam\n",
    "from tf_keras.regularizers import l2\n",
    "\n",
    "gpu_devices = tf.config.list_physical_devices('GPU')\n",
    "if gpu_devices:\n",
    "  tf.config.experimental.set_memory_growth(gpu_devices[0], True)\n",
    "  print('GPU found', gpu_devices[0])\n",
    "else:\n",
    "  print('No GPU found')\n",
    "\n",
    "#define image size\n",
    "IMG_SIZE = 224\n",
    "\n",
    "#define batch size\n",
    "BATCH_SIZE = 32\n",
    "\n",
    "#training and valdiation directories\n",
    "TRAINING_DIR = \"Train\"\n",
    "  \n",
    "#training split\n",
    "train_ds = tf_keras.utils.image_dataset_from_directory(\n",
    "  TRAINING_DIR,\n",
    "  labels = \"inferred\",\n",
    "  image_size = (IMG_SIZE, IMG_SIZE),\n",
    "  batch_size = BATCH_SIZE,\n",
    "  subset = \"training\",\n",
    "  validation_split = 0.2,\n",
    "  seed = 225\n",
    ")\n",
    "\n",
    "#validation split, taken directly from the same directory as train\n",
    "validation_ds = tf_keras.utils.image_dataset_from_directory(\n",
    "  TRAINING_DIR,\n",
    "  labels = \"inferred\",\n",
    "  image_size = (IMG_SIZE, IMG_SIZE),\n",
    "  batch_size = BATCH_SIZE,\n",
    "  subset = 'validation',\n",
    "  validation_split = 0.2,\n",
    "  seed = 225\n",
    ")\n",
    "\n",
    "CLASS_NAMES = train_ds.class_names\n",
    "\n",
    "AUTOTUNE = tf.data.AUTOTUNE\n",
    "train_ds = train_ds.prefetch(buffer_size = AUTOTUNE)\n",
    "val_ds = validation_ds.cache().prefetch(buffer_size = AUTOTUNE)\n",
    "\n",
    "#normalizing the data\n",
    "norm_layer = layers.Rescaling(1./255)\n",
    "norm_ds = train_ds.map(lambda x, y: (norm_layer(x), y))\n",
    "image_batch, labels_batch = next(iter(norm_ds))\n",
    "\n",
    "#data augmentation to increase robustness\n",
    "data_augmentation = Sequential([\n",
    "  layers.experimental.preprocessing.RandomFlip('horizontal'),\n",
    "  layers.experimental.preprocessing.RandomRotation(0.2),\n",
    "  layers.experimental.preprocessing.RandomZoom(0.2) \n",
    "])\n",
    "\n",
    "def augment_images(image, label):\n",
    "  image = data_augmentation(image)\n",
    "  return image, label\n",
    "\n",
    "train_ds = train_ds.map(augment_images)\n",
    "\n",
    "num_classes = len(CLASS_NAMES)\n",
    "\n",
    "#training model\n",
    "model = Sequential([\n",
    "  layers.Conv2D(128, (3, 3), activation = 'relu', input_shape = (224, 224, 3)),\n",
    "  layers.BatchNormalization(),\n",
    "  layers.MaxPooling2D(2, 2),\n",
    "  layers.Conv2D(128, (3, 3), activation = 'relu'),\n",
    "  layers.BatchNormalization(),\n",
    "  layers.MaxPooling2D(2, 2),\n",
    "  layers.Conv2D(256, (3, 3), activation = 'relu', input_shape = (224, 224, 3)),\n",
    "  layers.BatchNormalization(),\n",
    "  layers.MaxPooling2D(2, 2),\n",
    "  layers.Conv2D(256, (3, 3), activation = 'relu'),\n",
    "  layers.BatchNormalization(),\n",
    "  layers.MaxPooling2D(2, 2),\n",
    "  layers.Conv2D(512, (3, 3), activation = 'relu'),\n",
    "  layers.BatchNormalization(),\n",
    "  layers.MaxPooling2D(2, 2),\n",
    "  layers.Conv2D(512, (3, 3), activation = 'relu'),\n",
    "  layers.BatchNormalization(),\n",
    "  layers.MaxPooling2D(2, 2),\n",
    "  layers.Flatten(),\n",
    "  layers.Dense(1024, activation = 'relu', kernel_regularizer = l2(0.01)),\n",
    "  layers.Dropout(0.5),\n",
    "  layers.Dense(num_classes, activation = 'softmax')\n",
    "])\n",
    "\n",
    "model.summary()\n",
    "\n",
    "model.compile(optimizer = 'adam', \n",
    "              loss = tf_keras.losses.SparseCategoricalCrossentropy(from_logits = True), \n",
    "              metrics = ['accuracy'])\n",
    "\n",
    "#no of epochs\n",
    "epochs = 100\n",
    "\n",
    "\n",
    "#early stopping\n",
    "early_stopping = tf_keras.callbacks.EarlyStopping(monitor = 'val_loss', \n",
    "                                                  mode = 'min', \n",
    "                                                  verbose = 1, \n",
    "                                                  patience = 10, \n",
    "                                                  restore_best_weights = True)\n",
    "\n",
    "#class weights since the dataset is imbalanced\n",
    "class_weights = {\n",
    "    0: 0.657,  #bike\n",
    "    1: 1.165,  #bus\n",
    "    2: 1.007,  #cng\n",
    "    3: 0.884,  #easy bike\n",
    "    4: 1.384,  #hatchback\n",
    "    5: 1.296,  #mpv\n",
    "    6: 2.688,  #pickup\n",
    "    7: 0.694,  #sedan\n",
    "    8: 1.117,  #suv\n",
    "    9: 0.769   #truck\n",
    "}\n",
    "\n",
    "\n",
    "#fitting of the model\n",
    "history = model.fit(train_ds, \n",
    "                    validation_data = validation_ds, \n",
    "                    epochs = epochs,\n",
    "                    class_weight = class_weights, \n",
    "                    callbacks = [early_stopping])\n",
    "\n",
    "#accuracy and loss values\n",
    "accuracy = history.history['accuracy']\n",
    "val_accuracy = history.history['val_accuracy']\n",
    "\n",
    "loss = history.history['loss']\n",
    "val_loss = history.history['val_loss']\n",
    "\n",
    "epochs_range = range(epochs)\n",
    "\n",
    "true_labels = []\n",
    "predicted_labels = []\n",
    "\n",
    "for images, labels in val_ds:\n",
    "  true_labels.extend(labels.numpy())\n",
    "  pred = model.predict(images)\n",
    "  predicted_labels.extend(np.argmax(pred, axis = 1))\n",
    "\n",
    "confusion_matrix = confusion_matrix(true_labels, predicted_labels)\n",
    "\n",
    "print('Confusion Matrix: ')\n",
    "plt.figure(figsize=(8, 8))\n",
    "sns.heatmap(confusion_matrix, annot = True, fmt = 'd', xticklabels = CLASS_NAMES, yticklabels = CLASS_NAMES, cmap = 'Blues')\n",
    "plt.xlabel('Predicted')\n",
    "plt.ylabel('True')\n",
    "plt.title('Confusion Matrix')\n",
    "\n",
    "\n",
    "score = model.evaluate(validation_ds, verbose = 0)\n",
    "print('Validation loss:', score[0])\n",
    "print('Validation accuracy:', score[1])\n",
    "\n",
    "plt.figure(figsize = (8, 8))\n",
    "plt.subplot(1, 2, 1)\n",
    "plt.plot(accuracy, label = 'Training Accuracy')\n",
    "plt.plot(val_accuracy, label = 'Validation Accuracy')\n",
    "plt.legend(loc = 'lower right')\n",
    "plt.title('Training and Validation Accuracy')\n",
    "\n",
    "plt.subplot(1, 2, 2)\n",
    "plt.plot(loss, label = 'Training Loss')\n",
    "plt.plot(val_loss, label = 'Validation Loss')\n",
    "plt.legend(loc = 'upper right')\n",
    "plt.title('Training and Validation Loss')\n",
    "plt.show()"
   ]
  },
  {
   "cell_type": "code",
   "execution_count": null,
   "id": "c4adfde1-df9b-499d-a9be-65bf9aedcde9",
   "metadata": {},
   "outputs": [
    {
     "name": "stdout",
     "output_type": "stream",
     "text": [
      "GPU found PhysicalDevice(name='/physical_device:GPU:0', device_type='GPU')\n",
      "Found 6480 files belonging to 10 classes.\n",
      "Using 5184 files for training.\n",
      "Found 6480 files belonging to 10 classes.\n",
      "Using 1296 files for validation.\n"
     ]
    },
    {
     "ename": "KeyboardInterrupt",
     "evalue": "",
     "output_type": "error",
     "traceback": [
      "\u001b[0;31m---------------------------------------------------------------------------\u001b[0m",
      "\u001b[0;31mKeyboardInterrupt\u001b[0m                         Traceback (most recent call last)",
      "File \u001b[1;32m/home/adiicmp/GitHub Repos/Python/UNSTPB/Year IV/Semester 1/Neural Networks and Genetic Algorithms Project/Project/training.py:78\u001b[0m\n\u001b[1;32m     75\u001b[0m num_classes \u001b[39m=\u001b[39m \u001b[39mlen\u001b[39m(CLASS_NAMES)\n\u001b[1;32m     77\u001b[0m \u001b[39m#training model\u001b[39;00m\n\u001b[0;32m---> 78\u001b[0m model \u001b[39m=\u001b[39m Sequential([\n\u001b[1;32m     79\u001b[0m   layers\u001b[39m.\u001b[39;49mConv2D(\u001b[39m64\u001b[39;49m, (\u001b[39m3\u001b[39;49m, \u001b[39m3\u001b[39;49m), input_shape \u001b[39m=\u001b[39;49m (\u001b[39m224\u001b[39;49m, \u001b[39m224\u001b[39;49m, \u001b[39m3\u001b[39;49m)),\n\u001b[1;32m     80\u001b[0m   layers\u001b[39m.\u001b[39;49mActivation(\u001b[39m'\u001b[39;49m\u001b[39mrelu\u001b[39;49m\u001b[39m'\u001b[39;49m),\n\u001b[1;32m     81\u001b[0m   layers\u001b[39m.\u001b[39;49mBatchNormalization(),\n\u001b[1;32m     82\u001b[0m   layers\u001b[39m.\u001b[39;49mMaxPooling2D(\u001b[39m2\u001b[39;49m, \u001b[39m2\u001b[39;49m),\n\u001b[1;32m     83\u001b[0m   layers\u001b[39m.\u001b[39;49mConv2D(\u001b[39m64\u001b[39;49m, (\u001b[39m3\u001b[39;49m, \u001b[39m3\u001b[39;49m)),\n\u001b[1;32m     84\u001b[0m   layers\u001b[39m.\u001b[39;49mActivation(\u001b[39m'\u001b[39;49m\u001b[39mrelu\u001b[39;49m\u001b[39m'\u001b[39;49m),\n\u001b[1;32m     85\u001b[0m   layers\u001b[39m.\u001b[39;49mBatchNormalization(),\n\u001b[1;32m     86\u001b[0m   layers\u001b[39m.\u001b[39;49mMaxPooling2D(\u001b[39m2\u001b[39;49m, \u001b[39m2\u001b[39;49m),\n\u001b[1;32m     87\u001b[0m   layers\u001b[39m.\u001b[39;49mConv2D(\u001b[39m128\u001b[39;49m, (\u001b[39m3\u001b[39;49m, \u001b[39m3\u001b[39;49m)),\n\u001b[1;32m     88\u001b[0m   layers\u001b[39m.\u001b[39;49mActivation(\u001b[39m'\u001b[39;49m\u001b[39mrelu\u001b[39;49m\u001b[39m'\u001b[39;49m),\n\u001b[1;32m     89\u001b[0m   layers\u001b[39m.\u001b[39;49mBatchNormalization(),\n\u001b[1;32m     90\u001b[0m   layers\u001b[39m.\u001b[39;49mMaxPooling2D(\u001b[39m2\u001b[39;49m, \u001b[39m2\u001b[39;49m),\n\u001b[1;32m     91\u001b[0m   layers\u001b[39m.\u001b[39;49mConv2D(\u001b[39m128\u001b[39;49m, (\u001b[39m3\u001b[39;49m, \u001b[39m3\u001b[39;49m)),\n\u001b[1;32m     92\u001b[0m   layers\u001b[39m.\u001b[39;49mActivation(\u001b[39m'\u001b[39;49m\u001b[39mrelu\u001b[39;49m\u001b[39m'\u001b[39;49m),\n\u001b[1;32m     93\u001b[0m   layers\u001b[39m.\u001b[39;49mBatchNormalization(),\n\u001b[1;32m     94\u001b[0m   layers\u001b[39m.\u001b[39;49mMaxPooling2D(\u001b[39m2\u001b[39;49m, \u001b[39m2\u001b[39;49m),\n\u001b[1;32m     95\u001b[0m   layers\u001b[39m.\u001b[39;49mConv2D(\u001b[39m256\u001b[39;49m, (\u001b[39m3\u001b[39;49m, \u001b[39m3\u001b[39;49m)),\n\u001b[1;32m     96\u001b[0m   layers\u001b[39m.\u001b[39;49mActivation(\u001b[39m'\u001b[39;49m\u001b[39mrelu\u001b[39;49m\u001b[39m'\u001b[39;49m),\n\u001b[1;32m     97\u001b[0m   layers\u001b[39m.\u001b[39;49mBatchNormalization(),\n\u001b[1;32m     98\u001b[0m   layers\u001b[39m.\u001b[39;49mMaxPooling2D(\u001b[39m2\u001b[39;49m, \u001b[39m2\u001b[39;49m),\n\u001b[1;32m     99\u001b[0m   layers\u001b[39m.\u001b[39;49mConv2D(\u001b[39m256\u001b[39;49m, (\u001b[39m3\u001b[39;49m, \u001b[39m3\u001b[39;49m)),\n\u001b[1;32m    100\u001b[0m   layers\u001b[39m.\u001b[39;49mActivation(\u001b[39m'\u001b[39;49m\u001b[39mrelu\u001b[39;49m\u001b[39m'\u001b[39;49m),\n\u001b[1;32m    101\u001b[0m   layers\u001b[39m.\u001b[39;49mBatchNormalization(),\n\u001b[1;32m    102\u001b[0m   layers\u001b[39m.\u001b[39;49mMaxPooling2D(\u001b[39m2\u001b[39;49m, \u001b[39m2\u001b[39;49m),\n\u001b[1;32m    103\u001b[0m   layers\u001b[39m.\u001b[39;49mFlatten(),\n\u001b[1;32m    104\u001b[0m   layers\u001b[39m.\u001b[39;49mDense(\u001b[39m512\u001b[39;49m, activation \u001b[39m=\u001b[39;49m \u001b[39m'\u001b[39;49m\u001b[39mrelu\u001b[39;49m\u001b[39m'\u001b[39;49m, kernel_regularizer \u001b[39m=\u001b[39;49m l2(\u001b[39m0.05\u001b[39;49m)),\n\u001b[1;32m    105\u001b[0m   layers\u001b[39m.\u001b[39;49mDropout(\u001b[39m0.6\u001b[39;49m),\n\u001b[1;32m    106\u001b[0m   layers\u001b[39m.\u001b[39;49mDense(num_classes, activation \u001b[39m=\u001b[39;49m \u001b[39m'\u001b[39;49m\u001b[39msoftmax\u001b[39;49m\u001b[39m'\u001b[39;49m)\n\u001b[1;32m    107\u001b[0m ])\n\u001b[1;32m    109\u001b[0m model\u001b[39m.\u001b[39msummary()\n\u001b[1;32m    111\u001b[0m model\u001b[39m.\u001b[39mcompile(optimizer \u001b[39m=\u001b[39m Adam(learning_rate \u001b[39m=\u001b[39m \u001b[39m0.001\u001b[39m, weight_decay \u001b[39m=\u001b[39m \u001b[39m1e-6\u001b[39m), \n\u001b[1;32m    112\u001b[0m               loss \u001b[39m=\u001b[39m tf_keras\u001b[39m.\u001b[39mlosses\u001b[39m.\u001b[39mSparseCategoricalCrossentropy(from_logits \u001b[39m=\u001b[39m \u001b[39mTrue\u001b[39;00m), \n\u001b[1;32m    113\u001b[0m               metrics \u001b[39m=\u001b[39m [\u001b[39m'\u001b[39m\u001b[39maccuracy\u001b[39m\u001b[39m'\u001b[39m])\n",
      "File \u001b[0;32m~/GitHub Repos/Python/.venv/lib/python3.12/site-packages/tensorflow/python/trackable/base.py:204\u001b[0m, in \u001b[0;36mno_automatic_dependency_tracking.<locals>._method_wrapper\u001b[0;34m(self, *args, **kwargs)\u001b[0m\n\u001b[1;32m    202\u001b[0m \u001b[39mself\u001b[39m\u001b[39m.\u001b[39m_self_setattr_tracking \u001b[39m=\u001b[39m \u001b[39mFalse\u001b[39;00m  \u001b[39m# pylint: disable=protected-access\u001b[39;00m\n\u001b[1;32m    203\u001b[0m \u001b[39mtry\u001b[39;00m:\n\u001b[0;32m--> 204\u001b[0m   result \u001b[39m=\u001b[39m method(\u001b[39mself\u001b[39;49m, \u001b[39m*\u001b[39;49margs, \u001b[39m*\u001b[39;49m\u001b[39m*\u001b[39;49mkwargs)\n\u001b[1;32m    205\u001b[0m \u001b[39mfinally\u001b[39;00m:\n\u001b[1;32m    206\u001b[0m   \u001b[39mself\u001b[39m\u001b[39m.\u001b[39m_self_setattr_tracking \u001b[39m=\u001b[39m previous_value  \u001b[39m# pylint: disable=protected-access\u001b[39;00m\n",
      "File \u001b[0;32m~/GitHub Repos/Python/.venv/lib/python3.12/site-packages/tf_keras/src/utils/traceback_utils.py:65\u001b[0m, in \u001b[0;36mfilter_traceback.<locals>.error_handler\u001b[0;34m(*args, **kwargs)\u001b[0m\n\u001b[1;32m     63\u001b[0m filtered_tb \u001b[39m=\u001b[39m \u001b[39mNone\u001b[39;00m\n\u001b[1;32m     64\u001b[0m \u001b[39mtry\u001b[39;00m:\n\u001b[0;32m---> 65\u001b[0m     \u001b[39mreturn\u001b[39;00m fn(\u001b[39m*\u001b[39;49margs, \u001b[39m*\u001b[39;49m\u001b[39m*\u001b[39;49mkwargs)\n\u001b[1;32m     66\u001b[0m \u001b[39mexcept\u001b[39;00m \u001b[39mException\u001b[39;00m \u001b[39mas\u001b[39;00m e:\n\u001b[1;32m     67\u001b[0m     filtered_tb \u001b[39m=\u001b[39m _process_traceback_frames(e\u001b[39m.\u001b[39m__traceback__)\n",
      "File \u001b[0;32m~/GitHub Repos/Python/.venv/lib/python3.12/site-packages/tf_keras/src/engine/sequential.py:134\u001b[0m, in \u001b[0;36mSequential.__init__\u001b[0;34m(self, layers, name)\u001b[0m\n\u001b[1;32m    132\u001b[0m     layers \u001b[39m=\u001b[39m [layers]\n\u001b[1;32m    133\u001b[0m \u001b[39mfor\u001b[39;00m layer \u001b[39min\u001b[39;00m layers:\n\u001b[0;32m--> 134\u001b[0m     \u001b[39mself\u001b[39;49m\u001b[39m.\u001b[39;49madd(layer)\n",
      "File \u001b[0;32m~/GitHub Repos/Python/.venv/lib/python3.12/site-packages/tensorflow/python/trackable/base.py:204\u001b[0m, in \u001b[0;36mno_automatic_dependency_tracking.<locals>._method_wrapper\u001b[0;34m(self, *args, **kwargs)\u001b[0m\n\u001b[1;32m    202\u001b[0m \u001b[39mself\u001b[39m\u001b[39m.\u001b[39m_self_setattr_tracking \u001b[39m=\u001b[39m \u001b[39mFalse\u001b[39;00m  \u001b[39m# pylint: disable=protected-access\u001b[39;00m\n\u001b[1;32m    203\u001b[0m \u001b[39mtry\u001b[39;00m:\n\u001b[0;32m--> 204\u001b[0m   result \u001b[39m=\u001b[39m method(\u001b[39mself\u001b[39;49m, \u001b[39m*\u001b[39;49margs, \u001b[39m*\u001b[39;49m\u001b[39m*\u001b[39;49mkwargs)\n\u001b[1;32m    205\u001b[0m \u001b[39mfinally\u001b[39;00m:\n\u001b[1;32m    206\u001b[0m   \u001b[39mself\u001b[39m\u001b[39m.\u001b[39m_self_setattr_tracking \u001b[39m=\u001b[39m previous_value  \u001b[39m# pylint: disable=protected-access\u001b[39;00m\n",
      "File \u001b[0;32m~/GitHub Repos/Python/.venv/lib/python3.12/site-packages/tf_keras/src/utils/traceback_utils.py:65\u001b[0m, in \u001b[0;36mfilter_traceback.<locals>.error_handler\u001b[0;34m(*args, **kwargs)\u001b[0m\n\u001b[1;32m     63\u001b[0m filtered_tb \u001b[39m=\u001b[39m \u001b[39mNone\u001b[39;00m\n\u001b[1;32m     64\u001b[0m \u001b[39mtry\u001b[39;00m:\n\u001b[0;32m---> 65\u001b[0m     \u001b[39mreturn\u001b[39;00m fn(\u001b[39m*\u001b[39;49margs, \u001b[39m*\u001b[39;49m\u001b[39m*\u001b[39;49mkwargs)\n\u001b[1;32m     66\u001b[0m \u001b[39mexcept\u001b[39;00m \u001b[39mException\u001b[39;00m \u001b[39mas\u001b[39;00m e:\n\u001b[1;32m     67\u001b[0m     filtered_tb \u001b[39m=\u001b[39m _process_traceback_frames(e\u001b[39m.\u001b[39m__traceback__)\n",
      "File \u001b[0;32m~/GitHub Repos/Python/.venv/lib/python3.12/site-packages/tf_keras/src/engine/sequential.py:228\u001b[0m, in \u001b[0;36mSequential.add\u001b[0;34m(self, layer)\u001b[0m\n\u001b[1;32m    223\u001b[0m         \u001b[39mself\u001b[39m\u001b[39m.\u001b[39m_has_explicit_input_shape \u001b[39m=\u001b[39m \u001b[39mTrue\u001b[39;00m\n\u001b[1;32m    225\u001b[0m \u001b[39melif\u001b[39;00m \u001b[39mself\u001b[39m\u001b[39m.\u001b[39moutputs:\n\u001b[1;32m    226\u001b[0m     \u001b[39m# If the model is being built continuously on top of an input layer:\u001b[39;00m\n\u001b[1;32m    227\u001b[0m     \u001b[39m# refresh its output.\u001b[39;00m\n\u001b[0;32m--> 228\u001b[0m     output_tensor \u001b[39m=\u001b[39m layer(\u001b[39mself\u001b[39;49m\u001b[39m.\u001b[39;49moutputs[\u001b[39m0\u001b[39;49m])\n\u001b[1;32m    229\u001b[0m     \u001b[39mif\u001b[39;00m \u001b[39mlen\u001b[39m(tf\u001b[39m.\u001b[39mnest\u001b[39m.\u001b[39mflatten(output_tensor)) \u001b[39m!=\u001b[39m \u001b[39m1\u001b[39m:\n\u001b[1;32m    230\u001b[0m         \u001b[39mraise\u001b[39;00m \u001b[39mValueError\u001b[39;00m(SINGLE_LAYER_OUTPUT_ERROR_MSG)\n",
      "File \u001b[0;32m~/GitHub Repos/Python/.venv/lib/python3.12/site-packages/tf_keras/src/utils/traceback_utils.py:65\u001b[0m, in \u001b[0;36mfilter_traceback.<locals>.error_handler\u001b[0;34m(*args, **kwargs)\u001b[0m\n\u001b[1;32m     63\u001b[0m filtered_tb \u001b[39m=\u001b[39m \u001b[39mNone\u001b[39;00m\n\u001b[1;32m     64\u001b[0m \u001b[39mtry\u001b[39;00m:\n\u001b[0;32m---> 65\u001b[0m     \u001b[39mreturn\u001b[39;00m fn(\u001b[39m*\u001b[39;49margs, \u001b[39m*\u001b[39;49m\u001b[39m*\u001b[39;49mkwargs)\n\u001b[1;32m     66\u001b[0m \u001b[39mexcept\u001b[39;00m \u001b[39mException\u001b[39;00m \u001b[39mas\u001b[39;00m e:\n\u001b[1;32m     67\u001b[0m     filtered_tb \u001b[39m=\u001b[39m _process_traceback_frames(e\u001b[39m.\u001b[39m__traceback__)\n",
      "File \u001b[0;32m~/GitHub Repos/Python/.venv/lib/python3.12/site-packages/tf_keras/src/engine/base_layer.py:1056\u001b[0m, in \u001b[0;36mLayer.__call__\u001b[0;34m(self, *args, **kwargs)\u001b[0m\n\u001b[1;32m   1048\u001b[0m \u001b[39m# Functional Model construction mode is invoked when `Layer`s are called\u001b[39;00m\n\u001b[1;32m   1049\u001b[0m \u001b[39m# on symbolic `KerasTensor`s, i.e.:\u001b[39;00m\n\u001b[1;32m   1050\u001b[0m \u001b[39m# >> inputs = tf.keras.Input(10)\u001b[39;00m\n\u001b[1;32m   1051\u001b[0m \u001b[39m# >> outputs = MyLayer()(inputs)  # Functional construction mode.\u001b[39;00m\n\u001b[1;32m   1052\u001b[0m \u001b[39m# >> model = tf.keras.Model(inputs, outputs)\u001b[39;00m\n\u001b[1;32m   1053\u001b[0m \u001b[39mif\u001b[39;00m _in_functional_construction_mode(\n\u001b[1;32m   1054\u001b[0m     \u001b[39mself\u001b[39m, inputs, args, kwargs, input_list\n\u001b[1;32m   1055\u001b[0m ):\n\u001b[0;32m-> 1056\u001b[0m     \u001b[39mreturn\u001b[39;00m \u001b[39mself\u001b[39;49m\u001b[39m.\u001b[39;49m_functional_construction_call(\n\u001b[1;32m   1057\u001b[0m         inputs, args, kwargs, input_list\n\u001b[1;32m   1058\u001b[0m     )\n\u001b[1;32m   1060\u001b[0m \u001b[39m# Maintains info about the `Layer.call` stack.\u001b[39;00m\n\u001b[1;32m   1061\u001b[0m call_context \u001b[39m=\u001b[39m base_layer_utils\u001b[39m.\u001b[39mcall_context()\n",
      "File \u001b[0;32m~/GitHub Repos/Python/.venv/lib/python3.12/site-packages/tf_keras/src/engine/base_layer.py:2583\u001b[0m, in \u001b[0;36mLayer._functional_construction_call\u001b[0;34m(self, inputs, args, kwargs, input_list)\u001b[0m\n\u001b[1;32m   2577\u001b[0m \u001b[39mwith\u001b[39;00m call_context\u001b[39m.\u001b[39menter(\n\u001b[1;32m   2578\u001b[0m     layer\u001b[39m=\u001b[39m\u001b[39mself\u001b[39m, inputs\u001b[39m=\u001b[39minputs, build_graph\u001b[39m=\u001b[39m\u001b[39mTrue\u001b[39;00m, training\u001b[39m=\u001b[39mtraining_value\n\u001b[1;32m   2579\u001b[0m ):\n\u001b[1;32m   2580\u001b[0m     \u001b[39m# Check input assumptions set after layer building, e.g. input\u001b[39;00m\n\u001b[1;32m   2581\u001b[0m     \u001b[39m# shape.\u001b[39;00m\n\u001b[1;32m   2582\u001b[0m     \u001b[39mtry\u001b[39;00m:\n\u001b[0;32m-> 2583\u001b[0m         outputs \u001b[39m=\u001b[39m \u001b[39mself\u001b[39;49m\u001b[39m.\u001b[39;49m_keras_tensor_symbolic_call(\n\u001b[1;32m   2584\u001b[0m             inputs, input_masks, args, kwargs\n\u001b[1;32m   2585\u001b[0m         )\n\u001b[1;32m   2586\u001b[0m     \u001b[39mexcept\u001b[39;00m \u001b[39mTypeError\u001b[39;00m \u001b[39mas\u001b[39;00m e:\n\u001b[1;32m   2587\u001b[0m         \u001b[39mif\u001b[39;00m \u001b[39m\"\u001b[39m\u001b[39mDictWrapper\u001b[39m\u001b[39m\"\u001b[39m \u001b[39min\u001b[39;00m \u001b[39mstr\u001b[39m(e):\n",
      "File \u001b[0;32m~/GitHub Repos/Python/.venv/lib/python3.12/site-packages/tf_keras/src/engine/base_layer.py:2424\u001b[0m, in \u001b[0;36mLayer._keras_tensor_symbolic_call\u001b[0;34m(self, inputs, input_masks, args, kwargs)\u001b[0m\n\u001b[1;32m   2420\u001b[0m     \u001b[39mreturn\u001b[39;00m tf\u001b[39m.\u001b[39mnest\u001b[39m.\u001b[39mmap_structure(\n\u001b[1;32m   2421\u001b[0m         keras_tensor\u001b[39m.\u001b[39mKerasTensor, output_signature\n\u001b[1;32m   2422\u001b[0m     )\n\u001b[1;32m   2423\u001b[0m \u001b[39melse\u001b[39;00m:\n\u001b[0;32m-> 2424\u001b[0m     \u001b[39mreturn\u001b[39;00m \u001b[39mself\u001b[39;49m\u001b[39m.\u001b[39;49m_infer_output_signature(\n\u001b[1;32m   2425\u001b[0m         inputs, args, kwargs, input_masks\n\u001b[1;32m   2426\u001b[0m     )\n",
      "File \u001b[0;32m~/GitHub Repos/Python/.venv/lib/python3.12/site-packages/tf_keras/src/engine/base_layer.py:2488\u001b[0m, in \u001b[0;36mLayer._infer_output_signature\u001b[0;34m(self, inputs, args, kwargs, input_masks)\u001b[0m\n\u001b[1;32m   2486\u001b[0m         \u001b[39mself\u001b[39m\u001b[39m.\u001b[39m_maybe_build(inputs)\n\u001b[1;32m   2487\u001b[0m         inputs \u001b[39m=\u001b[39m \u001b[39mself\u001b[39m\u001b[39m.\u001b[39m_maybe_cast_inputs(inputs)\n\u001b[0;32m-> 2488\u001b[0m         outputs \u001b[39m=\u001b[39m call_fn(inputs, \u001b[39m*\u001b[39;49margs, \u001b[39m*\u001b[39;49m\u001b[39m*\u001b[39;49mkwargs)\n\u001b[1;32m   2490\u001b[0m     \u001b[39mself\u001b[39m\u001b[39m.\u001b[39m_handle_activity_regularization(inputs, outputs)\n\u001b[1;32m   2491\u001b[0m \u001b[39mself\u001b[39m\u001b[39m.\u001b[39m_set_mask_metadata(\n\u001b[1;32m   2492\u001b[0m     inputs, outputs, input_masks, build_graph\u001b[39m=\u001b[39m\u001b[39mFalse\u001b[39;00m\n\u001b[1;32m   2493\u001b[0m )\n",
      "File \u001b[0;32m~/GitHub Repos/Python/.venv/lib/python3.12/site-packages/tf_keras/src/utils/traceback_utils.py:96\u001b[0m, in \u001b[0;36minject_argument_info_in_traceback.<locals>.error_handler\u001b[0;34m(*args, **kwargs)\u001b[0m\n\u001b[1;32m     94\u001b[0m bound_signature \u001b[39m=\u001b[39m \u001b[39mNone\u001b[39;00m\n\u001b[1;32m     95\u001b[0m \u001b[39mtry\u001b[39;00m:\n\u001b[0;32m---> 96\u001b[0m     \u001b[39mreturn\u001b[39;00m fn(\u001b[39m*\u001b[39;49margs, \u001b[39m*\u001b[39;49m\u001b[39m*\u001b[39;49mkwargs)\n\u001b[1;32m     97\u001b[0m \u001b[39mexcept\u001b[39;00m \u001b[39mException\u001b[39;00m \u001b[39mas\u001b[39;00m e:\n\u001b[1;32m     98\u001b[0m     \u001b[39mif\u001b[39;00m \u001b[39mhasattr\u001b[39m(e, \u001b[39m\"\u001b[39m\u001b[39m_keras_call_info_injected\u001b[39m\u001b[39m\"\u001b[39m):\n\u001b[1;32m     99\u001b[0m         \u001b[39m# Only inject info for the innermost failing call\u001b[39;00m\n",
      "File \u001b[0;32m~/GitHub Repos/Python/.venv/lib/python3.12/site-packages/tf_keras/src/layers/convolutional/base_conv.py:289\u001b[0m, in \u001b[0;36mConv.call\u001b[0;34m(self, inputs)\u001b[0m\n\u001b[1;32m    285\u001b[0m     outputs \u001b[39m=\u001b[39m \u001b[39mself\u001b[39m\u001b[39m.\u001b[39m_jit_compiled_convolution_op(\n\u001b[1;32m    286\u001b[0m         inputs, tf\u001b[39m.\u001b[39mconvert_to_tensor(\u001b[39mself\u001b[39m\u001b[39m.\u001b[39mkernel)\n\u001b[1;32m    287\u001b[0m     )\n\u001b[1;32m    288\u001b[0m \u001b[39melse\u001b[39;00m:\n\u001b[0;32m--> 289\u001b[0m     outputs \u001b[39m=\u001b[39m \u001b[39mself\u001b[39;49m\u001b[39m.\u001b[39;49mconvolution_op(inputs, \u001b[39mself\u001b[39;49m\u001b[39m.\u001b[39;49mkernel)\n\u001b[1;32m    291\u001b[0m \u001b[39mif\u001b[39;00m \u001b[39mself\u001b[39m\u001b[39m.\u001b[39muse_bias:\n\u001b[1;32m    292\u001b[0m     output_rank \u001b[39m=\u001b[39m outputs\u001b[39m.\u001b[39mshape\u001b[39m.\u001b[39mrank\n",
      "File \u001b[0;32m~/GitHub Repos/Python/.venv/lib/python3.12/site-packages/tf_keras/src/layers/convolutional/base_conv.py:261\u001b[0m, in \u001b[0;36mConv.convolution_op\u001b[0;34m(self, inputs, kernel)\u001b[0m\n\u001b[1;32m    258\u001b[0m \u001b[39melse\u001b[39;00m:\n\u001b[1;32m    259\u001b[0m     tf_padding \u001b[39m=\u001b[39m \u001b[39mself\u001b[39m\u001b[39m.\u001b[39mpadding\n\u001b[0;32m--> 261\u001b[0m \u001b[39mreturn\u001b[39;00m tf\u001b[39m.\u001b[39;49mnn\u001b[39m.\u001b[39;49mconvolution(\n\u001b[1;32m    262\u001b[0m     inputs,\n\u001b[1;32m    263\u001b[0m     kernel,\n\u001b[1;32m    264\u001b[0m     strides\u001b[39m=\u001b[39;49m\u001b[39mlist\u001b[39;49m(\u001b[39mself\u001b[39;49m\u001b[39m.\u001b[39;49mstrides),\n\u001b[1;32m    265\u001b[0m     padding\u001b[39m=\u001b[39;49mtf_padding,\n\u001b[1;32m    266\u001b[0m     dilations\u001b[39m=\u001b[39;49m\u001b[39mlist\u001b[39;49m(\u001b[39mself\u001b[39;49m\u001b[39m.\u001b[39;49mdilation_rate),\n\u001b[1;32m    267\u001b[0m     data_format\u001b[39m=\u001b[39;49m\u001b[39mself\u001b[39;49m\u001b[39m.\u001b[39;49m_tf_data_format,\n\u001b[1;32m    268\u001b[0m     name\u001b[39m=\u001b[39;49m\u001b[39mself\u001b[39;49m\u001b[39m.\u001b[39;49m\u001b[39m__class__\u001b[39;49m\u001b[39m.\u001b[39;49m\u001b[39m__name__\u001b[39;49m,\n\u001b[1;32m    269\u001b[0m )\n",
      "File \u001b[0;32m~/GitHub Repos/Python/.venv/lib/python3.12/site-packages/tensorflow/python/util/traceback_utils.py:150\u001b[0m, in \u001b[0;36mfilter_traceback.<locals>.error_handler\u001b[0;34m(*args, **kwargs)\u001b[0m\n\u001b[1;32m    148\u001b[0m filtered_tb \u001b[39m=\u001b[39m \u001b[39mNone\u001b[39;00m\n\u001b[1;32m    149\u001b[0m \u001b[39mtry\u001b[39;00m:\n\u001b[0;32m--> 150\u001b[0m   \u001b[39mreturn\u001b[39;00m fn(\u001b[39m*\u001b[39;49margs, \u001b[39m*\u001b[39;49m\u001b[39m*\u001b[39;49mkwargs)\n\u001b[1;32m    151\u001b[0m \u001b[39mexcept\u001b[39;00m \u001b[39mException\u001b[39;00m \u001b[39mas\u001b[39;00m e:\n\u001b[1;32m    152\u001b[0m   filtered_tb \u001b[39m=\u001b[39m _process_traceback_frames(e\u001b[39m.\u001b[39m__traceback__)\n",
      "File \u001b[0;32m~/GitHub Repos/Python/.venv/lib/python3.12/site-packages/tensorflow/python/util/dispatch.py:1260\u001b[0m, in \u001b[0;36madd_dispatch_support.<locals>.decorator.<locals>.op_dispatch_handler\u001b[0;34m(*args, **kwargs)\u001b[0m\n\u001b[1;32m   1258\u001b[0m \u001b[39m# Fallback dispatch system (dispatch v1):\u001b[39;00m\n\u001b[1;32m   1259\u001b[0m \u001b[39mtry\u001b[39;00m:\n\u001b[0;32m-> 1260\u001b[0m   \u001b[39mreturn\u001b[39;00m dispatch_target(\u001b[39m*\u001b[39;49margs, \u001b[39m*\u001b[39;49m\u001b[39m*\u001b[39;49mkwargs)\n\u001b[1;32m   1261\u001b[0m \u001b[39mexcept\u001b[39;00m (\u001b[39mTypeError\u001b[39;00m, \u001b[39mValueError\u001b[39;00m):\n\u001b[1;32m   1262\u001b[0m   \u001b[39m# Note: convert_to_eager_tensor currently raises a ValueError, not a\u001b[39;00m\n\u001b[1;32m   1263\u001b[0m   \u001b[39m# TypeError, when given unexpected types.  So we need to catch both.\u001b[39;00m\n\u001b[1;32m   1264\u001b[0m   result \u001b[39m=\u001b[39m dispatch(op_dispatch_handler, args, kwargs)\n",
      "File \u001b[0;32m~/GitHub Repos/Python/.venv/lib/python3.12/site-packages/tensorflow/python/ops/nn_ops.py:1186\u001b[0m, in \u001b[0;36mconvolution_v2\u001b[0;34m(input, filters, strides, padding, data_format, dilations, name)\u001b[0m\n\u001b[1;32m   1176\u001b[0m \u001b[39m@tf_export\u001b[39m(\u001b[39m\"\u001b[39m\u001b[39mnn.convolution\u001b[39m\u001b[39m\"\u001b[39m, v1\u001b[39m=\u001b[39m[])\n\u001b[1;32m   1177\u001b[0m \u001b[39m@dispatch\u001b[39m\u001b[39m.\u001b[39madd_dispatch_support\n\u001b[1;32m   1178\u001b[0m \u001b[39mdef\u001b[39;00m\u001b[39m \u001b[39m\u001b[39mconvolution_v2\u001b[39m(  \u001b[39m# pylint: disable=missing-docstring\u001b[39;00m\n\u001b[0;32m   (...)\u001b[0m\n\u001b[1;32m   1184\u001b[0m     dilations\u001b[39m=\u001b[39m\u001b[39mNone\u001b[39;00m,\n\u001b[1;32m   1185\u001b[0m     name\u001b[39m=\u001b[39m\u001b[39mNone\u001b[39;00m):\n\u001b[0;32m-> 1186\u001b[0m   \u001b[39mreturn\u001b[39;00m convolution_internal(\n\u001b[1;32m   1187\u001b[0m       \u001b[39minput\u001b[39;49m,  \u001b[39m# pylint: disable=redefined-builtin\u001b[39;49;00m\n\u001b[1;32m   1188\u001b[0m       filters,\n\u001b[1;32m   1189\u001b[0m       strides\u001b[39m=\u001b[39;49mstrides,\n\u001b[1;32m   1190\u001b[0m       padding\u001b[39m=\u001b[39;49mpadding,\n\u001b[1;32m   1191\u001b[0m       data_format\u001b[39m=\u001b[39;49mdata_format,\n\u001b[1;32m   1192\u001b[0m       dilations\u001b[39m=\u001b[39;49mdilations,\n\u001b[1;32m   1193\u001b[0m       name\u001b[39m=\u001b[39;49mname)\n",
      "File \u001b[0;32m~/GitHub Repos/Python/.venv/lib/python3.12/site-packages/tensorflow/python/ops/nn_ops.py:1319\u001b[0m, in \u001b[0;36mconvolution_internal\u001b[0;34m(input, filters, strides, padding, data_format, dilations, name, call_from_convolution, num_spatial_dims)\u001b[0m\n\u001b[1;32m   1316\u001b[0m   \u001b[39melse\u001b[39;00m:\n\u001b[1;32m   1317\u001b[0m     op \u001b[39m=\u001b[39m conv1d\n\u001b[0;32m-> 1319\u001b[0m   \u001b[39mreturn\u001b[39;00m op(\n\u001b[1;32m   1320\u001b[0m       \u001b[39minput\u001b[39;49m,\n\u001b[1;32m   1321\u001b[0m       filters,\n\u001b[1;32m   1322\u001b[0m       strides,\n\u001b[1;32m   1323\u001b[0m       padding\u001b[39m=\u001b[39;49mpadding,\n\u001b[1;32m   1324\u001b[0m       data_format\u001b[39m=\u001b[39;49mdata_format,\n\u001b[1;32m   1325\u001b[0m       dilations\u001b[39m=\u001b[39;49mdilations,\n\u001b[1;32m   1326\u001b[0m       name\u001b[39m=\u001b[39;49mname)\n\u001b[1;32m   1327\u001b[0m \u001b[39melse\u001b[39;00m:\n\u001b[1;32m   1328\u001b[0m   \u001b[39mif\u001b[39;00m channel_index \u001b[39m==\u001b[39m \u001b[39m1\u001b[39m:\n",
      "File \u001b[0;32m~/GitHub Repos/Python/.venv/lib/python3.12/site-packages/tensorflow/python/ops/nn_ops.py:2793\u001b[0m, in \u001b[0;36m_conv2d_expanded_batch\u001b[0;34m(input, filters, strides, padding, data_format, dilations, name)\u001b[0m\n\u001b[1;32m   2789\u001b[0m input_rank \u001b[39m=\u001b[39m \u001b[39minput\u001b[39m\u001b[39m.\u001b[39mshape\u001b[39m.\u001b[39mrank\n\u001b[1;32m   2790\u001b[0m \u001b[39mif\u001b[39;00m input_rank \u001b[39mis\u001b[39;00m \u001b[39mNone\u001b[39;00m \u001b[39mor\u001b[39;00m input_rank \u001b[39m<\u001b[39m \u001b[39m5\u001b[39m:\n\u001b[1;32m   2791\u001b[0m   \u001b[39m# We avoid calling squeeze_batch_dims to reduce extra python function\u001b[39;00m\n\u001b[1;32m   2792\u001b[0m   \u001b[39m# call slowdown in eager mode.  This branch doesn't require reshapes.\u001b[39;00m\n\u001b[0;32m-> 2793\u001b[0m   \u001b[39mreturn\u001b[39;00m gen_nn_ops\u001b[39m.\u001b[39;49mconv2d(\n\u001b[1;32m   2794\u001b[0m       \u001b[39minput\u001b[39;49m,\n\u001b[1;32m   2795\u001b[0m       \u001b[39mfilter\u001b[39;49m\u001b[39m=\u001b[39;49mfilters,\n\u001b[1;32m   2796\u001b[0m       strides\u001b[39m=\u001b[39;49mstrides,\n\u001b[1;32m   2797\u001b[0m       padding\u001b[39m=\u001b[39;49mpadding,\n\u001b[1;32m   2798\u001b[0m       data_format\u001b[39m=\u001b[39;49mdata_format,\n\u001b[1;32m   2799\u001b[0m       dilations\u001b[39m=\u001b[39;49mdilations,\n\u001b[1;32m   2800\u001b[0m       name\u001b[39m=\u001b[39;49mname)\n\u001b[1;32m   2801\u001b[0m \u001b[39mreturn\u001b[39;00m squeeze_batch_dims(\n\u001b[1;32m   2802\u001b[0m     \u001b[39minput\u001b[39m,\n\u001b[1;32m   2803\u001b[0m     functools\u001b[39m.\u001b[39mpartial(\n\u001b[0;32m   (...)\u001b[0m\n\u001b[1;32m   2810\u001b[0m     inner_rank\u001b[39m=\u001b[39m\u001b[39m3\u001b[39m,\n\u001b[1;32m   2811\u001b[0m     name\u001b[39m=\u001b[39mname)\n",
      "File \u001b[0;32m~/GitHub Repos/Python/.venv/lib/python3.12/site-packages/tensorflow/python/ops/gen_nn_ops.py:1378\u001b[0m, in \u001b[0;36mconv2d\u001b[0;34m(input, filter, strides, padding, use_cudnn_on_gpu, explicit_paddings, data_format, dilations, name)\u001b[0m\n\u001b[1;32m   1374\u001b[0m   \u001b[39mraise\u001b[39;00m \u001b[39mTypeError\u001b[39;00m(\n\u001b[1;32m   1375\u001b[0m       \u001b[39m\"\u001b[39m\u001b[39mExpected list for \u001b[39m\u001b[39m'\u001b[39m\u001b[39mdilations\u001b[39m\u001b[39m'\u001b[39m\u001b[39m argument to \u001b[39m\u001b[39m\"\u001b[39m\n\u001b[1;32m   1376\u001b[0m       \u001b[39m\"\u001b[39m\u001b[39m'\u001b[39m\u001b[39mconv2d\u001b[39m\u001b[39m'\u001b[39m\u001b[39m Op, not \u001b[39m\u001b[39m%r\u001b[39;00m\u001b[39m.\u001b[39m\u001b[39m\"\u001b[39m \u001b[39m%\u001b[39m dilations)\n\u001b[1;32m   1377\u001b[0m dilations \u001b[39m=\u001b[39m [_execute\u001b[39m.\u001b[39mmake_int(_i, \u001b[39m\"\u001b[39m\u001b[39mdilations\u001b[39m\u001b[39m\"\u001b[39m) \u001b[39mfor\u001b[39;00m _i \u001b[39min\u001b[39;00m dilations]\n\u001b[0;32m-> 1378\u001b[0m _, _, _op, _outputs \u001b[39m=\u001b[39m _op_def_library\u001b[39m.\u001b[39;49m_apply_op_helper(\n\u001b[1;32m   1379\u001b[0m       \u001b[39m\"\u001b[39;49m\u001b[39mConv2D\u001b[39;49m\u001b[39m\"\u001b[39;49m, \u001b[39minput\u001b[39;49m\u001b[39m=\u001b[39;49m\u001b[39minput\u001b[39;49m, \u001b[39mfilter\u001b[39;49m\u001b[39m=\u001b[39;49m\u001b[39mfilter\u001b[39;49m, strides\u001b[39m=\u001b[39;49mstrides,\n\u001b[1;32m   1380\u001b[0m                 padding\u001b[39m=\u001b[39;49mpadding, use_cudnn_on_gpu\u001b[39m=\u001b[39;49muse_cudnn_on_gpu,\n\u001b[1;32m   1381\u001b[0m                 explicit_paddings\u001b[39m=\u001b[39;49mexplicit_paddings,\n\u001b[1;32m   1382\u001b[0m                 data_format\u001b[39m=\u001b[39;49mdata_format, dilations\u001b[39m=\u001b[39;49mdilations, name\u001b[39m=\u001b[39;49mname)\n\u001b[1;32m   1383\u001b[0m _result \u001b[39m=\u001b[39m _outputs[:]\n\u001b[1;32m   1384\u001b[0m \u001b[39mif\u001b[39;00m _execute\u001b[39m.\u001b[39mmust_record_gradient():\n",
      "File \u001b[0;32m~/GitHub Repos/Python/.venv/lib/python3.12/site-packages/tensorflow/python/framework/op_def_library.py:783\u001b[0m, in \u001b[0;36m_apply_op_helper\u001b[0;34m(op_type_name, name, **keywords)\u001b[0m\n\u001b[1;32m    778\u001b[0m _ExtractInputsAndAttrs(op_type_name, op_def, allowed_list_attr_map,\n\u001b[1;32m    779\u001b[0m                        keywords, default_type_attr_map, attrs, inputs,\n\u001b[1;32m    780\u001b[0m                        input_types)\n\u001b[1;32m    781\u001b[0m _ExtractRemainingAttrs(op_type_name, op_def, keywords,\n\u001b[1;32m    782\u001b[0m                        default_type_attr_map, attrs)\n\u001b[0;32m--> 783\u001b[0m _ExtractAttrProto(op_type_name, op_def, attrs, attr_protos)\n\u001b[1;32m    784\u001b[0m \u001b[39mdel\u001b[39;00m attrs  \u001b[39m# attrs is no longer authoritative, use attr_protos instead\u001b[39;00m\n\u001b[1;32m    785\u001b[0m _ExtractOutputStructure(op_type_name, op_def, attr_protos,\n\u001b[1;32m    786\u001b[0m                         output_structure)\n",
      "File \u001b[0;32m~/GitHub Repos/Python/.venv/lib/python3.12/site-packages/tensorflow/python/framework/op_def_library.py:329\u001b[0m, in \u001b[0;36m_ExtractAttrProto\u001b[0;34m(op_type_name, op_def, attrs, attr_protos)\u001b[0m\n\u001b[1;32m    326\u001b[0m   attr_protos[key] \u001b[39m=\u001b[39m attr_value\n\u001b[1;32m    327\u001b[0m   \u001b[39mcontinue\u001b[39;00m\n\u001b[0;32m--> 329\u001b[0m attr_value \u001b[39m=\u001b[39m value_to_attr_value(value, attr_def\u001b[39m.\u001b[39;49mtype, key)\n\u001b[1;32m    330\u001b[0m \u001b[39mif\u001b[39;00m attr_def\u001b[39m.\u001b[39mtype\u001b[39m.\u001b[39mstartswith(\u001b[39m\"\u001b[39m\u001b[39mlist(\u001b[39m\u001b[39m\"\u001b[39m):\n\u001b[1;32m    331\u001b[0m   _SatisfiesLengthConstraint(\u001b[39mlen\u001b[39m(value), attr_def, key, op_type_name)\n",
      "File \u001b[0;32m~/GitHub Repos/Python/.venv/lib/python3.12/site-packages/tensorflow/python/framework/op_def_library.py:842\u001b[0m, in \u001b[0;36mvalue_to_attr_value\u001b[0;34m(value, attr_type, arg_name)\u001b[0m\n\u001b[1;32m    840\u001b[0m   attr_value\u001b[39m.\u001b[39mi \u001b[39m=\u001b[39m _MakeInt(value, arg_name)\n\u001b[1;32m    841\u001b[0m \u001b[39melif\u001b[39;00m attr_type \u001b[39m==\u001b[39m \u001b[39m\"\u001b[39m\u001b[39mlist(int)\u001b[39m\u001b[39m\"\u001b[39m:\n\u001b[0;32m--> 842\u001b[0m   attr_value\u001b[39m.\u001b[39;49mlist\u001b[39m.\u001b[39;49mi\u001b[39m.\u001b[39;49mextend([_MakeInt(x, arg_name) \u001b[39mfor\u001b[39;49;00m x \u001b[39min\u001b[39;49;00m value])\n\u001b[1;32m    843\u001b[0m \u001b[39melif\u001b[39;00m attr_type \u001b[39m==\u001b[39m \u001b[39m\"\u001b[39m\u001b[39mfloat\u001b[39m\u001b[39m\"\u001b[39m:\n\u001b[1;32m    844\u001b[0m   attr_value\u001b[39m.\u001b[39mf \u001b[39m=\u001b[39m _MakeFloat(value, arg_name)\n",
      "\u001b[0;31mKeyboardInterrupt\u001b[0m: "
     ]
    }
   ],
   "source": [
    "#%%\n",
    "\n",
    "import tensorflow as tf\n",
    "import tf_keras\n",
    "import matplotlib.pyplot as plt\n",
    "import seaborn as sns\n",
    "import numpy as np\n",
    "from tf_keras import layers\n",
    "from tf_keras.models import Sequential\n",
    "from sklearn.metrics import confusion_matrix\n",
    "from tf_keras.optimizers import Adam\n",
    "from tf_keras.regularizers import l2\n",
    "\n",
    "gpu_devices = tf.config.list_physical_devices('GPU')\n",
    "if gpu_devices:\n",
    "  tf.config.experimental.set_memory_growth(gpu_devices[0], True)\n",
    "  print('GPU found', gpu_devices[0])\n",
    "else:\n",
    "  print('No GPU found')\n",
    "\n",
    "#define image size\n",
    "IMG_SIZE = 224\n",
    "\n",
    "#define batch size\n",
    "BATCH_SIZE = 32\n",
    "\n",
    "#training and valdiation directories\n",
    "TRAINING_DIR = \"Train\"\n",
    "  \n",
    "#training split\n",
    "train_ds = tf_keras.utils.image_dataset_from_directory(\n",
    "  TRAINING_DIR,\n",
    "  labels = \"inferred\",\n",
    "  image_size = (IMG_SIZE, IMG_SIZE),\n",
    "  batch_size = BATCH_SIZE,\n",
    "  subset = \"training\",\n",
    "  validation_split = 0.2,\n",
    "  seed = 225\n",
    ")\n",
    "\n",
    "#validation split, taken directly from the same directory as train\n",
    "validation_ds = tf_keras.utils.image_dataset_from_directory(\n",
    "  TRAINING_DIR,\n",
    "  labels = \"inferred\",\n",
    "  image_size = (IMG_SIZE, IMG_SIZE),\n",
    "  batch_size = BATCH_SIZE,\n",
    "  subset = 'validation',\n",
    "  validation_split = 0.2,\n",
    "  seed = 225\n",
    ")\n",
    "\n",
    "CLASS_NAMES = train_ds.class_names\n",
    "\n",
    "AUTOTUNE = tf.data.AUTOTUNE\n",
    "train_ds = train_ds.prefetch(buffer_size = AUTOTUNE)\n",
    "val_ds = validation_ds.cache().prefetch(buffer_size = AUTOTUNE)\n",
    "\n",
    "#normalizing the data\n",
    "norm_layer = layers.Rescaling(1./255)\n",
    "norm_ds = train_ds.map(lambda x, y: (norm_layer(x), y))\n",
    "image_batch, labels_batch = next(iter(norm_ds))\n",
    "\n",
    "#data augmentation to increase robustness\n",
    "data_augmentation = Sequential([\n",
    "  layers.experimental.preprocessing.RandomFlip('horizontal'),\n",
    "  layers.experimental.preprocessing.RandomRotation(0.2),\n",
    "  layers.experimental.preprocessing.RandomZoom(0.2) \n",
    "])\n",
    "\n",
    "def augment_images(image, label):\n",
    "  image = data_augmentation(image)\n",
    "  return image, label\n",
    "\n",
    "train_ds = train_ds.map(augment_images)\n",
    "\n",
    "num_classes = len(CLASS_NAMES)\n",
    "\n",
    "#training model\n",
    "model = Sequential([\n",
    "  layers.Conv2D(64, (3, 3), input_shape = (224, 224, 3)),\n",
    "  layers.Activation('relu'),\n",
    "  layers.BatchNormalization(),\n",
    "  layers.MaxPooling2D(2, 2),\n",
    "  layers.Conv2D(64, (3, 3)),\n",
    "  layers.Activation('relu'),\n",
    "  layers.BatchNormalization(),\n",
    "  layers.MaxPooling2D(2, 2),\n",
    "  layers.Conv2D(128, (3, 3)),\n",
    "  layers.Activation('relu'),\n",
    "  layers.BatchNormalization(),\n",
    "  layers.MaxPooling2D(2, 2),\n",
    "  layers.Conv2D(128, (3, 3)),\n",
    "  layers.Activation('relu'),\n",
    "  layers.BatchNormalization(),\n",
    "  layers.MaxPooling2D(2, 2),\n",
    "  layers.Conv2D(256, (3, 3)),\n",
    "  layers.Activation('relu'),\n",
    "  layers.BatchNormalization(),\n",
    "  layers.MaxPooling2D(2, 2),\n",
    "  layers.Conv2D(256, (3, 3)),\n",
    "  layers.Activation('relu'),\n",
    "  layers.BatchNormalization(),\n",
    "  layers.MaxPooling2D(2, 2),\n",
    "  layers.Flatten(),\n",
    "  layers.Dense(512, activation = 'relu', kernel_regularizer = l2(0.05)),\n",
    "  layers.Dropout(0.6),\n",
    "  layers.Dense(num_classes, activation = 'softmax')\n",
    "])\n",
    "\n",
    "model.summary()\n",
    "\n",
    "model.compile(optimizer = Adam(learning_rate = 0.001, weight_decay = 1e-6), \n",
    "              loss = tf_keras.losses.SparseCategoricalCrossentropy(from_logits = True), \n",
    "              metrics = ['accuracy'])\n",
    "\n",
    "#no of epochs\n",
    "epochs = 100\n",
    "\n",
    "\n",
    "#early stopping\n",
    "early_stopping = tf_keras.callbacks.EarlyStopping(monitor = 'val_loss', \n",
    "                                                  mode = 'min', \n",
    "                                                  verbose = 1, \n",
    "                                                  patience = 7, \n",
    "                                                  restore_best_weights = True)\n",
    "\n",
    "#class weights since the dataset is imbalanced\n",
    "class_weights = {\n",
    "    0: 0.657,  #bike\n",
    "    1: 1.165,  #bus\n",
    "    2: 1.006,  #cng\n",
    "    3: 0.885,  #easy bike\n",
    "    4: 1.385,  #hatchback\n",
    "    5: 1.296,  #mpv\n",
    "    6: 2.689,  #pickup\n",
    "    7: 0.695,  #sedan\n",
    "    8: 1.117,  #suv\n",
    "    9: 0.770   #truck\n",
    "}\n",
    "\n",
    "\n",
    "#fitting of the model\n",
    "history = model.fit(train_ds, \n",
    "                    validation_data = validation_ds, \n",
    "                    epochs = epochs,\n",
    "                    class_weight = class_weights, \n",
    "                    callbacks = [early_stopping])\n",
    "\n",
    "#accuracy and loss values\n",
    "accuracy = history.history['accuracy']\n",
    "val_accuracy = history.history['val_accuracy']\n",
    "\n",
    "loss = history.history['loss']\n",
    "val_loss = history.history['val_loss']\n",
    "\n",
    "epochs_range = range(epochs)\n",
    "\n",
    "true_labels = []\n",
    "predicted_labels = []\n",
    "\n",
    "for images, labels in val_ds:\n",
    "  true_labels.extend(labels.numpy())\n",
    "  pred = model.predict(images)\n",
    "  predicted_labels.extend(np.argmax(pred, axis = 1))\n",
    "\n",
    "confusion_matrix = confusion_matrix(true_labels, predicted_labels)\n",
    "\n",
    "print('Confusion Matrix: ')\n",
    "plt.figure(figsize=(8, 8))\n",
    "sns.heatmap(confusion_matrix, annot = True, fmt = 'd', xticklabels = CLASS_NAMES, yticklabels = CLASS_NAMES, cmap = 'Blues')\n",
    "plt.xlabel('Predicted')\n",
    "plt.ylabel('True')\n",
    "plt.title('Confusion Matrix')\n",
    "\n",
    "\n",
    "score = model.evaluate(validation_ds, verbose = 0)\n",
    "print('Validation loss:', score[0])\n",
    "print('Validation accuracy:', score[1])\n",
    "\n",
    "plt.figure(figsize = (8, 8))\n",
    "plt.subplot(1, 2, 1)\n",
    "plt.plot(accuracy, label = 'Training Accuracy')\n",
    "plt.plot(val_accuracy, label = 'Validation Accuracy')\n",
    "plt.legend(loc = 'lower right')\n",
    "plt.title('Training and Validation Accuracy')\n",
    "\n",
    "plt.subplot(1, 2, 2)\n",
    "plt.plot(loss, label = 'Training Loss')\n",
    "plt.plot(val_loss, label = 'Validation Loss')\n",
    "plt.legend(loc = 'upper right')\n",
    "plt.title('Training and Validation Loss')\n",
    "plt.show()"
   ]
  }
 ],
 "metadata": {
  "language_info": {
   "codemirror_mode": {
    "name": "ipython",
    "version": 3
   },
   "file_extension": ".py",
   "mimetype": "text/x-python",
   "name": "python",
   "nbconvert_exporter": "python",
   "pygments_lexer": "ipython3",
   "version": 3
  }
 },
 "nbformat": 4,
 "nbformat_minor": 2
}
