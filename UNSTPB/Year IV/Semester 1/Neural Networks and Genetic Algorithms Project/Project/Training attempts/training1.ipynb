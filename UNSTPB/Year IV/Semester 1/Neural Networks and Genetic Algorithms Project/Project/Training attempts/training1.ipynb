{
 "cells": [
  {
   "cell_type": "code",
   "execution_count": null,
   "id": "9e15399c-3e6e-4759-9f71-d38dc569644a",
   "metadata": {},
   "outputs": [
    {
     "name": "stderr",
     "output_type": "stream",
     "text": [
      "2025-01-19 11:12:35.563462: E external/local_xla/xla/stream_executor/cuda/cuda_fft.cc:477] Unable to register cuFFT factory: Attempting to register factory for plugin cuFFT when one has already been registered\n",
      "WARNING: All log messages before absl::InitializeLog() is called are written to STDERR\n",
      "E0000 00:00:1737277956.151818    5693 cuda_dnn.cc:8310] Unable to register cuDNN factory: Attempting to register factory for plugin cuDNN when one has already been registered\n",
      "E0000 00:00:1737277956.285930    5693 cuda_blas.cc:1418] Unable to register cuBLAS factory: Attempting to register factory for plugin cuBLAS when one has already been registered\n",
      "2025-01-19 11:12:37.933388: I tensorflow/core/platform/cpu_feature_guard.cc:210] This TensorFlow binary is optimized to use available CPU instructions in performance-critical operations.\n",
      "To enable the following instructions: AVX2 FMA, in other operations, rebuild TensorFlow with the appropriate compiler flags.\n"
     ]
    },
    {
     "name": "stdout",
     "output_type": "stream",
     "text": [
      "GPU found PhysicalDevice(name='/physical_device:GPU:0', device_type='GPU')\n",
      "Found 6480 files belonging to 10 classes.\n",
      "Using 5184 files for training.\n"
     ]
    },
    {
     "name": "stderr",
     "output_type": "stream",
     "text": [
      "I0000 00:00:1737277972.854007    5693 gpu_device.cc:2022] Created device /job:localhost/replica:0/task:0/device:GPU:0 with 4983 MB memory:  -> device: 0, name: NVIDIA GeForce GTX 1060 6GB, pci bus id: 0000:01:00.0, compute capability: 6.1\n"
     ]
    },
    {
     "name": "stdout",
     "output_type": "stream",
     "text": [
      "Found 6480 files belonging to 10 classes.\n",
      "Using 1296 files for validation.\n",
      "Epoch 1/100\n"
     ]
    },
    {
     "name": "stderr",
     "output_type": "stream",
     "text": [
      "/home/adiicmp/GitHub Repos/Python/.venv/lib/python3.12/site-packages/tf_keras/src/backend.py:5729: UserWarning: \"`sparse_categorical_crossentropy` received `from_logits=True`, but the `output` argument was produced by a Softmax activation and thus does not represent logits. Was this intended?\n",
      "  output, from_logits = _get_logits(\n",
      "I0000 00:00:1737277987.013064    5847 cuda_dnn.cc:529] Loaded cuDNN version 90300\n",
      "2025-01-19 11:13:10.681100: W external/local_xla/xla/tsl/framework/bfc_allocator.cc:378] Garbage collection: deallocate free memory regions (i.e., allocations) so that we can re-allocate a larger region to avoid OOM due to memory fragmentation. If you see this message frequently, you are running near the threshold of the available device memory and re-allocation may incur great performance overhead. You may try smaller batch sizes to observe the performance impact. Set TF_ENABLE_GPU_GARBAGE_COLLECTION=false if you'd like to disable this feature.\n",
      "WARNING: All log messages before absl::InitializeLog() is called are written to STDERR\n",
      "I0000 00:00:1737277992.485867    5847 service.cc:148] XLA service 0x7c0863f43160 initialized for platform CUDA (this does not guarantee that XLA will be used). Devices:\n",
      "I0000 00:00:1737277992.488994    5847 service.cc:156]   StreamExecutor device (0): NVIDIA GeForce GTX 1060 6GB, Compute Capability 6.1\n",
      "2025-01-19 11:13:12.595047: I tensorflow/compiler/mlir/tensorflow/utils/dump_mlir_util.cc:268] disabling MLIR crash reproducer, set env var `MLIR_CRASH_REPRODUCER_DIRECTORY` to enable.\n",
      "I0000 00:00:1737277993.061318    5847 device_compiler.h:188] Compiled cluster using XLA!  This line is logged at most once for the lifetime of the process.\n"
     ]
    },
    {
     "name": "stdout",
     "output_type": "stream",
     "text": [
      "131/162 [=======================>......] - ETA: 19s - loss: 2.4667 - accuracy: 0.2032"
     ]
    },
    {
     "name": "stderr",
     "output_type": "stream",
     "text": [
      "2025-01-19 11:14:39.059587: W tensorflow/core/lib/png/png_io.cc:89] PNG warning: iCCP: known incorrect sRGB profile\n"
     ]
    },
    {
     "name": "stdout",
     "output_type": "stream",
     "text": [
      "162/162 [==============================] - 139s 775ms/step - loss: 2.3771 - accuracy: 0.2199 - val_loss: 1.9506 - val_accuracy: 0.2971\n",
      "Epoch 2/100\n",
      "130/162 [=======================>......] - ETA: 10s - loss: 1.8890 - accuracy: 0.3329"
     ]
    },
    {
     "name": "stderr",
     "output_type": "stream",
     "text": [
      "2025-01-19 11:16:06.404708: W tensorflow/core/lib/png/png_io.cc:89] PNG warning: iCCP: known incorrect sRGB profile\n"
     ]
    },
    {
     "name": "stdout",
     "output_type": "stream",
     "text": [
      "162/162 [==============================] - 66s 392ms/step - loss: 1.8691 - accuracy: 0.3405 - val_loss: 1.7581 - val_accuracy: 0.3665\n",
      "Epoch 3/100\n",
      "130/162 [=======================>......] - ETA: 10s - loss: 1.7393 - accuracy: 0.3894"
     ]
    },
    {
     "name": "stderr",
     "output_type": "stream",
     "text": [
      "2025-01-19 11:17:12.045174: W tensorflow/core/lib/png/png_io.cc:89] PNG warning: iCCP: known incorrect sRGB profile\n"
     ]
    },
    {
     "name": "stdout",
     "output_type": "stream",
     "text": [
      "162/162 [==============================] - 66s 391ms/step - loss: 1.7363 - accuracy: 0.3868 - val_loss: 1.6936 - val_accuracy: 0.3873\n",
      "Epoch 4/100\n",
      "130/162 [=======================>......] - ETA: 10s - loss: 1.6798 - accuracy: 0.4089"
     ]
    },
    {
     "name": "stderr",
     "output_type": "stream",
     "text": [
      "2025-01-19 11:18:18.125164: W tensorflow/core/lib/png/png_io.cc:89] PNG warning: iCCP: known incorrect sRGB profile\n"
     ]
    },
    {
     "name": "stdout",
     "output_type": "stream",
     "text": [
      "162/162 [==============================] - 65s 391ms/step - loss: 1.6630 - accuracy: 0.4144 - val_loss: 1.5563 - val_accuracy: 0.4522\n",
      "Epoch 5/100\n",
      "130/162 [=======================>......] - ETA: 10s - loss: 1.5987 - accuracy: 0.4346"
     ]
    },
    {
     "name": "stderr",
     "output_type": "stream",
     "text": [
      "2025-01-19 11:19:23.253883: W tensorflow/core/lib/png/png_io.cc:89] PNG warning: iCCP: known incorrect sRGB profile\n"
     ]
    },
    {
     "name": "stdout",
     "output_type": "stream",
     "text": [
      "162/162 [==============================] - 66s 392ms/step - loss: 1.5921 - accuracy: 0.4369 - val_loss: 1.5045 - val_accuracy: 0.4715\n",
      "Epoch 6/100\n",
      "130/162 [=======================>......] - ETA: 10s - loss: 1.5021 - accuracy: 0.4810"
     ]
    },
    {
     "name": "stderr",
     "output_type": "stream",
     "text": [
      "2025-01-19 11:20:28.954514: W tensorflow/core/lib/png/png_io.cc:89] PNG warning: iCCP: known incorrect sRGB profile\n"
     ]
    },
    {
     "name": "stdout",
     "output_type": "stream",
     "text": [
      "162/162 [==============================] - 65s 389ms/step - loss: 1.4963 - accuracy: 0.4759 - val_loss: 1.5446 - val_accuracy: 0.4468\n",
      "Epoch 7/100\n",
      "130/162 [=======================>......] - ETA: 10s - loss: 1.4714 - accuracy: 0.4849"
     ]
    },
    {
     "name": "stderr",
     "output_type": "stream",
     "text": [
      "2025-01-19 11:21:34.327739: W tensorflow/core/lib/png/png_io.cc:89] PNG warning: iCCP: known incorrect sRGB profile\n"
     ]
    },
    {
     "name": "stdout",
     "output_type": "stream",
     "text": [
      "162/162 [==============================] - 65s 391ms/step - loss: 1.4572 - accuracy: 0.4888 - val_loss: 1.5206 - val_accuracy: 0.4591\n",
      "Epoch 8/100\n",
      "130/162 [=======================>......] - ETA: 10s - loss: 1.4454 - accuracy: 0.4998"
     ]
    },
    {
     "name": "stderr",
     "output_type": "stream",
     "text": [
      "2025-01-19 11:22:38.676234: W tensorflow/core/lib/png/png_io.cc:89] PNG warning: iCCP: known incorrect sRGB profile\n"
     ]
    },
    {
     "name": "stdout",
     "output_type": "stream",
     "text": [
      "162/162 [==============================] - 64s 383ms/step - loss: 1.4299 - accuracy: 0.5044 - val_loss: 1.6170 - val_accuracy: 0.4591\n",
      "Epoch 9/100\n",
      "130/162 [=======================>......] - ETA: 10s - loss: 1.3565 - accuracy: 0.5312"
     ]
    },
    {
     "name": "stderr",
     "output_type": "stream",
     "text": [
      "2025-01-19 11:23:41.946402: W tensorflow/core/lib/png/png_io.cc:89] PNG warning: iCCP: known incorrect sRGB profile\n"
     ]
    },
    {
     "name": "stdout",
     "output_type": "stream",
     "text": [
      "162/162 [==============================] - 62s 372ms/step - loss: 1.3500 - accuracy: 0.5312 - val_loss: 1.4069 - val_accuracy: 0.5108\n",
      "Epoch 10/100\n",
      "130/162 [=======================>......] - ETA: 10s - loss: 1.3344 - accuracy: 0.5308"
     ]
    },
    {
     "name": "stderr",
     "output_type": "stream",
     "text": [
      "2025-01-19 11:24:44.106182: W tensorflow/core/lib/png/png_io.cc:89] PNG warning: iCCP: known incorrect sRGB profile\n"
     ]
    },
    {
     "name": "stdout",
     "output_type": "stream",
     "text": [
      "162/162 [==============================] - 63s 375ms/step - loss: 1.3228 - accuracy: 0.5332 - val_loss: 1.8431 - val_accuracy: 0.3951\n",
      "Epoch 11/100\n",
      "130/162 [=======================>......] - ETA: 10s - loss: 1.2828 - accuracy: 0.5526"
     ]
    },
    {
     "name": "stderr",
     "output_type": "stream",
     "text": [
      "2025-01-19 11:25:47.415262: W tensorflow/core/lib/png/png_io.cc:89] PNG warning: iCCP: known incorrect sRGB profile\n"
     ]
    },
    {
     "name": "stdout",
     "output_type": "stream",
     "text": [
      "162/162 [==============================] - 64s 380ms/step - loss: 1.2770 - accuracy: 0.5536 - val_loss: 1.4410 - val_accuracy: 0.4761\n",
      "Epoch 12/100\n",
      "130/162 [=======================>......] - ETA: 10s - loss: 1.2117 - accuracy: 0.5803"
     ]
    },
    {
     "name": "stderr",
     "output_type": "stream",
     "text": [
      "2025-01-19 11:26:51.605726: W tensorflow/core/lib/png/png_io.cc:89] PNG warning: iCCP: known incorrect sRGB profile\n"
     ]
    },
    {
     "name": "stdout",
     "output_type": "stream",
     "text": [
      "162/162 [==============================] - 64s 385ms/step - loss: 1.2060 - accuracy: 0.5814 - val_loss: 1.3955 - val_accuracy: 0.5023\n",
      "Epoch 13/100\n",
      "130/162 [=======================>......] - ETA: 10s - loss: 1.1460 - accuracy: 0.6034"
     ]
    },
    {
     "name": "stderr",
     "output_type": "stream",
     "text": [
      "2025-01-19 11:27:55.494782: W tensorflow/core/lib/png/png_io.cc:89] PNG warning: iCCP: known incorrect sRGB profile\n"
     ]
    },
    {
     "name": "stdout",
     "output_type": "stream",
     "text": [
      "162/162 [==============================] - 64s 380ms/step - loss: 1.1308 - accuracy: 0.6059 - val_loss: 1.3593 - val_accuracy: 0.5448\n",
      "Epoch 14/100\n",
      "130/162 [=======================>......] - ETA: 10s - loss: 1.1158 - accuracy: 0.6115"
     ]
    },
    {
     "name": "stderr",
     "output_type": "stream",
     "text": [
      "2025-01-19 11:28:58.784705: W tensorflow/core/lib/png/png_io.cc:89] PNG warning: iCCP: known incorrect sRGB profile\n"
     ]
    },
    {
     "name": "stdout",
     "output_type": "stream",
     "text": [
      "162/162 [==============================] - 63s 376ms/step - loss: 1.1038 - accuracy: 0.6136 - val_loss: 1.2357 - val_accuracy: 0.5949\n",
      "Epoch 15/100\n",
      "130/162 [=======================>......] - ETA: 10s - loss: 1.0757 - accuracy: 0.6248"
     ]
    },
    {
     "name": "stderr",
     "output_type": "stream",
     "text": [
      "2025-01-19 11:30:01.706146: W tensorflow/core/lib/png/png_io.cc:89] PNG warning: iCCP: known incorrect sRGB profile\n"
     ]
    },
    {
     "name": "stdout",
     "output_type": "stream",
     "text": [
      "162/162 [==============================] - 63s 379ms/step - loss: 1.0682 - accuracy: 0.6264 - val_loss: 1.4963 - val_accuracy: 0.5224\n",
      "Epoch 16/100\n",
      "130/162 [=======================>......] - ETA: 9s - loss: 1.0308 - accuracy: 0.6397 "
     ]
    },
    {
     "name": "stderr",
     "output_type": "stream",
     "text": [
      "2025-01-19 11:31:04.987396: W tensorflow/core/lib/png/png_io.cc:89] PNG warning: iCCP: known incorrect sRGB profile\n"
     ]
    },
    {
     "name": "stdout",
     "output_type": "stream",
     "text": [
      "162/162 [==============================] - 63s 377ms/step - loss: 1.0244 - accuracy: 0.6422 - val_loss: 1.4178 - val_accuracy: 0.5231\n",
      "Epoch 17/100\n",
      "130/162 [=======================>......] - ETA: 10s - loss: 0.9899 - accuracy: 0.6498"
     ]
    },
    {
     "name": "stderr",
     "output_type": "stream",
     "text": [
      "2025-01-19 11:32:09.039952: W tensorflow/core/lib/png/png_io.cc:89] PNG warning: iCCP: known incorrect sRGB profile\n"
     ]
    },
    {
     "name": "stdout",
     "output_type": "stream",
     "text": [
      "162/162 [==============================] - 64s 380ms/step - loss: 0.9708 - accuracy: 0.6559 - val_loss: 1.3965 - val_accuracy: 0.5556\n",
      "Epoch 18/100\n",
      "130/162 [=======================>......] - ETA: 9s - loss: 0.9430 - accuracy: 0.6745 "
     ]
    },
    {
     "name": "stderr",
     "output_type": "stream",
     "text": [
      "2025-01-19 11:33:11.399020: W tensorflow/core/lib/png/png_io.cc:89] PNG warning: iCCP: known incorrect sRGB profile\n"
     ]
    },
    {
     "name": "stdout",
     "output_type": "stream",
     "text": [
      "162/162 [==============================] - 62s 373ms/step - loss: 0.9353 - accuracy: 0.6780 - val_loss: 1.4342 - val_accuracy: 0.5293\n",
      "Epoch 19/100\n",
      "130/162 [=======================>......] - ETA: 9s - loss: 0.9369 - accuracy: 0.6712 "
     ]
    },
    {
     "name": "stderr",
     "output_type": "stream",
     "text": [
      "2025-01-19 11:34:13.336917: W tensorflow/core/lib/png/png_io.cc:89] PNG warning: iCCP: known incorrect sRGB profile\n"
     ]
    },
    {
     "name": "stdout",
     "output_type": "stream",
     "text": [
      "162/162 [==============================] - 62s 371ms/step - loss: 0.9172 - accuracy: 0.6790 - val_loss: 1.4959 - val_accuracy: 0.5100\n",
      "Epoch 20/100\n",
      "130/162 [=======================>......] - ETA: 10s - loss: 0.8852 - accuracy: 0.6856"
     ]
    },
    {
     "name": "stderr",
     "output_type": "stream",
     "text": [
      "2025-01-19 11:35:17.325038: W tensorflow/core/lib/png/png_io.cc:89] PNG warning: iCCP: known incorrect sRGB profile\n"
     ]
    },
    {
     "name": "stdout",
     "output_type": "stream",
     "text": [
      "162/162 [==============================] - 64s 382ms/step - loss: 0.8679 - accuracy: 0.6900 - val_loss: 1.2647 - val_accuracy: 0.5725\n",
      "Epoch 21/100\n",
      "130/162 [=======================>......] - ETA: 9s - loss: 0.8365 - accuracy: 0.7077 "
     ]
    },
    {
     "name": "stderr",
     "output_type": "stream",
     "text": [
      "2025-01-19 11:36:19.724436: W tensorflow/core/lib/png/png_io.cc:89] PNG warning: iCCP: known incorrect sRGB profile\n"
     ]
    },
    {
     "name": "stdout",
     "output_type": "stream",
     "text": [
      "162/162 [==============================] - 62s 370ms/step - loss: 0.8144 - accuracy: 0.7132 - val_loss: 1.1810 - val_accuracy: 0.6227\n",
      "Epoch 22/100\n",
      "130/162 [=======================>......] - ETA: 9s - loss: 0.7964 - accuracy: 0.7161 "
     ]
    },
    {
     "name": "stderr",
     "output_type": "stream",
     "text": [
      "2025-01-19 11:37:21.840359: W tensorflow/core/lib/png/png_io.cc:89] PNG warning: iCCP: known incorrect sRGB profile\n"
     ]
    },
    {
     "name": "stdout",
     "output_type": "stream",
     "text": [
      "162/162 [==============================] - 62s 368ms/step - loss: 0.7788 - accuracy: 0.7240 - val_loss: 1.2538 - val_accuracy: 0.6096\n",
      "Epoch 23/100\n",
      "130/162 [=======================>......] - ETA: 10s - loss: 0.8083 - accuracy: 0.7178"
     ]
    },
    {
     "name": "stderr",
     "output_type": "stream",
     "text": [
      "2025-01-19 11:38:24.236975: W tensorflow/core/lib/png/png_io.cc:89] PNG warning: iCCP: known incorrect sRGB profile\n"
     ]
    },
    {
     "name": "stdout",
     "output_type": "stream",
     "text": [
      "162/162 [==============================] - 63s 378ms/step - loss: 0.7891 - accuracy: 0.7242 - val_loss: 1.1997 - val_accuracy: 0.6165\n",
      "Epoch 24/100\n",
      "130/162 [=======================>......] - ETA: 10s - loss: 0.7410 - accuracy: 0.7397"
     ]
    },
    {
     "name": "stderr",
     "output_type": "stream",
     "text": [
      "2025-01-19 11:39:28.426269: W tensorflow/core/lib/png/png_io.cc:89] PNG warning: iCCP: known incorrect sRGB profile\n"
     ]
    },
    {
     "name": "stdout",
     "output_type": "stream",
     "text": [
      "162/162 [==============================] - 64s 384ms/step - loss: 0.7309 - accuracy: 0.7421 - val_loss: 1.3190 - val_accuracy: 0.5826\n",
      "Epoch 25/100\n",
      "130/162 [=======================>......] - ETA: 10s - loss: 0.7024 - accuracy: 0.7546"
     ]
    },
    {
     "name": "stderr",
     "output_type": "stream",
     "text": [
      "2025-01-19 11:40:31.783736: W tensorflow/core/lib/png/png_io.cc:89] PNG warning: iCCP: known incorrect sRGB profile\n"
     ]
    },
    {
     "name": "stdout",
     "output_type": "stream",
     "text": [
      "162/162 [==============================] - 63s 378ms/step - loss: 0.6967 - accuracy: 0.7546 - val_loss: 1.5288 - val_accuracy: 0.5671\n",
      "Epoch 26/100\n",
      "130/162 [=======================>......] - ETA: 9s - loss: 0.6507 - accuracy: 0.7752 "
     ]
    },
    {
     "name": "stderr",
     "output_type": "stream",
     "text": [
      "2025-01-19 11:41:34.851026: W tensorflow/core/lib/png/png_io.cc:89] PNG warning: iCCP: known incorrect sRGB profile\n"
     ]
    },
    {
     "name": "stdout",
     "output_type": "stream",
     "text": [
      "162/162 [==============================] - 63s 374ms/step - loss: 0.6355 - accuracy: 0.7822 - val_loss: 1.4825 - val_accuracy: 0.5748\n",
      "Epoch 27/100\n",
      "130/162 [=======================>......] - ETA: 9s - loss: 0.6690 - accuracy: 0.7712 "
     ]
    },
    {
     "name": "stderr",
     "output_type": "stream",
     "text": [
      "2025-01-19 11:42:37.160977: W tensorflow/core/lib/png/png_io.cc:89] PNG warning: iCCP: known incorrect sRGB profile\n"
     ]
    },
    {
     "name": "stdout",
     "output_type": "stream",
     "text": [
      "162/162 [==============================] - 63s 374ms/step - loss: 0.6576 - accuracy: 0.7716 - val_loss: 1.2540 - val_accuracy: 0.6088\n",
      "Epoch 28/100\n",
      "130/162 [=======================>......] - ETA: 10s - loss: 0.6245 - accuracy: 0.7772"
     ]
    },
    {
     "name": "stderr",
     "output_type": "stream",
     "text": [
      "2025-01-19 11:43:41.505699: W tensorflow/core/lib/png/png_io.cc:89] PNG warning: iCCP: known incorrect sRGB profile\n"
     ]
    },
    {
     "name": "stdout",
     "output_type": "stream",
     "text": [
      "162/162 [==============================] - 63s 379ms/step - loss: 0.6229 - accuracy: 0.7778 - val_loss: 1.4865 - val_accuracy: 0.5818\n",
      "Epoch 29/100\n",
      "130/162 [=======================>......] - ETA: 10s - loss: 0.6019 - accuracy: 0.7954"
     ]
    },
    {
     "name": "stderr",
     "output_type": "stream",
     "text": [
      "2025-01-19 11:44:44.304398: W tensorflow/core/lib/png/png_io.cc:89] PNG warning: iCCP: known incorrect sRGB profile\n"
     ]
    },
    {
     "name": "stdout",
     "output_type": "stream",
     "text": [
      "162/162 [==============================] - 64s 382ms/step - loss: 0.5969 - accuracy: 0.7959 - val_loss: 1.2648 - val_accuracy: 0.6296\n",
      "Epoch 30/100\n",
      "130/162 [=======================>......] - ETA: 9s - loss: 0.5392 - accuracy: 0.8096 "
     ]
    },
    {
     "name": "stderr",
     "output_type": "stream",
     "text": [
      "2025-01-19 11:45:46.935904: W tensorflow/core/lib/png/png_io.cc:89] PNG warning: iCCP: known incorrect sRGB profile\n"
     ]
    },
    {
     "name": "stdout",
     "output_type": "stream",
     "text": [
      "162/162 [==============================] - 62s 372ms/step - loss: 0.5361 - accuracy: 0.8115 - val_loss: 1.3168 - val_accuracy: 0.6219\n",
      "Epoch 31/100\n",
      "130/162 [=======================>......] - ETA: 9s - loss: 0.5519 - accuracy: 0.8111 "
     ]
    },
    {
     "name": "stderr",
     "output_type": "stream",
     "text": [
      "2025-01-19 11:46:48.995300: W tensorflow/core/lib/png/png_io.cc:89] PNG warning: iCCP: known incorrect sRGB profile\n"
     ]
    },
    {
     "name": "stdout",
     "output_type": "stream",
     "text": [
      "162/162 [==============================] - 61s 366ms/step - loss: 0.5413 - accuracy: 0.8160 - val_loss: 1.4600 - val_accuracy: 0.6088\n",
      "Epoch 32/100\n",
      "130/162 [=======================>......] - ETA: 9s - loss: 0.5162 - accuracy: 0.8245 "
     ]
    },
    {
     "name": "stderr",
     "output_type": "stream",
     "text": [
      "2025-01-19 11:47:50.848633: W tensorflow/core/lib/png/png_io.cc:89] PNG warning: iCCP: known incorrect sRGB profile\n"
     ]
    },
    {
     "name": "stdout",
     "output_type": "stream",
     "text": [
      "162/162 [==============================] - 63s 375ms/step - loss: 0.5126 - accuracy: 0.8268 - val_loss: 1.4018 - val_accuracy: 0.6080\n",
      "Epoch 33/100\n",
      "130/162 [=======================>......] - ETA: 9s - loss: 0.4908 - accuracy: 0.8332 "
     ]
    },
    {
     "name": "stderr",
     "output_type": "stream",
     "text": [
      "2025-01-19 11:48:53.687691: W tensorflow/core/lib/png/png_io.cc:89] PNG warning: iCCP: known incorrect sRGB profile\n"
     ]
    },
    {
     "name": "stdout",
     "output_type": "stream",
     "text": [
      "162/162 [==============================] - 63s 376ms/step - loss: 0.4854 - accuracy: 0.8339 - val_loss: 1.5258 - val_accuracy: 0.5918\n",
      "Epoch 34/100\n",
      "130/162 [=======================>......] - ETA: 10s - loss: 0.4582 - accuracy: 0.8397"
     ]
    },
    {
     "name": "stderr",
     "output_type": "stream",
     "text": [
      "2025-01-19 11:49:56.992707: W tensorflow/core/lib/png/png_io.cc:89] PNG warning: iCCP: known incorrect sRGB profile\n"
     ]
    },
    {
     "name": "stdout",
     "output_type": "stream",
     "text": [
      "162/162 [==============================] - 63s 378ms/step - loss: 0.4621 - accuracy: 0.8380 - val_loss: 1.3429 - val_accuracy: 0.6273\n",
      "Epoch 35/100\n",
      "130/162 [=======================>......] - ETA: 9s - loss: 0.4450 - accuracy: 0.8464 "
     ]
    },
    {
     "name": "stderr",
     "output_type": "stream",
     "text": [
      "2025-01-19 11:50:59.856717: W tensorflow/core/lib/png/png_io.cc:89] PNG warning: iCCP: known incorrect sRGB profile\n"
     ]
    },
    {
     "name": "stdout",
     "output_type": "stream",
     "text": [
      "162/162 [==============================] - 63s 376ms/step - loss: 0.4469 - accuracy: 0.8463 - val_loss: 1.3376 - val_accuracy: 0.6188\n",
      "Epoch 36/100\n",
      "130/162 [=======================>......] - ETA: 10s - loss: 0.4317 - accuracy: 0.8512"
     ]
    },
    {
     "name": "stderr",
     "output_type": "stream",
     "text": [
      "2025-01-19 11:52:03.220808: W tensorflow/core/lib/png/png_io.cc:89] PNG warning: iCCP: known incorrect sRGB profile\n"
     ]
    },
    {
     "name": "stdout",
     "output_type": "stream",
     "text": [
      "162/162 [==============================] - 63s 378ms/step - loss: 0.4354 - accuracy: 0.8499 - val_loss: 1.6180 - val_accuracy: 0.6011\n",
      "Epoch 37/100\n",
      "130/162 [=======================>......] - ETA: 9s - loss: 0.4152 - accuracy: 0.8522 "
     ]
    },
    {
     "name": "stderr",
     "output_type": "stream",
     "text": [
      "2025-01-19 11:53:05.411422: W tensorflow/core/lib/png/png_io.cc:89] PNG warning: iCCP: known incorrect sRGB profile\n"
     ]
    },
    {
     "name": "stdout",
     "output_type": "stream",
     "text": [
      "162/162 [==============================] - 62s 369ms/step - loss: 0.4027 - accuracy: 0.8582 - val_loss: 1.4678 - val_accuracy: 0.6242\n",
      "Epoch 38/100\n",
      "130/162 [=======================>......] - ETA: 10s - loss: 0.4108 - accuracy: 0.8488"
     ]
    },
    {
     "name": "stderr",
     "output_type": "stream",
     "text": [
      "2025-01-19 11:54:08.797572: W tensorflow/core/lib/png/png_io.cc:89] PNG warning: iCCP: known incorrect sRGB profile\n"
     ]
    },
    {
     "name": "stdout",
     "output_type": "stream",
     "text": [
      "162/162 [==============================] - 64s 380ms/step - loss: 0.4065 - accuracy: 0.8509 - val_loss: 1.6906 - val_accuracy: 0.5756\n",
      "Epoch 39/100\n",
      "130/162 [=======================>......] - ETA: 10s - loss: 0.3940 - accuracy: 0.8692"
     ]
    },
    {
     "name": "stderr",
     "output_type": "stream",
     "text": [
      "2025-01-19 11:55:12.012246: W tensorflow/core/lib/png/png_io.cc:89] PNG warning: iCCP: known incorrect sRGB profile\n"
     ]
    },
    {
     "name": "stdout",
     "output_type": "stream",
     "text": [
      "162/162 [==============================] - 63s 379ms/step - loss: 0.3889 - accuracy: 0.8686 - val_loss: 1.4375 - val_accuracy: 0.6258\n",
      "Epoch 40/100\n",
      "130/162 [=======================>......] - ETA: 9s - loss: 0.3670 - accuracy: 0.8733 "
     ]
    },
    {
     "name": "stderr",
     "output_type": "stream",
     "text": [
      "2025-01-19 11:56:14.888705: W tensorflow/core/lib/png/png_io.cc:89] PNG warning: iCCP: known incorrect sRGB profile\n"
     ]
    },
    {
     "name": "stdout",
     "output_type": "stream",
     "text": [
      "162/162 [==============================] - 62s 372ms/step - loss: 0.3678 - accuracy: 0.8740 - val_loss: 1.5582 - val_accuracy: 0.6258\n",
      "Epoch 41/100\n",
      "130/162 [=======================>......] - ETA: 9s - loss: 0.3458 - accuracy: 0.8781 "
     ]
    },
    {
     "name": "stderr",
     "output_type": "stream",
     "text": [
      "2025-01-19 11:57:16.949630: W tensorflow/core/lib/png/png_io.cc:89] PNG warning: iCCP: known incorrect sRGB profile\n"
     ]
    },
    {
     "name": "stdout",
     "output_type": "stream",
     "text": [
      "162/162 [==============================] - 62s 372ms/step - loss: 0.3421 - accuracy: 0.8802 - val_loss: 1.5647 - val_accuracy: 0.6250\n",
      "Epoch 42/100\n",
      "130/162 [=======================>......] - ETA: 9s - loss: 0.3566 - accuracy: 0.8738 "
     ]
    },
    {
     "name": "stderr",
     "output_type": "stream",
     "text": [
      "2025-01-19 11:58:19.501730: W tensorflow/core/lib/png/png_io.cc:89] PNG warning: iCCP: known incorrect sRGB profile\n"
     ]
    },
    {
     "name": "stdout",
     "output_type": "stream",
     "text": [
      "162/162 [==============================] - 62s 372ms/step - loss: 0.3650 - accuracy: 0.8719 - val_loss: 1.4386 - val_accuracy: 0.6373\n",
      "Epoch 43/100\n",
      "130/162 [=======================>......] - ETA: 9s - loss: 0.3210 - accuracy: 0.8923 "
     ]
    },
    {
     "name": "stderr",
     "output_type": "stream",
     "text": [
      "2025-01-19 11:59:21.848933: W tensorflow/core/lib/png/png_io.cc:89] PNG warning: iCCP: known incorrect sRGB profile\n"
     ]
    },
    {
     "name": "stdout",
     "output_type": "stream",
     "text": [
      "162/162 [==============================] - 63s 376ms/step - loss: 0.3250 - accuracy: 0.8895 - val_loss: 1.5557 - val_accuracy: 0.6289\n",
      "Epoch 44/100\n",
      "130/162 [=======================>......] - ETA: 10s - loss: 0.3114 - accuracy: 0.8954"
     ]
    },
    {
     "name": "stderr",
     "output_type": "stream",
     "text": [
      "2025-01-19 12:00:25.615617: W tensorflow/core/lib/png/png_io.cc:89] PNG warning: iCCP: known incorrect sRGB profile\n"
     ]
    },
    {
     "name": "stdout",
     "output_type": "stream",
     "text": [
      "162/162 [==============================] - 63s 379ms/step - loss: 0.3087 - accuracy: 0.8945 - val_loss: 1.7747 - val_accuracy: 0.5802\n",
      "Epoch 45/100\n",
      "130/162 [=======================>......] - ETA: 10s - loss: 0.3175 - accuracy: 0.8861"
     ]
    },
    {
     "name": "stderr",
     "output_type": "stream",
     "text": [
      "2025-01-19 12:01:28.618575: W tensorflow/core/lib/png/png_io.cc:89] PNG warning: iCCP: known incorrect sRGB profile\n"
     ]
    },
    {
     "name": "stdout",
     "output_type": "stream",
     "text": [
      "162/162 [==============================] - 63s 379ms/step - loss: 0.3238 - accuracy: 0.8843 - val_loss: 1.8170 - val_accuracy: 0.5980\n",
      "Epoch 46/100\n",
      "130/162 [=======================>......] - ETA: 10s - loss: 0.3042 - accuracy: 0.8969"
     ]
    },
    {
     "name": "stderr",
     "output_type": "stream",
     "text": [
      "2025-01-19 12:02:32.080876: W tensorflow/core/lib/png/png_io.cc:89] PNG warning: iCCP: known incorrect sRGB profile\n"
     ]
    },
    {
     "name": "stdout",
     "output_type": "stream",
     "text": [
      "162/162 [==============================] - 62s 373ms/step - loss: 0.3010 - accuracy: 0.8978 - val_loss: 1.5074 - val_accuracy: 0.6235\n",
      "Epoch 47/100\n",
      "130/162 [=======================>......] - ETA: 10s - loss: 0.3276 - accuracy: 0.8865"
     ]
    },
    {
     "name": "stderr",
     "output_type": "stream",
     "text": [
      "2025-01-19 12:03:34.582455: W tensorflow/core/lib/png/png_io.cc:89] PNG warning: iCCP: known incorrect sRGB profile\n"
     ]
    },
    {
     "name": "stdout",
     "output_type": "stream",
     "text": [
      "162/162 [==============================] - 63s 378ms/step - loss: 0.3197 - accuracy: 0.8875 - val_loss: 1.4222 - val_accuracy: 0.6590\n",
      "Epoch 48/100\n",
      "130/162 [=======================>......] - ETA: 10s - loss: 0.2987 - accuracy: 0.9024"
     ]
    },
    {
     "name": "stderr",
     "output_type": "stream",
     "text": [
      "2025-01-19 12:04:38.112896: W tensorflow/core/lib/png/png_io.cc:89] PNG warning: iCCP: known incorrect sRGB profile\n"
     ]
    },
    {
     "name": "stdout",
     "output_type": "stream",
     "text": [
      "162/162 [==============================] - 63s 378ms/step - loss: 0.2861 - accuracy: 0.9064 - val_loss: 1.5355 - val_accuracy: 0.6520\n",
      "Epoch 49/100\n",
      "130/162 [=======================>......] - ETA: 10s - loss: 0.2748 - accuracy: 0.9017"
     ]
    },
    {
     "name": "stderr",
     "output_type": "stream",
     "text": [
      "2025-01-19 12:05:41.221364: W tensorflow/core/lib/png/png_io.cc:89] PNG warning: iCCP: known incorrect sRGB profile\n"
     ]
    },
    {
     "name": "stdout",
     "output_type": "stream",
     "text": [
      "162/162 [==============================] - 63s 374ms/step - loss: 0.2721 - accuracy: 0.9032 - val_loss: 1.3700 - val_accuracy: 0.6698\n",
      "Epoch 50/100\n",
      "130/162 [=======================>......] - ETA: 10s - loss: 0.2875 - accuracy: 0.9026"
     ]
    },
    {
     "name": "stderr",
     "output_type": "stream",
     "text": [
      "2025-01-19 12:06:43.696903: W tensorflow/core/lib/png/png_io.cc:89] PNG warning: iCCP: known incorrect sRGB profile\n"
     ]
    },
    {
     "name": "stdout",
     "output_type": "stream",
     "text": [
      "162/162 [==============================] - 63s 377ms/step - loss: 0.2749 - accuracy: 0.9066 - val_loss: 1.4523 - val_accuracy: 0.6435\n",
      "Epoch 51/100\n",
      "130/162 [=======================>......] - ETA: 9s - loss: 0.2747 - accuracy: 0.9029 "
     ]
    },
    {
     "name": "stderr",
     "output_type": "stream",
     "text": [
      "2025-01-19 12:07:46.689027: W tensorflow/core/lib/png/png_io.cc:89] PNG warning: iCCP: known incorrect sRGB profile\n"
     ]
    },
    {
     "name": "stdout",
     "output_type": "stream",
     "text": [
      "162/162 [==============================] - 63s 374ms/step - loss: 0.2660 - accuracy: 0.9068 - val_loss: 1.6872 - val_accuracy: 0.6373\n",
      "Epoch 52/100\n",
      "130/162 [=======================>......] - ETA: 9s - loss: 0.2371 - accuracy: 0.9132 "
     ]
    },
    {
     "name": "stderr",
     "output_type": "stream",
     "text": [
      "2025-01-19 12:08:48.857987: W tensorflow/core/lib/png/png_io.cc:89] PNG warning: iCCP: known incorrect sRGB profile\n"
     ]
    },
    {
     "name": "stdout",
     "output_type": "stream",
     "text": [
      "162/162 [==============================] - 62s 371ms/step - loss: 0.2415 - accuracy: 0.9122 - val_loss: 1.4570 - val_accuracy: 0.6451\n",
      "Epoch 53/100\n",
      "130/162 [=======================>......] - ETA: 10s - loss: 0.2543 - accuracy: 0.9099"
     ]
    },
    {
     "name": "stderr",
     "output_type": "stream",
     "text": [
      "2025-01-19 12:09:51.759554: W tensorflow/core/lib/png/png_io.cc:89] PNG warning: iCCP: known incorrect sRGB profile\n"
     ]
    },
    {
     "name": "stdout",
     "output_type": "stream",
     "text": [
      "162/162 [==============================] - 63s 375ms/step - loss: 0.2492 - accuracy: 0.9120 - val_loss: 1.6697 - val_accuracy: 0.6304\n",
      "Epoch 54/100\n",
      "130/162 [=======================>......] - ETA: 9s - loss: 0.2451 - accuracy: 0.9137 "
     ]
    },
    {
     "name": "stderr",
     "output_type": "stream",
     "text": [
      "2025-01-19 12:10:53.618972: W tensorflow/core/lib/png/png_io.cc:89] PNG warning: iCCP: known incorrect sRGB profile\n"
     ]
    },
    {
     "name": "stdout",
     "output_type": "stream",
     "text": [
      "162/162 [==============================] - 62s 369ms/step - loss: 0.2386 - accuracy: 0.9180 - val_loss: 1.6399 - val_accuracy: 0.6590\n",
      "Epoch 55/100\n",
      "130/162 [=======================>......] - ETA: 10s - loss: 0.2417 - accuracy: 0.9130"
     ]
    },
    {
     "name": "stderr",
     "output_type": "stream",
     "text": [
      "2025-01-19 12:11:56.589098: W tensorflow/core/lib/png/png_io.cc:89] PNG warning: iCCP: known incorrect sRGB profile\n"
     ]
    },
    {
     "name": "stdout",
     "output_type": "stream",
     "text": [
      "162/162 [==============================] - 63s 379ms/step - loss: 0.2439 - accuracy: 0.9142 - val_loss: 1.5730 - val_accuracy: 0.6574\n",
      "Epoch 56/100\n",
      "130/162 [=======================>......] - ETA: 10s - loss: 0.2109 - accuracy: 0.9267"
     ]
    },
    {
     "name": "stderr",
     "output_type": "stream",
     "text": [
      "2025-01-19 12:13:00.360391: W tensorflow/core/lib/png/png_io.cc:89] PNG warning: iCCP: known incorrect sRGB profile\n"
     ]
    },
    {
     "name": "stdout",
     "output_type": "stream",
     "text": [
      "162/162 [==============================] - 64s 380ms/step - loss: 0.2114 - accuracy: 0.9275 - val_loss: 1.4869 - val_accuracy: 0.6574\n",
      "Epoch 57/100\n",
      "130/162 [=======================>......] - ETA: 10s - loss: 0.2035 - accuracy: 0.9368"
     ]
    },
    {
     "name": "stderr",
     "output_type": "stream",
     "text": [
      "2025-01-19 12:14:03.702745: W tensorflow/core/lib/png/png_io.cc:89] PNG warning: iCCP: known incorrect sRGB profile\n"
     ]
    },
    {
     "name": "stdout",
     "output_type": "stream",
     "text": [
      "162/162 [==============================] - 63s 377ms/step - loss: 0.2021 - accuracy: 0.9358 - val_loss: 2.0356 - val_accuracy: 0.6211\n",
      "Epoch 58/100\n",
      "130/162 [=======================>......] - ETA: 9s - loss: 0.1871 - accuracy: 0.9365 "
     ]
    },
    {
     "name": "stderr",
     "output_type": "stream",
     "text": [
      "2025-01-19 12:15:06.528841: W tensorflow/core/lib/png/png_io.cc:89] PNG warning: iCCP: known incorrect sRGB profile\n"
     ]
    },
    {
     "name": "stdout",
     "output_type": "stream",
     "text": [
      "162/162 [==============================] - 63s 377ms/step - loss: 0.1941 - accuracy: 0.9338 - val_loss: 1.6954 - val_accuracy: 0.6389\n",
      "Epoch 59/100\n",
      "130/162 [=======================>......] - ETA: 9s - loss: 0.2160 - accuracy: 0.9325 "
     ]
    },
    {
     "name": "stderr",
     "output_type": "stream",
     "text": [
      "2025-01-19 12:16:09.411805: W tensorflow/core/lib/png/png_io.cc:89] PNG warning: iCCP: known incorrect sRGB profile\n"
     ]
    },
    {
     "name": "stdout",
     "output_type": "stream",
     "text": [
      "162/162 [==============================] - 62s 372ms/step - loss: 0.2194 - accuracy: 0.9296 - val_loss: 1.8834 - val_accuracy: 0.6096\n",
      "Epoch 60/100\n",
      "130/162 [=======================>......] - ETA: 9s - loss: 0.1855 - accuracy: 0.9358 "
     ]
    },
    {
     "name": "stderr",
     "output_type": "stream",
     "text": [
      "2025-01-19 12:17:11.381490: W tensorflow/core/lib/png/png_io.cc:89] PNG warning: iCCP: known incorrect sRGB profile\n"
     ]
    },
    {
     "name": "stdout",
     "output_type": "stream",
     "text": [
      "162/162 [==============================] - 62s 369ms/step - loss: 0.1886 - accuracy: 0.9336 - val_loss: 1.4991 - val_accuracy: 0.6651\n",
      "Epoch 61/100\n",
      "130/162 [=======================>......] - ETA: 10s - loss: 0.1853 - accuracy: 0.9356"
     ]
    },
    {
     "name": "stderr",
     "output_type": "stream",
     "text": [
      "2025-01-19 12:18:14.389658: W tensorflow/core/lib/png/png_io.cc:89] PNG warning: iCCP: known incorrect sRGB profile\n"
     ]
    },
    {
     "name": "stdout",
     "output_type": "stream",
     "text": [
      "162/162 [==============================] - 64s 381ms/step - loss: 0.1865 - accuracy: 0.9358 - val_loss: 1.7745 - val_accuracy: 0.6505\n",
      "Epoch 62/100\n",
      "130/162 [=======================>......] - ETA: 10s - loss: 0.1918 - accuracy: 0.9317"
     ]
    },
    {
     "name": "stderr",
     "output_type": "stream",
     "text": [
      "2025-01-19 12:19:18.109820: W tensorflow/core/lib/png/png_io.cc:89] PNG warning: iCCP: known incorrect sRGB profile\n"
     ]
    },
    {
     "name": "stdout",
     "output_type": "stream",
     "text": [
      "162/162 [==============================] - 63s 379ms/step - loss: 0.1848 - accuracy: 0.9338 - val_loss: 2.4935 - val_accuracy: 0.5772\n",
      "Epoch 63/100\n",
      "130/162 [=======================>......] - ETA: 10s - loss: 0.1989 - accuracy: 0.9394"
     ]
    },
    {
     "name": "stderr",
     "output_type": "stream",
     "text": [
      "2025-01-19 12:20:21.207548: W tensorflow/core/lib/png/png_io.cc:89] PNG warning: iCCP: known incorrect sRGB profile\n"
     ]
    },
    {
     "name": "stdout",
     "output_type": "stream",
     "text": [
      "162/162 [==============================] - 63s 376ms/step - loss: 0.1973 - accuracy: 0.9377 - val_loss: 1.4817 - val_accuracy: 0.6736\n",
      "Epoch 64/100\n",
      "130/162 [=======================>......] - ETA: 9s - loss: 0.1710 - accuracy: 0.9406 "
     ]
    },
    {
     "name": "stderr",
     "output_type": "stream",
     "text": [
      "2025-01-19 12:21:23.837122: W tensorflow/core/lib/png/png_io.cc:89] PNG warning: iCCP: known incorrect sRGB profile\n"
     ]
    },
    {
     "name": "stdout",
     "output_type": "stream",
     "text": [
      "162/162 [==============================] - 63s 375ms/step - loss: 0.1748 - accuracy: 0.9400 - val_loss: 1.7081 - val_accuracy: 0.6497\n",
      "Epoch 65/100\n",
      "130/162 [=======================>......] - ETA: 10s - loss: 0.1973 - accuracy: 0.9317"
     ]
    },
    {
     "name": "stderr",
     "output_type": "stream",
     "text": [
      "2025-01-19 12:22:27.020041: W tensorflow/core/lib/png/png_io.cc:89] PNG warning: iCCP: known incorrect sRGB profile\n"
     ]
    },
    {
     "name": "stdout",
     "output_type": "stream",
     "text": [
      "162/162 [==============================] - 63s 377ms/step - loss: 0.1865 - accuracy: 0.9358 - val_loss: 1.8517 - val_accuracy: 0.6427\n",
      "Epoch 66/100\n",
      "130/162 [=======================>......] - ETA: 10s - loss: 0.1592 - accuracy: 0.9447"
     ]
    },
    {
     "name": "stderr",
     "output_type": "stream",
     "text": [
      "2025-01-19 12:23:30.586098: W tensorflow/core/lib/png/png_io.cc:89] PNG warning: iCCP: known incorrect sRGB profile\n"
     ]
    },
    {
     "name": "stdout",
     "output_type": "stream",
     "text": [
      "162/162 [==============================] - 63s 380ms/step - loss: 0.1632 - accuracy: 0.9446 - val_loss: 1.8565 - val_accuracy: 0.6366\n",
      "Epoch 67/100\n",
      "130/162 [=======================>......] - ETA: 10s - loss: 0.1682 - accuracy: 0.9399"
     ]
    },
    {
     "name": "stderr",
     "output_type": "stream",
     "text": [
      "2025-01-19 12:24:34.472429: W tensorflow/core/lib/png/png_io.cc:89] PNG warning: iCCP: known incorrect sRGB profile\n"
     ]
    },
    {
     "name": "stdout",
     "output_type": "stream",
     "text": [
      "162/162 [==============================] - 64s 381ms/step - loss: 0.1622 - accuracy: 0.9429 - val_loss: 1.5369 - val_accuracy: 0.6898\n",
      "Epoch 68/100\n",
      "130/162 [=======================>......] - ETA: 9s - loss: 0.1748 - accuracy: 0.9399 "
     ]
    },
    {
     "name": "stderr",
     "output_type": "stream",
     "text": [
      "2025-01-19 12:25:37.111753: W tensorflow/core/lib/png/png_io.cc:89] PNG warning: iCCP: known incorrect sRGB profile\n"
     ]
    },
    {
     "name": "stdout",
     "output_type": "stream",
     "text": [
      "162/162 [==============================] - 63s 373ms/step - loss: 0.1829 - accuracy: 0.9363 - val_loss: 1.6969 - val_accuracy: 0.6551\n",
      "Epoch 69/100\n",
      "130/162 [=======================>......] - ETA: 9s - loss: 0.1406 - accuracy: 0.9522 "
     ]
    },
    {
     "name": "stderr",
     "output_type": "stream",
     "text": [
      "2025-01-19 12:26:39.279587: W tensorflow/core/lib/png/png_io.cc:89] PNG warning: iCCP: known incorrect sRGB profile\n"
     ]
    },
    {
     "name": "stdout",
     "output_type": "stream",
     "text": [
      "162/162 [==============================] - 62s 373ms/step - loss: 0.1391 - accuracy: 0.9531 - val_loss: 1.9876 - val_accuracy: 0.6435\n",
      "Epoch 70/100\n",
      "130/162 [=======================>......] - ETA: 9s - loss: 0.1763 - accuracy: 0.9445 "
     ]
    },
    {
     "name": "stderr",
     "output_type": "stream",
     "text": [
      "2025-01-19 12:27:42.009619: W tensorflow/core/lib/png/png_io.cc:89] PNG warning: iCCP: known incorrect sRGB profile\n"
     ]
    },
    {
     "name": "stdout",
     "output_type": "stream",
     "text": [
      "162/162 [==============================] - 63s 377ms/step - loss: 0.1742 - accuracy: 0.9448 - val_loss: 1.5804 - val_accuracy: 0.6698\n",
      "Epoch 71/100\n",
      "130/162 [=======================>......] - ETA: 10s - loss: 0.1623 - accuracy: 0.9399"
     ]
    },
    {
     "name": "stderr",
     "output_type": "stream",
     "text": [
      "2025-01-19 12:28:45.566205: W tensorflow/core/lib/png/png_io.cc:89] PNG warning: iCCP: known incorrect sRGB profile\n"
     ]
    },
    {
     "name": "stdout",
     "output_type": "stream",
     "text": [
      "162/162 [==============================] - 63s 375ms/step - loss: 0.1630 - accuracy: 0.9406 - val_loss: 1.7840 - val_accuracy: 0.6543\n",
      "Epoch 72/100\n",
      "130/162 [=======================>......] - ETA: 9s - loss: 0.1508 - accuracy: 0.9490 "
     ]
    },
    {
     "name": "stderr",
     "output_type": "stream",
     "text": [
      "2025-01-19 12:29:48.091663: W tensorflow/core/lib/png/png_io.cc:89] PNG warning: iCCP: known incorrect sRGB profile\n"
     ]
    },
    {
     "name": "stdout",
     "output_type": "stream",
     "text": [
      "162/162 [==============================] - 63s 376ms/step - loss: 0.1468 - accuracy: 0.9500 - val_loss: 1.5900 - val_accuracy: 0.6821\n",
      "Epoch 73/100\n",
      "130/162 [=======================>......] - ETA: 9s - loss: 0.1501 - accuracy: 0.9500 "
     ]
    },
    {
     "name": "stderr",
     "output_type": "stream",
     "text": [
      "2025-01-19 12:30:50.317045: W tensorflow/core/lib/png/png_io.cc:89] PNG warning: iCCP: known incorrect sRGB profile\n"
     ]
    },
    {
     "name": "stdout",
     "output_type": "stream",
     "text": [
      "162/162 [==============================] - 62s 369ms/step - loss: 0.1552 - accuracy: 0.9489 - val_loss: 1.6250 - val_accuracy: 0.6698\n",
      "Epoch 74/100\n",
      "130/162 [=======================>......] - ETA: 10s - loss: 0.1572 - accuracy: 0.9488"
     ]
    },
    {
     "name": "stderr",
     "output_type": "stream",
     "text": [
      "2025-01-19 12:31:53.354346: W tensorflow/core/lib/png/png_io.cc:89] PNG warning: iCCP: known incorrect sRGB profile\n"
     ]
    },
    {
     "name": "stdout",
     "output_type": "stream",
     "text": [
      "162/162 [==============================] - 63s 379ms/step - loss: 0.1624 - accuracy: 0.9471 - val_loss: 1.7352 - val_accuracy: 0.6481\n",
      "Epoch 75/100\n",
      "130/162 [=======================>......] - ETA: 10s - loss: 0.1514 - accuracy: 0.9498"
     ]
    },
    {
     "name": "stderr",
     "output_type": "stream",
     "text": [
      "2025-01-19 12:32:56.662236: W tensorflow/core/lib/png/png_io.cc:89] PNG warning: iCCP: known incorrect sRGB profile\n"
     ]
    },
    {
     "name": "stdout",
     "output_type": "stream",
     "text": [
      "162/162 [==============================] - 63s 376ms/step - loss: 0.1472 - accuracy: 0.9502 - val_loss: 1.8105 - val_accuracy: 0.6551\n",
      "Epoch 76/100\n",
      "130/162 [=======================>......] - ETA: 10s - loss: 0.1524 - accuracy: 0.9481"
     ]
    },
    {
     "name": "stderr",
     "output_type": "stream",
     "text": [
      "2025-01-19 12:33:59.654278: W tensorflow/core/lib/png/png_io.cc:89] PNG warning: iCCP: known incorrect sRGB profile\n"
     ]
    },
    {
     "name": "stdout",
     "output_type": "stream",
     "text": [
      "162/162 [==============================] - 63s 378ms/step - loss: 0.1554 - accuracy: 0.9470 - val_loss: 1.6486 - val_accuracy: 0.6597\n",
      "Epoch 77/100\n",
      "130/162 [=======================>......] - ETA: 9s - loss: 0.1436 - accuracy: 0.9514 "
     ]
    },
    {
     "name": "stderr",
     "output_type": "stream",
     "text": [
      "2025-01-19 12:35:02.539018: W tensorflow/core/lib/png/png_io.cc:89] PNG warning: iCCP: known incorrect sRGB profile\n"
     ]
    },
    {
     "name": "stdout",
     "output_type": "stream",
     "text": [
      "162/162 [==============================] - 62s 372ms/step - loss: 0.1483 - accuracy: 0.9493 - val_loss: 1.6671 - val_accuracy: 0.6821\n",
      "Epoch 78/100\n",
      "130/162 [=======================>......] - ETA: 10s - loss: 0.1566 - accuracy: 0.9495"
     ]
    },
    {
     "name": "stderr",
     "output_type": "stream",
     "text": [
      "2025-01-19 12:36:05.523087: W tensorflow/core/lib/png/png_io.cc:89] PNG warning: iCCP: known incorrect sRGB profile\n"
     ]
    },
    {
     "name": "stdout",
     "output_type": "stream",
     "text": [
      "162/162 [==============================] - 64s 380ms/step - loss: 0.1514 - accuracy: 0.9524 - val_loss: 2.0919 - val_accuracy: 0.6273\n",
      "Epoch 79/100\n",
      "130/162 [=======================>......] - ETA: 9s - loss: 0.1248 - accuracy: 0.9560 "
     ]
    },
    {
     "name": "stderr",
     "output_type": "stream",
     "text": [
      "2025-01-19 12:37:08.272796: W tensorflow/core/lib/png/png_io.cc:89] PNG warning: iCCP: known incorrect sRGB profile\n"
     ]
    },
    {
     "name": "stdout",
     "output_type": "stream",
     "text": [
      "162/162 [==============================] - 63s 376ms/step - loss: 0.1272 - accuracy: 0.9566 - val_loss: 2.2068 - val_accuracy: 0.6273\n",
      "Epoch 80/100\n",
      "130/162 [=======================>......] - ETA: 10s - loss: 0.1246 - accuracy: 0.9601"
     ]
    },
    {
     "name": "stderr",
     "output_type": "stream",
     "text": [
      "2025-01-19 12:38:12.131350: W tensorflow/core/lib/png/png_io.cc:89] PNG warning: iCCP: known incorrect sRGB profile\n"
     ]
    },
    {
     "name": "stdout",
     "output_type": "stream",
     "text": [
      "162/162 [==============================] - 63s 377ms/step - loss: 0.1219 - accuracy: 0.9605 - val_loss: 2.0042 - val_accuracy: 0.6512\n",
      "Epoch 81/100\n",
      "130/162 [=======================>......] - ETA: 10s - loss: 0.1271 - accuracy: 0.9577"
     ]
    },
    {
     "name": "stderr",
     "output_type": "stream",
     "text": [
      "2025-01-19 12:39:15.507447: W tensorflow/core/lib/png/png_io.cc:89] PNG warning: iCCP: known incorrect sRGB profile\n"
     ]
    },
    {
     "name": "stdout",
     "output_type": "stream",
     "text": [
      "162/162 [==============================] - 64s 380ms/step - loss: 0.1258 - accuracy: 0.9576 - val_loss: 1.9452 - val_accuracy: 0.6628\n",
      "Epoch 82/100\n",
      "130/162 [=======================>......] - ETA: 10s - loss: 0.1240 - accuracy: 0.9608"
     ]
    },
    {
     "name": "stderr",
     "output_type": "stream",
     "text": [
      "2025-01-19 12:40:18.845358: W tensorflow/core/lib/png/png_io.cc:89] PNG warning: iCCP: known incorrect sRGB profile\n"
     ]
    },
    {
     "name": "stdout",
     "output_type": "stream",
     "text": [
      "162/162 [==============================] - 63s 379ms/step - loss: 0.1231 - accuracy: 0.9597 - val_loss: 1.7939 - val_accuracy: 0.6667\n",
      "Epoch 83/100\n",
      "130/162 [=======================>......] - ETA: 9s - loss: 0.1288 - accuracy: 0.9560 "
     ]
    },
    {
     "name": "stderr",
     "output_type": "stream",
     "text": [
      "2025-01-19 12:41:21.779100: W tensorflow/core/lib/png/png_io.cc:89] PNG warning: iCCP: known incorrect sRGB profile\n"
     ]
    },
    {
     "name": "stdout",
     "output_type": "stream",
     "text": [
      "162/162 [==============================] - 63s 375ms/step - loss: 0.1277 - accuracy: 0.9558 - val_loss: 1.5431 - val_accuracy: 0.6775\n",
      "Epoch 84/100\n",
      "130/162 [=======================>......] - ETA: 9s - loss: 0.1167 - accuracy: 0.9594 "
     ]
    },
    {
     "name": "stderr",
     "output_type": "stream",
     "text": [
      "2025-01-19 12:42:23.861437: W tensorflow/core/lib/png/png_io.cc:89] PNG warning: iCCP: known incorrect sRGB profile\n"
     ]
    },
    {
     "name": "stdout",
     "output_type": "stream",
     "text": [
      "162/162 [==============================] - 62s 372ms/step - loss: 0.1175 - accuracy: 0.9595 - val_loss: 1.9160 - val_accuracy: 0.6543\n",
      "Epoch 85/100\n",
      "130/162 [=======================>......] - ETA: 9s - loss: 0.1452 - accuracy: 0.9483 "
     ]
    },
    {
     "name": "stderr",
     "output_type": "stream",
     "text": [
      "2025-01-19 12:43:26.887198: W tensorflow/core/lib/png/png_io.cc:89] PNG warning: iCCP: known incorrect sRGB profile\n"
     ]
    },
    {
     "name": "stdout",
     "output_type": "stream",
     "text": [
      "162/162 [==============================] - 63s 377ms/step - loss: 0.1418 - accuracy: 0.9506 - val_loss: 2.2842 - val_accuracy: 0.6219\n",
      "Epoch 86/100\n",
      "130/162 [=======================>......] - ETA: 10s - loss: 0.1172 - accuracy: 0.9611"
     ]
    },
    {
     "name": "stderr",
     "output_type": "stream",
     "text": [
      "2025-01-19 12:44:30.525782: W tensorflow/core/lib/png/png_io.cc:89] PNG warning: iCCP: known incorrect sRGB profile\n"
     ]
    },
    {
     "name": "stdout",
     "output_type": "stream",
     "text": [
      "162/162 [==============================] - 63s 379ms/step - loss: 0.1147 - accuracy: 0.9622 - val_loss: 1.7146 - val_accuracy: 0.6875\n",
      "Epoch 87/100\n",
      "130/162 [=======================>......] - ETA: 9s - loss: 0.1049 - accuracy: 0.9661 "
     ]
    },
    {
     "name": "stderr",
     "output_type": "stream",
     "text": [
      "2025-01-19 12:45:33.479810: W tensorflow/core/lib/png/png_io.cc:89] PNG warning: iCCP: known incorrect sRGB profile\n"
     ]
    },
    {
     "name": "stdout",
     "output_type": "stream",
     "text": [
      "162/162 [==============================] - 63s 376ms/step - loss: 0.0997 - accuracy: 0.9668 - val_loss: 2.0774 - val_accuracy: 0.6451\n",
      "Epoch 88/100\n",
      "130/162 [=======================>......] - ETA: 9s - loss: 0.1025 - accuracy: 0.9663 "
     ]
    },
    {
     "name": "stderr",
     "output_type": "stream",
     "text": [
      "2025-01-19 12:46:36.274385: W tensorflow/core/lib/png/png_io.cc:89] PNG warning: iCCP: known incorrect sRGB profile\n"
     ]
    },
    {
     "name": "stdout",
     "output_type": "stream",
     "text": [
      "162/162 [==============================] - 63s 376ms/step - loss: 0.1073 - accuracy: 0.9660 - val_loss: 1.6756 - val_accuracy: 0.6790\n",
      "Epoch 89/100\n",
      "130/162 [=======================>......] - ETA: 9s - loss: 0.1118 - accuracy: 0.9615 "
     ]
    },
    {
     "name": "stderr",
     "output_type": "stream",
     "text": [
      "2025-01-19 12:47:38.978049: W tensorflow/core/lib/png/png_io.cc:89] PNG warning: iCCP: known incorrect sRGB profile\n"
     ]
    },
    {
     "name": "stdout",
     "output_type": "stream",
     "text": [
      "162/162 [==============================] - 63s 374ms/step - loss: 0.1068 - accuracy: 0.9635 - val_loss: 1.8903 - val_accuracy: 0.6674\n",
      "Epoch 90/100\n",
      "130/162 [=======================>......] - ETA: 9s - loss: 0.0982 - accuracy: 0.9695 "
     ]
    },
    {
     "name": "stderr",
     "output_type": "stream",
     "text": [
      "2025-01-19 12:48:41.384877: W tensorflow/core/lib/png/png_io.cc:89] PNG warning: iCCP: known incorrect sRGB profile\n"
     ]
    },
    {
     "name": "stdout",
     "output_type": "stream",
     "text": [
      "162/162 [==============================] - 62s 372ms/step - loss: 0.1035 - accuracy: 0.9672 - val_loss: 2.2077 - val_accuracy: 0.6188\n",
      "Epoch 91/100\n",
      "130/162 [=======================>......] - ETA: 10s - loss: 0.1129 - accuracy: 0.9601"
     ]
    },
    {
     "name": "stderr",
     "output_type": "stream",
     "text": [
      "2025-01-19 12:49:44.740744: W tensorflow/core/lib/png/png_io.cc:89] PNG warning: iCCP: known incorrect sRGB profile\n"
     ]
    },
    {
     "name": "stdout",
     "output_type": "stream",
     "text": [
      "162/162 [==============================] - 63s 379ms/step - loss: 0.1165 - accuracy: 0.9583 - val_loss: 2.0445 - val_accuracy: 0.6528\n",
      "Epoch 92/100\n",
      "130/162 [=======================>......] - ETA: 10s - loss: 0.1068 - accuracy: 0.9695"
     ]
    },
    {
     "name": "stderr",
     "output_type": "stream",
     "text": [
      "2025-01-19 12:50:47.850903: W tensorflow/core/lib/png/png_io.cc:89] PNG warning: iCCP: known incorrect sRGB profile\n"
     ]
    },
    {
     "name": "stdout",
     "output_type": "stream",
     "text": [
      "162/162 [==============================] - 63s 379ms/step - loss: 0.1055 - accuracy: 0.9672 - val_loss: 2.1326 - val_accuracy: 0.6443\n",
      "Epoch 93/100\n",
      "130/162 [=======================>......] - ETA: 9s - loss: 0.1071 - accuracy: 0.9630 "
     ]
    },
    {
     "name": "stderr",
     "output_type": "stream",
     "text": [
      "2025-01-19 12:51:50.417673: W tensorflow/core/lib/png/png_io.cc:89] PNG warning: iCCP: known incorrect sRGB profile\n"
     ]
    },
    {
     "name": "stdout",
     "output_type": "stream",
     "text": [
      "162/162 [==============================] - 62s 372ms/step - loss: 0.1118 - accuracy: 0.9641 - val_loss: 1.5438 - val_accuracy: 0.6937\n",
      "Epoch 94/100\n",
      "130/162 [=======================>......] - ETA: 10s - loss: 0.1215 - accuracy: 0.9613"
     ]
    },
    {
     "name": "stderr",
     "output_type": "stream",
     "text": [
      "2025-01-19 12:52:53.707755: W tensorflow/core/lib/png/png_io.cc:89] PNG warning: iCCP: known incorrect sRGB profile\n"
     ]
    },
    {
     "name": "stdout",
     "output_type": "stream",
     "text": [
      "162/162 [==============================] - 63s 379ms/step - loss: 0.1194 - accuracy: 0.9626 - val_loss: 1.6741 - val_accuracy: 0.6728\n",
      "Epoch 95/100\n",
      "130/162 [=======================>......] - ETA: 9s - loss: 0.0983 - accuracy: 0.9678 "
     ]
    },
    {
     "name": "stderr",
     "output_type": "stream",
     "text": [
      "2025-01-19 12:53:56.132682: W tensorflow/core/lib/png/png_io.cc:89] PNG warning: iCCP: known incorrect sRGB profile\n"
     ]
    },
    {
     "name": "stdout",
     "output_type": "stream",
     "text": [
      "162/162 [==============================] - 62s 372ms/step - loss: 0.1030 - accuracy: 0.9659 - val_loss: 2.6213 - val_accuracy: 0.5864\n",
      "Epoch 96/100\n",
      "130/162 [=======================>......] - ETA: 10s - loss: 0.1144 - accuracy: 0.9627"
     ]
    },
    {
     "name": "stderr",
     "output_type": "stream",
     "text": [
      "2025-01-19 12:54:59.203005: W tensorflow/core/lib/png/png_io.cc:89] PNG warning: iCCP: known incorrect sRGB profile\n"
     ]
    },
    {
     "name": "stdout",
     "output_type": "stream",
     "text": [
      "162/162 [==============================] - 62s 371ms/step - loss: 0.1216 - accuracy: 0.9599 - val_loss: 2.0132 - val_accuracy: 0.6628\n",
      "Epoch 97/100\n",
      "130/162 [=======================>......] - ETA: 10s - loss: 0.1174 - accuracy: 0.9589"
     ]
    },
    {
     "name": "stderr",
     "output_type": "stream",
     "text": [
      "2025-01-19 12:56:02.195596: W tensorflow/core/lib/png/png_io.cc:89] PNG warning: iCCP: known incorrect sRGB profile\n"
     ]
    },
    {
     "name": "stdout",
     "output_type": "stream",
     "text": [
      "162/162 [==============================] - 64s 381ms/step - loss: 0.1094 - accuracy: 0.9628 - val_loss: 2.1272 - val_accuracy: 0.6535\n",
      "Epoch 98/100\n",
      "130/162 [=======================>......] - ETA: 9s - loss: 0.0926 - accuracy: 0.9714 "
     ]
    },
    {
     "name": "stderr",
     "output_type": "stream",
     "text": [
      "2025-01-19 12:57:04.181973: W tensorflow/core/lib/png/png_io.cc:89] PNG warning: iCCP: known incorrect sRGB profile\n"
     ]
    },
    {
     "name": "stdout",
     "output_type": "stream",
     "text": [
      "162/162 [==============================] - 62s 369ms/step - loss: 0.0877 - accuracy: 0.9732 - val_loss: 2.2465 - val_accuracy: 0.6435\n",
      "Epoch 99/100\n",
      "130/162 [=======================>......] - ETA: 9s - loss: 0.0828 - accuracy: 0.9750 "
     ]
    },
    {
     "name": "stderr",
     "output_type": "stream",
     "text": [
      "2025-01-19 12:58:06.872812: W tensorflow/core/lib/png/png_io.cc:89] PNG warning: iCCP: known incorrect sRGB profile\n"
     ]
    },
    {
     "name": "stdout",
     "output_type": "stream",
     "text": [
      "162/162 [==============================] - 63s 375ms/step - loss: 0.0818 - accuracy: 0.9743 - val_loss: 2.0390 - val_accuracy: 0.6481\n",
      "Epoch 100/100\n",
      "130/162 [=======================>......] - ETA: 10s - loss: 0.1009 - accuracy: 0.9659"
     ]
    },
    {
     "name": "stderr",
     "output_type": "stream",
     "text": [
      "2025-01-19 12:59:10.090095: W tensorflow/core/lib/png/png_io.cc:89] PNG warning: iCCP: known incorrect sRGB profile\n"
     ]
    },
    {
     "name": "stdout",
     "output_type": "stream",
     "text": [
      "162/162 [==============================] - 63s 378ms/step - loss: 0.1000 - accuracy: 0.9647 - val_loss: 1.8019 - val_accuracy: 0.6790\n",
      "1/1 [==============================] - 0s 100ms/step\n",
      "1/1 [==============================] - 0s 24ms/step\n",
      "1/1 [==============================] - 0s 24ms/step\n",
      "1/1 [==============================] - 0s 24ms/step\n",
      "1/1 [==============================] - 0s 20ms/step\n",
      "1/1 [==============================] - 0s 25ms/step\n",
      "1/1 [==============================] - 0s 24ms/step\n",
      "1/1 [==============================] - 0s 19ms/step\n",
      "1/1 [==============================] - 0s 23ms/step\n",
      "1/1 [==============================] - 0s 22ms/step\n",
      "1/1 [==============================] - 0s 18ms/step\n",
      "1/1 [==============================] - 0s 17ms/step\n",
      "1/1 [==============================] - 0s 18ms/step\n",
      "1/1 [==============================] - 0s 18ms/step\n",
      "1/1 [==============================] - 0s 16ms/step\n",
      "1/1 [==============================] - 0s 23ms/step\n",
      "1/1 [==============================] - 0s 24ms/step\n",
      "1/1 [==============================] - 0s 17ms/step\n",
      "1/1 [==============================] - 0s 22ms/step\n",
      "1/1 [==============================] - 0s 20ms/step\n",
      "1/1 [==============================] - 0s 19ms/step\n",
      "1/1 [==============================] - 0s 20ms/step\n",
      "1/1 [==============================] - 0s 23ms/step\n",
      "1/1 [==============================] - 0s 17ms/step\n",
      "1/1 [==============================] - 0s 17ms/step\n",
      "1/1 [==============================] - 0s 22ms/step\n",
      "1/1 [==============================] - 0s 20ms/step\n",
      "1/1 [==============================] - 0s 18ms/step\n",
      "1/1 [==============================] - 0s 20ms/step\n",
      "1/1 [==============================] - 0s 20ms/step\n",
      "1/1 [==============================] - 0s 18ms/step\n",
      "1/1 [==============================] - 0s 23ms/step\n",
      "1/1 [==============================] - 0s 22ms/step\n",
      "1/1 [==============================] - 0s 16ms/step\n",
      "1/1 [==============================] - 0s 22ms/step\n",
      "1/1 [==============================] - 0s 17ms/step\n",
      "1/1 [==============================] - 0s 16ms/step\n",
      "1/1 [==============================] - 0s 16ms/step\n",
      "1/1 [==============================] - 0s 16ms/step\n",
      "1/1 [==============================] - 0s 15ms/step\n",
      "1/1 [==============================] - 0s 64ms/step\n",
      "Confusion Matrix: \n"
     ]
    },
    {
     "name": "stderr",
     "output_type": "stream",
     "text": [
      "2025-01-19 12:59:41.058274: I tensorflow/core/framework/local_rendezvous.cc:405] Local rendezvous is aborting with status: OUT_OF_RANGE: End of sequence\n"
     ]
    },
    {
     "name": "stdout",
     "output_type": "stream",
     "text": [
      "Accuracy:  0.6790123456790124\n",
      "Test loss: 1.8018698692321777\n",
      "Test accuracy: 0.6790123581886292\n"
     ]
    },
    {
     "data": {
      "image/png": "[encoded data removed]",
      "text/plain": [
       "<Figure size 800x800 with 2 Axes>"
      ]
     },
     "metadata": {},
     "output_type": "display_data"
    },
    {
     "data": {
      "image/png": "[encoded data removed]",
      "text/plain": [
       "<Figure size 800x800 with 2 Axes>"
      ]
     },
     "metadata": {},
     "output_type": "display_data"
    }
   ],
   "source": [
    "#%%\n",
    "\n",
    "import tensorflow as tf\n",
    "import tf_keras\n",
    "import matplotlib.pyplot as plt\n",
    "import seaborn as sns\n",
    "import numpy as np\n",
    "from tf_keras import layers\n",
    "from tf_keras.models import Sequential\n",
    "from sklearn.metrics import confusion_matrix, accuracy_score\n",
    "from tf_keras.optimizers import Adam\n",
    "\n",
    "gpu_devices = tf.config.list_physical_devices('GPU')\n",
    "if gpu_devices:\n",
    "  tf.config.experimental.set_memory_growth(gpu_devices[0], True)\n",
    "  print('GPU found', gpu_devices[0])\n",
    "else:\n",
    "  print('No GPU found')\n",
    "\n",
    "#define image size\n",
    "IMG_SIZE = 224\n",
    "\n",
    "#define batch size\n",
    "BATCH_SIZE = 32\n",
    "\n",
    "#training and valdiation directories\n",
    "TRAINING_DIR = \"Train\"\n",
    "  \n",
    "#training split\n",
    "train_ds = tf_keras.utils.image_dataset_from_directory(\n",
    "  TRAINING_DIR,\n",
    "  labels = \"inferred\",\n",
    "  image_size = (IMG_SIZE, IMG_SIZE),\n",
    "  batch_size = BATCH_SIZE,\n",
    "  subset = \"training\",\n",
    "  validation_split = 0.2,\n",
    "  seed = 225\n",
    ")\n",
    "\n",
    "#validation split, taken directly from the same directory as train\n",
    "validation_ds = tf_keras.utils.image_dataset_from_directory(\n",
    "  TRAINING_DIR,\n",
    "  labels = \"inferred\",\n",
    "  image_size = (IMG_SIZE, IMG_SIZE),\n",
    "  batch_size = BATCH_SIZE,\n",
    "  subset = 'validation',\n",
    "  validation_split = 0.2,\n",
    "  seed = 225\n",
    ")\n",
    "\n",
    "CLASS_NAMES = train_ds.class_names\n",
    "\n",
    "data_augmentation = Sequential([\n",
    "  layers.experimental.preprocessing.RandomFlip('horizontal'),\n",
    "  layers.experimental.preprocessing.RandomRotation(0.2),\n",
    "  layers.experimental.preprocessing.RandomZoom(0.2) \n",
    "])\n",
    "\n",
    "def augment_images(image, label):\n",
    "  image = data_augmentation(image)\n",
    "  return image, label\n",
    "\n",
    "train_ds = train_ds.map(augment_images)\n",
    "\n",
    "AUTOTUNE = tf.data.AUTOTUNE\n",
    "train_ds = train_ds.prefetch(buffer_size = AUTOTUNE)\n",
    "val_ds = validation_ds.cache().prefetch(buffer_size = AUTOTUNE)\n",
    "\n",
    "norm_layer = layers.Rescaling(1./255)\n",
    "norm_ds = train_ds.map(lambda x, y: (norm_layer(x), y))\n",
    "image_batch, labels_batch = next(iter(norm_ds))\n",
    "\n",
    "num_classes = len(CLASS_NAMES)\n",
    "\n",
    "#training model\n",
    "model = Sequential([\n",
    "  layers.Conv2D(128, (3, 3), activation = 'relu', input_shape = (224, 224, 3)),\n",
    "  layers.MaxPooling2D(2, 2),\n",
    "  layers.Conv2D(128, (3, 3), activation = 'relu'),\n",
    "  layers.MaxPooling2D(2, 2),\n",
    "  layers.Conv2D(256, (3, 3), activation = 'relu'),\n",
    "  layers.MaxPooling2D(2, 2),\n",
    "  layers.Conv2D(256, (3, 3), activation = 'relu'),\n",
    "  layers.MaxPooling2D(2, 2),\n",
    "  layers.Conv2D(512, (3, 3), activation = 'relu'),\n",
    "  layers.MaxPooling2D(2, 2),\n",
    "  layers.Conv2D(512, (3, 3), activation = 'relu'),\n",
    "  layers.MaxPooling2D(2, 2),\n",
    "  layers.Flatten(),\n",
    "  layers.Dense(1024, activation = 'relu'),\n",
    "  layers.Dropout(0.25),\n",
    "  layers.Dense(num_classes, activation = 'softmax')\n",
    "])\n",
    "\n",
    "model.compile(optimizer = Adam(learning_rate = 0.0001, weight_decay = 1e-6), \n",
    "              loss = tf_keras.losses.SparseCategoricalCrossentropy(from_logits = True), \n",
    "              metrics = ['accuracy'])\n",
    "\n",
    "#no of epochs\n",
    "epochs = 100\n",
    "\n",
    "'''\n",
    "#early stopping\n",
    "early_stopping = tf_keras.callbacks.EarlyStopping(monitor = 'val_loss', \n",
    "                                                  mode = 'min', \n",
    "                                                  verbose = 1, \n",
    "                                                  patience = 8, \n",
    "                                                  restore_best_weights = True)\n",
    "'''\n",
    "\n",
    "#fitting of the model\n",
    "history = model.fit(train_ds, \n",
    "                    validation_data = validation_ds, \n",
    "                    epochs = epochs, \n",
    "                    #callbacks = [early_stopping]\n",
    "                    )\n",
    "\n",
    "#accuracy and loss values\n",
    "accuracy = history.history['accuracy']\n",
    "val_accuracy = history.history[('val_accuracy')]\n",
    "\n",
    "loss = history.history['loss']\n",
    "val_loss = history.history['val_loss']\n",
    "\n",
    "epochs_range = range(epochs)\n",
    "\n",
    "true_labels = []\n",
    "predicted_labels = []\n",
    "\n",
    "for images, labels in val_ds:\n",
    "  true_labels.extend(labels.numpy())\n",
    "  pred = model.predict(images)\n",
    "  predicted_labels.extend(np.argmax(pred, axis = 1))\n",
    "\n",
    "confusion_matrix = confusion_matrix(true_labels, predicted_labels)\n",
    "accuracy = accuracy_score(true_labels, predicted_labels)\n",
    "\n",
    "print('Confusion Matrix: ')\n",
    "plt.figure(figsize=(8, 8))\n",
    "sns.heatmap(confusion_matrix, annot = True, fmt = 'd', xticklabels = CLASS_NAMES, yticklabels = CLASS_NAMES, cmap = 'Blues')\n",
    "plt.xlabel('Predicted')\n",
    "plt.ylabel('True')\n",
    "plt.title('Confusion Matrix')\n",
    "\n",
    "print('Accuracy: ', accuracy)\n",
    "\n",
    "score = model.evaluate(validation_ds, verbose = 0)\n",
    "print('Test loss:', score[0])\n",
    "print('Test accuracy:', score[1])\n",
    "\n",
    "plt.figure(figsize = (8, 8))\n",
    "plt.subplot(1, 2, 1)\n",
    "plt.plot(accuracy, label = 'Training Accuracy')\n",
    "plt.plot(val_accuracy, label = 'Validation Accuracy')\n",
    "plt.legend(loc = 'lower right')\n",
    "plt.title('Training and Validation Accuracy')\n",
    "\n",
    "plt.subplot(1, 2, 2)\n",
    "plt.plot(loss, label = 'Training Loss')\n",
    "plt.plot(val_loss, label = 'Validation Loss')\n",
    "plt.legend(loc = 'upper right')\n",
    "plt.title('Training and Validation Loss')\n",
    "plt.show()"
   ]
  },
  {
   "cell_type": "code",
   "execution_count": null,
   "id": "e4801b6b-54d1-457c-971e-22c846fec7ec",
   "metadata": {},
   "outputs": [
    {
     "name": "stdout",
     "output_type": "stream",
     "text": [
      "GPU found PhysicalDevice(name='/physical_device:GPU:0', device_type='GPU')\n",
      "Found 6480 files belonging to 10 classes.\n",
      "Using 5184 files for training.\n",
      "Found 6480 files belonging to 10 classes.\n",
      "Using 1296 files for validation.\n",
      "Epoch 1/100\n"
     ]
    },
    {
     "name": "stderr",
     "output_type": "stream",
     "text": [
      "/home/adiicmp/GitHub Repos/Python/.venv/lib/python3.12/site-packages/tf_keras/src/backend.py:5729: UserWarning: \"`sparse_categorical_crossentropy` received `from_logits=True`, but the `output` argument was produced by a Softmax activation and thus does not represent logits. Was this intended?\n",
      "  output, from_logits = _get_logits(\n"
     ]
    },
    {
     "name": "stdout",
     "output_type": "stream",
     "text": [
      "130/162 [=======================>......] - ETA: 10s - loss: 8.2101 - accuracy: 0.2089"
     ]
    },
    {
     "name": "stderr",
     "output_type": "stream",
     "text": [
      "2025-01-19 13:57:11.577156: W tensorflow/core/lib/png/png_io.cc:89] PNG warning: iCCP: known incorrect sRGB profile\n"
     ]
    },
    {
     "name": "stdout",
     "output_type": "stream",
     "text": [
      "162/162 [==============================] - 69s 403ms/step - loss: 7.9462 - accuracy: 0.2294 - val_loss: 6.8196 - val_accuracy: 0.2755\n",
      "Epoch 2/100\n",
      "130/162 [=======================>......] - ETA: 10s - loss: 6.0981 - accuracy: 0.3315"
     ]
    },
    {
     "name": "stderr",
     "output_type": "stream",
     "text": [
      "2025-01-19 13:58:19.964945: W tensorflow/core/lib/png/png_io.cc:89] PNG warning: iCCP: known incorrect sRGB profile\n"
     ]
    },
    {
     "name": "stdout",
     "output_type": "stream",
     "text": [
      "162/162 [==============================] - 68s 407ms/step - loss: 5.9595 - accuracy: 0.3405 - val_loss: 5.2908 - val_accuracy: 0.3796\n",
      "Epoch 3/100\n",
      "130/162 [=======================>......] - ETA: 10s - loss: 4.9670 - accuracy: 0.3837"
     ]
    },
    {
     "name": "stderr",
     "output_type": "stream",
     "text": [
      "2025-01-19 13:59:27.583013: W tensorflow/core/lib/png/png_io.cc:89] PNG warning: iCCP: known incorrect sRGB profile\n"
     ]
    },
    {
     "name": "stdout",
     "output_type": "stream",
     "text": [
      "162/162 [==============================] - 68s 405ms/step - loss: 4.8997 - accuracy: 0.3856 - val_loss: 4.5405 - val_accuracy: 0.3943\n",
      "Epoch 4/100\n",
      "130/162 [=======================>......] - ETA: 11s - loss: 4.2552 - accuracy: 0.4118"
     ]
    },
    {
     "name": "stderr",
     "output_type": "stream",
     "text": [
      "2025-01-19 14:00:36.754286: W tensorflow/core/lib/png/png_io.cc:89] PNG warning: iCCP: known incorrect sRGB profile\n"
     ]
    },
    {
     "name": "stdout",
     "output_type": "stream",
     "text": [
      "162/162 [==============================] - 69s 415ms/step - loss: 4.2027 - accuracy: 0.4117 - val_loss: 3.9193 - val_accuracy: 0.4514\n",
      "Epoch 5/100\n",
      "130/162 [=======================>......] - ETA: 10s - loss: 3.7411 - accuracy: 0.4534"
     ]
    },
    {
     "name": "stderr",
     "output_type": "stream",
     "text": [
      "2025-01-19 14:01:43.820060: W tensorflow/core/lib/png/png_io.cc:89] PNG warning: iCCP: known incorrect sRGB profile\n"
     ]
    },
    {
     "name": "stdout",
     "output_type": "stream",
     "text": [
      "162/162 [==============================] - 67s 402ms/step - loss: 3.6977 - accuracy: 0.4562 - val_loss: 3.4762 - val_accuracy: 0.4761\n",
      "Epoch 6/100\n",
      "130/162 [=======================>......] - ETA: 10s - loss: 3.3708 - accuracy: 0.4644"
     ]
    },
    {
     "name": "stderr",
     "output_type": "stream",
     "text": [
      "2025-01-19 14:02:51.950068: W tensorflow/core/lib/png/png_io.cc:89] PNG warning: iCCP: known incorrect sRGB profile\n"
     ]
    },
    {
     "name": "stdout",
     "output_type": "stream",
     "text": [
      "162/162 [==============================] - 68s 406ms/step - loss: 3.3369 - accuracy: 0.4668 - val_loss: 3.2211 - val_accuracy: 0.4560\n",
      "Epoch 7/100\n",
      "130/162 [=======================>......] - ETA: 10s - loss: 3.0636 - accuracy: 0.4805"
     ]
    },
    {
     "name": "stderr",
     "output_type": "stream",
     "text": [
      "2025-01-19 14:04:00.151638: W tensorflow/core/lib/png/png_io.cc:89] PNG warning: iCCP: known incorrect sRGB profile\n"
     ]
    },
    {
     "name": "stdout",
     "output_type": "stream",
     "text": [
      "162/162 [==============================] - 69s 410ms/step - loss: 3.0264 - accuracy: 0.4875 - val_loss: 2.9588 - val_accuracy: 0.4776\n",
      "Epoch 8/100\n",
      "130/162 [=======================>......] - ETA: 10s - loss: 2.8270 - accuracy: 0.4986"
     ]
    },
    {
     "name": "stderr",
     "output_type": "stream",
     "text": [
      "2025-01-19 14:05:08.693387: W tensorflow/core/lib/png/png_io.cc:89] PNG warning: iCCP: known incorrect sRGB profile\n"
     ]
    },
    {
     "name": "stdout",
     "output_type": "stream",
     "text": [
      "162/162 [==============================] - 68s 408ms/step - loss: 2.7988 - accuracy: 0.5027 - val_loss: 3.0041 - val_accuracy: 0.4244\n",
      "Epoch 9/100\n",
      "130/162 [=======================>......] - ETA: 10s - loss: 2.5583 - accuracy: 0.5308"
     ]
    },
    {
     "name": "stderr",
     "output_type": "stream",
     "text": [
      "2025-01-19 14:06:16.057546: W tensorflow/core/lib/png/png_io.cc:89] PNG warning: iCCP: known incorrect sRGB profile\n"
     ]
    },
    {
     "name": "stdout",
     "output_type": "stream",
     "text": [
      "162/162 [==============================] - 67s 403ms/step - loss: 2.5282 - accuracy: 0.5374 - val_loss: 2.6195 - val_accuracy: 0.4977\n",
      "Epoch 10/100\n",
      "130/162 [=======================>......] - ETA: 11s - loss: 2.3956 - accuracy: 0.5442"
     ]
    },
    {
     "name": "stderr",
     "output_type": "stream",
     "text": [
      "2025-01-19 14:07:24.852217: W tensorflow/core/lib/png/png_io.cc:89] PNG warning: iCCP: known incorrect sRGB profile\n"
     ]
    },
    {
     "name": "stdout",
     "output_type": "stream",
     "text": [
      "162/162 [==============================] - 68s 409ms/step - loss: 2.3756 - accuracy: 0.5422 - val_loss: 2.6425 - val_accuracy: 0.4529\n",
      "Epoch 11/100\n",
      "130/162 [=======================>......] - ETA: 11s - loss: 2.2197 - accuracy: 0.5707"
     ]
    },
    {
     "name": "stderr",
     "output_type": "stream",
     "text": [
      "2025-01-19 14:08:33.209494: W tensorflow/core/lib/png/png_io.cc:89] PNG warning: iCCP: known incorrect sRGB profile\n"
     ]
    },
    {
     "name": "stdout",
     "output_type": "stream",
     "text": [
      "162/162 [==============================] - 68s 406ms/step - loss: 2.1961 - accuracy: 0.5714 - val_loss: 2.3357 - val_accuracy: 0.5023\n",
      "Epoch 12/100\n",
      "130/162 [=======================>......] - ETA: 10s - loss: 2.0372 - accuracy: 0.5935"
     ]
    },
    {
     "name": "stderr",
     "output_type": "stream",
     "text": [
      "2025-01-19 14:09:39.171191: W tensorflow/core/lib/png/png_io.cc:89] PNG warning: iCCP: known incorrect sRGB profile\n"
     ]
    },
    {
     "name": "stdout",
     "output_type": "stream",
     "text": [
      "162/162 [==============================] - 66s 396ms/step - loss: 2.0122 - accuracy: 0.5970 - val_loss: 2.1998 - val_accuracy: 0.5363\n",
      "Epoch 13/100\n",
      "130/162 [=======================>......] - ETA: 10s - loss: 1.8962 - accuracy: 0.6115"
     ]
    },
    {
     "name": "stderr",
     "output_type": "stream",
     "text": [
      "2025-01-19 14:10:45.664156: W tensorflow/core/lib/png/png_io.cc:89] PNG warning: iCCP: known incorrect sRGB profile\n"
     ]
    },
    {
     "name": "stdout",
     "output_type": "stream",
     "text": [
      "162/162 [==============================] - 67s 399ms/step - loss: 1.8779 - accuracy: 0.6115 - val_loss: 2.1206 - val_accuracy: 0.5378\n",
      "Epoch 14/100\n",
      "130/162 [=======================>......] - ETA: 10s - loss: 1.7696 - accuracy: 0.6236"
     ]
    },
    {
     "name": "stderr",
     "output_type": "stream",
     "text": [
      "2025-01-19 14:11:52.046075: W tensorflow/core/lib/png/png_io.cc:89] PNG warning: iCCP: known incorrect sRGB profile\n"
     ]
    },
    {
     "name": "stdout",
     "output_type": "stream",
     "text": [
      "162/162 [==============================] - 65s 391ms/step - loss: 1.7621 - accuracy: 0.6254 - val_loss: 1.9696 - val_accuracy: 0.5509\n",
      "Epoch 15/100\n",
      "130/162 [=======================>......] - ETA: 10s - loss: 1.6701 - accuracy: 0.6337"
     ]
    },
    {
     "name": "stderr",
     "output_type": "stream",
     "text": [
      "2025-01-19 14:12:58.391057: W tensorflow/core/lib/png/png_io.cc:89] PNG warning: iCCP: known incorrect sRGB profile\n"
     ]
    },
    {
     "name": "stdout",
     "output_type": "stream",
     "text": [
      "162/162 [==============================] - 67s 404ms/step - loss: 1.6609 - accuracy: 0.6358 - val_loss: 1.8180 - val_accuracy: 0.5849\n",
      "Epoch 16/100\n",
      "130/162 [=======================>......] - ETA: 10s - loss: 1.5671 - accuracy: 0.6495"
     ]
    },
    {
     "name": "stderr",
     "output_type": "stream",
     "text": [
      "2025-01-19 14:14:06.727153: W tensorflow/core/lib/png/png_io.cc:89] PNG warning: iCCP: known incorrect sRGB profile\n"
     ]
    },
    {
     "name": "stdout",
     "output_type": "stream",
     "text": [
      "162/162 [==============================] - 68s 408ms/step - loss: 1.5599 - accuracy: 0.6545 - val_loss: 1.9457 - val_accuracy: 0.5370\n",
      "Epoch 17/100\n",
      "130/162 [=======================>......] - ETA: 10s - loss: 1.4869 - accuracy: 0.6659"
     ]
    },
    {
     "name": "stderr",
     "output_type": "stream",
     "text": [
      "2025-01-19 14:15:13.217466: W tensorflow/core/lib/png/png_io.cc:89] PNG warning: iCCP: known incorrect sRGB profile\n"
     ]
    },
    {
     "name": "stdout",
     "output_type": "stream",
     "text": [
      "162/162 [==============================] - 66s 395ms/step - loss: 1.4681 - accuracy: 0.6688 - val_loss: 1.7947 - val_accuracy: 0.5918\n",
      "Epoch 18/100\n",
      "130/162 [=======================>......] - ETA: 10s - loss: 1.3895 - accuracy: 0.6829"
     ]
    },
    {
     "name": "stderr",
     "output_type": "stream",
     "text": [
      "2025-01-19 14:16:19.277781: W tensorflow/core/lib/png/png_io.cc:89] PNG warning: iCCP: known incorrect sRGB profile\n"
     ]
    },
    {
     "name": "stdout",
     "output_type": "stream",
     "text": [
      "162/162 [==============================] - 66s 397ms/step - loss: 1.3705 - accuracy: 0.6861 - val_loss: 1.7630 - val_accuracy: 0.5957\n",
      "Epoch 19/100\n",
      "130/162 [=======================>......] - ETA: 11s - loss: 1.3445 - accuracy: 0.6803"
     ]
    },
    {
     "name": "stderr",
     "output_type": "stream",
     "text": [
      "2025-01-19 14:17:28.040877: W tensorflow/core/lib/png/png_io.cc:89] PNG warning: iCCP: known incorrect sRGB profile\n"
     ]
    },
    {
     "name": "stdout",
     "output_type": "stream",
     "text": [
      "162/162 [==============================] - 69s 413ms/step - loss: 1.3220 - accuracy: 0.6881 - val_loss: 1.6354 - val_accuracy: 0.6111\n",
      "Epoch 20/100\n",
      "130/162 [=======================>......] - ETA: 11s - loss: 1.2277 - accuracy: 0.7180"
     ]
    },
    {
     "name": "stderr",
     "output_type": "stream",
     "text": [
      "2025-01-19 14:18:38.295581: W tensorflow/core/lib/png/png_io.cc:89] PNG warning: iCCP: known incorrect sRGB profile\n"
     ]
    },
    {
     "name": "stdout",
     "output_type": "stream",
     "text": [
      "162/162 [==============================] - 70s 420ms/step - loss: 1.2167 - accuracy: 0.7195 - val_loss: 1.7390 - val_accuracy: 0.5818\n",
      "Epoch 21/100\n",
      "130/162 [=======================>......] - ETA: 10s - loss: 1.1869 - accuracy: 0.7228"
     ]
    },
    {
     "name": "stderr",
     "output_type": "stream",
     "text": [
      "2025-01-19 14:19:46.347041: W tensorflow/core/lib/png/png_io.cc:89] PNG warning: iCCP: known incorrect sRGB profile\n"
     ]
    },
    {
     "name": "stdout",
     "output_type": "stream",
     "text": [
      "162/162 [==============================] - 68s 405ms/step - loss: 1.1724 - accuracy: 0.7243 - val_loss: 1.6947 - val_accuracy: 0.5895\n",
      "Epoch 22/100\n",
      "130/162 [=======================>......] - ETA: 11s - loss: 1.0981 - accuracy: 0.7423"
     ]
    },
    {
     "name": "stderr",
     "output_type": "stream",
     "text": [
      "2025-01-19 14:20:55.529431: W tensorflow/core/lib/png/png_io.cc:89] PNG warning: iCCP: known incorrect sRGB profile\n"
     ]
    },
    {
     "name": "stdout",
     "output_type": "stream",
     "text": [
      "162/162 [==============================] - 69s 415ms/step - loss: 1.0863 - accuracy: 0.7440 - val_loss: 1.6931 - val_accuracy: 0.5872\n",
      "Epoch 23/100\n",
      "130/162 [=======================>......] - ETA: 11s - loss: 1.0547 - accuracy: 0.7524"
     ]
    },
    {
     "name": "stderr",
     "output_type": "stream",
     "text": [
      "2025-01-19 14:22:03.842142: W tensorflow/core/lib/png/png_io.cc:89] PNG warning: iCCP: known incorrect sRGB profile\n"
     ]
    },
    {
     "name": "stdout",
     "output_type": "stream",
     "text": [
      "162/162 [==============================] - 69s 411ms/step - loss: 1.0553 - accuracy: 0.7490 - val_loss: 1.6827 - val_accuracy: 0.6003\n",
      "Epoch 24/100\n",
      "130/162 [=======================>......] - ETA: 10s - loss: 1.0080 - accuracy: 0.7517"
     ]
    },
    {
     "name": "stderr",
     "output_type": "stream",
     "text": [
      "2025-01-19 14:23:11.328685: W tensorflow/core/lib/png/png_io.cc:89] PNG warning: iCCP: known incorrect sRGB profile\n"
     ]
    },
    {
     "name": "stdout",
     "output_type": "stream",
     "text": [
      "162/162 [==============================] - 68s 404ms/step - loss: 1.0067 - accuracy: 0.7517 - val_loss: 1.6702 - val_accuracy: 0.5988\n",
      "Epoch 25/100\n",
      "130/162 [=======================>......] - ETA: 11s - loss: 0.9621 - accuracy: 0.7692"
     ]
    },
    {
     "name": "stderr",
     "output_type": "stream",
     "text": [
      "2025-01-19 14:24:21.587579: W tensorflow/core/lib/png/png_io.cc:89] PNG warning: iCCP: known incorrect sRGB profile\n"
     ]
    },
    {
     "name": "stdout",
     "output_type": "stream",
     "text": [
      "162/162 [==============================] - 71s 427ms/step - loss: 0.9482 - accuracy: 0.7720 - val_loss: 1.9259 - val_accuracy: 0.5424\n",
      "Epoch 26/100\n",
      "130/162 [=======================>......] - ETA: 10s - loss: 0.9220 - accuracy: 0.7716"
     ]
    },
    {
     "name": "stderr",
     "output_type": "stream",
     "text": [
      "2025-01-19 14:25:30.224604: W tensorflow/core/lib/png/png_io.cc:89] PNG warning: iCCP: known incorrect sRGB profile\n"
     ]
    },
    {
     "name": "stdout",
     "output_type": "stream",
     "text": [
      "162/162 [==============================] - 66s 395ms/step - loss: 0.9010 - accuracy: 0.7816 - val_loss: 1.7637 - val_accuracy: 0.5941\n",
      "Epoch 27/100\n",
      "130/162 [=======================>......] - ETA: 10s - loss: 0.8696 - accuracy: 0.7841"
     ]
    },
    {
     "name": "stderr",
     "output_type": "stream",
     "text": [
      "2025-01-19 14:26:36.299207: W tensorflow/core/lib/png/png_io.cc:89] PNG warning: iCCP: known incorrect sRGB profile\n"
     ]
    },
    {
     "name": "stdout",
     "output_type": "stream",
     "text": [
      "162/162 [==============================] - 67s 398ms/step - loss: 0.8662 - accuracy: 0.7870 - val_loss: 1.6787 - val_accuracy: 0.6026\n",
      "Epoch 27: early stopping\n",
      "Restoring model weights from the end of the best epoch: 19.\n",
      "1/1 [==============================] - 0s 87ms/step\n",
      "1/1 [==============================] - 0s 18ms/step\n",
      "1/1 [==============================] - 0s 25ms/step\n",
      "1/1 [==============================] - 0s 22ms/step\n",
      "1/1 [==============================] - 0s 19ms/step\n",
      "1/1 [==============================] - 0s 24ms/step\n",
      "1/1 [==============================] - 0s 30ms/step\n",
      "1/1 [==============================] - 0s 36ms/step\n",
      "1/1 [==============================] - 0s 24ms/step\n",
      "1/1 [==============================] - 0s 20ms/step\n",
      "1/1 [==============================] - 0s 18ms/step\n",
      "1/1 [==============================] - 0s 24ms/step\n",
      "1/1 [==============================] - 0s 18ms/step\n",
      "1/1 [==============================] - 0s 18ms/step\n",
      "1/1 [==============================] - 0s 23ms/step\n",
      "1/1 [==============================] - 0s 18ms/step\n",
      "1/1 [==============================] - 0s 24ms/step\n",
      "1/1 [==============================] - 0s 17ms/step\n",
      "1/1 [==============================] - 0s 19ms/step\n",
      "1/1 [==============================] - 0s 25ms/step\n",
      "1/1 [==============================] - 0s 23ms/step\n",
      "1/1 [==============================] - 0s 27ms/step\n",
      "1/1 [==============================] - 0s 25ms/step\n",
      "1/1 [==============================] - 0s 18ms/step\n",
      "1/1 [==============================] - 0s 25ms/step\n",
      "1/1 [==============================] - 0s 22ms/step\n",
      "1/1 [==============================] - 0s 22ms/step\n",
      "1/1 [==============================] - 0s 17ms/step\n",
      "1/1 [==============================] - 0s 26ms/step\n",
      "1/1 [==============================] - 0s 23ms/step\n",
      "1/1 [==============================] - 0s 18ms/step\n",
      "1/1 [==============================] - 0s 34ms/step\n",
      "1/1 [==============================] - 0s 18ms/step\n",
      "1/1 [==============================] - 0s 17ms/step\n",
      "1/1 [==============================] - 0s 17ms/step\n",
      "1/1 [==============================] - 0s 17ms/step\n",
      "1/1 [==============================] - 0s 24ms/step\n",
      "1/1 [==============================] - 0s 18ms/step\n",
      "1/1 [==============================] - 0s 23ms/step\n",
      "1/1 [==============================] - 0s 17ms/step\n",
      "1/1 [==============================] - 0s 64ms/step\n",
      "Confusion Matrix: \n"
     ]
    },
    {
     "name": "stderr",
     "output_type": "stream",
     "text": [
      "2025-01-19 14:27:08.784293: I tensorflow/core/framework/local_rendezvous.cc:405] Local rendezvous is aborting with status: OUT_OF_RANGE: End of sequence\n"
     ]
    },
    {
     "name": "stdout",
     "output_type": "stream",
     "text": [
      "Validation loss: 1.6354490518569946\n",
      "Validation accuracy: 0.6111111044883728\n"
     ]
    },
    {
     "data": {
      "image/png": "[encoded data removed]",
      "text/plain": [
       "<Figure size 800x800 with 2 Axes>"
      ]
     },
     "metadata": {},
     "output_type": "display_data"
    },
    {
     "data": {
      "image/png": "[encoded data removed]",
      "text/plain": [
       "<Figure size 800x800 with 2 Axes>"
      ]
     },
     "metadata": {},
     "output_type": "display_data"
    }
   ],
   "source": [
    "#%%\n",
    "\n",
    "import tensorflow as tf\n",
    "import tf_keras\n",
    "import matplotlib.pyplot as plt\n",
    "import seaborn as sns\n",
    "import numpy as np\n",
    "from tf_keras import layers\n",
    "from tf_keras.models import Sequential\n",
    "from sklearn.metrics import confusion_matrix\n",
    "from tf_keras.optimizers import Adam\n",
    "from tf_keras.regularizers import l2\n",
    "\n",
    "gpu_devices = tf.config.list_physical_devices('GPU')\n",
    "if gpu_devices:\n",
    "  tf.config.experimental.set_memory_growth(gpu_devices[0], True)\n",
    "  print('GPU found', gpu_devices[0])\n",
    "else:\n",
    "  print('No GPU found')\n",
    "\n",
    "#define image size\n",
    "IMG_SIZE = 224\n",
    "\n",
    "#define batch size\n",
    "BATCH_SIZE = 32\n",
    "\n",
    "#training and valdiation directories\n",
    "TRAINING_DIR = \"Train\"\n",
    "  \n",
    "#training split\n",
    "train_ds = tf_keras.utils.image_dataset_from_directory(\n",
    "  TRAINING_DIR,\n",
    "  labels = \"inferred\",\n",
    "  image_size = (IMG_SIZE, IMG_SIZE),\n",
    "  batch_size = BATCH_SIZE,\n",
    "  subset = \"training\",\n",
    "  validation_split = 0.2,\n",
    "  seed = 225\n",
    ")\n",
    "\n",
    "#validation split, taken directly from the same directory as train\n",
    "validation_ds = tf_keras.utils.image_dataset_from_directory(\n",
    "  TRAINING_DIR,\n",
    "  labels = \"inferred\",\n",
    "  image_size = (IMG_SIZE, IMG_SIZE),\n",
    "  batch_size = BATCH_SIZE,\n",
    "  subset = 'validation',\n",
    "  validation_split = 0.2,\n",
    "  seed = 225\n",
    ")\n",
    "\n",
    "CLASS_NAMES = train_ds.class_names\n",
    "\n",
    "data_augmentation = Sequential([\n",
    "  layers.experimental.preprocessing.RandomFlip('horizontal'),\n",
    "  layers.experimental.preprocessing.RandomRotation(0.2),\n",
    "  layers.experimental.preprocessing.RandomZoom(0.2) \n",
    "])\n",
    "\n",
    "def augment_images(image, label):\n",
    "  image = data_augmentation(image)\n",
    "  return image, label\n",
    "\n",
    "train_ds = train_ds.map(augment_images)\n",
    "\n",
    "AUTOTUNE = tf.data.AUTOTUNE\n",
    "train_ds = train_ds.prefetch(buffer_size = AUTOTUNE)\n",
    "val_ds = validation_ds.cache().prefetch(buffer_size = AUTOTUNE)\n",
    "\n",
    "norm_layer = layers.Rescaling(1./255)\n",
    "norm_ds = train_ds.map(lambda x, y: (norm_layer(x), y))\n",
    "image_batch, labels_batch = next(iter(norm_ds))\n",
    "\n",
    "num_classes = len(CLASS_NAMES)\n",
    "\n",
    "#training model\n",
    "model = Sequential([\n",
    "  layers.Conv2D(128, (3, 3), activation = 'relu', input_shape = (224, 224, 3)),\n",
    "  layers.MaxPooling2D(2, 2),\n",
    "  layers.Conv2D(128, (3, 3), activation = 'relu'),\n",
    "  layers.MaxPooling2D(2, 2),\n",
    "  layers.Conv2D(256, (3, 3), activation = 'relu'),\n",
    "  layers.MaxPooling2D(2, 2),\n",
    "  layers.Conv2D(256, (3, 3), activation = 'relu'),\n",
    "  layers.MaxPooling2D(2, 2),\n",
    "  layers.Conv2D(512, (3, 3), activation = 'relu'),\n",
    "  layers.MaxPooling2D(2, 2),\n",
    "  layers.Conv2D(512, (3, 3), activation = 'relu'),\n",
    "  layers.MaxPooling2D(2, 2),\n",
    "  layers.Flatten(),\n",
    "  layers.Dense(1024, activation = 'relu', kernel_regularizer = l2(0.01)),\n",
    "  layers.Dropout(0.25),\n",
    "  layers.Dense(num_classes, activation = 'softmax')\n",
    "])\n",
    "\n",
    "model.compile(optimizer = Adam(learning_rate = 0.0001, weight_decay = 1e-6), \n",
    "              loss = tf_keras.losses.SparseCategoricalCrossentropy(from_logits = True), \n",
    "              metrics = ['accuracy'])\n",
    "\n",
    "#no of epochs\n",
    "epochs = 100\n",
    "\n",
    "\n",
    "#early stopping\n",
    "early_stopping = tf_keras.callbacks.EarlyStopping(monitor = 'val_loss', \n",
    "                                                  mode = 'min', \n",
    "                                                  verbose = 1, \n",
    "                                                  patience = 8, \n",
    "                                                  restore_best_weights = True)\n",
    "\n",
    "\n",
    "#fitting of the model\n",
    "history = model.fit(train_ds, \n",
    "                    validation_data = validation_ds, \n",
    "                    epochs = epochs, \n",
    "                    callbacks = [early_stopping])\n",
    "\n",
    "#accuracy and loss values\n",
    "accuracy = history.history['accuracy']\n",
    "val_accuracy = history.history['val_accuracy']\n",
    "\n",
    "loss = history.history['loss']\n",
    "val_loss = history.history['val_loss']\n",
    "\n",
    "epochs_range = range(epochs)\n",
    "\n",
    "true_labels = []\n",
    "predicted_labels = []\n",
    "\n",
    "for images, labels in val_ds:\n",
    "  true_labels.extend(labels.numpy())\n",
    "  pred = model.predict(images)\n",
    "  predicted_labels.extend(np.argmax(pred, axis = 1))\n",
    "\n",
    "confusion_matrix = confusion_matrix(true_labels, predicted_labels)\n",
    "\n",
    "print('Confusion Matrix: ')\n",
    "plt.figure(figsize=(8, 8))\n",
    "sns.heatmap(confusion_matrix, annot = True, fmt = 'd', xticklabels = CLASS_NAMES, yticklabels = CLASS_NAMES, cmap = 'Blues')\n",
    "plt.xlabel('Predicted')\n",
    "plt.ylabel('True')\n",
    "plt.title('Confusion Matrix')\n",
    "\n",
    "\n",
    "score = model.evaluate(validation_ds, verbose = 0)\n",
    "print('Validation loss:', score[0])\n",
    "print('Validation accuracy:', score[1])\n",
    "\n",
    "plt.figure(figsize = (8, 8))\n",
    "plt.subplot(1, 2, 1)\n",
    "plt.plot(accuracy, label = 'Training Accuracy')\n",
    "plt.plot(val_accuracy, label = 'Validation Accuracy')\n",
    "plt.legend(loc = 'lower right')\n",
    "plt.title('Training and Validation Accuracy')\n",
    "\n",
    "plt.subplot(1, 2, 2)\n",
    "plt.plot(loss, label = 'Training Loss')\n",
    "plt.plot(val_loss, label = 'Validation Loss')\n",
    "plt.legend(loc = 'upper right')\n",
    "plt.title('Training and Validation Loss')\n",
    "plt.show()"
   ]
  }
 ],
 "metadata": {
  "language_info": {
   "codemirror_mode": {
    "name": "ipython",
    "version": 3
   },
   "file_extension": ".py",
   "mimetype": "text/x-python",
   "name": "python",
   "nbconvert_exporter": "python",
   "pygments_lexer": "ipython3",
   "version": 3
  }
 },
 "nbformat": 4,
 "nbformat_minor": 2
}
