{
 "cells": [
  {
   "cell_type": "code",
   "execution_count": null,
   "id": "242b77b0-6cc5-46db-a213-194e4fc39270",
   "metadata": {},
   "outputs": [
    {
     "name": "stderr",
     "output_type": "stream",
     "text": [
      "2025-01-19 18:17:38.412920: E external/local_xla/xla/stream_executor/cuda/cuda_fft.cc:477] Unable to register cuFFT factory: Attempting to register factory for plugin cuFFT when one has already been registered\n",
      "WARNING: All log messages before absl::InitializeLog() is called are written to STDERR\n",
      "E0000 00:00:1737303458.427861   86644 cuda_dnn.cc:8310] Unable to register cuDNN factory: Attempting to register factory for plugin cuDNN when one has already been registered\n",
      "E0000 00:00:1737303458.432384   86644 cuda_blas.cc:1418] Unable to register cuBLAS factory: Attempting to register factory for plugin cuBLAS when one has already been registered\n",
      "2025-01-19 18:17:38.447713: I tensorflow/core/platform/cpu_feature_guard.cc:210] This TensorFlow binary is optimized to use available CPU instructions in performance-critical operations.\n",
      "To enable the following instructions: AVX2 FMA, in other operations, rebuild TensorFlow with the appropriate compiler flags.\n"
     ]
    },
    {
     "name": "stdout",
     "output_type": "stream",
     "text": [
      "GPU found PhysicalDevice(name='/physical_device:GPU:0', device_type='GPU')\n",
      "Found 6480 files belonging to 10 classes.\n",
      "Using 4860 files for training.\n"
     ]
    },
    {
     "name": "stderr",
     "output_type": "stream",
     "text": [
      "I0000 00:00:1737303460.935228   86644 gpu_device.cc:2022] Created device /job:localhost/replica:0/task:0/device:GPU:0 with 4796 MB memory:  -> device: 0, name: NVIDIA GeForce GTX 1060 6GB, pci bus id: 0000:01:00.0, compute capability: 6.1\n"
     ]
    },
    {
     "name": "stdout",
     "output_type": "stream",
     "text": [
      "Found 6480 files belonging to 10 classes.\n",
      "Using 1620 files for validation.\n",
      "Model: \"sequential_1\"\n",
      "_________________________________________________________________\n",
      " Layer (type)                Output Shape              Param #   \n",
      "=================================================================\n",
      " conv2d (Conv2D)             (None, 222, 222, 128)     3584      \n",
      "                                                                 \n",
      " batch_normalization (Batch  (None, 222, 222, 128)     512       \n",
      " Normalization)                                                  \n",
      "                                                                 \n",
      " max_pooling2d (MaxPooling2  (None, 111, 111, 128)     0         \n",
      " D)                                                              \n",
      "                                                                 \n",
      " conv2d_1 (Conv2D)           (None, 109, 109, 128)     147584    \n",
      "                                                                 \n",
      " batch_normalization_1 (Bat  (None, 109, 109, 128)     512       \n",
      " chNormalization)                                                \n",
      "                                                                 \n",
      " max_pooling2d_1 (MaxPoolin  (None, 54, 54, 128)       0         \n",
      " g2D)                                                            \n",
      "                                                                 \n",
      " conv2d_2 (Conv2D)           (None, 52, 52, 256)       295168    \n",
      "                                                                 \n",
      " batch_normalization_2 (Bat  (None, 52, 52, 256)       1024      \n",
      " chNormalization)                                                \n",
      "                                                                 \n",
      " max_pooling2d_2 (MaxPoolin  (None, 26, 26, 256)       0         \n",
      " g2D)                                                            \n",
      "                                                                 \n",
      " conv2d_3 (Conv2D)           (None, 24, 24, 256)       590080    \n",
      "                                                                 \n",
      " batch_normalization_3 (Bat  (None, 24, 24, 256)       1024      \n",
      " chNormalization)                                                \n",
      "                                                                 \n",
      " max_pooling2d_3 (MaxPoolin  (None, 12, 12, 256)       0         \n",
      " g2D)                                                            \n",
      "                                                                 \n",
      " conv2d_4 (Conv2D)           (None, 10, 10, 512)       1180160   \n",
      "                                                                 \n",
      " batch_normalization_4 (Bat  (None, 10, 10, 512)       2048      \n",
      " chNormalization)                                                \n",
      "                                                                 \n",
      " max_pooling2d_4 (MaxPoolin  (None, 5, 5, 512)         0         \n",
      " g2D)                                                            \n",
      "                                                                 \n",
      " conv2d_5 (Conv2D)           (None, 3, 3, 512)         2359808   \n",
      "                                                                 \n",
      " batch_normalization_5 (Bat  (None, 3, 3, 512)         2048      \n",
      " chNormalization)                                                \n",
      "                                                                 \n",
      " max_pooling2d_5 (MaxPoolin  (None, 1, 1, 512)         0         \n",
      " g2D)                                                            \n",
      "                                                                 \n",
      " flatten (Flatten)           (None, 512)               0         \n",
      "                                                                 \n",
      " dense (Dense)               (None, 512)               262656    \n",
      "                                                                 \n",
      " dropout (Dropout)           (None, 512)               0         \n",
      "                                                                 \n",
      " dense_1 (Dense)             (None, 10)                5130      \n",
      "                                                                 \n",
      "=================================================================\n",
      "Total params: 4851338 (18.51 MB)\n",
      "Trainable params: 4847754 (18.49 MB)\n",
      "Non-trainable params: 3584 (14.00 KB)\n",
      "_________________________________________________________________\n",
      "Epoch 1/100\n"
     ]
    },
    {
     "name": "stderr",
     "output_type": "stream",
     "text": [
      "/home/adiicmp/GitHub Repos/Python/.venv/lib/python3.12/site-packages/tf_keras/src/backend.py:5729: UserWarning: \"`sparse_categorical_crossentropy` received `from_logits=True`, but the `output` argument was produced by a Softmax activation and thus does not represent logits. Was this intended?\n",
      "  output, from_logits = _get_logits(\n",
      "I0000 00:00:1737303468.497142   86720 cuda_dnn.cc:529] Loaded cuDNN version 90300\n",
      "2025-01-19 18:17:49.898762: W external/local_xla/xla/tsl/framework/bfc_allocator.cc:306] Allocator (GPU_0_bfc) ran out of memory trying to allocate 2.55GiB with freed_by_count=0. The caller indicates that this is not a failure, but this may mean that there could be performance gains if more memory were available.\n",
      "WARNING: All log messages before absl::InitializeLog() is called are written to STDERR\n",
      "I0000 00:00:1737303471.234232   86719 service.cc:148] XLA service 0x7c17888343f0 initialized for platform CUDA (this does not guarantee that XLA will be used). Devices:\n",
      "I0000 00:00:1737303471.234292   86719 service.cc:156]   StreamExecutor device (0): NVIDIA GeForce GTX 1060 6GB, Compute Capability 6.1\n",
      "2025-01-19 18:17:51.239189: I tensorflow/compiler/mlir/tensorflow/utils/dump_mlir_util.cc:268] disabling MLIR crash reproducer, set env var `MLIR_CRASH_REPRODUCER_DIRECTORY` to enable.\n",
      "I0000 00:00:1737303471.303915   86719 device_compiler.h:188] Compiled cluster using XLA!  This line is logged at most once for the lifetime of the process.\n",
      "2025-01-19 18:17:54.938590: W external/local_xla/xla/tsl/framework/bfc_allocator.cc:306] Allocator (GPU_0_bfc) ran out of memory trying to allocate 2.23GiB with freed_by_count=0. The caller indicates that this is not a failure, but this may mean that there could be performance gains if more memory were available.\n"
     ]
    },
    {
     "name": "stdout",
     "output_type": "stream",
     "text": [
      "127/152 [========================>.....] - ETA: 9s - loss: 7.5601 - accuracy: 0.2429 "
     ]
    },
    {
     "name": "stderr",
     "output_type": "stream",
     "text": [
      "2025-01-19 18:18:44.446480: W tensorflow/core/lib/png/png_io.cc:89] PNG warning: iCCP: known incorrect sRGB profile\n"
     ]
    },
    {
     "name": "stdout",
     "output_type": "stream",
     "text": [
      "151/152 [============================>.] - ETA: 0s - loss: 7.4884 - accuracy: 0.2504"
     ]
    },
    {
     "name": "stderr",
     "output_type": "stream",
     "text": [
      "2025-01-19 18:18:54.697714: W external/local_xla/xla/tsl/framework/bfc_allocator.cc:306] Allocator (GPU_0_bfc) ran out of memory trying to allocate 2.49GiB with freed_by_count=0. The caller indicates that this is not a failure, but this may mean that there could be performance gains if more memory were available.\n",
      "2025-01-19 18:18:57.793606: W external/local_xla/xla/tsl/framework/bfc_allocator.cc:378] Garbage collection: deallocate free memory regions (i.e., allocations) so that we can re-allocate a larger region to avoid OOM due to memory fragmentation. If you see this message frequently, you are running near the threshold of the available device memory and re-allocation may incur great performance overhead. You may try smaller batch sizes to observe the performance impact. Set TF_ENABLE_GPU_GARBAGE_COLLECTION=false if you'd like to disable this feature.\n"
     ]
    },
    {
     "name": "stdout",
     "output_type": "stream",
     "text": [
      "152/152 [==============================] - 88s 512ms/step - loss: 7.4839 - accuracy: 0.2512 - val_loss: 7.0284 - val_accuracy: 0.2543\n",
      "Epoch 2/100\n",
      "127/152 [========================>.....] - ETA: 9s - loss: 6.7157 - accuracy: 0.3465"
     ]
    },
    {
     "name": "stderr",
     "output_type": "stream",
     "text": [
      "2025-01-19 18:20:03.405587: W tensorflow/core/lib/png/png_io.cc:89] PNG warning: iCCP: known incorrect sRGB profile\n"
     ]
    },
    {
     "name": "stdout",
     "output_type": "stream",
     "text": [
      "152/152 [==============================] - 73s 463ms/step - loss: 6.6727 - accuracy: 0.3500 - val_loss: 6.6603 - val_accuracy: 0.3185\n",
      "Epoch 3/100\n",
      "127/152 [========================>.....] - ETA: 9s - loss: 6.2661 - accuracy: 0.3834"
     ]
    },
    {
     "name": "stderr",
     "output_type": "stream",
     "text": [
      "2025-01-19 18:21:15.161629: W tensorflow/core/lib/png/png_io.cc:89] PNG warning: iCCP: known incorrect sRGB profile\n"
     ]
    },
    {
     "name": "stdout",
     "output_type": "stream",
     "text": [
      "152/152 [==============================] - 71s 456ms/step - loss: 6.2322 - accuracy: 0.3897 - val_loss: 6.7676 - val_accuracy: 0.2759\n",
      "Epoch 4/100\n",
      "127/152 [========================>.....] - ETA: 9s - loss: 5.8583 - accuracy: 0.4358"
     ]
    },
    {
     "name": "stderr",
     "output_type": "stream",
     "text": [
      "2025-01-19 18:22:26.949030: W tensorflow/core/lib/png/png_io.cc:89] PNG warning: iCCP: known incorrect sRGB profile\n"
     ]
    },
    {
     "name": "stdout",
     "output_type": "stream",
     "text": [
      "152/152 [==============================] - 72s 460ms/step - loss: 5.8360 - accuracy: 0.4333 - val_loss: 6.5713 - val_accuracy: 0.2759\n",
      "Epoch 5/100\n",
      "127/152 [========================>.....] - ETA: 9s - loss: 5.5078 - accuracy: 0.4665"
     ]
    },
    {
     "name": "stderr",
     "output_type": "stream",
     "text": [
      "2025-01-19 18:23:39.043563: W tensorflow/core/lib/png/png_io.cc:89] PNG warning: iCCP: known incorrect sRGB profile\n"
     ]
    },
    {
     "name": "stdout",
     "output_type": "stream",
     "text": [
      "152/152 [==============================] - 72s 462ms/step - loss: 5.4814 - accuracy: 0.4685 - val_loss: 6.0418 - val_accuracy: 0.3235\n",
      "Epoch 6/100\n",
      "127/152 [========================>.....] - ETA: 9s - loss: 5.1772 - accuracy: 0.4771"
     ]
    },
    {
     "name": "stderr",
     "output_type": "stream",
     "text": [
      "2025-01-19 18:24:51.514319: W tensorflow/core/lib/png/png_io.cc:89] PNG warning: iCCP: known incorrect sRGB profile\n"
     ]
    },
    {
     "name": "stdout",
     "output_type": "stream",
     "text": [
      "152/152 [==============================] - 72s 463ms/step - loss: 5.1553 - accuracy: 0.4811 - val_loss: 6.5779 - val_accuracy: 0.2525\n",
      "Epoch 7/100\n",
      "127/152 [========================>.....] - ETA: 9s - loss: 4.8993 - accuracy: 0.4990"
     ]
    },
    {
     "name": "stderr",
     "output_type": "stream",
     "text": [
      "2025-01-19 18:26:04.315217: W tensorflow/core/lib/png/png_io.cc:89] PNG warning: iCCP: known incorrect sRGB profile\n"
     ]
    },
    {
     "name": "stdout",
     "output_type": "stream",
     "text": [
      "152/152 [==============================] - 73s 466ms/step - loss: 4.8888 - accuracy: 0.4969 - val_loss: 5.6588 - val_accuracy: 0.3148\n",
      "Epoch 8/100\n",
      "127/152 [========================>.....] - ETA: 9s - loss: 4.6082 - accuracy: 0.5226"
     ]
    },
    {
     "name": "stderr",
     "output_type": "stream",
     "text": [
      "2025-01-19 18:27:16.268662: W tensorflow/core/lib/png/png_io.cc:89] PNG warning: iCCP: known incorrect sRGB profile\n"
     ]
    },
    {
     "name": "stdout",
     "output_type": "stream",
     "text": [
      "152/152 [==============================] - 72s 459ms/step - loss: 4.5782 - accuracy: 0.5245 - val_loss: 5.1333 - val_accuracy: 0.3605\n",
      "Epoch 9/100\n",
      "127/152 [========================>.....] - ETA: 9s - loss: 4.3266 - accuracy: 0.5418"
     ]
    },
    {
     "name": "stderr",
     "output_type": "stream",
     "text": [
      "2025-01-19 18:28:27.992626: W tensorflow/core/lib/png/png_io.cc:89] PNG warning: iCCP: known incorrect sRGB profile\n"
     ]
    },
    {
     "name": "stdout",
     "output_type": "stream",
     "text": [
      "152/152 [==============================] - 72s 457ms/step - loss: 4.3072 - accuracy: 0.5430 - val_loss: 5.1633 - val_accuracy: 0.3451\n",
      "Epoch 10/100\n",
      "127/152 [========================>.....] - ETA: 9s - loss: 4.0911 - accuracy: 0.5573"
     ]
    },
    {
     "name": "stderr",
     "output_type": "stream",
     "text": [
      "2025-01-19 18:29:40.429668: W tensorflow/core/lib/png/png_io.cc:89] PNG warning: iCCP: known incorrect sRGB profile\n"
     ]
    },
    {
     "name": "stdout",
     "output_type": "stream",
     "text": [
      "152/152 [==============================] - 72s 463ms/step - loss: 4.0741 - accuracy: 0.5560 - val_loss: 4.5943 - val_accuracy: 0.3821\n",
      "Epoch 11/100\n",
      "127/152 [========================>.....] - ETA: 9s - loss: 3.8375 - accuracy: 0.5706"
     ]
    },
    {
     "name": "stderr",
     "output_type": "stream",
     "text": [
      "2025-01-19 18:30:52.108742: W tensorflow/core/lib/png/png_io.cc:89] PNG warning: iCCP: known incorrect sRGB profile\n"
     ]
    },
    {
     "name": "stdout",
     "output_type": "stream",
     "text": [
      "152/152 [==============================] - 72s 458ms/step - loss: 3.8189 - accuracy: 0.5685 - val_loss: 5.0427 - val_accuracy: 0.3142\n",
      "Epoch 12/100\n",
      "127/152 [========================>.....] - ETA: 9s - loss: 3.6096 - accuracy: 0.5849"
     ]
    },
    {
     "name": "stderr",
     "output_type": "stream",
     "text": [
      "2025-01-19 18:32:04.140469: W tensorflow/core/lib/png/png_io.cc:89] PNG warning: iCCP: known incorrect sRGB profile\n"
     ]
    },
    {
     "name": "stdout",
     "output_type": "stream",
     "text": [
      "152/152 [==============================] - 72s 460ms/step - loss: 3.5932 - accuracy: 0.5844 - val_loss: 4.1938 - val_accuracy: 0.4093\n",
      "Epoch 13/100\n",
      "127/152 [========================>.....] - ETA: 9s - loss: 3.3881 - accuracy: 0.5938"
     ]
    },
    {
     "name": "stderr",
     "output_type": "stream",
     "text": [
      "2025-01-19 18:33:15.812462: W tensorflow/core/lib/png/png_io.cc:89] PNG warning: iCCP: known incorrect sRGB profile\n"
     ]
    },
    {
     "name": "stdout",
     "output_type": "stream",
     "text": [
      "152/152 [==============================] - 72s 459ms/step - loss: 3.3789 - accuracy: 0.5905 - val_loss: 3.9912 - val_accuracy: 0.4111\n",
      "Epoch 14/100\n",
      "127/152 [========================>.....] - ETA: 9s - loss: 3.1897 - accuracy: 0.6132"
     ]
    },
    {
     "name": "stderr",
     "output_type": "stream",
     "text": [
      "2025-01-19 18:34:28.364896: W tensorflow/core/lib/png/png_io.cc:89] PNG warning: iCCP: known incorrect sRGB profile\n"
     ]
    },
    {
     "name": "stdout",
     "output_type": "stream",
     "text": [
      "152/152 [==============================] - 72s 462ms/step - loss: 3.1730 - accuracy: 0.6140 - val_loss: 3.7930 - val_accuracy: 0.4068\n",
      "Epoch 15/100\n",
      "127/152 [========================>.....] - ETA: 9s - loss: 3.0047 - accuracy: 0.6257"
     ]
    },
    {
     "name": "stderr",
     "output_type": "stream",
     "text": [
      "2025-01-19 18:35:40.735863: W tensorflow/core/lib/png/png_io.cc:89] PNG warning: iCCP: known incorrect sRGB profile\n"
     ]
    },
    {
     "name": "stdout",
     "output_type": "stream",
     "text": [
      "152/152 [==============================] - 72s 460ms/step - loss: 2.9878 - accuracy: 0.6290 - val_loss: 4.3927 - val_accuracy: 0.3383\n",
      "Epoch 16/100\n",
      "127/152 [========================>.....] - ETA: 9s - loss: 2.8316 - accuracy: 0.6385"
     ]
    },
    {
     "name": "stderr",
     "output_type": "stream",
     "text": [
      "2025-01-19 18:36:52.196729: W tensorflow/core/lib/png/png_io.cc:89] PNG warning: iCCP: known incorrect sRGB profile\n"
     ]
    },
    {
     "name": "stdout",
     "output_type": "stream",
     "text": [
      "152/152 [==============================] - 72s 460ms/step - loss: 2.8190 - accuracy: 0.6354 - val_loss: 3.2744 - val_accuracy: 0.4716\n",
      "Epoch 17/100\n",
      "127/152 [========================>.....] - ETA: 9s - loss: 2.6583 - accuracy: 0.6599"
     ]
    },
    {
     "name": "stderr",
     "output_type": "stream",
     "text": [
      "2025-01-19 18:38:04.220380: W tensorflow/core/lib/png/png_io.cc:89] PNG warning: iCCP: known incorrect sRGB profile\n"
     ]
    },
    {
     "name": "stdout",
     "output_type": "stream",
     "text": [
      "152/152 [==============================] - 72s 463ms/step - loss: 2.6471 - accuracy: 0.6582 - val_loss: 3.2951 - val_accuracy: 0.4796\n",
      "Epoch 18/100\n",
      "127/152 [========================>.....] - ETA: 9s - loss: 2.5233 - accuracy: 0.6609"
     ]
    },
    {
     "name": "stderr",
     "output_type": "stream",
     "text": [
      "2025-01-19 18:39:16.623568: W tensorflow/core/lib/png/png_io.cc:89] PNG warning: iCCP: known incorrect sRGB profile\n"
     ]
    },
    {
     "name": "stdout",
     "output_type": "stream",
     "text": [
      "152/152 [==============================] - 72s 460ms/step - loss: 2.5127 - accuracy: 0.6580 - val_loss: 2.8917 - val_accuracy: 0.5148\n",
      "Epoch 19/100\n",
      "127/152 [========================>.....] - ETA: 9s - loss: 2.3849 - accuracy: 0.6668"
     ]
    },
    {
     "name": "stderr",
     "output_type": "stream",
     "text": [
      "2025-01-19 18:40:28.795940: W tensorflow/core/lib/png/png_io.cc:89] PNG warning: iCCP: known incorrect sRGB profile\n"
     ]
    },
    {
     "name": "stdout",
     "output_type": "stream",
     "text": [
      "152/152 [==============================] - 72s 463ms/step - loss: 2.3733 - accuracy: 0.6679 - val_loss: 2.9300 - val_accuracy: 0.4796\n",
      "Epoch 20/100\n",
      "127/152 [========================>.....] - ETA: 9s - loss: 2.2703 - accuracy: 0.6644"
     ]
    },
    {
     "name": "stderr",
     "output_type": "stream",
     "text": [
      "2025-01-19 18:41:41.111895: W tensorflow/core/lib/png/png_io.cc:89] PNG warning: iCCP: known incorrect sRGB profile\n"
     ]
    },
    {
     "name": "stdout",
     "output_type": "stream",
     "text": [
      "152/152 [==============================] - 72s 462ms/step - loss: 2.2563 - accuracy: 0.6685 - val_loss: 3.0928 - val_accuracy: 0.4352\n",
      "Epoch 21/100\n",
      "127/152 [========================>.....] - ETA: 9s - loss: 2.1202 - accuracy: 0.6875"
     ]
    },
    {
     "name": "stderr",
     "output_type": "stream",
     "text": [
      "2025-01-19 18:42:53.017054: W tensorflow/core/lib/png/png_io.cc:89] PNG warning: iCCP: known incorrect sRGB profile\n"
     ]
    },
    {
     "name": "stdout",
     "output_type": "stream",
     "text": [
      "152/152 [==============================] - 72s 458ms/step - loss: 2.1130 - accuracy: 0.6889 - val_loss: 2.8872 - val_accuracy: 0.4735\n",
      "Epoch 22/100\n",
      "127/152 [========================>.....] - ETA: 9s - loss: 2.0053 - accuracy: 0.7013"
     ]
    },
    {
     "name": "stderr",
     "output_type": "stream",
     "text": [
      "2025-01-19 18:44:04.579929: W tensorflow/core/lib/png/png_io.cc:89] PNG warning: iCCP: known incorrect sRGB profile\n"
     ]
    },
    {
     "name": "stdout",
     "output_type": "stream",
     "text": [
      "152/152 [==============================] - 72s 458ms/step - loss: 1.9980 - accuracy: 0.6996 - val_loss: 2.7720 - val_accuracy: 0.4574\n",
      "Epoch 23/100\n",
      "127/152 [========================>.....] - ETA: 9s - loss: 1.8848 - accuracy: 0.7096"
     ]
    },
    {
     "name": "stderr",
     "output_type": "stream",
     "text": [
      "2025-01-19 18:45:17.017205: W tensorflow/core/lib/png/png_io.cc:89] PNG warning: iCCP: known incorrect sRGB profile\n"
     ]
    },
    {
     "name": "stdout",
     "output_type": "stream",
     "text": [
      "152/152 [==============================] - 72s 461ms/step - loss: 1.8724 - accuracy: 0.7126 - val_loss: 2.5434 - val_accuracy: 0.5111\n",
      "Epoch 24/100\n",
      "127/152 [========================>.....] - ETA: 9s - loss: 1.8158 - accuracy: 0.7111"
     ]
    },
    {
     "name": "stderr",
     "output_type": "stream",
     "text": [
      "2025-01-19 18:46:28.586660: W tensorflow/core/lib/png/png_io.cc:89] PNG warning: iCCP: known incorrect sRGB profile\n"
     ]
    },
    {
     "name": "stdout",
     "output_type": "stream",
     "text": [
      "152/152 [==============================] - 72s 458ms/step - loss: 1.8019 - accuracy: 0.7138 - val_loss: 2.4939 - val_accuracy: 0.4864\n",
      "Epoch 25/100\n",
      "127/152 [========================>.....] - ETA: 9s - loss: 1.7126 - accuracy: 0.7343"
     ]
    },
    {
     "name": "stderr",
     "output_type": "stream",
     "text": [
      "2025-01-19 18:47:40.387137: W tensorflow/core/lib/png/png_io.cc:89] PNG warning: iCCP: known incorrect sRGB profile\n"
     ]
    },
    {
     "name": "stdout",
     "output_type": "stream",
     "text": [
      "152/152 [==============================] - 72s 459ms/step - loss: 1.6953 - accuracy: 0.7370 - val_loss: 2.7041 - val_accuracy: 0.4648\n",
      "Epoch 26/100\n",
      "127/152 [========================>.....] - ETA: 9s - loss: 1.6264 - accuracy: 0.7266"
     ]
    },
    {
     "name": "stderr",
     "output_type": "stream",
     "text": [
      "2025-01-19 18:48:52.590324: W tensorflow/core/lib/png/png_io.cc:89] PNG warning: iCCP: known incorrect sRGB profile\n"
     ]
    },
    {
     "name": "stdout",
     "output_type": "stream",
     "text": [
      "152/152 [==============================] - 72s 463ms/step - loss: 1.6157 - accuracy: 0.7296 - val_loss: 2.6033 - val_accuracy: 0.4556\n",
      "Epoch 27/100\n",
      "127/152 [========================>.....] - ETA: 9s - loss: 1.5378 - accuracy: 0.7441"
     ]
    },
    {
     "name": "stderr",
     "output_type": "stream",
     "text": [
      "2025-01-19 18:50:04.654003: W tensorflow/core/lib/png/png_io.cc:89] PNG warning: iCCP: known incorrect sRGB profile\n"
     ]
    },
    {
     "name": "stdout",
     "output_type": "stream",
     "text": [
      "152/152 [==============================] - 72s 461ms/step - loss: 1.5257 - accuracy: 0.7469 - val_loss: 2.1911 - val_accuracy: 0.5346\n",
      "Epoch 28/100\n",
      "127/152 [========================>.....] - ETA: 9s - loss: 1.4591 - accuracy: 0.7557"
     ]
    },
    {
     "name": "stderr",
     "output_type": "stream",
     "text": [
      "2025-01-19 18:51:17.316148: W tensorflow/core/lib/png/png_io.cc:89] PNG warning: iCCP: known incorrect sRGB profile\n"
     ]
    },
    {
     "name": "stdout",
     "output_type": "stream",
     "text": [
      "152/152 [==============================] - 72s 464ms/step - loss: 1.4491 - accuracy: 0.7549 - val_loss: 2.2256 - val_accuracy: 0.5296\n",
      "Epoch 29/100\n",
      "127/152 [========================>.....] - ETA: 9s - loss: 1.3727 - accuracy: 0.7569"
     ]
    },
    {
     "name": "stderr",
     "output_type": "stream",
     "text": [
      "2025-01-19 18:52:29.341185: W tensorflow/core/lib/png/png_io.cc:89] PNG warning: iCCP: known incorrect sRGB profile\n"
     ]
    },
    {
     "name": "stdout",
     "output_type": "stream",
     "text": [
      "152/152 [==============================] - 72s 460ms/step - loss: 1.3659 - accuracy: 0.7588 - val_loss: 2.3575 - val_accuracy: 0.4870\n",
      "Epoch 30/100\n",
      "127/152 [========================>.....] - ETA: 9s - loss: 1.3156 - accuracy: 0.7677"
     ]
    },
    {
     "name": "stderr",
     "output_type": "stream",
     "text": [
      "2025-01-19 18:53:41.556513: W tensorflow/core/lib/png/png_io.cc:89] PNG warning: iCCP: known incorrect sRGB profile\n"
     ]
    },
    {
     "name": "stdout",
     "output_type": "stream",
     "text": [
      "152/152 [==============================] - 73s 464ms/step - loss: 1.3150 - accuracy: 0.7665 - val_loss: 2.9192 - val_accuracy: 0.4259\n",
      "Epoch 31/100\n",
      "127/152 [========================>.....] - ETA: 9s - loss: 1.2583 - accuracy: 0.7753"
     ]
    },
    {
     "name": "stderr",
     "output_type": "stream",
     "text": [
      "2025-01-19 18:54:54.327120: W tensorflow/core/lib/png/png_io.cc:89] PNG warning: iCCP: known incorrect sRGB profile\n"
     ]
    },
    {
     "name": "stdout",
     "output_type": "stream",
     "text": [
      "152/152 [==============================] - 72s 461ms/step - loss: 1.2562 - accuracy: 0.7761 - val_loss: 2.5348 - val_accuracy: 0.4327\n",
      "Epoch 32/100\n",
      "127/152 [========================>.....] - ETA: 9s - loss: 1.1917 - accuracy: 0.7756"
     ]
    },
    {
     "name": "stderr",
     "output_type": "stream",
     "text": [
      "2025-01-19 18:56:06.267813: W tensorflow/core/lib/png/png_io.cc:89] PNG warning: iCCP: known incorrect sRGB profile\n"
     ]
    },
    {
     "name": "stdout",
     "output_type": "stream",
     "text": [
      "152/152 [==============================] - 72s 460ms/step - loss: 1.1896 - accuracy: 0.7761 - val_loss: 2.0943 - val_accuracy: 0.5265\n",
      "Epoch 33/100\n",
      "127/152 [========================>.....] - ETA: 9s - loss: 1.1350 - accuracy: 0.7908"
     ]
    },
    {
     "name": "stderr",
     "output_type": "stream",
     "text": [
      "2025-01-19 18:57:18.742883: W tensorflow/core/lib/png/png_io.cc:89] PNG warning: iCCP: known incorrect sRGB profile\n"
     ]
    },
    {
     "name": "stdout",
     "output_type": "stream",
     "text": [
      "152/152 [==============================] - 73s 464ms/step - loss: 1.1232 - accuracy: 0.7955 - val_loss: 2.3294 - val_accuracy: 0.4784\n",
      "Epoch 34/100\n",
      "127/152 [========================>.....] - ETA: 9s - loss: 1.0712 - accuracy: 0.7997"
     ]
    },
    {
     "name": "stderr",
     "output_type": "stream",
     "text": [
      "2025-01-19 18:58:30.869306: W tensorflow/core/lib/png/png_io.cc:89] PNG warning: iCCP: known incorrect sRGB profile\n"
     ]
    },
    {
     "name": "stdout",
     "output_type": "stream",
     "text": [
      "152/152 [==============================] - 72s 463ms/step - loss: 1.0673 - accuracy: 0.8004 - val_loss: 1.8713 - val_accuracy: 0.5519\n",
      "Epoch 35/100\n",
      "127/152 [========================>.....] - ETA: 9s - loss: 1.0533 - accuracy: 0.7928 "
     ]
    },
    {
     "name": "stderr",
     "output_type": "stream",
     "text": [
      "2025-01-19 18:59:45.279744: W tensorflow/core/lib/png/png_io.cc:89] PNG warning: iCCP: known incorrect sRGB profile\n"
     ]
    },
    {
     "name": "stdout",
     "output_type": "stream",
     "text": [
      "152/152 [==============================] - 74s 474ms/step - loss: 1.0421 - accuracy: 0.7963 - val_loss: 1.9158 - val_accuracy: 0.5488\n",
      "Epoch 36/100\n",
      "127/152 [========================>.....] - ETA: 9s - loss: 1.0193 - accuracy: 0.7913"
     ]
    },
    {
     "name": "stderr",
     "output_type": "stream",
     "text": [
      "2025-01-19 19:00:57.254623: W tensorflow/core/lib/png/png_io.cc:89] PNG warning: iCCP: known incorrect sRGB profile\n"
     ]
    },
    {
     "name": "stdout",
     "output_type": "stream",
     "text": [
      "152/152 [==============================] - 71s 456ms/step - loss: 1.0068 - accuracy: 0.7977 - val_loss: 1.9710 - val_accuracy: 0.5296\n",
      "Epoch 37/100\n",
      "127/152 [========================>.....] - ETA: 9s - loss: 0.9338 - accuracy: 0.8209"
     ]
    },
    {
     "name": "stderr",
     "output_type": "stream",
     "text": [
      "2025-01-19 19:02:09.344807: W tensorflow/core/lib/png/png_io.cc:89] PNG warning: iCCP: known incorrect sRGB profile\n"
     ]
    },
    {
     "name": "stdout",
     "output_type": "stream",
     "text": [
      "152/152 [==============================] - 73s 467ms/step - loss: 0.9301 - accuracy: 0.8212 - val_loss: 1.8680 - val_accuracy: 0.5494\n",
      "Epoch 38/100\n",
      "127/152 [========================>.....] - ETA: 9s - loss: 0.8884 - accuracy: 0.8344"
     ]
    },
    {
     "name": "stderr",
     "output_type": "stream",
     "text": [
      "2025-01-19 19:03:23.306402: W tensorflow/core/lib/png/png_io.cc:89] PNG warning: iCCP: known incorrect sRGB profile\n"
     ]
    },
    {
     "name": "stdout",
     "output_type": "stream",
     "text": [
      "152/152 [==============================] - 73s 468ms/step - loss: 0.8839 - accuracy: 0.8374 - val_loss: 1.9268 - val_accuracy: 0.5204\n",
      "Epoch 39/100\n",
      "127/152 [========================>.....] - ETA: 9s - loss: 0.8800 - accuracy: 0.8250"
     ]
    },
    {
     "name": "stderr",
     "output_type": "stream",
     "text": [
      "2025-01-19 19:04:36.500040: W tensorflow/core/lib/png/png_io.cc:89] PNG warning: iCCP: known incorrect sRGB profile\n"
     ]
    },
    {
     "name": "stdout",
     "output_type": "stream",
     "text": [
      "152/152 [==============================] - 73s 468ms/step - loss: 0.8685 - accuracy: 0.8286 - val_loss: 2.0535 - val_accuracy: 0.4969\n",
      "Epoch 40/100\n",
      "127/152 [========================>.....] - ETA: 9s - loss: 0.8158 - accuracy: 0.8322"
     ]
    },
    {
     "name": "stderr",
     "output_type": "stream",
     "text": [
      "2025-01-19 19:05:49.459217: W tensorflow/core/lib/png/png_io.cc:89] PNG warning: iCCP: known incorrect sRGB profile\n"
     ]
    },
    {
     "name": "stdout",
     "output_type": "stream",
     "text": [
      "152/152 [==============================] - 73s 465ms/step - loss: 0.8085 - accuracy: 0.8352 - val_loss: 2.0253 - val_accuracy: 0.5185\n",
      "Epoch 41/100\n",
      "127/152 [========================>.....] - ETA: 9s - loss: 0.7823 - accuracy: 0.8413"
     ]
    },
    {
     "name": "stderr",
     "output_type": "stream",
     "text": [
      "2025-01-19 19:07:00.930534: W tensorflow/core/lib/png/png_io.cc:89] PNG warning: iCCP: known incorrect sRGB profile\n"
     ]
    },
    {
     "name": "stdout",
     "output_type": "stream",
     "text": [
      "152/152 [==============================] - 71s 455ms/step - loss: 0.7779 - accuracy: 0.8426 - val_loss: 1.8256 - val_accuracy: 0.5593\n",
      "Epoch 42/100\n",
      "127/152 [========================>.....] - ETA: 9s - loss: 0.7443 - accuracy: 0.8487"
     ]
    },
    {
     "name": "stderr",
     "output_type": "stream",
     "text": [
      "2025-01-19 19:08:12.788604: W tensorflow/core/lib/png/png_io.cc:89] PNG warning: iCCP: known incorrect sRGB profile\n"
     ]
    },
    {
     "name": "stdout",
     "output_type": "stream",
     "text": [
      "152/152 [==============================] - 72s 460ms/step - loss: 0.7475 - accuracy: 0.8475 - val_loss: 1.5967 - val_accuracy: 0.5914\n",
      "Epoch 43/100\n",
      "127/152 [========================>.....] - ETA: 9s - loss: 0.7443 - accuracy: 0.8433"
     ]
    },
    {
     "name": "stderr",
     "output_type": "stream",
     "text": [
      "2025-01-19 19:09:24.215492: W tensorflow/core/lib/png/png_io.cc:89] PNG warning: iCCP: known incorrect sRGB profile\n"
     ]
    },
    {
     "name": "stdout",
     "output_type": "stream",
     "text": [
      "152/152 [==============================] - 72s 458ms/step - loss: 0.7442 - accuracy: 0.8434 - val_loss: 1.8467 - val_accuracy: 0.5364\n",
      "Epoch 44/100\n",
      "127/152 [========================>.....] - ETA: 9s - loss: 0.7027 - accuracy: 0.8556"
     ]
    },
    {
     "name": "stderr",
     "output_type": "stream",
     "text": [
      "2025-01-19 19:10:36.313496: W tensorflow/core/lib/png/png_io.cc:89] PNG warning: iCCP: known incorrect sRGB profile\n"
     ]
    },
    {
     "name": "stdout",
     "output_type": "stream",
     "text": [
      "152/152 [==============================] - 72s 460ms/step - loss: 0.6940 - accuracy: 0.8597 - val_loss: 1.5619 - val_accuracy: 0.5969\n",
      "Epoch 45/100\n",
      "127/152 [========================>.....] - ETA: 9s - loss: 0.6690 - accuracy: 0.8548"
     ]
    },
    {
     "name": "stderr",
     "output_type": "stream",
     "text": [
      "2025-01-19 19:11:48.205892: W tensorflow/core/lib/png/png_io.cc:89] PNG warning: iCCP: known incorrect sRGB profile\n"
     ]
    },
    {
     "name": "stdout",
     "output_type": "stream",
     "text": [
      "152/152 [==============================] - 71s 457ms/step - loss: 0.6641 - accuracy: 0.8568 - val_loss: 1.8257 - val_accuracy: 0.5457\n",
      "Epoch 46/100\n",
      "127/152 [========================>.....] - ETA: 9s - loss: 0.6403 - accuracy: 0.8656"
     ]
    },
    {
     "name": "stderr",
     "output_type": "stream",
     "text": [
      "2025-01-19 19:12:59.880778: W tensorflow/core/lib/png/png_io.cc:89] PNG warning: iCCP: known incorrect sRGB profile\n"
     ]
    },
    {
     "name": "stdout",
     "output_type": "stream",
     "text": [
      "152/152 [==============================] - 72s 459ms/step - loss: 0.6397 - accuracy: 0.8644 - val_loss: 1.6484 - val_accuracy: 0.5815\n",
      "Epoch 47/100\n",
      "127/152 [========================>.....] - ETA: 9s - loss: 0.6111 - accuracy: 0.8674"
     ]
    },
    {
     "name": "stderr",
     "output_type": "stream",
     "text": [
      "2025-01-19 19:14:11.578293: W tensorflow/core/lib/png/png_io.cc:89] PNG warning: iCCP: known incorrect sRGB profile\n"
     ]
    },
    {
     "name": "stdout",
     "output_type": "stream",
     "text": [
      "152/152 [==============================] - 71s 457ms/step - loss: 0.6099 - accuracy: 0.8679 - val_loss: 1.6964 - val_accuracy: 0.5704\n",
      "Epoch 48/100\n",
      "127/152 [========================>.....] - ETA: 9s - loss: 0.5999 - accuracy: 0.8654"
     ]
    },
    {
     "name": "stderr",
     "output_type": "stream",
     "text": [
      "2025-01-19 19:15:23.608206: W tensorflow/core/lib/png/png_io.cc:89] PNG warning: iCCP: known incorrect sRGB profile\n"
     ]
    },
    {
     "name": "stdout",
     "output_type": "stream",
     "text": [
      "152/152 [==============================] - 72s 459ms/step - loss: 0.5970 - accuracy: 0.8689 - val_loss: 1.5183 - val_accuracy: 0.6111\n",
      "Epoch 49/100\n",
      "127/152 [========================>.....] - ETA: 9s - loss: 0.5673 - accuracy: 0.8789"
     ]
    },
    {
     "name": "stderr",
     "output_type": "stream",
     "text": [
      "2025-01-19 19:16:35.303584: W tensorflow/core/lib/png/png_io.cc:89] PNG warning: iCCP: known incorrect sRGB profile\n"
     ]
    },
    {
     "name": "stdout",
     "output_type": "stream",
     "text": [
      "152/152 [==============================] - 72s 462ms/step - loss: 0.5645 - accuracy: 0.8805 - val_loss: 1.8126 - val_accuracy: 0.5679\n",
      "Epoch 50/100\n",
      "127/152 [========================>.....] - ETA: 9s - loss: 0.5691 - accuracy: 0.8748"
     ]
    },
    {
     "name": "stderr",
     "output_type": "stream",
     "text": [
      "2025-01-19 19:17:47.695922: W tensorflow/core/lib/png/png_io.cc:89] PNG warning: iCCP: known incorrect sRGB profile\n"
     ]
    },
    {
     "name": "stdout",
     "output_type": "stream",
     "text": [
      "152/152 [==============================] - 72s 462ms/step - loss: 0.5599 - accuracy: 0.8774 - val_loss: 1.4355 - val_accuracy: 0.6346\n",
      "Epoch 51/100\n",
      "127/152 [========================>.....] - ETA: 9s - loss: 0.5315 - accuracy: 0.8875"
     ]
    },
    {
     "name": "stderr",
     "output_type": "stream",
     "text": [
      "2025-01-19 19:18:59.689881: W tensorflow/core/lib/png/png_io.cc:89] PNG warning: iCCP: known incorrect sRGB profile\n"
     ]
    },
    {
     "name": "stdout",
     "output_type": "stream",
     "text": [
      "152/152 [==============================] - 72s 459ms/step - loss: 0.5336 - accuracy: 0.8823 - val_loss: 2.0810 - val_accuracy: 0.5123\n",
      "Epoch 52/100\n",
      "127/152 [========================>.....] - ETA: 9s - loss: 0.5199 - accuracy: 0.8851"
     ]
    },
    {
     "name": "stderr",
     "output_type": "stream",
     "text": [
      "2025-01-19 19:20:11.858640: W tensorflow/core/lib/png/png_io.cc:89] PNG warning: iCCP: known incorrect sRGB profile\n"
     ]
    },
    {
     "name": "stdout",
     "output_type": "stream",
     "text": [
      "152/152 [==============================] - 73s 469ms/step - loss: 0.5150 - accuracy: 0.8854 - val_loss: 1.6809 - val_accuracy: 0.5895\n",
      "Epoch 53/100\n",
      "127/152 [========================>.....] - ETA: 9s - loss: 0.4933 - accuracy: 0.8994"
     ]
    },
    {
     "name": "stderr",
     "output_type": "stream",
     "text": [
      "2025-01-19 19:21:26.229388: W tensorflow/core/lib/png/png_io.cc:89] PNG warning: iCCP: known incorrect sRGB profile\n"
     ]
    },
    {
     "name": "stdout",
     "output_type": "stream",
     "text": [
      "152/152 [==============================] - 73s 467ms/step - loss: 0.4928 - accuracy: 0.8992 - val_loss: 1.5532 - val_accuracy: 0.5883\n",
      "Epoch 54/100\n",
      "127/152 [========================>.....] - ETA: 9s - loss: 0.4691 - accuracy: 0.8996"
     ]
    },
    {
     "name": "stderr",
     "output_type": "stream",
     "text": [
      "2025-01-19 19:22:38.368052: W tensorflow/core/lib/png/png_io.cc:89] PNG warning: iCCP: known incorrect sRGB profile\n"
     ]
    },
    {
     "name": "stdout",
     "output_type": "stream",
     "text": [
      "152/152 [==============================] - 72s 460ms/step - loss: 0.4691 - accuracy: 0.8979 - val_loss: 2.0275 - val_accuracy: 0.5414\n",
      "Epoch 55/100\n",
      "127/152 [========================>.....] - ETA: 9s - loss: 0.4853 - accuracy: 0.8873"
     ]
    },
    {
     "name": "stderr",
     "output_type": "stream",
     "text": [
      "2025-01-19 19:23:50.482486: W tensorflow/core/lib/png/png_io.cc:89] PNG warning: iCCP: known incorrect sRGB profile\n"
     ]
    },
    {
     "name": "stdout",
     "output_type": "stream",
     "text": [
      "152/152 [==============================] - 72s 461ms/step - loss: 0.4776 - accuracy: 0.8922 - val_loss: 1.5317 - val_accuracy: 0.6216\n",
      "Epoch 56/100\n",
      "127/152 [========================>.....] - ETA: 9s - loss: 0.4506 - accuracy: 0.9038"
     ]
    },
    {
     "name": "stderr",
     "output_type": "stream",
     "text": [
      "2025-01-19 19:25:02.318952: W tensorflow/core/lib/png/png_io.cc:89] PNG warning: iCCP: known incorrect sRGB profile\n"
     ]
    },
    {
     "name": "stdout",
     "output_type": "stream",
     "text": [
      "152/152 [==============================] - 72s 461ms/step - loss: 0.4465 - accuracy: 0.9037 - val_loss: 1.7160 - val_accuracy: 0.5654\n",
      "Epoch 57/100\n",
      "127/152 [========================>.....] - ETA: 9s - loss: 0.4596 - accuracy: 0.8915"
     ]
    },
    {
     "name": "stderr",
     "output_type": "stream",
     "text": [
      "2025-01-19 19:26:14.300388: W tensorflow/core/lib/png/png_io.cc:89] PNG warning: iCCP: known incorrect sRGB profile\n"
     ]
    },
    {
     "name": "stdout",
     "output_type": "stream",
     "text": [
      "152/152 [==============================] - 72s 457ms/step - loss: 0.4595 - accuracy: 0.8912 - val_loss: 1.2971 - val_accuracy: 0.6586\n",
      "Epoch 58/100\n",
      "128/152 [========================>.....] - ETA: 8s - loss: 0.4105 - accuracy: 0.9116"
     ]
    },
    {
     "name": "stderr",
     "output_type": "stream",
     "text": [
      "2025-01-19 19:27:25.970640: W tensorflow/core/lib/png/png_io.cc:89] PNG warning: iCCP: known incorrect sRGB profile\n"
     ]
    },
    {
     "name": "stdout",
     "output_type": "stream",
     "text": [
      "152/152 [==============================] - 72s 458ms/step - loss: 0.4088 - accuracy: 0.9111 - val_loss: 1.5447 - val_accuracy: 0.6216\n",
      "Epoch 59/100\n",
      "127/152 [========================>.....] - ETA: 9s - loss: 0.4121 - accuracy: 0.9062"
     ]
    },
    {
     "name": "stderr",
     "output_type": "stream",
     "text": [
      "2025-01-19 19:28:37.936804: W tensorflow/core/lib/png/png_io.cc:89] PNG warning: iCCP: known incorrect sRGB profile\n"
     ]
    },
    {
     "name": "stdout",
     "output_type": "stream",
     "text": [
      "152/152 [==============================] - 72s 460ms/step - loss: 0.4090 - accuracy: 0.9051 - val_loss: 1.6672 - val_accuracy: 0.5883\n",
      "Epoch 60/100\n",
      "127/152 [========================>.....] - ETA: 9s - loss: 0.3959 - accuracy: 0.9112"
     ]
    },
    {
     "name": "stderr",
     "output_type": "stream",
     "text": [
      "2025-01-19 19:29:49.485016: W tensorflow/core/lib/png/png_io.cc:89] PNG warning: iCCP: known incorrect sRGB profile\n"
     ]
    },
    {
     "name": "stdout",
     "output_type": "stream",
     "text": [
      "152/152 [==============================] - 72s 459ms/step - loss: 0.3973 - accuracy: 0.9101 - val_loss: 1.6640 - val_accuracy: 0.5654\n",
      "Epoch 61/100\n",
      "127/152 [========================>.....] - ETA: 9s - loss: 0.3926 - accuracy: 0.9102"
     ]
    },
    {
     "name": "stderr",
     "output_type": "stream",
     "text": [
      "2025-01-19 19:31:01.502587: W tensorflow/core/lib/png/png_io.cc:89] PNG warning: iCCP: known incorrect sRGB profile\n"
     ]
    },
    {
     "name": "stdout",
     "output_type": "stream",
     "text": [
      "152/152 [==============================] - 71s 457ms/step - loss: 0.3893 - accuracy: 0.9115 - val_loss: 1.4913 - val_accuracy: 0.6321\n",
      "Epoch 62/100\n",
      "127/152 [========================>.....] - ETA: 9s - loss: 0.3825 - accuracy: 0.9154"
     ]
    },
    {
     "name": "stderr",
     "output_type": "stream",
     "text": [
      "2025-01-19 19:32:13.206893: W tensorflow/core/lib/png/png_io.cc:89] PNG warning: iCCP: known incorrect sRGB profile\n"
     ]
    },
    {
     "name": "stdout",
     "output_type": "stream",
     "text": [
      "152/152 [==============================] - 72s 459ms/step - loss: 0.3776 - accuracy: 0.9169 - val_loss: 1.8682 - val_accuracy: 0.5562\n",
      "Epoch 63/100\n",
      "127/152 [========================>.....] - ETA: 9s - loss: 0.3516 - accuracy: 0.9291"
     ]
    },
    {
     "name": "stderr",
     "output_type": "stream",
     "text": [
      "2025-01-19 19:33:25.239684: W tensorflow/core/lib/png/png_io.cc:89] PNG warning: iCCP: known incorrect sRGB profile\n"
     ]
    },
    {
     "name": "stdout",
     "output_type": "stream",
     "text": [
      "152/152 [==============================] - 72s 461ms/step - loss: 0.3544 - accuracy: 0.9274 - val_loss: 1.6698 - val_accuracy: 0.5994\n",
      "Epoch 64/100\n",
      "127/152 [========================>.....] - ETA: 9s - loss: 0.3458 - accuracy: 0.9279"
     ]
    },
    {
     "name": "stderr",
     "output_type": "stream",
     "text": [
      "2025-01-19 19:34:37.214547: W tensorflow/core/lib/png/png_io.cc:89] PNG warning: iCCP: known incorrect sRGB profile\n"
     ]
    },
    {
     "name": "stdout",
     "output_type": "stream",
     "text": [
      "152/152 [==============================] - 72s 459ms/step - loss: 0.3462 - accuracy: 0.9286 - val_loss: 2.3241 - val_accuracy: 0.5148\n",
      "Epoch 65/100\n",
      "127/152 [========================>.....] - ETA: 9s - loss: 0.3494 - accuracy: 0.9205"
     ]
    },
    {
     "name": "stderr",
     "output_type": "stream",
     "text": [
      "2025-01-19 19:35:48.943735: W tensorflow/core/lib/png/png_io.cc:89] PNG warning: iCCP: known incorrect sRGB profile\n"
     ]
    },
    {
     "name": "stdout",
     "output_type": "stream",
     "text": [
      "152/152 [==============================] - 72s 459ms/step - loss: 0.3459 - accuracy: 0.9208 - val_loss: 1.4886 - val_accuracy: 0.6395\n",
      "Epoch 65: early stopping\n",
      "Restoring model weights from the end of the best epoch: 57.\n",
      "1/1 [==============================] - 0s 156ms/step\n",
      "1/1 [==============================] - 0s 24ms/step\n",
      "1/1 [==============================] - 0s 34ms/step\n",
      "1/1 [==============================] - 0s 29ms/step\n",
      "1/1 [==============================] - 0s 29ms/step\n",
      "1/1 [==============================] - 0s 26ms/step\n",
      "1/1 [==============================] - 0s 25ms/step\n",
      "1/1 [==============================] - 0s 26ms/step\n",
      "1/1 [==============================] - 0s 25ms/step\n",
      "1/1 [==============================] - 0s 28ms/step\n",
      "1/1 [==============================] - 0s 19ms/step\n",
      "1/1 [==============================] - 0s 32ms/step\n",
      "1/1 [==============================] - 0s 19ms/step\n",
      "1/1 [==============================] - 0s 18ms/step\n",
      "1/1 [==============================] - 0s 21ms/step\n",
      "1/1 [==============================] - 0s 27ms/step\n",
      "1/1 [==============================] - 0s 19ms/step\n",
      "1/1 [==============================] - 0s 27ms/step\n",
      "1/1 [==============================] - 0s 25ms/step\n",
      "1/1 [==============================] - 0s 32ms/step\n",
      "1/1 [==============================] - 0s 26ms/step\n",
      "1/1 [==============================] - 0s 19ms/step\n",
      "1/1 [==============================] - 0s 17ms/step\n",
      "1/1 [==============================] - 0s 19ms/step\n",
      "1/1 [==============================] - 0s 24ms/step\n",
      "1/1 [==============================] - 0s 28ms/step\n",
      "1/1 [==============================] - 0s 40ms/step\n",
      "1/1 [==============================] - 0s 24ms/step\n",
      "1/1 [==============================] - 0s 26ms/step\n",
      "1/1 [==============================] - 0s 22ms/step\n",
      "1/1 [==============================] - 0s 37ms/step\n",
      "1/1 [==============================] - 0s 22ms/step\n",
      "1/1 [==============================] - 0s 18ms/step\n",
      "1/1 [==============================] - 0s 17ms/step\n",
      "1/1 [==============================] - 0s 19ms/step\n",
      "1/1 [==============================] - 0s 18ms/step\n",
      "1/1 [==============================] - 0s 24ms/step\n",
      "1/1 [==============================] - 0s 18ms/step\n",
      "1/1 [==============================] - 0s 25ms/step\n",
      "1/1 [==============================] - 0s 21ms/step\n",
      "1/1 [==============================] - 0s 17ms/step\n",
      "1/1 [==============================] - 0s 41ms/step\n",
      "1/1 [==============================] - 0s 23ms/step\n",
      "1/1 [==============================] - 0s 23ms/step\n",
      "1/1 [==============================] - 0s 17ms/step\n",
      "1/1 [==============================] - 0s 17ms/step\n",
      "1/1 [==============================] - 0s 23ms/step\n",
      "1/1 [==============================] - 0s 16ms/step\n",
      "1/1 [==============================] - 0s 16ms/step\n",
      "1/1 [==============================] - 0s 17ms/step\n",
      "1/1 [==============================] - 0s 98ms/step\n",
      "Confusion Matrix: \n"
     ]
    },
    {
     "name": "stderr",
     "output_type": "stream",
     "text": [
      "2025-01-19 19:36:24.594666: I tensorflow/core/framework/local_rendezvous.cc:405] Local rendezvous is aborting with status: OUT_OF_RANGE: End of sequence\n"
     ]
    },
    {
     "name": "stdout",
     "output_type": "stream",
     "text": [
      "Validation loss: 1.2971200942993164\n",
      "Validation accuracy: 0.6586419939994812\n"
     ]
    },
    {
     "data": {
      "image/png": "[encoded data removed]",
      "text/plain": [
       "<Figure size 800x800 with 2 Axes>"
      ]
     },
     "metadata": {},
     "output_type": "display_data"
    },
    {
     "data": {
      "image/png": "[encoded data removed]",
      "text/plain": [
       "<Figure size 800x800 with 2 Axes>"
      ]
     },
     "metadata": {},
     "output_type": "display_data"
    }
   ],
   "source": [
    "#%%\n",
    "\n",
    "import tensorflow as tf\n",
    "import tf_keras\n",
    "import matplotlib.pyplot as plt\n",
    "import seaborn as sns\n",
    "import numpy as np\n",
    "from tf_keras import layers\n",
    "from tf_keras.models import Sequential\n",
    "from sklearn.metrics import confusion_matrix\n",
    "from tf_keras.optimizers import Adam\n",
    "from tf_keras.regularizers import l2\n",
    "\n",
    "gpu_devices = tf.config.list_physical_devices('GPU')\n",
    "if gpu_devices:\n",
    "  tf.config.experimental.set_memory_growth(gpu_devices[0], True)\n",
    "  print('GPU found', gpu_devices[0])\n",
    "else:\n",
    "  print('No GPU found')\n",
    "\n",
    "#define image size\n",
    "IMG_SIZE = 224\n",
    "\n",
    "#define batch size\n",
    "BATCH_SIZE = 32\n",
    "\n",
    "#training and valdiation directories\n",
    "TRAINING_DIR = \"Train\"\n",
    "  \n",
    "#training split\n",
    "train_ds = tf_keras.utils.image_dataset_from_directory(\n",
    "  TRAINING_DIR,\n",
    "  labels = \"inferred\",\n",
    "  image_size = (IMG_SIZE, IMG_SIZE),\n",
    "  batch_size = BATCH_SIZE,\n",
    "  subset = \"training\",\n",
    "  validation_split = 0.25,\n",
    "  seed = 225\n",
    ")\n",
    "\n",
    "#validation split, taken directly from the same directory as train\n",
    "validation_ds = tf_keras.utils.image_dataset_from_directory(\n",
    "  TRAINING_DIR,\n",
    "  labels = \"inferred\",\n",
    "  image_size = (IMG_SIZE, IMG_SIZE),\n",
    "  batch_size = BATCH_SIZE,\n",
    "  subset = 'validation',\n",
    "  validation_split = 0.25,\n",
    "  seed = 225\n",
    ")\n",
    "\n",
    "CLASS_NAMES = train_ds.class_names\n",
    "\n",
    "AUTOTUNE = tf.data.AUTOTUNE\n",
    "train_ds = train_ds.prefetch(buffer_size = AUTOTUNE)\n",
    "val_ds = validation_ds.cache().prefetch(buffer_size = AUTOTUNE)\n",
    "\n",
    "#normalizing the data\n",
    "norm_layer = layers.Rescaling(1./255)\n",
    "norm_ds = train_ds.map(lambda x, y: (norm_layer(x), y))\n",
    "image_batch, labels_batch = next(iter(norm_ds))\n",
    "\n",
    "#data augmentation to increase robustness\n",
    "data_augmentation = Sequential([\n",
    "  layers.experimental.preprocessing.RandomFlip('horizontal'),\n",
    "  layers.experimental.preprocessing.RandomRotation(0.2),\n",
    "  layers.experimental.preprocessing.RandomZoom(0.2) \n",
    "])\n",
    "\n",
    "def augment_images(image, label):\n",
    "  image = data_augmentation(image)\n",
    "  return image, label\n",
    "\n",
    "train_ds = train_ds.map(augment_images)\n",
    "\n",
    "num_classes = len(CLASS_NAMES)\n",
    "\n",
    "#training model\n",
    "model = Sequential([\n",
    "  layers.Conv2D(128, (3, 3), activation = 'relu', input_shape = (224, 224, 3)),\n",
    "  layers.BatchNormalization(),\n",
    "  layers.MaxPooling2D(2, 2),\n",
    "  layers.Conv2D(128, (3, 3), activation = 'relu'),\n",
    "  layers.BatchNormalization(),\n",
    "  layers.MaxPooling2D(2, 2),\n",
    "  layers.Conv2D(256, (3, 3), activation = 'relu'),\n",
    "  layers.BatchNormalization(),\n",
    "  layers.MaxPooling2D(2, 2),\n",
    "  layers.Conv2D(256, (3, 3), activation = 'relu'),\n",
    "  layers.BatchNormalization(),\n",
    "  layers.MaxPooling2D(2, 2),\n",
    "  layers.Conv2D(512, (3, 3), activation = 'relu'),\n",
    "  layers.BatchNormalization(),\n",
    "  layers.MaxPooling2D(2, 2),\n",
    "  layers.Conv2D(512, (3, 3), activation = 'relu'),\n",
    "  layers.BatchNormalization(),\n",
    "  layers.MaxPooling2D(2, 2),\n",
    "  layers.Flatten(),\n",
    "  layers.Dense(512, activation = 'relu', kernel_regularizer = l2(0.01)),\n",
    "  layers.Dropout(0.5),\n",
    "  layers.Dense(num_classes, activation = 'softmax')\n",
    "])\n",
    "\n",
    "model.summary()\n",
    "\n",
    "model.compile(optimizer = Adam(learning_rate = 0.0001, weight_decay = 1e-6), \n",
    "              loss = tf_keras.losses.SparseCategoricalCrossentropy(from_logits = True), \n",
    "              metrics = ['accuracy'])\n",
    "\n",
    "#no of epochs\n",
    "epochs = 100\n",
    "\n",
    "\n",
    "#early stopping\n",
    "early_stopping = tf_keras.callbacks.EarlyStopping(monitor = 'val_loss', \n",
    "                                                  mode = 'min', \n",
    "                                                  verbose = 1, \n",
    "                                                  patience = 8, \n",
    "                                                  restore_best_weights = True)\n",
    "\n",
    "\n",
    "#fitting of the model\n",
    "history = model.fit(train_ds, \n",
    "                    validation_data = validation_ds, \n",
    "                    epochs = epochs, \n",
    "                    callbacks = [early_stopping])\n",
    "\n",
    "#accuracy and loss values\n",
    "accuracy = history.history['accuracy']\n",
    "val_accuracy = history.history['val_accuracy']\n",
    "\n",
    "loss = history.history['loss']\n",
    "val_loss = history.history['val_loss']\n",
    "\n",
    "epochs_range = range(epochs)\n",
    "\n",
    "true_labels = []\n",
    "predicted_labels = []\n",
    "\n",
    "for images, labels in val_ds:\n",
    "  true_labels.extend(labels.numpy())\n",
    "  pred = model.predict(images)\n",
    "  predicted_labels.extend(np.argmax(pred, axis = 1))\n",
    "\n",
    "confusion_matrix = confusion_matrix(true_labels, predicted_labels)\n",
    "\n",
    "print('Confusion Matrix: ')\n",
    "plt.figure(figsize=(8, 8))\n",
    "sns.heatmap(confusion_matrix, annot = True, fmt = 'd', xticklabels = CLASS_NAMES, yticklabels = CLASS_NAMES, cmap = 'Blues')\n",
    "plt.xlabel('Predicted')\n",
    "plt.ylabel('True')\n",
    "plt.title('Confusion Matrix')\n",
    "\n",
    "\n",
    "score = model.evaluate(validation_ds, verbose = 0)\n",
    "print('Validation loss:', score[0])\n",
    "print('Validation accuracy:', score[1])\n",
    "\n",
    "plt.figure(figsize = (8, 8))\n",
    "plt.subplot(1, 2, 1)\n",
    "plt.plot(accuracy, label = 'Training Accuracy')\n",
    "plt.plot(val_accuracy, label = 'Validation Accuracy')\n",
    "plt.legend(loc = 'lower right')\n",
    "plt.title('Training and Validation Accuracy')\n",
    "\n",
    "plt.subplot(1, 2, 2)\n",
    "plt.plot(loss, label = 'Training Loss')\n",
    "plt.plot(val_loss, label = 'Validation Loss')\n",
    "plt.legend(loc = 'upper right')\n",
    "plt.title('Training and Validation Loss')\n",
    "plt.show()"
   ]
  }
 ],
 "metadata": {
  "language_info": {
   "codemirror_mode": {
    "name": "ipython",
    "version": 3
   },
   "file_extension": ".py",
   "mimetype": "text/x-python",
   "name": "python",
   "nbconvert_exporter": "python",
   "pygments_lexer": "ipython3",
   "version": 3
  }
 },
 "nbformat": 4,
 "nbformat_minor": 2
}
