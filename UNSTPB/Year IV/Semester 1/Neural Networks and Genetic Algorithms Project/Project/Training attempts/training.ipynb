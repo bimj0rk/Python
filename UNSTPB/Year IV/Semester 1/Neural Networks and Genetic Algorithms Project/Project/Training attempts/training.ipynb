{
 "cells": [
  {
   "cell_type": "code",
   "execution_count": null,
   "id": "1777f284-9852-4c00-a66c-2b6ac2bec772",
   "metadata": {},
   "outputs": [
    {
     "name": "stderr",
     "output_type": "stream",
     "text": [
      "2025-01-20 14:06:58.173656: E external/local_xla/xla/stream_executor/cuda/cuda_fft.cc:477] Unable to register cuFFT factory: Attempting to register factory for plugin cuFFT when one has already been registered\n",
      "WARNING: All log messages before absl::InitializeLog() is called are written to STDERR\n",
      "E0000 00:00:1737374818.189499  392538 cuda_dnn.cc:8310] Unable to register cuDNN factory: Attempting to register factory for plugin cuDNN when one has already been registered\n",
      "E0000 00:00:1737374818.194013  392538 cuda_blas.cc:1418] Unable to register cuBLAS factory: Attempting to register factory for plugin cuBLAS when one has already been registered\n",
      "2025-01-20 14:06:58.210154: I tensorflow/core/platform/cpu_feature_guard.cc:210] This TensorFlow binary is optimized to use available CPU instructions in performance-critical operations.\n",
      "To enable the following instructions: AVX2 FMA, in other operations, rebuild TensorFlow with the appropriate compiler flags.\n"
     ]
    },
    {
     "name": "stdout",
     "output_type": "stream",
     "text": [
      "GPU found PhysicalDevice(name='/physical_device:GPU:0', device_type='GPU')\n",
      "Found 5336 files belonging to 8 classes.\n",
      "Using 4002 files for training.\n"
     ]
    },
    {
     "name": "stderr",
     "output_type": "stream",
     "text": [
      "I0000 00:00:1737374821.112234  392538 gpu_device.cc:2022] Created device /job:localhost/replica:0/task:0/device:GPU:0 with 4792 MB memory:  -> device: 0, name: NVIDIA GeForce GTX 1060 6GB, pci bus id: 0000:01:00.0, compute capability: 6.1\n"
     ]
    },
    {
     "name": "stdout",
     "output_type": "stream",
     "text": [
      "Found 5336 files belonging to 8 classes.\n",
      "Using 1334 files for validation.\n",
      "Epoch 1/50\n"
     ]
    },
    {
     "name": "stderr",
     "output_type": "stream",
     "text": [
      "/home/adiicmp/GitHub Repos/Python/.venv/lib/python3.12/site-packages/tf_keras/src/backend.py:5729: UserWarning: \"`sparse_categorical_crossentropy` received `from_logits=True`, but the `output` argument was produced by a Softmax activation and thus does not represent logits. Was this intended?\n",
      "  output, from_logits = _get_logits(\n",
      "E0000 00:00:1737374823.396997  392538 meta_optimizer.cc:966] layout failed: INVALID_ARGUMENT: Size of values 0 does not match size of permutation 4 @ fanin shape insequential_1/dropout/dropout/SelectV2-2-TransposeNHWCToNCHW-LayoutOptimizer\n",
      "2025-01-20 14:07:08.579736: W external/local_xla/xla/tsl/framework/bfc_allocator.cc:306] Allocator (GPU_0_bfc) ran out of memory trying to allocate 786.06MiB with freed_by_count=0. The caller indicates that this is not a failure, but this may mean that there could be performance gains if more memory were available.\n",
      "WARNING: All log messages before absl::InitializeLog() is called are written to STDERR\n",
      "W0000 00:00:1737374828.579768  392589 gpu_utils.cc:68] Failed to allocate memory for convolution redzone checking; skipping this check. This is benign and only means that we won't check cudnn for out-of-bounds reads and writes. This message will only be printed once.\n",
      "I0000 00:00:1737374828.583188  392589 cuda_dnn.cc:529] Loaded cuDNN version 90300\n",
      "2025-01-20 14:07:09.915544: W external/local_xla/xla/tsl/framework/bfc_allocator.cc:306] Allocator (GPU_0_bfc) ran out of memory trying to allocate 1.31GiB with freed_by_count=0. The caller indicates that this is not a failure, but this may mean that there could be performance gains if more memory were available.\n",
      "2025-01-20 14:07:10.406474: W external/local_xla/xla/tsl/framework/bfc_allocator.cc:306] Allocator (GPU_0_bfc) ran out of memory trying to allocate 1.54GiB with freed_by_count=0. The caller indicates that this is not a failure, but this may mean that there could be performance gains if more memory were available.\n",
      "2025-01-20 14:07:10.493036: W external/local_xla/xla/tsl/framework/bfc_allocator.cc:306] Allocator (GPU_0_bfc) ran out of memory trying to allocate 1.65GiB with freed_by_count=0. The caller indicates that this is not a failure, but this may mean that there could be performance gains if more memory were available.\n",
      "2025-01-20 14:07:10.493105: W external/local_xla/xla/tsl/framework/bfc_allocator.cc:306] Allocator (GPU_0_bfc) ran out of memory trying to allocate 1.65GiB with freed_by_count=0. The caller indicates that this is not a failure, but this may mean that there could be performance gains if more memory were available.\n",
      "2025-01-20 14:07:11.127509: W external/local_xla/xla/tsl/framework/bfc_allocator.cc:306] Allocator (GPU_0_bfc) ran out of memory trying to allocate 1.92GiB with freed_by_count=0. The caller indicates that this is not a failure, but this may mean that there could be performance gains if more memory were available.\n",
      "2025-01-20 14:07:11.127597: W external/local_xla/xla/tsl/framework/bfc_allocator.cc:306] Allocator (GPU_0_bfc) ran out of memory trying to allocate 1.92GiB with freed_by_count=0. The caller indicates that this is not a failure, but this may mean that there could be performance gains if more memory were available.\n",
      "2025-01-20 14:07:11.127636: W external/local_xla/xla/tsl/framework/bfc_allocator.cc:306] Allocator (GPU_0_bfc) ran out of memory trying to allocate 1.31GiB with freed_by_count=0. The caller indicates that this is not a failure, but this may mean that there could be performance gains if more memory were available.\n",
      "I0000 00:00:1737374831.517246  392593 service.cc:148] XLA service 0x7ecd18b7cd60 initialized for platform CUDA (this does not guarantee that XLA will be used). Devices:\n",
      "I0000 00:00:1737374831.517285  392593 service.cc:156]   StreamExecutor device (0): NVIDIA GeForce GTX 1060 6GB, Compute Capability 6.1\n",
      "2025-01-20 14:07:11.523864: I tensorflow/compiler/mlir/tensorflow/utils/dump_mlir_util.cc:268] disabling MLIR crash reproducer, set env var `MLIR_CRASH_REPRODUCER_DIRECTORY` to enable.\n",
      "I0000 00:00:1737374831.627893  392593 device_compiler.h:188] Compiled cluster using XLA!  This line is logged at most once for the lifetime of the process.\n",
      "2025-01-20 14:07:12.833891: W external/local_xla/xla/tsl/framework/bfc_allocator.cc:306] Allocator (GPU_0_bfc) ran out of memory trying to allocate 1.57GiB with freed_by_count=0. The caller indicates that this is not a failure, but this may mean that there could be performance gains if more memory were available.\n",
      "2025-01-20 14:07:14.198702: W external/local_xla/xla/tsl/framework/bfc_allocator.cc:306] Allocator (GPU_0_bfc) ran out of memory trying to allocate 1.20GiB with freed_by_count=0. The caller indicates that this is not a failure, but this may mean that there could be performance gains if more memory were available.\n"
     ]
    },
    {
     "name": "stdout",
     "output_type": "stream",
     "text": [
      "22/63 [=========>....................] - ETA: 23s - loss: 17.9955 - accuracy: 0.1477"
     ]
    },
    {
     "ename": "KeyboardInterrupt",
     "evalue": "",
     "output_type": "error",
     "traceback": [
      "\u001b[0;31m---------------------------------------------------------------------------\u001b[0m",
      "\u001b[0;31mKeyboardInterrupt\u001b[0m                         Traceback (most recent call last)",
      "File \u001b[1;32m/home/adiicmp/GitHub Repos/Python/UNSTPB/Year IV/Semester 1/Neural Networks and Genetic Algorithms Project/Project/training.py:127\u001b[0m\n\u001b[1;32m    115\u001b[0m class_weights \u001b[39m=\u001b[39m {\n\u001b[1;32m    116\u001b[0m     \u001b[39m0\u001b[39m: \u001b[39m0.677\u001b[39m,  \u001b[39m#bike\u001b[39;00m\n\u001b[1;32m    117\u001b[0m     \u001b[39m1\u001b[39m: \u001b[39m1.200\u001b[39m,  \u001b[39m#bus\u001b[39;00m\n\u001b[0;32m   (...)\u001b[0m\n\u001b[1;32m    123\u001b[0m     \u001b[39m7\u001b[39m: \u001b[39m0.911\u001b[39m   \u001b[39m#tuktuk\u001b[39;00m\n\u001b[1;32m    124\u001b[0m }                                  \n\u001b[1;32m    126\u001b[0m \u001b[39m#fitting of the model\u001b[39;00m\n\u001b[0;32m--> 127\u001b[0m history \u001b[39m=\u001b[39m model\u001b[39m.\u001b[39;49mfit(train_ds, \n\u001b[1;32m    128\u001b[0m                     validation_data \u001b[39m=\u001b[39;49m validation_ds, \n\u001b[1;32m    129\u001b[0m                     epochs \u001b[39m=\u001b[39;49m epochs,\n\u001b[1;32m    130\u001b[0m                     class_weight \u001b[39m=\u001b[39;49m class_weights,\n\u001b[1;32m    131\u001b[0m                     callbacks \u001b[39m=\u001b[39;49m [early_stopping])\n\u001b[1;32m    133\u001b[0m \u001b[39m#accuracy and loss values\u001b[39;00m\n\u001b[1;32m    134\u001b[0m accuracy \u001b[39m=\u001b[39m history\u001b[39m.\u001b[39mhistory[\u001b[39m'\u001b[39m\u001b[39maccuracy\u001b[39m\u001b[39m'\u001b[39m]\n",
      "File \u001b[0;32m~/GitHub Repos/Python/.venv/lib/python3.12/site-packages/tf_keras/src/utils/traceback_utils.py:65\u001b[0m, in \u001b[0;36mfilter_traceback.<locals>.error_handler\u001b[0;34m(*args, **kwargs)\u001b[0m\n\u001b[1;32m     63\u001b[0m filtered_tb \u001b[39m=\u001b[39m \u001b[39mNone\u001b[39;00m\n\u001b[1;32m     64\u001b[0m \u001b[39mtry\u001b[39;00m:\n\u001b[0;32m---> 65\u001b[0m     \u001b[39mreturn\u001b[39;00m fn(\u001b[39m*\u001b[39;49margs, \u001b[39m*\u001b[39;49m\u001b[39m*\u001b[39;49mkwargs)\n\u001b[1;32m     66\u001b[0m \u001b[39mexcept\u001b[39;00m \u001b[39mException\u001b[39;00m \u001b[39mas\u001b[39;00m e:\n\u001b[1;32m     67\u001b[0m     filtered_tb \u001b[39m=\u001b[39m _process_traceback_frames(e\u001b[39m.\u001b[39m__traceback__)\n",
      "File \u001b[0;32m~/GitHub Repos/Python/.venv/lib/python3.12/site-packages/tf_keras/src/engine/training.py:1804\u001b[0m, in \u001b[0;36mModel.fit\u001b[0;34m(self, x, y, batch_size, epochs, verbose, callbacks, validation_split, validation_data, shuffle, class_weight, sample_weight, initial_epoch, steps_per_epoch, validation_steps, validation_batch_size, validation_freq, max_queue_size, workers, use_multiprocessing)\u001b[0m\n\u001b[1;32m   1796\u001b[0m \u001b[39mwith\u001b[39;00m tf\u001b[39m.\u001b[39mprofiler\u001b[39m.\u001b[39mexperimental\u001b[39m.\u001b[39mTrace(\n\u001b[1;32m   1797\u001b[0m     \u001b[39m\"\u001b[39m\u001b[39mtrain\u001b[39m\u001b[39m\"\u001b[39m,\n\u001b[1;32m   1798\u001b[0m     epoch_num\u001b[39m=\u001b[39mepoch,\n\u001b[0;32m   (...)\u001b[0m\n\u001b[1;32m   1801\u001b[0m     _r\u001b[39m=\u001b[39m\u001b[39m1\u001b[39m,\n\u001b[1;32m   1802\u001b[0m ):\n\u001b[1;32m   1803\u001b[0m     callbacks\u001b[39m.\u001b[39mon_train_batch_begin(step)\n\u001b[0;32m-> 1804\u001b[0m     tmp_logs \u001b[39m=\u001b[39m \u001b[39mself\u001b[39;49m\u001b[39m.\u001b[39;49mtrain_function(iterator)\n\u001b[1;32m   1805\u001b[0m     \u001b[39mif\u001b[39;00m data_handler\u001b[39m.\u001b[39mshould_sync:\n\u001b[1;32m   1806\u001b[0m         context\u001b[39m.\u001b[39masync_wait()\n",
      "File \u001b[0;32m~/GitHub Repos/Python/.venv/lib/python3.12/site-packages/tensorflow/python/util/traceback_utils.py:150\u001b[0m, in \u001b[0;36mfilter_traceback.<locals>.error_handler\u001b[0;34m(*args, **kwargs)\u001b[0m\n\u001b[1;32m    148\u001b[0m filtered_tb \u001b[39m=\u001b[39m \u001b[39mNone\u001b[39;00m\n\u001b[1;32m    149\u001b[0m \u001b[39mtry\u001b[39;00m:\n\u001b[0;32m--> 150\u001b[0m   \u001b[39mreturn\u001b[39;00m fn(\u001b[39m*\u001b[39;49margs, \u001b[39m*\u001b[39;49m\u001b[39m*\u001b[39;49mkwargs)\n\u001b[1;32m    151\u001b[0m \u001b[39mexcept\u001b[39;00m \u001b[39mException\u001b[39;00m \u001b[39mas\u001b[39;00m e:\n\u001b[1;32m    152\u001b[0m   filtered_tb \u001b[39m=\u001b[39m _process_traceback_frames(e\u001b[39m.\u001b[39m__traceback__)\n",
      "File \u001b[0;32m~/GitHub Repos/Python/.venv/lib/python3.12/site-packages/tensorflow/python/eager/polymorphic_function/polymorphic_function.py:833\u001b[0m, in \u001b[0;36mFunction.__call__\u001b[0;34m(self, *args, **kwds)\u001b[0m\n\u001b[1;32m    830\u001b[0m compiler \u001b[39m=\u001b[39m \u001b[39m\"\u001b[39m\u001b[39mxla\u001b[39m\u001b[39m\"\u001b[39m \u001b[39mif\u001b[39;00m \u001b[39mself\u001b[39m\u001b[39m.\u001b[39m_jit_compile \u001b[39melse\u001b[39;00m \u001b[39m\"\u001b[39m\u001b[39mnonXla\u001b[39m\u001b[39m\"\u001b[39m\n\u001b[1;32m    832\u001b[0m \u001b[39mwith\u001b[39;00m OptionalXlaContext(\u001b[39mself\u001b[39m\u001b[39m.\u001b[39m_jit_compile):\n\u001b[0;32m--> 833\u001b[0m   result \u001b[39m=\u001b[39m \u001b[39mself\u001b[39;49m\u001b[39m.\u001b[39;49m_call(\u001b[39m*\u001b[39;49margs, \u001b[39m*\u001b[39;49m\u001b[39m*\u001b[39;49mkwds)\n\u001b[1;32m    835\u001b[0m new_tracing_count \u001b[39m=\u001b[39m \u001b[39mself\u001b[39m\u001b[39m.\u001b[39mexperimental_get_tracing_count()\n\u001b[1;32m    836\u001b[0m without_tracing \u001b[39m=\u001b[39m (tracing_count \u001b[39m==\u001b[39m new_tracing_count)\n",
      "File \u001b[0;32m~/GitHub Repos/Python/.venv/lib/python3.12/site-packages/tensorflow/python/eager/polymorphic_function/polymorphic_function.py:869\u001b[0m, in \u001b[0;36mFunction._call\u001b[0;34m(self, *args, **kwds)\u001b[0m\n\u001b[1;32m    866\u001b[0m   \u001b[39mself\u001b[39m\u001b[39m.\u001b[39m_lock\u001b[39m.\u001b[39mrelease()\n\u001b[1;32m    867\u001b[0m   \u001b[39m# In this case we have created variables on the first call, so we run the\u001b[39;00m\n\u001b[1;32m    868\u001b[0m   \u001b[39m# defunned version which is guaranteed to never create variables.\u001b[39;00m\n\u001b[0;32m--> 869\u001b[0m   \u001b[39mreturn\u001b[39;00m tracing_compilation\u001b[39m.\u001b[39;49mcall_function(\n\u001b[1;32m    870\u001b[0m       args, kwds, \u001b[39mself\u001b[39;49m\u001b[39m.\u001b[39;49m_no_variable_creation_config\n\u001b[1;32m    871\u001b[0m   )\n\u001b[1;32m    872\u001b[0m \u001b[39melif\u001b[39;00m \u001b[39mself\u001b[39m\u001b[39m.\u001b[39m_variable_creation_config \u001b[39mis\u001b[39;00m \u001b[39mnot\u001b[39;00m \u001b[39mNone\u001b[39;00m:\n\u001b[1;32m    873\u001b[0m   \u001b[39m# Release the lock early so that multiple threads can perform the call\u001b[39;00m\n\u001b[1;32m    874\u001b[0m   \u001b[39m# in parallel.\u001b[39;00m\n\u001b[1;32m    875\u001b[0m   \u001b[39mself\u001b[39m\u001b[39m.\u001b[39m_lock\u001b[39m.\u001b[39mrelease()\n",
      "File \u001b[0;32m~/GitHub Repos/Python/.venv/lib/python3.12/site-packages/tensorflow/python/eager/polymorphic_function/tracing_compilation.py:139\u001b[0m, in \u001b[0;36mcall_function\u001b[0;34m(args, kwargs, tracing_options)\u001b[0m\n\u001b[1;32m    137\u001b[0m bound_args \u001b[39m=\u001b[39m function\u001b[39m.\u001b[39mfunction_type\u001b[39m.\u001b[39mbind(\u001b[39m*\u001b[39margs, \u001b[39m*\u001b[39m\u001b[39m*\u001b[39mkwargs)\n\u001b[1;32m    138\u001b[0m flat_inputs \u001b[39m=\u001b[39m function\u001b[39m.\u001b[39mfunction_type\u001b[39m.\u001b[39munpack_inputs(bound_args)\n\u001b[0;32m--> 139\u001b[0m \u001b[39mreturn\u001b[39;00m function\u001b[39m.\u001b[39;49m_call_flat(  \u001b[39m# pylint: disable=protected-access\u001b[39;49;00m\n\u001b[1;32m    140\u001b[0m     flat_inputs, captured_inputs\u001b[39m=\u001b[39;49mfunction\u001b[39m.\u001b[39;49mcaptured_inputs\n\u001b[1;32m    141\u001b[0m )\n",
      "File \u001b[0;32m~/GitHub Repos/Python/.venv/lib/python3.12/site-packages/tensorflow/python/eager/polymorphic_function/concrete_function.py:1322\u001b[0m, in \u001b[0;36mConcreteFunction._call_flat\u001b[0;34m(self, tensor_inputs, captured_inputs)\u001b[0m\n\u001b[1;32m   1318\u001b[0m possible_gradient_type \u001b[39m=\u001b[39m gradients_util\u001b[39m.\u001b[39mPossibleTapeGradientTypes(args)\n\u001b[1;32m   1319\u001b[0m \u001b[39mif\u001b[39;00m (possible_gradient_type \u001b[39m==\u001b[39m gradients_util\u001b[39m.\u001b[39mPOSSIBLE_GRADIENT_TYPES_NONE\n\u001b[1;32m   1320\u001b[0m     \u001b[39mand\u001b[39;00m executing_eagerly):\n\u001b[1;32m   1321\u001b[0m   \u001b[39m# No tape is watching; skip to running the function.\u001b[39;00m\n\u001b[0;32m-> 1322\u001b[0m   \u001b[39mreturn\u001b[39;00m \u001b[39mself\u001b[39;49m\u001b[39m.\u001b[39;49m_inference_function\u001b[39m.\u001b[39;49mcall_preflattened(args)\n\u001b[1;32m   1323\u001b[0m forward_backward \u001b[39m=\u001b[39m \u001b[39mself\u001b[39m\u001b[39m.\u001b[39m_select_forward_and_backward_functions(\n\u001b[1;32m   1324\u001b[0m     args,\n\u001b[1;32m   1325\u001b[0m     possible_gradient_type,\n\u001b[1;32m   1326\u001b[0m     executing_eagerly)\n\u001b[1;32m   1327\u001b[0m forward_function, args_with_tangents \u001b[39m=\u001b[39m forward_backward\u001b[39m.\u001b[39mforward()\n",
      "File \u001b[0;32m~/GitHub Repos/Python/.venv/lib/python3.12/site-packages/tensorflow/python/eager/polymorphic_function/atomic_function.py:216\u001b[0m, in \u001b[0;36mAtomicFunction.call_preflattened\u001b[0;34m(self, args)\u001b[0m\n\u001b[1;32m    214\u001b[0m \u001b[39mdef\u001b[39;00m\u001b[39m \u001b[39m\u001b[39mcall_preflattened\u001b[39m(\u001b[39mself\u001b[39m, args: Sequence[core\u001b[39m.\u001b[39mTensor]) \u001b[39m-\u001b[39m\u001b[39m>\u001b[39m Any:\n\u001b[1;32m    215\u001b[0m \u001b[39m  \u001b[39m\u001b[39m\"\"\"Calls with flattened tensor inputs and returns the structured output.\"\"\"\u001b[39;00m\n\u001b[0;32m--> 216\u001b[0m   flat_outputs \u001b[39m=\u001b[39m \u001b[39mself\u001b[39;49m\u001b[39m.\u001b[39;49mcall_flat(\u001b[39m*\u001b[39;49margs)\n\u001b[1;32m    217\u001b[0m   \u001b[39mreturn\u001b[39;00m \u001b[39mself\u001b[39m\u001b[39m.\u001b[39mfunction_type\u001b[39m.\u001b[39mpack_output(flat_outputs)\n",
      "File \u001b[0;32m~/GitHub Repos/Python/.venv/lib/python3.12/site-packages/tensorflow/python/eager/polymorphic_function/atomic_function.py:251\u001b[0m, in \u001b[0;36mAtomicFunction.call_flat\u001b[0;34m(self, *args)\u001b[0m\n\u001b[1;32m    249\u001b[0m \u001b[39mwith\u001b[39;00m record\u001b[39m.\u001b[39mstop_recording():\n\u001b[1;32m    250\u001b[0m   \u001b[39mif\u001b[39;00m \u001b[39mself\u001b[39m\u001b[39m.\u001b[39m_bound_context\u001b[39m.\u001b[39mexecuting_eagerly():\n\u001b[0;32m--> 251\u001b[0m     outputs \u001b[39m=\u001b[39m \u001b[39mself\u001b[39;49m\u001b[39m.\u001b[39;49m_bound_context\u001b[39m.\u001b[39;49mcall_function(\n\u001b[1;32m    252\u001b[0m         \u001b[39mself\u001b[39;49m\u001b[39m.\u001b[39;49mname,\n\u001b[1;32m    253\u001b[0m         \u001b[39mlist\u001b[39;49m(args),\n\u001b[1;32m    254\u001b[0m         \u001b[39mlen\u001b[39;49m(\u001b[39mself\u001b[39;49m\u001b[39m.\u001b[39;49mfunction_type\u001b[39m.\u001b[39;49mflat_outputs),\n\u001b[1;32m    255\u001b[0m     )\n\u001b[1;32m    256\u001b[0m   \u001b[39melse\u001b[39;00m:\n\u001b[1;32m    257\u001b[0m     outputs \u001b[39m=\u001b[39m make_call_op_in_graph(\n\u001b[1;32m    258\u001b[0m         \u001b[39mself\u001b[39m,\n\u001b[1;32m    259\u001b[0m         \u001b[39mlist\u001b[39m(args),\n\u001b[1;32m    260\u001b[0m         \u001b[39mself\u001b[39m\u001b[39m.\u001b[39m_bound_context\u001b[39m.\u001b[39mfunction_call_options\u001b[39m.\u001b[39mas_attrs(),\n\u001b[1;32m    261\u001b[0m     )\n",
      "File \u001b[0;32m~/GitHub Repos/Python/.venv/lib/python3.12/site-packages/tensorflow/python/eager/context.py:1683\u001b[0m, in \u001b[0;36mContext.call_function\u001b[0;34m(self, name, tensor_inputs, num_outputs)\u001b[0m\n\u001b[1;32m   1681\u001b[0m cancellation_context \u001b[39m=\u001b[39m cancellation\u001b[39m.\u001b[39mcontext()\n\u001b[1;32m   1682\u001b[0m \u001b[39mif\u001b[39;00m cancellation_context \u001b[39mis\u001b[39;00m \u001b[39mNone\u001b[39;00m:\n\u001b[0;32m-> 1683\u001b[0m   outputs \u001b[39m=\u001b[39m execute\u001b[39m.\u001b[39;49mexecute(\n\u001b[1;32m   1684\u001b[0m       name\u001b[39m.\u001b[39;49mdecode(\u001b[39m\"\u001b[39;49m\u001b[39mutf-8\u001b[39;49m\u001b[39m\"\u001b[39;49m),\n\u001b[1;32m   1685\u001b[0m       num_outputs\u001b[39m=\u001b[39;49mnum_outputs,\n\u001b[1;32m   1686\u001b[0m       inputs\u001b[39m=\u001b[39;49mtensor_inputs,\n\u001b[1;32m   1687\u001b[0m       attrs\u001b[39m=\u001b[39;49mattrs,\n\u001b[1;32m   1688\u001b[0m       ctx\u001b[39m=\u001b[39;49m\u001b[39mself\u001b[39;49m,\n\u001b[1;32m   1689\u001b[0m   )\n\u001b[1;32m   1690\u001b[0m \u001b[39melse\u001b[39;00m:\n\u001b[1;32m   1691\u001b[0m   outputs \u001b[39m=\u001b[39m execute\u001b[39m.\u001b[39mexecute_with_cancellation(\n\u001b[1;32m   1692\u001b[0m       name\u001b[39m.\u001b[39mdecode(\u001b[39m\"\u001b[39m\u001b[39mutf-8\u001b[39m\u001b[39m\"\u001b[39m),\n\u001b[1;32m   1693\u001b[0m       num_outputs\u001b[39m=\u001b[39mnum_outputs,\n\u001b[0;32m   (...)\u001b[0m\n\u001b[1;32m   1697\u001b[0m       cancellation_manager\u001b[39m=\u001b[39mcancellation_context,\n\u001b[1;32m   1698\u001b[0m   )\n",
      "File \u001b[0;32m~/GitHub Repos/Python/.venv/lib/python3.12/site-packages/tensorflow/python/eager/execute.py:53\u001b[0m, in \u001b[0;36mquick_execute\u001b[0;34m(op_name, num_outputs, inputs, attrs, ctx, name)\u001b[0m\n\u001b[1;32m     51\u001b[0m \u001b[39mtry\u001b[39;00m:\n\u001b[1;32m     52\u001b[0m   ctx\u001b[39m.\u001b[39mensure_initialized()\n\u001b[0;32m---> 53\u001b[0m   tensors \u001b[39m=\u001b[39m pywrap_tfe\u001b[39m.\u001b[39;49mTFE_Py_Execute(ctx\u001b[39m.\u001b[39;49m_handle, device_name, op_name,\n\u001b[1;32m     54\u001b[0m                                       inputs, attrs, num_outputs)\n\u001b[1;32m     55\u001b[0m \u001b[39mexcept\u001b[39;00m core\u001b[39m.\u001b[39m_NotOkStatusException \u001b[39mas\u001b[39;00m e:\n\u001b[1;32m     56\u001b[0m   \u001b[39mif\u001b[39;00m name \u001b[39mis\u001b[39;00m \u001b[39mnot\u001b[39;00m \u001b[39mNone\u001b[39;00m:\n",
      "\u001b[0;31mKeyboardInterrupt\u001b[0m: "
     ]
    }
   ],
   "source": [
    "#%%\n",
    "\n",
    "import tensorflow as tf\n",
    "import tf_keras\n",
    "import matplotlib.pyplot as plt\n",
    "import seaborn as sns\n",
    "import numpy as np\n",
    "from tf_keras import layers\n",
    "from tf_keras.models import Sequential\n",
    "from sklearn.metrics import confusion_matrix\n",
    "from sklearn.utils.class_weight import compute_class_weight\n",
    "from sklearn.metrics import classification_report\n",
    "import numpy as np\n",
    "from tf_keras.optimizers import Adam\n",
    "from tf_keras.regularizers import l2\n",
    "\n",
    "tf.keras.backend.clear_session()\n",
    "\n",
    "gpu_devices = tf.config.list_physical_devices('GPU')\n",
    "if gpu_devices:\n",
    "  tf.config.experimental.set_memory_growth(gpu_devices[0], True)\n",
    "  print('GPU found', gpu_devices[0])\n",
    "else:\n",
    "  print('No GPU found')\n",
    "\n",
    "#define image size\n",
    "IMG_SIZE = 224\n",
    "\n",
    "#define batch size\n",
    "BATCH_SIZE = 64\n",
    "\n",
    "#training directory\n",
    "TRAINING_DIR = \"Train\"\n",
    "  \n",
    "#training split\n",
    "train_ds = tf_keras.utils.image_dataset_from_directory(\n",
    "  TRAINING_DIR,\n",
    "  labels = \"inferred\",\n",
    "  image_size = (IMG_SIZE, IMG_SIZE),\n",
    "  batch_size = BATCH_SIZE,\n",
    "  subset = \"training\",\n",
    "  validation_split = 0.25,\n",
    "  seed = 225\n",
    ")\n",
    "\n",
    "#validation split, taken directly from the same directory as train\n",
    "validation_ds = tf_keras.utils.image_dataset_from_directory(\n",
    "  TRAINING_DIR,\n",
    "  labels = \"inferred\",\n",
    "  image_size = (IMG_SIZE, IMG_SIZE),\n",
    "  batch_size = BATCH_SIZE,\n",
    "  subset = 'validation',\n",
    "  validation_split = 0.25,\n",
    "  seed = 225\n",
    ")\n",
    "\n",
    "CLASS_NAMES = train_ds.class_names\n",
    "\n",
    "AUTOTUNE = tf.data.AUTOTUNE\n",
    "train_ds = train_ds.prefetch(buffer_size = AUTOTUNE)\n",
    "val_ds = validation_ds.cache().prefetch(buffer_size = AUTOTUNE)\n",
    "\n",
    "#data augmentation to increase robustness\n",
    "data_augmentation = Sequential([\n",
    "  layers.experimental.preprocessing.RandomFlip('horizontal'),\n",
    "  layers.experimental.preprocessing.RandomRotation(0.2),\n",
    "  layers.experimental.preprocessing.RandomZoom(0.2) \n",
    "])\n",
    "\n",
    "train_ds = train_ds.map(lambda x, y: (data_augmentation(x, training = True), y), num_parallel_calls = AUTOTUNE)\n",
    "\n",
    "num_classes = len(CLASS_NAMES)\n",
    "\n",
    "#normalizing the data\n",
    "norm_layer = layers.Rescaling(1./255)\n",
    "train_ds = train_ds.map(lambda x, y: (norm_layer(x), y))\n",
    "validation_ds = validation_ds.map(lambda x, y: (norm_layer(x), y))\n",
    "\n",
    "#training model\n",
    "model = Sequential([\n",
    "  layers.Conv2D(64, (3, 3),  input_shape = (224, 224, 3)),\n",
    "  layers.Activation('relu'),\n",
    "  layers.MaxPooling2D(2, 2),\n",
    "  layers.Dropout(0.2),  \n",
    "  layers.Conv2D(128, (3, 3)),\n",
    "  layers.Activation('relu'),\n",
    "  layers.MaxPooling2D(2, 2),\n",
    "  layers.Dropout(0.2),\n",
    "  layers.Conv2D(256, (5, 5)), \n",
    "  layers.Activation('relu'),\n",
    "  layers.MaxPooling2D(2, 2),\n",
    "  layers.Dropout(0.2),\n",
    "  layers.Flatten(),\n",
    "  layers.Dense(512, activation = 'relu', kernel_regularizer = l2(0.02)),\n",
    "  layers.Dropout(0.5),\n",
    "  layers.Dense(num_classes, activation = 'softmax')\n",
    "])\n",
    "\n",
    "model.compile(optimizer = Adam(learning_rate = 0.0001, weight_decay = 1e-6), \n",
    "              loss = tf_keras.losses.SparseCategoricalCrossentropy(from_logits = True), \n",
    "              metrics = ['accuracy'])\n",
    "\n",
    "#no of epochs\n",
    "epochs = 50\n",
    "\n",
    "\n",
    "#early stopping\n",
    "early_stopping = tf_keras.callbacks.EarlyStopping(monitor = 'val_loss', \n",
    "                                                  mode = 'min', \n",
    "                                                  verbose = 1, \n",
    "                                                  patience = 10, \n",
    "                                                  restore_best_weights = True)\n",
    "\n",
    "#class weights since the dataset is imbalanced\n",
    "class_weights = {\n",
    "    0: 0.677,  #bike\n",
    "    1: 1.200,  #bus\n",
    "    2: 1.425,  #hatchback\n",
    "    3: 2.768,  #pickup\n",
    "    4: 0.716,  #sedan\n",
    "    5: 1.150,  #suv\n",
    "    6: 0.792,  #truck\n",
    "    7: 0.911   #tuktuk\n",
    "}                                  \n",
    "\n",
    "#fitting of the model\n",
    "history = model.fit(train_ds, \n",
    "                    validation_data = validation_ds, \n",
    "                    epochs = epochs,\n",
    "                    class_weight = class_weights,\n",
    "                    callbacks = [early_stopping])\n",
    "\n",
    "#accuracy and loss values\n",
    "accuracy = history.history['accuracy']\n",
    "val_accuracy = history.history['val_accuracy']\n",
    "\n",
    "loss = history.history['loss']\n",
    "val_loss = history.history['val_loss']\n",
    "\n",
    "epochs_range = range(epochs)\n",
    "\n",
    "true_labels = []\n",
    "predicted_labels = []\n",
    "\n",
    "for images, labels in val_ds:\n",
    "  true_labels.extend(labels.numpy())\n",
    "  pred = model.predict(images)\n",
    "  predicted_labels.extend(np.argmax(pred, axis = 1))\n",
    "\n",
    "confusion_matrix = confusion_matrix(true_labels, predicted_labels)\n",
    "\n",
    "print('Confusion Matrix: ')\n",
    "plt.figure(figsize=(8, 8))\n",
    "sns.heatmap(confusion_matrix, annot = True, fmt = 'd', xticklabels = CLASS_NAMES, yticklabels = CLASS_NAMES, cmap = 'Blues')\n",
    "plt.xlabel('Predicted')\n",
    "plt.ylabel('True')\n",
    "plt.title('Confusion Matrix')\n",
    "\n",
    "score = model.evaluate(validation_ds, verbose = 0)\n",
    "print('Validation loss:', score[0])\n",
    "print('Validation accuracy:', score[1])\n",
    "\n",
    "plt.figure(figsize = (8, 8))\n",
    "plt.subplot(1, 2, 1)\n",
    "plt.plot(accuracy, label = 'Training Accuracy')\n",
    "plt.plot(val_accuracy, label = 'Validation Accuracy')\n",
    "plt.legend(loc = 'lower right')\n",
    "plt.title('Training and Validation Accuracy')\n",
    "\n",
    "plt.subplot(1, 2, 2)\n",
    "plt.plot(loss, label = 'Training Loss')\n",
    "plt.plot(val_loss, label = 'Validation Loss')\n",
    "plt.legend(loc = 'upper right')\n",
    "plt.title('Training and Validation Loss')\n",
    "plt.show()\n",
    "\n",
    "print(classification_report(true_labels, predicted_labels, target_names=CLASS_NAMES))"
   ]
  },
  {
   "cell_type": "code",
   "execution_count": null,
   "id": "a1ba809b-33a9-4772-8eb5-5cf2f23b2822",
   "metadata": {},
   "outputs": [
    {
     "name": "stdout",
     "output_type": "stream",
     "text": [
      "GPU found PhysicalDevice(name='/physical_device:GPU:0', device_type='GPU')\n",
      "Found 5336 files belonging to 8 classes.\n",
      "Using 4002 files for training.\n",
      "Found 5336 files belonging to 8 classes.\n",
      "Using 1334 files for validation.\n",
      "Epoch 1/50\n",
      " 95/126 [=====================>........] - ETA: 7s - loss: 6.1040 - accuracy: 0.1681"
     ]
    },
    {
     "name": "stderr",
     "output_type": "stream",
     "text": [
      "2025-01-20 14:08:37.795669: W tensorflow/core/lib/png/png_io.cc:89] PNG warning: iCCP: known incorrect sRGB profile\n"
     ]
    },
    {
     "name": "stdout",
     "output_type": "stream",
     "text": [
      "126/126 [==============================] - 46s 328ms/step - loss: 5.3366 - accuracy: 0.1802 - val_loss: 2.6551 - val_accuracy: 0.2466\n",
      "Epoch 2/50\n",
      " 95/126 [=====================>........] - ETA: 8s - loss: 2.3948 - accuracy: 0.2507"
     ]
    },
    {
     "name": "stderr",
     "output_type": "stream",
     "text": [
      "2025-01-20 14:09:22.891723: W tensorflow/core/lib/png/png_io.cc:89] PNG warning: iCCP: known incorrect sRGB profile\n"
     ]
    },
    {
     "name": "stdout",
     "output_type": "stream",
     "text": [
      "126/126 [==============================] - 44s 333ms/step - loss: 2.3454 - accuracy: 0.2571 - val_loss: 2.0783 - val_accuracy: 0.3103\n",
      "Epoch 3/50\n",
      " 95/126 [=====================>........] - ETA: 8s - loss: 2.1086 - accuracy: 0.2829"
     ]
    },
    {
     "name": "stderr",
     "output_type": "stream",
     "text": [
      "2025-01-20 14:10:06.744044: W tensorflow/core/lib/png/png_io.cc:89] PNG warning: iCCP: known incorrect sRGB profile\n"
     ]
    },
    {
     "name": "stdout",
     "output_type": "stream",
     "text": [
      "126/126 [==============================] - 44s 334ms/step - loss: 2.0913 - accuracy: 0.2934 - val_loss: 1.9355 - val_accuracy: 0.3321\n",
      "Epoch 4/50\n",
      " 95/126 [=====================>........] - ETA: 8s - loss: 2.0364 - accuracy: 0.3076"
     ]
    },
    {
     "name": "stderr",
     "output_type": "stream",
     "text": [
      "2025-01-20 14:10:50.385083: W tensorflow/core/lib/png/png_io.cc:89] PNG warning: iCCP: known incorrect sRGB profile\n"
     ]
    },
    {
     "name": "stdout",
     "output_type": "stream",
     "text": [
      "126/126 [==============================] - 43s 329ms/step - loss: 2.0259 - accuracy: 0.3133 - val_loss: 1.9042 - val_accuracy: 0.3501\n",
      "Epoch 5/50\n",
      " 95/126 [=====================>........] - ETA: 8s - loss: 2.0086 - accuracy: 0.3161"
     ]
    },
    {
     "name": "stderr",
     "output_type": "stream",
     "text": [
      "2025-01-20 14:11:34.328846: W tensorflow/core/lib/png/png_io.cc:89] PNG warning: iCCP: known incorrect sRGB profile\n"
     ]
    },
    {
     "name": "stdout",
     "output_type": "stream",
     "text": [
      "126/126 [==============================] - 44s 332ms/step - loss: 1.9967 - accuracy: 0.3198 - val_loss: 1.8511 - val_accuracy: 0.3898\n",
      "Epoch 6/50\n",
      " 95/126 [=====================>........] - ETA: 8s - loss: 1.9795 - accuracy: 0.3355"
     ]
    },
    {
     "name": "stderr",
     "output_type": "stream",
     "text": [
      "2025-01-20 14:12:18.590278: W tensorflow/core/lib/png/png_io.cc:89] PNG warning: iCCP: known incorrect sRGB profile\n"
     ]
    },
    {
     "name": "stdout",
     "output_type": "stream",
     "text": [
      "126/126 [==============================] - 44s 336ms/step - loss: 1.9636 - accuracy: 0.3396 - val_loss: 1.8080 - val_accuracy: 0.3868\n",
      "Epoch 7/50\n",
      " 95/126 [=====================>........] - ETA: 8s - loss: 1.9451 - accuracy: 0.3467"
     ]
    },
    {
     "name": "stderr",
     "output_type": "stream",
     "text": [
      "2025-01-20 14:13:03.121743: W tensorflow/core/lib/png/png_io.cc:89] PNG warning: iCCP: known incorrect sRGB profile\n"
     ]
    },
    {
     "name": "stdout",
     "output_type": "stream",
     "text": [
      "126/126 [==============================] - 44s 336ms/step - loss: 1.9379 - accuracy: 0.3466 - val_loss: 1.8173 - val_accuracy: 0.4085\n",
      "Epoch 8/50\n",
      " 95/126 [=====================>........] - ETA: 8s - loss: 1.9062 - accuracy: 0.3664"
     ]
    },
    {
     "name": "stderr",
     "output_type": "stream",
     "text": [
      "2025-01-20 14:13:46.941215: W tensorflow/core/lib/png/png_io.cc:89] PNG warning: iCCP: known incorrect sRGB profile\n"
     ]
    },
    {
     "name": "stdout",
     "output_type": "stream",
     "text": [
      "126/126 [==============================] - 44s 332ms/step - loss: 1.9073 - accuracy: 0.3676 - val_loss: 1.7835 - val_accuracy: 0.4115\n",
      "Epoch 9/50\n",
      " 95/126 [=====================>........] - ETA: 8s - loss: 1.8864 - accuracy: 0.3868"
     ]
    },
    {
     "name": "stderr",
     "output_type": "stream",
     "text": [
      "2025-01-20 14:14:30.932555: W tensorflow/core/lib/png/png_io.cc:89] PNG warning: iCCP: known incorrect sRGB profile\n"
     ]
    },
    {
     "name": "stdout",
     "output_type": "stream",
     "text": [
      "126/126 [==============================] - 44s 333ms/step - loss: 1.8886 - accuracy: 0.3883 - val_loss: 1.7957 - val_accuracy: 0.4303\n",
      "Epoch 10/50\n",
      " 95/126 [=====================>........] - ETA: 8s - loss: 1.8697 - accuracy: 0.3845"
     ]
    },
    {
     "name": "stderr",
     "output_type": "stream",
     "text": [
      "2025-01-20 14:15:15.122894: W tensorflow/core/lib/png/png_io.cc:89] PNG warning: iCCP: known incorrect sRGB profile\n"
     ]
    },
    {
     "name": "stdout",
     "output_type": "stream",
     "text": [
      "126/126 [==============================] - 44s 334ms/step - loss: 1.8702 - accuracy: 0.3828 - val_loss: 1.7536 - val_accuracy: 0.4055\n",
      "Epoch 11/50\n",
      " 95/126 [=====================>........] - ETA: 7s - loss: 1.8701 - accuracy: 0.3882"
     ]
    },
    {
     "name": "stderr",
     "output_type": "stream",
     "text": [
      "2025-01-20 14:15:58.079466: W tensorflow/core/lib/png/png_io.cc:89] PNG warning: iCCP: known incorrect sRGB profile\n"
     ]
    },
    {
     "name": "stdout",
     "output_type": "stream",
     "text": [
      "126/126 [==============================] - 43s 324ms/step - loss: 1.8719 - accuracy: 0.3881 - val_loss: 1.7513 - val_accuracy: 0.4160\n",
      "Epoch 12/50\n",
      " 95/126 [=====================>........] - ETA: 7s - loss: 1.8296 - accuracy: 0.4039"
     ]
    },
    {
     "name": "stderr",
     "output_type": "stream",
     "text": [
      "2025-01-20 14:16:40.611546: W tensorflow/core/lib/png/png_io.cc:89] PNG warning: iCCP: known incorrect sRGB profile\n"
     ]
    },
    {
     "name": "stdout",
     "output_type": "stream",
     "text": [
      "126/126 [==============================] - 42s 319ms/step - loss: 1.8312 - accuracy: 0.4058 - val_loss: 1.7605 - val_accuracy: 0.4085\n",
      "Epoch 13/50\n",
      " 95/126 [=====================>........] - ETA: 7s - loss: 1.8184 - accuracy: 0.4095"
     ]
    },
    {
     "name": "stderr",
     "output_type": "stream",
     "text": [
      "2025-01-20 14:17:22.628506: W tensorflow/core/lib/png/png_io.cc:89] PNG warning: iCCP: known incorrect sRGB profile\n"
     ]
    },
    {
     "name": "stdout",
     "output_type": "stream",
     "text": [
      "126/126 [==============================] - 41s 312ms/step - loss: 1.8195 - accuracy: 0.4103 - val_loss: 1.7449 - val_accuracy: 0.4183\n",
      "Epoch 14/50\n",
      " 95/126 [=====================>........] - ETA: 7s - loss: 1.8057 - accuracy: 0.4260"
     ]
    },
    {
     "name": "stderr",
     "output_type": "stream",
     "text": [
      "2025-01-20 14:18:02.658074: W tensorflow/core/lib/png/png_io.cc:89] PNG warning: iCCP: known incorrect sRGB profile\n"
     ]
    },
    {
     "name": "stdout",
     "output_type": "stream",
     "text": [
      "126/126 [==============================] - 40s 302ms/step - loss: 1.8071 - accuracy: 0.4220 - val_loss: 1.6821 - val_accuracy: 0.4580\n",
      "Epoch 15/50\n",
      " 95/126 [=====================>........] - ETA: 7s - loss: 1.7984 - accuracy: 0.4270"
     ]
    },
    {
     "name": "stderr",
     "output_type": "stream",
     "text": [
      "2025-01-20 14:18:42.943850: W tensorflow/core/lib/png/png_io.cc:89] PNG warning: iCCP: known incorrect sRGB profile\n"
     ]
    },
    {
     "name": "stdout",
     "output_type": "stream",
     "text": [
      "126/126 [==============================] - 40s 306ms/step - loss: 1.8023 - accuracy: 0.4265 - val_loss: 1.6646 - val_accuracy: 0.4625\n",
      "Epoch 16/50\n",
      " 95/126 [=====================>........] - ETA: 7s - loss: 1.7785 - accuracy: 0.4500"
     ]
    },
    {
     "name": "stderr",
     "output_type": "stream",
     "text": [
      "2025-01-20 14:19:23.567585: W tensorflow/core/lib/png/png_io.cc:89] PNG warning: iCCP: known incorrect sRGB profile\n"
     ]
    },
    {
     "name": "stdout",
     "output_type": "stream",
     "text": [
      "126/126 [==============================] - 41s 309ms/step - loss: 1.7789 - accuracy: 0.4448 - val_loss: 1.7514 - val_accuracy: 0.4528\n",
      "Epoch 17/50\n",
      " 95/126 [=====================>........] - ETA: 7s - loss: 1.8029 - accuracy: 0.4322"
     ]
    },
    {
     "name": "stderr",
     "output_type": "stream",
     "text": [
      "2025-01-20 14:20:04.167014: W tensorflow/core/lib/png/png_io.cc:89] PNG warning: iCCP: known incorrect sRGB profile\n"
     ]
    },
    {
     "name": "stdout",
     "output_type": "stream",
     "text": [
      "126/126 [==============================] - 40s 306ms/step - loss: 1.7944 - accuracy: 0.4345 - val_loss: 1.6398 - val_accuracy: 0.4610\n",
      "Epoch 18/50\n",
      " 95/126 [=====================>........] - ETA: 7s - loss: 1.7811 - accuracy: 0.4352"
     ]
    },
    {
     "name": "stderr",
     "output_type": "stream",
     "text": [
      "2025-01-20 14:20:44.617991: W tensorflow/core/lib/png/png_io.cc:89] PNG warning: iCCP: known incorrect sRGB profile\n"
     ]
    },
    {
     "name": "stdout",
     "output_type": "stream",
     "text": [
      "126/126 [==============================] - 40s 304ms/step - loss: 1.7813 - accuracy: 0.4325 - val_loss: 1.7513 - val_accuracy: 0.4423\n",
      "Epoch 19/50\n",
      " 95/126 [=====================>........] - ETA: 7s - loss: 1.7664 - accuracy: 0.4395"
     ]
    },
    {
     "name": "stderr",
     "output_type": "stream",
     "text": [
      "2025-01-20 14:21:24.170658: W tensorflow/core/lib/png/png_io.cc:89] PNG warning: iCCP: known incorrect sRGB profile\n"
     ]
    },
    {
     "name": "stdout",
     "output_type": "stream",
     "text": [
      "126/126 [==============================] - 39s 298ms/step - loss: 1.7743 - accuracy: 0.4335 - val_loss: 1.6678 - val_accuracy: 0.4760\n",
      "Epoch 20/50\n",
      " 95/126 [=====================>........] - ETA: 7s - loss: 1.7644 - accuracy: 0.4474"
     ]
    },
    {
     "name": "stderr",
     "output_type": "stream",
     "text": [
      "2025-01-20 14:22:04.415697: W tensorflow/core/lib/png/png_io.cc:89] PNG warning: iCCP: known incorrect sRGB profile\n"
     ]
    },
    {
     "name": "stdout",
     "output_type": "stream",
     "text": [
      "126/126 [==============================] - 40s 306ms/step - loss: 1.7534 - accuracy: 0.4473 - val_loss: 1.6683 - val_accuracy: 0.4730\n",
      "Epoch 21/50\n",
      " 95/126 [=====================>........] - ETA: 7s - loss: 1.7750 - accuracy: 0.4434"
     ]
    },
    {
     "name": "stderr",
     "output_type": "stream",
     "text": [
      "2025-01-20 14:22:44.635481: W tensorflow/core/lib/png/png_io.cc:89] PNG warning: iCCP: known incorrect sRGB profile\n"
     ]
    },
    {
     "name": "stdout",
     "output_type": "stream",
     "text": [
      "126/126 [==============================] - 40s 304ms/step - loss: 1.7673 - accuracy: 0.4445 - val_loss: 1.6482 - val_accuracy: 0.4745\n",
      "Epoch 22/50\n",
      " 95/126 [=====================>........] - ETA: 7s - loss: 1.7528 - accuracy: 0.4454"
     ]
    },
    {
     "name": "stderr",
     "output_type": "stream",
     "text": [
      "2025-01-20 14:23:24.170544: W tensorflow/core/lib/png/png_io.cc:89] PNG warning: iCCP: known incorrect sRGB profile\n"
     ]
    },
    {
     "name": "stdout",
     "output_type": "stream",
     "text": [
      "126/126 [==============================] - 39s 295ms/step - loss: 1.7634 - accuracy: 0.4415 - val_loss: 1.6553 - val_accuracy: 0.4708\n",
      "Epoch 23/50\n",
      " 95/126 [=====================>........] - ETA: 7s - loss: 1.7504 - accuracy: 0.4586"
     ]
    },
    {
     "name": "stderr",
     "output_type": "stream",
     "text": [
      "2025-01-20 14:24:04.180812: W tensorflow/core/lib/png/png_io.cc:89] PNG warning: iCCP: known incorrect sRGB profile\n"
     ]
    },
    {
     "name": "stdout",
     "output_type": "stream",
     "text": [
      "126/126 [==============================] - 40s 307ms/step - loss: 1.7509 - accuracy: 0.4543 - val_loss: 1.6377 - val_accuracy: 0.4925\n",
      "Epoch 24/50\n",
      " 95/126 [=====================>........] - ETA: 7s - loss: 1.7310 - accuracy: 0.4678"
     ]
    },
    {
     "name": "stderr",
     "output_type": "stream",
     "text": [
      "2025-01-20 14:24:44.950030: W tensorflow/core/lib/png/png_io.cc:89] PNG warning: iCCP: known incorrect sRGB profile\n"
     ]
    },
    {
     "name": "stdout",
     "output_type": "stream",
     "text": [
      "126/126 [==============================] - 41s 308ms/step - loss: 1.7383 - accuracy: 0.4638 - val_loss: 1.6620 - val_accuracy: 0.4910\n",
      "Epoch 25/50\n",
      " 95/126 [=====================>........] - ETA: 7s - loss: 1.7252 - accuracy: 0.4674"
     ]
    },
    {
     "name": "stderr",
     "output_type": "stream",
     "text": [
      "2025-01-20 14:25:25.301898: W tensorflow/core/lib/png/png_io.cc:89] PNG warning: iCCP: known incorrect sRGB profile\n"
     ]
    },
    {
     "name": "stdout",
     "output_type": "stream",
     "text": [
      "126/126 [==============================] - 40s 306ms/step - loss: 1.7331 - accuracy: 0.4650 - val_loss: 1.6536 - val_accuracy: 0.4970\n",
      "Epoch 26/50\n",
      " 95/126 [=====================>........] - ETA: 7s - loss: 1.7211 - accuracy: 0.4632"
     ]
    },
    {
     "name": "stderr",
     "output_type": "stream",
     "text": [
      "2025-01-20 14:26:06.005408: W tensorflow/core/lib/png/png_io.cc:89] PNG warning: iCCP: known incorrect sRGB profile\n"
     ]
    },
    {
     "name": "stdout",
     "output_type": "stream",
     "text": [
      "126/126 [==============================] - 41s 309ms/step - loss: 1.7295 - accuracy: 0.4640 - val_loss: 1.6361 - val_accuracy: 0.4963\n",
      "Epoch 27/50\n",
      " 95/126 [=====================>........] - ETA: 7s - loss: 1.7401 - accuracy: 0.4622"
     ]
    },
    {
     "name": "stderr",
     "output_type": "stream",
     "text": [
      "2025-01-20 14:26:46.779388: W tensorflow/core/lib/png/png_io.cc:89] PNG warning: iCCP: known incorrect sRGB profile\n"
     ]
    },
    {
     "name": "stdout",
     "output_type": "stream",
     "text": [
      "126/126 [==============================] - 40s 305ms/step - loss: 1.7399 - accuracy: 0.4603 - val_loss: 1.6955 - val_accuracy: 0.4873\n",
      "Epoch 28/50\n",
      " 95/126 [=====================>........] - ETA: 7s - loss: 1.7155 - accuracy: 0.4793"
     ]
    },
    {
     "name": "stderr",
     "output_type": "stream",
     "text": [
      "2025-01-20 14:27:27.520805: W tensorflow/core/lib/png/png_io.cc:89] PNG warning: iCCP: known incorrect sRGB profile\n"
     ]
    },
    {
     "name": "stdout",
     "output_type": "stream",
     "text": [
      "126/126 [==============================] - 41s 308ms/step - loss: 1.7088 - accuracy: 0.4823 - val_loss: 1.6639 - val_accuracy: 0.4760\n",
      "Epoch 29/50\n",
      " 95/126 [=====================>........] - ETA: 7s - loss: 1.7427 - accuracy: 0.4641"
     ]
    },
    {
     "name": "stderr",
     "output_type": "stream",
     "text": [
      "2025-01-20 14:28:07.291116: W tensorflow/core/lib/png/png_io.cc:89] PNG warning: iCCP: known incorrect sRGB profile\n"
     ]
    },
    {
     "name": "stdout",
     "output_type": "stream",
     "text": [
      "126/126 [==============================] - 40s 300ms/step - loss: 1.7366 - accuracy: 0.4623 - val_loss: 1.6429 - val_accuracy: 0.4903\n",
      "Epoch 30/50\n",
      " 95/126 [=====================>........] - ETA: 7s - loss: 1.7224 - accuracy: 0.4747"
     ]
    },
    {
     "name": "stderr",
     "output_type": "stream",
     "text": [
      "2025-01-20 14:28:47.724101: W tensorflow/core/lib/png/png_io.cc:89] PNG warning: iCCP: known incorrect sRGB profile\n"
     ]
    },
    {
     "name": "stdout",
     "output_type": "stream",
     "text": [
      "126/126 [==============================] - 40s 306ms/step - loss: 1.7240 - accuracy: 0.4748 - val_loss: 1.6125 - val_accuracy: 0.5097\n",
      "Epoch 31/50\n",
      " 95/126 [=====================>........] - ETA: 7s - loss: 1.7058 - accuracy: 0.4796"
     ]
    },
    {
     "name": "stderr",
     "output_type": "stream",
     "text": [
      "2025-01-20 14:29:27.921064: W tensorflow/core/lib/png/png_io.cc:89] PNG warning: iCCP: known incorrect sRGB profile\n"
     ]
    },
    {
     "name": "stdout",
     "output_type": "stream",
     "text": [
      "126/126 [==============================] - 40s 305ms/step - loss: 1.7134 - accuracy: 0.4803 - val_loss: 1.6520 - val_accuracy: 0.4948\n",
      "Epoch 32/50\n",
      " 95/126 [=====================>........] - ETA: 7s - loss: 1.7072 - accuracy: 0.4928"
     ]
    },
    {
     "name": "stderr",
     "output_type": "stream",
     "text": [
      "2025-01-20 14:30:07.833177: W tensorflow/core/lib/png/png_io.cc:89] PNG warning: iCCP: known incorrect sRGB profile\n"
     ]
    },
    {
     "name": "stdout",
     "output_type": "stream",
     "text": [
      "126/126 [==============================] - 40s 300ms/step - loss: 1.6980 - accuracy: 0.4898 - val_loss: 1.6514 - val_accuracy: 0.5120\n",
      "Epoch 33/50\n",
      " 95/126 [=====================>........] - ETA: 7s - loss: 1.7265 - accuracy: 0.4852"
     ]
    },
    {
     "name": "stderr",
     "output_type": "stream",
     "text": [
      "2025-01-20 14:30:46.919563: W tensorflow/core/lib/png/png_io.cc:89] PNG warning: iCCP: known incorrect sRGB profile\n"
     ]
    },
    {
     "name": "stdout",
     "output_type": "stream",
     "text": [
      "126/126 [==============================] - 39s 294ms/step - loss: 1.7204 - accuracy: 0.4790 - val_loss: 1.6871 - val_accuracy: 0.4723\n",
      "Epoch 34/50\n",
      " 95/126 [=====================>........] - ETA: 7s - loss: 1.8850 - accuracy: 0.4234"
     ]
    },
    {
     "name": "stderr",
     "output_type": "stream",
     "text": [
      "2025-01-20 14:31:25.583794: W tensorflow/core/lib/png/png_io.cc:89] PNG warning: iCCP: known incorrect sRGB profile\n"
     ]
    },
    {
     "name": "stdout",
     "output_type": "stream",
     "text": [
      "126/126 [==============================] - 38s 289ms/step - loss: 1.8499 - accuracy: 0.4338 - val_loss: 1.6393 - val_accuracy: 0.4925\n",
      "Epoch 35/50\n",
      " 95/126 [=====================>........] - ETA: 7s - loss: 1.7457 - accuracy: 0.4720"
     ]
    },
    {
     "name": "stderr",
     "output_type": "stream",
     "text": [
      "2025-01-20 14:32:04.187331: W tensorflow/core/lib/png/png_io.cc:89] PNG warning: iCCP: known incorrect sRGB profile\n"
     ]
    },
    {
     "name": "stdout",
     "output_type": "stream",
     "text": [
      "126/126 [==============================] - 39s 293ms/step - loss: 1.7417 - accuracy: 0.4758 - val_loss: 1.6488 - val_accuracy: 0.4895\n",
      "Epoch 36/50\n",
      " 95/126 [=====================>........] - ETA: 7s - loss: 1.6825 - accuracy: 0.4931"
     ]
    },
    {
     "name": "stderr",
     "output_type": "stream",
     "text": [
      "2025-01-20 14:32:43.248174: W tensorflow/core/lib/png/png_io.cc:89] PNG warning: iCCP: known incorrect sRGB profile\n"
     ]
    },
    {
     "name": "stdout",
     "output_type": "stream",
     "text": [
      "126/126 [==============================] - 39s 294ms/step - loss: 1.6926 - accuracy: 0.4920 - val_loss: 1.6664 - val_accuracy: 0.4910\n",
      "Epoch 37/50\n",
      " 95/126 [=====================>........] - ETA: 7s - loss: 1.6800 - accuracy: 0.5069"
     ]
    },
    {
     "name": "stderr",
     "output_type": "stream",
     "text": [
      "2025-01-20 14:33:22.005067: W tensorflow/core/lib/png/png_io.cc:89] PNG warning: iCCP: known incorrect sRGB profile\n"
     ]
    },
    {
     "name": "stdout",
     "output_type": "stream",
     "text": [
      "126/126 [==============================] - 38s 290ms/step - loss: 1.6886 - accuracy: 0.5005 - val_loss: 1.6645 - val_accuracy: 0.5090\n",
      "Epoch 38/50\n",
      " 95/126 [=====================>........] - ETA: 7s - loss: 1.6856 - accuracy: 0.4977"
     ]
    },
    {
     "name": "stderr",
     "output_type": "stream",
     "text": [
      "2025-01-20 14:34:00.244118: W tensorflow/core/lib/png/png_io.cc:89] PNG warning: iCCP: known incorrect sRGB profile\n"
     ]
    },
    {
     "name": "stdout",
     "output_type": "stream",
     "text": [
      "126/126 [==============================] - 39s 293ms/step - loss: 1.6877 - accuracy: 0.4978 - val_loss: 1.6653 - val_accuracy: 0.5022\n",
      "Epoch 39/50\n",
      " 95/126 [=====================>........] - ETA: 7s - loss: 1.6614 - accuracy: 0.5092"
     ]
    },
    {
     "name": "stderr",
     "output_type": "stream",
     "text": [
      "2025-01-20 14:34:38.487537: W tensorflow/core/lib/png/png_io.cc:89] PNG warning: iCCP: known incorrect sRGB profile\n"
     ]
    },
    {
     "name": "stdout",
     "output_type": "stream",
     "text": [
      "126/126 [==============================] - 38s 285ms/step - loss: 1.6593 - accuracy: 0.5057 - val_loss: 1.6467 - val_accuracy: 0.4955\n",
      "Epoch 40/50\n",
      " 95/126 [=====================>........] - ETA: 7s - loss: 1.6750 - accuracy: 0.5026"
     ]
    },
    {
     "name": "stderr",
     "output_type": "stream",
     "text": [
      "2025-01-20 14:35:16.756704: W tensorflow/core/lib/png/png_io.cc:89] PNG warning: iCCP: known incorrect sRGB profile\n"
     ]
    },
    {
     "name": "stdout",
     "output_type": "stream",
     "text": [
      "126/126 [==============================] - 38s 291ms/step - loss: 1.6671 - accuracy: 0.5050 - val_loss: 1.6904 - val_accuracy: 0.5112\n",
      "Epoch 40: early stopping\n",
      "Restoring model weights from the end of the best epoch: 30.\n",
      "1/1 [==============================] - 0s 67ms/step\n",
      "1/1 [==============================] - 0s 17ms/step\n",
      "1/1 [==============================] - 0s 19ms/step\n",
      "1/1 [==============================] - 0s 17ms/step\n",
      "1/1 [==============================] - 0s 19ms/step\n",
      "1/1 [==============================] - 0s 36ms/step\n",
      "1/1 [==============================] - 0s 18ms/step\n",
      "1/1 [==============================] - 0s 21ms/step\n",
      "1/1 [==============================] - 0s 17ms/step\n",
      "1/1 [==============================] - 0s 27ms/step\n",
      "1/1 [==============================] - 0s 23ms/step\n",
      "1/1 [==============================] - 0s 22ms/step\n",
      "1/1 [==============================] - 0s 18ms/step\n",
      "1/1 [==============================] - 0s 17ms/step\n",
      "1/1 [==============================] - 0s 22ms/step\n",
      "1/1 [==============================] - 0s 17ms/step\n",
      "1/1 [==============================] - 0s 23ms/step\n",
      "1/1 [==============================] - 0s 24ms/step\n",
      "1/1 [==============================] - 0s 21ms/step\n",
      "1/1 [==============================] - 0s 20ms/step\n",
      "1/1 [==============================] - 0s 23ms/step\n",
      "1/1 [==============================] - 0s 17ms/step\n",
      "1/1 [==============================] - 0s 23ms/step\n",
      "1/1 [==============================] - 0s 18ms/step\n",
      "1/1 [==============================] - 0s 23ms/step\n",
      "1/1 [==============================] - 0s 24ms/step\n",
      "1/1 [==============================] - 0s 17ms/step\n",
      "1/1 [==============================] - 0s 29ms/step\n",
      "1/1 [==============================] - 0s 18ms/step\n",
      "1/1 [==============================] - 0s 18ms/step\n",
      "1/1 [==============================] - 0s 17ms/step\n",
      "1/1 [==============================] - 0s 19ms/step\n",
      "1/1 [==============================] - 0s 18ms/step\n",
      "1/1 [==============================] - 0s 25ms/step\n",
      "1/1 [==============================] - 0s 25ms/step\n",
      "1/1 [==============================] - 0s 25ms/step\n",
      "1/1 [==============================] - 0s 26ms/step\n",
      "1/1 [==============================] - 0s 17ms/step\n",
      "1/1 [==============================] - 0s 17ms/step\n",
      "1/1 [==============================] - 0s 19ms/step\n",
      "1/1 [==============================] - 0s 17ms/step\n",
      "1/1 [==============================] - 0s 54ms/step\n",
      "Confusion Matrix: \n"
     ]
    },
    {
     "name": "stderr",
     "output_type": "stream",
     "text": [
      "2025-01-20 14:35:41.412662: I tensorflow/core/framework/local_rendezvous.cc:405] Local rendezvous is aborting with status: OUT_OF_RANGE: End of sequence\n"
     ]
    },
    {
     "name": "stdout",
     "output_type": "stream",
     "text": [
      "Validation loss: 1.612548589706421\n",
      "Validation accuracy: 0.5097451210021973\n"
     ]
    },
    {
     "data": {
      "image/png": "[encoded data removed]",
      "text/plain": [
       "<Figure size 800x800 with 2 Axes>"
      ]
     },
     "metadata": {},
     "output_type": "display_data"
    },
    {
     "data": {
      "image/png": "[encoded data removed]",
      "text/plain": [
       "<Figure size 800x800 with 2 Axes>"
      ]
     },
     "metadata": {},
     "output_type": "display_data"
    },
    {
     "name": "stdout",
     "output_type": "stream",
     "text": [
      "              precision    recall  f1-score   support\n",
      "\n",
      "        Bike       0.40      0.84      0.54       268\n",
      "         Bus       0.29      0.46      0.36       129\n",
      "   Hatchback       0.35      0.60      0.44       109\n",
      "      Pickup       0.18      0.25      0.21        59\n",
      "         SUV       0.00      0.00      0.00       149\n",
      "       Sedan       0.69      0.10      0.17       223\n",
      "       Truck       0.82      0.39      0.53       226\n",
      "      TukTuk       0.55      0.50      0.52       171\n",
      "\n",
      "    accuracy                           0.42      1334\n",
      "   macro avg       0.41      0.39      0.35      1334\n",
      "weighted avg       0.47      0.42      0.37      1334\n",
      "\n"
     ]
    },
    {
     "name": "stderr",
     "output_type": "stream",
     "text": [
      "/home/adiicmp/GitHub Repos/Python/.venv/lib/python3.12/site-packages/sklearn/metrics/_classification.py:1565: UndefinedMetricWarning: Precision is ill-defined and being set to 0.0 in labels with no predicted samples. Use `zero_division` parameter to control this behavior.\n",
      "  _warn_prf(average, modifier, f\"{metric.capitalize()} is\", len(result))\n",
      "/home/adiicmp/GitHub Repos/Python/.venv/lib/python3.12/site-packages/sklearn/metrics/_classification.py:1565: UndefinedMetricWarning: Precision is ill-defined and being set to 0.0 in labels with no predicted samples. Use `zero_division` parameter to control this behavior.\n",
      "  _warn_prf(average, modifier, f\"{metric.capitalize()} is\", len(result))\n",
      "/home/adiicmp/GitHub Repos/Python/.venv/lib/python3.12/site-packages/sklearn/metrics/_classification.py:1565: UndefinedMetricWarning: Precision is ill-defined and being set to 0.0 in labels with no predicted samples. Use `zero_division` parameter to control this behavior.\n",
      "  _warn_prf(average, modifier, f\"{metric.capitalize()} is\", len(result))\n"
     ]
    }
   ],
   "source": [
    "#%%\n",
    "\n",
    "import tensorflow as tf\n",
    "import tf_keras\n",
    "import matplotlib.pyplot as plt\n",
    "import seaborn as sns\n",
    "import numpy as np\n",
    "from tf_keras import layers\n",
    "from tf_keras.models import Sequential\n",
    "from sklearn.metrics import confusion_matrix\n",
    "from sklearn.utils.class_weight import compute_class_weight\n",
    "from sklearn.metrics import classification_report\n",
    "import numpy as np\n",
    "from tf_keras.optimizers import Adam\n",
    "from tf_keras.regularizers import l2\n",
    "\n",
    "tf.keras.backend.clear_session()\n",
    "\n",
    "gpu_devices = tf.config.list_physical_devices('GPU')\n",
    "if gpu_devices:\n",
    "  tf.config.experimental.set_memory_growth(gpu_devices[0], True)\n",
    "  print('GPU found', gpu_devices[0])\n",
    "else:\n",
    "  print('No GPU found')\n",
    "\n",
    "#define image size\n",
    "IMG_SIZE = 224\n",
    "\n",
    "#define batch size\n",
    "BATCH_SIZE = 32\n",
    "\n",
    "#training directory\n",
    "TRAINING_DIR = \"Train\"\n",
    "  \n",
    "#training split\n",
    "train_ds = tf_keras.utils.image_dataset_from_directory(\n",
    "  TRAINING_DIR,\n",
    "  labels = \"inferred\",\n",
    "  image_size = (IMG_SIZE, IMG_SIZE),\n",
    "  batch_size = BATCH_SIZE,\n",
    "  subset = \"training\",\n",
    "  validation_split = 0.25,\n",
    "  seed = 225\n",
    ")\n",
    "\n",
    "#validation split, taken directly from the same directory as train\n",
    "validation_ds = tf_keras.utils.image_dataset_from_directory(\n",
    "  TRAINING_DIR,\n",
    "  labels = \"inferred\",\n",
    "  image_size = (IMG_SIZE, IMG_SIZE),\n",
    "  batch_size = BATCH_SIZE,\n",
    "  subset = 'validation',\n",
    "  validation_split = 0.25,\n",
    "  seed = 225\n",
    ")\n",
    "\n",
    "CLASS_NAMES = train_ds.class_names\n",
    "\n",
    "AUTOTUNE = tf.data.AUTOTUNE\n",
    "train_ds = train_ds.prefetch(buffer_size = AUTOTUNE)\n",
    "val_ds = validation_ds.cache().prefetch(buffer_size = AUTOTUNE)\n",
    "\n",
    "#data augmentation to increase robustness\n",
    "data_augmentation = Sequential([\n",
    "  layers.experimental.preprocessing.RandomFlip('horizontal'),\n",
    "  layers.experimental.preprocessing.RandomRotation(0.2),\n",
    "  layers.experimental.preprocessing.RandomZoom(0.2) \n",
    "])\n",
    "\n",
    "train_ds = train_ds.map(lambda x, y: (data_augmentation(x, training = True), y), num_parallel_calls = AUTOTUNE)\n",
    "\n",
    "num_classes = len(CLASS_NAMES)\n",
    "\n",
    "#normalizing the data\n",
    "norm_layer = layers.Rescaling(1./255)\n",
    "train_ds = train_ds.map(lambda x, y: (norm_layer(x), y))\n",
    "validation_ds = validation_ds.map(lambda x, y: (norm_layer(x), y))\n",
    "\n",
    "#training model\n",
    "model = Sequential([\n",
    "  layers.Conv2D(32, (3, 3),  input_shape = (224, 224, 3)),\n",
    "  layers.Activation('relu'),\n",
    "  layers.MaxPooling2D(2, 2),\n",
    "  layers.Conv2D(64, (3, 3)),\n",
    "  layers.Activation('relu'),\n",
    "  layers.MaxPooling2D(2, 2),\n",
    "  layers.Conv2D(128, (5, 5)), \n",
    "  layers.Activation('relu'),\n",
    "  layers.MaxPooling2D(2, 2),\n",
    "  layers.Flatten(),\n",
    "  layers.Dense(256, activation = 'relu', kernel_regularizer = l2(0.02)),\n",
    "  layers.Dropout(0.5),\n",
    "  layers.Dense(num_classes, activation = 'softmax')\n",
    "])\n",
    "\n",
    "model.compile(optimizer = Adam(learning_rate = 0.0001, weight_decay = 1e-6), \n",
    "              loss = tf_keras.losses.SparseCategoricalCrossentropy(from_logits = True), \n",
    "              metrics = ['accuracy'])\n",
    "\n",
    "#no of epochs\n",
    "epochs = 50\n",
    "\n",
    "\n",
    "#early stopping\n",
    "early_stopping = tf_keras.callbacks.EarlyStopping(monitor = 'val_loss', \n",
    "                                                  mode = 'min', \n",
    "                                                  verbose = 1, \n",
    "                                                  patience = 10, \n",
    "                                                  restore_best_weights = True)\n",
    "\n",
    "#class weights since the dataset is imbalanced\n",
    "class_weights = {\n",
    "    0: 0.677,  #bike\n",
    "    1: 1.200,  #bus\n",
    "    2: 1.425,  #hatchback\n",
    "    3: 2.768,  #pickup\n",
    "    4: 0.716,  #sedan\n",
    "    5: 1.150,  #suv\n",
    "    6: 0.792,  #truck\n",
    "    7: 0.911   #tuktuk\n",
    "}                                  \n",
    "\n",
    "#fitting of the model\n",
    "history = model.fit(train_ds, \n",
    "                    validation_data = validation_ds, \n",
    "                    epochs = epochs,\n",
    "                    class_weight = class_weights,\n",
    "                    callbacks = [early_stopping])\n",
    "\n",
    "#accuracy and loss values\n",
    "accuracy = history.history['accuracy']\n",
    "val_accuracy = history.history['val_accuracy']\n",
    "\n",
    "loss = history.history['loss']\n",
    "val_loss = history.history['val_loss']\n",
    "\n",
    "epochs_range = range(epochs)\n",
    "\n",
    "true_labels = []\n",
    "predicted_labels = []\n",
    "\n",
    "for images, labels in val_ds:\n",
    "  true_labels.extend(labels.numpy())\n",
    "  pred = model.predict(images)\n",
    "  predicted_labels.extend(np.argmax(pred, axis = 1))\n",
    "\n",
    "confusion_matrix = confusion_matrix(true_labels, predicted_labels)\n",
    "\n",
    "print('Confusion Matrix: ')\n",
    "plt.figure(figsize=(8, 8))\n",
    "sns.heatmap(confusion_matrix, annot = True, fmt = 'd', xticklabels = CLASS_NAMES, yticklabels = CLASS_NAMES, cmap = 'Blues')\n",
    "plt.xlabel('Predicted')\n",
    "plt.ylabel('True')\n",
    "plt.title('Confusion Matrix')\n",
    "\n",
    "score = model.evaluate(validation_ds, verbose = 0)\n",
    "print('Validation loss:', score[0])\n",
    "print('Validation accuracy:', score[1])\n",
    "\n",
    "plt.figure(figsize = (8, 8))\n",
    "plt.subplot(1, 2, 1)\n",
    "plt.plot(accuracy, label = 'Training Accuracy')\n",
    "plt.plot(val_accuracy, label = 'Validation Accuracy')\n",
    "plt.legend(loc = 'lower right')\n",
    "plt.title('Training and Validation Accuracy')\n",
    "\n",
    "plt.subplot(1, 2, 2)\n",
    "plt.plot(loss, label = 'Training Loss')\n",
    "plt.plot(val_loss, label = 'Validation Loss')\n",
    "plt.legend(loc = 'upper right')\n",
    "plt.title('Training and Validation Loss')\n",
    "plt.show()\n",
    "\n",
    "print(classification_report(true_labels, predicted_labels, target_names=CLASS_NAMES))"
   ]
  }
 ],
 "metadata": {
  "language_info": {
   "codemirror_mode": {
    "name": "ipython",
    "version": 3
   },
   "file_extension": ".py",
   "mimetype": "text/x-python",
   "name": "python",
   "nbconvert_exporter": "python",
   "pygments_lexer": "ipython3",
   "version": 3
  }
 },
 "nbformat": 4,
 "nbformat_minor": 2
}
