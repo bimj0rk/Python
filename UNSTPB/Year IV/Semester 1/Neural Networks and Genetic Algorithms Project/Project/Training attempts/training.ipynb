{
 "cells": [
  {
   "cell_type": "markdown",
   "metadata": {},
   "source": [
    "Connected to .venv (Python 3.12.3)"
   ]
  },
  {
   "cell_type": "code",
   "execution_count": null,
   "id": "800a2c69-a2cf-4983-90c0-a37072e9623a",
   "metadata": {},
   "outputs": [
    {
     "name": "stderr",
     "output_type": "stream",
     "text": [
      "2025-01-18 23:27:41.910585: E external/local_xla/xla/stream_executor/cuda/cuda_fft.cc:477] Unable to register cuFFT factory: Attempting to register factory for plugin cuFFT when one has already been registered\n",
      "WARNING: All log messages before absl::InitializeLog() is called are written to STDERR\n",
      "E0000 00:00:1737235661.926617   86370 cuda_dnn.cc:8310] Unable to register cuDNN factory: Attempting to register factory for plugin cuDNN when one has already been registered\n",
      "E0000 00:00:1737235661.931516   86370 cuda_blas.cc:1418] Unable to register cuBLAS factory: Attempting to register factory for plugin cuBLAS when one has already been registered\n",
      "2025-01-18 23:27:41.947787: I tensorflow/core/platform/cpu_feature_guard.cc:210] This TensorFlow binary is optimized to use available CPU instructions in performance-critical operations.\n",
      "To enable the following instructions: AVX2 FMA, in other operations, rebuild TensorFlow with the appropriate compiler flags.\n"
     ]
    },
    {
     "name": "stdout",
     "output_type": "stream",
     "text": [
      "GPU found PhysicalDevice(name='/physical_device:GPU:0', device_type='GPU')\n",
      "Found 5500 files belonging to 10 classes.\n"
     ]
    },
    {
     "name": "stderr",
     "output_type": "stream",
     "text": [
      "I0000 00:00:1737235669.948114   86370 gpu_device.cc:2022] Created device /job:localhost/replica:0/task:0/device:GPU:0 with 4802 MB memory:  -> device: 0, name: NVIDIA GeForce GTX 1060 6GB, pci bus id: 0000:01:00.0, compute capability: 6.1\n"
     ]
    },
    {
     "name": "stdout",
     "output_type": "stream",
     "text": [
      "Found 1266 files belonging to 10 classes.\n"
     ]
    },
    {
     "name": "stderr",
     "output_type": "stream",
     "text": [
      "2025-01-18 23:28:00.978301: I tensorflow/core/kernels/data/shuffle_dataset_op.cc:450] ShuffleDatasetV3:15: Filling up shuffle buffer (this may take a while): 32 of 1000\n",
      "2025-01-18 23:28:20.943456: I tensorflow/core/kernels/data/shuffle_dataset_op.cc:450] ShuffleDatasetV3:15: Filling up shuffle buffer (this may take a while): 109 of 1000\n",
      "2025-01-18 23:28:31.028175: I tensorflow/core/kernels/data/shuffle_dataset_op.cc:450] ShuffleDatasetV3:15: Filling up shuffle buffer (this may take a while): 147 of 1000\n"
     ]
    },
    {
     "name": "stdout",
     "output_type": "stream",
     "text": [
      "Epoch 1/100\n"
     ]
    },
    {
     "name": "stderr",
     "output_type": "stream",
     "text": [
      "2025-01-18 23:28:35.461530: I tensorflow/core/kernels/data/shuffle_dataset_op.cc:480] Shuffle buffer filled.\n",
      "/home/adiicmp/GitHub Repos/Python/.venv/lib/python3.12/site-packages/tf_keras/src/backend.py:5729: UserWarning: \"`sparse_categorical_crossentropy` received `from_logits=True`, but the `output` argument was produced by a Softmax activation and thus does not represent logits. Was this intended?\n",
      "  output, from_logits = _get_logits(\n",
      "I0000 00:00:1737235716.225053   86421 cuda_dnn.cc:529] Loaded cuDNN version 90300\n",
      "WARNING: All log messages before absl::InitializeLog() is called are written to STDERR\n",
      "I0000 00:00:1737235717.473514   86420 service.cc:148] XLA service 0x7e68604cf310 initialized for platform CUDA (this does not guarantee that XLA will be used). Devices:\n",
      "I0000 00:00:1737235717.473533   86420 service.cc:156]   StreamExecutor device (0): NVIDIA GeForce GTX 1060 6GB, Compute Capability 6.1\n",
      "2025-01-18 23:28:37.478356: I tensorflow/compiler/mlir/tensorflow/utils/dump_mlir_util.cc:268] disabling MLIR crash reproducer, set env var `MLIR_CRASH_REPRODUCER_DIRECTORY` to enable.\n",
      "I0000 00:00:1737235717.538257   86420 device_compiler.h:188] Compiled cluster using XLA!  This line is logged at most once for the lifetime of the process.\n"
     ]
    },
    {
     "name": "stdout",
     "output_type": "stream",
     "text": [
      "172/172 [==============================] - ETA: 0s - loss: 21.4117 - accuracy: 0.1738"
     ]
    },
    {
     "name": "stderr",
     "output_type": "stream",
     "text": [
      "2025-01-18 23:28:53.966906: W tensorflow/core/lib/png/png_io.cc:89] PNG warning: iCCP: known incorrect sRGB profile\n"
     ]
    },
    {
     "name": "stdout",
     "output_type": "stream",
     "text": [
      "172/172 [==============================] - 25s 128ms/step - loss: 21.4117 - accuracy: 0.1738 - val_loss: 2.2038 - val_accuracy: 0.2401\n",
      "Epoch 2/100\n",
      "172/172 [==============================] - ETA: 0s - loss: 2.1358 - accuracy: 0.2418"
     ]
    },
    {
     "name": "stderr",
     "output_type": "stream",
     "text": [
      "2025-01-18 23:29:14.675119: W tensorflow/core/lib/png/png_io.cc:89] PNG warning: iCCP: known incorrect sRGB profile\n"
     ]
    },
    {
     "name": "stdout",
     "output_type": "stream",
     "text": [
      "172/172 [==============================] - 20s 118ms/step - loss: 2.1358 - accuracy: 0.2418 - val_loss: 2.1163 - val_accuracy: 0.2346\n",
      "Epoch 3/100\n",
      "172/172 [==============================] - ETA: 0s - loss: 1.9388 - accuracy: 0.3180"
     ]
    },
    {
     "name": "stderr",
     "output_type": "stream",
     "text": [
      "2025-01-18 23:29:34.843612: W tensorflow/core/lib/png/png_io.cc:89] PNG warning: iCCP: known incorrect sRGB profile\n"
     ]
    },
    {
     "name": "stdout",
     "output_type": "stream",
     "text": [
      "172/172 [==============================] - 20s 118ms/step - loss: 1.9388 - accuracy: 0.3180 - val_loss: 2.1384 - val_accuracy: 0.2567\n",
      "Epoch 4/100\n",
      "172/172 [==============================] - ETA: 0s - loss: 1.7042 - accuracy: 0.4035"
     ]
    },
    {
     "name": "stderr",
     "output_type": "stream",
     "text": [
      "2025-01-18 23:29:55.092189: W tensorflow/core/lib/png/png_io.cc:89] PNG warning: iCCP: known incorrect sRGB profile\n"
     ]
    },
    {
     "name": "stdout",
     "output_type": "stream",
     "text": [
      "172/172 [==============================] - 20s 119ms/step - loss: 1.7042 - accuracy: 0.4035 - val_loss: 2.1592 - val_accuracy: 0.2938\n",
      "Epoch 5/100\n",
      "172/172 [==============================] - ETA: 0s - loss: 1.5038 - accuracy: 0.4804"
     ]
    },
    {
     "name": "stderr",
     "output_type": "stream",
     "text": [
      "2025-01-18 23:30:14.998774: W tensorflow/core/lib/png/png_io.cc:89] PNG warning: iCCP: known incorrect sRGB profile\n"
     ]
    },
    {
     "name": "stdout",
     "output_type": "stream",
     "text": [
      "172/172 [==============================] - 20s 115ms/step - loss: 1.5038 - accuracy: 0.4804 - val_loss: 2.4120 - val_accuracy: 0.3160\n",
      "Epoch 6/100\n",
      "172/172 [==============================] - ETA: 0s - loss: 1.2973 - accuracy: 0.5509"
     ]
    },
    {
     "name": "stderr",
     "output_type": "stream",
     "text": [
      "2025-01-18 23:30:34.687784: W tensorflow/core/lib/png/png_io.cc:89] PNG warning: iCCP: known incorrect sRGB profile\n"
     ]
    },
    {
     "name": "stdout",
     "output_type": "stream",
     "text": [
      "172/172 [==============================] - 20s 115ms/step - loss: 1.2973 - accuracy: 0.5509 - val_loss: 2.3796 - val_accuracy: 0.3294\n",
      "Epoch 7/100\n",
      "172/172 [==============================] - ETA: 0s - loss: 1.0733 - accuracy: 0.6322"
     ]
    },
    {
     "name": "stderr",
     "output_type": "stream",
     "text": [
      "2025-01-18 23:30:54.217022: W tensorflow/core/lib/png/png_io.cc:89] PNG warning: iCCP: known incorrect sRGB profile\n"
     ]
    },
    {
     "name": "stdout",
     "output_type": "stream",
     "text": [
      "172/172 [==============================] - 19s 113ms/step - loss: 1.0733 - accuracy: 0.6322 - val_loss: 2.6150 - val_accuracy: 0.3381\n",
      "Epoch 8/100\n",
      "172/172 [==============================] - ETA: 0s - loss: 0.9217 - accuracy: 0.6825"
     ]
    },
    {
     "name": "stderr",
     "output_type": "stream",
     "text": [
      "2025-01-18 23:31:13.453440: W tensorflow/core/lib/png/png_io.cc:89] PNG warning: iCCP: known incorrect sRGB profile\n"
     ]
    },
    {
     "name": "stdout",
     "output_type": "stream",
     "text": [
      "172/172 [==============================] - 19s 112ms/step - loss: 0.9217 - accuracy: 0.6825 - val_loss: 2.9250 - val_accuracy: 0.3578\n",
      "Epoch 9/100\n",
      "172/172 [==============================] - ETA: 0s - loss: 0.8534 - accuracy: 0.7133"
     ]
    },
    {
     "name": "stderr",
     "output_type": "stream",
     "text": [
      "2025-01-18 23:31:32.645725: W tensorflow/core/lib/png/png_io.cc:89] PNG warning: iCCP: known incorrect sRGB profile\n"
     ]
    },
    {
     "name": "stdout",
     "output_type": "stream",
     "text": [
      "172/172 [==============================] - 19s 110ms/step - loss: 0.8534 - accuracy: 0.7133 - val_loss: 2.8620 - val_accuracy: 0.3618\n",
      "Epoch 10/100\n",
      "172/172 [==============================] - ETA: 0s - loss: 0.7223 - accuracy: 0.7629"
     ]
    },
    {
     "name": "stderr",
     "output_type": "stream",
     "text": [
      "2025-01-18 23:31:51.418938: W tensorflow/core/lib/png/png_io.cc:89] PNG warning: iCCP: known incorrect sRGB profile\n"
     ]
    },
    {
     "name": "stdout",
     "output_type": "stream",
     "text": [
      "172/172 [==============================] - 19s 111ms/step - loss: 0.7223 - accuracy: 0.7629 - val_loss: 3.3832 - val_accuracy: 0.3657\n",
      "Epoch 11/100\n",
      "172/172 [==============================] - ETA: 0s - loss: 0.6603 - accuracy: 0.7880"
     ]
    },
    {
     "name": "stderr",
     "output_type": "stream",
     "text": [
      "2025-01-18 23:32:10.410182: W tensorflow/core/lib/png/png_io.cc:89] PNG warning: iCCP: known incorrect sRGB profile\n"
     ]
    },
    {
     "name": "stdout",
     "output_type": "stream",
     "text": [
      "172/172 [==============================] - 19s 111ms/step - loss: 0.6603 - accuracy: 0.7880 - val_loss: 3.4303 - val_accuracy: 0.3641\n",
      "Epoch 12/100\n",
      "172/172 [==============================] - ETA: 0s - loss: 0.5510 - accuracy: 0.8236"
     ]
    },
    {
     "name": "stderr",
     "output_type": "stream",
     "text": [
      "2025-01-18 23:32:29.619610: W tensorflow/core/lib/png/png_io.cc:89] PNG warning: iCCP: known incorrect sRGB profile\n"
     ]
    },
    {
     "name": "stdout",
     "output_type": "stream",
     "text": [
      "172/172 [==============================] - 19s 112ms/step - loss: 0.5510 - accuracy: 0.8236 - val_loss: 3.8751 - val_accuracy: 0.3705\n",
      "Epoch 13/100\n",
      "172/172 [==============================] - ETA: 0s - loss: 0.4922 - accuracy: 0.8422"
     ]
    },
    {
     "name": "stderr",
     "output_type": "stream",
     "text": [
      "2025-01-18 23:32:48.855319: W tensorflow/core/lib/png/png_io.cc:89] PNG warning: iCCP: known incorrect sRGB profile\n"
     ]
    },
    {
     "name": "stdout",
     "output_type": "stream",
     "text": [
      "172/172 [==============================] - 19s 112ms/step - loss: 0.4922 - accuracy: 0.8422 - val_loss: 3.8911 - val_accuracy: 0.3681\n",
      "Epoch 14/100\n",
      "172/172 [==============================] - ETA: 0s - loss: 0.4868 - accuracy: 0.8438"
     ]
    },
    {
     "name": "stderr",
     "output_type": "stream",
     "text": [
      "2025-01-18 23:33:08.071965: W tensorflow/core/lib/png/png_io.cc:89] PNG warning: iCCP: known incorrect sRGB profile\n"
     ]
    },
    {
     "name": "stdout",
     "output_type": "stream",
     "text": [
      "172/172 [==============================] - 19s 112ms/step - loss: 0.4868 - accuracy: 0.8438 - val_loss: 3.8051 - val_accuracy: 0.3902\n",
      "Epoch 15/100\n",
      "172/172 [==============================] - ETA: 0s - loss: 0.4192 - accuracy: 0.8691"
     ]
    },
    {
     "name": "stderr",
     "output_type": "stream",
     "text": [
      "2025-01-18 23:33:27.192136: W tensorflow/core/lib/png/png_io.cc:89] PNG warning: iCCP: known incorrect sRGB profile\n"
     ]
    },
    {
     "name": "stdout",
     "output_type": "stream",
     "text": [
      "172/172 [==============================] - 19s 111ms/step - loss: 0.4192 - accuracy: 0.8691 - val_loss: 4.9490 - val_accuracy: 0.3776\n",
      "Epoch 16/100\n",
      "172/172 [==============================] - ETA: 0s - loss: 0.4027 - accuracy: 0.8724"
     ]
    },
    {
     "name": "stderr",
     "output_type": "stream",
     "text": [
      "2025-01-18 23:33:46.348516: W tensorflow/core/lib/png/png_io.cc:89] PNG warning: iCCP: known incorrect sRGB profile\n"
     ]
    },
    {
     "name": "stdout",
     "output_type": "stream",
     "text": [
      "172/172 [==============================] - 19s 111ms/step - loss: 0.4027 - accuracy: 0.8724 - val_loss: 4.5058 - val_accuracy: 0.3768\n",
      "Epoch 17/100\n",
      "172/172 [==============================] - ETA: 0s - loss: 0.3902 - accuracy: 0.8787"
     ]
    },
    {
     "name": "stderr",
     "output_type": "stream",
     "text": [
      "2025-01-18 23:34:05.511899: W tensorflow/core/lib/png/png_io.cc:89] PNG warning: iCCP: known incorrect sRGB profile\n"
     ]
    },
    {
     "name": "stdout",
     "output_type": "stream",
     "text": [
      "172/172 [==============================] - 19s 112ms/step - loss: 0.3902 - accuracy: 0.8787 - val_loss: 4.3036 - val_accuracy: 0.3815\n",
      "Epoch 18/100\n",
      "172/172 [==============================] - ETA: 0s - loss: 0.3630 - accuracy: 0.8845"
     ]
    },
    {
     "name": "stderr",
     "output_type": "stream",
     "text": [
      "2025-01-18 23:34:24.631498: W tensorflow/core/lib/png/png_io.cc:89] PNG warning: iCCP: known incorrect sRGB profile\n"
     ]
    },
    {
     "name": "stdout",
     "output_type": "stream",
     "text": [
      "172/172 [==============================] - 19s 111ms/step - loss: 0.3630 - accuracy: 0.8845 - val_loss: 4.6409 - val_accuracy: 0.3823\n",
      "Epoch 19/100\n",
      "172/172 [==============================] - ETA: 0s - loss: 0.3595 - accuracy: 0.8918"
     ]
    },
    {
     "name": "stderr",
     "output_type": "stream",
     "text": [
      "2025-01-18 23:34:43.768977: W tensorflow/core/lib/png/png_io.cc:89] PNG warning: iCCP: known incorrect sRGB profile\n"
     ]
    },
    {
     "name": "stdout",
     "output_type": "stream",
     "text": [
      "172/172 [==============================] - 19s 111ms/step - loss: 0.3595 - accuracy: 0.8918 - val_loss: 4.0722 - val_accuracy: 0.3870\n",
      "Epoch 20/100\n",
      "172/172 [==============================] - ETA: 0s - loss: 0.3322 - accuracy: 0.8958"
     ]
    },
    {
     "name": "stderr",
     "output_type": "stream",
     "text": [
      "2025-01-18 23:35:02.792620: W tensorflow/core/lib/png/png_io.cc:89] PNG warning: iCCP: known incorrect sRGB profile\n"
     ]
    },
    {
     "name": "stdout",
     "output_type": "stream",
     "text": [
      "172/172 [==============================] - 19s 111ms/step - loss: 0.3322 - accuracy: 0.8958 - val_loss: 4.3556 - val_accuracy: 0.3965\n",
      "Epoch 21/100\n",
      "172/172 [==============================] - ETA: 0s - loss: 0.3380 - accuracy: 0.9042"
     ]
    },
    {
     "name": "stderr",
     "output_type": "stream",
     "text": [
      "2025-01-18 23:35:22.020988: W tensorflow/core/lib/png/png_io.cc:89] PNG warning: iCCP: known incorrect sRGB profile\n"
     ]
    },
    {
     "name": "stdout",
     "output_type": "stream",
     "text": [
      "172/172 [==============================] - 19s 110ms/step - loss: 0.3380 - accuracy: 0.9042 - val_loss: 4.8288 - val_accuracy: 0.3760\n",
      "Epoch 22/100\n",
      "172/172 [==============================] - ETA: 0s - loss: 0.3273 - accuracy: 0.9058"
     ]
    },
    {
     "name": "stderr",
     "output_type": "stream",
     "text": [
      "2025-01-18 23:35:40.684517: W tensorflow/core/lib/png/png_io.cc:89] PNG warning: iCCP: known incorrect sRGB profile\n"
     ]
    },
    {
     "name": "stdout",
     "output_type": "stream",
     "text": [
      "172/172 [==============================] - 19s 109ms/step - loss: 0.3273 - accuracy: 0.9058 - val_loss: 4.9537 - val_accuracy: 0.3768\n",
      "Epoch 23/100\n",
      "172/172 [==============================] - ETA: 0s - loss: 0.2820 - accuracy: 0.9124"
     ]
    },
    {
     "name": "stderr",
     "output_type": "stream",
     "text": [
      "2025-01-18 23:35:59.434277: W tensorflow/core/lib/png/png_io.cc:89] PNG warning: iCCP: known incorrect sRGB profile\n"
     ]
    },
    {
     "name": "stdout",
     "output_type": "stream",
     "text": [
      "172/172 [==============================] - 19s 110ms/step - loss: 0.2820 - accuracy: 0.9124 - val_loss: 5.7260 - val_accuracy: 0.3918\n",
      "Epoch 24/100\n",
      "172/172 [==============================] - ETA: 0s - loss: 0.2986 - accuracy: 0.9129"
     ]
    },
    {
     "name": "stderr",
     "output_type": "stream",
     "text": [
      "2025-01-18 23:36:18.243413: W tensorflow/core/lib/png/png_io.cc:89] PNG warning: iCCP: known incorrect sRGB profile\n"
     ]
    },
    {
     "name": "stdout",
     "output_type": "stream",
     "text": [
      "172/172 [==============================] - 19s 109ms/step - loss: 0.2986 - accuracy: 0.9129 - val_loss: 5.1776 - val_accuracy: 0.3752\n",
      "Epoch 25/100\n",
      "172/172 [==============================] - ETA: 0s - loss: 0.2833 - accuracy: 0.9193"
     ]
    },
    {
     "name": "stderr",
     "output_type": "stream",
     "text": [
      "2025-01-18 23:36:37.129020: W tensorflow/core/lib/png/png_io.cc:89] PNG warning: iCCP: known incorrect sRGB profile\n"
     ]
    },
    {
     "name": "stdout",
     "output_type": "stream",
     "text": [
      "172/172 [==============================] - 19s 109ms/step - loss: 0.2833 - accuracy: 0.9193 - val_loss: 5.2132 - val_accuracy: 0.3602\n",
      "Epoch 26/100\n",
      "172/172 [==============================] - ETA: 0s - loss: 0.2582 - accuracy: 0.9273"
     ]
    },
    {
     "name": "stderr",
     "output_type": "stream",
     "text": [
      "2025-01-18 23:36:55.786398: W tensorflow/core/lib/png/png_io.cc:89] PNG warning: iCCP: known incorrect sRGB profile\n"
     ]
    },
    {
     "name": "stdout",
     "output_type": "stream",
     "text": [
      "172/172 [==============================] - 19s 109ms/step - loss: 0.2582 - accuracy: 0.9273 - val_loss: 6.0717 - val_accuracy: 0.3752\n",
      "Epoch 27/100\n",
      "172/172 [==============================] - ETA: 0s - loss: 0.2478 - accuracy: 0.9276"
     ]
    },
    {
     "name": "stderr",
     "output_type": "stream",
     "text": [
      "2025-01-18 23:37:14.588418: W tensorflow/core/lib/png/png_io.cc:89] PNG warning: iCCP: known incorrect sRGB profile\n"
     ]
    },
    {
     "name": "stdout",
     "output_type": "stream",
     "text": [
      "172/172 [==============================] - 19s 111ms/step - loss: 0.2478 - accuracy: 0.9276 - val_loss: 5.2839 - val_accuracy: 0.3831\n",
      "Epoch 28/100\n",
      "172/172 [==============================] - ETA: 0s - loss: 0.2357 - accuracy: 0.9345"
     ]
    },
    {
     "name": "stderr",
     "output_type": "stream",
     "text": [
      "2025-01-18 23:37:33.773553: W tensorflow/core/lib/png/png_io.cc:89] PNG warning: iCCP: known incorrect sRGB profile\n"
     ]
    },
    {
     "name": "stdout",
     "output_type": "stream",
     "text": [
      "172/172 [==============================] - 19s 112ms/step - loss: 0.2357 - accuracy: 0.9345 - val_loss: 5.9419 - val_accuracy: 0.3902\n",
      "Epoch 29/100\n",
      "172/172 [==============================] - ETA: 0s - loss: 0.2353 - accuracy: 0.9360"
     ]
    },
    {
     "name": "stderr",
     "output_type": "stream",
     "text": [
      "2025-01-18 23:37:52.969293: W tensorflow/core/lib/png/png_io.cc:89] PNG warning: iCCP: known incorrect sRGB profile\n"
     ]
    },
    {
     "name": "stdout",
     "output_type": "stream",
     "text": [
      "172/172 [==============================] - 19s 112ms/step - loss: 0.2353 - accuracy: 0.9360 - val_loss: 5.5216 - val_accuracy: 0.3839\n",
      "Epoch 30/100\n",
      "172/172 [==============================] - ETA: 0s - loss: 0.2468 - accuracy: 0.9300"
     ]
    },
    {
     "name": "stderr",
     "output_type": "stream",
     "text": [
      "2025-01-18 23:38:12.014828: W tensorflow/core/lib/png/png_io.cc:89] PNG warning: iCCP: known incorrect sRGB profile\n"
     ]
    },
    {
     "name": "stdout",
     "output_type": "stream",
     "text": [
      "172/172 [==============================] - 19s 111ms/step - loss: 0.2468 - accuracy: 0.9300 - val_loss: 5.3166 - val_accuracy: 0.3894\n",
      "1/1 [==============================] - 0s 66ms/step\n",
      "1/1 [==============================] - 0s 24ms/step\n"
     ]
    },
    {
     "name": "stderr",
     "output_type": "stream",
     "text": [
      "2025-01-18 23:38:20.460926: W tensorflow/core/lib/png/png_io.cc:89] PNG warning: iCCP: known incorrect sRGB profile\n"
     ]
    },
    {
     "name": "stdout",
     "output_type": "stream",
     "text": [
      "1/1 [==============================] - 0s 23ms/step\n",
      "1/1 [==============================] - 0s 18ms/step\n",
      "1/1 [==============================] - 0s 17ms/step\n",
      "1/1 [==============================] - 0s 17ms/step\n",
      "1/1 [==============================] - 0s 16ms/step\n",
      "1/1 [==============================] - 0s 20ms/step\n",
      "1/1 [==============================] - 0s 19ms/step\n",
      "1/1 [==============================] - 0s 17ms/step\n",
      "1/1 [==============================] - 0s 23ms/step\n",
      "1/1 [==============================] - 0s 18ms/step\n",
      "1/1 [==============================] - 0s 23ms/step\n",
      "1/1 [==============================] - 0s 17ms/step\n",
      "1/1 [==============================] - 0s 16ms/step\n",
      "1/1 [==============================] - 0s 17ms/step\n",
      "1/1 [==============================] - 0s 33ms/step\n",
      "1/1 [==============================] - 0s 17ms/step\n",
      "1/1 [==============================] - 0s 28ms/step\n",
      "1/1 [==============================] - 0s 16ms/step\n",
      "1/1 [==============================] - 0s 17ms/step\n",
      "1/1 [==============================] - 0s 19ms/step\n",
      "1/1 [==============================] - 0s 16ms/step\n",
      "1/1 [==============================] - 0s 17ms/step\n",
      "1/1 [==============================] - 0s 27ms/step\n",
      "1/1 [==============================] - 0s 16ms/step\n",
      "1/1 [==============================] - 0s 23ms/step\n",
      "1/1 [==============================] - 0s 20ms/step\n",
      "1/1 [==============================] - 0s 24ms/step\n",
      "1/1 [==============================] - 0s 24ms/step\n",
      "1/1 [==============================] - 0s 23ms/step\n",
      "1/1 [==============================] - 0s 16ms/step\n",
      "1/1 [==============================] - 0s 16ms/step\n",
      "1/1 [==============================] - 0s 22ms/step\n",
      "1/1 [==============================] - 0s 16ms/step\n",
      "1/1 [==============================] - 0s 16ms/step\n",
      "1/1 [==============================] - 0s 16ms/step\n",
      "1/1 [==============================] - 0s 16ms/step\n",
      "1/1 [==============================] - 0s 16ms/step\n",
      "1/1 [==============================] - 0s 66ms/step\n",
      "Confusion Matrix: \n",
      "Accuracy Score:  0.38941548183254343\n"
     ]
    },
    {
     "name": "stderr",
     "output_type": "stream",
     "text": [
      "2025-01-18 23:38:27.438220: I tensorflow/core/framework/local_rendezvous.cc:405] Local rendezvous is aborting with status: OUT_OF_RANGE: End of sequence\n"
     ]
    },
    {
     "data": {
      "image/png": "[encoded data removed]",
      "text/plain": [
       "<Figure size 800x800 with 2 Axes>"
      ]
     },
     "metadata": {},
     "output_type": "display_data"
    },
    {
     "data": {
      "image/png": "[encoded data removed]",
      "text/plain": [
       "<Figure size 800x800 with 2 Axes>"
      ]
     },
     "metadata": {},
     "output_type": "display_data"
    }
   ],
   "source": [
    "import tensorflow as tf\n",
    "import tf_keras\n",
    "import matplotlib.pyplot as plt\n",
    "import seaborn as sns\n",
    "import numpy as np\n",
    "from tf_keras import layers\n",
    "from tf_keras.models import Sequential\n",
    "from sklearn.metrics import confusion_matrix, accuracy_score\n",
    "\n",
    "gpu_devices = tf.config.list_physical_devices('GPU')\n",
    "if gpu_devices:\n",
    "  tf.config.experimental.set_memory_growth(gpu_devices[0], True)\n",
    "  print('GPU found', gpu_devices[0])\n",
    "else:\n",
    "  print('No GPU found')\n",
    "\n",
    "#define image size\n",
    "IMG_SIZE = 224\n",
    "\n",
    "#define batch size\n",
    "BATCH_SIZE = 32\n",
    "\n",
    "#training and valdiation directories\n",
    "TRAINING_DIR = \"Train\"\n",
    "VALIDATION_DIR = \"Validation\"\n",
    "\n",
    "# Create a function for preprocessing images\n",
    "def process_image_mobilenet(image_path):\n",
    "  image = tf.io.read_file(image_path) # Turn the jpeg image into numerical Tensor with 3 colour channels (Red, Green, Blue)\n",
    "  image = tf.image.decode_jpeg(image, channels = 3) # Convert the colour channel values from 0-255 to 0-1 values\n",
    "  image = tf.image.convert_image_dtype(image, tf.float32)# Resize the image to our desired value (224, 224)\n",
    "  image = tf.image.resize(image, size=[IMG_SIZE, IMG_SIZE])\n",
    "\n",
    "  return image\n",
    "  \n",
    "#training split\n",
    "train_ds = tf_keras.utils.image_dataset_from_directory(\n",
    "  TRAINING_DIR,\n",
    "  labels = \"inferred\",\n",
    "  image_size = (IMG_SIZE, IMG_SIZE),\n",
    "  batch_size = BATCH_SIZE,\n",
    "  seed = 225\n",
    ")\n",
    "\n",
    "#validation split, taken directly from the same directory as train\n",
    "validation_ds = tf_keras.utils.image_dataset_from_directory(\n",
    "  VALIDATION_DIR,\n",
    "  labels = \"inferred\",\n",
    "  image_size = (IMG_SIZE, IMG_SIZE),\n",
    "  batch_size = BATCH_SIZE,\n",
    "  seed = 225\n",
    ")\n",
    "\n",
    "CLASS_NAMES = train_ds.class_names\n",
    "\n",
    "AUTOTUNE = tf.data.AUTOTUNE\n",
    "train_ds = train_ds.cache().shuffle(1000).prefetch(buffer_size = AUTOTUNE)\n",
    "val_ds = validation_ds.cache().prefetch(buffer_size = AUTOTUNE)\n",
    "\n",
    "norm_layer = layers.Rescaling(1./255)\n",
    "norm_ds = train_ds.map(lambda x, y: (norm_layer(x), y))\n",
    "image_batch, labels_batch = next(iter(norm_ds))\n",
    "\n",
    "num_classes = len(CLASS_NAMES)\n",
    "\n",
    "#training model\n",
    "model = Sequential([\n",
    "  layers.Conv2D(32, (3, 3), activation = 'relu', input_shape = (224, 224, 3)),\n",
    "  layers.MaxPooling2D(2, 2),\n",
    "  layers.Conv2D(64, (3, 3), activation = 'relu'),\n",
    "  layers.MaxPooling2D(2, 2),\n",
    "  layers.Conv2D(128, (3, 3), activation = 'relu'),\n",
    "  layers.MaxPooling2D(2, 2),\n",
    "  layers.Flatten(),\n",
    "  layers.Dense(128, activation = 'relu'),\n",
    "  layers.Dropout(0.5),\n",
    "  layers.Dense(num_classes, activation = 'softmax')\n",
    "])\n",
    "\n",
    "model.compile(optimizer = 'adam', loss = tf_keras.losses.SparseCategoricalCrossentropy(from_logits = True), metrics = ['accuracy'])\n",
    "\n",
    "#no of epochs\n",
    "epochs = 100\n",
    "\n",
    "#early stopping\n",
    "early_stopping = tf_keras.callbacks.EarlyStopping(monitor = \"val_accuracy\", patience = 10)\n",
    "\n",
    "#fitting of the model\n",
    "history = model.fit(train_ds, validation_data = validation_ds, epochs = epochs, callbacks = [early_stopping])\n",
    "\n",
    "#accuracy and loss values\n",
    "accuracy = history.history['accuracy']\n",
    "val_accuracy = history.history[('val_accuracy')]\n",
    "\n",
    "loss = history.history['loss']\n",
    "val_loss = history.history['val_loss']\n",
    "\n",
    "epochs_range = range(epochs)\n",
    "\n",
    "true_labels = []\n",
    "predicted_labels = []\n",
    "\n",
    "for images, labels in val_ds:\n",
    "  true_labels.extend(labels.numpy())\n",
    "  pred = model.predict(images)\n",
    "  predicted_labels.extend(np.argmax(pred, axis = 1))\n",
    "\n",
    "confusion_matrix = confusion_matrix(true_labels, predicted_labels)\n",
    "accuracy_score = accuracy_score(true_labels, predicted_labels)\n",
    "\n",
    "print('Confusion Matrix: ')\n",
    "plt.figure(figsize=(8, 8))\n",
    "sns.heatmap(confusion_matrix, annot = True, fmt = 'd', xticklabels = CLASS_NAMES, yticklabels = CLASS_NAMES, cmap = 'Blues')\n",
    "plt.xlabel('Predicted')\n",
    "plt.ylabel('True')\n",
    "plt.title('Confusion Matrix')\n",
    "\n",
    "print('Accuracy Score: ', accuracy_score)\n",
    "\n",
    "plt.figure(figsize = (8, 8))\n",
    "plt.subplot(1, 2, 1)\n",
    "plt.plot(accuracy, label = 'Training Accuracy')\n",
    "plt.plot(val_accuracy, label = 'Validation Accuracy')\n",
    "plt.legend(loc = 'lower right')\n",
    "plt.title('Training and Validation Accuracy')\n",
    "\n",
    "plt.subplot(1, 2, 2)\n",
    "plt.plot(loss, label = 'Training Loss')\n",
    "plt.plot(val_loss, label = 'Validation Loss')\n",
    "plt.legend(loc = 'upper right')\n",
    "plt.title('Training and Validation Loss')\n",
    "plt.show()"
   ]
  },
  {
   "cell_type": "code",
   "execution_count": null,
   "id": "165469ca-8cb3-4cef-967e-d021cc5021d3",
   "metadata": {},
   "outputs": [
    {
     "name": "stderr",
     "output_type": "stream",
     "text": [
      "2025-01-19 08:36:27.331705: E external/local_xla/xla/stream_executor/cuda/cuda_fft.cc:477] Unable to register cuFFT factory: Attempting to register factory for plugin cuFFT when one has already been registered\n",
      "WARNING: All log messages before absl::InitializeLog() is called are written to STDERR\n",
      "E0000 00:00:1737268587.761546    6142 cuda_dnn.cc:8310] Unable to register cuDNN factory: Attempting to register factory for plugin cuDNN when one has already been registered\n",
      "E0000 00:00:1737268587.879116    6142 cuda_blas.cc:1418] Unable to register cuBLAS factory: Attempting to register factory for plugin cuBLAS when one has already been registered\n",
      "2025-01-19 08:36:28.943132: I tensorflow/core/platform/cpu_feature_guard.cc:210] This TensorFlow binary is optimized to use available CPU instructions in performance-critical operations.\n",
      "To enable the following instructions: AVX2 FMA, in other operations, rebuild TensorFlow with the appropriate compiler flags.\n"
     ]
    },
    {
     "name": "stdout",
     "output_type": "stream",
     "text": [
      "GPU found PhysicalDevice(name='/physical_device:GPU:0', device_type='GPU')\n",
      "Found 5500 files belonging to 10 classes.\n"
     ]
    },
    {
     "name": "stderr",
     "output_type": "stream",
     "text": [
      "I0000 00:00:1737268636.651464    6142 gpu_device.cc:2022] Created device /job:localhost/replica:0/task:0/device:GPU:0 with 4804 MB memory:  -> device: 0, name: NVIDIA GeForce GTX 1060 6GB, pci bus id: 0000:01:00.0, compute capability: 6.1\n"
     ]
    },
    {
     "name": "stdout",
     "output_type": "stream",
     "text": [
      "Found 1266 files belonging to 10 classes.\n"
     ]
    },
    {
     "name": "stderr",
     "output_type": "stream",
     "text": [
      "2025-01-19 08:37:32.405195: I tensorflow/core/kernels/data/shuffle_dataset_op.cc:450] ShuffleDatasetV3:15: Filling up shuffle buffer (this may take a while): 5 of 1000\n",
      "2025-01-19 08:37:51.654465: I tensorflow/core/kernels/data/shuffle_dataset_op.cc:450] ShuffleDatasetV3:15: Filling up shuffle buffer (this may take a while): 28 of 1000\n",
      "2025-01-19 08:38:02.112150: I tensorflow/core/kernels/data/shuffle_dataset_op.cc:450] ShuffleDatasetV3:15: Filling up shuffle buffer (this may take a while): 43 of 1000\n",
      "2025-01-19 08:38:21.992213: I tensorflow/core/kernels/data/shuffle_dataset_op.cc:450] ShuffleDatasetV3:15: Filling up shuffle buffer (this may take a while): 72 of 1000\n",
      "2025-01-19 08:38:41.872745: I tensorflow/core/kernels/data/shuffle_dataset_op.cc:450] ShuffleDatasetV3:15: Filling up shuffle buffer (this may take a while): 102 of 1000\n",
      "2025-01-19 08:38:52.046875: I tensorflow/core/kernels/data/shuffle_dataset_op.cc:450] ShuffleDatasetV3:15: Filling up shuffle buffer (this may take a while): 116 of 1000\n",
      "2025-01-19 08:39:11.856638: I tensorflow/core/kernels/data/shuffle_dataset_op.cc:450] ShuffleDatasetV3:15: Filling up shuffle buffer (this may take a while): 146 of 1000\n",
      "2025-01-19 08:39:23.104103: I tensorflow/core/kernels/data/shuffle_dataset_op.cc:480] Shuffle buffer filled.\n"
     ]
    },
    {
     "ename": "KeyboardInterrupt",
     "evalue": "",
     "output_type": "error",
     "traceback": [
      "\u001b[0;31m---------------------------------------------------------------------------\u001b[0m",
      "\u001b[0;31mKeyboardInterrupt\u001b[0m                         Traceback (most recent call last)",
      "Cell \u001b[0;32mIn[1], line 63\u001b[0m\n\u001b[1;32m     61\u001b[0m norm_layer \u001b[39m=\u001b[39m layers\u001b[39m.\u001b[39mRescaling(\u001b[39m1.\u001b[39m\u001b[39m/\u001b[39m\u001b[39m255\u001b[39m)\n\u001b[1;32m     62\u001b[0m norm_ds \u001b[39m=\u001b[39m train_ds\u001b[39m.\u001b[39mmap(\u001b[39mlambda\u001b[39;00m x, y: (norm_layer(x), y))\n\u001b[0;32m---> 63\u001b[0m image_batch, labels_batch \u001b[39m=\u001b[39m \u001b[39mnext\u001b[39;49m(\u001b[39miter\u001b[39;49m(norm_ds))\n\u001b[1;32m     65\u001b[0m num_classes \u001b[39m=\u001b[39m \u001b[39mlen\u001b[39m(CLASS_NAMES)\n\u001b[1;32m     67\u001b[0m \u001b[39m#training model\u001b[39;00m\n",
      "File \u001b[0;32m~/GitHub Repos/Python/.venv/lib/python3.12/site-packages/tensorflow/python/data/ops/iterator_ops.py:826\u001b[0m, in \u001b[0;36mOwnedIterator.__next__\u001b[0;34m(self)\u001b[0m\n\u001b[1;32m    824\u001b[0m \u001b[39mdef\u001b[39;00m\u001b[39m \u001b[39m\u001b[39m__next__\u001b[39m(\u001b[39mself\u001b[39m):\n\u001b[1;32m    825\u001b[0m   \u001b[39mtry\u001b[39;00m:\n\u001b[0;32m--> 826\u001b[0m     \u001b[39mreturn\u001b[39;00m \u001b[39mself\u001b[39;49m\u001b[39m.\u001b[39;49m_next_internal()\n\u001b[1;32m    827\u001b[0m   \u001b[39mexcept\u001b[39;00m errors\u001b[39m.\u001b[39mOutOfRangeError:\n\u001b[1;32m    828\u001b[0m     \u001b[39mraise\u001b[39;00m \u001b[39mStopIteration\u001b[39;00m\n",
      "File \u001b[0;32m~/GitHub Repos/Python/.venv/lib/python3.12/site-packages/tensorflow/python/data/ops/iterator_ops.py:776\u001b[0m, in \u001b[0;36mOwnedIterator._next_internal\u001b[0;34m(self)\u001b[0m\n\u001b[1;32m    773\u001b[0m \u001b[39m# TODO(b/77291417): This runs in sync mode as iterators use an error status\u001b[39;00m\n\u001b[1;32m    774\u001b[0m \u001b[39m# to communicate that there is no more data to iterate over.\u001b[39;00m\n\u001b[1;32m    775\u001b[0m \u001b[39mwith\u001b[39;00m context\u001b[39m.\u001b[39mexecution_mode(context\u001b[39m.\u001b[39mSYNC):\n\u001b[0;32m--> 776\u001b[0m   ret \u001b[39m=\u001b[39m gen_dataset_ops\u001b[39m.\u001b[39;49miterator_get_next(\n\u001b[1;32m    777\u001b[0m       \u001b[39mself\u001b[39;49m\u001b[39m.\u001b[39;49m_iterator_resource,\n\u001b[1;32m    778\u001b[0m       output_types\u001b[39m=\u001b[39;49m\u001b[39mself\u001b[39;49m\u001b[39m.\u001b[39;49m_flat_output_types,\n\u001b[1;32m    779\u001b[0m       output_shapes\u001b[39m=\u001b[39;49m\u001b[39mself\u001b[39;49m\u001b[39m.\u001b[39;49m_flat_output_shapes)\n\u001b[1;32m    781\u001b[0m   \u001b[39mtry\u001b[39;00m:\n\u001b[1;32m    782\u001b[0m     \u001b[39m# Fast path for the case `self._structure` is not a nested structure.\u001b[39;00m\n\u001b[1;32m    783\u001b[0m     \u001b[39mreturn\u001b[39;00m \u001b[39mself\u001b[39m\u001b[39m.\u001b[39m_element_spec\u001b[39m.\u001b[39m_from_compatible_tensor_list(ret)  \u001b[39m# pylint: disable=protected-access\u001b[39;00m\n",
      "File \u001b[0;32m~/GitHub Repos/Python/.venv/lib/python3.12/site-packages/tensorflow/python/ops/gen_dataset_ops.py:3081\u001b[0m, in \u001b[0;36miterator_get_next\u001b[0;34m(iterator, output_types, output_shapes, name)\u001b[0m\n\u001b[1;32m   3079\u001b[0m \u001b[39mif\u001b[39;00m tld\u001b[39m.\u001b[39mis_eager:\n\u001b[1;32m   3080\u001b[0m   \u001b[39mtry\u001b[39;00m:\n\u001b[0;32m-> 3081\u001b[0m     _result \u001b[39m=\u001b[39m pywrap_tfe\u001b[39m.\u001b[39;49mTFE_Py_FastPathExecute(\n\u001b[1;32m   3082\u001b[0m       _ctx, \u001b[39m\"\u001b[39;49m\u001b[39mIteratorGetNext\u001b[39;49m\u001b[39m\"\u001b[39;49m, name, iterator, \u001b[39m\"\u001b[39;49m\u001b[39moutput_types\u001b[39;49m\u001b[39m\"\u001b[39;49m, output_types,\n\u001b[1;32m   3083\u001b[0m       \u001b[39m\"\u001b[39;49m\u001b[39moutput_shapes\u001b[39;49m\u001b[39m\"\u001b[39;49m, output_shapes)\n\u001b[1;32m   3084\u001b[0m     \u001b[39mreturn\u001b[39;00m _result\n\u001b[1;32m   3085\u001b[0m   \u001b[39mexcept\u001b[39;00m _core\u001b[39m.\u001b[39m_NotOkStatusException \u001b[39mas\u001b[39;00m e:\n",
      "\u001b[0;31mKeyboardInterrupt\u001b[0m: "
     ]
    }
   ],
   "source": [
    "#%%\n",
    "\n",
    "import tensorflow as tf\n",
    "import tf_keras\n",
    "import matplotlib.pyplot as plt\n",
    "import seaborn as sns\n",
    "import numpy as np\n",
    "from tf_keras import layers\n",
    "from tf_keras.models import Sequential\n",
    "from sklearn.metrics import confusion_matrix, accuracy_score\n",
    "\n",
    "gpu_devices = tf.config.list_physical_devices('GPU')\n",
    "if gpu_devices:\n",
    "  tf.config.experimental.set_memory_growth(gpu_devices[0], True)\n",
    "  print('GPU found', gpu_devices[0])\n",
    "else:\n",
    "  print('No GPU found')\n",
    "\n",
    "#define image size\n",
    "IMG_SIZE = 224\n",
    "\n",
    "#define batch size\n",
    "BATCH_SIZE = 32\n",
    "\n",
    "#training and valdiation directories\n",
    "TRAINING_DIR = \"Train\"\n",
    "VALIDATION_DIR = \"Validation\"\n",
    "\n",
    "# Create a function for preprocessing images\n",
    "def process_image_mobilenet(image_path):\n",
    "  image = tf.io.read_file(image_path) # Turn the jpeg image into numerical Tensor with 3 colour channels (Red, Green, Blue)\n",
    "  image = tf.image.decode_jpeg(image, channels = 3) # Convert the colour channel values from 0-255 to 0-1 values\n",
    "  image = tf.image.convert_image_dtype(image, tf.float32)# Resize the image to our desired value (224, 224)\n",
    "  image = tf.image.resize(image, size=[IMG_SIZE, IMG_SIZE])\n",
    "\n",
    "  return image\n",
    "  \n",
    "#training split\n",
    "train_ds = tf_keras.utils.image_dataset_from_directory(\n",
    "  TRAINING_DIR,\n",
    "  labels = \"inferred\",\n",
    "  image_size = (IMG_SIZE, IMG_SIZE),\n",
    "  batch_size = BATCH_SIZE,\n",
    "  seed = 225\n",
    ")\n",
    "\n",
    "#validation split, taken directly from the same directory as train\n",
    "validation_ds = tf_keras.utils.image_dataset_from_directory(\n",
    "  VALIDATION_DIR,\n",
    "  labels = \"inferred\",\n",
    "  image_size = (IMG_SIZE, IMG_SIZE),\n",
    "  batch_size = BATCH_SIZE,\n",
    "  seed = 225\n",
    ")\n",
    "\n",
    "CLASS_NAMES = train_ds.class_names\n",
    "\n",
    "AUTOTUNE = tf.data.AUTOTUNE\n",
    "train_ds = train_ds.cache().shuffle(1000).prefetch(buffer_size = AUTOTUNE)\n",
    "val_ds = validation_ds.cache().prefetch(buffer_size = AUTOTUNE)\n",
    "\n",
    "norm_layer = layers.Rescaling(1./255)\n",
    "norm_ds = train_ds.map(lambda x, y: (norm_layer(x), y))\n",
    "image_batch, labels_batch = next(iter(norm_ds))\n",
    "\n",
    "num_classes = len(CLASS_NAMES)\n",
    "\n",
    "#training model\n",
    "model = Sequential([\n",
    "  layers.Conv2D(32, (3, 3), activation = 'relu', input_shape = (224, 224, 3)),\n",
    "  layers.MaxPooling2D(2, 2),\n",
    "  layers.Conv2D(64, (3, 3), activation = 'relu'),\n",
    "  layers.MaxPooling2D(2, 2),\n",
    "  layers.Conv2D(128, (3, 3), activation = 'relu'),\n",
    "  layers.MaxPooling2D(2, 2),\n",
    "  layers.Flatten(),\n",
    "  layers.Dense(128, activation = 'relu'),\n",
    "  layers.Dropout(0.5),\n",
    "  layers.Dense(num_classes, activation = 'softmax')\n",
    "])\n",
    "\n",
    "model.compile(optimizer = 'adam', loss = tf_keras.losses.SparseCategoricalCrossentropy(from_logits = True), metrics = ['accuracy'])\n",
    "\n",
    "#no of epochs\n",
    "epochs = 100\n",
    "\n",
    "#early stopping\n",
    "#early_stopping = tf_keras.callbacks.EarlyStopping(monitor = \"val_accuracy\", patience = 10)\n",
    "\n",
    "#fitting of the model\n",
    "history = model.fit(train_ds, validation_data = validation_ds, epochs = epochs)\n",
    "\n",
    "#accuracy and loss values\n",
    "accuracy = history.history['accuracy']\n",
    "val_accuracy = history.history[('val_accuracy')]\n",
    "\n",
    "loss = history.history['loss']\n",
    "val_loss = history.history['val_loss']\n",
    "\n",
    "epochs_range = range(epochs)\n",
    "\n",
    "true_labels = []\n",
    "predicted_labels = []\n",
    "\n",
    "for images, labels in val_ds:\n",
    "  true_labels.extend(labels.numpy())\n",
    "  pred = model.predict(images)\n",
    "  predicted_labels.extend(np.argmax(pred, axis = 1))\n",
    "\n",
    "confusion_matrix = confusion_matrix(true_labels, predicted_labels)\n",
    "accuracy_score = accuracy_score(true_labels, predicted_labels)\n",
    "\n",
    "print('Confusion Matrix: ')\n",
    "plt.figure(figsize=(8, 8))\n",
    "sns.heatmap(confusion_matrix, annot = True, fmt = 'd', xticklabels = CLASS_NAMES, yticklabels = CLASS_NAMES, cmap = 'Blues')\n",
    "plt.xlabel('Predicted')\n",
    "plt.ylabel('True')\n",
    "plt.title('Confusion Matrix')\n",
    "\n",
    "print('Accuracy Score: ', accuracy_score)\n",
    "\n",
    "plt.figure(figsize = (8, 8))\n",
    "plt.subplot(1, 2, 1)\n",
    "plt.plot(accuracy, label = 'Training Accuracy')\n",
    "plt.plot(val_accuracy, label = 'Validation Accuracy')\n",
    "plt.legend(loc = 'lower right')\n",
    "plt.title('Training and Validation Accuracy')\n",
    "\n",
    "plt.subplot(1, 2, 2)\n",
    "plt.plot(loss, label = 'Training Loss')\n",
    "plt.plot(val_loss, label = 'Validation Loss')\n",
    "plt.legend(loc = 'upper right')\n",
    "plt.title('Training and Validation Loss')\n",
    "plt.show()"
   ]
  },
  {
   "cell_type": "code",
   "execution_count": null,
   "id": "28cbb3ff-0381-433c-add3-eed6988ae5f0",
   "metadata": {},
   "outputs": [
    {
     "name": "stdout",
     "output_type": "stream",
     "text": [
      "GPU found PhysicalDevice(name='/physical_device:GPU:0', device_type='GPU')\n",
      "Found 5500 files belonging to 10 classes.\n",
      "Found 1266 files belonging to 10 classes.\n"
     ]
    },
    {
     "name": "stderr",
     "output_type": "stream",
     "text": [
      "2025-01-19 08:40:22.155185: I tensorflow/core/kernels/data/shuffle_dataset_op.cc:450] ShuffleDatasetV3:36: Filling up shuffle buffer (this may take a while): 33 of 1000\n",
      "2025-01-19 08:40:32.192042: I tensorflow/core/kernels/data/shuffle_dataset_op.cc:450] ShuffleDatasetV3:36: Filling up shuffle buffer (this may take a while): 74 of 1000\n",
      "2025-01-19 08:40:52.352454: I tensorflow/core/kernels/data/shuffle_dataset_op.cc:450] ShuffleDatasetV3:36: Filling up shuffle buffer (this may take a while): 159 of 1000\n",
      "2025-01-19 08:40:53.707542: I tensorflow/core/kernels/data/shuffle_dataset_op.cc:480] Shuffle buffer filled.\n"
     ]
    },
    {
     "ename": "KeyboardInterrupt",
     "evalue": "",
     "output_type": "error",
     "traceback": [
      "\u001b[0;31m---------------------------------------------------------------------------\u001b[0m",
      "\u001b[0;31mKeyboardInterrupt\u001b[0m                         Traceback (most recent call last)",
      "Cell \u001b[0;32mIn[2], line 63\u001b[0m\n\u001b[1;32m     61\u001b[0m norm_layer \u001b[39m=\u001b[39m layers\u001b[39m.\u001b[39mRescaling(\u001b[39m1.\u001b[39m\u001b[39m/\u001b[39m\u001b[39m255\u001b[39m)\n\u001b[1;32m     62\u001b[0m norm_ds \u001b[39m=\u001b[39m train_ds\u001b[39m.\u001b[39mmap(\u001b[39mlambda\u001b[39;00m x, y: (norm_layer(x), y))\n\u001b[0;32m---> 63\u001b[0m image_batch, labels_batch \u001b[39m=\u001b[39m \u001b[39mnext\u001b[39;49m(\u001b[39miter\u001b[39;49m(norm_ds))\n\u001b[1;32m     65\u001b[0m num_classes \u001b[39m=\u001b[39m \u001b[39mlen\u001b[39m(CLASS_NAMES)\n\u001b[1;32m     67\u001b[0m \u001b[39m#training model\u001b[39;00m\n",
      "File \u001b[0;32m~/GitHub Repos/Python/.venv/lib/python3.12/site-packages/tensorflow/python/data/ops/iterator_ops.py:826\u001b[0m, in \u001b[0;36mOwnedIterator.__next__\u001b[0;34m(self)\u001b[0m\n\u001b[1;32m    824\u001b[0m \u001b[39mdef\u001b[39;00m\u001b[39m \u001b[39m\u001b[39m__next__\u001b[39m(\u001b[39mself\u001b[39m):\n\u001b[1;32m    825\u001b[0m   \u001b[39mtry\u001b[39;00m:\n\u001b[0;32m--> 826\u001b[0m     \u001b[39mreturn\u001b[39;00m \u001b[39mself\u001b[39;49m\u001b[39m.\u001b[39;49m_next_internal()\n\u001b[1;32m    827\u001b[0m   \u001b[39mexcept\u001b[39;00m errors\u001b[39m.\u001b[39mOutOfRangeError:\n\u001b[1;32m    828\u001b[0m     \u001b[39mraise\u001b[39;00m \u001b[39mStopIteration\u001b[39;00m\n",
      "File \u001b[0;32m~/GitHub Repos/Python/.venv/lib/python3.12/site-packages/tensorflow/python/data/ops/iterator_ops.py:776\u001b[0m, in \u001b[0;36mOwnedIterator._next_internal\u001b[0;34m(self)\u001b[0m\n\u001b[1;32m    773\u001b[0m \u001b[39m# TODO(b/77291417): This runs in sync mode as iterators use an error status\u001b[39;00m\n\u001b[1;32m    774\u001b[0m \u001b[39m# to communicate that there is no more data to iterate over.\u001b[39;00m\n\u001b[1;32m    775\u001b[0m \u001b[39mwith\u001b[39;00m context\u001b[39m.\u001b[39mexecution_mode(context\u001b[39m.\u001b[39mSYNC):\n\u001b[0;32m--> 776\u001b[0m   ret \u001b[39m=\u001b[39m gen_dataset_ops\u001b[39m.\u001b[39;49miterator_get_next(\n\u001b[1;32m    777\u001b[0m       \u001b[39mself\u001b[39;49m\u001b[39m.\u001b[39;49m_iterator_resource,\n\u001b[1;32m    778\u001b[0m       output_types\u001b[39m=\u001b[39;49m\u001b[39mself\u001b[39;49m\u001b[39m.\u001b[39;49m_flat_output_types,\n\u001b[1;32m    779\u001b[0m       output_shapes\u001b[39m=\u001b[39;49m\u001b[39mself\u001b[39;49m\u001b[39m.\u001b[39;49m_flat_output_shapes)\n\u001b[1;32m    781\u001b[0m   \u001b[39mtry\u001b[39;00m:\n\u001b[1;32m    782\u001b[0m     \u001b[39m# Fast path for the case `self._structure` is not a nested structure.\u001b[39;00m\n\u001b[1;32m    783\u001b[0m     \u001b[39mreturn\u001b[39;00m \u001b[39mself\u001b[39m\u001b[39m.\u001b[39m_element_spec\u001b[39m.\u001b[39m_from_compatible_tensor_list(ret)  \u001b[39m# pylint: disable=protected-access\u001b[39;00m\n",
      "File \u001b[0;32m~/GitHub Repos/Python/.venv/lib/python3.12/site-packages/tensorflow/python/ops/gen_dataset_ops.py:3081\u001b[0m, in \u001b[0;36miterator_get_next\u001b[0;34m(iterator, output_types, output_shapes, name)\u001b[0m\n\u001b[1;32m   3079\u001b[0m \u001b[39mif\u001b[39;00m tld\u001b[39m.\u001b[39mis_eager:\n\u001b[1;32m   3080\u001b[0m   \u001b[39mtry\u001b[39;00m:\n\u001b[0;32m-> 3081\u001b[0m     _result \u001b[39m=\u001b[39m pywrap_tfe\u001b[39m.\u001b[39;49mTFE_Py_FastPathExecute(\n\u001b[1;32m   3082\u001b[0m       _ctx, \u001b[39m\"\u001b[39;49m\u001b[39mIteratorGetNext\u001b[39;49m\u001b[39m\"\u001b[39;49m, name, iterator, \u001b[39m\"\u001b[39;49m\u001b[39moutput_types\u001b[39;49m\u001b[39m\"\u001b[39;49m, output_types,\n\u001b[1;32m   3083\u001b[0m       \u001b[39m\"\u001b[39;49m\u001b[39moutput_shapes\u001b[39;49m\u001b[39m\"\u001b[39;49m, output_shapes)\n\u001b[1;32m   3084\u001b[0m     \u001b[39mreturn\u001b[39;00m _result\n\u001b[1;32m   3085\u001b[0m   \u001b[39mexcept\u001b[39;00m _core\u001b[39m.\u001b[39m_NotOkStatusException \u001b[39mas\u001b[39;00m e:\n",
      "\u001b[0;31mKeyboardInterrupt\u001b[0m: "
     ]
    }
   ],
   "source": [
    "#%%\n",
    "\n",
    "import tensorflow as tf\n",
    "import tf_keras\n",
    "import matplotlib.pyplot as plt\n",
    "import seaborn as sns\n",
    "import numpy as np\n",
    "from tf_keras import layers\n",
    "from tf_keras.models import Sequential\n",
    "from sklearn.metrics import confusion_matrix, accuracy_score\n",
    "\n",
    "gpu_devices = tf.config.list_physical_devices('GPU')\n",
    "if gpu_devices:\n",
    "  tf.config.experimental.set_memory_growth(gpu_devices[0], True)\n",
    "  print('GPU found', gpu_devices[0])\n",
    "else:\n",
    "  print('No GPU found')\n",
    "\n",
    "#define image size\n",
    "IMG_SIZE = 224\n",
    "\n",
    "#define batch size\n",
    "BATCH_SIZE = 32\n",
    "\n",
    "#training and valdiation directories\n",
    "TRAINING_DIR = \"Train\"\n",
    "VALIDATION_DIR = \"Validation\"\n",
    "\n",
    "# Create a function for preprocessing images\n",
    "def process_image_mobilenet(image_path):\n",
    "  image = tf.io.read_file(image_path) # Turn the jpeg image into numerical Tensor with 3 colour channels (Red, Green, Blue)\n",
    "  image = tf.image.decode_jpeg(image, channels = 3) # Convert the colour channel values from 0-255 to 0-1 values\n",
    "  image = tf.image.convert_image_dtype(image, tf.float32)# Resize the image to our desired value (224, 224)\n",
    "  image = tf.image.resize(image, size=[IMG_SIZE, IMG_SIZE])\n",
    "\n",
    "  return image\n",
    "  \n",
    "#training split\n",
    "train_ds = tf_keras.utils.image_dataset_from_directory(\n",
    "  TRAINING_DIR,\n",
    "  labels = \"inferred\",\n",
    "  image_size = (IMG_SIZE, IMG_SIZE),\n",
    "  batch_size = BATCH_SIZE,\n",
    "  seed = 225\n",
    ")\n",
    "\n",
    "#validation split, taken directly from the same directory as train\n",
    "validation_ds = tf_keras.utils.image_dataset_from_directory(\n",
    "  VALIDATION_DIR,\n",
    "  labels = \"inferred\",\n",
    "  image_size = (IMG_SIZE, IMG_SIZE),\n",
    "  batch_size = BATCH_SIZE,\n",
    "  seed = 225\n",
    ")\n",
    "\n",
    "CLASS_NAMES = train_ds.class_names\n",
    "\n",
    "AUTOTUNE = tf.data.AUTOTUNE\n",
    "train_ds = train_ds.cache().shuffle(1000).prefetch(buffer_size = AUTOTUNE)\n",
    "val_ds = validation_ds.cache().prefetch(buffer_size = AUTOTUNE)\n",
    "\n",
    "norm_layer = layers.Rescaling(1./255)\n",
    "norm_ds = train_ds.map(lambda x, y: (norm_layer(x), y))\n",
    "image_batch, labels_batch = next(iter(norm_ds))\n",
    "\n",
    "num_classes = len(CLASS_NAMES)\n",
    "\n",
    "#training model\n",
    "model = Sequential([\n",
    "  layers.Conv2D(128, (3, 3), activation = 'relu', input_shape = (224, 224, 3)),\n",
    "  layers.MaxPooling2D(2, 2),\n",
    "  layers.Conv2D(128, (3, 3), activation = 'relu'),\n",
    "  layers.MaxPooling2D(2, 2),\n",
    "  layers.Conv2D(256, (3, 3), activation = 'relu'),\n",
    "  layers.MaxPooling2D(2, 2),\n",
    "  layers.Conv2D(256, (3, 3), activation = 'relu'),\n",
    "  layers.MaxPooling2D(2, 2),\n",
    "  layers.Conv2D(512, (3, 3), activation = 'relu'),\n",
    "  layers.MaxPooling2D(2, 2),\n",
    "  layers.Conv2D(512, (3, 3), activation = 'relu'),\n",
    "  layers.MaxPooling2D(2, 2),\n",
    "  layers.Flatten(),\n",
    "  layers.Dense(1024, activation = 'relu'),\n",
    "  layers.Dropout(0.25),\n",
    "  layers.Dense(num_classes, activation = 'softmax')\n",
    "])\n",
    "\n",
    "model.compile(optimizer = 'adam', loss = tf_keras.losses.SparseCategoricalCrossentropy(from_logits = True), metrics = ['accuracy'])\n",
    "\n",
    "#no of epochs\n",
    "epochs = 100\n",
    "\n",
    "#early stopping\n",
    "#early_stopping = tf_keras.callbacks.EarlyStopping(monitor = \"val_accuracy\", patience = 10)\n",
    "\n",
    "#fitting of the model\n",
    "history = model.fit(train_ds, validation_data = validation_ds, epochs = epochs)\n",
    "\n",
    "#accuracy and loss values\n",
    "accuracy = history.history['accuracy']\n",
    "val_accuracy = history.history[('val_accuracy')]\n",
    "\n",
    "loss = history.history['loss']\n",
    "val_loss = history.history['val_loss']\n",
    "\n",
    "epochs_range = range(epochs)\n",
    "\n",
    "true_labels = []\n",
    "predicted_labels = []\n",
    "\n",
    "for images, labels in val_ds:\n",
    "  true_labels.extend(labels.numpy())\n",
    "  pred = model.predict(images)\n",
    "  predicted_labels.extend(np.argmax(pred, axis = 1))\n",
    "\n",
    "confusion_matrix = confusion_matrix(true_labels, predicted_labels)\n",
    "accuracy_score = accuracy_score(true_labels, predicted_labels)\n",
    "\n",
    "print('Confusion Matrix: ')\n",
    "plt.figure(figsize=(8, 8))\n",
    "sns.heatmap(confusion_matrix, annot = True, fmt = 'd', xticklabels = CLASS_NAMES, yticklabels = CLASS_NAMES, cmap = 'Blues')\n",
    "plt.xlabel('Predicted')\n",
    "plt.ylabel('True')\n",
    "plt.title('Confusion Matrix')\n",
    "\n",
    "print('Accuracy Score: ', accuracy_score)\n",
    "\n",
    "plt.figure(figsize = (8, 8))\n",
    "plt.subplot(1, 2, 1)\n",
    "plt.plot(accuracy, label = 'Training Accuracy')\n",
    "plt.plot(val_accuracy, label = 'Validation Accuracy')\n",
    "plt.legend(loc = 'lower right')\n",
    "plt.title('Training and Validation Accuracy')\n",
    "\n",
    "plt.subplot(1, 2, 2)\n",
    "plt.plot(loss, label = 'Training Loss')\n",
    "plt.plot(val_loss, label = 'Validation Loss')\n",
    "plt.legend(loc = 'upper right')\n",
    "plt.title('Training and Validation Loss')\n",
    "plt.show()"
   ]
  },
  {
   "cell_type": "code",
   "execution_count": null,
   "id": "af1c6a21-b1e1-4bdd-9b6a-26f0cf71a2ae",
   "metadata": {},
   "outputs": [
    {
     "name": "stdout",
     "output_type": "stream",
     "text": [
      "GPU found PhysicalDevice(name='/physical_device:GPU:0', device_type='GPU')\n",
      "Found 5500 files belonging to 10 classes.\n",
      "Found 1266 files belonging to 10 classes.\n"
     ]
    },
    {
     "name": "stderr",
     "output_type": "stream",
     "text": [
      "2025-01-19 08:41:07.732651: I tensorflow/core/kernels/data/shuffle_dataset_op.cc:450] ShuffleDatasetV3:57: Filling up shuffle buffer (this may take a while): 34 of 1000\n",
      "2025-01-19 08:41:17.756256: I tensorflow/core/kernels/data/shuffle_dataset_op.cc:450] ShuffleDatasetV3:57: Filling up shuffle buffer (this may take a while): 75 of 1000\n",
      "2025-01-19 08:41:27.772377: I tensorflow/core/kernels/data/shuffle_dataset_op.cc:450] ShuffleDatasetV3:57: Filling up shuffle buffer (this may take a while): 115 of 1000\n",
      "2025-01-19 08:41:37.781123: I tensorflow/core/kernels/data/shuffle_dataset_op.cc:450] ShuffleDatasetV3:57: Filling up shuffle buffer (this may take a while): 157 of 1000\n",
      "2025-01-19 08:41:39.593024: I tensorflow/core/kernels/data/shuffle_dataset_op.cc:480] Shuffle buffer filled.\n"
     ]
    },
    {
     "name": "stdout",
     "output_type": "stream",
     "text": [
      "Epoch 1/100\n"
     ]
    },
    {
     "name": "stderr",
     "output_type": "stream",
     "text": [
      "/home/adiicmp/GitHub Repos/Python/.venv/lib/python3.12/site-packages/tf_keras/src/backend.py:5729: UserWarning: \"`sparse_categorical_crossentropy` received `from_logits=True`, but the `output` argument was produced by a Softmax activation and thus does not represent logits. Was this intended?\n",
      "  output, from_logits = _get_logits(\n",
      "I0000 00:00:1737268900.919549    6505 cuda_dnn.cc:529] Loaded cuDNN version 90300\n",
      "2025-01-19 08:41:43.832120: W external/local_xla/xla/tsl/framework/bfc_allocator.cc:378] Garbage collection: deallocate free memory regions (i.e., allocations) so that we can re-allocate a larger region to avoid OOM due to memory fragmentation. If you see this message frequently, you are running near the threshold of the available device memory and re-allocation may incur great performance overhead. You may try smaller batch sizes to observe the performance impact. Set TF_ENABLE_GPU_GARBAGE_COLLECTION=false if you'd like to disable this feature.\n",
      "WARNING: All log messages before absl::InitializeLog() is called are written to STDERR\n",
      "I0000 00:00:1737268905.666288    6506 service.cc:148] XLA service 0x7d2a004d2b80 initialized for platform CUDA (this does not guarantee that XLA will be used). Devices:\n",
      "I0000 00:00:1737268905.669250    6506 service.cc:156]   StreamExecutor device (0): NVIDIA GeForce GTX 1060 6GB, Compute Capability 6.1\n",
      "2025-01-19 08:41:45.775246: I tensorflow/compiler/mlir/tensorflow/utils/dump_mlir_util.cc:268] disabling MLIR crash reproducer, set env var `MLIR_CRASH_REPRODUCER_DIRECTORY` to enable.\n",
      "I0000 00:00:1737268906.241273    6506 device_compiler.h:188] Compiled cluster using XLA!  This line is logged at most once for the lifetime of the process.\n"
     ]
    },
    {
     "name": "stdout",
     "output_type": "stream",
     "text": [
      "172/172 [==============================] - ETA: 0s - loss: 2.7487 - accuracy: 0.1875"
     ]
    },
    {
     "name": "stderr",
     "output_type": "stream",
     "text": [
      "2025-01-19 08:42:39.141978: W tensorflow/core/lib/png/png_io.cc:89] PNG warning: iCCP: known incorrect sRGB profile\n"
     ]
    },
    {
     "name": "stdout",
     "output_type": "stream",
     "text": [
      "172/172 [==============================] - 79s 399ms/step - loss: 2.7487 - accuracy: 0.1875 - val_loss: 2.1062 - val_accuracy: 0.2306\n",
      "Epoch 2/100\n",
      "172/172 [==============================] - ETA: 0s - loss: 2.0583 - accuracy: 0.2495"
     ]
    },
    {
     "name": "stderr",
     "output_type": "stream",
     "text": [
      "2025-01-19 08:43:38.838177: W tensorflow/core/lib/png/png_io.cc:89] PNG warning: iCCP: known incorrect sRGB profile\n"
     ]
    },
    {
     "name": "stdout",
     "output_type": "stream",
     "text": [
      "172/172 [==============================] - 47s 272ms/step - loss: 2.0583 - accuracy: 0.2495 - val_loss: 1.9855 - val_accuracy: 0.2899\n",
      "Epoch 3/100\n",
      "172/172 [==============================] - ETA: 0s - loss: 1.9100 - accuracy: 0.3156"
     ]
    },
    {
     "name": "stderr",
     "output_type": "stream",
     "text": [
      "2025-01-19 08:44:25.192077: W tensorflow/core/lib/png/png_io.cc:89] PNG warning: iCCP: known incorrect sRGB profile\n"
     ]
    },
    {
     "name": "stdout",
     "output_type": "stream",
     "text": [
      "172/172 [==============================] - 46s 270ms/step - loss: 1.9100 - accuracy: 0.3156 - val_loss: 1.8058 - val_accuracy: 0.3618\n",
      "Epoch 4/100\n",
      "172/172 [==============================] - ETA: 0s - loss: 1.7112 - accuracy: 0.3924"
     ]
    },
    {
     "name": "stderr",
     "output_type": "stream",
     "text": [
      "2025-01-19 08:45:11.588969: W tensorflow/core/lib/png/png_io.cc:89] PNG warning: iCCP: known incorrect sRGB profile\n"
     ]
    },
    {
     "name": "stdout",
     "output_type": "stream",
     "text": [
      "172/172 [==============================] - 46s 270ms/step - loss: 1.7112 - accuracy: 0.3924 - val_loss: 1.6660 - val_accuracy: 0.4179\n",
      "Epoch 5/100\n",
      "172/172 [==============================] - ETA: 0s - loss: 1.5406 - accuracy: 0.4527"
     ]
    },
    {
     "name": "stderr",
     "output_type": "stream",
     "text": [
      "2025-01-19 08:45:57.700719: W tensorflow/core/lib/png/png_io.cc:89] PNG warning: iCCP: known incorrect sRGB profile\n"
     ]
    },
    {
     "name": "stdout",
     "output_type": "stream",
     "text": [
      "172/172 [==============================] - 46s 268ms/step - loss: 1.5406 - accuracy: 0.4527 - val_loss: 1.7144 - val_accuracy: 0.4147\n",
      "Epoch 6/100\n",
      "172/172 [==============================] - ETA: 0s - loss: 1.3903 - accuracy: 0.5111"
     ]
    },
    {
     "name": "stderr",
     "output_type": "stream",
     "text": [
      "2025-01-19 08:46:43.765673: W tensorflow/core/lib/png/png_io.cc:89] PNG warning: iCCP: known incorrect sRGB profile\n"
     ]
    },
    {
     "name": "stdout",
     "output_type": "stream",
     "text": [
      "172/172 [==============================] - 46s 268ms/step - loss: 1.3903 - accuracy: 0.5111 - val_loss: 1.5623 - val_accuracy: 0.4668\n",
      "Epoch 7/100\n",
      "172/172 [==============================] - ETA: 0s - loss: 1.2686 - accuracy: 0.5600"
     ]
    },
    {
     "name": "stderr",
     "output_type": "stream",
     "text": [
      "2025-01-19 08:47:29.817462: W tensorflow/core/lib/png/png_io.cc:89] PNG warning: iCCP: known incorrect sRGB profile\n"
     ]
    },
    {
     "name": "stdout",
     "output_type": "stream",
     "text": [
      "172/172 [==============================] - 46s 269ms/step - loss: 1.2686 - accuracy: 0.5600 - val_loss: 1.5073 - val_accuracy: 0.4921\n",
      "Epoch 8/100\n",
      "172/172 [==============================] - ETA: 0s - loss: 1.1108 - accuracy: 0.6142"
     ]
    },
    {
     "name": "stderr",
     "output_type": "stream",
     "text": [
      "2025-01-19 08:48:16.628288: W tensorflow/core/lib/png/png_io.cc:89] PNG warning: iCCP: known incorrect sRGB profile\n"
     ]
    },
    {
     "name": "stdout",
     "output_type": "stream",
     "text": [
      "172/172 [==============================] - 46s 270ms/step - loss: 1.1108 - accuracy: 0.6142 - val_loss: 1.5055 - val_accuracy: 0.5024\n",
      "Epoch 9/100\n",
      "172/172 [==============================] - ETA: 0s - loss: 0.9954 - accuracy: 0.6493"
     ]
    },
    {
     "name": "stderr",
     "output_type": "stream",
     "text": [
      "2025-01-19 08:49:02.788163: W tensorflow/core/lib/png/png_io.cc:89] PNG warning: iCCP: known incorrect sRGB profile\n"
     ]
    },
    {
     "name": "stdout",
     "output_type": "stream",
     "text": [
      "172/172 [==============================] - 46s 270ms/step - loss: 0.9954 - accuracy: 0.6493 - val_loss: 1.7096 - val_accuracy: 0.4834\n",
      "Epoch 10/100\n",
      "172/172 [==============================] - ETA: 0s - loss: 0.8096 - accuracy: 0.7249"
     ]
    },
    {
     "name": "stderr",
     "output_type": "stream",
     "text": [
      "2025-01-19 08:49:48.848688: W tensorflow/core/lib/png/png_io.cc:89] PNG warning: iCCP: known incorrect sRGB profile\n"
     ]
    },
    {
     "name": "stdout",
     "output_type": "stream",
     "text": [
      "172/172 [==============================] - 46s 267ms/step - loss: 0.8096 - accuracy: 0.7249 - val_loss: 1.7653 - val_accuracy: 0.5000\n",
      "Epoch 11/100\n",
      "172/172 [==============================] - ETA: 0s - loss: 0.7261 - accuracy: 0.7440"
     ]
    },
    {
     "name": "stderr",
     "output_type": "stream",
     "text": [
      "2025-01-19 08:50:35.613668: W tensorflow/core/lib/png/png_io.cc:89] PNG warning: iCCP: known incorrect sRGB profile\n"
     ]
    },
    {
     "name": "stdout",
     "output_type": "stream",
     "text": [
      "172/172 [==============================] - 47s 273ms/step - loss: 0.7261 - accuracy: 0.7440 - val_loss: 1.6924 - val_accuracy: 0.5458\n",
      "Epoch 12/100\n",
      "172/172 [==============================] - ETA: 0s - loss: 0.5660 - accuracy: 0.8055"
     ]
    },
    {
     "name": "stderr",
     "output_type": "stream",
     "text": [
      "2025-01-19 08:51:22.101130: W tensorflow/core/lib/png/png_io.cc:89] PNG warning: iCCP: known incorrect sRGB profile\n"
     ]
    },
    {
     "name": "stdout",
     "output_type": "stream",
     "text": [
      "172/172 [==============================] - 46s 270ms/step - loss: 0.5660 - accuracy: 0.8055 - val_loss: 1.8573 - val_accuracy: 0.5292\n",
      "Epoch 13/100\n",
      "172/172 [==============================] - ETA: 0s - loss: 0.5453 - accuracy: 0.8175"
     ]
    },
    {
     "name": "stderr",
     "output_type": "stream",
     "text": [
      "2025-01-19 08:52:08.697634: W tensorflow/core/lib/png/png_io.cc:89] PNG warning: iCCP: known incorrect sRGB profile\n"
     ]
    },
    {
     "name": "stdout",
     "output_type": "stream",
     "text": [
      "172/172 [==============================] - 47s 271ms/step - loss: 0.5453 - accuracy: 0.8175 - val_loss: 1.8145 - val_accuracy: 0.5750\n",
      "Epoch 14/100\n",
      "172/172 [==============================] - ETA: 0s - loss: 0.3773 - accuracy: 0.8738"
     ]
    },
    {
     "name": "stderr",
     "output_type": "stream",
     "text": [
      "2025-01-19 08:52:55.227039: W tensorflow/core/lib/png/png_io.cc:89] PNG warning: iCCP: known incorrect sRGB profile\n"
     ]
    },
    {
     "name": "stdout",
     "output_type": "stream",
     "text": [
      "172/172 [==============================] - 47s 271ms/step - loss: 0.3773 - accuracy: 0.8738 - val_loss: 2.2656 - val_accuracy: 0.5521\n",
      "Epoch 15/100\n",
      "172/172 [==============================] - ETA: 0s - loss: 0.3311 - accuracy: 0.8882"
     ]
    },
    {
     "name": "stderr",
     "output_type": "stream",
     "text": [
      "2025-01-19 08:53:41.549260: W tensorflow/core/lib/png/png_io.cc:89] PNG warning: iCCP: known incorrect sRGB profile\n"
     ]
    },
    {
     "name": "stdout",
     "output_type": "stream",
     "text": [
      "172/172 [==============================] - 46s 268ms/step - loss: 0.3311 - accuracy: 0.8882 - val_loss: 2.4558 - val_accuracy: 0.5577\n",
      "Epoch 16/100\n",
      "172/172 [==============================] - ETA: 0s - loss: 0.3453 - accuracy: 0.8875"
     ]
    },
    {
     "name": "stderr",
     "output_type": "stream",
     "text": [
      "2025-01-19 08:54:27.544657: W tensorflow/core/lib/png/png_io.cc:89] PNG warning: iCCP: known incorrect sRGB profile\n"
     ]
    },
    {
     "name": "stdout",
     "output_type": "stream",
     "text": [
      "172/172 [==============================] - 46s 267ms/step - loss: 0.3453 - accuracy: 0.8875 - val_loss: 2.3899 - val_accuracy: 0.5561\n",
      "Epoch 17/100\n",
      "172/172 [==============================] - ETA: 0s - loss: 0.3149 - accuracy: 0.9000"
     ]
    },
    {
     "name": "stderr",
     "output_type": "stream",
     "text": [
      "2025-01-19 08:55:13.440720: W tensorflow/core/lib/png/png_io.cc:89] PNG warning: iCCP: known incorrect sRGB profile\n"
     ]
    },
    {
     "name": "stdout",
     "output_type": "stream",
     "text": [
      "172/172 [==============================] - 46s 266ms/step - loss: 0.3149 - accuracy: 0.9000 - val_loss: 2.4368 - val_accuracy: 0.5513\n",
      "Epoch 18/100\n",
      "172/172 [==============================] - ETA: 0s - loss: 0.2288 - accuracy: 0.9275"
     ]
    },
    {
     "name": "stderr",
     "output_type": "stream",
     "text": [
      "2025-01-19 08:55:59.153053: W tensorflow/core/lib/png/png_io.cc:89] PNG warning: iCCP: known incorrect sRGB profile\n"
     ]
    },
    {
     "name": "stdout",
     "output_type": "stream",
     "text": [
      "172/172 [==============================] - 46s 267ms/step - loss: 0.2288 - accuracy: 0.9275 - val_loss: 2.7078 - val_accuracy: 0.5774\n",
      "Epoch 19/100\n",
      "172/172 [==============================] - ETA: 0s - loss: 0.2658 - accuracy: 0.9198"
     ]
    },
    {
     "name": "stderr",
     "output_type": "stream",
     "text": [
      "2025-01-19 08:56:45.163772: W tensorflow/core/lib/png/png_io.cc:89] PNG warning: iCCP: known incorrect sRGB profile\n"
     ]
    },
    {
     "name": "stdout",
     "output_type": "stream",
     "text": [
      "172/172 [==============================] - 46s 268ms/step - loss: 0.2658 - accuracy: 0.9198 - val_loss: 2.6879 - val_accuracy: 0.5679\n",
      "Epoch 20/100\n",
      "172/172 [==============================] - ETA: 0s - loss: 0.2190 - accuracy: 0.9393"
     ]
    },
    {
     "name": "stderr",
     "output_type": "stream",
     "text": [
      "2025-01-19 08:57:31.008246: W tensorflow/core/lib/png/png_io.cc:89] PNG warning: iCCP: known incorrect sRGB profile\n"
     ]
    },
    {
     "name": "stdout",
     "output_type": "stream",
     "text": [
      "172/172 [==============================] - 46s 269ms/step - loss: 0.2190 - accuracy: 0.9393 - val_loss: 2.6650 - val_accuracy: 0.5537\n",
      "Epoch 21/100\n",
      "172/172 [==============================] - ETA: 0s - loss: 0.1705 - accuracy: 0.9455"
     ]
    },
    {
     "name": "stderr",
     "output_type": "stream",
     "text": [
      "2025-01-19 08:58:16.936758: W tensorflow/core/lib/png/png_io.cc:89] PNG warning: iCCP: known incorrect sRGB profile\n"
     ]
    },
    {
     "name": "stdout",
     "output_type": "stream",
     "text": [
      "172/172 [==============================] - 46s 266ms/step - loss: 0.1705 - accuracy: 0.9455 - val_loss: 2.9459 - val_accuracy: 0.5585\n",
      "Epoch 22/100\n",
      "172/172 [==============================] - ETA: 0s - loss: 0.2697 - accuracy: 0.9236"
     ]
    },
    {
     "name": "stderr",
     "output_type": "stream",
     "text": [
      "2025-01-19 08:59:02.873197: W tensorflow/core/lib/png/png_io.cc:89] PNG warning: iCCP: known incorrect sRGB profile\n"
     ]
    },
    {
     "name": "stdout",
     "output_type": "stream",
     "text": [
      "172/172 [==============================] - 46s 269ms/step - loss: 0.2697 - accuracy: 0.9236 - val_loss: 2.4071 - val_accuracy: 0.5885\n",
      "Epoch 23/100\n",
      "172/172 [==============================] - ETA: 0s - loss: 0.1497 - accuracy: 0.9560"
     ]
    },
    {
     "name": "stderr",
     "output_type": "stream",
     "text": [
      "2025-01-19 08:59:48.736778: W tensorflow/core/lib/png/png_io.cc:89] PNG warning: iCCP: known incorrect sRGB profile\n"
     ]
    },
    {
     "name": "stdout",
     "output_type": "stream",
     "text": [
      "172/172 [==============================] - 45s 265ms/step - loss: 0.1497 - accuracy: 0.9560 - val_loss: 2.5145 - val_accuracy: 0.5924\n",
      "Epoch 24/100\n",
      "172/172 [==============================] - ETA: 0s - loss: 0.0948 - accuracy: 0.9724"
     ]
    },
    {
     "name": "stderr",
     "output_type": "stream",
     "text": [
      "2025-01-19 09:00:33.211782: W tensorflow/core/lib/png/png_io.cc:89] PNG warning: iCCP: known incorrect sRGB profile\n"
     ]
    },
    {
     "name": "stdout",
     "output_type": "stream",
     "text": [
      "172/172 [==============================] - 45s 260ms/step - loss: 0.0948 - accuracy: 0.9724 - val_loss: 2.6915 - val_accuracy: 0.5972\n",
      "Epoch 25/100\n",
      "172/172 [==============================] - ETA: 0s - loss: 0.0932 - accuracy: 0.9704"
     ]
    },
    {
     "name": "stderr",
     "output_type": "stream",
     "text": [
      "2025-01-19 09:01:18.030114: W tensorflow/core/lib/png/png_io.cc:89] PNG warning: iCCP: known incorrect sRGB profile\n"
     ]
    },
    {
     "name": "stdout",
     "output_type": "stream",
     "text": [
      "172/172 [==============================] - 45s 260ms/step - loss: 0.0932 - accuracy: 0.9704 - val_loss: 3.3512 - val_accuracy: 0.5806\n",
      "Epoch 26/100\n",
      "172/172 [==============================] - ETA: 0s - loss: 0.1145 - accuracy: 0.9647"
     ]
    },
    {
     "name": "stderr",
     "output_type": "stream",
     "text": [
      "2025-01-19 09:02:03.177658: W tensorflow/core/lib/png/png_io.cc:89] PNG warning: iCCP: known incorrect sRGB profile\n"
     ]
    },
    {
     "name": "stdout",
     "output_type": "stream",
     "text": [
      "172/172 [==============================] - 45s 263ms/step - loss: 0.1145 - accuracy: 0.9647 - val_loss: 3.5492 - val_accuracy: 0.5450\n",
      "Epoch 27/100\n",
      "172/172 [==============================] - ETA: 0s - loss: 0.2397 - accuracy: 0.9293"
     ]
    },
    {
     "name": "stderr",
     "output_type": "stream",
     "text": [
      "2025-01-19 09:02:48.349128: W tensorflow/core/lib/png/png_io.cc:89] PNG warning: iCCP: known incorrect sRGB profile\n"
     ]
    },
    {
     "name": "stdout",
     "output_type": "stream",
     "text": [
      "172/172 [==============================] - 45s 263ms/step - loss: 0.2397 - accuracy: 0.9293 - val_loss: 2.6916 - val_accuracy: 0.5458\n",
      "Epoch 28/100\n",
      "172/172 [==============================] - ETA: 0s - loss: 0.1398 - accuracy: 0.9567"
     ]
    },
    {
     "name": "stderr",
     "output_type": "stream",
     "text": [
      "2025-01-19 09:03:33.132819: W tensorflow/core/lib/png/png_io.cc:89] PNG warning: iCCP: known incorrect sRGB profile\n"
     ]
    },
    {
     "name": "stdout",
     "output_type": "stream",
     "text": [
      "172/172 [==============================] - 45s 262ms/step - loss: 0.1398 - accuracy: 0.9567 - val_loss: 3.3325 - val_accuracy: 0.5798\n",
      "Epoch 29/100\n",
      "172/172 [==============================] - ETA: 0s - loss: 0.2678 - accuracy: 0.9273"
     ]
    },
    {
     "name": "stderr",
     "output_type": "stream",
     "text": [
      "2025-01-19 09:04:17.777258: W tensorflow/core/lib/png/png_io.cc:89] PNG warning: iCCP: known incorrect sRGB profile\n"
     ]
    },
    {
     "name": "stdout",
     "output_type": "stream",
     "text": [
      "172/172 [==============================] - 45s 260ms/step - loss: 0.2678 - accuracy: 0.9273 - val_loss: 2.6067 - val_accuracy: 0.5782\n",
      "Epoch 30/100\n",
      "172/172 [==============================] - ETA: 0s - loss: 0.0995 - accuracy: 0.9745"
     ]
    },
    {
     "name": "stderr",
     "output_type": "stream",
     "text": [
      "2025-01-19 09:05:02.537483: W tensorflow/core/lib/png/png_io.cc:89] PNG warning: iCCP: known incorrect sRGB profile\n"
     ]
    },
    {
     "name": "stdout",
     "output_type": "stream",
     "text": [
      "172/172 [==============================] - 45s 260ms/step - loss: 0.0995 - accuracy: 0.9745 - val_loss: 2.7574 - val_accuracy: 0.5885\n",
      "Epoch 31/100\n",
      "172/172 [==============================] - ETA: 0s - loss: 0.0478 - accuracy: 0.9860"
     ]
    },
    {
     "name": "stderr",
     "output_type": "stream",
     "text": [
      "2025-01-19 09:05:47.518090: W tensorflow/core/lib/png/png_io.cc:89] PNG warning: iCCP: known incorrect sRGB profile\n"
     ]
    },
    {
     "name": "stdout",
     "output_type": "stream",
     "text": [
      "172/172 [==============================] - 45s 262ms/step - loss: 0.0478 - accuracy: 0.9860 - val_loss: 3.1570 - val_accuracy: 0.5742\n",
      "Epoch 32/100\n",
      "172/172 [==============================] - ETA: 0s - loss: 0.1594 - accuracy: 0.9582"
     ]
    },
    {
     "name": "stderr",
     "output_type": "stream",
     "text": [
      "2025-01-19 09:06:32.257073: W tensorflow/core/lib/png/png_io.cc:89] PNG warning: iCCP: known incorrect sRGB profile\n"
     ]
    },
    {
     "name": "stdout",
     "output_type": "stream",
     "text": [
      "172/172 [==============================] - 45s 260ms/step - loss: 0.1594 - accuracy: 0.9582 - val_loss: 3.2760 - val_accuracy: 0.5569\n",
      "Epoch 33/100\n",
      "172/172 [==============================] - ETA: 0s - loss: 0.1564 - accuracy: 0.9591"
     ]
    },
    {
     "name": "stderr",
     "output_type": "stream",
     "text": [
      "2025-01-19 09:07:16.740955: W tensorflow/core/lib/png/png_io.cc:89] PNG warning: iCCP: known incorrect sRGB profile\n"
     ]
    },
    {
     "name": "stdout",
     "output_type": "stream",
     "text": [
      "172/172 [==============================] - 44s 258ms/step - loss: 0.1564 - accuracy: 0.9591 - val_loss: 3.3770 - val_accuracy: 0.5656\n",
      "Epoch 34/100\n",
      "172/172 [==============================] - ETA: 0s - loss: 0.1331 - accuracy: 0.9631"
     ]
    },
    {
     "name": "stderr",
     "output_type": "stream",
     "text": [
      "2025-01-19 09:08:01.754909: W tensorflow/core/lib/png/png_io.cc:89] PNG warning: iCCP: known incorrect sRGB profile\n"
     ]
    },
    {
     "name": "stdout",
     "output_type": "stream",
     "text": [
      "172/172 [==============================] - 45s 263ms/step - loss: 0.1331 - accuracy: 0.9631 - val_loss: 3.4577 - val_accuracy: 0.5624\n",
      "1/1 [==============================] - 0s 88ms/step\n",
      "1/1 [==============================] - 0s 18ms/step\n"
     ]
    },
    {
     "name": "stderr",
     "output_type": "stream",
     "text": [
      "2025-01-19 09:08:10.723553: W tensorflow/core/lib/png/png_io.cc:89] PNG warning: iCCP: known incorrect sRGB profile\n"
     ]
    },
    {
     "name": "stdout",
     "output_type": "stream",
     "text": [
      "1/1 [==============================] - 0s 21ms/step\n",
      "1/1 [==============================] - 0s 17ms/step\n",
      "1/1 [==============================] - 0s 16ms/step\n",
      "1/1 [==============================] - 0s 19ms/step\n",
      "1/1 [==============================] - 0s 22ms/step\n",
      "1/1 [==============================] - 0s 19ms/step\n",
      "1/1 [==============================] - 0s 33ms/step\n",
      "1/1 [==============================] - 0s 19ms/step\n",
      "1/1 [==============================] - 0s 17ms/step\n",
      "1/1 [==============================] - 0s 17ms/step\n",
      "1/1 [==============================] - 0s 17ms/step\n",
      "1/1 [==============================] - 0s 20ms/step\n",
      "1/1 [==============================] - 0s 17ms/step\n",
      "1/1 [==============================] - 0s 17ms/step\n",
      "1/1 [==============================] - 0s 17ms/step\n",
      "1/1 [==============================] - 0s 17ms/step\n",
      "1/1 [==============================] - 0s 18ms/step\n",
      "1/1 [==============================] - 0s 16ms/step\n",
      "1/1 [==============================] - 0s 18ms/step\n",
      "1/1 [==============================] - 0s 19ms/step\n",
      "1/1 [==============================] - 0s 16ms/step\n",
      "1/1 [==============================] - 0s 19ms/step\n",
      "1/1 [==============================] - 0s 25ms/step\n",
      "1/1 [==============================] - 0s 17ms/step\n",
      "1/1 [==============================] - 0s 24ms/step\n",
      "1/1 [==============================] - 0s 19ms/step\n",
      "1/1 [==============================] - 0s 17ms/step\n",
      "1/1 [==============================] - 0s 18ms/step\n",
      "1/1 [==============================] - 0s 23ms/step\n",
      "1/1 [==============================] - 0s 16ms/step\n",
      "1/1 [==============================] - 0s 16ms/step\n",
      "1/1 [==============================] - 0s 16ms/step\n",
      "1/1 [==============================] - 0s 17ms/step\n",
      "1/1 [==============================] - 0s 17ms/step\n",
      "1/1 [==============================] - 0s 16ms/step\n",
      "1/1 [==============================] - 0s 16ms/step\n",
      "1/1 [==============================] - 0s 16ms/step\n",
      "1/1 [==============================] - 0s 64ms/step\n",
      "Confusion Matrix: \n"
     ]
    },
    {
     "name": "stderr",
     "output_type": "stream",
     "text": [
      "2025-01-19 09:08:47.851216: I tensorflow/core/framework/local_rendezvous.cc:405] Local rendezvous is aborting with status: OUT_OF_RANGE: End of sequence\n"
     ]
    },
    {
     "name": "stdout",
     "output_type": "stream",
     "text": [
      "Accuracy Score:  0.5624012638230648\n"
     ]
    },
    {
     "data": {
      "image/png": "[encoded data removed]",
      "text/plain": [
       "<Figure size 800x800 with 2 Axes>"
      ]
     },
     "metadata": {},
     "output_type": "display_data"
    },
    {
     "data": {
      "image/png": "[encoded data removed]",
      "text/plain": [
       "<Figure size 800x800 with 2 Axes>"
      ]
     },
     "metadata": {},
     "output_type": "display_data"
    }
   ],
   "source": [
    "#%%\n",
    "\n",
    "import tensorflow as tf\n",
    "import tf_keras\n",
    "import matplotlib.pyplot as plt\n",
    "import seaborn as sns\n",
    "import numpy as np\n",
    "from tf_keras import layers\n",
    "from tf_keras.models import Sequential\n",
    "from sklearn.metrics import confusion_matrix, accuracy_score\n",
    "\n",
    "gpu_devices = tf.config.list_physical_devices('GPU')\n",
    "if gpu_devices:\n",
    "  tf.config.experimental.set_memory_growth(gpu_devices[0], True)\n",
    "  print('GPU found', gpu_devices[0])\n",
    "else:\n",
    "  print('No GPU found')\n",
    "\n",
    "#define image size\n",
    "IMG_SIZE = 224\n",
    "\n",
    "#define batch size\n",
    "BATCH_SIZE = 32\n",
    "\n",
    "#training and valdiation directories\n",
    "TRAINING_DIR = \"Train\"\n",
    "VALIDATION_DIR = \"Validation\"\n",
    "\n",
    "# Create a function for preprocessing images\n",
    "def process_image_mobilenet(image_path):\n",
    "  image = tf.io.read_file(image_path) # Turn the jpeg image into numerical Tensor with 3 colour channels (Red, Green, Blue)\n",
    "  image = tf.image.decode_jpeg(image, channels = 3) # Convert the colour channel values from 0-255 to 0-1 values\n",
    "  image = tf.image.convert_image_dtype(image, tf.float32)# Resize the image to our desired value (224, 224)\n",
    "  image = tf.image.resize(image, size=[IMG_SIZE, IMG_SIZE])\n",
    "\n",
    "  return image\n",
    "  \n",
    "#training split\n",
    "train_ds = tf_keras.utils.image_dataset_from_directory(\n",
    "  TRAINING_DIR,\n",
    "  labels = \"inferred\",\n",
    "  image_size = (IMG_SIZE, IMG_SIZE),\n",
    "  batch_size = BATCH_SIZE,\n",
    "  seed = 225\n",
    ")\n",
    "\n",
    "#validation split, taken directly from the same directory as train\n",
    "validation_ds = tf_keras.utils.image_dataset_from_directory(\n",
    "  VALIDATION_DIR,\n",
    "  labels = \"inferred\",\n",
    "  image_size = (IMG_SIZE, IMG_SIZE),\n",
    "  batch_size = BATCH_SIZE,\n",
    "  seed = 225\n",
    ")\n",
    "\n",
    "CLASS_NAMES = train_ds.class_names\n",
    "\n",
    "AUTOTUNE = tf.data.AUTOTUNE\n",
    "train_ds = train_ds.cache().shuffle(1000).prefetch(buffer_size = AUTOTUNE)\n",
    "val_ds = validation_ds.cache().prefetch(buffer_size = AUTOTUNE)\n",
    "\n",
    "norm_layer = layers.Rescaling(1./255)\n",
    "norm_ds = train_ds.map(lambda x, y: (norm_layer(x), y))\n",
    "image_batch, labels_batch = next(iter(norm_ds))\n",
    "\n",
    "num_classes = len(CLASS_NAMES)\n",
    "\n",
    "#training model\n",
    "model = Sequential([\n",
    "  layers.Conv2D(128, (3, 3), activation = 'relu', input_shape = (224, 224, 3)),\n",
    "  layers.MaxPooling2D(2, 2),\n",
    "  layers.Conv2D(128, (3, 3), activation = 'relu'),\n",
    "  layers.MaxPooling2D(2, 2),\n",
    "  layers.Conv2D(256, (3, 3), activation = 'relu'),\n",
    "  layers.MaxPooling2D(2, 2),\n",
    "  layers.Conv2D(256, (3, 3), activation = 'relu'),\n",
    "  layers.MaxPooling2D(2, 2),\n",
    "  layers.Conv2D(512, (3, 3), activation = 'relu'),\n",
    "  layers.MaxPooling2D(2, 2),\n",
    "  layers.Conv2D(512, (3, 3), activation = 'relu'),\n",
    "  layers.MaxPooling2D(2, 2),\n",
    "  layers.Flatten(),\n",
    "  layers.Dense(1024, activation = 'relu'),\n",
    "  layers.Dropout(0.25),\n",
    "  layers.Dense(num_classes, activation = 'softmax')\n",
    "])\n",
    "\n",
    "model.compile(optimizer = 'adam', loss = tf_keras.losses.SparseCategoricalCrossentropy(from_logits = True), metrics = ['accuracy'])\n",
    "\n",
    "#no of epochs\n",
    "epochs = 100\n",
    "\n",
    "#early stopping\n",
    "early_stopping = tf_keras.callbacks.EarlyStopping(monitor = \"val_accuracy\", patience = 10)\n",
    "\n",
    "#fitting of the model\n",
    "history = model.fit(train_ds, validation_data = validation_ds, epochs = epochs, callbacks = [early_stopping])\n",
    "\n",
    "#accuracy and loss values\n",
    "accuracy = history.history['accuracy']\n",
    "val_accuracy = history.history[('val_accuracy')]\n",
    "\n",
    "loss = history.history['loss']\n",
    "val_loss = history.history['val_loss']\n",
    "\n",
    "epochs_range = range(epochs)\n",
    "\n",
    "true_labels = []\n",
    "predicted_labels = []\n",
    "\n",
    "for images, labels in val_ds:\n",
    "  true_labels.extend(labels.numpy())\n",
    "  pred = model.predict(images)\n",
    "  predicted_labels.extend(np.argmax(pred, axis = 1))\n",
    "\n",
    "confusion_matrix = confusion_matrix(true_labels, predicted_labels)\n",
    "accuracy_score = accuracy_score(true_labels, predicted_labels)\n",
    "\n",
    "print('Confusion Matrix: ')\n",
    "plt.figure(figsize=(8, 8))\n",
    "sns.heatmap(confusion_matrix, annot = True, fmt = 'd', xticklabels = CLASS_NAMES, yticklabels = CLASS_NAMES, cmap = 'Blues')\n",
    "plt.xlabel('Predicted')\n",
    "plt.ylabel('True')\n",
    "plt.title('Confusion Matrix')\n",
    "\n",
    "print('Accuracy Score: ', accuracy_score)\n",
    "\n",
    "plt.figure(figsize = (8, 8))\n",
    "plt.subplot(1, 2, 1)\n",
    "plt.plot(accuracy, label = 'Training Accuracy')\n",
    "plt.plot(val_accuracy, label = 'Validation Accuracy')\n",
    "plt.legend(loc = 'lower right')\n",
    "plt.title('Training and Validation Accuracy')\n",
    "\n",
    "plt.subplot(1, 2, 2)\n",
    "plt.plot(loss, label = 'Training Loss')\n",
    "plt.plot(val_loss, label = 'Validation Loss')\n",
    "plt.legend(loc = 'upper right')\n",
    "plt.title('Training and Validation Loss')\n",
    "plt.show()"
   ]
  },
  {
   "cell_type": "code",
   "execution_count": null,
   "id": "b622d18a-d10d-405b-b974-cbba5a39ceb7",
   "metadata": {},
   "outputs": [
    {
     "name": "stdout",
     "output_type": "stream",
     "text": [
      "GPU found PhysicalDevice(name='/physical_device:GPU:0', device_type='GPU')\n",
      "Found 5500 files belonging to 10 classes.\n",
      "Found 1266 files belonging to 10 classes.\n"
     ]
    },
    {
     "name": "stderr",
     "output_type": "stream",
     "text": [
      "2025-01-19 09:09:19.784845: I tensorflow/core/kernels/data/shuffle_dataset_op.cc:450] ShuffleDatasetV3:643: Filling up shuffle buffer (this may take a while): 36 of 1000\n",
      "2025-01-19 09:09:39.766846: I tensorflow/core/kernels/data/shuffle_dataset_op.cc:450] ShuffleDatasetV3:643: Filling up shuffle buffer (this may take a while): 119 of 1000\n",
      "2025-01-19 09:09:49.845655: I tensorflow/core/kernels/data/shuffle_dataset_op.cc:450] ShuffleDatasetV3:643: Filling up shuffle buffer (this may take a while): 159 of 1000\n",
      "2025-01-19 09:09:51.113786: I tensorflow/core/kernels/data/shuffle_dataset_op.cc:480] Shuffle buffer filled.\n"
     ]
    },
    {
     "ename": "KeyboardInterrupt",
     "evalue": "",
     "output_type": "error",
     "traceback": [
      "\u001b[0;31m---------------------------------------------------------------------------\u001b[0m",
      "\u001b[0;31mKeyboardInterrupt\u001b[0m                         Traceback (most recent call last)",
      "File \u001b[1;32m/home/adiicmp/GitHub Repos/Python/UNSTPB/Year IV/Semester 1/Neural Networks and Genetic Algorithms Project/Project/training.py:65\u001b[0m\n\u001b[1;32m     63\u001b[0m norm_layer \u001b[39m=\u001b[39m layers\u001b[39m.\u001b[39mRescaling(\u001b[39m1.\u001b[39m\u001b[39m/\u001b[39m\u001b[39m255\u001b[39m)\n\u001b[1;32m     64\u001b[0m norm_ds \u001b[39m=\u001b[39m train_ds\u001b[39m.\u001b[39mmap(\u001b[39mlambda\u001b[39;00m x, y: (norm_layer(x), y))\n\u001b[0;32m---> 65\u001b[0m image_batch, labels_batch \u001b[39m=\u001b[39m \u001b[39mnext\u001b[39;49m(\u001b[39miter\u001b[39;49m(norm_ds))\n\u001b[1;32m     67\u001b[0m num_classes \u001b[39m=\u001b[39m \u001b[39mlen\u001b[39m(CLASS_NAMES)\n\u001b[1;32m     69\u001b[0m \u001b[39m#training model\u001b[39;00m\n",
      "File \u001b[0;32m~/GitHub Repos/Python/.venv/lib/python3.12/site-packages/tensorflow/python/data/ops/iterator_ops.py:826\u001b[0m, in \u001b[0;36mOwnedIterator.__next__\u001b[0;34m(self)\u001b[0m\n\u001b[1;32m    824\u001b[0m \u001b[39mdef\u001b[39;00m\u001b[39m \u001b[39m\u001b[39m__next__\u001b[39m(\u001b[39mself\u001b[39m):\n\u001b[1;32m    825\u001b[0m   \u001b[39mtry\u001b[39;00m:\n\u001b[0;32m--> 826\u001b[0m     \u001b[39mreturn\u001b[39;00m \u001b[39mself\u001b[39;49m\u001b[39m.\u001b[39;49m_next_internal()\n\u001b[1;32m    827\u001b[0m   \u001b[39mexcept\u001b[39;00m errors\u001b[39m.\u001b[39mOutOfRangeError:\n\u001b[1;32m    828\u001b[0m     \u001b[39mraise\u001b[39;00m \u001b[39mStopIteration\u001b[39;00m\n",
      "File \u001b[0;32m~/GitHub Repos/Python/.venv/lib/python3.12/site-packages/tensorflow/python/data/ops/iterator_ops.py:776\u001b[0m, in \u001b[0;36mOwnedIterator._next_internal\u001b[0;34m(self)\u001b[0m\n\u001b[1;32m    773\u001b[0m \u001b[39m# TODO(b/77291417): This runs in sync mode as iterators use an error status\u001b[39;00m\n\u001b[1;32m    774\u001b[0m \u001b[39m# to communicate that there is no more data to iterate over.\u001b[39;00m\n\u001b[1;32m    775\u001b[0m \u001b[39mwith\u001b[39;00m context\u001b[39m.\u001b[39mexecution_mode(context\u001b[39m.\u001b[39mSYNC):\n\u001b[0;32m--> 776\u001b[0m   ret \u001b[39m=\u001b[39m gen_dataset_ops\u001b[39m.\u001b[39;49miterator_get_next(\n\u001b[1;32m    777\u001b[0m       \u001b[39mself\u001b[39;49m\u001b[39m.\u001b[39;49m_iterator_resource,\n\u001b[1;32m    778\u001b[0m       output_types\u001b[39m=\u001b[39;49m\u001b[39mself\u001b[39;49m\u001b[39m.\u001b[39;49m_flat_output_types,\n\u001b[1;32m    779\u001b[0m       output_shapes\u001b[39m=\u001b[39;49m\u001b[39mself\u001b[39;49m\u001b[39m.\u001b[39;49m_flat_output_shapes)\n\u001b[1;32m    781\u001b[0m   \u001b[39mtry\u001b[39;00m:\n\u001b[1;32m    782\u001b[0m     \u001b[39m# Fast path for the case `self._structure` is not a nested structure.\u001b[39;00m\n\u001b[1;32m    783\u001b[0m     \u001b[39mreturn\u001b[39;00m \u001b[39mself\u001b[39m\u001b[39m.\u001b[39m_element_spec\u001b[39m.\u001b[39m_from_compatible_tensor_list(ret)  \u001b[39m# pylint: disable=protected-access\u001b[39;00m\n",
      "File \u001b[0;32m~/GitHub Repos/Python/.venv/lib/python3.12/site-packages/tensorflow/python/ops/gen_dataset_ops.py:3081\u001b[0m, in \u001b[0;36miterator_get_next\u001b[0;34m(iterator, output_types, output_shapes, name)\u001b[0m\n\u001b[1;32m   3079\u001b[0m \u001b[39mif\u001b[39;00m tld\u001b[39m.\u001b[39mis_eager:\n\u001b[1;32m   3080\u001b[0m   \u001b[39mtry\u001b[39;00m:\n\u001b[0;32m-> 3081\u001b[0m     _result \u001b[39m=\u001b[39m pywrap_tfe\u001b[39m.\u001b[39;49mTFE_Py_FastPathExecute(\n\u001b[1;32m   3082\u001b[0m       _ctx, \u001b[39m\"\u001b[39;49m\u001b[39mIteratorGetNext\u001b[39;49m\u001b[39m\"\u001b[39;49m, name, iterator, \u001b[39m\"\u001b[39;49m\u001b[39moutput_types\u001b[39;49m\u001b[39m\"\u001b[39;49m, output_types,\n\u001b[1;32m   3083\u001b[0m       \u001b[39m\"\u001b[39;49m\u001b[39moutput_shapes\u001b[39;49m\u001b[39m\"\u001b[39;49m, output_shapes)\n\u001b[1;32m   3084\u001b[0m     \u001b[39mreturn\u001b[39;00m _result\n\u001b[1;32m   3085\u001b[0m   \u001b[39mexcept\u001b[39;00m _core\u001b[39m.\u001b[39m_NotOkStatusException \u001b[39mas\u001b[39;00m e:\n",
      "\u001b[0;31mKeyboardInterrupt\u001b[0m: "
     ]
    }
   ],
   "source": [
    "#%%\n",
    "\n",
    "import tensorflow as tf\n",
    "import tf_keras\n",
    "import matplotlib.pyplot as plt\n",
    "import seaborn as sns\n",
    "import numpy as np\n",
    "from tf_keras import layers\n",
    "from tf_keras.models import Sequential\n",
    "from sklearn.metrics import confusion_matrix, accuracy_score\n",
    "from tf_keras.preprocessing.image import ImageDataGenerator\n",
    "from tf_keras.optimizers import Adam\n",
    "\n",
    "gpu_devices = tf.config.list_physical_devices('GPU')\n",
    "if gpu_devices:\n",
    "  tf.config.experimental.set_memory_growth(gpu_devices[0], True)\n",
    "  print('GPU found', gpu_devices[0])\n",
    "else:\n",
    "  print('No GPU found')\n",
    "\n",
    "#define image size\n",
    "IMG_SIZE = 224\n",
    "\n",
    "#define batch size\n",
    "BATCH_SIZE = 32\n",
    "\n",
    "#training and valdiation directories\n",
    "TRAINING_DIR = \"Train\"\n",
    "VALIDATION_DIR = \"Validation\"\n",
    "\n",
    "# Create a function for preprocessing images\n",
    "def process_image_mobilenet(image_path):\n",
    "  image = tf.io.read_file(image_path) # Turn the jpeg image into numerical Tensor with 3 colour channels (Red, Green, Blue)\n",
    "  image = tf.image.decode_jpeg(image, channels = 3) # Convert the colour channel values from 0-255 to 0-1 values\n",
    "  image = tf.image.convert_image_dtype(image, tf.float32)# Resize the image to our desired value (224, 224)\n",
    "  image = tf.image.resize(image, size=[IMG_SIZE, IMG_SIZE])\n",
    "\n",
    "  return image\n",
    "  \n",
    "#training split\n",
    "train_ds = tf_keras.utils.image_dataset_from_directory(\n",
    "  TRAINING_DIR,\n",
    "  labels = \"inferred\",\n",
    "  image_size = (IMG_SIZE, IMG_SIZE),\n",
    "  batch_size = BATCH_SIZE,\n",
    "  seed = 225\n",
    ")\n",
    "\n",
    "#validation split, taken directly from the same directory as train\n",
    "validation_ds = tf_keras.utils.image_dataset_from_directory(\n",
    "  VALIDATION_DIR,\n",
    "  labels = \"inferred\",\n",
    "  image_size = (IMG_SIZE, IMG_SIZE),\n",
    "  batch_size = BATCH_SIZE,\n",
    "  seed = 225\n",
    ")\n",
    "\n",
    "CLASS_NAMES = train_ds.class_names\n",
    "\n",
    "AUTOTUNE = tf.data.AUTOTUNE\n",
    "train_ds = train_ds.cache().shuffle(1000).prefetch(buffer_size = AUTOTUNE)\n",
    "val_ds = validation_ds.cache().prefetch(buffer_size = AUTOTUNE)\n",
    "\n",
    "norm_layer = layers.Rescaling(1./255)\n",
    "norm_ds = train_ds.map(lambda x, y: (norm_layer(x), y))\n",
    "image_batch, labels_batch = next(iter(norm_ds))\n",
    "\n",
    "num_classes = len(CLASS_NAMES)\n",
    "\n",
    "#training model\n",
    "model = Sequential([\n",
    "  layers.Conv2D(128, (3, 3), activation = 'relu', input_shape = (224, 224, 3)),\n",
    "  layers.MaxPooling2D(2, 2),\n",
    "  layers.Conv2D(128, (3, 3), activation = 'relu'),\n",
    "  layers.MaxPooling2D(2, 2),\n",
    "  layers.Conv2D(256, (3, 3), activation = 'relu'),\n",
    "  layers.MaxPooling2D(2, 2),\n",
    "  layers.Conv2D(256, (3, 3), activation = 'relu'),\n",
    "  layers.MaxPooling2D(2, 2),\n",
    "  layers.Conv2D(512, (3, 3), activation = 'relu'),\n",
    "  layers.MaxPooling2D(2, 2),\n",
    "  layers.Conv2D(512, (3, 3), activation = 'relu'),\n",
    "  layers.MaxPooling2D(2, 2),\n",
    "  layers.Flatten(),\n",
    "  layers.Dense(1024, activation = 'relu'),\n",
    "  layers.Dropout(0.25),\n",
    "  layers.Dense(num_classes, activation = 'softmax')\n",
    "])\n",
    "\n",
    "model.compile(optimizer = Adam(learning_rate = 0.0001, decay = 1e-6), \n",
    "              loss = tf_keras.losses.SparseCategoricalCrossentropy(from_logits = True), \n",
    "              metrics = ['accuracy'])\n",
    "\n",
    "#no of epochs\n",
    "epochs = 100\n",
    "\n",
    "#early stopping\n",
    "early_stopping = tf_keras.callbacks.EarlyStopping(monitor = 'val_loss', \n",
    "                                                  mode = 'min', \n",
    "                                                  verbose = 1, \n",
    "                                                  patience = 8, \n",
    "                                                  restore_best_weights = True)\n",
    "\n",
    "#data preprocessing for better results, forces the model to learn more features\n",
    "datagen = ImageDataGenerator(\n",
    "    featurewise_center = False,\n",
    "    samplewise_center = False,\n",
    "    featurewise_std_normalization = False,\n",
    "    samplewise_std_normalization = False,\n",
    "    zca_whitening = False,\n",
    "    rotation_range = 0,\n",
    "    width_shift_range = 0.1,\n",
    "    height_shift_range = 0.1,\n",
    "    horizontal_flip = True,\n",
    "    vertical_flip = False\n",
    ")\n",
    "\n",
    "datagen.fit(train_ds)\n",
    "\n",
    "#fitting of the model\n",
    "history = model.fit(train_ds, \n",
    "                    validation_data = validation_ds, \n",
    "                    epochs = epochs, \n",
    "                    callbacks = [early_stopping])\n",
    "\n",
    "#accuracy and loss values\n",
    "accuracy = history.history['accuracy']\n",
    "val_accuracy = history.history[('val_accuracy')]\n",
    "\n",
    "loss = history.history['loss']\n",
    "val_loss = history.history['val_loss']\n",
    "\n",
    "epochs_range = range(epochs)\n",
    "\n",
    "true_labels = []\n",
    "predicted_labels = []\n",
    "\n",
    "for images, labels in val_ds:\n",
    "  true_labels.extend(labels.numpy())\n",
    "  pred = model.predict(images)\n",
    "  predicted_labels.extend(np.argmax(pred, axis = 1))\n",
    "\n",
    "confusion_matrix = confusion_matrix(true_labels, predicted_labels)\n",
    "accuracy_score = accuracy_score(true_labels, predicted_labels)\n",
    "\n",
    "print('Confusion Matrix: ')\n",
    "plt.figure(figsize=(8, 8))\n",
    "sns.heatmap(confusion_matrix, annot = True, fmt = 'd', xticklabels = CLASS_NAMES, yticklabels = CLASS_NAMES, cmap = 'Blues')\n",
    "plt.xlabel('Predicted')\n",
    "plt.ylabel('True')\n",
    "plt.title('Confusion Matrix')\n",
    "\n",
    "print('Accuracy Score: ', accuracy_score)\n",
    "\n",
    "plt.figure(figsize = (8, 8))\n",
    "plt.subplot(1, 2, 1)\n",
    "plt.plot(accuracy, label = 'Training Accuracy')\n",
    "plt.plot(val_accuracy, label = 'Validation Accuracy')\n",
    "plt.legend(loc = 'lower right')\n",
    "plt.title('Training and Validation Accuracy')\n",
    "\n",
    "plt.subplot(1, 2, 2)\n",
    "plt.plot(loss, label = 'Training Loss')\n",
    "plt.plot(val_loss, label = 'Validation Loss')\n",
    "plt.legend(loc = 'upper right')\n",
    "plt.title('Training and Validation Loss')\n",
    "plt.show()"
   ]
  },
  {
   "cell_type": "code",
   "execution_count": null,
   "id": "204d72e0-090c-44e0-ad44-6e4e786d6a59",
   "metadata": {},
   "outputs": [
    {
     "name": "stdout",
     "output_type": "stream",
     "text": [
      "GPU found PhysicalDevice(name='/physical_device:GPU:0', device_type='GPU')\n",
      "Found 6480 files belonging to 10 classes.\n",
      "Using 5184 files for training.\n",
      "Found 6480 files belonging to 10 classes.\n",
      "Using 1296 files for validation.\n"
     ]
    },
    {
     "name": "stderr",
     "output_type": "stream",
     "text": [
      "2025-01-19 09:14:14.683175: I tensorflow/core/kernels/data/shuffle_dataset_op.cc:450] ShuffleDatasetV3:664: Filling up shuffle buffer (this may take a while): 35 of 1000\n",
      "2025-01-19 09:14:24.695592: I tensorflow/core/kernels/data/shuffle_dataset_op.cc:450] ShuffleDatasetV3:664: Filling up shuffle buffer (this may take a while): 74 of 1000\n",
      "2025-01-19 09:14:34.805758: I tensorflow/core/kernels/data/shuffle_dataset_op.cc:450] ShuffleDatasetV3:664: Filling up shuffle buffer (this may take a while): 116 of 1000\n",
      "2025-01-19 09:14:38.957340: W tensorflow/core/lib/png/png_io.cc:89] PNG warning: iCCP: known incorrect sRGB profile\n",
      "2025-01-19 09:14:44.422066: I tensorflow/core/kernels/data/shuffle_dataset_op.cc:480] Shuffle buffer filled.\n"
     ]
    },
    {
     "ename": "ValueError",
     "evalue": "decay is deprecated in the new TF-Keras optimizer, please check the docstring for valid arguments, or use the legacy optimizer, e.g., tf.keras.optimizers.legacy.Adam.",
     "output_type": "error",
     "traceback": [
      "\u001b[0;31m---------------------------------------------------------------------------\u001b[0m",
      "\u001b[0;31mValueError\u001b[0m                                Traceback (most recent call last)",
      "File \u001b[1;32m/home/adiicmp/GitHub Repos/Python/UNSTPB/Year IV/Semester 1/Neural Networks and Genetic Algorithms Project/Project/training.py:92\u001b[0m\n\u001b[1;32m     72\u001b[0m \u001b[39m#training model\u001b[39;00m\n\u001b[1;32m     73\u001b[0m model \u001b[39m=\u001b[39m Sequential([\n\u001b[1;32m     74\u001b[0m   layers\u001b[39m.\u001b[39mConv2D(\u001b[39m128\u001b[39m, (\u001b[39m3\u001b[39m, \u001b[39m3\u001b[39m), activation \u001b[39m=\u001b[39m \u001b[39m'\u001b[39m\u001b[39mrelu\u001b[39m\u001b[39m'\u001b[39m, input_shape \u001b[39m=\u001b[39m (\u001b[39m224\u001b[39m, \u001b[39m224\u001b[39m, \u001b[39m3\u001b[39m)),\n\u001b[1;32m     75\u001b[0m   layers\u001b[39m.\u001b[39mMaxPooling2D(\u001b[39m2\u001b[39m, \u001b[39m2\u001b[39m),\n\u001b[0;32m   (...)\u001b[0m\n\u001b[1;32m     89\u001b[0m   layers\u001b[39m.\u001b[39mDense(num_classes, activation \u001b[39m=\u001b[39m \u001b[39m'\u001b[39m\u001b[39msoftmax\u001b[39m\u001b[39m'\u001b[39m)\n\u001b[1;32m     90\u001b[0m ])\n\u001b[0;32m---> 92\u001b[0m model\u001b[39m.\u001b[39mcompile(optimizer \u001b[39m=\u001b[39m Adam(learning_rate \u001b[39m=\u001b[39;49m \u001b[39m0.0001\u001b[39;49m, decay \u001b[39m=\u001b[39;49m \u001b[39m1e-6\u001b[39;49m), \n\u001b[1;32m     93\u001b[0m               loss \u001b[39m=\u001b[39m tf_keras\u001b[39m.\u001b[39mlosses\u001b[39m.\u001b[39mSparseCategoricalCrossentropy(from_logits \u001b[39m=\u001b[39m \u001b[39mTrue\u001b[39;00m), \n\u001b[1;32m     94\u001b[0m               metrics \u001b[39m=\u001b[39m [\u001b[39m'\u001b[39m\u001b[39maccuracy\u001b[39m\u001b[39m'\u001b[39m])\n\u001b[1;32m     96\u001b[0m \u001b[39m#no of epochs\u001b[39;00m\n\u001b[1;32m     97\u001b[0m epochs \u001b[39m=\u001b[39m \u001b[39m100\u001b[39m\n",
      "File \u001b[0;32m~/GitHub Repos/Python/.venv/lib/python3.12/site-packages/tf_keras/src/optimizers/adam.py:114\u001b[0m, in \u001b[0;36mAdam.__init__\u001b[0;34m(self, learning_rate, beta_1, beta_2, epsilon, adaptive_epsilon, amsgrad, weight_decay, clipnorm, clipvalue, global_clipnorm, use_ema, ema_momentum, ema_overwrite_frequency, jit_compile, name, **kwargs)\u001b[0m\n\u001b[1;32m     95\u001b[0m \u001b[39mdef\u001b[39;00m\u001b[39m \u001b[39m\u001b[39m__init__\u001b[39m(\n\u001b[1;32m     96\u001b[0m     \u001b[39mself\u001b[39m,\n\u001b[1;32m     97\u001b[0m     learning_rate\u001b[39m=\u001b[39m\u001b[39m0.001\u001b[39m,\n\u001b[0;32m   (...)\u001b[0m\n\u001b[1;32m    112\u001b[0m     \u001b[39m*\u001b[39m\u001b[39m*\u001b[39mkwargs\n\u001b[1;32m    113\u001b[0m ):\n\u001b[0;32m--> 114\u001b[0m     \u001b[39msuper\u001b[39;49m()\u001b[39m.\u001b[39;49m\u001b[39m__init__\u001b[39;49m(\n\u001b[1;32m    115\u001b[0m         name\u001b[39m=\u001b[39;49mname,\n\u001b[1;32m    116\u001b[0m         weight_decay\u001b[39m=\u001b[39;49mweight_decay,\n\u001b[1;32m    117\u001b[0m         clipnorm\u001b[39m=\u001b[39;49mclipnorm,\n\u001b[1;32m    118\u001b[0m         clipvalue\u001b[39m=\u001b[39;49mclipvalue,\n\u001b[1;32m    119\u001b[0m         global_clipnorm\u001b[39m=\u001b[39;49mglobal_clipnorm,\n\u001b[1;32m    120\u001b[0m         use_ema\u001b[39m=\u001b[39;49muse_ema,\n\u001b[1;32m    121\u001b[0m         ema_momentum\u001b[39m=\u001b[39;49mema_momentum,\n\u001b[1;32m    122\u001b[0m         ema_overwrite_frequency\u001b[39m=\u001b[39;49mema_overwrite_frequency,\n\u001b[1;32m    123\u001b[0m         jit_compile\u001b[39m=\u001b[39;49mjit_compile,\n\u001b[1;32m    124\u001b[0m         \u001b[39m*\u001b[39;49m\u001b[39m*\u001b[39;49mkwargs\n\u001b[1;32m    125\u001b[0m     )\n\u001b[1;32m    126\u001b[0m     \u001b[39mself\u001b[39m\u001b[39m.\u001b[39m_learning_rate \u001b[39m=\u001b[39m \u001b[39mself\u001b[39m\u001b[39m.\u001b[39m_build_learning_rate(learning_rate)\n\u001b[1;32m    127\u001b[0m     \u001b[39mself\u001b[39m\u001b[39m.\u001b[39mbeta_1 \u001b[39m=\u001b[39m beta_1\n",
      "File \u001b[0;32m~/GitHub Repos/Python/.venv/lib/python3.12/site-packages/tf_keras/src/optimizers/optimizer.py:1163\u001b[0m, in \u001b[0;36mOptimizer.__init__\u001b[0;34m(self, name, weight_decay, clipnorm, clipvalue, global_clipnorm, use_ema, ema_momentum, ema_overwrite_frequency, jit_compile, **kwargs)\u001b[0m\n\u001b[1;32m   1161\u001b[0m mesh \u001b[39m=\u001b[39m kwargs\u001b[39m.\u001b[39mpop(\u001b[39m\"\u001b[39m\u001b[39mmesh\u001b[39m\u001b[39m\"\u001b[39m, \u001b[39mNone\u001b[39;00m)\n\u001b[1;32m   1162\u001b[0m \u001b[39mself\u001b[39m\u001b[39m.\u001b[39m_mesh \u001b[39m=\u001b[39m mesh\n\u001b[0;32m-> 1163\u001b[0m \u001b[39msuper\u001b[39;49m()\u001b[39m.\u001b[39;49m\u001b[39m__init__\u001b[39;49m(\n\u001b[1;32m   1164\u001b[0m     name,\n\u001b[1;32m   1165\u001b[0m     weight_decay,\n\u001b[1;32m   1166\u001b[0m     clipnorm,\n\u001b[1;32m   1167\u001b[0m     clipvalue,\n\u001b[1;32m   1168\u001b[0m     global_clipnorm,\n\u001b[1;32m   1169\u001b[0m     use_ema,\n\u001b[1;32m   1170\u001b[0m     ema_momentum,\n\u001b[1;32m   1171\u001b[0m     ema_overwrite_frequency,\n\u001b[1;32m   1172\u001b[0m     jit_compile,\n\u001b[1;32m   1173\u001b[0m     \u001b[39m*\u001b[39;49m\u001b[39m*\u001b[39;49mkwargs,\n\u001b[1;32m   1174\u001b[0m )\n\u001b[1;32m   1175\u001b[0m \u001b[39mself\u001b[39m\u001b[39m.\u001b[39m_distribution_strategy \u001b[39m=\u001b[39m tf\u001b[39m.\u001b[39mdistribute\u001b[39m.\u001b[39mget_strategy()\n\u001b[1;32m   1176\u001b[0m \u001b[39mself\u001b[39m\u001b[39m.\u001b[39m_run_with_dtensor \u001b[39m=\u001b[39m dtensor_utils\u001b[39m.\u001b[39mrunning_with_dtensor_strategy()\n",
      "File \u001b[0;32m~/GitHub Repos/Python/.venv/lib/python3.12/site-packages/tf_keras/src/optimizers/optimizer.py:110\u001b[0m, in \u001b[0;36m_BaseOptimizer.__init__\u001b[0;34m(self, name, weight_decay, clipnorm, clipvalue, global_clipnorm, use_ema, ema_momentum, ema_overwrite_frequency, jit_compile, **kwargs)\u001b[0m\n\u001b[1;32m    108\u001b[0m \u001b[39mself\u001b[39m\u001b[39m.\u001b[39m_sharded_variable_builders \u001b[39m=\u001b[39m \u001b[39mself\u001b[39m\u001b[39m.\u001b[39m_no_dependency({})\n\u001b[1;32m    109\u001b[0m \u001b[39mself\u001b[39m\u001b[39m.\u001b[39m_create_iteration_variable()\n\u001b[0;32m--> 110\u001b[0m \u001b[39mself\u001b[39;49m\u001b[39m.\u001b[39;49m_process_kwargs(kwargs)\n",
      "File \u001b[0;32m~/GitHub Repos/Python/.venv/lib/python3.12/site-packages/tf_keras/src/optimizers/optimizer.py:139\u001b[0m, in \u001b[0;36m_BaseOptimizer._process_kwargs\u001b[0;34m(self, kwargs)\u001b[0m\n\u001b[1;32m    137\u001b[0m \u001b[39mfor\u001b[39;00m k \u001b[39min\u001b[39;00m kwargs:\n\u001b[1;32m    138\u001b[0m     \u001b[39mif\u001b[39;00m k \u001b[39min\u001b[39;00m legacy_kwargs:\n\u001b[0;32m--> 139\u001b[0m         \u001b[39mraise\u001b[39;00m \u001b[39mValueError\u001b[39;00m(\n\u001b[1;32m    140\u001b[0m             \u001b[39mf\u001b[39m\u001b[39m\"\u001b[39m\u001b[39m{\u001b[39;00mk\u001b[39m}\u001b[39;00m\u001b[39m is deprecated in the new TF-Keras optimizer, please \u001b[39m\u001b[39m\"\u001b[39m\n\u001b[1;32m    141\u001b[0m             \u001b[39m\"\u001b[39m\u001b[39mcheck the docstring for valid arguments, or use the \u001b[39m\u001b[39m\"\u001b[39m\n\u001b[1;32m    142\u001b[0m             \u001b[39m\"\u001b[39m\u001b[39mlegacy optimizer, e.g., \u001b[39m\u001b[39m\"\u001b[39m\n\u001b[1;32m    143\u001b[0m             \u001b[39mf\u001b[39m\u001b[39m\"\u001b[39m\u001b[39mtf.keras.optimizers.legacy.\u001b[39m\u001b[39m{\u001b[39;00m\u001b[39mself\u001b[39m\u001b[39m.\u001b[39m\u001b[39m__class__\u001b[39m\u001b[39m.\u001b[39m\u001b[39m__name__\u001b[39m\u001b[39m}\u001b[39;00m\u001b[39m.\u001b[39m\u001b[39m\"\u001b[39m\n\u001b[1;32m    144\u001b[0m         )\n\u001b[1;32m    145\u001b[0m     \u001b[39melse\u001b[39;00m:\n\u001b[1;32m    146\u001b[0m         \u001b[39mraise\u001b[39;00m \u001b[39mTypeError\u001b[39;00m(\n\u001b[1;32m    147\u001b[0m             \u001b[39mf\u001b[39m\u001b[39m\"\u001b[39m\u001b[39m{\u001b[39;00mk\u001b[39m}\u001b[39;00m\u001b[39m is not a valid argument, kwargs should be empty \u001b[39m\u001b[39m\"\u001b[39m\n\u001b[1;32m    148\u001b[0m             \u001b[39m\"\u001b[39m\u001b[39m for `optimizer_experimental.Optimizer`.\u001b[39m\u001b[39m\"\u001b[39m\n\u001b[1;32m    149\u001b[0m         )\n",
      "\u001b[0;31mValueError\u001b[0m: decay is deprecated in the new TF-Keras optimizer, please check the docstring for valid arguments, or use the legacy optimizer, e.g., tf.keras.optimizers.legacy.Adam."
     ]
    }
   ],
   "source": [
    "#%%\n",
    "\n",
    "import tensorflow as tf\n",
    "import tf_keras\n",
    "import matplotlib.pyplot as plt\n",
    "import seaborn as sns\n",
    "import numpy as np\n",
    "from tf_keras import layers\n",
    "from tf_keras.models import Sequential\n",
    "from sklearn.metrics import confusion_matrix, accuracy_score\n",
    "from tf_keras.preprocessing.image import ImageDataGenerator\n",
    "from tf_keras.optimizers import Adam\n",
    "\n",
    "gpu_devices = tf.config.list_physical_devices('GPU')\n",
    "if gpu_devices:\n",
    "  tf.config.experimental.set_memory_growth(gpu_devices[0], True)\n",
    "  print('GPU found', gpu_devices[0])\n",
    "else:\n",
    "  print('No GPU found')\n",
    "\n",
    "#define image size\n",
    "IMG_SIZE = 224\n",
    "\n",
    "#define batch size\n",
    "BATCH_SIZE = 32\n",
    "\n",
    "#training and valdiation directories\n",
    "TRAINING_DIR = \"Train\"\n",
    "\n",
    "# Create a function for preprocessing images\n",
    "def process_image_mobilenet(image_path):\n",
    "  image = tf.io.read_file(image_path) # Turn the jpeg image into numerical Tensor with 3 colour channels (Red, Green, Blue)\n",
    "  image = tf.image.decode_jpeg(image, channels = 3) # Convert the colour channel values from 0-255 to 0-1 values\n",
    "  image = tf.image.convert_image_dtype(image, tf.float32)# Resize the image to our desired value (224, 224)\n",
    "  image = tf.image.resize(image, size=[IMG_SIZE, IMG_SIZE])\n",
    "\n",
    "  return image\n",
    "  \n",
    "#training split\n",
    "train_ds = tf_keras.utils.image_dataset_from_directory(\n",
    "  TRAINING_DIR,\n",
    "  labels = \"inferred\",\n",
    "  image_size = (IMG_SIZE, IMG_SIZE),\n",
    "  batch_size = BATCH_SIZE,\n",
    "  subset = \"training\",\n",
    "  validation_split = 0.2,\n",
    "  seed = 225\n",
    ")\n",
    "\n",
    "#validation split, taken directly from the same directory as train\n",
    "validation_ds = tf_keras.utils.image_dataset_from_directory(\n",
    "  TRAINING_DIR,\n",
    "  labels = \"inferred\",\n",
    "  image_size = (IMG_SIZE, IMG_SIZE),\n",
    "  batch_size = BATCH_SIZE,\n",
    "  subset = 'validation',\n",
    "  validation_split = 0.2,\n",
    "  seed = 225\n",
    ")\n",
    "\n",
    "CLASS_NAMES = train_ds.class_names\n",
    "\n",
    "AUTOTUNE = tf.data.AUTOTUNE\n",
    "train_ds = train_ds.cache().shuffle(1000).prefetch(buffer_size = AUTOTUNE)\n",
    "val_ds = validation_ds.cache().prefetch(buffer_size = AUTOTUNE)\n",
    "\n",
    "norm_layer = layers.Rescaling(1./255)\n",
    "norm_ds = train_ds.map(lambda x, y: (norm_layer(x), y))\n",
    "image_batch, labels_batch = next(iter(norm_ds))\n",
    "\n",
    "num_classes = len(CLASS_NAMES)\n",
    "\n",
    "#training model\n",
    "model = Sequential([\n",
    "  layers.Conv2D(128, (3, 3), activation = 'relu', input_shape = (224, 224, 3)),\n",
    "  layers.MaxPooling2D(2, 2),\n",
    "  layers.Conv2D(128, (3, 3), activation = 'relu'),\n",
    "  layers.MaxPooling2D(2, 2),\n",
    "  layers.Conv2D(256, (3, 3), activation = 'relu'),\n",
    "  layers.MaxPooling2D(2, 2),\n",
    "  layers.Conv2D(256, (3, 3), activation = 'relu'),\n",
    "  layers.MaxPooling2D(2, 2),\n",
    "  layers.Conv2D(512, (3, 3), activation = 'relu'),\n",
    "  layers.MaxPooling2D(2, 2),\n",
    "  layers.Conv2D(512, (3, 3), activation = 'relu'),\n",
    "  layers.MaxPooling2D(2, 2),\n",
    "  layers.Flatten(),\n",
    "  layers.Dense(1024, activation = 'relu'),\n",
    "  layers.Dropout(0.25),\n",
    "  layers.Dense(num_classes, activation = 'softmax')\n",
    "])\n",
    "\n",
    "model.compile(optimizer = Adam(learning_rate = 0.0001, decay = 1e-6), \n",
    "              loss = tf_keras.losses.SparseCategoricalCrossentropy(from_logits = True), \n",
    "              metrics = ['accuracy'])\n",
    "\n",
    "#no of epochs\n",
    "epochs = 100\n",
    "\n",
    "#early stopping\n",
    "early_stopping = tf_keras.callbacks.EarlyStopping(monitor = 'val_loss', \n",
    "                                                  mode = 'min', \n",
    "                                                  verbose = 1, \n",
    "                                                  patience = 8, \n",
    "                                                  restore_best_weights = True)\n",
    "\n",
    "#data preprocessing for better results, forces the model to learn more features\n",
    "datagen = ImageDataGenerator(\n",
    "    featurewise_center = False,\n",
    "    samplewise_center = False,\n",
    "    featurewise_std_normalization = False,\n",
    "    samplewise_std_normalization = False,\n",
    "    zca_whitening = False,\n",
    "    rotation_range = 0,\n",
    "    width_shift_range = 0.1,\n",
    "    height_shift_range = 0.1,\n",
    "    horizontal_flip = True,\n",
    "    vertical_flip = False\n",
    ")\n",
    "\n",
    "datagen.fit(train_ds)\n",
    "\n",
    "#fitting of the model\n",
    "history = model.fit(train_ds, \n",
    "                    validation_data = validation_ds, \n",
    "                    epochs = epochs, \n",
    "                    callbacks = [early_stopping])\n",
    "\n",
    "#accuracy and loss values\n",
    "accuracy = history.history['accuracy']\n",
    "val_accuracy = history.history[('val_accuracy')]\n",
    "\n",
    "loss = history.history['loss']\n",
    "val_loss = history.history['val_loss']\n",
    "\n",
    "epochs_range = range(epochs)\n",
    "\n",
    "true_labels = []\n",
    "predicted_labels = []\n",
    "\n",
    "for images, labels in val_ds:\n",
    "  true_labels.extend(labels.numpy())\n",
    "  pred = model.predict(images)\n",
    "  predicted_labels.extend(np.argmax(pred, axis = 1))\n",
    "\n",
    "confusion_matrix = confusion_matrix(true_labels, predicted_labels)\n",
    "accuracy_score = accuracy_score(true_labels, predicted_labels)\n",
    "\n",
    "print('Confusion Matrix: ')\n",
    "plt.figure(figsize=(8, 8))\n",
    "sns.heatmap(confusion_matrix, annot = True, fmt = 'd', xticklabels = CLASS_NAMES, yticklabels = CLASS_NAMES, cmap = 'Blues')\n",
    "plt.xlabel('Predicted')\n",
    "plt.ylabel('True')\n",
    "plt.title('Confusion Matrix')\n",
    "\n",
    "print('Accuracy Score: ', accuracy_score)\n",
    "\n",
    "plt.figure(figsize = (8, 8))\n",
    "plt.subplot(1, 2, 1)\n",
    "plt.plot(accuracy, label = 'Training Accuracy')\n",
    "plt.plot(val_accuracy, label = 'Validation Accuracy')\n",
    "plt.legend(loc = 'lower right')\n",
    "plt.title('Training and Validation Accuracy')\n",
    "\n",
    "plt.subplot(1, 2, 2)\n",
    "plt.plot(loss, label = 'Training Loss')\n",
    "plt.plot(val_loss, label = 'Validation Loss')\n",
    "plt.legend(loc = 'upper right')\n",
    "plt.title('Training and Validation Loss')\n",
    "plt.show()"
   ]
  },
  {
   "cell_type": "code",
   "execution_count": null,
   "id": "9eb2d81f-9e99-455a-8523-9d64c51f16da",
   "metadata": {},
   "outputs": [
    {
     "name": "stdout",
     "output_type": "stream",
     "text": [
      "GPU found PhysicalDevice(name='/physical_device:GPU:0', device_type='GPU')\n",
      "Found 6480 files belonging to 10 classes.\n",
      "Using 5184 files for training.\n",
      "Found 6480 files belonging to 10 classes.\n",
      "Using 1296 files for validation.\n"
     ]
    },
    {
     "name": "stderr",
     "output_type": "stream",
     "text": [
      "2025-01-19 09:15:42.675683: I tensorflow/core/kernels/data/shuffle_dataset_op.cc:450] ShuffleDatasetV3:685: Filling up shuffle buffer (this may take a while): 40 of 1000\n",
      "2025-01-19 09:16:02.585602: I tensorflow/core/kernels/data/shuffle_dataset_op.cc:450] ShuffleDatasetV3:685: Filling up shuffle buffer (this may take a while): 127 of 1000\n",
      "2025-01-19 09:16:04.066832: W tensorflow/core/lib/png/png_io.cc:89] PNG warning: iCCP: known incorrect sRGB profile\n",
      "2025-01-19 09:16:09.457118: I tensorflow/core/kernels/data/shuffle_dataset_op.cc:480] Shuffle buffer filled.\n"
     ]
    },
    {
     "ename": "TypeError",
     "evalue": "float() argument must be a string or a real number, not '_PrefetchDataset'",
     "output_type": "error",
     "traceback": [
      "\u001b[0;31m---------------------------------------------------------------------------\u001b[0m",
      "\u001b[0;31mTypeError\u001b[0m                                 Traceback (most recent call last)",
      "File \u001b[1;32m/home/adiicmp/GitHub Repos/Python/UNSTPB/Year IV/Semester 1/Neural Networks and Genetic Algorithms Project/Project/training.py:120\u001b[0m\n\u001b[1;32m    106\u001b[0m \u001b[39m#data preprocessing for better results, forces the model to learn more features\u001b[39;00m\n\u001b[1;32m    107\u001b[0m datagen \u001b[39m=\u001b[39m ImageDataGenerator(\n\u001b[1;32m    108\u001b[0m     featurewise_center \u001b[39m=\u001b[39m \u001b[39mFalse\u001b[39;00m,\n\u001b[1;32m    109\u001b[0m     samplewise_center \u001b[39m=\u001b[39m \u001b[39mFalse\u001b[39;00m,\n\u001b[0;32m   (...)\u001b[0m\n\u001b[1;32m    117\u001b[0m     vertical_flip \u001b[39m=\u001b[39m \u001b[39mFalse\u001b[39;00m\n\u001b[1;32m    118\u001b[0m )\n\u001b[0;32m--> 120\u001b[0m datagen\u001b[39m.\u001b[39;49mfit(train_ds)\n\u001b[1;32m    122\u001b[0m \u001b[39m#fitting of the model\u001b[39;00m\n\u001b[1;32m    123\u001b[0m history \u001b[39m=\u001b[39m model\u001b[39m.\u001b[39mfit(train_ds, \n\u001b[1;32m    124\u001b[0m                     validation_data \u001b[39m=\u001b[39m validation_ds, \n\u001b[1;32m    125\u001b[0m                     epochs \u001b[39m=\u001b[39m epochs, \n\u001b[1;32m    126\u001b[0m                     callbacks \u001b[39m=\u001b[39m [early_stopping])\n",
      "File \u001b[0;32m~/GitHub Repos/Python/.venv/lib/python3.12/site-packages/tf_keras/src/preprocessing/image.py:2086\u001b[0m, in \u001b[0;36mImageDataGenerator.fit\u001b[0;34m(self, x, augment, rounds, seed)\u001b[0m\n\u001b[1;32m   2061\u001b[0m \u001b[39mdef\u001b[39;00m\u001b[39m \u001b[39m\u001b[39mfit\u001b[39m(\u001b[39mself\u001b[39m, x, augment\u001b[39m=\u001b[39m\u001b[39mFalse\u001b[39;00m, rounds\u001b[39m=\u001b[39m\u001b[39m1\u001b[39m, seed\u001b[39m=\u001b[39m\u001b[39mNone\u001b[39;00m):\n\u001b[1;32m   2062\u001b[0m \u001b[39m    \u001b[39m\u001b[39m\"\"\"Fits the data generator to some sample data.\u001b[39;00m\n\u001b[1;32m   2063\u001b[0m \n\u001b[1;32m   2064\u001b[0m \u001b[39m    This computes the internal data stats related to the\u001b[39;00m\n\u001b[0;32m   (...)\u001b[0m\n\u001b[1;32m   2084\u001b[0m \u001b[39m        seed: Int (default: None). Random seed.\u001b[39;00m\n\u001b[1;32m   2085\u001b[0m \u001b[39m    \"\"\"\u001b[39;00m\n\u001b[0;32m-> 2086\u001b[0m     x \u001b[39m=\u001b[39m np\u001b[39m.\u001b[39;49masarray(x, dtype\u001b[39m=\u001b[39;49m\u001b[39mself\u001b[39;49m\u001b[39m.\u001b[39;49mdtype)\n\u001b[1;32m   2087\u001b[0m     \u001b[39mif\u001b[39;00m x\u001b[39m.\u001b[39mndim \u001b[39m!=\u001b[39m \u001b[39m4\u001b[39m:\n\u001b[1;32m   2088\u001b[0m         \u001b[39mraise\u001b[39;00m \u001b[39mValueError\u001b[39;00m(\n\u001b[1;32m   2089\u001b[0m             \u001b[39m\"\u001b[39m\u001b[39mInput to `.fit()` should have rank 4. Got array with shape: \u001b[39m\u001b[39m\"\u001b[39m\n\u001b[1;32m   2090\u001b[0m             \u001b[39m+\u001b[39m \u001b[39mstr\u001b[39m(x\u001b[39m.\u001b[39mshape)\n\u001b[1;32m   2091\u001b[0m         )\n",
      "\u001b[0;31mTypeError\u001b[0m: float() argument must be a string or a real number, not '_PrefetchDataset'"
     ]
    }
   ],
   "source": [
    "#%%\n",
    "\n",
    "import tensorflow as tf\n",
    "import tf_keras\n",
    "import matplotlib.pyplot as plt\n",
    "import seaborn as sns\n",
    "import numpy as np\n",
    "from tf_keras import layers\n",
    "from tf_keras.models import Sequential\n",
    "from sklearn.metrics import confusion_matrix, accuracy_score\n",
    "from tf_keras.preprocessing.image import ImageDataGenerator\n",
    "from tf_keras.optimizers import Adam\n",
    "\n",
    "gpu_devices = tf.config.list_physical_devices('GPU')\n",
    "if gpu_devices:\n",
    "  tf.config.experimental.set_memory_growth(gpu_devices[0], True)\n",
    "  print('GPU found', gpu_devices[0])\n",
    "else:\n",
    "  print('No GPU found')\n",
    "\n",
    "#define image size\n",
    "IMG_SIZE = 224\n",
    "\n",
    "#define batch size\n",
    "BATCH_SIZE = 32\n",
    "\n",
    "#training and valdiation directories\n",
    "TRAINING_DIR = \"Train\"\n",
    "\n",
    "# Create a function for preprocessing images\n",
    "def process_image_mobilenet(image_path):\n",
    "  image = tf.io.read_file(image_path) # Turn the jpeg image into numerical Tensor with 3 colour channels (Red, Green, Blue)\n",
    "  image = tf.image.decode_jpeg(image, channels = 3) # Convert the colour channel values from 0-255 to 0-1 values\n",
    "  image = tf.image.convert_image_dtype(image, tf.float32)# Resize the image to our desired value (224, 224)\n",
    "  image = tf.image.resize(image, size=[IMG_SIZE, IMG_SIZE])\n",
    "\n",
    "  return image\n",
    "  \n",
    "#training split\n",
    "train_ds = tf_keras.utils.image_dataset_from_directory(\n",
    "  TRAINING_DIR,\n",
    "  labels = \"inferred\",\n",
    "  image_size = (IMG_SIZE, IMG_SIZE),\n",
    "  batch_size = BATCH_SIZE,\n",
    "  subset = \"training\",\n",
    "  validation_split = 0.2,\n",
    "  seed = 225\n",
    ")\n",
    "\n",
    "#validation split, taken directly from the same directory as train\n",
    "validation_ds = tf_keras.utils.image_dataset_from_directory(\n",
    "  TRAINING_DIR,\n",
    "  labels = \"inferred\",\n",
    "  image_size = (IMG_SIZE, IMG_SIZE),\n",
    "  batch_size = BATCH_SIZE,\n",
    "  subset = 'validation',\n",
    "  validation_split = 0.2,\n",
    "  seed = 225\n",
    ")\n",
    "\n",
    "CLASS_NAMES = train_ds.class_names\n",
    "\n",
    "AUTOTUNE = tf.data.AUTOTUNE\n",
    "train_ds = train_ds.cache().shuffle(1000).prefetch(buffer_size = AUTOTUNE)\n",
    "val_ds = validation_ds.cache().prefetch(buffer_size = AUTOTUNE)\n",
    "\n",
    "norm_layer = layers.Rescaling(1./255)\n",
    "norm_ds = train_ds.map(lambda x, y: (norm_layer(x), y))\n",
    "image_batch, labels_batch = next(iter(norm_ds))\n",
    "\n",
    "num_classes = len(CLASS_NAMES)\n",
    "\n",
    "#training model\n",
    "model = Sequential([\n",
    "  layers.Conv2D(128, (3, 3), activation = 'relu', input_shape = (224, 224, 3)),\n",
    "  layers.MaxPooling2D(2, 2),\n",
    "  layers.Conv2D(128, (3, 3), activation = 'relu'),\n",
    "  layers.MaxPooling2D(2, 2),\n",
    "  layers.Conv2D(256, (3, 3), activation = 'relu'),\n",
    "  layers.MaxPooling2D(2, 2),\n",
    "  layers.Conv2D(256, (3, 3), activation = 'relu'),\n",
    "  layers.MaxPooling2D(2, 2),\n",
    "  layers.Conv2D(512, (3, 3), activation = 'relu'),\n",
    "  layers.MaxPooling2D(2, 2),\n",
    "  layers.Conv2D(512, (3, 3), activation = 'relu'),\n",
    "  layers.MaxPooling2D(2, 2),\n",
    "  layers.Flatten(),\n",
    "  layers.Dense(1024, activation = 'relu'),\n",
    "  layers.Dropout(0.25),\n",
    "  layers.Dense(num_classes, activation = 'softmax')\n",
    "])\n",
    "\n",
    "model.compile(optimizer = Adam(learning_rate = 0.0001, weight_decay = 1e-6), \n",
    "              loss = tf_keras.losses.SparseCategoricalCrossentropy(from_logits = True), \n",
    "              metrics = ['accuracy'])\n",
    "\n",
    "#no of epochs\n",
    "epochs = 100\n",
    "\n",
    "#early stopping\n",
    "early_stopping = tf_keras.callbacks.EarlyStopping(monitor = 'val_loss', \n",
    "                                                  mode = 'min', \n",
    "                                                  verbose = 1, \n",
    "                                                  patience = 8, \n",
    "                                                  restore_best_weights = True)\n",
    "\n",
    "#data preprocessing for better results, forces the model to learn more features\n",
    "datagen = ImageDataGenerator(\n",
    "    featurewise_center = False,\n",
    "    samplewise_center = False,\n",
    "    featurewise_std_normalization = False,\n",
    "    samplewise_std_normalization = False,\n",
    "    zca_whitening = False,\n",
    "    rotation_range = 0,\n",
    "    width_shift_range = 0.1,\n",
    "    height_shift_range = 0.1,\n",
    "    horizontal_flip = True,\n",
    "    vertical_flip = False\n",
    ")\n",
    "\n",
    "datagen.fit(train_ds)\n",
    "\n",
    "#fitting of the model\n",
    "history = model.fit(train_ds, \n",
    "                    validation_data = validation_ds, \n",
    "                    epochs = epochs, \n",
    "                    callbacks = [early_stopping])\n",
    "\n",
    "#accuracy and loss values\n",
    "accuracy = history.history['accuracy']\n",
    "val_accuracy = history.history[('val_accuracy')]\n",
    "\n",
    "loss = history.history['loss']\n",
    "val_loss = history.history['val_loss']\n",
    "\n",
    "epochs_range = range(epochs)\n",
    "\n",
    "true_labels = []\n",
    "predicted_labels = []\n",
    "\n",
    "for images, labels in val_ds:\n",
    "  true_labels.extend(labels.numpy())\n",
    "  pred = model.predict(images)\n",
    "  predicted_labels.extend(np.argmax(pred, axis = 1))\n",
    "\n",
    "confusion_matrix = confusion_matrix(true_labels, predicted_labels)\n",
    "accuracy_score = accuracy_score(true_labels, predicted_labels)\n",
    "\n",
    "print('Confusion Matrix: ')\n",
    "plt.figure(figsize=(8, 8))\n",
    "sns.heatmap(confusion_matrix, annot = True, fmt = 'd', xticklabels = CLASS_NAMES, yticklabels = CLASS_NAMES, cmap = 'Blues')\n",
    "plt.xlabel('Predicted')\n",
    "plt.ylabel('True')\n",
    "plt.title('Confusion Matrix')\n",
    "\n",
    "print('Accuracy Score: ', accuracy_score)\n",
    "\n",
    "plt.figure(figsize = (8, 8))\n",
    "plt.subplot(1, 2, 1)\n",
    "plt.plot(accuracy, label = 'Training Accuracy')\n",
    "plt.plot(val_accuracy, label = 'Validation Accuracy')\n",
    "plt.legend(loc = 'lower right')\n",
    "plt.title('Training and Validation Accuracy')\n",
    "\n",
    "plt.subplot(1, 2, 2)\n",
    "plt.plot(loss, label = 'Training Loss')\n",
    "plt.plot(val_loss, label = 'Validation Loss')\n",
    "plt.legend(loc = 'upper right')\n",
    "plt.title('Training and Validation Loss')\n",
    "plt.show()"
   ]
  },
  {
   "cell_type": "code",
   "execution_count": null,
   "id": "021f0650-8dae-4753-aa02-1d0a9cb3ee4b",
   "metadata": {},
   "outputs": [
    {
     "name": "stdout",
     "output_type": "stream",
     "text": [
      "GPU found PhysicalDevice(name='/physical_device:GPU:0', device_type='GPU')\n",
      "Found 6480 files belonging to 10 classes.\n",
      "Using 5184 files for training.\n",
      "Found 6480 files belonging to 10 classes.\n",
      "Using 1296 files for validation.\n"
     ]
    },
    {
     "name": "stderr",
     "output_type": "stream",
     "text": [
      "2025-01-19 09:17:16.679119: I tensorflow/core/kernels/data/shuffle_dataset_op.cc:450] ShuffleDatasetV3:706: Filling up shuffle buffer (this may take a while): 36 of 1000\n",
      "2025-01-19 09:17:36.655714: I tensorflow/core/kernels/data/shuffle_dataset_op.cc:450] ShuffleDatasetV3:706: Filling up shuffle buffer (this may take a while): 109 of 1000\n",
      "2025-01-19 09:17:44.558226: W tensorflow/core/lib/png/png_io.cc:89] PNG warning: iCCP: known incorrect sRGB profile\n",
      "2025-01-19 09:17:46.865827: I tensorflow/core/kernels/data/shuffle_dataset_op.cc:450] ShuffleDatasetV3:706: Filling up shuffle buffer (this may take a while): 138 of 1000\n",
      "2025-01-19 09:17:53.683373: I tensorflow/core/kernels/data/shuffle_dataset_op.cc:480] Shuffle buffer filled.\n"
     ]
    },
    {
     "ename": "TypeError",
     "evalue": "float() argument must be a string or a real number, not '_PrefetchDataset'",
     "output_type": "error",
     "traceback": [
      "\u001b[0;31m---------------------------------------------------------------------------\u001b[0m",
      "\u001b[0;31mTypeError\u001b[0m                                 Traceback (most recent call last)",
      "File \u001b[1;32m/home/adiicmp/GitHub Repos/Python/UNSTPB/Year IV/Semester 1/Neural Networks and Genetic Algorithms Project/Project/training.py:120\u001b[0m\n\u001b[1;32m    106\u001b[0m \u001b[39m#data preprocessing for better results, forces the model to learn more features\u001b[39;00m\n\u001b[1;32m    107\u001b[0m datagen \u001b[39m=\u001b[39m ImageDataGenerator(\n\u001b[1;32m    108\u001b[0m     featurewise_center \u001b[39m=\u001b[39m \u001b[39mFalse\u001b[39;00m,\n\u001b[1;32m    109\u001b[0m     samplewise_center \u001b[39m=\u001b[39m \u001b[39mFalse\u001b[39;00m,\n\u001b[0;32m   (...)\u001b[0m\n\u001b[1;32m    117\u001b[0m     vertical_flip \u001b[39m=\u001b[39m \u001b[39mFalse\u001b[39;00m\n\u001b[1;32m    118\u001b[0m )\n\u001b[0;32m--> 120\u001b[0m datagen\u001b[39m.\u001b[39;49mfit(x \u001b[39m=\u001b[39;49m train_ds)\n\u001b[1;32m    122\u001b[0m \u001b[39m#fitting of the model\u001b[39;00m\n\u001b[1;32m    123\u001b[0m history \u001b[39m=\u001b[39m model\u001b[39m.\u001b[39mfit(train_ds, \n\u001b[1;32m    124\u001b[0m                     validation_data \u001b[39m=\u001b[39m validation_ds, \n\u001b[1;32m    125\u001b[0m                     epochs \u001b[39m=\u001b[39m epochs, \n\u001b[1;32m    126\u001b[0m                     callbacks \u001b[39m=\u001b[39m [early_stopping])\n",
      "File \u001b[0;32m~/GitHub Repos/Python/.venv/lib/python3.12/site-packages/tf_keras/src/preprocessing/image.py:2086\u001b[0m, in \u001b[0;36mImageDataGenerator.fit\u001b[0;34m(self, x, augment, rounds, seed)\u001b[0m\n\u001b[1;32m   2061\u001b[0m \u001b[39mdef\u001b[39;00m\u001b[39m \u001b[39m\u001b[39mfit\u001b[39m(\u001b[39mself\u001b[39m, x, augment\u001b[39m=\u001b[39m\u001b[39mFalse\u001b[39;00m, rounds\u001b[39m=\u001b[39m\u001b[39m1\u001b[39m, seed\u001b[39m=\u001b[39m\u001b[39mNone\u001b[39;00m):\n\u001b[1;32m   2062\u001b[0m \u001b[39m    \u001b[39m\u001b[39m\"\"\"Fits the data generator to some sample data.\u001b[39;00m\n\u001b[1;32m   2063\u001b[0m \n\u001b[1;32m   2064\u001b[0m \u001b[39m    This computes the internal data stats related to the\u001b[39;00m\n\u001b[0;32m   (...)\u001b[0m\n\u001b[1;32m   2084\u001b[0m \u001b[39m        seed: Int (default: None). Random seed.\u001b[39;00m\n\u001b[1;32m   2085\u001b[0m \u001b[39m    \"\"\"\u001b[39;00m\n\u001b[0;32m-> 2086\u001b[0m     x \u001b[39m=\u001b[39m np\u001b[39m.\u001b[39;49masarray(x, dtype\u001b[39m=\u001b[39;49m\u001b[39mself\u001b[39;49m\u001b[39m.\u001b[39;49mdtype)\n\u001b[1;32m   2087\u001b[0m     \u001b[39mif\u001b[39;00m x\u001b[39m.\u001b[39mndim \u001b[39m!=\u001b[39m \u001b[39m4\u001b[39m:\n\u001b[1;32m   2088\u001b[0m         \u001b[39mraise\u001b[39;00m \u001b[39mValueError\u001b[39;00m(\n\u001b[1;32m   2089\u001b[0m             \u001b[39m\"\u001b[39m\u001b[39mInput to `.fit()` should have rank 4. Got array with shape: \u001b[39m\u001b[39m\"\u001b[39m\n\u001b[1;32m   2090\u001b[0m             \u001b[39m+\u001b[39m \u001b[39mstr\u001b[39m(x\u001b[39m.\u001b[39mshape)\n\u001b[1;32m   2091\u001b[0m         )\n",
      "\u001b[0;31mTypeError\u001b[0m: float() argument must be a string or a real number, not '_PrefetchDataset'"
     ]
    }
   ],
   "source": [
    "#%%\n",
    "\n",
    "import tensorflow as tf\n",
    "import tf_keras\n",
    "import matplotlib.pyplot as plt\n",
    "import seaborn as sns\n",
    "import numpy as np\n",
    "from tf_keras import layers\n",
    "from tf_keras.models import Sequential\n",
    "from sklearn.metrics import confusion_matrix, accuracy_score\n",
    "from tf_keras.preprocessing.image import ImageDataGenerator\n",
    "from tf_keras.optimizers import Adam\n",
    "\n",
    "gpu_devices = tf.config.list_physical_devices('GPU')\n",
    "if gpu_devices:\n",
    "  tf.config.experimental.set_memory_growth(gpu_devices[0], True)\n",
    "  print('GPU found', gpu_devices[0])\n",
    "else:\n",
    "  print('No GPU found')\n",
    "\n",
    "#define image size\n",
    "IMG_SIZE = 224\n",
    "\n",
    "#define batch size\n",
    "BATCH_SIZE = 32\n",
    "\n",
    "#training and valdiation directories\n",
    "TRAINING_DIR = \"Train\"\n",
    "\n",
    "# Create a function for preprocessing images\n",
    "def process_image_mobilenet(image_path):\n",
    "  image = tf.io.read_file(image_path) # Turn the jpeg image into numerical Tensor with 3 colour channels (Red, Green, Blue)\n",
    "  image = tf.image.decode_jpeg(image, channels = 3) # Convert the colour channel values from 0-255 to 0-1 values\n",
    "  image = tf.image.convert_image_dtype(image, tf.float32)# Resize the image to our desired value (224, 224)\n",
    "  image = tf.image.resize(image, size=[IMG_SIZE, IMG_SIZE])\n",
    "\n",
    "  return image\n",
    "  \n",
    "#training split\n",
    "train_ds = tf_keras.utils.image_dataset_from_directory(\n",
    "  TRAINING_DIR,\n",
    "  labels = \"inferred\",\n",
    "  image_size = (IMG_SIZE, IMG_SIZE),\n",
    "  batch_size = BATCH_SIZE,\n",
    "  subset = \"training\",\n",
    "  validation_split = 0.2,\n",
    "  seed = 225\n",
    ")\n",
    "\n",
    "#validation split, taken directly from the same directory as train\n",
    "validation_ds = tf_keras.utils.image_dataset_from_directory(\n",
    "  TRAINING_DIR,\n",
    "  labels = \"inferred\",\n",
    "  image_size = (IMG_SIZE, IMG_SIZE),\n",
    "  batch_size = BATCH_SIZE,\n",
    "  subset = 'validation',\n",
    "  validation_split = 0.2,\n",
    "  seed = 225\n",
    ")\n",
    "\n",
    "CLASS_NAMES = train_ds.class_names\n",
    "\n",
    "AUTOTUNE = tf.data.AUTOTUNE\n",
    "train_ds = train_ds.cache().shuffle(1000).prefetch(buffer_size = AUTOTUNE)\n",
    "val_ds = validation_ds.cache().prefetch(buffer_size = AUTOTUNE)\n",
    "\n",
    "norm_layer = layers.Rescaling(1./255)\n",
    "norm_ds = train_ds.map(lambda x, y: (norm_layer(x), y))\n",
    "image_batch, labels_batch = next(iter(norm_ds))\n",
    "\n",
    "num_classes = len(CLASS_NAMES)\n",
    "\n",
    "#training model\n",
    "model = Sequential([\n",
    "  layers.Conv2D(128, (3, 3), activation = 'relu', input_shape = (224, 224, 3)),\n",
    "  layers.MaxPooling2D(2, 2),\n",
    "  layers.Conv2D(128, (3, 3), activation = 'relu'),\n",
    "  layers.MaxPooling2D(2, 2),\n",
    "  layers.Conv2D(256, (3, 3), activation = 'relu'),\n",
    "  layers.MaxPooling2D(2, 2),\n",
    "  layers.Conv2D(256, (3, 3), activation = 'relu'),\n",
    "  layers.MaxPooling2D(2, 2),\n",
    "  layers.Conv2D(512, (3, 3), activation = 'relu'),\n",
    "  layers.MaxPooling2D(2, 2),\n",
    "  layers.Conv2D(512, (3, 3), activation = 'relu'),\n",
    "  layers.MaxPooling2D(2, 2),\n",
    "  layers.Flatten(),\n",
    "  layers.Dense(1024, activation = 'relu'),\n",
    "  layers.Dropout(0.25),\n",
    "  layers.Dense(num_classes, activation = 'softmax')\n",
    "])\n",
    "\n",
    "model.compile(optimizer = Adam(learning_rate = 0.0001, weight_decay = 1e-6), \n",
    "              loss = tf_keras.losses.SparseCategoricalCrossentropy(from_logits = True), \n",
    "              metrics = ['accuracy'])\n",
    "\n",
    "#no of epochs\n",
    "epochs = 100\n",
    "\n",
    "#early stopping\n",
    "early_stopping = tf_keras.callbacks.EarlyStopping(monitor = 'val_loss', \n",
    "                                                  mode = 'min', \n",
    "                                                  verbose = 1, \n",
    "                                                  patience = 8, \n",
    "                                                  restore_best_weights = True)\n",
    "\n",
    "#data preprocessing for better results, forces the model to learn more features\n",
    "datagen = ImageDataGenerator(\n",
    "    featurewise_center = False,\n",
    "    samplewise_center = False,\n",
    "    featurewise_std_normalization = False,\n",
    "    samplewise_std_normalization = False,\n",
    "    zca_whitening = False,\n",
    "    rotation_range = 0,\n",
    "    width_shift_range = 0.1,\n",
    "    height_shift_range = 0.1,\n",
    "    horizontal_flip = True,\n",
    "    vertical_flip = False\n",
    ")\n",
    "\n",
    "datagen.fit(x = train_ds)\n",
    "\n",
    "#fitting of the model\n",
    "history = model.fit(train_ds, \n",
    "                    validation_data = validation_ds, \n",
    "                    epochs = epochs, \n",
    "                    callbacks = [early_stopping])\n",
    "\n",
    "#accuracy and loss values\n",
    "accuracy = history.history['accuracy']\n",
    "val_accuracy = history.history[('val_accuracy')]\n",
    "\n",
    "loss = history.history['loss']\n",
    "val_loss = history.history['val_loss']\n",
    "\n",
    "epochs_range = range(epochs)\n",
    "\n",
    "true_labels = []\n",
    "predicted_labels = []\n",
    "\n",
    "for images, labels in val_ds:\n",
    "  true_labels.extend(labels.numpy())\n",
    "  pred = model.predict(images)\n",
    "  predicted_labels.extend(np.argmax(pred, axis = 1))\n",
    "\n",
    "confusion_matrix = confusion_matrix(true_labels, predicted_labels)\n",
    "accuracy_score = accuracy_score(true_labels, predicted_labels)\n",
    "\n",
    "print('Confusion Matrix: ')\n",
    "plt.figure(figsize=(8, 8))\n",
    "sns.heatmap(confusion_matrix, annot = True, fmt = 'd', xticklabels = CLASS_NAMES, yticklabels = CLASS_NAMES, cmap = 'Blues')\n",
    "plt.xlabel('Predicted')\n",
    "plt.ylabel('True')\n",
    "plt.title('Confusion Matrix')\n",
    "\n",
    "print('Accuracy Score: ', accuracy_score)\n",
    "\n",
    "plt.figure(figsize = (8, 8))\n",
    "plt.subplot(1, 2, 1)\n",
    "plt.plot(accuracy, label = 'Training Accuracy')\n",
    "plt.plot(val_accuracy, label = 'Validation Accuracy')\n",
    "plt.legend(loc = 'lower right')\n",
    "plt.title('Training and Validation Accuracy')\n",
    "\n",
    "plt.subplot(1, 2, 2)\n",
    "plt.plot(loss, label = 'Training Loss')\n",
    "plt.plot(val_loss, label = 'Validation Loss')\n",
    "plt.legend(loc = 'upper right')\n",
    "plt.title('Training and Validation Loss')\n",
    "plt.show()"
   ]
  },
  {
   "cell_type": "code",
   "execution_count": null,
   "id": "202933aa-f329-420d-80e7-1e5239ab89c4",
   "metadata": {},
   "outputs": [
    {
     "name": "stdout",
     "output_type": "stream",
     "text": [
      "GPU found PhysicalDevice(name='/physical_device:GPU:0', device_type='GPU')\n",
      "Found 6480 files belonging to 10 classes.\n",
      "Using 5184 files for training.\n",
      "Found 6480 files belonging to 10 classes.\n",
      "Using 1296 files for validation.\n"
     ]
    },
    {
     "name": "stderr",
     "output_type": "stream",
     "text": [
      "2025-01-19 09:18:30.660492: I tensorflow/core/kernels/data/shuffle_dataset_op.cc:450] ShuffleDatasetV3:727: Filling up shuffle buffer (this may take a while): 14 of 1000\n",
      "2025-01-19 09:18:50.511636: I tensorflow/core/kernels/data/shuffle_dataset_op.cc:450] ShuffleDatasetV3:727: Filling up shuffle buffer (this may take a while): 42 of 1000\n",
      "2025-01-19 09:19:00.670701: I tensorflow/core/kernels/data/shuffle_dataset_op.cc:450] ShuffleDatasetV3:727: Filling up shuffle buffer (this may take a while): 52 of 1000\n",
      "2025-01-19 09:19:20.396434: I tensorflow/core/kernels/data/shuffle_dataset_op.cc:450] ShuffleDatasetV3:727: Filling up shuffle buffer (this may take a while): 72 of 1000\n",
      "2025-01-19 09:19:31.697474: I tensorflow/core/kernels/data/shuffle_dataset_op.cc:450] ShuffleDatasetV3:727: Filling up shuffle buffer (this may take a while): 81 of 1000\n",
      "2025-01-19 09:19:50.359799: I tensorflow/core/kernels/data/shuffle_dataset_op.cc:450] ShuffleDatasetV3:727: Filling up shuffle buffer (this may take a while): 99 of 1000\n",
      "2025-01-19 09:20:00.855181: I tensorflow/core/kernels/data/shuffle_dataset_op.cc:450] ShuffleDatasetV3:727: Filling up shuffle buffer (this may take a while): 111 of 1000\n",
      "2025-01-19 09:20:20.246130: I tensorflow/core/kernels/data/shuffle_dataset_op.cc:450] ShuffleDatasetV3:727: Filling up shuffle buffer (this may take a while): 132 of 1000\n",
      "2025-01-19 09:20:21.221831: W tensorflow/core/lib/png/png_io.cc:89] PNG warning: iCCP: known incorrect sRGB profile\n",
      "2025-01-19 09:20:30.573713: I tensorflow/core/kernels/data/shuffle_dataset_op.cc:450] ShuffleDatasetV3:727: Filling up shuffle buffer (this may take a while): 145 of 1000\n",
      "2025-01-19 09:20:38.455923: I tensorflow/core/kernels/data/shuffle_dataset_op.cc:480] Shuffle buffer filled.\n"
     ]
    },
    {
     "ename": "TypeError",
     "evalue": "float() argument must be a string or a real number, not '_PrefetchDataset'",
     "output_type": "error",
     "traceback": [
      "\u001b[0;31m---------------------------------------------------------------------------\u001b[0m",
      "\u001b[0;31mTypeError\u001b[0m                                 Traceback (most recent call last)",
      "File \u001b[1;32m/home/adiicmp/GitHub Repos/Python/UNSTPB/Year IV/Semester 1/Neural Networks and Genetic Algorithms Project/Project/training.py:120\u001b[0m\n\u001b[1;32m    106\u001b[0m \u001b[39m#data preprocessing for better results, forces the model to learn more features\u001b[39;00m\n\u001b[1;32m    107\u001b[0m datagen \u001b[39m=\u001b[39m ImageDataGenerator(\n\u001b[1;32m    108\u001b[0m     featurewise_center \u001b[39m=\u001b[39m \u001b[39mFalse\u001b[39;00m,\n\u001b[1;32m    109\u001b[0m     samplewise_center \u001b[39m=\u001b[39m \u001b[39mFalse\u001b[39;00m,\n\u001b[0;32m   (...)\u001b[0m\n\u001b[1;32m    117\u001b[0m     vertical_flip \u001b[39m=\u001b[39m \u001b[39mFalse\u001b[39;00m\n\u001b[1;32m    118\u001b[0m )\n\u001b[0;32m--> 120\u001b[0m datagen\u001b[39m.\u001b[39;49mfit(x \u001b[39m=\u001b[39;49m train_ds, seed \u001b[39m=\u001b[39;49m \u001b[39m225\u001b[39;49m)\n\u001b[1;32m    122\u001b[0m \u001b[39m#fitting of the model\u001b[39;00m\n\u001b[1;32m    123\u001b[0m history \u001b[39m=\u001b[39m model\u001b[39m.\u001b[39mfit(train_ds, \n\u001b[1;32m    124\u001b[0m                     validation_data \u001b[39m=\u001b[39m validation_ds, \n\u001b[1;32m    125\u001b[0m                     epochs \u001b[39m=\u001b[39m epochs, \n\u001b[1;32m    126\u001b[0m                     callbacks \u001b[39m=\u001b[39m [early_stopping])\n",
      "File \u001b[0;32m~/GitHub Repos/Python/.venv/lib/python3.12/site-packages/tf_keras/src/preprocessing/image.py:2086\u001b[0m, in \u001b[0;36mImageDataGenerator.fit\u001b[0;34m(self, x, augment, rounds, seed)\u001b[0m\n\u001b[1;32m   2061\u001b[0m \u001b[39mdef\u001b[39;00m\u001b[39m \u001b[39m\u001b[39mfit\u001b[39m(\u001b[39mself\u001b[39m, x, augment\u001b[39m=\u001b[39m\u001b[39mFalse\u001b[39;00m, rounds\u001b[39m=\u001b[39m\u001b[39m1\u001b[39m, seed\u001b[39m=\u001b[39m\u001b[39mNone\u001b[39;00m):\n\u001b[1;32m   2062\u001b[0m \u001b[39m    \u001b[39m\u001b[39m\"\"\"Fits the data generator to some sample data.\u001b[39;00m\n\u001b[1;32m   2063\u001b[0m \n\u001b[1;32m   2064\u001b[0m \u001b[39m    This computes the internal data stats related to the\u001b[39;00m\n\u001b[0;32m   (...)\u001b[0m\n\u001b[1;32m   2084\u001b[0m \u001b[39m        seed: Int (default: None). Random seed.\u001b[39;00m\n\u001b[1;32m   2085\u001b[0m \u001b[39m    \"\"\"\u001b[39;00m\n\u001b[0;32m-> 2086\u001b[0m     x \u001b[39m=\u001b[39m np\u001b[39m.\u001b[39;49masarray(x, dtype\u001b[39m=\u001b[39;49m\u001b[39mself\u001b[39;49m\u001b[39m.\u001b[39;49mdtype)\n\u001b[1;32m   2087\u001b[0m     \u001b[39mif\u001b[39;00m x\u001b[39m.\u001b[39mndim \u001b[39m!=\u001b[39m \u001b[39m4\u001b[39m:\n\u001b[1;32m   2088\u001b[0m         \u001b[39mraise\u001b[39;00m \u001b[39mValueError\u001b[39;00m(\n\u001b[1;32m   2089\u001b[0m             \u001b[39m\"\u001b[39m\u001b[39mInput to `.fit()` should have rank 4. Got array with shape: \u001b[39m\u001b[39m\"\u001b[39m\n\u001b[1;32m   2090\u001b[0m             \u001b[39m+\u001b[39m \u001b[39mstr\u001b[39m(x\u001b[39m.\u001b[39mshape)\n\u001b[1;32m   2091\u001b[0m         )\n",
      "\u001b[0;31mTypeError\u001b[0m: float() argument must be a string or a real number, not '_PrefetchDataset'"
     ]
    }
   ],
   "source": [
    "#%%\n",
    "\n",
    "import tensorflow as tf\n",
    "import tf_keras\n",
    "import matplotlib.pyplot as plt\n",
    "import seaborn as sns\n",
    "import numpy as np\n",
    "from tf_keras import layers\n",
    "from tf_keras.models import Sequential\n",
    "from sklearn.metrics import confusion_matrix, accuracy_score\n",
    "from tf_keras.preprocessing.image import ImageDataGenerator\n",
    "from tf_keras.optimizers import Adam\n",
    "\n",
    "gpu_devices = tf.config.list_physical_devices('GPU')\n",
    "if gpu_devices:\n",
    "  tf.config.experimental.set_memory_growth(gpu_devices[0], True)\n",
    "  print('GPU found', gpu_devices[0])\n",
    "else:\n",
    "  print('No GPU found')\n",
    "\n",
    "#define image size\n",
    "IMG_SIZE = 224\n",
    "\n",
    "#define batch size\n",
    "BATCH_SIZE = 32\n",
    "\n",
    "#training and valdiation directories\n",
    "TRAINING_DIR = \"Train\"\n",
    "\n",
    "# Create a function for preprocessing images\n",
    "def process_image_mobilenet(image_path):\n",
    "  image = tf.io.read_file(image_path) # Turn the jpeg image into numerical Tensor with 3 colour channels (Red, Green, Blue)\n",
    "  image = tf.image.decode_jpeg(image, channels = 3) # Convert the colour channel values from 0-255 to 0-1 values\n",
    "  image = tf.image.convert_image_dtype(image, tf.float32)# Resize the image to our desired value (224, 224)\n",
    "  image = tf.image.resize(image, size=[IMG_SIZE, IMG_SIZE])\n",
    "\n",
    "  return image\n",
    "  \n",
    "#training split\n",
    "train_ds = tf_keras.utils.image_dataset_from_directory(\n",
    "  TRAINING_DIR,\n",
    "  labels = \"inferred\",\n",
    "  image_size = (IMG_SIZE, IMG_SIZE),\n",
    "  batch_size = BATCH_SIZE,\n",
    "  subset = \"training\",\n",
    "  validation_split = 0.2,\n",
    "  seed = 225\n",
    ")\n",
    "\n",
    "#validation split, taken directly from the same directory as train\n",
    "validation_ds = tf_keras.utils.image_dataset_from_directory(\n",
    "  TRAINING_DIR,\n",
    "  labels = \"inferred\",\n",
    "  image_size = (IMG_SIZE, IMG_SIZE),\n",
    "  batch_size = BATCH_SIZE,\n",
    "  subset = 'validation',\n",
    "  validation_split = 0.2,\n",
    "  seed = 225\n",
    ")\n",
    "\n",
    "CLASS_NAMES = train_ds.class_names\n",
    "\n",
    "AUTOTUNE = tf.data.AUTOTUNE\n",
    "train_ds = train_ds.cache().shuffle(1000).prefetch(buffer_size = AUTOTUNE)\n",
    "val_ds = validation_ds.cache().prefetch(buffer_size = AUTOTUNE)\n",
    "\n",
    "norm_layer = layers.Rescaling(1./255)\n",
    "norm_ds = train_ds.map(lambda x, y: (norm_layer(x), y))\n",
    "image_batch, labels_batch = next(iter(norm_ds))\n",
    "\n",
    "num_classes = len(CLASS_NAMES)\n",
    "\n",
    "#training model\n",
    "model = Sequential([\n",
    "  layers.Conv2D(128, (3, 3), activation = 'relu', input_shape = (224, 224, 3)),\n",
    "  layers.MaxPooling2D(2, 2),\n",
    "  layers.Conv2D(128, (3, 3), activation = 'relu'),\n",
    "  layers.MaxPooling2D(2, 2),\n",
    "  layers.Conv2D(256, (3, 3), activation = 'relu'),\n",
    "  layers.MaxPooling2D(2, 2),\n",
    "  layers.Conv2D(256, (3, 3), activation = 'relu'),\n",
    "  layers.MaxPooling2D(2, 2),\n",
    "  layers.Conv2D(512, (3, 3), activation = 'relu'),\n",
    "  layers.MaxPooling2D(2, 2),\n",
    "  layers.Conv2D(512, (3, 3), activation = 'relu'),\n",
    "  layers.MaxPooling2D(2, 2),\n",
    "  layers.Flatten(),\n",
    "  layers.Dense(1024, activation = 'relu'),\n",
    "  layers.Dropout(0.25),\n",
    "  layers.Dense(num_classes, activation = 'softmax')\n",
    "])\n",
    "\n",
    "model.compile(optimizer = Adam(learning_rate = 0.0001, weight_decay = 1e-6), \n",
    "              loss = tf_keras.losses.SparseCategoricalCrossentropy(from_logits = True), \n",
    "              metrics = ['accuracy'])\n",
    "\n",
    "#no of epochs\n",
    "epochs = 100\n",
    "\n",
    "#early stopping\n",
    "early_stopping = tf_keras.callbacks.EarlyStopping(monitor = 'val_loss', \n",
    "                                                  mode = 'min', \n",
    "                                                  verbose = 1, \n",
    "                                                  patience = 8, \n",
    "                                                  restore_best_weights = True)\n",
    "\n",
    "#data preprocessing for better results, forces the model to learn more features\n",
    "datagen = ImageDataGenerator(\n",
    "    featurewise_center = False,\n",
    "    samplewise_center = False,\n",
    "    featurewise_std_normalization = False,\n",
    "    samplewise_std_normalization = False,\n",
    "    zca_whitening = False,\n",
    "    rotation_range = 0,\n",
    "    width_shift_range = 0.1,\n",
    "    height_shift_range = 0.1,\n",
    "    horizontal_flip = True,\n",
    "    vertical_flip = False\n",
    ")\n",
    "\n",
    "datagen.fit(x = train_ds, seed = 225)\n",
    "\n",
    "#fitting of the model\n",
    "history = model.fit(train_ds, \n",
    "                    validation_data = validation_ds, \n",
    "                    epochs = epochs, \n",
    "                    callbacks = [early_stopping])\n",
    "\n",
    "#accuracy and loss values\n",
    "accuracy = history.history['accuracy']\n",
    "val_accuracy = history.history[('val_accuracy')]\n",
    "\n",
    "loss = history.history['loss']\n",
    "val_loss = history.history['val_loss']\n",
    "\n",
    "epochs_range = range(epochs)\n",
    "\n",
    "true_labels = []\n",
    "predicted_labels = []\n",
    "\n",
    "for images, labels in val_ds:\n",
    "  true_labels.extend(labels.numpy())\n",
    "  pred = model.predict(images)\n",
    "  predicted_labels.extend(np.argmax(pred, axis = 1))\n",
    "\n",
    "confusion_matrix = confusion_matrix(true_labels, predicted_labels)\n",
    "accuracy_score = accuracy_score(true_labels, predicted_labels)\n",
    "\n",
    "print('Confusion Matrix: ')\n",
    "plt.figure(figsize=(8, 8))\n",
    "sns.heatmap(confusion_matrix, annot = True, fmt = 'd', xticklabels = CLASS_NAMES, yticklabels = CLASS_NAMES, cmap = 'Blues')\n",
    "plt.xlabel('Predicted')\n",
    "plt.ylabel('True')\n",
    "plt.title('Confusion Matrix')\n",
    "\n",
    "print('Accuracy Score: ', accuracy_score)\n",
    "\n",
    "plt.figure(figsize = (8, 8))\n",
    "plt.subplot(1, 2, 1)\n",
    "plt.plot(accuracy, label = 'Training Accuracy')\n",
    "plt.plot(val_accuracy, label = 'Validation Accuracy')\n",
    "plt.legend(loc = 'lower right')\n",
    "plt.title('Training and Validation Accuracy')\n",
    "\n",
    "plt.subplot(1, 2, 2)\n",
    "plt.plot(loss, label = 'Training Loss')\n",
    "plt.plot(val_loss, label = 'Validation Loss')\n",
    "plt.legend(loc = 'upper right')\n",
    "plt.title('Training and Validation Loss')\n",
    "plt.show()"
   ]
  },
  {
   "cell_type": "code",
   "execution_count": null,
   "id": "412bd7a1-10e0-44fa-8b7e-50451b81f700",
   "metadata": {},
   "outputs": [
    {
     "name": "stdout",
     "output_type": "stream",
     "text": [
      "GPU found PhysicalDevice(name='/physical_device:GPU:0', device_type='GPU')\n",
      "Found 6480 files belonging to 10 classes.\n",
      "Using 5184 files for training.\n",
      "Found 6480 files belonging to 10 classes.\n",
      "Using 1296 files for validation.\n"
     ]
    },
    {
     "ename": "ValueError",
     "evalue": "Only instances of `keras.Layer` can be added to a Sequential model. Received: <tf_keras.src.layers.preprocessing.image_preprocessing.RandomFlip object at 0x7d2a5c0e94c0> (of type <class 'tf_keras.src.layers.preprocessing.image_preprocessing.RandomFlip'>)",
     "output_type": "error",
     "traceback": [
      "\u001b[0;31m---------------------------------------------------------------------------\u001b[0m",
      "\u001b[0;31mValueError\u001b[0m                                Traceback (most recent call last)",
      "File \u001b[1;32m/home/adiicmp/GitHub Repos/Python/UNSTPB/Year IV/Semester 1/Neural Networks and Genetic Algorithms Project/Project/training.py:62\u001b[0m\n\u001b[1;32m     50\u001b[0m validation_ds \u001b[39m=\u001b[39m tf_keras\u001b[39m.\u001b[39mutils\u001b[39m.\u001b[39mimage_dataset_from_directory(\n\u001b[1;32m     51\u001b[0m   TRAINING_DIR,\n\u001b[1;32m     52\u001b[0m   labels \u001b[39m=\u001b[39m \u001b[39m\"\u001b[39m\u001b[39minferred\u001b[39m\u001b[39m\"\u001b[39m,\n\u001b[0;32m   (...)\u001b[0m\n\u001b[1;32m     57\u001b[0m   seed \u001b[39m=\u001b[39m \u001b[39m225\u001b[39m\n\u001b[1;32m     58\u001b[0m )\n\u001b[1;32m     60\u001b[0m CLASS_NAMES \u001b[39m=\u001b[39m train_ds\u001b[39m.\u001b[39mclass_names\n\u001b[0;32m---> 62\u001b[0m data_augmentation \u001b[39m=\u001b[39m tf\u001b[39m.\u001b[39;49mkeras\u001b[39m.\u001b[39;49mSequential([\n\u001b[1;32m     63\u001b[0m   layers\u001b[39m.\u001b[39;49mexperimental\u001b[39m.\u001b[39;49mpreprocessing\u001b[39m.\u001b[39;49mRandomFlip(\u001b[39m'\u001b[39;49m\u001b[39mhorizontal\u001b[39;49m\u001b[39m'\u001b[39;49m),\n\u001b[1;32m     64\u001b[0m   layers\u001b[39m.\u001b[39;49mexperimental\u001b[39m.\u001b[39;49mpreprocessing\u001b[39m.\u001b[39;49mRandomRotation(\u001b[39m0.2\u001b[39;49m),\n\u001b[1;32m     65\u001b[0m   layers\u001b[39m.\u001b[39;49mexperimental\u001b[39m.\u001b[39;49mpreprocessing\u001b[39m.\u001b[39;49mRandomZoom(\u001b[39m0.2\u001b[39;49m) \n\u001b[1;32m     66\u001b[0m ])\n\u001b[1;32m     68\u001b[0m \u001b[39mdef\u001b[39;00m\u001b[39m \u001b[39m\u001b[39maugment_images\u001b[39m(image, label):\n\u001b[1;32m     69\u001b[0m   image \u001b[39m=\u001b[39m data_augmentation(image)\n",
      "File \u001b[0;32m~/GitHub Repos/Python/.venv/lib/python3.12/site-packages/keras/src/models/sequential.py:75\u001b[0m, in \u001b[0;36mSequential.__init__\u001b[0;34m(self, layers, trainable, name)\u001b[0m\n\u001b[1;32m     73\u001b[0m \u001b[39mif\u001b[39;00m layers:\n\u001b[1;32m     74\u001b[0m     \u001b[39mfor\u001b[39;00m layer \u001b[39min\u001b[39;00m layers:\n\u001b[0;32m---> 75\u001b[0m         \u001b[39mself\u001b[39;49m\u001b[39m.\u001b[39;49madd(layer, rebuild\u001b[39m=\u001b[39;49m\u001b[39mFalse\u001b[39;49;00m)\n\u001b[1;32m     76\u001b[0m     \u001b[39mself\u001b[39m\u001b[39m.\u001b[39m_maybe_rebuild()\n",
      "File \u001b[0;32m~/GitHub Repos/Python/.venv/lib/python3.12/site-packages/keras/src/models/sequential.py:97\u001b[0m, in \u001b[0;36mSequential.add\u001b[0;34m(self, layer, rebuild)\u001b[0m\n\u001b[1;32m     95\u001b[0m         layer \u001b[39m=\u001b[39m origin_layer\n\u001b[1;32m     96\u001b[0m \u001b[39mif\u001b[39;00m \u001b[39mnot\u001b[39;00m \u001b[39misinstance\u001b[39m(layer, Layer):\n\u001b[0;32m---> 97\u001b[0m     \u001b[39mraise\u001b[39;00m \u001b[39mValueError\u001b[39;00m(\n\u001b[1;32m     98\u001b[0m         \u001b[39m\"\u001b[39m\u001b[39mOnly instances of `keras.Layer` can be \u001b[39m\u001b[39m\"\u001b[39m\n\u001b[1;32m     99\u001b[0m         \u001b[39mf\u001b[39m\u001b[39m\"\u001b[39m\u001b[39madded to a Sequential model. Received: \u001b[39m\u001b[39m{\u001b[39;00mlayer\u001b[39m}\u001b[39;00m\u001b[39m \u001b[39m\u001b[39m\"\u001b[39m\n\u001b[1;32m    100\u001b[0m         \u001b[39mf\u001b[39m\u001b[39m\"\u001b[39m\u001b[39m(of type \u001b[39m\u001b[39m{\u001b[39;00m\u001b[39mtype\u001b[39m(layer)\u001b[39m}\u001b[39;00m\u001b[39m)\u001b[39m\u001b[39m\"\u001b[39m\n\u001b[1;32m    101\u001b[0m     )\n\u001b[1;32m    102\u001b[0m \u001b[39mif\u001b[39;00m \u001b[39mnot\u001b[39;00m \u001b[39mself\u001b[39m\u001b[39m.\u001b[39m_is_layer_name_unique(layer):\n\u001b[1;32m    103\u001b[0m     \u001b[39mraise\u001b[39;00m \u001b[39mValueError\u001b[39;00m(\n\u001b[1;32m    104\u001b[0m         \u001b[39m\"\u001b[39m\u001b[39mAll layers added to a Sequential model \u001b[39m\u001b[39m\"\u001b[39m\n\u001b[1;32m    105\u001b[0m         \u001b[39mf\u001b[39m\u001b[39m\"\u001b[39m\u001b[39mshould have unique names. Name \u001b[39m\u001b[39m'\u001b[39m\u001b[39m{\u001b[39;00mlayer\u001b[39m.\u001b[39mname\u001b[39m}\u001b[39;00m\u001b[39m'\u001b[39m\u001b[39m is already \u001b[39m\u001b[39m\"\u001b[39m\n\u001b[1;32m    106\u001b[0m         \u001b[39m\"\u001b[39m\u001b[39mthe name of a layer in this model. Update the `name` argument \u001b[39m\u001b[39m\"\u001b[39m\n\u001b[1;32m    107\u001b[0m         \u001b[39m\"\u001b[39m\u001b[39mto pass a unique name.\u001b[39m\u001b[39m\"\u001b[39m\n\u001b[1;32m    108\u001b[0m     )\n",
      "\u001b[0;31mValueError\u001b[0m: Only instances of `keras.Layer` can be added to a Sequential model. Received: <tf_keras.src.layers.preprocessing.image_preprocessing.RandomFlip object at 0x7d2a5c0e94c0> (of type <class 'tf_keras.src.layers.preprocessing.image_preprocessing.RandomFlip'>)"
     ]
    }
   ],
   "source": [
    "#%%\n",
    "\n",
    "import tensorflow as tf\n",
    "import tf_keras\n",
    "import matplotlib.pyplot as plt\n",
    "import seaborn as sns\n",
    "import numpy as np\n",
    "from tf_keras import layers\n",
    "from tf_keras.models import Sequential\n",
    "from sklearn.metrics import confusion_matrix, accuracy_score\n",
    "from tf_keras.preprocessing.image import ImageDataGenerator\n",
    "from tf_keras.optimizers import Adam\n",
    "\n",
    "gpu_devices = tf.config.list_physical_devices('GPU')\n",
    "if gpu_devices:\n",
    "  tf.config.experimental.set_memory_growth(gpu_devices[0], True)\n",
    "  print('GPU found', gpu_devices[0])\n",
    "else:\n",
    "  print('No GPU found')\n",
    "\n",
    "#define image size\n",
    "IMG_SIZE = 224\n",
    "\n",
    "#define batch size\n",
    "BATCH_SIZE = 32\n",
    "\n",
    "#training and valdiation directories\n",
    "TRAINING_DIR = \"Train\"\n",
    "\n",
    "# Create a function for preprocessing images\n",
    "def process_image_mobilenet(image_path):\n",
    "  image = tf.io.read_file(image_path) # Turn the jpeg image into numerical Tensor with 3 colour channels (Red, Green, Blue)\n",
    "  image = tf.image.decode_jpeg(image, channels = 3) # Convert the colour channel values from 0-255 to 0-1 values\n",
    "  image = tf.image.convert_image_dtype(image, tf.float32)# Resize the image to our desired value (224, 224)\n",
    "  image = tf.image.resize(image, size=[IMG_SIZE, IMG_SIZE])\n",
    "\n",
    "  return image\n",
    "  \n",
    "#training split\n",
    "train_ds = tf_keras.utils.image_dataset_from_directory(\n",
    "  TRAINING_DIR,\n",
    "  labels = \"inferred\",\n",
    "  image_size = (IMG_SIZE, IMG_SIZE),\n",
    "  batch_size = BATCH_SIZE,\n",
    "  subset = \"training\",\n",
    "  validation_split = 0.2,\n",
    "  seed = 225\n",
    ")\n",
    "\n",
    "#validation split, taken directly from the same directory as train\n",
    "validation_ds = tf_keras.utils.image_dataset_from_directory(\n",
    "  TRAINING_DIR,\n",
    "  labels = \"inferred\",\n",
    "  image_size = (IMG_SIZE, IMG_SIZE),\n",
    "  batch_size = BATCH_SIZE,\n",
    "  subset = 'validation',\n",
    "  validation_split = 0.2,\n",
    "  seed = 225\n",
    ")\n",
    "\n",
    "CLASS_NAMES = train_ds.class_names\n",
    "\n",
    "data_augmentation = tf.keras.Sequential([\n",
    "  layers.experimental.preprocessing.RandomFlip('horizontal'),\n",
    "  layers.experimental.preprocessing.RandomRotation(0.2),\n",
    "  layers.experimental.preprocessing.RandomZoom(0.2) \n",
    "])\n",
    "\n",
    "def augment_images(image, label):\n",
    "  image = data_augmentation(image)\n",
    "  return image, label\n",
    "\n",
    "train_ds = train_ds.map(augment_images)\n",
    "\n",
    "AUTOTUNE = tf.data.AUTOTUNE\n",
    "train_ds = train_ds.prefetch(buffer_size = AUTOTUNE)\n",
    "val_ds = validation_ds.cache().prefetch(buffer_size = AUTOTUNE)\n",
    "\n",
    "norm_layer = layers.Rescaling(1./255)\n",
    "norm_ds = train_ds.map(lambda x, y: (norm_layer(x), y))\n",
    "image_batch, labels_batch = next(iter(norm_ds))\n",
    "\n",
    "num_classes = len(CLASS_NAMES)\n",
    "\n",
    "#training model\n",
    "model = Sequential([\n",
    "  layers.Conv2D(128, (3, 3), activation = 'relu', input_shape = (224, 224, 3)),\n",
    "  layers.MaxPooling2D(2, 2),\n",
    "  layers.Conv2D(128, (3, 3), activation = 'relu'),\n",
    "  layers.MaxPooling2D(2, 2),\n",
    "  layers.Conv2D(256, (3, 3), activation = 'relu'),\n",
    "  layers.MaxPooling2D(2, 2),\n",
    "  layers.Conv2D(256, (3, 3), activation = 'relu'),\n",
    "  layers.MaxPooling2D(2, 2),\n",
    "  layers.Conv2D(512, (3, 3), activation = 'relu'),\n",
    "  layers.MaxPooling2D(2, 2),\n",
    "  layers.Conv2D(512, (3, 3), activation = 'relu'),\n",
    "  layers.MaxPooling2D(2, 2),\n",
    "  layers.Flatten(),\n",
    "  layers.Dense(1024, activation = 'relu'),\n",
    "  layers.Dropout(0.25),\n",
    "  layers.Dense(num_classes, activation = 'softmax')\n",
    "])\n",
    "\n",
    "model.compile(optimizer = Adam(learning_rate = 0.0001, weight_decay = 1e-6), \n",
    "              loss = tf_keras.losses.SparseCategoricalCrossentropy(from_logits = True), \n",
    "              metrics = ['accuracy'])\n",
    "\n",
    "#no of epochs\n",
    "epochs = 100\n",
    "\n",
    "#early stopping\n",
    "early_stopping = tf_keras.callbacks.EarlyStopping(monitor = 'val_loss', \n",
    "                                                  mode = 'min', \n",
    "                                                  verbose = 1, \n",
    "                                                  patience = 8, \n",
    "                                                  restore_best_weights = True)\n",
    "\n",
    "#fitting of the model\n",
    "history = model.fit(train_ds, \n",
    "                    validation_data = validation_ds, \n",
    "                    epochs = epochs, \n",
    "                    callbacks = [early_stopping])\n",
    "\n",
    "#accuracy and loss values\n",
    "accuracy = history.history['accuracy']\n",
    "val_accuracy = history.history[('val_accuracy')]\n",
    "\n",
    "loss = history.history['loss']\n",
    "val_loss = history.history['val_loss']\n",
    "\n",
    "epochs_range = range(epochs)\n",
    "\n",
    "true_labels = []\n",
    "predicted_labels = []\n",
    "\n",
    "for images, labels in val_ds:\n",
    "  true_labels.extend(labels.numpy())\n",
    "  pred = model.predict(images)\n",
    "  predicted_labels.extend(np.argmax(pred, axis = 1))\n",
    "\n",
    "confusion_matrix = confusion_matrix(true_labels, predicted_labels)\n",
    "accuracy_score = accuracy_score(true_labels, predicted_labels)\n",
    "\n",
    "print('Confusion Matrix: ')\n",
    "plt.figure(figsize=(8, 8))\n",
    "sns.heatmap(confusion_matrix, annot = True, fmt = 'd', xticklabels = CLASS_NAMES, yticklabels = CLASS_NAMES, cmap = 'Blues')\n",
    "plt.xlabel('Predicted')\n",
    "plt.ylabel('True')\n",
    "plt.title('Confusion Matrix')\n",
    "\n",
    "print('Accuracy Score: ', accuracy_score)\n",
    "\n",
    "plt.figure(figsize = (8, 8))\n",
    "plt.subplot(1, 2, 1)\n",
    "plt.plot(accuracy, label = 'Training Accuracy')\n",
    "plt.plot(val_accuracy, label = 'Validation Accuracy')\n",
    "plt.legend(loc = 'lower right')\n",
    "plt.title('Training and Validation Accuracy')\n",
    "\n",
    "plt.subplot(1, 2, 2)\n",
    "plt.plot(loss, label = 'Training Loss')\n",
    "plt.plot(val_loss, label = 'Validation Loss')\n",
    "plt.legend(loc = 'upper right')\n",
    "plt.title('Training and Validation Loss')\n",
    "plt.show()"
   ]
  },
  {
   "cell_type": "code",
   "execution_count": null,
   "id": "d629b7f9-9255-4ff6-8eaa-1dddb4a409bf",
   "metadata": {},
   "outputs": [
    {
     "name": "stdout",
     "output_type": "stream",
     "text": [
      "GPU found PhysicalDevice(name='/physical_device:GPU:0', device_type='GPU')\n",
      "Found 6480 files belonging to 10 classes.\n",
      "Using 5184 files for training.\n",
      "Found 6480 files belonging to 10 classes.\n",
      "Using 1296 files for validation.\n"
     ]
    },
    {
     "name": "stderr",
     "output_type": "stream",
     "text": [
      "2025-01-19 09:27:15.295946: I tensorflow/core/framework/local_rendezvous.cc:405] Local rendezvous is aborting with status: CANCELLED: RecvAsync is cancelled.\n",
      "\t [[{{node sequential_5/random_rotation_1/stateful_uniform/Cast_1/_6}}]] [type.googleapis.com/tensorflow.DerivedStatus='']\n",
      "2025-01-19 09:27:15.296023: I tensorflow/core/framework/local_rendezvous.cc:424] Local rendezvous recv item cancelled. Key hash: 9277299654687270356\n",
      "2025-01-19 09:27:15.345226: I tensorflow/core/framework/local_rendezvous.cc:424] Local rendezvous recv item cancelled. Key hash: 13688585228871205487\n",
      "2025-01-19 09:27:15.345260: I tensorflow/core/framework/local_rendezvous.cc:424] Local rendezvous recv item cancelled. Key hash: 3680669235736830737\n",
      "2025-01-19 09:27:15.345276: I tensorflow/core/framework/local_rendezvous.cc:424] Local rendezvous recv item cancelled. Key hash: 5196866719058306111\n"
     ]
    },
    {
     "name": "stdout",
     "output_type": "stream",
     "text": [
      "Epoch 1/100\n"
     ]
    },
    {
     "name": "stderr",
     "output_type": "stream",
     "text": [
      "/home/adiicmp/GitHub Repos/Python/.venv/lib/python3.12/site-packages/tf_keras/src/backend.py:5729: UserWarning: \"`sparse_categorical_crossentropy` received `from_logits=True`, but the `output` argument was produced by a Softmax activation and thus does not represent logits. Was this intended?\n",
      "  output, from_logits = _get_logits(\n"
     ]
    },
    {
     "name": "stdout",
     "output_type": "stream",
     "text": [
      "130/162 [=======================>......] - ETA: 10s - loss: 2.4403 - accuracy: 0.2130"
     ]
    },
    {
     "name": "stderr",
     "output_type": "stream",
     "text": [
      "2025-01-19 09:28:02.945151: W tensorflow/core/lib/png/png_io.cc:89] PNG warning: iCCP: known incorrect sRGB profile\n"
     ]
    },
    {
     "name": "stdout",
     "output_type": "stream",
     "text": [
      "162/162 [==============================] - 85s 494ms/step - loss: 2.3483 - accuracy: 0.2261 - val_loss: 2.0535 - val_accuracy: 0.2616\n",
      "Epoch 2/100\n",
      "130/162 [=======================>......] - ETA: 10s - loss: 1.8867 - accuracy: 0.3322"
     ]
    },
    {
     "name": "stderr",
     "output_type": "stream",
     "text": [
      "2025-01-19 09:29:24.996759: W tensorflow/core/lib/png/png_io.cc:89] PNG warning: iCCP: known incorrect sRGB profile\n"
     ]
    },
    {
     "name": "stdout",
     "output_type": "stream",
     "text": [
      "162/162 [==============================] - 64s 384ms/step - loss: 1.8601 - accuracy: 0.3434 - val_loss: 1.7448 - val_accuracy: 0.3804\n",
      "Epoch 3/100\n",
      "130/162 [=======================>......] - ETA: 10s - loss: 1.7304 - accuracy: 0.3897"
     ]
    },
    {
     "name": "stderr",
     "output_type": "stream",
     "text": [
      "2025-01-19 09:30:29.754894: W tensorflow/core/lib/png/png_io.cc:89] PNG warning: iCCP: known incorrect sRGB profile\n"
     ]
    },
    {
     "name": "stdout",
     "output_type": "stream",
     "text": [
      "162/162 [==============================] - 65s 387ms/step - loss: 1.7214 - accuracy: 0.3931 - val_loss: 1.7287 - val_accuracy: 0.3966\n",
      "Epoch 4/100\n",
      "130/162 [=======================>......] - ETA: 10s - loss: 1.6679 - accuracy: 0.4125"
     ]
    },
    {
     "name": "stderr",
     "output_type": "stream",
     "text": [
      "2025-01-19 09:31:34.024027: W tensorflow/core/lib/png/png_io.cc:89] PNG warning: iCCP: known incorrect sRGB profile\n"
     ]
    },
    {
     "name": "stdout",
     "output_type": "stream",
     "text": [
      "162/162 [==============================] - 64s 386ms/step - loss: 1.6498 - accuracy: 0.4194 - val_loss: 1.5737 - val_accuracy: 0.4483\n",
      "Epoch 5/100\n",
      "130/162 [=======================>......] - ETA: 10s - loss: 1.5889 - accuracy: 0.4332"
     ]
    },
    {
     "name": "stderr",
     "output_type": "stream",
     "text": [
      "2025-01-19 09:32:38.021069: W tensorflow/core/lib/png/png_io.cc:89] PNG warning: iCCP: known incorrect sRGB profile\n"
     ]
    },
    {
     "name": "stdout",
     "output_type": "stream",
     "text": [
      "162/162 [==============================] - 64s 380ms/step - loss: 1.5799 - accuracy: 0.4379 - val_loss: 1.5548 - val_accuracy: 0.4483\n",
      "Epoch 6/100\n",
      "130/162 [=======================>......] - ETA: 10s - loss: 1.4940 - accuracy: 0.4697"
     ]
    },
    {
     "name": "stderr",
     "output_type": "stream",
     "text": [
      "2025-01-19 09:33:42.559923: W tensorflow/core/lib/png/png_io.cc:89] PNG warning: iCCP: known incorrect sRGB profile\n"
     ]
    },
    {
     "name": "stdout",
     "output_type": "stream",
     "text": [
      "162/162 [==============================] - 65s 387ms/step - loss: 1.4924 - accuracy: 0.4705 - val_loss: 1.5160 - val_accuracy: 0.4676\n",
      "Epoch 7/100\n",
      "130/162 [=======================>......] - ETA: 10s - loss: 1.4751 - accuracy: 0.4752"
     ]
    },
    {
     "name": "stderr",
     "output_type": "stream",
     "text": [
      "2025-01-19 09:34:45.768957: W tensorflow/core/lib/png/png_io.cc:89] PNG warning: iCCP: known incorrect sRGB profile\n"
     ]
    },
    {
     "name": "stdout",
     "output_type": "stream",
     "text": [
      "162/162 [==============================] - 63s 377ms/step - loss: 1.4624 - accuracy: 0.4801 - val_loss: 1.4890 - val_accuracy: 0.4745\n",
      "Epoch 8/100\n",
      "130/162 [=======================>......] - ETA: 10s - loss: 1.4231 - accuracy: 0.4928"
     ]
    },
    {
     "name": "stderr",
     "output_type": "stream",
     "text": [
      "2025-01-19 09:35:50.945329: W tensorflow/core/lib/png/png_io.cc:89] PNG warning: iCCP: known incorrect sRGB profile\n"
     ]
    },
    {
     "name": "stdout",
     "output_type": "stream",
     "text": [
      "162/162 [==============================] - 65s 387ms/step - loss: 1.4185 - accuracy: 0.4931 - val_loss: 1.5911 - val_accuracy: 0.4383\n",
      "Epoch 9/100\n",
      "130/162 [=======================>......] - ETA: 10s - loss: 1.3429 - accuracy: 0.5305"
     ]
    },
    {
     "name": "stderr",
     "output_type": "stream",
     "text": [
      "2025-01-19 09:36:54.036385: W tensorflow/core/lib/png/png_io.cc:89] PNG warning: iCCP: known incorrect sRGB profile\n"
     ]
    },
    {
     "name": "stdout",
     "output_type": "stream",
     "text": [
      "162/162 [==============================] - 63s 378ms/step - loss: 1.3415 - accuracy: 0.5295 - val_loss: 1.4217 - val_accuracy: 0.5108\n",
      "Epoch 10/100\n",
      "130/162 [=======================>......] - ETA: 10s - loss: 1.3278 - accuracy: 0.5344"
     ]
    },
    {
     "name": "stderr",
     "output_type": "stream",
     "text": [
      "2025-01-19 09:37:57.447170: W tensorflow/core/lib/png/png_io.cc:89] PNG warning: iCCP: known incorrect sRGB profile\n"
     ]
    },
    {
     "name": "stdout",
     "output_type": "stream",
     "text": [
      "162/162 [==============================] - 63s 375ms/step - loss: 1.3158 - accuracy: 0.5405 - val_loss: 1.5856 - val_accuracy: 0.4483\n",
      "Epoch 11/100\n",
      "130/162 [=======================>......] - ETA: 9s - loss: 1.2579 - accuracy: 0.5558 "
     ]
    },
    {
     "name": "stderr",
     "output_type": "stream",
     "text": [
      "2025-01-19 09:38:58.443412: W tensorflow/core/lib/png/png_io.cc:89] PNG warning: iCCP: known incorrect sRGB profile\n"
     ]
    },
    {
     "name": "stdout",
     "output_type": "stream",
     "text": [
      "162/162 [==============================] - 61s 362ms/step - loss: 1.2560 - accuracy: 0.5550 - val_loss: 1.4201 - val_accuracy: 0.5046\n",
      "Epoch 12/100\n",
      "130/162 [=======================>......] - ETA: 10s - loss: 1.2112 - accuracy: 0.5740"
     ]
    },
    {
     "name": "stderr",
     "output_type": "stream",
     "text": [
      "2025-01-19 09:40:00.150057: W tensorflow/core/lib/png/png_io.cc:89] PNG warning: iCCP: known incorrect sRGB profile\n"
     ]
    },
    {
     "name": "stdout",
     "output_type": "stream",
     "text": [
      "162/162 [==============================] - 63s 374ms/step - loss: 1.1946 - accuracy: 0.5787 - val_loss: 1.3077 - val_accuracy: 0.5401\n",
      "Epoch 13/100\n",
      "130/162 [=======================>......] - ETA: 10s - loss: 1.1478 - accuracy: 0.5925"
     ]
    },
    {
     "name": "stderr",
     "output_type": "stream",
     "text": [
      "2025-01-19 09:41:03.118635: W tensorflow/core/lib/png/png_io.cc:89] PNG warning: iCCP: known incorrect sRGB profile\n"
     ]
    },
    {
     "name": "stdout",
     "output_type": "stream",
     "text": [
      "162/162 [==============================] - 64s 384ms/step - loss: 1.1329 - accuracy: 0.6001 - val_loss: 1.4434 - val_accuracy: 0.5139\n",
      "Epoch 14/100\n",
      "130/162 [=======================>......] - ETA: 10s - loss: 1.0867 - accuracy: 0.6173"
     ]
    },
    {
     "name": "stderr",
     "output_type": "stream",
     "text": [
      "2025-01-19 09:42:07.997261: W tensorflow/core/lib/png/png_io.cc:89] PNG warning: iCCP: known incorrect sRGB profile\n"
     ]
    },
    {
     "name": "stdout",
     "output_type": "stream",
     "text": [
      "162/162 [==============================] - 64s 382ms/step - loss: 1.0837 - accuracy: 0.6182 - val_loss: 1.2776 - val_accuracy: 0.5617\n",
      "Epoch 15/100\n",
      "130/162 [=======================>......] - ETA: 10s - loss: 1.0578 - accuracy: 0.6255"
     ]
    },
    {
     "name": "stderr",
     "output_type": "stream",
     "text": [
      "2025-01-19 09:43:12.587007: W tensorflow/core/lib/png/png_io.cc:89] PNG warning: iCCP: known incorrect sRGB profile\n"
     ]
    },
    {
     "name": "stdout",
     "output_type": "stream",
     "text": [
      "162/162 [==============================] - 65s 386ms/step - loss: 1.0520 - accuracy: 0.6275 - val_loss: 1.2444 - val_accuracy: 0.5833\n",
      "Epoch 16/100\n",
      "130/162 [=======================>......] - ETA: 10s - loss: 1.0186 - accuracy: 0.6430"
     ]
    },
    {
     "name": "stderr",
     "output_type": "stream",
     "text": [
      "2025-01-19 09:44:15.361927: W tensorflow/core/lib/png/png_io.cc:89] PNG warning: iCCP: known incorrect sRGB profile\n"
     ]
    },
    {
     "name": "stdout",
     "output_type": "stream",
     "text": [
      "162/162 [==============================] - 63s 376ms/step - loss: 1.0119 - accuracy: 0.6449 - val_loss: 1.4544 - val_accuracy: 0.5293\n",
      "Epoch 17/100\n",
      "130/162 [=======================>......] - ETA: 10s - loss: 0.9754 - accuracy: 0.6673"
     ]
    },
    {
     "name": "stderr",
     "output_type": "stream",
     "text": [
      "2025-01-19 09:45:19.436076: W tensorflow/core/lib/png/png_io.cc:89] PNG warning: iCCP: known incorrect sRGB profile\n"
     ]
    },
    {
     "name": "stdout",
     "output_type": "stream",
     "text": [
      "162/162 [==============================] - 64s 381ms/step - loss: 0.9556 - accuracy: 0.6717 - val_loss: 1.2811 - val_accuracy: 0.5841\n",
      "Epoch 18/100\n",
      "130/162 [=======================>......] - ETA: 10s - loss: 0.9396 - accuracy: 0.6731"
     ]
    },
    {
     "name": "stderr",
     "output_type": "stream",
     "text": [
      "2025-01-19 09:46:24.270383: W tensorflow/core/lib/png/png_io.cc:89] PNG warning: iCCP: known incorrect sRGB profile\n"
     ]
    },
    {
     "name": "stdout",
     "output_type": "stream",
     "text": [
      "162/162 [==============================] - 66s 393ms/step - loss: 0.9297 - accuracy: 0.6740 - val_loss: 1.1493 - val_accuracy: 0.6242\n",
      "Epoch 19/100\n",
      "130/162 [=======================>......] - ETA: 10s - loss: 0.8917 - accuracy: 0.6861"
     ]
    },
    {
     "name": "stderr",
     "output_type": "stream",
     "text": [
      "2025-01-19 09:47:28.440558: W tensorflow/core/lib/png/png_io.cc:89] PNG warning: iCCP: known incorrect sRGB profile\n"
     ]
    },
    {
     "name": "stdout",
     "output_type": "stream",
     "text": [
      "162/162 [==============================] - 64s 382ms/step - loss: 0.8901 - accuracy: 0.6877 - val_loss: 1.4003 - val_accuracy: 0.5448\n",
      "Epoch 20/100\n",
      "130/162 [=======================>......] - ETA: 10s - loss: 0.8481 - accuracy: 0.7022"
     ]
    },
    {
     "name": "stderr",
     "output_type": "stream",
     "text": [
      "2025-01-19 09:48:32.843551: W tensorflow/core/lib/png/png_io.cc:89] PNG warning: iCCP: known incorrect sRGB profile\n"
     ]
    },
    {
     "name": "stdout",
     "output_type": "stream",
     "text": [
      "162/162 [==============================] - 63s 380ms/step - loss: 0.8362 - accuracy: 0.7022 - val_loss: 1.2501 - val_accuracy: 0.6011\n",
      "Epoch 21/100\n",
      "130/162 [=======================>......] - ETA: 10s - loss: 0.8469 - accuracy: 0.7135"
     ]
    },
    {
     "name": "stderr",
     "output_type": "stream",
     "text": [
      "2025-01-19 09:49:37.237633: W tensorflow/core/lib/png/png_io.cc:89] PNG warning: iCCP: known incorrect sRGB profile\n"
     ]
    },
    {
     "name": "stdout",
     "output_type": "stream",
     "text": [
      "162/162 [==============================] - 65s 388ms/step - loss: 0.8289 - accuracy: 0.7164 - val_loss: 1.2332 - val_accuracy: 0.6157\n",
      "Epoch 22/100\n",
      "130/162 [=======================>......] - ETA: 9s - loss: 0.7530 - accuracy: 0.7387 "
     ]
    },
    {
     "name": "stderr",
     "output_type": "stream",
     "text": [
      "2025-01-19 09:50:39.432413: W tensorflow/core/lib/png/png_io.cc:89] PNG warning: iCCP: known incorrect sRGB profile\n"
     ]
    },
    {
     "name": "stdout",
     "output_type": "stream",
     "text": [
      "162/162 [==============================] - 61s 366ms/step - loss: 0.7410 - accuracy: 0.7415 - val_loss: 1.2639 - val_accuracy: 0.5988\n",
      "Epoch 23/100\n",
      "130/162 [=======================>......] - ETA: 9s - loss: 0.7568 - accuracy: 0.7392 "
     ]
    },
    {
     "name": "stderr",
     "output_type": "stream",
     "text": [
      "2025-01-19 09:51:41.318460: W tensorflow/core/lib/png/png_io.cc:89] PNG warning: iCCP: known incorrect sRGB profile\n"
     ]
    },
    {
     "name": "stdout",
     "output_type": "stream",
     "text": [
      "162/162 [==============================] - 62s 370ms/step - loss: 0.7362 - accuracy: 0.7442 - val_loss: 1.2846 - val_accuracy: 0.6073\n",
      "Epoch 24/100\n",
      "130/162 [=======================>......] - ETA: 9s - loss: 0.7107 - accuracy: 0.7555 "
     ]
    },
    {
     "name": "stderr",
     "output_type": "stream",
     "text": [
      "2025-01-19 09:52:43.043565: W tensorflow/core/lib/png/png_io.cc:89] PNG warning: iCCP: known incorrect sRGB profile\n"
     ]
    },
    {
     "name": "stdout",
     "output_type": "stream",
     "text": [
      "162/162 [==============================] - 61s 367ms/step - loss: 0.6983 - accuracy: 0.7575 - val_loss: 1.1779 - val_accuracy: 0.6350\n",
      "Epoch 25/100\n",
      "130/162 [=======================>......] - ETA: 10s - loss: 0.6741 - accuracy: 0.7579"
     ]
    },
    {
     "name": "stderr",
     "output_type": "stream",
     "text": [
      "2025-01-19 09:53:45.679416: W tensorflow/core/lib/png/png_io.cc:89] PNG warning: iCCP: known incorrect sRGB profile\n"
     ]
    },
    {
     "name": "stdout",
     "output_type": "stream",
     "text": [
      "162/162 [==============================] - 63s 377ms/step - loss: 0.6686 - accuracy: 0.7633 - val_loss: 1.5170 - val_accuracy: 0.5756\n",
      "Epoch 26/100\n",
      "130/162 [=======================>......] - ETA: 9s - loss: 0.6820 - accuracy: 0.7700 "
     ]
    },
    {
     "name": "stderr",
     "output_type": "stream",
     "text": [
      "2025-01-19 09:54:46.794892: W tensorflow/core/lib/png/png_io.cc:89] PNG warning: iCCP: known incorrect sRGB profile\n"
     ]
    },
    {
     "name": "stdout",
     "output_type": "stream",
     "text": [
      "162/162 [==============================] - 61s 364ms/step - loss: 0.6609 - accuracy: 0.7753 - val_loss: 1.3132 - val_accuracy: 0.5995\n",
      "Epoch 26: early stopping\n",
      "Restoring model weights from the end of the best epoch: 18.\n",
      "1/1 [==============================] - 0s 114ms/step\n",
      "1/1 [==============================] - 0s 23ms/step\n",
      "1/1 [==============================] - 0s 25ms/step\n",
      "1/1 [==============================] - 0s 19ms/step\n",
      "1/1 [==============================] - 0s 19ms/step\n",
      "1/1 [==============================] - 0s 18ms/step\n",
      "1/1 [==============================] - 0s 18ms/step\n",
      "1/1 [==============================] - 0s 17ms/step\n",
      "1/1 [==============================] - 0s 18ms/step\n",
      "1/1 [==============================] - 0s 20ms/step\n",
      "1/1 [==============================] - 0s 18ms/step\n",
      "1/1 [==============================] - 0s 18ms/step\n",
      "1/1 [==============================] - 0s 17ms/step\n",
      "1/1 [==============================] - 0s 20ms/step\n",
      "1/1 [==============================] - 0s 17ms/step\n",
      "1/1 [==============================] - 0s 17ms/step\n",
      "1/1 [==============================] - 0s 19ms/step\n",
      "1/1 [==============================] - 0s 17ms/step\n",
      "1/1 [==============================] - 0s 18ms/step\n",
      "1/1 [==============================] - 0s 19ms/step\n",
      "1/1 [==============================] - 0s 27ms/step\n",
      "1/1 [==============================] - 0s 20ms/step\n",
      "1/1 [==============================] - 0s 17ms/step\n",
      "1/1 [==============================] - 0s 20ms/step\n",
      "1/1 [==============================] - 0s 18ms/step\n",
      "1/1 [==============================] - 0s 22ms/step\n",
      "1/1 [==============================] - 0s 28ms/step\n",
      "1/1 [==============================] - 0s 18ms/step\n",
      "1/1 [==============================] - 0s 23ms/step\n",
      "1/1 [==============================] - 0s 21ms/step\n",
      "1/1 [==============================] - 0s 19ms/step\n",
      "1/1 [==============================] - 0s 28ms/step\n",
      "1/1 [==============================] - 0s 23ms/step\n",
      "1/1 [==============================] - 0s 16ms/step\n",
      "1/1 [==============================] - 0s 16ms/step\n",
      "1/1 [==============================] - 0s 16ms/step\n",
      "1/1 [==============================] - 0s 17ms/step\n",
      "1/1 [==============================] - 0s 17ms/step\n",
      "1/1 [==============================] - 0s 17ms/step\n",
      "1/1 [==============================] - 0s 16ms/step\n",
      "1/1 [==============================] - 0s 71ms/step\n",
      "Confusion Matrix: \n"
     ]
    },
    {
     "name": "stderr",
     "output_type": "stream",
     "text": [
      "2025-01-19 09:55:16.140178: I tensorflow/core/framework/local_rendezvous.cc:405] Local rendezvous is aborting with status: OUT_OF_RANGE: End of sequence\n"
     ]
    },
    {
     "name": "stdout",
     "output_type": "stream",
     "text": [
      "Accuracy Score:  0.6242283950617284\n"
     ]
    },
    {
     "data": {
      "image/png": "[encoded data removed]",
      "text/plain": [
       "<Figure size 800x800 with 2 Axes>"
      ]
     },
     "metadata": {},
     "output_type": "display_data"
    },
    {
     "data": {
      "image/png": "[encoded data removed]",
      "text/plain": [
       "<Figure size 800x800 with 2 Axes>"
      ]
     },
     "metadata": {},
     "output_type": "display_data"
    }
   ],
   "source": [
    "#%%\n",
    "\n",
    "import tensorflow as tf\n",
    "import tf_keras\n",
    "import matplotlib.pyplot as plt\n",
    "import seaborn as sns\n",
    "import numpy as np\n",
    "from tf_keras import layers\n",
    "from tf_keras.models import Sequential\n",
    "from sklearn.metrics import confusion_matrix, accuracy_score\n",
    "from tf_keras.preprocessing.image import ImageDataGenerator\n",
    "from tf_keras.optimizers import Adam\n",
    "\n",
    "gpu_devices = tf.config.list_physical_devices('GPU')\n",
    "if gpu_devices:\n",
    "  tf.config.experimental.set_memory_growth(gpu_devices[0], True)\n",
    "  print('GPU found', gpu_devices[0])\n",
    "else:\n",
    "  print('No GPU found')\n",
    "\n",
    "#define image size\n",
    "IMG_SIZE = 224\n",
    "\n",
    "#define batch size\n",
    "BATCH_SIZE = 32\n",
    "\n",
    "#training and valdiation directories\n",
    "TRAINING_DIR = \"Train\"\n",
    "\n",
    "# Create a function for preprocessing images\n",
    "def process_image_mobilenet(image_path):\n",
    "  image = tf.io.read_file(image_path) # Turn the jpeg image into numerical Tensor with 3 colour channels (Red, Green, Blue)\n",
    "  image = tf.image.decode_jpeg(image, channels = 3) # Convert the colour channel values from 0-255 to 0-1 values\n",
    "  image = tf.image.convert_image_dtype(image, tf.float32)# Resize the image to our desired value (224, 224)\n",
    "  image = tf.image.resize(image, size=[IMG_SIZE, IMG_SIZE])\n",
    "\n",
    "  return image\n",
    "  \n",
    "#training split\n",
    "train_ds = tf_keras.utils.image_dataset_from_directory(\n",
    "  TRAINING_DIR,\n",
    "  labels = \"inferred\",\n",
    "  image_size = (IMG_SIZE, IMG_SIZE),\n",
    "  batch_size = BATCH_SIZE,\n",
    "  subset = \"training\",\n",
    "  validation_split = 0.2,\n",
    "  seed = 225\n",
    ")\n",
    "\n",
    "#validation split, taken directly from the same directory as train\n",
    "validation_ds = tf_keras.utils.image_dataset_from_directory(\n",
    "  TRAINING_DIR,\n",
    "  labels = \"inferred\",\n",
    "  image_size = (IMG_SIZE, IMG_SIZE),\n",
    "  batch_size = BATCH_SIZE,\n",
    "  subset = 'validation',\n",
    "  validation_split = 0.2,\n",
    "  seed = 225\n",
    ")\n",
    "\n",
    "CLASS_NAMES = train_ds.class_names\n",
    "\n",
    "data_augmentation = Sequential([\n",
    "  layers.experimental.preprocessing.RandomFlip('horizontal'),\n",
    "  layers.experimental.preprocessing.RandomRotation(0.2),\n",
    "  layers.experimental.preprocessing.RandomZoom(0.2) \n",
    "])\n",
    "\n",
    "def augment_images(image, label):\n",
    "  image = data_augmentation(image)\n",
    "  return image, label\n",
    "\n",
    "train_ds = train_ds.map(augment_images)\n",
    "\n",
    "AUTOTUNE = tf.data.AUTOTUNE\n",
    "train_ds = train_ds.prefetch(buffer_size = AUTOTUNE)\n",
    "val_ds = validation_ds.cache().prefetch(buffer_size = AUTOTUNE)\n",
    "\n",
    "norm_layer = layers.Rescaling(1./255)\n",
    "norm_ds = train_ds.map(lambda x, y: (norm_layer(x), y))\n",
    "image_batch, labels_batch = next(iter(norm_ds))\n",
    "\n",
    "num_classes = len(CLASS_NAMES)\n",
    "\n",
    "#training model\n",
    "model = Sequential([\n",
    "  layers.Conv2D(128, (3, 3), activation = 'relu', input_shape = (224, 224, 3)),\n",
    "  layers.MaxPooling2D(2, 2),\n",
    "  layers.Conv2D(128, (3, 3), activation = 'relu'),\n",
    "  layers.MaxPooling2D(2, 2),\n",
    "  layers.Conv2D(256, (3, 3), activation = 'relu'),\n",
    "  layers.MaxPooling2D(2, 2),\n",
    "  layers.Conv2D(256, (3, 3), activation = 'relu'),\n",
    "  layers.MaxPooling2D(2, 2),\n",
    "  layers.Conv2D(512, (3, 3), activation = 'relu'),\n",
    "  layers.MaxPooling2D(2, 2),\n",
    "  layers.Conv2D(512, (3, 3), activation = 'relu'),\n",
    "  layers.MaxPooling2D(2, 2),\n",
    "  layers.Flatten(),\n",
    "  layers.Dense(1024, activation = 'relu'),\n",
    "  layers.Dropout(0.25),\n",
    "  layers.Dense(num_classes, activation = 'softmax')\n",
    "])\n",
    "\n",
    "model.compile(optimizer = Adam(learning_rate = 0.0001, weight_decay = 1e-6), \n",
    "              loss = tf_keras.losses.SparseCategoricalCrossentropy(from_logits = True), \n",
    "              metrics = ['accuracy'])\n",
    "\n",
    "#no of epochs\n",
    "epochs = 100\n",
    "\n",
    "#early stopping\n",
    "early_stopping = tf_keras.callbacks.EarlyStopping(monitor = 'val_loss', \n",
    "                                                  mode = 'min', \n",
    "                                                  verbose = 1, \n",
    "                                                  patience = 8, \n",
    "                                                  restore_best_weights = True)\n",
    "\n",
    "#fitting of the model\n",
    "history = model.fit(train_ds, \n",
    "                    validation_data = validation_ds, \n",
    "                    epochs = epochs, \n",
    "                    callbacks = [early_stopping])\n",
    "\n",
    "#accuracy and loss values\n",
    "accuracy = history.history['accuracy']\n",
    "val_accuracy = history.history[('val_accuracy')]\n",
    "\n",
    "loss = history.history['loss']\n",
    "val_loss = history.history['val_loss']\n",
    "\n",
    "epochs_range = range(epochs)\n",
    "\n",
    "true_labels = []\n",
    "predicted_labels = []\n",
    "\n",
    "for images, labels in val_ds:\n",
    "  true_labels.extend(labels.numpy())\n",
    "  pred = model.predict(images)\n",
    "  predicted_labels.extend(np.argmax(pred, axis = 1))\n",
    "\n",
    "confusion_matrix = confusion_matrix(true_labels, predicted_labels)\n",
    "accuracy_score = accuracy_score(true_labels, predicted_labels)\n",
    "\n",
    "print('Confusion Matrix: ')\n",
    "plt.figure(figsize=(8, 8))\n",
    "sns.heatmap(confusion_matrix, annot = True, fmt = 'd', xticklabels = CLASS_NAMES, yticklabels = CLASS_NAMES, cmap = 'Blues')\n",
    "plt.xlabel('Predicted')\n",
    "plt.ylabel('True')\n",
    "plt.title('Confusion Matrix')\n",
    "\n",
    "print('Accuracy Score: ', accuracy_score)\n",
    "\n",
    "plt.figure(figsize = (8, 8))\n",
    "plt.subplot(1, 2, 1)\n",
    "plt.plot(accuracy, label = 'Training Accuracy')\n",
    "plt.plot(val_accuracy, label = 'Validation Accuracy')\n",
    "plt.legend(loc = 'lower right')\n",
    "plt.title('Training and Validation Accuracy')\n",
    "\n",
    "plt.subplot(1, 2, 2)\n",
    "plt.plot(loss, label = 'Training Loss')\n",
    "plt.plot(val_loss, label = 'Validation Loss')\n",
    "plt.legend(loc = 'upper right')\n",
    "plt.title('Training and Validation Loss')\n",
    "plt.show()"
   ]
  },
  {
   "cell_type": "code",
   "execution_count": null,
   "id": "1f8046b2-609a-4682-86d0-a7e7d470990a",
   "metadata": {},
   "outputs": [
    {
     "name": "stdout",
     "output_type": "stream",
     "text": [
      "GPU found PhysicalDevice(name='/physical_device:GPU:0', device_type='GPU')\n",
      "Found 6480 files belonging to 10 classes.\n",
      "Using 5184 files for training.\n",
      "Found 6480 files belonging to 10 classes.\n",
      "Using 1296 files for validation.\n",
      "Epoch 1/100\n"
     ]
    },
    {
     "name": "stderr",
     "output_type": "stream",
     "text": [
      "/home/adiicmp/GitHub Repos/Python/.venv/lib/python3.12/site-packages/tf_keras/src/backend.py:5729: UserWarning: \"`sparse_categorical_crossentropy` received `from_logits=True`, but the `output` argument was produced by a Softmax activation and thus does not represent logits. Was this intended?\n",
      "  output, from_logits = _get_logits(\n"
     ]
    },
    {
     "name": "stdout",
     "output_type": "stream",
     "text": [
      " 53/162 [========>.....................] - ETA: 34s - loss: 2.8223 - accuracy: 0.1551"
     ]
    },
    {
     "ename": "KeyboardInterrupt",
     "evalue": "",
     "output_type": "error",
     "traceback": [
      "\u001b[0;31m---------------------------------------------------------------------------\u001b[0m",
      "\u001b[0;31mKeyboardInterrupt\u001b[0m                         Traceback (most recent call last)",
      "File \u001b[1;32m/home/adiicmp/GitHub Repos/Python/UNSTPB/Year IV/Semester 1/Neural Networks and Genetic Algorithms Project/Project/training.py:109\u001b[0m\n\u001b[1;32m    102\u001b[0m early_stopping \u001b[39m=\u001b[39m tf_keras\u001b[39m.\u001b[39mcallbacks\u001b[39m.\u001b[39mEarlyStopping(monitor \u001b[39m=\u001b[39m \u001b[39m'\u001b[39m\u001b[39mval_loss\u001b[39m\u001b[39m'\u001b[39m, \n\u001b[1;32m    103\u001b[0m                                                   mode \u001b[39m=\u001b[39m \u001b[39m'\u001b[39m\u001b[39mmin\u001b[39m\u001b[39m'\u001b[39m, \n\u001b[1;32m    104\u001b[0m                                                   verbose \u001b[39m=\u001b[39m \u001b[39m1\u001b[39m, \n\u001b[1;32m    105\u001b[0m                                                   patience \u001b[39m=\u001b[39m \u001b[39m8\u001b[39m, \n\u001b[1;32m    106\u001b[0m                                                   restore_best_weights \u001b[39m=\u001b[39m \u001b[39mTrue\u001b[39;00m)\n\u001b[1;32m    108\u001b[0m \u001b[39m#fitting of the model\u001b[39;00m\n\u001b[0;32m--> 109\u001b[0m history \u001b[39m=\u001b[39m model\u001b[39m.\u001b[39;49mfit(train_ds, \n\u001b[1;32m    110\u001b[0m                     validation_data \u001b[39m=\u001b[39;49m validation_ds, \n\u001b[1;32m    111\u001b[0m                     epochs \u001b[39m=\u001b[39;49m epochs, \n\u001b[1;32m    112\u001b[0m                     callbacks \u001b[39m=\u001b[39;49m [early_stopping])\n\u001b[1;32m    114\u001b[0m \u001b[39m#accuracy and loss values\u001b[39;00m\n\u001b[1;32m    115\u001b[0m accuracy \u001b[39m=\u001b[39m history\u001b[39m.\u001b[39mhistory[\u001b[39m'\u001b[39m\u001b[39maccuracy\u001b[39m\u001b[39m'\u001b[39m]\n",
      "File \u001b[0;32m~/GitHub Repos/Python/.venv/lib/python3.12/site-packages/tf_keras/src/utils/traceback_utils.py:65\u001b[0m, in \u001b[0;36mfilter_traceback.<locals>.error_handler\u001b[0;34m(*args, **kwargs)\u001b[0m\n\u001b[1;32m     63\u001b[0m filtered_tb \u001b[39m=\u001b[39m \u001b[39mNone\u001b[39;00m\n\u001b[1;32m     64\u001b[0m \u001b[39mtry\u001b[39;00m:\n\u001b[0;32m---> 65\u001b[0m     \u001b[39mreturn\u001b[39;00m fn(\u001b[39m*\u001b[39;49margs, \u001b[39m*\u001b[39;49m\u001b[39m*\u001b[39;49mkwargs)\n\u001b[1;32m     66\u001b[0m \u001b[39mexcept\u001b[39;00m \u001b[39mException\u001b[39;00m \u001b[39mas\u001b[39;00m e:\n\u001b[1;32m     67\u001b[0m     filtered_tb \u001b[39m=\u001b[39m _process_traceback_frames(e\u001b[39m.\u001b[39m__traceback__)\n",
      "File \u001b[0;32m~/GitHub Repos/Python/.venv/lib/python3.12/site-packages/tf_keras/src/engine/training.py:1810\u001b[0m, in \u001b[0;36mModel.fit\u001b[0;34m(self, x, y, batch_size, epochs, verbose, callbacks, validation_split, validation_data, shuffle, class_weight, sample_weight, initial_epoch, steps_per_epoch, validation_steps, validation_batch_size, validation_freq, max_queue_size, workers, use_multiprocessing)\u001b[0m\n\u001b[1;32m   1808\u001b[0m logs \u001b[39m=\u001b[39m tmp_logs\n\u001b[1;32m   1809\u001b[0m end_step \u001b[39m=\u001b[39m step \u001b[39m+\u001b[39m data_handler\u001b[39m.\u001b[39mstep_increment\n\u001b[0;32m-> 1810\u001b[0m callbacks\u001b[39m.\u001b[39;49mon_train_batch_end(end_step, logs)\n\u001b[1;32m   1811\u001b[0m \u001b[39mif\u001b[39;00m \u001b[39mself\u001b[39m\u001b[39m.\u001b[39mstop_training:\n\u001b[1;32m   1812\u001b[0m     \u001b[39mbreak\u001b[39;00m\n",
      "File \u001b[0;32m~/GitHub Repos/Python/.venv/lib/python3.12/site-packages/tf_keras/src/callbacks.py:478\u001b[0m, in \u001b[0;36mCallbackList.on_train_batch_end\u001b[0;34m(self, batch, logs)\u001b[0m\n\u001b[1;32m    471\u001b[0m \u001b[39m\u001b[39m\u001b[39m\"\"\"Calls the `on_train_batch_end` methods of its callbacks.\u001b[39;00m\n\u001b[1;32m    472\u001b[0m \n\u001b[1;32m    473\u001b[0m \u001b[39mArgs:\u001b[39;00m\n\u001b[1;32m    474\u001b[0m \u001b[39m    batch: Integer, index of batch within the current epoch.\u001b[39;00m\n\u001b[1;32m    475\u001b[0m \u001b[39m    logs: Dict. Aggregated metric results up until this batch.\u001b[39;00m\n\u001b[1;32m    476\u001b[0m \u001b[39m\"\"\"\u001b[39;00m\n\u001b[1;32m    477\u001b[0m \u001b[39mif\u001b[39;00m \u001b[39mself\u001b[39m\u001b[39m.\u001b[39m_should_call_train_batch_hooks:\n\u001b[0;32m--> 478\u001b[0m     \u001b[39mself\u001b[39;49m\u001b[39m.\u001b[39;49m_call_batch_hook(ModeKeys\u001b[39m.\u001b[39;49mTRAIN, \u001b[39m\"\u001b[39;49m\u001b[39mend\u001b[39;49m\u001b[39m\"\u001b[39;49m, batch, logs\u001b[39m=\u001b[39;49mlogs)\n",
      "File \u001b[0;32m~/GitHub Repos/Python/.venv/lib/python3.12/site-packages/tf_keras/src/callbacks.py:325\u001b[0m, in \u001b[0;36mCallbackList._call_batch_hook\u001b[0;34m(self, mode, hook, batch, logs)\u001b[0m\n\u001b[1;32m    323\u001b[0m     \u001b[39mself\u001b[39m\u001b[39m.\u001b[39m_call_batch_begin_hook(mode, batch, logs)\n\u001b[1;32m    324\u001b[0m \u001b[39melif\u001b[39;00m hook \u001b[39m==\u001b[39m \u001b[39m\"\u001b[39m\u001b[39mend\u001b[39m\u001b[39m\"\u001b[39m:\n\u001b[0;32m--> 325\u001b[0m     \u001b[39mself\u001b[39;49m\u001b[39m.\u001b[39;49m_call_batch_end_hook(mode, batch, logs)\n\u001b[1;32m    326\u001b[0m \u001b[39melse\u001b[39;00m:\n\u001b[1;32m    327\u001b[0m     \u001b[39mraise\u001b[39;00m \u001b[39mValueError\u001b[39;00m(\n\u001b[1;32m    328\u001b[0m         \u001b[39mf\u001b[39m\u001b[39m\"\u001b[39m\u001b[39mUnrecognized hook: \u001b[39m\u001b[39m{\u001b[39;00mhook\u001b[39m}\u001b[39;00m\u001b[39m. \u001b[39m\u001b[39m\"\u001b[39m\n\u001b[1;32m    329\u001b[0m         \u001b[39m'\u001b[39m\u001b[39mExpected values are [\u001b[39m\u001b[39m\"\u001b[39m\u001b[39mbegin\u001b[39m\u001b[39m\"\u001b[39m\u001b[39m, \u001b[39m\u001b[39m\"\u001b[39m\u001b[39mend\u001b[39m\u001b[39m\"\u001b[39m\u001b[39m]\u001b[39m\u001b[39m'\u001b[39m\n\u001b[1;32m    330\u001b[0m     )\n",
      "File \u001b[0;32m~/GitHub Repos/Python/.venv/lib/python3.12/site-packages/tf_keras/src/callbacks.py:348\u001b[0m, in \u001b[0;36mCallbackList._call_batch_end_hook\u001b[0;34m(self, mode, batch, logs)\u001b[0m\n\u001b[1;32m    345\u001b[0m     batch_time \u001b[39m=\u001b[39m time\u001b[39m.\u001b[39mtime() \u001b[39m-\u001b[39m \u001b[39mself\u001b[39m\u001b[39m.\u001b[39m_batch_start_time\n\u001b[1;32m    346\u001b[0m     \u001b[39mself\u001b[39m\u001b[39m.\u001b[39m_batch_times\u001b[39m.\u001b[39mappend(batch_time)\n\u001b[0;32m--> 348\u001b[0m \u001b[39mself\u001b[39;49m\u001b[39m.\u001b[39;49m_call_batch_hook_helper(hook_name, batch, logs)\n\u001b[1;32m    350\u001b[0m \u001b[39mif\u001b[39;00m \u001b[39mlen\u001b[39m(\u001b[39mself\u001b[39m\u001b[39m.\u001b[39m_batch_times) \u001b[39m>\u001b[39m\u001b[39m=\u001b[39m \u001b[39mself\u001b[39m\u001b[39m.\u001b[39m_num_batches_for_timing_check:\n\u001b[1;32m    351\u001b[0m     end_hook_name \u001b[39m=\u001b[39m hook_name\n",
      "File \u001b[0;32m~/GitHub Repos/Python/.venv/lib/python3.12/site-packages/tf_keras/src/callbacks.py:396\u001b[0m, in \u001b[0;36mCallbackList._call_batch_hook_helper\u001b[0;34m(self, hook_name, batch, logs)\u001b[0m\n\u001b[1;32m    394\u001b[0m \u001b[39mfor\u001b[39;00m callback \u001b[39min\u001b[39;00m \u001b[39mself\u001b[39m\u001b[39m.\u001b[39mcallbacks:\n\u001b[1;32m    395\u001b[0m     hook \u001b[39m=\u001b[39m \u001b[39mgetattr\u001b[39m(callback, hook_name)\n\u001b[0;32m--> 396\u001b[0m     hook(batch, logs)\n\u001b[1;32m    398\u001b[0m \u001b[39mif\u001b[39;00m \u001b[39mself\u001b[39m\u001b[39m.\u001b[39m_check_timing:\n\u001b[1;32m    399\u001b[0m     \u001b[39mif\u001b[39;00m hook_name \u001b[39mnot\u001b[39;00m \u001b[39min\u001b[39;00m \u001b[39mself\u001b[39m\u001b[39m.\u001b[39m_hook_times:\n",
      "File \u001b[0;32m~/GitHub Repos/Python/.venv/lib/python3.12/site-packages/tf_keras/src/callbacks.py:1097\u001b[0m, in \u001b[0;36mProgbarLogger.on_train_batch_end\u001b[0;34m(self, batch, logs)\u001b[0m\n\u001b[1;32m   1096\u001b[0m \u001b[39mdef\u001b[39;00m\u001b[39m \u001b[39m\u001b[39mon_train_batch_end\u001b[39m(\u001b[39mself\u001b[39m, batch, logs\u001b[39m=\u001b[39m\u001b[39mNone\u001b[39;00m):\n\u001b[0;32m-> 1097\u001b[0m     \u001b[39mself\u001b[39;49m\u001b[39m.\u001b[39;49m_batch_update_progbar(batch, logs)\n",
      "File \u001b[0;32m~/GitHub Repos/Python/.venv/lib/python3.12/site-packages/tf_keras/src/callbacks.py:1173\u001b[0m, in \u001b[0;36mProgbarLogger._batch_update_progbar\u001b[0;34m(self, batch, logs)\u001b[0m\n\u001b[1;32m   1169\u001b[0m     \u001b[39mself\u001b[39m\u001b[39m.\u001b[39mseen \u001b[39m+\u001b[39m\u001b[39m=\u001b[39m add_seen\n\u001b[1;32m   1171\u001b[0m \u001b[39mif\u001b[39;00m \u001b[39mself\u001b[39m\u001b[39m.\u001b[39mverbose \u001b[39m==\u001b[39m \u001b[39m1\u001b[39m:\n\u001b[1;32m   1172\u001b[0m     \u001b[39m# Only block async when verbose = 1.\u001b[39;00m\n\u001b[0;32m-> 1173\u001b[0m     logs \u001b[39m=\u001b[39m tf_utils\u001b[39m.\u001b[39;49msync_to_numpy_or_python_type(logs)\n\u001b[1;32m   1174\u001b[0m     \u001b[39mself\u001b[39m\u001b[39m.\u001b[39mprogbar\u001b[39m.\u001b[39mupdate(\u001b[39mself\u001b[39m\u001b[39m.\u001b[39mseen, \u001b[39mlist\u001b[39m(logs\u001b[39m.\u001b[39mitems()), finalize\u001b[39m=\u001b[39m\u001b[39mFalse\u001b[39;00m)\n",
      "File \u001b[0;32m~/GitHub Repos/Python/.venv/lib/python3.12/site-packages/tf_keras/src/utils/tf_utils.py:694\u001b[0m, in \u001b[0;36msync_to_numpy_or_python_type\u001b[0;34m(tensors)\u001b[0m\n\u001b[1;32m    691\u001b[0m         \u001b[39mreturn\u001b[39;00m t\n\u001b[1;32m    692\u001b[0m     \u001b[39mreturn\u001b[39;00m t\u001b[39m.\u001b[39mitem() \u001b[39mif\u001b[39;00m np\u001b[39m.\u001b[39mndim(t) \u001b[39m==\u001b[39m \u001b[39m0\u001b[39m \u001b[39melse\u001b[39;00m t\n\u001b[0;32m--> 694\u001b[0m \u001b[39mreturn\u001b[39;00m tf\u001b[39m.\u001b[39;49mnest\u001b[39m.\u001b[39;49mmap_structure(_to_single_numpy_or_python_type, tensors)\n",
      "File \u001b[0;32m~/GitHub Repos/Python/.venv/lib/python3.12/site-packages/tensorflow/python/util/nest.py:628\u001b[0m, in \u001b[0;36mmap_structure\u001b[0;34m(func, *structure, **kwargs)\u001b[0m\n\u001b[1;32m    542\u001b[0m \u001b[39m@tf_export\u001b[39m(\u001b[39m\"\u001b[39m\u001b[39mnest.map_structure\u001b[39m\u001b[39m\"\u001b[39m)\n\u001b[1;32m    543\u001b[0m \u001b[39mdef\u001b[39;00m\u001b[39m \u001b[39m\u001b[39mmap_structure\u001b[39m(func, \u001b[39m*\u001b[39mstructure, \u001b[39m*\u001b[39m\u001b[39m*\u001b[39mkwargs):\n\u001b[1;32m    544\u001b[0m \u001b[39m  \u001b[39m\u001b[39m\"\"\"Creates a new structure by applying `func` to each atom in `structure`.\u001b[39;00m\n\u001b[1;32m    545\u001b[0m \n\u001b[1;32m    546\u001b[0m \u001b[39m  Refer to [tf.nest](https://www.tensorflow.org/api_docs/python/tf/nest)\u001b[39;00m\n\u001b[0;32m   (...)\u001b[0m\n\u001b[1;32m    626\u001b[0m \u001b[39m    ValueError: If wrong keyword arguments are provided.\u001b[39;00m\n\u001b[1;32m    627\u001b[0m \u001b[39m  \"\"\"\u001b[39;00m\n\u001b[0;32m--> 628\u001b[0m   \u001b[39mreturn\u001b[39;00m nest_util\u001b[39m.\u001b[39;49mmap_structure(\n\u001b[1;32m    629\u001b[0m       nest_util\u001b[39m.\u001b[39;49mModality\u001b[39m.\u001b[39;49mCORE, func, \u001b[39m*\u001b[39;49mstructure, \u001b[39m*\u001b[39;49m\u001b[39m*\u001b[39;49mkwargs\n\u001b[1;32m    630\u001b[0m   )\n",
      "File \u001b[0;32m~/GitHub Repos/Python/.venv/lib/python3.12/site-packages/tensorflow/python/util/nest_util.py:1065\u001b[0m, in \u001b[0;36mmap_structure\u001b[0;34m(modality, func, *structure, **kwargs)\u001b[0m\n\u001b[1;32m    968\u001b[0m \u001b[39m\u001b[39m\u001b[39m\"\"\"Creates a new structure by applying `func` to each atom in `structure`.\u001b[39;00m\n\u001b[1;32m    969\u001b[0m \n\u001b[1;32m    970\u001b[0m \u001b[39m- For Modality.CORE: Refer to\u001b[39;00m\n\u001b[0;32m   (...)\u001b[0m\n\u001b[1;32m   1062\u001b[0m \u001b[39m  ValueError: If wrong keyword arguments are provided.\u001b[39;00m\n\u001b[1;32m   1063\u001b[0m \u001b[39m\"\"\"\u001b[39;00m\n\u001b[1;32m   1064\u001b[0m \u001b[39mif\u001b[39;00m modality \u001b[39m==\u001b[39m Modality\u001b[39m.\u001b[39mCORE:\n\u001b[0;32m-> 1065\u001b[0m   \u001b[39mreturn\u001b[39;00m _tf_core_map_structure(func, \u001b[39m*\u001b[39;49mstructure, \u001b[39m*\u001b[39;49m\u001b[39m*\u001b[39;49mkwargs)\n\u001b[1;32m   1066\u001b[0m \u001b[39melif\u001b[39;00m modality \u001b[39m==\u001b[39m Modality\u001b[39m.\u001b[39mDATA:\n\u001b[1;32m   1067\u001b[0m   \u001b[39mreturn\u001b[39;00m _tf_data_map_structure(func, \u001b[39m*\u001b[39mstructure, \u001b[39m*\u001b[39m\u001b[39m*\u001b[39mkwargs)\n",
      "File \u001b[0;32m~/GitHub Repos/Python/.venv/lib/python3.12/site-packages/tensorflow/python/util/nest_util.py:1105\u001b[0m, in \u001b[0;36m_tf_core_map_structure\u001b[0;34m(func, *structure, **kwargs)\u001b[0m\n\u001b[1;32m   1100\u001b[0m flat_structure \u001b[39m=\u001b[39m (_tf_core_flatten(s, expand_composites) \u001b[39mfor\u001b[39;00m s \u001b[39min\u001b[39;00m structure)\n\u001b[1;32m   1101\u001b[0m entries \u001b[39m=\u001b[39m \u001b[39mzip\u001b[39m(\u001b[39m*\u001b[39mflat_structure)\n\u001b[1;32m   1103\u001b[0m \u001b[39mreturn\u001b[39;00m _tf_core_pack_sequence_as(\n\u001b[1;32m   1104\u001b[0m     structure[\u001b[39m0\u001b[39m],\n\u001b[0;32m-> 1105\u001b[0m     [func(\u001b[39m*\u001b[39;49mx) \u001b[39mfor\u001b[39;00m x \u001b[39min\u001b[39;00m entries],\n\u001b[1;32m   1106\u001b[0m     expand_composites\u001b[39m=\u001b[39mexpand_composites,\n\u001b[1;32m   1107\u001b[0m )\n",
      "File \u001b[0;32m~/GitHub Repos/Python/.venv/lib/python3.12/site-packages/tf_keras/src/utils/tf_utils.py:687\u001b[0m, in \u001b[0;36msync_to_numpy_or_python_type.<locals>._to_single_numpy_or_python_type\u001b[0;34m(t)\u001b[0m\n\u001b[1;32m    684\u001b[0m \u001b[39mdef\u001b[39;00m\u001b[39m \u001b[39m\u001b[39m_to_single_numpy_or_python_type\u001b[39m(t):\n\u001b[1;32m    685\u001b[0m     \u001b[39m# Don't turn ragged or sparse tensors to NumPy.\u001b[39;00m\n\u001b[1;32m    686\u001b[0m     \u001b[39mif\u001b[39;00m \u001b[39misinstance\u001b[39m(t, tf\u001b[39m.\u001b[39mTensor):\n\u001b[0;32m--> 687\u001b[0m         t \u001b[39m=\u001b[39m t\u001b[39m.\u001b[39;49mnumpy()\n\u001b[1;32m    688\u001b[0m     \u001b[39m# Strings, ragged and sparse tensors don't have .item(). Return them\u001b[39;00m\n\u001b[1;32m    689\u001b[0m     \u001b[39m# as-is.\u001b[39;00m\n\u001b[1;32m    690\u001b[0m     \u001b[39mif\u001b[39;00m \u001b[39mnot\u001b[39;00m \u001b[39misinstance\u001b[39m(t, (np\u001b[39m.\u001b[39mndarray, np\u001b[39m.\u001b[39mgeneric)):\n",
      "File \u001b[0;32m~/GitHub Repos/Python/.venv/lib/python3.12/site-packages/tensorflow/python/framework/ops.py:415\u001b[0m, in \u001b[0;36m_EagerTensorBase.numpy\u001b[0;34m(self)\u001b[0m\n\u001b[1;32m    392\u001b[0m \u001b[39m\u001b[39m\u001b[39m\"\"\"Copy of the contents of this Tensor into a NumPy array or scalar.\u001b[39;00m\n\u001b[1;32m    393\u001b[0m \n\u001b[1;32m    394\u001b[0m \u001b[39mUnlike NumPy arrays, Tensors are immutable, so this method has to copy\u001b[39;00m\n\u001b[0;32m   (...)\u001b[0m\n\u001b[1;32m    412\u001b[0m \u001b[39m    NumPy dtype.\u001b[39;00m\n\u001b[1;32m    413\u001b[0m \u001b[39m\"\"\"\u001b[39;00m\n\u001b[1;32m    414\u001b[0m \u001b[39m# TODO(slebedev): Consider avoiding a copy for non-CPU or remote tensors.\u001b[39;00m\n\u001b[0;32m--> 415\u001b[0m maybe_arr \u001b[39m=\u001b[39m \u001b[39mself\u001b[39;49m\u001b[39m.\u001b[39;49m_numpy()  \u001b[39m# pylint: disable=protected-access\u001b[39;00m\n\u001b[1;32m    416\u001b[0m \u001b[39mreturn\u001b[39;00m maybe_arr\u001b[39m.\u001b[39mcopy() \u001b[39mif\u001b[39;00m \u001b[39misinstance\u001b[39m(maybe_arr, np\u001b[39m.\u001b[39mndarray) \u001b[39melse\u001b[39;00m maybe_arr\n",
      "File \u001b[0;32m~/GitHub Repos/Python/.venv/lib/python3.12/site-packages/tensorflow/python/framework/ops.py:381\u001b[0m, in \u001b[0;36m_EagerTensorBase._numpy\u001b[0;34m(self)\u001b[0m\n\u001b[1;32m    379\u001b[0m \u001b[39mdef\u001b[39;00m\u001b[39m \u001b[39m\u001b[39m_numpy\u001b[39m(\u001b[39mself\u001b[39m) \u001b[39m-\u001b[39m\u001b[39m>\u001b[39m npt\u001b[39m.\u001b[39mArrayLike:\n\u001b[1;32m    380\u001b[0m   \u001b[39mtry\u001b[39;00m:\n\u001b[0;32m--> 381\u001b[0m     \u001b[39mreturn\u001b[39;00m \u001b[39mself\u001b[39;49m\u001b[39m.\u001b[39;49m_numpy_internal()\n\u001b[1;32m    382\u001b[0m   \u001b[39mexcept\u001b[39;00m core\u001b[39m.\u001b[39m_NotOkStatusException \u001b[39mas\u001b[39;00m e:  \u001b[39m# pylint: disable=protected-access\u001b[39;00m\n\u001b[1;32m    383\u001b[0m     \u001b[39mraise\u001b[39;00m core\u001b[39m.\u001b[39m_status_to_exception(e) \u001b[39mfrom\u001b[39;00m\u001b[39m \u001b[39m\u001b[39mNone\u001b[39;00m\n",
      "\u001b[0;31mKeyboardInterrupt\u001b[0m: "
     ]
    }
   ],
   "source": [
    "#%%\n",
    "\n",
    "import tensorflow as tf\n",
    "import tf_keras\n",
    "import matplotlib.pyplot as plt\n",
    "import seaborn as sns\n",
    "import numpy as np\n",
    "from tf_keras import layers\n",
    "from tf_keras.models import Sequential\n",
    "from sklearn.metrics import confusion_matrix, accuracy_score\n",
    "from tf_keras.optimizers import Adam\n",
    "\n",
    "gpu_devices = tf.config.list_physical_devices('GPU')\n",
    "if gpu_devices:\n",
    "  tf.config.experimental.set_memory_growth(gpu_devices[0], True)\n",
    "  print('GPU found', gpu_devices[0])\n",
    "else:\n",
    "  print('No GPU found')\n",
    "\n",
    "#define image size\n",
    "IMG_SIZE = 224\n",
    "\n",
    "#define batch size\n",
    "BATCH_SIZE = 32\n",
    "\n",
    "#training and valdiation directories\n",
    "TRAINING_DIR = \"Train\"\n",
    "  \n",
    "#training split\n",
    "train_ds = tf_keras.utils.image_dataset_from_directory(\n",
    "  TRAINING_DIR,\n",
    "  labels = \"inferred\",\n",
    "  image_size = (IMG_SIZE, IMG_SIZE),\n",
    "  batch_size = BATCH_SIZE,\n",
    "  subset = \"training\",\n",
    "  validation_split = 0.2,\n",
    "  seed = 225\n",
    ")\n",
    "\n",
    "#validation split, taken directly from the same directory as train\n",
    "validation_ds = tf_keras.utils.image_dataset_from_directory(\n",
    "  TRAINING_DIR,\n",
    "  labels = \"inferred\",\n",
    "  image_size = (IMG_SIZE, IMG_SIZE),\n",
    "  batch_size = BATCH_SIZE,\n",
    "  subset = 'validation',\n",
    "  validation_split = 0.2,\n",
    "  seed = 225\n",
    ")\n",
    "\n",
    "CLASS_NAMES = train_ds.class_names\n",
    "\n",
    "data_augmentation = Sequential([\n",
    "  layers.experimental.preprocessing.RandomFlip('horizontal'),\n",
    "  layers.experimental.preprocessing.RandomRotation(0.2),\n",
    "  layers.experimental.preprocessing.RandomZoom(0.2) \n",
    "])\n",
    "\n",
    "def augment_images(image, label):\n",
    "  image = data_augmentation(image)\n",
    "  return image, label\n",
    "\n",
    "train_ds = train_ds.map(augment_images)\n",
    "\n",
    "AUTOTUNE = tf.data.AUTOTUNE\n",
    "train_ds = train_ds.prefetch(buffer_size = AUTOTUNE)\n",
    "val_ds = validation_ds.cache().prefetch(buffer_size = AUTOTUNE)\n",
    "\n",
    "norm_layer = layers.Rescaling(1./255)\n",
    "norm_ds = train_ds.map(lambda x, y: (norm_layer(x), y))\n",
    "image_batch, labels_batch = next(iter(norm_ds))\n",
    "\n",
    "num_classes = len(CLASS_NAMES)\n",
    "\n",
    "#training model\n",
    "model = Sequential([\n",
    "  layers.Conv2D(128, (3, 3), activation = 'relu', input_shape = (224, 224, 3)),\n",
    "  layers.MaxPooling2D(2, 2),\n",
    "  layers.Conv2D(128, (3, 3), activation = 'relu'),\n",
    "  layers.MaxPooling2D(2, 2),\n",
    "  layers.Conv2D(256, (3, 3), activation = 'relu'),\n",
    "  layers.MaxPooling2D(2, 2),\n",
    "  layers.Conv2D(256, (3, 3), activation = 'relu'),\n",
    "  layers.MaxPooling2D(2, 2),\n",
    "  layers.Conv2D(512, (3, 3), activation = 'relu'),\n",
    "  layers.MaxPooling2D(2, 2),\n",
    "  layers.Conv2D(512, (3, 3), activation = 'relu'),\n",
    "  layers.MaxPooling2D(2, 2),\n",
    "  layers.Flatten(),\n",
    "  layers.Dense(1024, activation = 'relu'),\n",
    "  layers.Dropout(0.25),\n",
    "  layers.Dense(num_classes, activation = 'softmax')\n",
    "])\n",
    "\n",
    "model.compile(optimizer = Adam(learning_rate = 0.0001, weight_decay = 1e-6), \n",
    "              loss = tf_keras.losses.SparseCategoricalCrossentropy(from_logits = True), \n",
    "              metrics = ['accuracy'])\n",
    "\n",
    "#no of epochs\n",
    "epochs = 100\n",
    "\n",
    "#early stopping\n",
    "early_stopping = tf_keras.callbacks.EarlyStopping(monitor = 'val_loss', \n",
    "                                                  mode = 'min', \n",
    "                                                  verbose = 1, \n",
    "                                                  patience = 8, \n",
    "                                                  restore_best_weights = True)\n",
    "\n",
    "#fitting of the model\n",
    "history = model.fit(train_ds, \n",
    "                    validation_data = validation_ds, \n",
    "                    epochs = epochs, \n",
    "                    callbacks = [early_stopping])\n",
    "\n",
    "#accuracy and loss values\n",
    "accuracy = history.history['accuracy']\n",
    "val_accuracy = history.history[('val_accuracy')]\n",
    "\n",
    "loss = history.history['loss']\n",
    "val_loss = history.history['val_loss']\n",
    "\n",
    "epochs_range = range(epochs)\n",
    "\n",
    "true_labels = []\n",
    "predicted_labels = []\n",
    "\n",
    "for images, labels in val_ds:\n",
    "  true_labels.extend(labels.numpy())\n",
    "  pred = model.predict(images)\n",
    "  predicted_labels.extend(np.argmax(pred, axis = 1))\n",
    "\n",
    "confusion_matrix = confusion_matrix(true_labels, predicted_labels)\n",
    "accuracy = accuracy_score(true_labels, predicted_labels)\n",
    "\n",
    "print('Confusion Matrix: ')\n",
    "plt.figure(figsize=(8, 8))\n",
    "sns.heatmap(confusion_matrix, annot = True, fmt = 'd', xticklabels = CLASS_NAMES, yticklabels = CLASS_NAMES, cmap = 'Blues')\n",
    "plt.xlabel('Predicted')\n",
    "plt.ylabel('True')\n",
    "plt.title('Confusion Matrix')\n",
    "\n",
    "print('Accuracy: ', accuracy)\n",
    "\n",
    "score = model.evaluate(validation_ds, verbose = 0)\n",
    "print('Test loss:', score[0])\n",
    "print('Test accuracy:', score[1])\n",
    "\n",
    "plt.figure(figsize = (8, 8))\n",
    "plt.subplot(1, 2, 1)\n",
    "plt.plot(accuracy, label = 'Training Accuracy')\n",
    "plt.plot(val_accuracy, label = 'Validation Accuracy')\n",
    "plt.legend(loc = 'lower right')\n",
    "plt.title('Training and Validation Accuracy')\n",
    "\n",
    "plt.subplot(1, 2, 2)\n",
    "plt.plot(loss, label = 'Training Loss')\n",
    "plt.plot(val_loss, label = 'Validation Loss')\n",
    "plt.legend(loc = 'upper right')\n",
    "plt.title('Training and Validation Loss')\n",
    "plt.show()"
   ]
  },
  {
   "cell_type": "code",
   "execution_count": null,
   "id": "3195f3ab-7a6a-48b0-8b00-843471e02a48",
   "metadata": {},
   "outputs": [
    {
     "name": "stdout",
     "output_type": "stream",
     "text": [
      "GPU found PhysicalDevice(name='/physical_device:GPU:0', device_type='GPU')\n",
      "Found 6480 files belonging to 10 classes.\n",
      "Using 5184 files for training.\n",
      "Found 6480 files belonging to 10 classes.\n",
      "Using 1296 files for validation.\n",
      "Epoch 1/100\n",
      "130/162 [=======================>......] - ETA: 10s - loss: 2.4326 - accuracy: 0.2123"
     ]
    },
    {
     "name": "stderr",
     "output_type": "stream",
     "text": [
      "2025-01-19 10:11:47.189948: W tensorflow/core/lib/png/png_io.cc:89] PNG warning: iCCP: known incorrect sRGB profile\n"
     ]
    },
    {
     "name": "stdout",
     "output_type": "stream",
     "text": [
      "162/162 [==============================] - 66s 386ms/step - loss: 2.3465 - accuracy: 0.2247 - val_loss: 2.0019 - val_accuracy: 0.2948\n",
      "Epoch 2/100\n",
      "130/162 [=======================>......] - ETA: 10s - loss: 1.8812 - accuracy: 0.3291"
     ]
    },
    {
     "name": "stderr",
     "output_type": "stream",
     "text": [
      "2025-01-19 10:12:51.062672: W tensorflow/core/lib/png/png_io.cc:89] PNG warning: iCCP: known incorrect sRGB profile\n"
     ]
    },
    {
     "name": "stdout",
     "output_type": "stream",
     "text": [
      "162/162 [==============================] - 63s 375ms/step - loss: 1.8561 - accuracy: 0.3368 - val_loss: 1.6689 - val_accuracy: 0.4113\n",
      "Epoch 3/100\n",
      "130/162 [=======================>......] - ETA: 10s - loss: 1.7322 - accuracy: 0.3825"
     ]
    },
    {
     "name": "stderr",
     "output_type": "stream",
     "text": [
      "2025-01-19 10:13:54.838448: W tensorflow/core/lib/png/png_io.cc:89] PNG warning: iCCP: known incorrect sRGB profile\n"
     ]
    },
    {
     "name": "stdout",
     "output_type": "stream",
     "text": [
      "162/162 [==============================] - 64s 382ms/step - loss: 1.7273 - accuracy: 0.3862 - val_loss: 1.6048 - val_accuracy: 0.4244\n",
      "Epoch 4/100\n",
      "130/162 [=======================>......] - ETA: 10s - loss: 1.6808 - accuracy: 0.4065"
     ]
    },
    {
     "name": "stderr",
     "output_type": "stream",
     "text": [
      "2025-01-19 10:14:58.680265: W tensorflow/core/lib/png/png_io.cc:89] PNG warning: iCCP: known incorrect sRGB profile\n"
     ]
    },
    {
     "name": "stdout",
     "output_type": "stream",
     "text": [
      "162/162 [==============================] - 64s 381ms/step - loss: 1.6569 - accuracy: 0.4144 - val_loss: 1.5575 - val_accuracy: 0.4645\n",
      "Epoch 5/100\n",
      "130/162 [=======================>......] - ETA: 10s - loss: 1.5918 - accuracy: 0.4368"
     ]
    },
    {
     "name": "stderr",
     "output_type": "stream",
     "text": [
      "2025-01-19 10:16:02.558953: W tensorflow/core/lib/png/png_io.cc:89] PNG warning: iCCP: known incorrect sRGB profile\n"
     ]
    },
    {
     "name": "stdout",
     "output_type": "stream",
     "text": [
      "162/162 [==============================] - 64s 385ms/step - loss: 1.5839 - accuracy: 0.4371 - val_loss: 1.6023 - val_accuracy: 0.4167\n",
      "Epoch 6/100\n",
      "130/162 [=======================>......] - ETA: 10s - loss: 1.5365 - accuracy: 0.4522"
     ]
    },
    {
     "name": "stderr",
     "output_type": "stream",
     "text": [
      "2025-01-19 10:17:07.371852: W tensorflow/core/lib/png/png_io.cc:89] PNG warning: iCCP: known incorrect sRGB profile\n"
     ]
    },
    {
     "name": "stdout",
     "output_type": "stream",
     "text": [
      "162/162 [==============================] - 65s 389ms/step - loss: 1.5276 - accuracy: 0.4552 - val_loss: 1.6297 - val_accuracy: 0.4128\n",
      "Epoch 7/100\n",
      "130/162 [=======================>......] - ETA: 10s - loss: 1.4748 - accuracy: 0.4733"
     ]
    },
    {
     "name": "stderr",
     "output_type": "stream",
     "text": [
      "2025-01-19 10:18:13.356294: W tensorflow/core/lib/png/png_io.cc:89] PNG warning: iCCP: known incorrect sRGB profile\n"
     ]
    },
    {
     "name": "stdout",
     "output_type": "stream",
     "text": [
      "162/162 [==============================] - 65s 390ms/step - loss: 1.4670 - accuracy: 0.4757 - val_loss: 1.4938 - val_accuracy: 0.4830\n",
      "Epoch 8/100\n",
      "130/162 [=======================>......] - ETA: 10s - loss: 1.4480 - accuracy: 0.4815"
     ]
    },
    {
     "name": "stderr",
     "output_type": "stream",
     "text": [
      "2025-01-19 10:19:18.076786: W tensorflow/core/lib/png/png_io.cc:89] PNG warning: iCCP: known incorrect sRGB profile\n"
     ]
    },
    {
     "name": "stdout",
     "output_type": "stream",
     "text": [
      "162/162 [==============================] - 65s 392ms/step - loss: 1.4388 - accuracy: 0.4907 - val_loss: 1.5050 - val_accuracy: 0.4884\n",
      "Epoch 9/100\n",
      "130/162 [=======================>......] - ETA: 10s - loss: 1.3570 - accuracy: 0.5296"
     ]
    },
    {
     "name": "stderr",
     "output_type": "stream",
     "text": [
      "2025-01-19 10:20:23.097555: W tensorflow/core/lib/png/png_io.cc:89] PNG warning: iCCP: known incorrect sRGB profile\n"
     ]
    },
    {
     "name": "stdout",
     "output_type": "stream",
     "text": [
      "162/162 [==============================] - 65s 387ms/step - loss: 1.3532 - accuracy: 0.5260 - val_loss: 1.5263 - val_accuracy: 0.4722\n",
      "Epoch 10/100\n",
      "130/162 [=======================>......] - ETA: 10s - loss: 1.3359 - accuracy: 0.5293"
     ]
    },
    {
     "name": "stderr",
     "output_type": "stream",
     "text": [
      "2025-01-19 10:21:27.930488: W tensorflow/core/lib/png/png_io.cc:89] PNG warning: iCCP: known incorrect sRGB profile\n"
     ]
    },
    {
     "name": "stdout",
     "output_type": "stream",
     "text": [
      "162/162 [==============================] - 64s 386ms/step - loss: 1.3244 - accuracy: 0.5293 - val_loss: 1.6132 - val_accuracy: 0.4583\n",
      "Epoch 11/100\n",
      "130/162 [=======================>......] - ETA: 10s - loss: 1.2565 - accuracy: 0.5668"
     ]
    },
    {
     "name": "stderr",
     "output_type": "stream",
     "text": [
      "2025-01-19 10:22:31.644183: W tensorflow/core/lib/png/png_io.cc:89] PNG warning: iCCP: known incorrect sRGB profile\n"
     ]
    },
    {
     "name": "stdout",
     "output_type": "stream",
     "text": [
      "162/162 [==============================] - 64s 382ms/step - loss: 1.2541 - accuracy: 0.5611 - val_loss: 1.4225 - val_accuracy: 0.5085\n",
      "Epoch 12/100\n",
      "130/162 [=======================>......] - ETA: 10s - loss: 1.2469 - accuracy: 0.5673"
     ]
    },
    {
     "name": "stderr",
     "output_type": "stream",
     "text": [
      "2025-01-19 10:23:35.555981: W tensorflow/core/lib/png/png_io.cc:89] PNG warning: iCCP: known incorrect sRGB profile\n"
     ]
    },
    {
     "name": "stdout",
     "output_type": "stream",
     "text": [
      "162/162 [==============================] - 64s 382ms/step - loss: 1.2149 - accuracy: 0.5766 - val_loss: 1.3102 - val_accuracy: 0.5679\n",
      "Epoch 13/100\n",
      "130/162 [=======================>......] - ETA: 10s - loss: 1.1639 - accuracy: 0.6026"
     ]
    },
    {
     "name": "stderr",
     "output_type": "stream",
     "text": [
      "2025-01-19 10:24:39.010725: W tensorflow/core/lib/png/png_io.cc:89] PNG warning: iCCP: known incorrect sRGB profile\n"
     ]
    },
    {
     "name": "stdout",
     "output_type": "stream",
     "text": [
      "162/162 [==============================] - 63s 377ms/step - loss: 1.1534 - accuracy: 0.6032 - val_loss: 1.4718 - val_accuracy: 0.4938\n",
      "Epoch 14/100\n",
      "130/162 [=======================>......] - ETA: 10s - loss: 1.1150 - accuracy: 0.6079"
     ]
    },
    {
     "name": "stderr",
     "output_type": "stream",
     "text": [
      "2025-01-19 10:25:41.782125: W tensorflow/core/lib/png/png_io.cc:89] PNG warning: iCCP: known incorrect sRGB profile\n"
     ]
    },
    {
     "name": "stdout",
     "output_type": "stream",
     "text": [
      "162/162 [==============================] - 63s 377ms/step - loss: 1.1051 - accuracy: 0.6082 - val_loss: 1.2289 - val_accuracy: 0.5787\n",
      "Epoch 15/100\n",
      "130/162 [=======================>......] - ETA: 10s - loss: 1.0697 - accuracy: 0.6308"
     ]
    },
    {
     "name": "stderr",
     "output_type": "stream",
     "text": [
      "2025-01-19 10:26:44.212289: W tensorflow/core/lib/png/png_io.cc:89] PNG warning: iCCP: known incorrect sRGB profile\n"
     ]
    },
    {
     "name": "stdout",
     "output_type": "stream",
     "text": [
      "162/162 [==============================] - 62s 373ms/step - loss: 1.0642 - accuracy: 0.6275 - val_loss: 1.3142 - val_accuracy: 0.5394\n",
      "Epoch 16/100\n",
      "130/162 [=======================>......] - ETA: 10s - loss: 1.0270 - accuracy: 0.6433"
     ]
    },
    {
     "name": "stderr",
     "output_type": "stream",
     "text": [
      "2025-01-19 10:27:47.834099: W tensorflow/core/lib/png/png_io.cc:89] PNG warning: iCCP: known incorrect sRGB profile\n"
     ]
    },
    {
     "name": "stdout",
     "output_type": "stream",
     "text": [
      "162/162 [==============================] - 63s 377ms/step - loss: 1.0196 - accuracy: 0.6443 - val_loss: 1.3849 - val_accuracy: 0.5448\n",
      "Epoch 17/100\n",
      "130/162 [=======================>......] - ETA: 10s - loss: 0.9934 - accuracy: 0.6493"
     ]
    },
    {
     "name": "stderr",
     "output_type": "stream",
     "text": [
      "2025-01-19 10:28:50.682116: W tensorflow/core/lib/png/png_io.cc:89] PNG warning: iCCP: known incorrect sRGB profile\n"
     ]
    },
    {
     "name": "stdout",
     "output_type": "stream",
     "text": [
      "162/162 [==============================] - 63s 377ms/step - loss: 0.9804 - accuracy: 0.6514 - val_loss: 1.2631 - val_accuracy: 0.5741\n",
      "Epoch 18/100\n",
      "130/162 [=======================>......] - ETA: 10s - loss: 0.9409 - accuracy: 0.6719"
     ]
    },
    {
     "name": "stderr",
     "output_type": "stream",
     "text": [
      "2025-01-19 10:29:53.191060: W tensorflow/core/lib/png/png_io.cc:89] PNG warning: iCCP: known incorrect sRGB profile\n"
     ]
    },
    {
     "name": "stdout",
     "output_type": "stream",
     "text": [
      "162/162 [==============================] - 62s 373ms/step - loss: 0.9274 - accuracy: 0.6767 - val_loss: 1.3693 - val_accuracy: 0.5725\n",
      "Epoch 19/100\n",
      "130/162 [=======================>......] - ETA: 10s - loss: 0.8856 - accuracy: 0.6959"
     ]
    },
    {
     "name": "stderr",
     "output_type": "stream",
     "text": [
      "2025-01-19 10:30:55.936705: W tensorflow/core/lib/png/png_io.cc:89] PNG warning: iCCP: known incorrect sRGB profile\n"
     ]
    },
    {
     "name": "stdout",
     "output_type": "stream",
     "text": [
      "162/162 [==============================] - 63s 377ms/step - loss: 0.8786 - accuracy: 0.7000 - val_loss: 1.6974 - val_accuracy: 0.4969\n",
      "Epoch 20/100\n",
      "130/162 [=======================>......] - ETA: 10s - loss: 0.8629 - accuracy: 0.7024"
     ]
    },
    {
     "name": "stderr",
     "output_type": "stream",
     "text": [
      "2025-01-19 10:31:59.153973: W tensorflow/core/lib/png/png_io.cc:89] PNG warning: iCCP: known incorrect sRGB profile\n"
     ]
    },
    {
     "name": "stdout",
     "output_type": "stream",
     "text": [
      "162/162 [==============================] - 63s 378ms/step - loss: 0.8514 - accuracy: 0.7043 - val_loss: 1.2149 - val_accuracy: 0.5995\n",
      "Epoch 21/100\n",
      "130/162 [=======================>......] - ETA: 10s - loss: 0.8275 - accuracy: 0.7096"
     ]
    },
    {
     "name": "stderr",
     "output_type": "stream",
     "text": [
      "2025-01-19 10:33:03.590403: W tensorflow/core/lib/png/png_io.cc:89] PNG warning: iCCP: known incorrect sRGB profile\n"
     ]
    },
    {
     "name": "stdout",
     "output_type": "stream",
     "text": [
      "162/162 [==============================] - 65s 387ms/step - loss: 0.8221 - accuracy: 0.7099 - val_loss: 1.3423 - val_accuracy: 0.5725\n",
      "Epoch 22/100\n",
      "130/162 [=======================>......] - ETA: 10s - loss: 0.8124 - accuracy: 0.7108"
     ]
    },
    {
     "name": "stderr",
     "output_type": "stream",
     "text": [
      "2025-01-19 10:34:06.926040: W tensorflow/core/lib/png/png_io.cc:89] PNG warning: iCCP: known incorrect sRGB profile\n"
     ]
    },
    {
     "name": "stdout",
     "output_type": "stream",
     "text": [
      "162/162 [==============================] - 63s 375ms/step - loss: 0.8033 - accuracy: 0.7157 - val_loss: 1.2597 - val_accuracy: 0.5856\n",
      "Epoch 23/100\n",
      "130/162 [=======================>......] - ETA: 10s - loss: 0.7843 - accuracy: 0.7192"
     ]
    },
    {
     "name": "stderr",
     "output_type": "stream",
     "text": [
      "2025-01-19 10:35:09.315270: W tensorflow/core/lib/png/png_io.cc:89] PNG warning: iCCP: known incorrect sRGB profile\n"
     ]
    },
    {
     "name": "stdout",
     "output_type": "stream",
     "text": [
      "162/162 [==============================] - 63s 374ms/step - loss: 0.7638 - accuracy: 0.7280 - val_loss: 1.2766 - val_accuracy: 0.6034\n",
      "Epoch 24/100\n",
      "130/162 [=======================>......] - ETA: 10s - loss: 0.7238 - accuracy: 0.7476"
     ]
    },
    {
     "name": "stderr",
     "output_type": "stream",
     "text": [
      "2025-01-19 10:36:12.773937: W tensorflow/core/lib/png/png_io.cc:89] PNG warning: iCCP: known incorrect sRGB profile\n"
     ]
    },
    {
     "name": "stdout",
     "output_type": "stream",
     "text": [
      "162/162 [==============================] - 64s 380ms/step - loss: 0.7253 - accuracy: 0.7481 - val_loss: 1.1593 - val_accuracy: 0.6181\n",
      "Epoch 25/100\n",
      "130/162 [=======================>......] - ETA: 10s - loss: 0.7106 - accuracy: 0.7505"
     ]
    },
    {
     "name": "stderr",
     "output_type": "stream",
     "text": [
      "2025-01-19 10:37:16.751179: W tensorflow/core/lib/png/png_io.cc:89] PNG warning: iCCP: known incorrect sRGB profile\n"
     ]
    },
    {
     "name": "stdout",
     "output_type": "stream",
     "text": [
      "162/162 [==============================] - 63s 378ms/step - loss: 0.6942 - accuracy: 0.7610 - val_loss: 1.5326 - val_accuracy: 0.5664\n",
      "Epoch 26/100\n",
      "130/162 [=======================>......] - ETA: 10s - loss: 0.6749 - accuracy: 0.7639"
     ]
    },
    {
     "name": "stderr",
     "output_type": "stream",
     "text": [
      "2025-01-19 10:38:19.978149: W tensorflow/core/lib/png/png_io.cc:89] PNG warning: iCCP: known incorrect sRGB profile\n"
     ]
    },
    {
     "name": "stdout",
     "output_type": "stream",
     "text": [
      "162/162 [==============================] - 63s 380ms/step - loss: 0.6751 - accuracy: 0.7631 - val_loss: 1.2524 - val_accuracy: 0.6127\n",
      "Epoch 27/100\n",
      "130/162 [=======================>......] - ETA: 10s - loss: 0.6307 - accuracy: 0.7743"
     ]
    },
    {
     "name": "stderr",
     "output_type": "stream",
     "text": [
      "2025-01-19 10:39:23.183005: W tensorflow/core/lib/png/png_io.cc:89] PNG warning: iCCP: known incorrect sRGB profile\n"
     ]
    },
    {
     "name": "stdout",
     "output_type": "stream",
     "text": [
      "162/162 [==============================] - 63s 379ms/step - loss: 0.6190 - accuracy: 0.7805 - val_loss: 1.2811 - val_accuracy: 0.6026\n",
      "Epoch 28/100\n",
      "130/162 [=======================>......] - ETA: 10s - loss: 0.5970 - accuracy: 0.7868"
     ]
    },
    {
     "name": "stderr",
     "output_type": "stream",
     "text": [
      "2025-01-19 10:40:26.363896: W tensorflow/core/lib/png/png_io.cc:89] PNG warning: iCCP: known incorrect sRGB profile\n"
     ]
    },
    {
     "name": "stdout",
     "output_type": "stream",
     "text": [
      "162/162 [==============================] - 63s 375ms/step - loss: 0.5997 - accuracy: 0.7867 - val_loss: 1.6039 - val_accuracy: 0.5610\n",
      "Epoch 29/100\n",
      "130/162 [=======================>......] - ETA: 10s - loss: 0.5946 - accuracy: 0.7933"
     ]
    },
    {
     "name": "stderr",
     "output_type": "stream",
     "text": [
      "2025-01-19 10:41:29.343068: W tensorflow/core/lib/png/png_io.cc:89] PNG warning: iCCP: known incorrect sRGB profile\n"
     ]
    },
    {
     "name": "stdout",
     "output_type": "stream",
     "text": [
      "162/162 [==============================] - 63s 380ms/step - loss: 0.5963 - accuracy: 0.7921 - val_loss: 1.5697 - val_accuracy: 0.5664\n",
      "Epoch 30/100\n",
      "130/162 [=======================>......] - ETA: 10s - loss: 0.5588 - accuracy: 0.8002"
     ]
    },
    {
     "name": "stderr",
     "output_type": "stream",
     "text": [
      "2025-01-19 10:42:33.713402: W tensorflow/core/lib/png/png_io.cc:89] PNG warning: iCCP: known incorrect sRGB profile\n"
     ]
    },
    {
     "name": "stdout",
     "output_type": "stream",
     "text": [
      "162/162 [==============================] - 64s 384ms/step - loss: 0.5568 - accuracy: 0.8019 - val_loss: 1.7323 - val_accuracy: 0.5394\n",
      "Epoch 31/100\n",
      "130/162 [=======================>......] - ETA: 9s - loss: 0.5318 - accuracy: 0.8096 "
     ]
    },
    {
     "name": "stderr",
     "output_type": "stream",
     "text": [
      "2025-01-19 10:43:35.724212: W tensorflow/core/lib/png/png_io.cc:89] PNG warning: iCCP: known incorrect sRGB profile\n"
     ]
    },
    {
     "name": "stdout",
     "output_type": "stream",
     "text": [
      "162/162 [==============================] - 62s 369ms/step - loss: 0.5294 - accuracy: 0.8111 - val_loss: 1.5333 - val_accuracy: 0.5733\n",
      "Epoch 32/100\n",
      "130/162 [=======================>......] - ETA: 10s - loss: 0.5150 - accuracy: 0.8132"
     ]
    },
    {
     "name": "stderr",
     "output_type": "stream",
     "text": [
      "2025-01-19 10:44:38.499991: W tensorflow/core/lib/png/png_io.cc:89] PNG warning: iCCP: known incorrect sRGB profile\n"
     ]
    },
    {
     "name": "stdout",
     "output_type": "stream",
     "text": [
      "162/162 [==============================] - 63s 376ms/step - loss: 0.5191 - accuracy: 0.8154 - val_loss: 1.4282 - val_accuracy: 0.6142\n",
      "Epoch 33/100\n",
      "130/162 [=======================>......] - ETA: 10s - loss: 0.5108 - accuracy: 0.8233"
     ]
    },
    {
     "name": "stderr",
     "output_type": "stream",
     "text": [
      "2025-01-19 10:45:41.874753: W tensorflow/core/lib/png/png_io.cc:89] PNG warning: iCCP: known incorrect sRGB profile\n"
     ]
    },
    {
     "name": "stdout",
     "output_type": "stream",
     "text": [
      "162/162 [==============================] - 63s 377ms/step - loss: 0.5020 - accuracy: 0.8274 - val_loss: 1.3524 - val_accuracy: 0.6304\n",
      "Epoch 34/100\n",
      "130/162 [=======================>......] - ETA: 10s - loss: 0.4872 - accuracy: 0.8351"
     ]
    },
    {
     "name": "stderr",
     "output_type": "stream",
     "text": [
      "2025-01-19 10:46:44.543094: W tensorflow/core/lib/png/png_io.cc:89] PNG warning: iCCP: known incorrect sRGB profile\n"
     ]
    },
    {
     "name": "stdout",
     "output_type": "stream",
     "text": [
      "162/162 [==============================] - 62s 372ms/step - loss: 0.4717 - accuracy: 0.8387 - val_loss: 1.3901 - val_accuracy: 0.6335\n",
      "Epoch 35/100\n",
      "130/162 [=======================>......] - ETA: 10s - loss: 0.4421 - accuracy: 0.8450"
     ]
    },
    {
     "name": "stderr",
     "output_type": "stream",
     "text": [
      "2025-01-19 10:47:47.449520: W tensorflow/core/lib/png/png_io.cc:89] PNG warning: iCCP: known incorrect sRGB profile\n"
     ]
    },
    {
     "name": "stdout",
     "output_type": "stream",
     "text": [
      "162/162 [==============================] - 64s 380ms/step - loss: 0.4400 - accuracy: 0.8445 - val_loss: 1.3543 - val_accuracy: 0.6296\n",
      "Epoch 36/100\n",
      "130/162 [=======================>......] - ETA: 10s - loss: 0.4388 - accuracy: 0.8524"
     ]
    },
    {
     "name": "stderr",
     "output_type": "stream",
     "text": [
      "2025-01-19 10:48:50.808926: W tensorflow/core/lib/png/png_io.cc:89] PNG warning: iCCP: known incorrect sRGB profile\n"
     ]
    },
    {
     "name": "stdout",
     "output_type": "stream",
     "text": [
      "162/162 [==============================] - 64s 380ms/step - loss: 0.4332 - accuracy: 0.8544 - val_loss: 1.5192 - val_accuracy: 0.6188\n",
      "Epoch 37/100\n",
      "130/162 [=======================>......] - ETA: 9s - loss: 0.4228 - accuracy: 0.8517 "
     ]
    },
    {
     "name": "stderr",
     "output_type": "stream",
     "text": [
      "2025-01-19 10:49:52.340605: W tensorflow/core/lib/png/png_io.cc:89] PNG warning: iCCP: known incorrect sRGB profile\n"
     ]
    },
    {
     "name": "stdout",
     "output_type": "stream",
     "text": [
      "162/162 [==============================] - 61s 362ms/step - loss: 0.4247 - accuracy: 0.8524 - val_loss: 1.4355 - val_accuracy: 0.6242\n",
      "Epoch 38/100\n",
      "130/162 [=======================>......] - ETA: 9s - loss: 0.4051 - accuracy: 0.8599 "
     ]
    },
    {
     "name": "stderr",
     "output_type": "stream",
     "text": [
      "2025-01-19 10:50:53.720956: W tensorflow/core/lib/png/png_io.cc:89] PNG warning: iCCP: known incorrect sRGB profile\n"
     ]
    },
    {
     "name": "stdout",
     "output_type": "stream",
     "text": [
      "162/162 [==============================] - 61s 367ms/step - loss: 0.4014 - accuracy: 0.8648 - val_loss: 1.8903 - val_accuracy: 0.5509\n",
      "Epoch 39/100\n",
      "130/162 [=======================>......] - ETA: 9s - loss: 0.3972 - accuracy: 0.8659"
     ]
    },
    {
     "name": "stderr",
     "output_type": "stream",
     "text": [
      "2025-01-19 10:51:54.289972: W tensorflow/core/lib/png/png_io.cc:89] PNG warning: iCCP: known incorrect sRGB profile\n"
     ]
    },
    {
     "name": "stdout",
     "output_type": "stream",
     "text": [
      "162/162 [==============================] - 61s 362ms/step - loss: 0.3931 - accuracy: 0.8673 - val_loss: 1.3460 - val_accuracy: 0.6304\n",
      "Epoch 40/100\n",
      "130/162 [=======================>......] - ETA: 9s - loss: 0.3497 - accuracy: 0.8774 "
     ]
    },
    {
     "name": "stderr",
     "output_type": "stream",
     "text": [
      "2025-01-19 10:52:56.003220: W tensorflow/core/lib/png/png_io.cc:89] PNG warning: iCCP: known incorrect sRGB profile\n"
     ]
    },
    {
     "name": "stdout",
     "output_type": "stream",
     "text": [
      "162/162 [==============================] - 61s 367ms/step - loss: 0.3487 - accuracy: 0.8796 - val_loss: 1.9637 - val_accuracy: 0.5648\n",
      "Epoch 41/100\n",
      "130/162 [=======================>......] - ETA: 10s - loss: 0.3699 - accuracy: 0.8719"
     ]
    },
    {
     "name": "stderr",
     "output_type": "stream",
     "text": [
      "2025-01-19 10:53:57.990444: W tensorflow/core/lib/png/png_io.cc:89] PNG warning: iCCP: known incorrect sRGB profile\n"
     ]
    },
    {
     "name": "stdout",
     "output_type": "stream",
     "text": [
      "162/162 [==============================] - 62s 372ms/step - loss: 0.3630 - accuracy: 0.8731 - val_loss: 1.8317 - val_accuracy: 0.5648\n",
      "Epoch 42/100\n",
      "130/162 [=======================>......] - ETA: 9s - loss: 0.3382 - accuracy: 0.8793"
     ]
    },
    {
     "name": "stderr",
     "output_type": "stream",
     "text": [
      "2025-01-19 10:54:58.390288: W tensorflow/core/lib/png/png_io.cc:89] PNG warning: iCCP: known incorrect sRGB profile\n"
     ]
    },
    {
     "name": "stdout",
     "output_type": "stream",
     "text": [
      "162/162 [==============================] - 60s 357ms/step - loss: 0.3396 - accuracy: 0.8802 - val_loss: 1.5364 - val_accuracy: 0.6358\n",
      "Epoch 43/100\n",
      "130/162 [=======================>......] - ETA: 9s - loss: 0.3556 - accuracy: 0.8748"
     ]
    },
    {
     "name": "stderr",
     "output_type": "stream",
     "text": [
      "2025-01-19 10:55:57.602926: W tensorflow/core/lib/png/png_io.cc:89] PNG warning: iCCP: known incorrect sRGB profile\n"
     ]
    },
    {
     "name": "stdout",
     "output_type": "stream",
     "text": [
      "162/162 [==============================] - 59s 350ms/step - loss: 0.3500 - accuracy: 0.8771 - val_loss: 1.4703 - val_accuracy: 0.6389\n",
      "Epoch 44/100\n",
      "130/162 [=======================>......] - ETA: 9s - loss: 0.2903 - accuracy: 0.9010 "
     ]
    },
    {
     "name": "stderr",
     "output_type": "stream",
     "text": [
      "2025-01-19 10:57:20.415853: W tensorflow/core/lib/png/png_io.cc:89] PNG warning: iCCP: known incorrect sRGB profile\n"
     ]
    },
    {
     "name": "stdout",
     "output_type": "stream",
     "text": [
      "162/162 [==============================] - 60s 358ms/step - loss: 0.2965 - accuracy: 0.8966 - val_loss: 1.7412 - val_accuracy: 0.6242\n",
      "Epoch 45/100\n",
      "130/162 [=======================>......] - ETA: 9s - loss: 0.3239 - accuracy: 0.8875"
     ]
    },
    {
     "name": "stderr",
     "output_type": "stream",
     "text": [
      "2025-01-19 10:58:19.701572: W tensorflow/core/lib/png/png_io.cc:89] PNG warning: iCCP: known incorrect sRGB profile\n"
     ]
    },
    {
     "name": "stdout",
     "output_type": "stream",
     "text": [
      "162/162 [==============================] - 59s 353ms/step - loss: 0.3121 - accuracy: 0.8922 - val_loss: 1.9819 - val_accuracy: 0.5617\n",
      "Epoch 46/100\n",
      "130/162 [=======================>......] - ETA: 9s - loss: 0.3267 - accuracy: 0.8875"
     ]
    },
    {
     "name": "stderr",
     "output_type": "stream",
     "text": [
      "2025-01-19 10:59:18.194824: W tensorflow/core/lib/png/png_io.cc:89] PNG warning: iCCP: known incorrect sRGB profile\n"
     ]
    },
    {
     "name": "stdout",
     "output_type": "stream",
     "text": [
      "162/162 [==============================] - 58s 347ms/step - loss: 0.3277 - accuracy: 0.8835 - val_loss: 1.3199 - val_accuracy: 0.6590\n",
      "Epoch 47/100\n",
      "130/162 [=======================>......] - ETA: 9s - loss: 0.2704 - accuracy: 0.9094"
     ]
    },
    {
     "name": "stderr",
     "output_type": "stream",
     "text": [
      "2025-01-19 11:00:16.441919: W tensorflow/core/lib/png/png_io.cc:89] PNG warning: iCCP: known incorrect sRGB profile\n"
     ]
    },
    {
     "name": "stdout",
     "output_type": "stream",
     "text": [
      "162/162 [==============================] - 58s 349ms/step - loss: 0.2697 - accuracy: 0.9097 - val_loss: 1.6270 - val_accuracy: 0.6335\n",
      "Epoch 48/100\n",
      "130/162 [=======================>......] - ETA: 9s - loss: 0.2666 - accuracy: 0.9132 "
     ]
    },
    {
     "name": "stderr",
     "output_type": "stream",
     "text": [
      "2025-01-19 11:01:16.352856: W tensorflow/core/lib/png/png_io.cc:89] PNG warning: iCCP: known incorrect sRGB profile\n"
     ]
    },
    {
     "name": "stdout",
     "output_type": "stream",
     "text": [
      "162/162 [==============================] - 60s 360ms/step - loss: 0.2566 - accuracy: 0.9159 - val_loss: 1.7295 - val_accuracy: 0.6373\n",
      "Epoch 49/100\n",
      "130/162 [=======================>......] - ETA: 9s - loss: 0.2756 - accuracy: 0.9002 "
     ]
    },
    {
     "name": "stderr",
     "output_type": "stream",
     "text": [
      "2025-01-19 11:02:16.942548: W tensorflow/core/lib/png/png_io.cc:89] PNG warning: iCCP: known incorrect sRGB profile\n"
     ]
    },
    {
     "name": "stdout",
     "output_type": "stream",
     "text": [
      "162/162 [==============================] - 61s 363ms/step - loss: 0.2821 - accuracy: 0.8980 - val_loss: 1.3290 - val_accuracy: 0.6651\n",
      "Epoch 50/100\n",
      "130/162 [=======================>......] - ETA: 9s - loss: 0.2557 - accuracy: 0.9108 "
     ]
    },
    {
     "name": "stderr",
     "output_type": "stream",
     "text": [
      "2025-01-19 11:03:17.987473: W tensorflow/core/lib/png/png_io.cc:89] PNG warning: iCCP: known incorrect sRGB profile\n"
     ]
    },
    {
     "name": "stdout",
     "output_type": "stream",
     "text": [
      "162/162 [==============================] - 61s 368ms/step - loss: 0.2541 - accuracy: 0.9122 - val_loss: 1.7843 - val_accuracy: 0.6211\n",
      "Epoch 51/100\n",
      "130/162 [=======================>......] - ETA: 10s - loss: 0.2849 - accuracy: 0.9055"
     ]
    },
    {
     "name": "stderr",
     "output_type": "stream",
     "text": [
      "2025-01-19 11:04:20.712550: W tensorflow/core/lib/png/png_io.cc:89] PNG warning: iCCP: known incorrect sRGB profile\n"
     ]
    },
    {
     "name": "stdout",
     "output_type": "stream",
     "text": [
      "162/162 [==============================] - 63s 375ms/step - loss: 0.2779 - accuracy: 0.9086 - val_loss: 1.5001 - val_accuracy: 0.6458\n",
      "Epoch 52/100\n",
      "120/162 [=====================>........] - ETA: 13s - loss: 0.2617 - accuracy: 0.9141"
     ]
    },
    {
     "name": "stderr",
     "output_type": "stream",
     "text": [
      "F0000 00:00:1737277534.255810   23116 device_event_mgr.cc:226] Unexpected Event status: 1\n"
     ]
    },
    {
     "ename": "InternalError",
     "evalue": "CUDA error: Could not synchronize CUDA stream: CUDA_ERROR_LAUNCH_FAILED: unspecified launch failure",
     "output_type": "error",
     "traceback": [
      "\u001b[0;31m---------------------------------------------------------------------------\u001b[0m",
      "\u001b[0;31mInternalError\u001b[0m                             Traceback (most recent call last)",
      "File \u001b[1;32m/home/adiicmp/GitHub Repos/Python/UNSTPB/Year IV/Semester 1/Neural Networks and Genetic Algorithms Project/Project/training.py:111\u001b[0m\n\u001b[1;32m    101\u001b[0m \u001b[39m'''\u001b[39;00m\n\u001b[1;32m    102\u001b[0m \u001b[39m#early stopping\u001b[39;00m\n\u001b[1;32m    103\u001b[0m \u001b[39mearly_stopping = tf_keras.callbacks.EarlyStopping(monitor = 'val_loss', \u001b[39;00m\n\u001b[0;32m   (...)\u001b[0m\n\u001b[1;32m    107\u001b[0m \u001b[39m                                                  restore_best_weights = True)\u001b[39;00m\n\u001b[1;32m    108\u001b[0m \u001b[39m'''\u001b[39;00m\n\u001b[1;32m    110\u001b[0m \u001b[39m#fitting of the model\u001b[39;00m\n\u001b[0;32m--> 111\u001b[0m history \u001b[39m=\u001b[39m model\u001b[39m.\u001b[39;49mfit(train_ds, \n\u001b[1;32m    112\u001b[0m                     validation_data \u001b[39m=\u001b[39;49m validation_ds, \n\u001b[1;32m    113\u001b[0m                     epochs \u001b[39m=\u001b[39;49m epochs, \n\u001b[1;32m    114\u001b[0m                     \u001b[39m#callbacks = [early_stopping]\u001b[39;49;00m\n\u001b[1;32m    115\u001b[0m                     )\n\u001b[1;32m    117\u001b[0m \u001b[39m#accuracy and loss values\u001b[39;00m\n\u001b[1;32m    118\u001b[0m accuracy \u001b[39m=\u001b[39m history\u001b[39m.\u001b[39mhistory[\u001b[39m'\u001b[39m\u001b[39maccuracy\u001b[39m\u001b[39m'\u001b[39m]\n",
      "File \u001b[0;32m~/GitHub Repos/Python/.venv/lib/python3.12/site-packages/tf_keras/src/utils/traceback_utils.py:70\u001b[0m, in \u001b[0;36mfilter_traceback.<locals>.error_handler\u001b[0;34m(*args, **kwargs)\u001b[0m\n\u001b[1;32m     67\u001b[0m     filtered_tb \u001b[39m=\u001b[39m _process_traceback_frames(e\u001b[39m.\u001b[39m__traceback__)\n\u001b[1;32m     68\u001b[0m     \u001b[39m# To get the full stack trace, call:\u001b[39;00m\n\u001b[1;32m     69\u001b[0m     \u001b[39m# `tf.debugging.disable_traceback_filtering()`\u001b[39;00m\n\u001b[0;32m---> 70\u001b[0m     \u001b[39mraise\u001b[39;00m e\u001b[39m.\u001b[39mwith_traceback(filtered_tb) \u001b[39mfrom\u001b[39;00m\u001b[39m \u001b[39m\u001b[39mNone\u001b[39;00m\n\u001b[1;32m     71\u001b[0m \u001b[39mfinally\u001b[39;00m:\n\u001b[1;32m     72\u001b[0m     \u001b[39mdel\u001b[39;00m filtered_tb\n",
      "File \u001b[0;32m~/GitHub Repos/Python/.venv/lib/python3.12/site-packages/tensorflow/python/framework/ops.py:383\u001b[0m, in \u001b[0;36m_EagerTensorBase._numpy\u001b[0;34m(self)\u001b[0m\n\u001b[1;32m    381\u001b[0m   \u001b[39mreturn\u001b[39;00m \u001b[39mself\u001b[39m\u001b[39m.\u001b[39m_numpy_internal()\n\u001b[1;32m    382\u001b[0m \u001b[39mexcept\u001b[39;00m core\u001b[39m.\u001b[39m_NotOkStatusException \u001b[39mas\u001b[39;00m e:  \u001b[39m# pylint: disable=protected-access\u001b[39;00m\n\u001b[0;32m--> 383\u001b[0m   \u001b[39mraise\u001b[39;00m core\u001b[39m.\u001b[39m_status_to_exception(e) \u001b[39mfrom\u001b[39;00m\u001b[39m \u001b[39m\u001b[39mNone\u001b[39;00m\n",
      "\u001b[0;31mInternalError\u001b[0m: CUDA error: Could not synchronize CUDA stream: CUDA_ERROR_LAUNCH_FAILED: unspecified launch failure"
     ]
    }
   ],
   "source": [
    "#%%\n",
    "\n",
    "import tensorflow as tf\n",
    "import tf_keras\n",
    "import matplotlib.pyplot as plt\n",
    "import seaborn as sns\n",
    "import numpy as np\n",
    "from tf_keras import layers\n",
    "from tf_keras.models import Sequential\n",
    "from sklearn.metrics import confusion_matrix, accuracy_score\n",
    "from tf_keras.optimizers import Adam\n",
    "\n",
    "gpu_devices = tf.config.list_physical_devices('GPU')\n",
    "if gpu_devices:\n",
    "  tf.config.experimental.set_memory_growth(gpu_devices[0], True)\n",
    "  print('GPU found', gpu_devices[0])\n",
    "else:\n",
    "  print('No GPU found')\n",
    "\n",
    "#define image size\n",
    "IMG_SIZE = 224\n",
    "\n",
    "#define batch size\n",
    "BATCH_SIZE = 32\n",
    "\n",
    "#training and valdiation directories\n",
    "TRAINING_DIR = \"Train\"\n",
    "  \n",
    "#training split\n",
    "train_ds = tf_keras.utils.image_dataset_from_directory(\n",
    "  TRAINING_DIR,\n",
    "  labels = \"inferred\",\n",
    "  image_size = (IMG_SIZE, IMG_SIZE),\n",
    "  batch_size = BATCH_SIZE,\n",
    "  subset = \"training\",\n",
    "  validation_split = 0.2,\n",
    "  seed = 225\n",
    ")\n",
    "\n",
    "#validation split, taken directly from the same directory as train\n",
    "validation_ds = tf_keras.utils.image_dataset_from_directory(\n",
    "  TRAINING_DIR,\n",
    "  labels = \"inferred\",\n",
    "  image_size = (IMG_SIZE, IMG_SIZE),\n",
    "  batch_size = BATCH_SIZE,\n",
    "  subset = 'validation',\n",
    "  validation_split = 0.2,\n",
    "  seed = 225\n",
    ")\n",
    "\n",
    "CLASS_NAMES = train_ds.class_names\n",
    "\n",
    "data_augmentation = Sequential([\n",
    "  layers.experimental.preprocessing.RandomFlip('horizontal'),\n",
    "  layers.experimental.preprocessing.RandomRotation(0.2),\n",
    "  layers.experimental.preprocessing.RandomZoom(0.2) \n",
    "])\n",
    "\n",
    "def augment_images(image, label):\n",
    "  image = data_augmentation(image)\n",
    "  return image, label\n",
    "\n",
    "train_ds = train_ds.map(augment_images)\n",
    "\n",
    "AUTOTUNE = tf.data.AUTOTUNE\n",
    "train_ds = train_ds.prefetch(buffer_size = AUTOTUNE)\n",
    "val_ds = validation_ds.cache().prefetch(buffer_size = AUTOTUNE)\n",
    "\n",
    "norm_layer = layers.Rescaling(1./255)\n",
    "norm_ds = train_ds.map(lambda x, y: (norm_layer(x), y))\n",
    "image_batch, labels_batch = next(iter(norm_ds))\n",
    "\n",
    "num_classes = len(CLASS_NAMES)\n",
    "\n",
    "#training model\n",
    "model = Sequential([\n",
    "  layers.Conv2D(128, (3, 3), activation = 'relu', input_shape = (224, 224, 3)),\n",
    "  layers.MaxPooling2D(2, 2),\n",
    "  layers.Conv2D(128, (3, 3), activation = 'relu'),\n",
    "  layers.MaxPooling2D(2, 2),\n",
    "  layers.Conv2D(256, (3, 3), activation = 'relu'),\n",
    "  layers.MaxPooling2D(2, 2),\n",
    "  layers.Conv2D(256, (3, 3), activation = 'relu'),\n",
    "  layers.MaxPooling2D(2, 2),\n",
    "  layers.Conv2D(512, (3, 3), activation = 'relu'),\n",
    "  layers.MaxPooling2D(2, 2),\n",
    "  layers.Conv2D(512, (3, 3), activation = 'relu'),\n",
    "  layers.MaxPooling2D(2, 2),\n",
    "  layers.Flatten(),\n",
    "  layers.Dense(1024, activation = 'relu'),\n",
    "  layers.Dropout(0.25),\n",
    "  layers.Dense(num_classes, activation = 'softmax')\n",
    "])\n",
    "\n",
    "model.compile(optimizer = Adam(learning_rate = 0.0001, weight_decay = 1e-6), \n",
    "              loss = tf_keras.losses.SparseCategoricalCrossentropy(from_logits = True), \n",
    "              metrics = ['accuracy'])\n",
    "\n",
    "#no of epochs\n",
    "epochs = 100\n",
    "\n",
    "'''\n",
    "#early stopping\n",
    "early_stopping = tf_keras.callbacks.EarlyStopping(monitor = 'val_loss', \n",
    "                                                  mode = 'min', \n",
    "                                                  verbose = 1, \n",
    "                                                  patience = 8, \n",
    "                                                  restore_best_weights = True)\n",
    "'''\n",
    "\n",
    "#fitting of the model\n",
    "history = model.fit(train_ds, \n",
    "                    validation_data = validation_ds, \n",
    "                    epochs = epochs, \n",
    "                    #callbacks = [early_stopping]\n",
    "                    )\n",
    "\n",
    "#accuracy and loss values\n",
    "accuracy = history.history['accuracy']\n",
    "val_accuracy = history.history[('val_accuracy')]\n",
    "\n",
    "loss = history.history['loss']\n",
    "val_loss = history.history['val_loss']\n",
    "\n",
    "epochs_range = range(epochs)\n",
    "\n",
    "true_labels = []\n",
    "predicted_labels = []\n",
    "\n",
    "for images, labels in val_ds:\n",
    "  true_labels.extend(labels.numpy())\n",
    "  pred = model.predict(images)\n",
    "  predicted_labels.extend(np.argmax(pred, axis = 1))\n",
    "\n",
    "confusion_matrix = confusion_matrix(true_labels, predicted_labels)\n",
    "accuracy = accuracy_score(true_labels, predicted_labels)\n",
    "\n",
    "print('Confusion Matrix: ')\n",
    "plt.figure(figsize=(8, 8))\n",
    "sns.heatmap(confusion_matrix, annot = True, fmt = 'd', xticklabels = CLASS_NAMES, yticklabels = CLASS_NAMES, cmap = 'Blues')\n",
    "plt.xlabel('Predicted')\n",
    "plt.ylabel('True')\n",
    "plt.title('Confusion Matrix')\n",
    "\n",
    "print('Accuracy: ', accuracy)\n",
    "\n",
    "score = model.evaluate(validation_ds, verbose = 0)\n",
    "print('Test loss:', score[0])\n",
    "print('Test accuracy:', score[1])\n",
    "\n",
    "plt.figure(figsize = (8, 8))\n",
    "plt.subplot(1, 2, 1)\n",
    "plt.plot(accuracy, label = 'Training Accuracy')\n",
    "plt.plot(val_accuracy, label = 'Validation Accuracy')\n",
    "plt.legend(loc = 'lower right')\n",
    "plt.title('Training and Validation Accuracy')\n",
    "\n",
    "plt.subplot(1, 2, 2)\n",
    "plt.plot(loss, label = 'Training Loss')\n",
    "plt.plot(val_loss, label = 'Validation Loss')\n",
    "plt.legend(loc = 'upper right')\n",
    "plt.title('Training and Validation Loss')\n",
    "plt.show()"
   ]
  },
  {
   "cell_type": "code",
   "execution_count": null,
   "id": "c10b098d-73ce-44a6-8496-302288e3932d",
   "metadata": {},
   "outputs": [],
   "source": [
    "#%%\n",
    "\n",
    "import tensorflow as tf\n",
    "import tf_keras\n",
    "import matplotlib.pyplot as plt\n",
    "import seaborn as sns\n",
    "import numpy as np\n",
    "from tf_keras import layers\n",
    "from tf_keras.models import Sequential\n",
    "from sklearn.metrics import confusion_matrix, accuracy_score\n",
    "from tf_keras.optimizers import Adam\n",
    "\n",
    "gpu_devices = tf.config.list_physical_devices('GPU')\n",
    "if gpu_devices:\n",
    "  tf.config.experimental.set_memory_growth(gpu_devices[0], True)\n",
    "  print('GPU found', gpu_devices[0])\n",
    "else:\n",
    "  print('No GPU found')\n",
    "\n",
    "#define image size\n",
    "IMG_SIZE = 224\n",
    "\n",
    "#define batch size\n",
    "BATCH_SIZE = 32\n",
    "\n",
    "#training and valdiation directories\n",
    "TRAINING_DIR = \"Train\"\n",
    "  \n",
    "#training split\n",
    "train_ds = tf_keras.utils.image_dataset_from_directory(\n",
    "  TRAINING_DIR,\n",
    "  labels = \"inferred\",\n",
    "  image_size = (IMG_SIZE, IMG_SIZE),\n",
    "  batch_size = BATCH_SIZE,\n",
    "  subset = \"training\",\n",
    "  validation_split = 0.2,\n",
    "  seed = 225\n",
    ")\n",
    "\n",
    "#validation split, taken directly from the same directory as train\n",
    "validation_ds = tf_keras.utils.image_dataset_from_directory(\n",
    "  TRAINING_DIR,\n",
    "  labels = \"inferred\",\n",
    "  image_size = (IMG_SIZE, IMG_SIZE),\n",
    "  batch_size = BATCH_SIZE,\n",
    "  subset = 'validation',\n",
    "  validation_split = 0.2,\n",
    "  seed = 225\n",
    ")\n",
    "\n",
    "CLASS_NAMES = train_ds.class_names\n",
    "\n",
    "data_augmentation = Sequential([\n",
    "  layers.experimental.preprocessing.RandomFlip('horizontal'),\n",
    "  layers.experimental.preprocessing.RandomRotation(0.2),\n",
    "  layers.experimental.preprocessing.RandomZoom(0.2) \n",
    "])\n",
    "\n",
    "def augment_images(image, label):\n",
    "  image = data_augmentation(image)\n",
    "  return image, label\n",
    "\n",
    "train_ds = train_ds.map(augment_images)\n",
    "\n",
    "AUTOTUNE = tf.data.AUTOTUNE\n",
    "train_ds = train_ds.prefetch(buffer_size = AUTOTUNE)\n",
    "val_ds = validation_ds.cache().prefetch(buffer_size = AUTOTUNE)\n",
    "\n",
    "norm_layer = layers.Rescaling(1./255)\n",
    "norm_ds = train_ds.map(lambda x, y: (norm_layer(x), y))\n",
    "image_batch, labels_batch = next(iter(norm_ds))\n",
    "\n",
    "num_classes = len(CLASS_NAMES)\n",
    "\n",
    "#training model\n",
    "model = Sequential([\n",
    "  layers.Conv2D(128, (3, 3), activation = 'relu', input_shape = (224, 224, 3)),\n",
    "  layers.MaxPooling2D(2, 2),\n",
    "  layers.Conv2D(128, (3, 3), activation = 'relu'),\n",
    "  layers.MaxPooling2D(2, 2),\n",
    "  layers.Conv2D(256, (3, 3), activation = 'relu'),\n",
    "  layers.MaxPooling2D(2, 2),\n",
    "  layers.Conv2D(256, (3, 3), activation = 'relu'),\n",
    "  layers.MaxPooling2D(2, 2),\n",
    "  layers.Conv2D(512, (3, 3), activation = 'relu'),\n",
    "  layers.MaxPooling2D(2, 2),\n",
    "  layers.Conv2D(512, (3, 3), activation = 'relu'),\n",
    "  layers.MaxPooling2D(2, 2),\n",
    "  layers.Flatten(),\n",
    "  layers.Dense(1024, activation = 'relu'),\n",
    "  layers.Dropout(0.25),\n",
    "  layers.Dense(num_classes, activation = 'softmax')\n",
    "])\n",
    "\n",
    "model.compile(optimizer = Adam(learning_rate = 0.0001, weight_decay = 1e-6), \n",
    "              loss = tf_keras.losses.SparseCategoricalCrossentropy(from_logits = True), \n",
    "              metrics = ['accuracy'])\n",
    "\n",
    "#no of epochs\n",
    "epochs = 100\n",
    "\n",
    "'''\n",
    "#early stopping\n",
    "early_stopping = tf_keras.callbacks.EarlyStopping(monitor = 'val_loss', \n",
    "                                                  mode = 'min', \n",
    "                                                  verbose = 1, \n",
    "                                                  patience = 8, \n",
    "                                                  restore_best_weights = True)\n",
    "'''\n",
    "\n",
    "#fitting of the model\n",
    "history = model.fit(train_ds, \n",
    "                    validation_data = validation_ds, \n",
    "                    epochs = epochs, \n",
    "                    #callbacks = [early_stopping]\n",
    "                    )\n",
    "\n",
    "#accuracy and loss values\n",
    "accuracy = history.history['accuracy']\n",
    "val_accuracy = history.history[('val_accuracy')]\n",
    "\n",
    "loss = history.history['loss']\n",
    "val_loss = history.history['val_loss']\n",
    "\n",
    "epochs_range = range(epochs)\n",
    "\n",
    "true_labels = []\n",
    "predicted_labels = []\n",
    "\n",
    "for images, labels in val_ds:\n",
    "  true_labels.extend(labels.numpy())\n",
    "  pred = model.predict(images)\n",
    "  predicted_labels.extend(np.argmax(pred, axis = 1))\n",
    "\n",
    "confusion_matrix = confusion_matrix(true_labels, predicted_labels)\n",
    "accuracy = accuracy_score(true_labels, predicted_labels)\n",
    "\n",
    "print('Confusion Matrix: ')\n",
    "plt.figure(figsize=(8, 8))\n",
    "sns.heatmap(confusion_matrix, annot = True, fmt = 'd', xticklabels = CLASS_NAMES, yticklabels = CLASS_NAMES, cmap = 'Blues')\n",
    "plt.xlabel('Predicted')\n",
    "plt.ylabel('True')\n",
    "plt.title('Confusion Matrix')\n",
    "\n",
    "print('Accuracy: ', accuracy)\n",
    "\n",
    "score = model.evaluate(validation_ds, verbose = 0)\n",
    "print('Test loss:', score[0])\n",
    "print('Test accuracy:', score[1])\n",
    "\n",
    "plt.figure(figsize = (8, 8))\n",
    "plt.subplot(1, 2, 1)\n",
    "plt.plot(accuracy, label = 'Training Accuracy')\n",
    "plt.plot(val_accuracy, label = 'Validation Accuracy')\n",
    "plt.legend(loc = 'lower right')\n",
    "plt.title('Training and Validation Accuracy')\n",
    "\n",
    "plt.subplot(1, 2, 2)\n",
    "plt.plot(loss, label = 'Training Loss')\n",
    "plt.plot(val_loss, label = 'Validation Loss')\n",
    "plt.legend(loc = 'upper right')\n",
    "plt.title('Training and Validation Loss')\n",
    "plt.show()"
   ]
  },
  {
   "cell_type": "code",
   "execution_count": null,
   "id": "59f1ddad-69da-4a66-b894-b249784785bd",
   "metadata": {},
   "outputs": [],
   "source": [
    "#%%\n",
    "\n",
    "import tensorflow as tf\n",
    "import tf_keras\n",
    "import matplotlib.pyplot as plt\n",
    "import seaborn as sns\n",
    "import numpy as np\n",
    "from tf_keras import layers\n",
    "from tf_keras.models import Sequential\n",
    "from sklearn.metrics import confusion_matrix, accuracy_score\n",
    "from tf_keras.optimizers import Adam\n",
    "\n",
    "gpu_devices = tf.config.list_physical_devices('GPU')\n",
    "if gpu_devices:\n",
    "  tf.config.experimental.set_memory_growth(gpu_devices[0], True)\n",
    "  print('GPU found', gpu_devices[0])\n",
    "else:\n",
    "  print('No GPU found')\n",
    "\n",
    "#define image size\n",
    "IMG_SIZE = 224\n",
    "\n",
    "#define batch size\n",
    "BATCH_SIZE = 32\n",
    "\n",
    "#training and valdiation directories\n",
    "TRAINING_DIR = \"Train\"\n",
    "  \n",
    "#training split\n",
    "train_ds = tf_keras.utils.image_dataset_from_directory(\n",
    "  TRAINING_DIR,\n",
    "  labels = \"inferred\",\n",
    "  image_size = (IMG_SIZE, IMG_SIZE),\n",
    "  batch_size = BATCH_SIZE,\n",
    "  subset = \"training\",\n",
    "  validation_split = 0.2,\n",
    "  seed = 225\n",
    ")\n",
    "\n",
    "#validation split, taken directly from the same directory as train\n",
    "validation_ds = tf_keras.utils.image_dataset_from_directory(\n",
    "  TRAINING_DIR,\n",
    "  labels = \"inferred\",\n",
    "  image_size = (IMG_SIZE, IMG_SIZE),\n",
    "  batch_size = BATCH_SIZE,\n",
    "  subset = 'validation',\n",
    "  validation_split = 0.2,\n",
    "  seed = 225\n",
    ")\n",
    "\n",
    "CLASS_NAMES = train_ds.class_names\n",
    "\n",
    "data_augmentation = Sequential([\n",
    "  layers.experimental.preprocessing.RandomFlip('horizontal'),\n",
    "  layers.experimental.preprocessing.RandomRotation(0.2),\n",
    "  layers.experimental.preprocessing.RandomZoom(0.2) \n",
    "])\n",
    "\n",
    "def augment_images(image, label):\n",
    "  image = data_augmentation(image)\n",
    "  return image, label\n",
    "\n",
    "train_ds = train_ds.map(augment_images)\n",
    "\n",
    "AUTOTUNE = tf.data.AUTOTUNE\n",
    "train_ds = train_ds.prefetch(buffer_size = AUTOTUNE)\n",
    "val_ds = validation_ds.cache().prefetch(buffer_size = AUTOTUNE)\n",
    "\n",
    "norm_layer = layers.Rescaling(1./255)\n",
    "norm_ds = train_ds.map(lambda x, y: (norm_layer(x), y))\n",
    "image_batch, labels_batch = next(iter(norm_ds))\n",
    "\n",
    "num_classes = len(CLASS_NAMES)\n",
    "\n",
    "#training model\n",
    "model = Sequential([\n",
    "  layers.Conv2D(128, (3, 3), activation = 'relu', input_shape = (224, 224, 3)),\n",
    "  layers.MaxPooling2D(2, 2),\n",
    "  layers.Conv2D(128, (3, 3), activation = 'relu'),\n",
    "  layers.MaxPooling2D(2, 2),\n",
    "  layers.Conv2D(256, (3, 3), activation = 'relu'),\n",
    "  layers.MaxPooling2D(2, 2),\n",
    "  layers.Conv2D(256, (3, 3), activation = 'relu'),\n",
    "  layers.MaxPooling2D(2, 2),\n",
    "  layers.Conv2D(512, (3, 3), activation = 'relu'),\n",
    "  layers.MaxPooling2D(2, 2),\n",
    "  layers.Conv2D(512, (3, 3), activation = 'relu'),\n",
    "  layers.MaxPooling2D(2, 2),\n",
    "  layers.Flatten(),\n",
    "  layers.Dense(1024, activation = 'relu'),\n",
    "  layers.Dropout(0.25),\n",
    "  layers.Dense(num_classes, activation = 'softmax')\n",
    "])\n",
    "\n",
    "model.compile(optimizer = Adam(learning_rate = 0.0001, weight_decay = 1e-6), \n",
    "              loss = tf_keras.losses.SparseCategoricalCrossentropy(from_logits = True), \n",
    "              metrics = ['accuracy'])\n",
    "\n",
    "#no of epochs\n",
    "epochs = 100\n",
    "\n",
    "'''\n",
    "#early stopping\n",
    "early_stopping = tf_keras.callbacks.EarlyStopping(monitor = 'val_loss', \n",
    "                                                  mode = 'min', \n",
    "                                                  verbose = 1, \n",
    "                                                  patience = 8, \n",
    "                                                  restore_best_weights = True)\n",
    "'''\n",
    "\n",
    "#fitting of the model\n",
    "history = model.fit(train_ds, \n",
    "                    validation_data = validation_ds, \n",
    "                    epochs = epochs, \n",
    "                    #callbacks = [early_stopping]\n",
    "                    )\n",
    "\n",
    "#accuracy and loss values\n",
    "accuracy = history.history['accuracy']\n",
    "val_accuracy = history.history[('val_accuracy')]\n",
    "\n",
    "loss = history.history['loss']\n",
    "val_loss = history.history['val_loss']\n",
    "\n",
    "epochs_range = range(epochs)\n",
    "\n",
    "true_labels = []\n",
    "predicted_labels = []\n",
    "\n",
    "for images, labels in val_ds:\n",
    "  true_labels.extend(labels.numpy())\n",
    "  pred = model.predict(images)\n",
    "  predicted_labels.extend(np.argmax(pred, axis = 1))\n",
    "\n",
    "confusion_matrix = confusion_matrix(true_labels, predicted_labels)\n",
    "accuracy = accuracy_score(true_labels, predicted_labels)\n",
    "\n",
    "print('Confusion Matrix: ')\n",
    "plt.figure(figsize=(8, 8))\n",
    "sns.heatmap(confusion_matrix, annot = True, fmt = 'd', xticklabels = CLASS_NAMES, yticklabels = CLASS_NAMES, cmap = 'Blues')\n",
    "plt.xlabel('Predicted')\n",
    "plt.ylabel('True')\n",
    "plt.title('Confusion Matrix')\n",
    "\n",
    "print('Accuracy: ', accuracy)\n",
    "\n",
    "score = model.evaluate(validation_ds, verbose = 0)\n",
    "print('Test loss:', score[0])\n",
    "print('Test accuracy:', score[1])\n",
    "\n",
    "plt.figure(figsize = (8, 8))\n",
    "plt.subplot(1, 2, 1)\n",
    "plt.plot(accuracy, label = 'Training Accuracy')\n",
    "plt.plot(val_accuracy, label = 'Validation Accuracy')\n",
    "plt.legend(loc = 'lower right')\n",
    "plt.title('Training and Validation Accuracy')\n",
    "\n",
    "plt.subplot(1, 2, 2)\n",
    "plt.plot(loss, label = 'Training Loss')\n",
    "plt.plot(val_loss, label = 'Validation Loss')\n",
    "plt.legend(loc = 'upper right')\n",
    "plt.title('Training and Validation Loss')\n",
    "plt.show()"
   ]
  },
  {
   "cell_type": "code",
   "execution_count": null,
   "id": "39337066-76b3-410c-bb7c-ef1558d363c0",
   "metadata": {},
   "outputs": [],
   "source": [
    "#%%\n",
    "\n",
    "import tensorflow as tf\n",
    "import tf_keras\n",
    "import matplotlib.pyplot as plt\n",
    "import seaborn as sns\n",
    "import numpy as np\n",
    "from tf_keras import layers\n",
    "from tf_keras.models import Sequential\n",
    "from sklearn.metrics import confusion_matrix, accuracy_score\n",
    "from tf_keras.optimizers import Adam\n",
    "\n",
    "gpu_devices = tf.config.list_physical_devices('GPU')\n",
    "if gpu_devices:\n",
    "  tf.config.experimental.set_memory_growth(gpu_devices[0], True)\n",
    "  print('GPU found', gpu_devices[0])\n",
    "else:\n",
    "  print('No GPU found')\n",
    "\n",
    "#define image size\n",
    "IMG_SIZE = 224\n",
    "\n",
    "#define batch size\n",
    "BATCH_SIZE = 32\n",
    "\n",
    "#training and valdiation directories\n",
    "TRAINING_DIR = \"Train\"\n",
    "  \n",
    "#training split\n",
    "train_ds = tf_keras.utils.image_dataset_from_directory(\n",
    "  TRAINING_DIR,\n",
    "  labels = \"inferred\",\n",
    "  image_size = (IMG_SIZE, IMG_SIZE),\n",
    "  batch_size = BATCH_SIZE,\n",
    "  subset = \"training\",\n",
    "  validation_split = 0.2,\n",
    "  seed = 225\n",
    ")\n",
    "\n",
    "#validation split, taken directly from the same directory as train\n",
    "validation_ds = tf_keras.utils.image_dataset_from_directory(\n",
    "  TRAINING_DIR,\n",
    "  labels = \"inferred\",\n",
    "  image_size = (IMG_SIZE, IMG_SIZE),\n",
    "  batch_size = BATCH_SIZE,\n",
    "  subset = 'validation',\n",
    "  validation_split = 0.2,\n",
    "  seed = 225\n",
    ")\n",
    "\n",
    "CLASS_NAMES = train_ds.class_names\n",
    "\n",
    "data_augmentation = Sequential([\n",
    "  layers.experimental.preprocessing.RandomFlip('horizontal'),\n",
    "  layers.experimental.preprocessing.RandomRotation(0.2),\n",
    "  layers.experimental.preprocessing.RandomZoom(0.2) \n",
    "])\n",
    "\n",
    "def augment_images(image, label):\n",
    "  image = data_augmentation(image)\n",
    "  return image, label\n",
    "\n",
    "train_ds = train_ds.map(augment_images)\n",
    "\n",
    "AUTOTUNE = tf.data.AUTOTUNE\n",
    "train_ds = train_ds.prefetch(buffer_size = AUTOTUNE)\n",
    "val_ds = validation_ds.cache().prefetch(buffer_size = AUTOTUNE)\n",
    "\n",
    "norm_layer = layers.Rescaling(1./255)\n",
    "norm_ds = train_ds.map(lambda x, y: (norm_layer(x), y))\n",
    "image_batch, labels_batch = next(iter(norm_ds))\n",
    "\n",
    "num_classes = len(CLASS_NAMES)\n",
    "\n",
    "#training model\n",
    "model = Sequential([\n",
    "  layers.Conv2D(128, (3, 3), activation = 'relu', input_shape = (224, 224, 3)),\n",
    "  layers.MaxPooling2D(2, 2),\n",
    "  layers.Conv2D(128, (3, 3), activation = 'relu'),\n",
    "  layers.MaxPooling2D(2, 2),\n",
    "  layers.Conv2D(256, (3, 3), activation = 'relu'),\n",
    "  layers.MaxPooling2D(2, 2),\n",
    "  layers.Conv2D(256, (3, 3), activation = 'relu'),\n",
    "  layers.MaxPooling2D(2, 2),\n",
    "  layers.Conv2D(512, (3, 3), activation = 'relu'),\n",
    "  layers.MaxPooling2D(2, 2),\n",
    "  layers.Conv2D(512, (3, 3), activation = 'relu'),\n",
    "  layers.MaxPooling2D(2, 2),\n",
    "  layers.Flatten(),\n",
    "  layers.Dense(1024, activation = 'relu'),\n",
    "  layers.Dropout(0.25),\n",
    "  layers.Dense(num_classes, activation = 'softmax')\n",
    "])\n",
    "\n",
    "model.compile(optimizer = Adam(learning_rate = 0.0001, weight_decay = 1e-6), \n",
    "              loss = tf_keras.losses.SparseCategoricalCrossentropy(from_logits = True), \n",
    "              metrics = ['accuracy'])\n",
    "\n",
    "#no of epochs\n",
    "epochs = 100\n",
    "\n",
    "'''\n",
    "#early stopping\n",
    "early_stopping = tf_keras.callbacks.EarlyStopping(monitor = 'val_loss', \n",
    "                                                  mode = 'min', \n",
    "                                                  verbose = 1, \n",
    "                                                  patience = 8, \n",
    "                                                  restore_best_weights = True)\n",
    "'''\n",
    "\n",
    "#fitting of the model\n",
    "history = model.fit(train_ds, \n",
    "                    validation_data = validation_ds, \n",
    "                    epochs = epochs, \n",
    "                    #callbacks = [early_stopping]\n",
    "                    )\n",
    "\n",
    "#accuracy and loss values\n",
    "accuracy = history.history['accuracy']\n",
    "val_accuracy = history.history[('val_accuracy')]\n",
    "\n",
    "loss = history.history['loss']\n",
    "val_loss = history.history['val_loss']\n",
    "\n",
    "epochs_range = range(epochs)\n",
    "\n",
    "true_labels = []\n",
    "predicted_labels = []\n",
    "\n",
    "for images, labels in val_ds:\n",
    "  true_labels.extend(labels.numpy())\n",
    "  pred = model.predict(images)\n",
    "  predicted_labels.extend(np.argmax(pred, axis = 1))\n",
    "\n",
    "confusion_matrix = confusion_matrix(true_labels, predicted_labels)\n",
    "accuracy = accuracy_score(true_labels, predicted_labels)\n",
    "\n",
    "print('Confusion Matrix: ')\n",
    "plt.figure(figsize=(8, 8))\n",
    "sns.heatmap(confusion_matrix, annot = True, fmt = 'd', xticklabels = CLASS_NAMES, yticklabels = CLASS_NAMES, cmap = 'Blues')\n",
    "plt.xlabel('Predicted')\n",
    "plt.ylabel('True')\n",
    "plt.title('Confusion Matrix')\n",
    "\n",
    "print('Accuracy: ', accuracy)\n",
    "\n",
    "score = model.evaluate(validation_ds, verbose = 0)\n",
    "print('Test loss:', score[0])\n",
    "print('Test accuracy:', score[1])\n",
    "\n",
    "plt.figure(figsize = (8, 8))\n",
    "plt.subplot(1, 2, 1)\n",
    "plt.plot(accuracy, label = 'Training Accuracy')\n",
    "plt.plot(val_accuracy, label = 'Validation Accuracy')\n",
    "plt.legend(loc = 'lower right')\n",
    "plt.title('Training and Validation Accuracy')\n",
    "\n",
    "plt.subplot(1, 2, 2)\n",
    "plt.plot(loss, label = 'Training Loss')\n",
    "plt.plot(val_loss, label = 'Validation Loss')\n",
    "plt.legend(loc = 'upper right')\n",
    "plt.title('Training and Validation Loss')\n",
    "plt.show()"
   ]
  }
 ],
 "metadata": {
  "language_info": {
   "codemirror_mode": {
    "name": "ipython",
    "version": 3
   },
   "file_extension": ".py",
   "mimetype": "text/x-python",
   "name": "python",
   "nbconvert_exporter": "python",
   "pygments_lexer": "ipython3",
   "version": 3
  }
 },
 "nbformat": 4,
 "nbformat_minor": 2
}
