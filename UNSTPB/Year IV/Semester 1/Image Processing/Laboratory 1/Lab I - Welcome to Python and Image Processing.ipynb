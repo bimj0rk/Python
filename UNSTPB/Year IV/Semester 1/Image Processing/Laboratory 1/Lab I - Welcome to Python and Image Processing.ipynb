{
 "cells": [
  {
   "cell_type": "markdown",
   "metadata": {
    "deletable": false,
    "editable": false
   },
   "source": [
    "# Welcome to your first Image Processing Lab!\n",
    "## For this introductory session, we will review some of the basics of Python and some fundamental Image Processing notions.\n"
   ]
  },
  {
   "cell_type": "markdown",
   "metadata": {
    "deletable": false,
    "editable": false
   },
   "source": [
    "## <font color=blue>1. Python Basics</font>"
   ]
  },
  {
   "cell_type": "code",
   "execution_count": 1,
   "metadata": {},
   "outputs": [
    {
     "name": "stdout",
     "output_type": "stream",
     "text": [
      "7\n",
      "15.0\n",
      "10\n",
      "2.5\n",
      "2\n",
      "5.0\n",
      "This is a string\n"
     ]
    }
   ],
   "source": [
    "# Defining variables\n",
    "a = 5\n",
    "b = 2\n",
    "c = 10.0\n",
    "d = 'string'\n",
    "\n",
    "# Basic operations\n",
    "result1 = a+b\n",
    "print(result1)\n",
    "\n",
    "result2 = a+c\n",
    "print(result2)\n",
    "\n",
    "result3 = a*b\n",
    "print(result3)\n",
    "\n",
    "result4 = a/b\n",
    "print(result4)\n",
    "\n",
    "result5 = a//b\n",
    "print(result5)\n",
    "\n",
    "result6 = c/b\n",
    "print(result6)\n",
    "\n",
    "result_string = 'This is a ' + d\n",
    "print(result_string)\n",
    "\n",
    "# Data structures - lists\n",
    "l1 = [1,2,3,4]"
   ]
  },
  {
   "cell_type": "markdown",
   "metadata": {
    "deletable": false,
    "editable": false
   },
   "source": [
    "Conditionals and loops are essential in programming. One of Python's main targets is writing tidy code. It forces the user to indent every time he enters a block (conditional, loop, class definition, functions, etc.) and unindent when he wants to exit the block. Other than that, the syntax is easy to comprehend:\n"
   ]
  },
  {
   "cell_type": "code",
   "execution_count": null,
   "metadata": {},
   "outputs": [],
   "source": [
    "# If example\n",
    "a = 5\n",
    "if a > 4:\n",
    "    print('OK')\n",
    "else:\n",
    "    print('Not OK')\n",
    "\n",
    "# For loop example\n",
    "for i in range(5):\n",
    "    print(i)"
   ]
  },
  {
   "cell_type": "markdown",
   "metadata": {
    "deletable": false,
    "editable": false
   },
   "source": [
    "## <font color=blue>2. Additional libraries and special data structures</font>\n",
    "In order to process images, we will need some extra libraries. These are:<br><br> -  Numpy; this is the library of choice when it comes to scientific computing in Python. It allows us to create proper arrays and use linear algebra to manipulate them.<br> -   Scikit-image; an image processing library. We will use it for basic utility functions.<br> -   Matplotlib; a 2D plotting library; it will allow us to show images (more conveniently than Scikit-image) and plot graphs.\n",
    "We will need to get more in depth with Numpy, since it will be the most used library. Its base data structure (the numpy.array) is similar in appearance with the default Python lists. The main drawback of using lists is that regular linear algebra operations (add, subtract, multiply, divide, dot-product) are not defined on them.<br>The easiest way to illustrate how Numpy arrays work is to first consider the single dimension, vector, case."
   ]
  },
  {
   "cell_type": "code",
   "execution_count": null,
   "metadata": {},
   "outputs": [],
   "source": [
    "# We need to import the libraries in order to use them\n",
    "import numpy as np\n",
    "from skimage import io,util,color #io, util and color are modules in the skimage package\n",
    "import matplotlib.pyplot as plt\n",
    "\n",
    "# Special data strucutres - Numpy arrays\n",
    "# Let's define our vector, 'vect', and apply some basic operations on it\n",
    "vect = np.array([1,2,3,4])\n",
    "print('vect = ',vect)\n",
    "\n",
    "# Addition of a scalar (similar for subtraction)\n",
    "add_vect = vect + 1\n",
    "\n",
    "print('Addition of a scalar\\n{} + 1 = '.format(vect),add_vect)\n",
    "\n",
    "# Multiplication by a scalar value (similar for division)\n",
    "mult_vect = vect * 3.5\n",
    "print('Multiplication by a scalar value\\n{} * 3.5 = '.format(vect),mult_vect)\n",
    "\n",
    "# Numpy allows us to broadcast operations on the entirety of the vector. \n",
    "# Let's see how this works by first creating a second (same-sized) vector\n",
    "vect_2 = np.array([11,12,13,14])\n",
    "print('vect_2 = ',vect_2)\n",
    "\n",
    "# Addition of a second vector\n",
    "add_vect = vect + vect_2\n",
    "print('Addition of a second vector\\n{} + {} = '.format(vect,vect_2),add_vect)\n",
    "\n",
    "# Multiplication of two same-sized vectors\n",
    "mult_vect = vect * vect_2\n",
    "print('Multiplication of two same-sized vectors\\n{} * {} = '.format(vect,vect_2),mult_vect) \n",
    "# We can see that multiplying two vectors leads to a element-wise multiplication\n",
    "\n",
    "# Numpy allows us to compute the dot product (inner product) of two arrays\n",
    "dot_prod = np.dot(vect,vect_2)\n",
    "print('Dot product of two vectors\\n{} .* {} = '.format(vect,vect_2),dot_prod)\n"
   ]
  },
  {
   "cell_type": "markdown",
   "metadata": {
    "deletable": false,
    "editable": false
   },
   "source": [
    "Now that the basics are highlighted, the discussion will be extended to the 2D case (matrices):"
   ]
  },
  {
   "cell_type": "code",
   "execution_count": null,
   "metadata": {},
   "outputs": [],
   "source": [
    "# Import numpy\n",
    "import numpy as np\n",
    "\n",
    "#First, define the matrix\n",
    "mat = np.array([[1,2,3],[4,5,6],[7,8,9]])\n",
    "print(\"mat =\\n\",mat)\n",
    "\n",
    "# The same scalar operations we used for vectors can be applied to a matrix\n",
    "add_mat = mat + 1\n",
    "mult_mat = mat * 2\n",
    "print('Addition\\n{} + 1 = \\n'.format(mat),add_mat)\n",
    "print('Multiplication\\n{} * 2 = \\n'.format(mat),mult_mat)\n",
    "\n",
    "# When adding/multiplying two matrices, the result is a element-wise addition/multiplication.\n",
    "# However, the dot product operation leads to a matrix multiplication.\n",
    "mat2 = np.array([[1,1,1],[2,2,2],[3,3,3]])\n",
    "dot_prod = np.dot(mat,mat2)\n",
    "print('Dot product(matrix multiplication) of two matrices:\\n{}.*\\n{} = \\n'.format(mat,mat2),dot_prod)\n",
    "\n",
    "print(mat*mat2)"
   ]
  },
  {
   "cell_type": "markdown",
   "metadata": {
    "deletable": false,
    "editable": false
   },
   "source": [
    "Sometimes, the programmer needs to acces only certain elements of an array. What needs to be remembered is that indexing starts from 0! Also, when specifying an interval, the value following the colon (:) is not included. These rules can be applied to lists as well, not only Numpy arrays.<br>Here are some examples of accesing data from an array:"
   ]
  },
  {
   "cell_type": "code",
   "execution_count": null,
   "metadata": {},
   "outputs": [],
   "source": [
    "# Import numpy\n",
    "import numpy as np\n",
    "\n",
    "mat = np.array([[1,2,3],[4,5,6],[7,8,9]])\n",
    "# Get the value from the second row, second column (5):\n",
    "print(mat[1,1]) # idexing starts from 0\n",
    "\n",
    "# Get the values from the last two rows and columns (5,6,8,9)\n",
    "print(mat[1:3,1:3]) # notice that the value following the colon (:) is not included in the interval\n",
    "\n",
    "# Get all the values from the first row\n",
    "print(mat[0,:])"
   ]
  },
  {
   "cell_type": "markdown",
   "metadata": {
    "deletable": false,
    "editable": false
   },
   "source": [
    "In certain situations, we need to alter all values which meet a certain requirement. It is not necessary to loop the whole array, if we use numpy indexing. Let's see it at work:"
   ]
  },
  {
   "cell_type": "code",
   "execution_count": null,
   "metadata": {
    "scrolled": true
   },
   "outputs": [],
   "source": [
    "# Import numpy\n",
    "import numpy as np\n",
    "\n",
    "mat = np.array([[1,2,3],[4,5,6],[7,8,9]])\n",
    "mat[mat >= 5] = 0\n",
    "print(mat)"
   ]
  },
  {
   "cell_type": "markdown",
   "metadata": {},
   "source": [
    "Other useful functions and methods from Numpy:"
   ]
  },
  {
   "cell_type": "code",
   "execution_count": null,
   "metadata": {},
   "outputs": [],
   "source": [
    "import numpy as np\n",
    "\n",
    "# initializing an array\n",
    "vect = np.array ( [ 0, 1, 2, 3, 4 ] )\n",
    "print(vect)\n",
    "print(type(vect))\n",
    "print(vect.dtype)\n",
    "# Minimum/maximum values\n",
    "print(vect.max())\n",
    "print(vect.min())\n",
    "# Initializing a 2x2 matrix with only 0s inside\n",
    "#mat = np.zeros([2, 2])\n",
    "mat = np.ones([10, 5])\n",
    "\n",
    "print(mat)"
   ]
  },
  {
   "cell_type": "markdown",
   "metadata": {},
   "source": [
    "In Python you can go through a matrix row by row (instead of element by element). For example:"
   ]
  },
  {
   "cell_type": "code",
   "execution_count": null,
   "metadata": {},
   "outputs": [],
   "source": [
    "v1 = np.array([ [2, 2, 2], [3, 3, 3], [1, 5, 5] ] )\n",
    "print(v1)\n",
    "print('\\n')\n",
    "# i is a row in the matrix\n",
    "for i in v1:\n",
    "    print(i)\n",
    "    print('next')"
   ]
  },
  {
   "cell_type": "markdown",
   "metadata": {
    "deletable": false,
    "editable": false
   },
   "source": [
    "## <font color=blue>3. Image Processing basics</font>\n",
    "Before starting to study image processing algorithms, some basic concepts must be discussed. A colour image is a *3D array* (rows, columns, channels) containing the <font color=red>Red</font>, <font color=green>Green</font> and <font color=blue>Blue</font> channel values which form each individual pixel.<img src=\"lena.png\"><br> However, we will work on the simplified version of *grayscale* images, (rows and columns only, where <font color=red>Red</font>=<font color=green>Green</font>=<font color=blue>Blue</font>).<br>Image display functions are able to correctly show truecolor image. Grayscale images are treated as *indexed images*. An indexed image consists of an array of values, where each value points to a row in a *colormap*.<br>The colormap is an array with 3 columns, representing the quantities of red, green and blue which make up the color of a pixel.\n",
    "Let's create and view our own indexed image; note that we import the *matplotlib* library and the *pyplot* submodule separately. It is not necessary, but in most of our labs, we will only need *pyplot*:"
   ]
  },
  {
   "cell_type": "code",
   "execution_count": 1,
   "metadata": {},
   "outputs": [
    {
     "data": {
      "text/plain": [
       "(<Figure size 640x480 with 2 Axes>,\n",
       " <matplotlib.image.AxesImage at 0x107f67910>,\n",
       " <matplotlib.colorbar.Colorbar at 0x107fe6190>)"
      ]
     },
     "execution_count": 1,
     "metadata": {},
     "output_type": "execute_result"
    },
    {
     "data": {
      "image/png": "[encoded data removed]",
      "text/plain": [
       "<Figure size 640x480 with 2 Axes>"
      ]
     },
     "metadata": {},
     "output_type": "display_data"
    },
    {
     "data": {
      "image/png": "[encoded data removed]",
      "text/plain": [
       "<Figure size 640x480 with 2 Axes>"
      ]
     },
     "metadata": {},
     "output_type": "display_data"
    }
   ],
   "source": [
    "# Import numpy and matplotlib\n",
    "import numpy as np\n",
    "import matplotlib.pyplot as plt\n",
    "import matplotlib as mpl\n",
    "\n",
    "# Our image\n",
    "img = np.array([[0,1,2],[2,0,1]])\n",
    "\n",
    "# Our custom colormap\n",
    "colormap = np.array([[0.0,0.0,0.0],[0.0,1.0,0.0],[0.5,0.0,0.0]])\n",
    "colormap = mpl.colors.ListedColormap(colormap)\n",
    "\n",
    "# imshow looks in the image matrix, gets the minimum and maximum values\n",
    "# and divides the range of values between minimum and maximum in subintervals. \n",
    "# The number of subintervals is equal to the number of colors in the colormap.\n",
    "# A color is assigned to each subinterval - see the colorbar\n",
    "plt.figure(), plt.imshow(img, cmap=colormap), plt.colorbar()\n",
    "\n",
    "# with vmin and vmax, the user can set the minimum and maximul values used by imshow\n",
    "plt.figure(), plt.imshow(img, cmap=colormap, vmin=0, vmax = 6), plt.colorbar()"
   ]
  },
  {
   "cell_type": "markdown",
   "metadata": {
    "deletable": false,
    "editable": false
   },
   "source": [
    "Feel free to alter the values and see how the colours change"
   ]
  },
  {
   "cell_type": "markdown",
   "metadata": {
    "deletable": false,
    "editable": false
   },
   "source": [
    "The next step is to read an image, convert it to grayscale and display it. The colormap used for grayscale images is called, intuitively, \"gray\".<br>If we look at the data type of the original image and the grayscale one, we will see that it changes from *uint8* to *float64*. "
   ]
  },
  {
   "cell_type": "code",
   "execution_count": null,
   "metadata": {},
   "outputs": [],
   "source": [
    "# Import skimage and matplotlib\n",
    "from skimage import io,color\n",
    "import matplotlib.pyplot as plt\n",
    "\n",
    "# Image loading\n",
    "img_orig = io.imread('lena.png')\n",
    "\n",
    "# Data type of the original image\n",
    "print('The original image type is:', img_orig.dtype)\n",
    "print('The shape of the original image is:', img_orig.shape, '\\n')\n",
    "\n",
    "# Displaying the original image\n",
    "plt.figure(), plt.imshow(img_orig)\n",
    "\n",
    "# Grayscale conversion\n",
    "img = color.rgb2gray(img_orig)\n",
    "\n",
    "# Data type of the grayscale image\n",
    "print('The grayscale image type us:',img.dtype)\n",
    "print('The shape of the grayscale image is:', img.shape)\n",
    "\n",
    "# Displaying the grayscale image\n",
    "plt.figure(),plt.imshow(img,cmap='gray'), plt.colorbar()\n",
    "\n",
    "print(img.max())\n",
    "print(img.min())\n",
    "\n",
    "# how is the matching done between the float numbers in [0, 1] range and the rows from the colormap? "
   ]
  },
  {
   "cell_type": "markdown",
   "metadata": {
    "deletable": false,
    "editable": false
   },
   "source": [
    "## <font color=blue>4. Exercises</font>\n",
    "4.a) Create a 128 x 128 pixel image and its corresponding colormap with colours which range from black to pure red (the column has the same colour from top to bottom)."
   ]
  },
  {
   "cell_type": "code",
   "execution_count": null,
   "metadata": {},
   "outputs": [],
   "source": [
    "# Import matplotlib, pyplot (separate from matplotlib, since that is the way we will use it), and numpy\n",
    "import numpy as np\n",
    "import matplotlib as mpl\n",
    "import matplotlib.pyplot as plt\n",
    "\n",
    "# How to create an array filled with zeros\n",
    "img = np.zeros([128,128])\n",
    "colormap = np.zeros([128,3])\n",
    "\n",
    "# Create the image here\n",
    "    \n",
    "# Create the colormap here\n",
    "\n",
    "# Display the image\n"
   ]
  },
  {
   "cell_type": "markdown",
   "metadata": {
    "deletable": false,
    "editable": false
   },
   "source": [
    "4.b) Create a 256 x 256 pixel image and its corresponding colormap with colours which range from black to pure red and then to magenta (red + blue)."
   ]
  },
  {
   "cell_type": "code",
   "execution_count": null,
   "metadata": {},
   "outputs": [],
   "source": [
    "# Import relevant libraries\n",
    "\n",
    "# Create the empty array\n",
    "\n",
    "# Create the image here\n",
    "\n",
    "# Create the colormap here\n",
    "\n",
    "# Display the image\n"
   ]
  },
  {
   "cell_type": "code",
   "execution_count": null,
   "metadata": {},
   "outputs": [],
   "source": []
  }
 ],
 "metadata": {
  "celltoolbar": "Edit Metadata",
  "kernelspec": {
   "display_name": "Python 3",
   "language": "python",
   "name": "python3"
  },
  "language_info": {
   "codemirror_mode": {
    "name": "ipython",
    "version": 3
   },
   "file_extension": ".py",
   "mimetype": "text/x-python",
   "name": "python",
   "nbconvert_exporter": "python",
   "pygments_lexer": "ipython3",
   "version": "3.11.3"
  }
 },
 "nbformat": 4,
 "nbformat_minor": 2
}
