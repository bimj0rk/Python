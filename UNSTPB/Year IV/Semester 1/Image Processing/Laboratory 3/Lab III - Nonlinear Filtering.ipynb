{
 "cells": [
  {
   "cell_type": "markdown",
   "metadata": {},
   "source": [
    "# Image processing\n",
    "# Lab III - Neighbourhood operations. Nonlinear Filtering"
   ]
  },
  {
   "cell_type": "markdown",
   "metadata": {},
   "source": [
    "## 1. Nonlinear filters. Rank-order filters\n",
    "The previous lab tackled the general aspects of neighbourhood operations and linear filtering, as an example. That particular kind of filter is suited in some denoising tasks. <b>In case an image is affected by Gaussian (normal) noise, it can be improved by applying a filter that averages the values in each neighbourhood.</b> Nonlinear filters are a class of filters where the output of the filter <b>is not a linear combination of other pixels.</b>\n",
    "\n",
    "For different types of noise, linear filtering is not adequate. A different kind of noise is the <i>impulsive</i> noise (also called \"salt and pepper\" noise). This kind of noise affects only some pixels in the image, but completely corrupts the values of the pixels, by making them black (0) or white(1 or 255, depending if the image is scaled or not).\n",
    "<img src=\"media/sp_lena.png\"><center>Example of an image affected by impulsive noise</center>\n",
    "\n",
    "In this case, the use of an average filter would only spread the noise to other pixels. For problems like these, a class of nonlinear filters called rank-order filters are best suited to solve the issue. This class of filters does not combine the values in the neighbourhood, instead selecting just one of the values in the neighbourhood using a certain criterion."
   ]
  },
  {
   "cell_type": "markdown",
   "metadata": {},
   "source": [
    "## 2. Algorithm and different types of rank-order filters\n",
    "As was previously stated, rank-order filters select just one of the values of the neighbourhood, based on a decision process.  The main idea is to sort the values in the neighbourhood and pick the position needed to get the best suited pixel for our task. From the point of view of what value is selected, some examples of rank-order filters are:\n",
    " - min-filter, which selects the lowest value in the neighbourhood;\n",
    " - max-filter, which selects the highest value in the neighbourhood;\n",
    " - median filter, which selects the middle value.\n",
    " \n",
    "The algorithm for the median filter is the following:\n",
    " - select pixel and neighbourhood\n",
    " - sort the pixels in the neighbourhood in an ascending order;\n",
    " - the value of the pixel in the output image is the one in the middle of the sorted vector of values (the fifth one, if the neighbourhood is 3x3);\n",
    " - repeat for every pixel (neigbhourhood) in the image.\n",
    " \n",
    "<img src=\"media/median_filter.png\"><center>Example of using the median filer on a neighbourhood</center>"
   ]
  },
  {
   "cell_type": "markdown",
   "metadata": {},
   "source": [
    "### Exercise 1. Read an image (and convert it to grayscale). Add salt and pepper noise to the image. Apply the median filter to the image. Show the original noisy image, and the filtered one.\n",
    "\n",
    "In order to add salt and pepper noise to a image we need an extra module from scikit-image, so change the import accordingly:\n",
    "```python\n",
    "from skimage import io,util,color\n",
    "```\n",
    "To add the noise, add this <b>just after you convert the image to grayscale</b>:\n",
    "```python\n",
    "img = util.random_noise(img,'s&p')\n",
    "img = img * 255 # We still want to scale the values to 0...255\n",
    "```\n",
    "\n",
    "To sort in an ascending order the values of a matrix ```N```  into a vector, use numpy:\n",
    "```python\n",
    "N = np.sort(N,None)\n",
    "```"
   ]
  },
  {
   "cell_type": "code",
   "execution_count": null,
   "metadata": {},
   "outputs": [],
   "source": [
    "from skimage import io, color, util\n",
    "import numpy as np\n",
    "import matplotlib.pyplot as plt\n",
    "\n",
    "plt.close('all')\n",
    "\n",
    "img = io.imread('lena.png')\n",
    "\n",
    "img = color.rgb2gray(img)\n",
    "print(img.dtype)\n",
    "\n",
    "img = np.uint8(img*256)\n",
    "\n",
    "plt.figure(), plt.imshow(img, cmap='gray', vmin=0, vmax=256), plt.colorbar() #original image in B&W\n",
    "\n",
    "img_n = util.random_noise(img, 's&p', amount = 0.05)\n",
    "\n",
    "print(img_n.dtype)\n",
    "print(img_n.shape)\n",
    "\n",
    "img_n = np.round(img_n*256)\n",
    "\n",
    "print(img_n.dtype)\n",
    "\n",
    "plt.figure(), plt.imshow(img_n, cmap='gray'), plt.colorbar()\n",
    "\n",
    "h,w, = img.shape\n",
    "\n",
    "img_f = img.copy()\n",
    "\n",
    "for i in range(1, h-1):\n",
    "    for j in range(1, w-1):\n",
    "        V = img_n[i-1:i+2, j-1:j+2]\n",
    "        V = np.sort(V, axis=None)\n",
    "        img_f[i,j]=V[4]\n",
    "\n",
    "plt.figure(), plt.imshow(img_f, cmap='gray', vmin=0, vmax=256, label='Filter N'), plt.colorbar()\n",
    "        \n",
    "mask=np.ones([3,3])/9\n",
    "\n",
    "img_f1 = img.copy()\n",
    "\n",
    "for i in range(1, h-1):\n",
    "    for j in range(1, w-1):\n",
    "        V = img_n[i-1:i+2, j-1:j+2]\n",
    "        V = V*mask\n",
    "        img_f1[i,j]=np.sum(V)\n",
    "        \n",
    "plt.figure(), plt.imshow(img_f1, cmap='gray', vmin=0, vmax=256, label= 'Filter L'), \n",
    "plt.colorbar()\n",
    "\n",
    "def MSE(original, processed):\n",
    "    mse = np.sum(processed[1:h-1, 1:w-1] - original[1:h-1, 1:w-1])**2\n",
    "    mse = mse/10**14\n",
    "    return mse\n",
    "\n",
    "mse_arithmetic = MSE(img, img_f)\n",
    "mse_weighted = MSE(img, img_f1)\n",
    "print(f\"MSE for nonlinear filter: {mse_arithmetic}\")\n",
    "print(f\"MSE for linear filter: {mse_weighted}\")"
   ]
  },
  {
   "cell_type": "markdown",
   "metadata": {},
   "source": [
    "### Exercise 2. Try to select different positions from the sorted vector (max, min, or other values between them) and see the how that impacts the noisy image. Test them on the original image (no noise) as well."
   ]
  },
  {
   "cell_type": "code",
   "execution_count": null,
   "metadata": {},
   "outputs": [],
   "source": []
  },
  {
   "cell_type": "markdown",
   "metadata": {},
   "source": [
    "## RECAP (IMPORTANT)!!!\n",
    "We have studied two types of noise:\n",
    " - Gaussian, which is aditive (the values of a gaussian distribution are added to the image). We studied it in the second lab, and to filter it, we need an average filter (linear filtering).\n",
    " <img src=\"media/gauss_lena.png\">\n",
    " - Impulsive (salt and pepper), which corrupts the values of some pixels to extreme values. We studied it today, and to filter it, we need a median filter (nonlinear filtering).\n",
    " <img src=\"media/sp_lena.png\">"
   ]
  }
 ],
 "metadata": {
  "kernelspec": {
   "display_name": "Python 3",
   "language": "python",
   "name": "python3"
  },
  "language_info": {
   "codemirror_mode": {
    "name": "ipython",
    "version": 3
   },
   "file_extension": ".py",
   "mimetype": "text/x-python",
   "name": "python",
   "nbconvert_exporter": "python",
   "pygments_lexer": "ipython3",
   "version": "3.6.6"
  }
 },
 "nbformat": 4,
 "nbformat_minor": 2
}
