{
 "cells": [
  {
   "cell_type": "markdown",
   "metadata": {},
   "source": [
    "# Image processing\n",
    "# Lab IV - Image segmentation"
   ]
  },
  {
   "cell_type": "markdown",
   "metadata": {},
   "source": [
    "## 1. Introduction\n",
    "During the previous labs and lectures, some basic image processing tasks have been presented: enhancements, filtering, etc. Another crucial task is image segmentation. This is the process in which an algorithm is used to find objects of interest in images.\n",
    "\n",
    "There are multiple ways to segment images, however the focus of this lab will be histogram-based segmentation.\n",
    "\n",
    "## 2. Histograms\n",
    "The simplest definition of a histogram is that it is a function which shows how often each grayscale value appears in an image.\n",
    "\n",
    "<img src=\"media/hist.png\"><center>A grayscale image and its histogram</center>\n",
    "\n",
    "Since the histogram counts how many times a value is repeated, the spatial arrangements are not visible in it. Both images in the next figure have the same histogram.\n",
    "<img  src=\"media/hist2.png\"><center>Example of images with the same histogram</center>\n",
    "\n",
    "In order to use histogram segmentation the objects and the background need to have different grayscale values. After the histogram is displayed, a set of thresholds need to be decided in order to separate the objects and background.\n",
    "<img src=\"media/levels.png\"><center>The correspondence between different objects of an image and the background.</center>\n",
    "\n",
    "## 3. Algorithm\n",
    "The steps needed to segment an image based on its histogram are the following:\n",
    " - Read the image\n",
    " - Convert it to grayscale (the values are now between 0 and 1)\n",
    " - Scale the values to be between 0 and 255\n",
    " - View the image\n",
    " - Compute the histogram with\n",
    " ```python\n",
    "hist,_ = np.histogram(img,range(0,256))```\n",
    " - Display the histogram using the plot function of matplotlib\n",
    " ```python\n",
    "plt.figure(figsize=(10,10)),plt.plot(hist)```\n",
    " - Decide the thresholds\n",
    " - Create a blank image\n",
    "```python\n",
    "out = np.zeros(img.shape)```\n",
    " - Separate between objects and background:\n",
    "     - pixels with values lower than $T_a$ belong to the background and are given the value 0\n",
    "     for this part, use numpy indexing to go faster\n",
    "     ```python\n",
    "out[img<Ta] = 0\n",
    "```\n",
    "     - pixels between thresholds $T_a$ and $T_b$ belong to object \"A\" and are given the value 1, etc.\n",
    "     for multiple conditions, use ```np.logical_and(X,Y)```\n",
    "     ```python\n",
    "out[np.logical_and(img>=Ta, img<Tb)] = 1\n",
    "```\n",
    " - View the new image\n",
    "\n",
    "## 4. Drawbacks\n",
    " Even though it is effective this algorithm is not perfect. The method is fully manual: the user needs to look at the histogram and decide the thresholds and number of objects (there are algorithms which fix this). Also, if the objects have similar grayscale values as the background, they cannot be differentiated."
   ]
  },
  {
   "cell_type": "markdown",
   "metadata": {},
   "source": [
    "### Exercise 1: Write an algorithm to segment \"tst2.bmp\" using histogram segmentation."
   ]
  },
  {
   "cell_type": "code",
   "execution_count": null,
   "metadata": {},
   "outputs": [],
   "source": []
  },
  {
   "cell_type": "markdown",
   "metadata": {},
   "source": [
    "### Exercise 2: Add gaussian noise to \"tst2.bmp\" of different intensities and segment it.\n",
    "Hint: a fast way to add noise to an image is to use scikit image\n",
    "```python\n",
    "from skimage import io,color,util\n",
    "# other code\n",
    "noisy_img = util.random_noise(img,mean=0,var=3)\n",
    "```\n",
    "To change the intensity of the noise change the ```var``` argument.\n"
   ]
  },
  {
   "cell_type": "code",
   "execution_count": null,
   "metadata": {},
   "outputs": [],
   "source": []
  },
  {
   "cell_type": "markdown",
   "metadata": {},
   "source": [
    "### Exercise 3: Add gaussian noise to \"tst1.bmp\" and segment it. What solutions are there for the faulty segmentation?"
   ]
  },
  {
   "cell_type": "code",
   "execution_count": null,
   "metadata": {},
   "outputs": [],
   "source": []
  }
 ],
 "metadata": {
  "kernelspec": {
   "display_name": "Python 3 (ipykernel)",
   "language": "python",
   "name": "python3"
  },
  "language_info": {
   "codemirror_mode": {
    "name": "ipython",
    "version": 3
   },
   "file_extension": ".py",
   "mimetype": "text/x-python",
   "name": "python",
   "nbconvert_exporter": "python",
   "pygments_lexer": "ipython3",
   "version": "3.9.12"
  }
 },
 "nbformat": 4,
 "nbformat_minor": 2
}
